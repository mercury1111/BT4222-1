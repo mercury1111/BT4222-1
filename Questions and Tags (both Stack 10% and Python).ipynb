{
 "cells": [
  {
   "cell_type": "markdown",
   "metadata": {},
   "source": [
    "# Below are done for StackOverflow 10% Sample"
   ]
  },
  {
   "cell_type": "markdown",
   "metadata": {},
   "source": [
    "# Import and prepare data"
   ]
  },
  {
   "cell_type": "code",
   "execution_count": 1,
   "metadata": {
    "collapsed": true
   },
   "outputs": [],
   "source": [
    "import pandas as pd\n",
    "from datetime import datetime"
   ]
  },
  {
   "cell_type": "code",
   "execution_count": 2,
   "metadata": {
    "collapsed": false
   },
   "outputs": [],
   "source": [
    "stackSampleTags = pd.read_csv('sampleTags.csv', encoding='latin1')"
   ]
  },
  {
   "cell_type": "code",
   "execution_count": 3,
   "metadata": {
    "collapsed": false
   },
   "outputs": [],
   "source": [
    "stackSampleTags.rename(columns={'Id':'QuestionId', 'Tag':'QuestTags'}, inplace=True)"
   ]
  },
  {
   "cell_type": "code",
   "execution_count": 4,
   "metadata": {
    "collapsed": true
   },
   "outputs": [],
   "source": [
    "stackSampleQuestions = pd.read_csv('SampleQuestions.csv', encoding='latin1')"
   ]
  },
  {
   "cell_type": "code",
   "execution_count": 5,
   "metadata": {
    "collapsed": true
   },
   "outputs": [],
   "source": [
    "stackSampleQuestions.rename(columns={'Id':'QuestionId', 'OwnerUserId':'QuestUserId', 'CreationDate':'QuestCreationDate', 'ClosedDate':'QuestClosedDate', 'Score':'QuestScore', 'Body':'QuestBody', 'Title':'QuestTitle'}, inplace=True)"
   ]
  },
  {
   "cell_type": "code",
   "execution_count": 6,
   "metadata": {
    "collapsed": false
   },
   "outputs": [],
   "source": [
    "stackSampleQuestions[\"QuestCreationDate\"] = pd.to_datetime(stackSampleQuestions[\"QuestCreationDate\"])"
   ]
  },
  {
   "cell_type": "code",
   "execution_count": 7,
   "metadata": {
    "collapsed": false
   },
   "outputs": [],
   "source": [
    "mask4 = (stackSampleQuestions['QuestCreationDate'] >= datetime.strptime('2008-10-15', '%Y-%m-%d')) & (stackSampleQuestions['QuestCreationDate'] <= datetime.strptime('2016-10-12', '%Y-%m-%d'))"
   ]
  },
  {
   "cell_type": "code",
   "execution_count": 8,
   "metadata": {
    "collapsed": false
   },
   "outputs": [],
   "source": [
    "stackSampleQuestions = stackSampleQuestions.loc[mask4]"
   ]
  },
  {
   "cell_type": "code",
   "execution_count": 9,
   "metadata": {
    "collapsed": true
   },
   "outputs": [],
   "source": [
    "stackSampleQuestions = stackSampleQuestions[stackSampleQuestions['QuestClosedDate'].isnull()]"
   ]
  },
  {
   "cell_type": "code",
   "execution_count": 10,
   "metadata": {
    "collapsed": false
   },
   "outputs": [],
   "source": [
    "stackQuestionsTags = pd.merge(stackSampleQuestions, stackSampleTags, on='QuestionId')"
   ]
  },
  {
   "cell_type": "code",
   "execution_count": 11,
   "metadata": {
    "collapsed": true
   },
   "outputs": [],
   "source": [
    "stackQuestionsTags = stackQuestionsTags.copy()"
   ]
  },
  {
   "cell_type": "code",
   "execution_count": 12,
   "metadata": {
    "collapsed": false
   },
   "outputs": [],
   "source": [
    "stackQuestionsTags.ix[(stackQuestionsTags['QuestCreationDate'] >= datetime.strptime('2008-10-15', '%Y-%m-%d')) & (stackQuestionsTags['QuestCreationDate'] < datetime.strptime('2009-10-15', '%Y-%m-%d')), 'QuestCreationYear'] = \"Oct'08-09\"\n",
    "stackQuestionsTags.ix[(stackQuestionsTags['QuestCreationDate'] >= datetime.strptime('2009-10-15', '%Y-%m-%d')) & (stackQuestionsTags['QuestCreationDate'] < datetime.strptime('2010-10-15', '%Y-%m-%d')), 'QuestCreationYear'] = \"Oct'09-10\"\n",
    "stackQuestionsTags.ix[(stackQuestionsTags['QuestCreationDate'] >= datetime.strptime('2010-10-15', '%Y-%m-%d')) & (stackQuestionsTags['QuestCreationDate'] < datetime.strptime('2011-10-15', '%Y-%m-%d')), 'QuestCreationYear'] = \"Oct'10-11\"\n",
    "stackQuestionsTags.ix[(stackQuestionsTags['QuestCreationDate'] >= datetime.strptime('2011-10-15', '%Y-%m-%d')) & (stackQuestionsTags['QuestCreationDate'] < datetime.strptime('2012-10-15', '%Y-%m-%d')), 'QuestCreationYear'] = \"Oct'11-12\"\n",
    "stackQuestionsTags.ix[(stackQuestionsTags['QuestCreationDate'] >= datetime.strptime('2012-10-15', '%Y-%m-%d')) & (stackQuestionsTags['QuestCreationDate'] < datetime.strptime('2013-10-15', '%Y-%m-%d')), 'QuestCreationYear'] = \"Oct'12-13\"\n",
    "stackQuestionsTags.ix[(stackQuestionsTags['QuestCreationDate'] >= datetime.strptime('2013-10-15', '%Y-%m-%d')) & (stackQuestionsTags['QuestCreationDate'] < datetime.strptime('2014-10-15', '%Y-%m-%d')), 'QuestCreationYear'] = \"Oct'13-14\"\n",
    "stackQuestionsTags.ix[(stackQuestionsTags['QuestCreationDate'] >= datetime.strptime('2014-10-15', '%Y-%m-%d')) & (stackQuestionsTags['QuestCreationDate'] < datetime.strptime('2015-10-15', '%Y-%m-%d')), 'QuestCreationYear'] = \"Oct'14-15\"\n",
    "stackQuestionsTags.ix[(stackQuestionsTags['QuestCreationDate'] >= datetime.strptime('2015-10-15', '%Y-%m-%d')) & (stackQuestionsTags['QuestCreationDate'] < datetime.strptime('2016-10-15', '%Y-%m-%d')), 'QuestCreationYear'] = \"Oct'15-16\""
   ]
  },
  {
   "cell_type": "code",
   "execution_count": 13,
   "metadata": {
    "collapsed": false
   },
   "outputs": [],
   "source": [
    "stackQuestionsTags.rename(columns={'Tag':'QuestTags'}, inplace=True)"
   ]
  },
  {
   "cell_type": "code",
   "execution_count": 14,
   "metadata": {
    "collapsed": false
   },
   "outputs": [
    {
     "data": {
      "text/html": [
       "<div>\n",
       "<table border=\"1\" class=\"dataframe\">\n",
       "  <thead>\n",
       "    <tr style=\"text-align: right;\">\n",
       "      <th></th>\n",
       "      <th>QuestionId</th>\n",
       "      <th>QuestUserId</th>\n",
       "      <th>QuestCreationDate</th>\n",
       "      <th>QuestClosedDate</th>\n",
       "      <th>QuestScore</th>\n",
       "      <th>QuestTitle</th>\n",
       "      <th>QuestBody</th>\n",
       "      <th>QuestTags</th>\n",
       "      <th>QuestCreationYear</th>\n",
       "    </tr>\n",
       "  </thead>\n",
       "  <tbody>\n",
       "    <tr>\n",
       "      <th>0</th>\n",
       "      <td>203340</td>\n",
       "      <td>27580.0</td>\n",
       "      <td>2008-10-15 00:35:54</td>\n",
       "      <td>NaN</td>\n",
       "      <td>32</td>\n",
       "      <td>JQuery: Current, Well-Formatted, Printable Doc...</td>\n",
       "      <td>&lt;p&gt;I'm looking for a current (1.2), well-forma...</td>\n",
       "      <td>jquery</td>\n",
       "      <td>Oct'08-09</td>\n",
       "    </tr>\n",
       "    <tr>\n",
       "      <th>1</th>\n",
       "      <td>203520</td>\n",
       "      <td>5496.0</td>\n",
       "      <td>2008-10-15 02:19:28</td>\n",
       "      <td>NaN</td>\n",
       "      <td>2</td>\n",
       "      <td>How do I discriminate between data binding and...</td>\n",
       "      <td>&lt;p&gt;I have what must be a typical catch-22 prob...</td>\n",
       "      <td>.net</td>\n",
       "      <td>Oct'08-09</td>\n",
       "    </tr>\n",
       "    <tr>\n",
       "      <th>2</th>\n",
       "      <td>203520</td>\n",
       "      <td>5496.0</td>\n",
       "      <td>2008-10-15 02:19:28</td>\n",
       "      <td>NaN</td>\n",
       "      <td>2</td>\n",
       "      <td>How do I discriminate between data binding and...</td>\n",
       "      <td>&lt;p&gt;I have what must be a typical catch-22 prob...</td>\n",
       "      <td>winforms</td>\n",
       "      <td>Oct'08-09</td>\n",
       "    </tr>\n",
       "    <tr>\n",
       "      <th>3</th>\n",
       "      <td>203520</td>\n",
       "      <td>5496.0</td>\n",
       "      <td>2008-10-15 02:19:28</td>\n",
       "      <td>NaN</td>\n",
       "      <td>2</td>\n",
       "      <td>How do I discriminate between data binding and...</td>\n",
       "      <td>&lt;p&gt;I have what must be a typical catch-22 prob...</td>\n",
       "      <td>data-binding</td>\n",
       "      <td>Oct'08-09</td>\n",
       "    </tr>\n",
       "    <tr>\n",
       "      <th>4</th>\n",
       "      <td>203590</td>\n",
       "      <td>361.0</td>\n",
       "      <td>2008-10-15 03:05:53</td>\n",
       "      <td>NaN</td>\n",
       "      <td>0</td>\n",
       "      <td>Include directory in VS 2003</td>\n",
       "      <td>&lt;p&gt;Where is the setting in Visual Studio 2003 ...</td>\n",
       "      <td>visual-studio</td>\n",
       "      <td>Oct'08-09</td>\n",
       "    </tr>\n",
       "  </tbody>\n",
       "</table>\n",
       "</div>"
      ],
      "text/plain": [
       "   QuestionId  QuestUserId   QuestCreationDate QuestClosedDate  QuestScore  \\\n",
       "0      203340      27580.0 2008-10-15 00:35:54             NaN          32   \n",
       "1      203520       5496.0 2008-10-15 02:19:28             NaN           2   \n",
       "2      203520       5496.0 2008-10-15 02:19:28             NaN           2   \n",
       "3      203520       5496.0 2008-10-15 02:19:28             NaN           2   \n",
       "4      203590        361.0 2008-10-15 03:05:53             NaN           0   \n",
       "\n",
       "                                          QuestTitle  \\\n",
       "0  JQuery: Current, Well-Formatted, Printable Doc...   \n",
       "1  How do I discriminate between data binding and...   \n",
       "2  How do I discriminate between data binding and...   \n",
       "3  How do I discriminate between data binding and...   \n",
       "4                       Include directory in VS 2003   \n",
       "\n",
       "                                           QuestBody      QuestTags  \\\n",
       "0  <p>I'm looking for a current (1.2), well-forma...         jquery   \n",
       "1  <p>I have what must be a typical catch-22 prob...           .net   \n",
       "2  <p>I have what must be a typical catch-22 prob...       winforms   \n",
       "3  <p>I have what must be a typical catch-22 prob...   data-binding   \n",
       "4  <p>Where is the setting in Visual Studio 2003 ...  visual-studio   \n",
       "\n",
       "  QuestCreationYear  \n",
       "0         Oct'08-09  \n",
       "1         Oct'08-09  \n",
       "2         Oct'08-09  \n",
       "3         Oct'08-09  \n",
       "4         Oct'08-09  "
      ]
     },
     "execution_count": 14,
     "metadata": {},
     "output_type": "execute_result"
    }
   ],
   "source": [
    "stackQuestionsTags.head()"
   ]
  },
  {
   "cell_type": "code",
   "execution_count": 16,
   "metadata": {
    "collapsed": true
   },
   "outputs": [],
   "source": [
    "stackSampleAnswers = pd.read_csv('sampleAnswers.csv', encoding='latin1')"
   ]
  },
  {
   "cell_type": "code",
   "execution_count": 17,
   "metadata": {
    "collapsed": false
   },
   "outputs": [],
   "source": [
    "stackSampleAnswers.rename(columns={'Id':'AnswerId', 'CreationDate':'AnsCreationDate', 'ParentId':'QuestionId', 'Score':'AnsScore', 'Body':'AnsBody'}, inplace=True)"
   ]
  },
  {
   "cell_type": "markdown",
   "metadata": {},
   "source": [
    "# Graph Plot 1: Number of Questions Created Every Year"
   ]
  },
  {
   "cell_type": "code",
   "execution_count": 18,
   "metadata": {
    "collapsed": true
   },
   "outputs": [],
   "source": [
    "import seaborn as sns"
   ]
  },
  {
   "cell_type": "code",
   "execution_count": 19,
   "metadata": {
    "collapsed": false
   },
   "outputs": [
    {
     "data": {
      "image/png": "[encoded data removed]",
      "text/plain": [
       "<matplotlib.figure.Figure at 0x1291aa9b0>"
      ]
     },
     "metadata": {},
     "output_type": "display_data"
    }
   ],
   "source": [
    "#number of tags used over the years\n",
    "%matplotlib inline\n",
    "ax = sns.countplot(x=\"QuestCreationYear\", data=stackQuestionsTags)"
   ]
  },
  {
   "cell_type": "code",
   "execution_count": 20,
   "metadata": {
    "collapsed": false
   },
   "outputs": [],
   "source": [
    "#36763 unique QuestTags, tail(23300)\n",
    "yearQuestTag = pd.DataFrame(stackQuestionsTags.groupby('QuestCreationYear').QuestTags.value_counts().rename('YearTagCount')).reset_index()"
   ]
  },
  {
   "cell_type": "code",
   "execution_count": 21,
   "metadata": {
    "collapsed": false
   },
   "outputs": [
    {
     "data": {
      "text/html": [
       "<div>\n",
       "<table border=\"1\" class=\"dataframe\">\n",
       "  <thead>\n",
       "    <tr style=\"text-align: right;\">\n",
       "      <th></th>\n",
       "      <th>QuestCreationYear</th>\n",
       "      <th>QuestTags</th>\n",
       "      <th>YearTagCount</th>\n",
       "    </tr>\n",
       "  </thead>\n",
       "  <tbody>\n",
       "    <tr>\n",
       "      <th>0</th>\n",
       "      <td>Oct'08-09</td>\n",
       "      <td>c#</td>\n",
       "      <td>3682</td>\n",
       "    </tr>\n",
       "    <tr>\n",
       "      <th>1</th>\n",
       "      <td>Oct'08-09</td>\n",
       "      <td>.net</td>\n",
       "      <td>2014</td>\n",
       "    </tr>\n",
       "    <tr>\n",
       "      <th>2</th>\n",
       "      <td>Oct'08-09</td>\n",
       "      <td>java</td>\n",
       "      <td>1846</td>\n",
       "    </tr>\n",
       "    <tr>\n",
       "      <th>3</th>\n",
       "      <td>Oct'08-09</td>\n",
       "      <td>asp.net</td>\n",
       "      <td>1710</td>\n",
       "    </tr>\n",
       "    <tr>\n",
       "      <th>4</th>\n",
       "      <td>Oct'08-09</td>\n",
       "      <td>php</td>\n",
       "      <td>1468</td>\n",
       "    </tr>\n",
       "  </tbody>\n",
       "</table>\n",
       "</div>"
      ],
      "text/plain": [
       "  QuestCreationYear QuestTags  YearTagCount\n",
       "0         Oct'08-09        c#          3682\n",
       "1         Oct'08-09      .net          2014\n",
       "2         Oct'08-09      java          1846\n",
       "3         Oct'08-09   asp.net          1710\n",
       "4         Oct'08-09       php          1468"
      ]
     },
     "execution_count": 21,
     "metadata": {},
     "output_type": "execute_result"
    }
   ],
   "source": [
    "yearQuestTag.head()"
   ]
  },
  {
   "cell_type": "code",
   "execution_count": 24,
   "metadata": {
    "collapsed": false
   },
   "outputs": [],
   "source": [
    "#realise iphone tag was changed to ios\n",
    "yearQuestTag = yearQuestTag.replace(\"iphone\", \"ios\")"
   ]
  },
  {
   "cell_type": "code",
   "execution_count": 25,
   "metadata": {
    "collapsed": false
   },
   "outputs": [],
   "source": [
    "topYearQuestTag = yearQuestTag.groupby('QuestCreationYear').head(10)"
   ]
  },
  {
   "cell_type": "code",
   "execution_count": 26,
   "metadata": {
    "collapsed": false
   },
   "outputs": [
    {
     "data": {
      "text/html": [
       "<div>\n",
       "<table border=\"1\" class=\"dataframe\">\n",
       "  <thead>\n",
       "    <tr style=\"text-align: right;\">\n",
       "      <th></th>\n",
       "      <th>QuestCreationYear</th>\n",
       "      <th>QuestTags</th>\n",
       "      <th>YearTagCount</th>\n",
       "    </tr>\n",
       "  </thead>\n",
       "  <tbody>\n",
       "    <tr>\n",
       "      <th>0</th>\n",
       "      <td>Oct'08-09</td>\n",
       "      <td>c#</td>\n",
       "      <td>3682</td>\n",
       "    </tr>\n",
       "    <tr>\n",
       "      <th>1</th>\n",
       "      <td>Oct'08-09</td>\n",
       "      <td>.net</td>\n",
       "      <td>2014</td>\n",
       "    </tr>\n",
       "    <tr>\n",
       "      <th>2</th>\n",
       "      <td>Oct'08-09</td>\n",
       "      <td>java</td>\n",
       "      <td>1846</td>\n",
       "    </tr>\n",
       "    <tr>\n",
       "      <th>3</th>\n",
       "      <td>Oct'08-09</td>\n",
       "      <td>asp.net</td>\n",
       "      <td>1710</td>\n",
       "    </tr>\n",
       "    <tr>\n",
       "      <th>4</th>\n",
       "      <td>Oct'08-09</td>\n",
       "      <td>php</td>\n",
       "      <td>1468</td>\n",
       "    </tr>\n",
       "  </tbody>\n",
       "</table>\n",
       "</div>"
      ],
      "text/plain": [
       "  QuestCreationYear QuestTags  YearTagCount\n",
       "0         Oct'08-09        c#          3682\n",
       "1         Oct'08-09      .net          2014\n",
       "2         Oct'08-09      java          1846\n",
       "3         Oct'08-09   asp.net          1710\n",
       "4         Oct'08-09       php          1468"
      ]
     },
     "execution_count": 26,
     "metadata": {},
     "output_type": "execute_result"
    }
   ],
   "source": [
    "topYearQuestTag.head()"
   ]
  },
  {
   "cell_type": "code",
   "execution_count": 27,
   "metadata": {
    "collapsed": false
   },
   "outputs": [],
   "source": [
    "yearCount = yearQuestTag.groupby('QuestCreationYear').YearTagCount.agg('sum').rename('TotalYearCount').reset_index()"
   ]
  },
  {
   "cell_type": "code",
   "execution_count": 28,
   "metadata": {
    "collapsed": false
   },
   "outputs": [],
   "source": [
    "topYearQuestTag = pd.merge(topYearQuestTag, yearCount, on='QuestCreationYear')"
   ]
  },
  {
   "cell_type": "code",
   "execution_count": 29,
   "metadata": {
    "collapsed": true
   },
   "outputs": [],
   "source": [
    "topYearQuestTag['Percentage'] = topYearQuestTag.YearTagCount * 100 / topYearQuestTag.TotalYearCount"
   ]
  },
  {
   "cell_type": "code",
   "execution_count": 30,
   "metadata": {
    "collapsed": false
   },
   "outputs": [],
   "source": [
    "tomerge = topYearQuestTag.groupby('QuestCreationYear').YearTagCount.agg('sum').rename('TopTagTotalCount').reset_index()"
   ]
  },
  {
   "cell_type": "code",
   "execution_count": 31,
   "metadata": {
    "collapsed": false
   },
   "outputs": [],
   "source": [
    "topYearQuestTag = pd.merge(topYearQuestTag, tomerge, on='QuestCreationYear')"
   ]
  },
  {
   "cell_type": "code",
   "execution_count": 32,
   "metadata": {
    "collapsed": false
   },
   "outputs": [],
   "source": [
    "topYearQuestTag['PercentageAmongstTop'] = topYearQuestTag.YearTagCount * 100 / topYearQuestTag.TopTagTotalCount"
   ]
  },
  {
   "cell_type": "code",
   "execution_count": 33,
   "metadata": {
    "collapsed": false
   },
   "outputs": [],
   "source": [
    "topYearQuestTag.sort_values(['QuestCreationYear', 'QuestTags'], inplace=True)"
   ]
  },
  {
   "cell_type": "code",
   "execution_count": 35,
   "metadata": {
    "collapsed": false
   },
   "outputs": [
    {
     "data": {
      "text/html": [
       "<div>\n",
       "<table border=\"1\" class=\"dataframe\">\n",
       "  <thead>\n",
       "    <tr style=\"text-align: right;\">\n",
       "      <th></th>\n",
       "      <th>QuestCreationYear</th>\n",
       "      <th>QuestTags</th>\n",
       "      <th>YearTagCount</th>\n",
       "      <th>TotalYearCount</th>\n",
       "      <th>Percentage</th>\n",
       "      <th>TopTagTotalCount</th>\n",
       "      <th>PercentageAmongstTop</th>\n",
       "    </tr>\n",
       "  </thead>\n",
       "  <tbody>\n",
       "    <tr>\n",
       "      <th>1</th>\n",
       "      <td>Oct'08-09</td>\n",
       "      <td>.net</td>\n",
       "      <td>2014</td>\n",
       "      <td>77299</td>\n",
       "      <td>2.605467</td>\n",
       "      <td>16374</td>\n",
       "      <td>12.299988</td>\n",
       "    </tr>\n",
       "    <tr>\n",
       "      <th>3</th>\n",
       "      <td>Oct'08-09</td>\n",
       "      <td>asp.net</td>\n",
       "      <td>1710</td>\n",
       "      <td>77299</td>\n",
       "      <td>2.212189</td>\n",
       "      <td>16374</td>\n",
       "      <td>10.443386</td>\n",
       "    </tr>\n",
       "    <tr>\n",
       "      <th>0</th>\n",
       "      <td>Oct'08-09</td>\n",
       "      <td>c#</td>\n",
       "      <td>3682</td>\n",
       "      <td>77299</td>\n",
       "      <td>4.763322</td>\n",
       "      <td>16374</td>\n",
       "      <td>22.486869</td>\n",
       "    </tr>\n",
       "    <tr>\n",
       "      <th>6</th>\n",
       "      <td>Oct'08-09</td>\n",
       "      <td>c++</td>\n",
       "      <td>1285</td>\n",
       "      <td>77299</td>\n",
       "      <td>1.662376</td>\n",
       "      <td>16374</td>\n",
       "      <td>7.847807</td>\n",
       "    </tr>\n",
       "    <tr>\n",
       "      <th>8</th>\n",
       "      <td>Oct'08-09</td>\n",
       "      <td>ios</td>\n",
       "      <td>988</td>\n",
       "      <td>77299</td>\n",
       "      <td>1.278154</td>\n",
       "      <td>16374</td>\n",
       "      <td>6.033956</td>\n",
       "    </tr>\n",
       "    <tr>\n",
       "      <th>2</th>\n",
       "      <td>Oct'08-09</td>\n",
       "      <td>java</td>\n",
       "      <td>1846</td>\n",
       "      <td>77299</td>\n",
       "      <td>2.388129</td>\n",
       "      <td>16374</td>\n",
       "      <td>11.273971</td>\n",
       "    </tr>\n",
       "    <tr>\n",
       "      <th>5</th>\n",
       "      <td>Oct'08-09</td>\n",
       "      <td>javascript</td>\n",
       "      <td>1382</td>\n",
       "      <td>77299</td>\n",
       "      <td>1.787863</td>\n",
       "      <td>16374</td>\n",
       "      <td>8.440210</td>\n",
       "    </tr>\n",
       "    <tr>\n",
       "      <th>9</th>\n",
       "      <td>Oct'08-09</td>\n",
       "      <td>jquery</td>\n",
       "      <td>976</td>\n",
       "      <td>77299</td>\n",
       "      <td>1.262630</td>\n",
       "      <td>16374</td>\n",
       "      <td>5.960669</td>\n",
       "    </tr>\n",
       "    <tr>\n",
       "      <th>4</th>\n",
       "      <td>Oct'08-09</td>\n",
       "      <td>php</td>\n",
       "      <td>1468</td>\n",
       "      <td>77299</td>\n",
       "      <td>1.899119</td>\n",
       "      <td>16374</td>\n",
       "      <td>8.965433</td>\n",
       "    </tr>\n",
       "    <tr>\n",
       "      <th>7</th>\n",
       "      <td>Oct'08-09</td>\n",
       "      <td>python</td>\n",
       "      <td>1023</td>\n",
       "      <td>77299</td>\n",
       "      <td>1.323432</td>\n",
       "      <td>16374</td>\n",
       "      <td>6.247710</td>\n",
       "    </tr>\n",
       "    <tr>\n",
       "      <th>16</th>\n",
       "      <td>Oct'09-10</td>\n",
       "      <td>.net</td>\n",
       "      <td>2911</td>\n",
       "      <td>173761</td>\n",
       "      <td>1.675290</td>\n",
       "      <td>36833</td>\n",
       "      <td>7.903239</td>\n",
       "    </tr>\n",
       "    <tr>\n",
       "      <th>17</th>\n",
       "      <td>Oct'09-10</td>\n",
       "      <td>asp.net</td>\n",
       "      <td>2871</td>\n",
       "      <td>173761</td>\n",
       "      <td>1.652269</td>\n",
       "      <td>36833</td>\n",
       "      <td>7.794641</td>\n",
       "    </tr>\n",
       "    <tr>\n",
       "      <th>10</th>\n",
       "      <td>Oct'09-10</td>\n",
       "      <td>c#</td>\n",
       "      <td>6729</td>\n",
       "      <td>173761</td>\n",
       "      <td>3.872561</td>\n",
       "      <td>36833</td>\n",
       "      <td>18.268944</td>\n",
       "    </tr>\n",
       "    <tr>\n",
       "      <th>18</th>\n",
       "      <td>Oct'09-10</td>\n",
       "      <td>c++</td>\n",
       "      <td>2705</td>\n",
       "      <td>173761</td>\n",
       "      <td>1.556736</td>\n",
       "      <td>36833</td>\n",
       "      <td>7.343958</td>\n",
       "    </tr>\n",
       "    <tr>\n",
       "      <th>15</th>\n",
       "      <td>Oct'09-10</td>\n",
       "      <td>ios</td>\n",
       "      <td>3249</td>\n",
       "      <td>173761</td>\n",
       "      <td>1.869810</td>\n",
       "      <td>36833</td>\n",
       "      <td>8.820894</td>\n",
       "    </tr>\n",
       "    <tr>\n",
       "      <th>11</th>\n",
       "      <td>Oct'09-10</td>\n",
       "      <td>java</td>\n",
       "      <td>4492</td>\n",
       "      <td>173761</td>\n",
       "      <td>2.585160</td>\n",
       "      <td>36833</td>\n",
       "      <td>12.195585</td>\n",
       "    </tr>\n",
       "    <tr>\n",
       "      <th>13</th>\n",
       "      <td>Oct'09-10</td>\n",
       "      <td>javascript</td>\n",
       "      <td>3660</td>\n",
       "      <td>173761</td>\n",
       "      <td>2.106341</td>\n",
       "      <td>36833</td>\n",
       "      <td>9.936742</td>\n",
       "    </tr>\n",
       "    <tr>\n",
       "      <th>14</th>\n",
       "      <td>Oct'09-10</td>\n",
       "      <td>jquery</td>\n",
       "      <td>3476</td>\n",
       "      <td>173761</td>\n",
       "      <td>2.000449</td>\n",
       "      <td>36833</td>\n",
       "      <td>9.437189</td>\n",
       "    </tr>\n",
       "    <tr>\n",
       "      <th>12</th>\n",
       "      <td>Oct'09-10</td>\n",
       "      <td>php</td>\n",
       "      <td>4362</td>\n",
       "      <td>173761</td>\n",
       "      <td>2.510345</td>\n",
       "      <td>36833</td>\n",
       "      <td>11.842641</td>\n",
       "    </tr>\n",
       "    <tr>\n",
       "      <th>19</th>\n",
       "      <td>Oct'09-10</td>\n",
       "      <td>python</td>\n",
       "      <td>2378</td>\n",
       "      <td>173761</td>\n",
       "      <td>1.368546</td>\n",
       "      <td>36833</td>\n",
       "      <td>6.456167</td>\n",
       "    </tr>\n",
       "    <tr>\n",
       "      <th>24</th>\n",
       "      <td>Oct'10-11</td>\n",
       "      <td>android</td>\n",
       "      <td>7289</td>\n",
       "      <td>315059</td>\n",
       "      <td>2.313535</td>\n",
       "      <td>67073</td>\n",
       "      <td>10.867264</td>\n",
       "    </tr>\n",
       "    <tr>\n",
       "      <th>28</th>\n",
       "      <td>Oct'10-11</td>\n",
       "      <td>asp.net</td>\n",
       "      <td>3964</td>\n",
       "      <td>315059</td>\n",
       "      <td>1.258177</td>\n",
       "      <td>67073</td>\n",
       "      <td>5.909979</td>\n",
       "    </tr>\n",
       "    <tr>\n",
       "      <th>20</th>\n",
       "      <td>Oct'10-11</td>\n",
       "      <td>c#</td>\n",
       "      <td>10348</td>\n",
       "      <td>315059</td>\n",
       "      <td>3.284464</td>\n",
       "      <td>67073</td>\n",
       "      <td>15.427967</td>\n",
       "    </tr>\n",
       "    <tr>\n",
       "      <th>27</th>\n",
       "      <td>Oct'10-11</td>\n",
       "      <td>c++</td>\n",
       "      <td>4259</td>\n",
       "      <td>315059</td>\n",
       "      <td>1.351810</td>\n",
       "      <td>67073</td>\n",
       "      <td>6.349798</td>\n",
       "    </tr>\n",
       "    <tr>\n",
       "      <th>26</th>\n",
       "      <td>Oct'10-11</td>\n",
       "      <td>ios</td>\n",
       "      <td>5208</td>\n",
       "      <td>315059</td>\n",
       "      <td>1.653024</td>\n",
       "      <td>67073</td>\n",
       "      <td>7.764674</td>\n",
       "    </tr>\n",
       "    <tr>\n",
       "      <th>22</th>\n",
       "      <td>Oct'10-11</td>\n",
       "      <td>java</td>\n",
       "      <td>8522</td>\n",
       "      <td>315059</td>\n",
       "      <td>2.704890</td>\n",
       "      <td>67073</td>\n",
       "      <td>12.705560</td>\n",
       "    </tr>\n",
       "    <tr>\n",
       "      <th>23</th>\n",
       "      <td>Oct'10-11</td>\n",
       "      <td>javascript</td>\n",
       "      <td>7853</td>\n",
       "      <td>315059</td>\n",
       "      <td>2.492549</td>\n",
       "      <td>67073</td>\n",
       "      <td>11.708139</td>\n",
       "    </tr>\n",
       "    <tr>\n",
       "      <th>25</th>\n",
       "      <td>Oct'10-11</td>\n",
       "      <td>jquery</td>\n",
       "      <td>7161</td>\n",
       "      <td>315059</td>\n",
       "      <td>2.272908</td>\n",
       "      <td>67073</td>\n",
       "      <td>10.676427</td>\n",
       "    </tr>\n",
       "    <tr>\n",
       "      <th>21</th>\n",
       "      <td>Oct'10-11</td>\n",
       "      <td>php</td>\n",
       "      <td>8546</td>\n",
       "      <td>315059</td>\n",
       "      <td>2.712508</td>\n",
       "      <td>67073</td>\n",
       "      <td>12.741342</td>\n",
       "    </tr>\n",
       "    <tr>\n",
       "      <th>29</th>\n",
       "      <td>Oct'10-11</td>\n",
       "      <td>python</td>\n",
       "      <td>3923</td>\n",
       "      <td>315059</td>\n",
       "      <td>1.245164</td>\n",
       "      <td>67073</td>\n",
       "      <td>5.848851</td>\n",
       "    </tr>\n",
       "    <tr>\n",
       "      <th>33</th>\n",
       "      <td>Oct'11-12</td>\n",
       "      <td>android</td>\n",
       "      <td>12183</td>\n",
       "      <td>443437</td>\n",
       "      <td>2.747403</td>\n",
       "      <td>95948</td>\n",
       "      <td>12.697503</td>\n",
       "    </tr>\n",
       "    <tr>\n",
       "      <th>31</th>\n",
       "      <td>Oct'11-12</td>\n",
       "      <td>c#</td>\n",
       "      <td>12697</td>\n",
       "      <td>443437</td>\n",
       "      <td>2.863315</td>\n",
       "      <td>95948</td>\n",
       "      <td>13.233210</td>\n",
       "    </tr>\n",
       "    <tr>\n",
       "      <th>38</th>\n",
       "      <td>Oct'11-12</td>\n",
       "      <td>c++</td>\n",
       "      <td>5578</td>\n",
       "      <td>443437</td>\n",
       "      <td>1.257901</td>\n",
       "      <td>95948</td>\n",
       "      <td>5.813566</td>\n",
       "    </tr>\n",
       "    <tr>\n",
       "      <th>37</th>\n",
       "      <td>Oct'11-12</td>\n",
       "      <td>html</td>\n",
       "      <td>5655</td>\n",
       "      <td>443437</td>\n",
       "      <td>1.275266</td>\n",
       "      <td>95948</td>\n",
       "      <td>5.893817</td>\n",
       "    </tr>\n",
       "    <tr>\n",
       "      <th>36</th>\n",
       "      <td>Oct'11-12</td>\n",
       "      <td>ios</td>\n",
       "      <td>6449</td>\n",
       "      <td>443437</td>\n",
       "      <td>1.454322</td>\n",
       "      <td>95948</td>\n",
       "      <td>6.721349</td>\n",
       "    </tr>\n",
       "    <tr>\n",
       "      <th>30</th>\n",
       "      <td>Oct'11-12</td>\n",
       "      <td>java</td>\n",
       "      <td>12967</td>\n",
       "      <td>443437</td>\n",
       "      <td>2.924203</td>\n",
       "      <td>95948</td>\n",
       "      <td>13.514612</td>\n",
       "    </tr>\n",
       "    <tr>\n",
       "      <th>32</th>\n",
       "      <td>Oct'11-12</td>\n",
       "      <td>javascript</td>\n",
       "      <td>12225</td>\n",
       "      <td>443437</td>\n",
       "      <td>2.756874</td>\n",
       "      <td>95948</td>\n",
       "      <td>12.741277</td>\n",
       "    </tr>\n",
       "    <tr>\n",
       "      <th>35</th>\n",
       "      <td>Oct'11-12</td>\n",
       "      <td>jquery</td>\n",
       "      <td>10656</td>\n",
       "      <td>443437</td>\n",
       "      <td>2.403047</td>\n",
       "      <td>95948</td>\n",
       "      <td>11.106016</td>\n",
       "    </tr>\n",
       "    <tr>\n",
       "      <th>34</th>\n",
       "      <td>Oct'11-12</td>\n",
       "      <td>php</td>\n",
       "      <td>11962</td>\n",
       "      <td>443437</td>\n",
       "      <td>2.697565</td>\n",
       "      <td>95948</td>\n",
       "      <td>12.467170</td>\n",
       "    </tr>\n",
       "    <tr>\n",
       "      <th>39</th>\n",
       "      <td>Oct'11-12</td>\n",
       "      <td>python</td>\n",
       "      <td>5576</td>\n",
       "      <td>443437</td>\n",
       "      <td>1.257450</td>\n",
       "      <td>95948</td>\n",
       "      <td>5.811481</td>\n",
       "    </tr>\n",
       "  </tbody>\n",
       "</table>\n",
       "</div>"
      ],
      "text/plain": [
       "   QuestCreationYear   QuestTags  YearTagCount  TotalYearCount  Percentage  \\\n",
       "1          Oct'08-09        .net          2014           77299    2.605467   \n",
       "3          Oct'08-09     asp.net          1710           77299    2.212189   \n",
       "0          Oct'08-09          c#          3682           77299    4.763322   \n",
       "6          Oct'08-09         c++          1285           77299    1.662376   \n",
       "8          Oct'08-09         ios           988           77299    1.278154   \n",
       "2          Oct'08-09        java          1846           77299    2.388129   \n",
       "5          Oct'08-09  javascript          1382           77299    1.787863   \n",
       "9          Oct'08-09      jquery           976           77299    1.262630   \n",
       "4          Oct'08-09         php          1468           77299    1.899119   \n",
       "7          Oct'08-09      python          1023           77299    1.323432   \n",
       "16         Oct'09-10        .net          2911          173761    1.675290   \n",
       "17         Oct'09-10     asp.net          2871          173761    1.652269   \n",
       "10         Oct'09-10          c#          6729          173761    3.872561   \n",
       "18         Oct'09-10         c++          2705          173761    1.556736   \n",
       "15         Oct'09-10         ios          3249          173761    1.869810   \n",
       "11         Oct'09-10        java          4492          173761    2.585160   \n",
       "13         Oct'09-10  javascript          3660          173761    2.106341   \n",
       "14         Oct'09-10      jquery          3476          173761    2.000449   \n",
       "12         Oct'09-10         php          4362          173761    2.510345   \n",
       "19         Oct'09-10      python          2378          173761    1.368546   \n",
       "24         Oct'10-11     android          7289          315059    2.313535   \n",
       "28         Oct'10-11     asp.net          3964          315059    1.258177   \n",
       "20         Oct'10-11          c#         10348          315059    3.284464   \n",
       "27         Oct'10-11         c++          4259          315059    1.351810   \n",
       "26         Oct'10-11         ios          5208          315059    1.653024   \n",
       "22         Oct'10-11        java          8522          315059    2.704890   \n",
       "23         Oct'10-11  javascript          7853          315059    2.492549   \n",
       "25         Oct'10-11      jquery          7161          315059    2.272908   \n",
       "21         Oct'10-11         php          8546          315059    2.712508   \n",
       "29         Oct'10-11      python          3923          315059    1.245164   \n",
       "33         Oct'11-12     android         12183          443437    2.747403   \n",
       "31         Oct'11-12          c#         12697          443437    2.863315   \n",
       "38         Oct'11-12         c++          5578          443437    1.257901   \n",
       "37         Oct'11-12        html          5655          443437    1.275266   \n",
       "36         Oct'11-12         ios          6449          443437    1.454322   \n",
       "30         Oct'11-12        java         12967          443437    2.924203   \n",
       "32         Oct'11-12  javascript         12225          443437    2.756874   \n",
       "35         Oct'11-12      jquery         10656          443437    2.403047   \n",
       "34         Oct'11-12         php         11962          443437    2.697565   \n",
       "39         Oct'11-12      python          5576          443437    1.257450   \n",
       "\n",
       "    TopTagTotalCount  PercentageAmongstTop  \n",
       "1              16374             12.299988  \n",
       "3              16374             10.443386  \n",
       "0              16374             22.486869  \n",
       "6              16374              7.847807  \n",
       "8              16374              6.033956  \n",
       "2              16374             11.273971  \n",
       "5              16374              8.440210  \n",
       "9              16374              5.960669  \n",
       "4              16374              8.965433  \n",
       "7              16374              6.247710  \n",
       "16             36833              7.903239  \n",
       "17             36833              7.794641  \n",
       "10             36833             18.268944  \n",
       "18             36833              7.343958  \n",
       "15             36833              8.820894  \n",
       "11             36833             12.195585  \n",
       "13             36833              9.936742  \n",
       "14             36833              9.437189  \n",
       "12             36833             11.842641  \n",
       "19             36833              6.456167  \n",
       "24             67073             10.867264  \n",
       "28             67073              5.909979  \n",
       "20             67073             15.427967  \n",
       "27             67073              6.349798  \n",
       "26             67073              7.764674  \n",
       "22             67073             12.705560  \n",
       "23             67073             11.708139  \n",
       "25             67073             10.676427  \n",
       "21             67073             12.741342  \n",
       "29             67073              5.848851  \n",
       "33             95948             12.697503  \n",
       "31             95948             13.233210  \n",
       "38             95948              5.813566  \n",
       "37             95948              5.893817  \n",
       "36             95948              6.721349  \n",
       "30             95948             13.514612  \n",
       "32             95948             12.741277  \n",
       "35             95948             11.106016  \n",
       "34             95948             12.467170  \n",
       "39             95948              5.811481  "
      ]
     },
     "execution_count": 35,
     "metadata": {},
     "output_type": "execute_result"
    }
   ],
   "source": [
    "topYearQuestTag.head(40)"
   ]
  },
  {
   "cell_type": "markdown",
   "metadata": {},
   "source": [
    "# Graph Plot 2: Change in Top 10 Tags Over  the Years"
   ]
  },
  {
   "cell_type": "code",
   "execution_count": 36,
   "metadata": {
    "collapsed": false,
    "scrolled": false
   },
   "outputs": [
    {
     "data": {
      "text/html": [
       "\n",
       "    <div class=\"bk-root\">\n",
       "        <a href=\"http://bokeh.pydata.org\" target=\"_blank\" class=\"bk-logo bk-logo-small bk-logo-notebook\"></a>\n",
       "        <span id=\"1d331eeb-2af1-4aa0-b7af-c1f943b48f72\">Loading BokehJS ...</span>\n",
       "    </div>"
      ]
     },
     "metadata": {},
     "output_type": "display_data"
    },
    {
     "data": {
      "application/javascript": [
       "\n",
       "(function(global) {\n",
       "  function now() {\n",
       "    return new Date();\n",
       "  }\n",
       "\n",
       "  var force = \"1\";\n",
       "\n",
       "  if (typeof (window._bokeh_onload_callbacks) === \"undefined\" || force !== \"\") {\n",
       "    window._bokeh_onload_callbacks = [];\n",
       "    window._bokeh_is_loading = undefined;\n",
       "  }\n",
       "\n",
       "\n",
       "  \n",
       "  if (typeof (window._bokeh_timeout) === \"undefined\" || force !== \"\") {\n",
       "    window._bokeh_timeout = Date.now() + 5000;\n",
       "    window._bokeh_failed_load = false;\n",
       "  }\n",
       "\n",
       "  var NB_LOAD_WARNING = {'data': {'text/html':\n",
       "     \"<div style='background-color: #fdd'>\\n\"+\n",
       "     \"<p>\\n\"+\n",
       "     \"BokehJS does not appear to have successfully loaded. If loading BokehJS from CDN, this \\n\"+\n",
       "     \"may be due to a slow or bad network connection. Possible fixes:\\n\"+\n",
       "     \"</p>\\n\"+\n",
       "     \"<ul>\\n\"+\n",
       "     \"<li>re-rerun `output_notebook()` to attempt to load from CDN again, or</li>\\n\"+\n",
       "     \"<li>use INLINE resources instead, as so:</li>\\n\"+\n",
       "     \"</ul>\\n\"+\n",
       "     \"<code>\\n\"+\n",
       "     \"from bokeh.resources import INLINE\\n\"+\n",
       "     \"output_notebook(resources=INLINE)\\n\"+\n",
       "     \"</code>\\n\"+\n",
       "     \"</div>\"}};\n",
       "\n",
       "  function display_loaded() {\n",
       "    if (window.Bokeh !== undefined) {\n",
       "      Bokeh.$(\"#1d331eeb-2af1-4aa0-b7af-c1f943b48f72\").text(\"BokehJS successfully loaded.\");\n",
       "    } else if (Date.now() < window._bokeh_timeout) {\n",
       "      setTimeout(display_loaded, 100)\n",
       "    }\n",
       "  }\n",
       "\n",
       "  function run_callbacks() {\n",
       "    window._bokeh_onload_callbacks.forEach(function(callback) { callback() });\n",
       "    delete window._bokeh_onload_callbacks\n",
       "    console.info(\"Bokeh: all callbacks have finished\");\n",
       "  }\n",
       "\n",
       "  function load_libs(js_urls, callback) {\n",
       "    window._bokeh_onload_callbacks.push(callback);\n",
       "    if (window._bokeh_is_loading > 0) {\n",
       "      console.log(\"Bokeh: BokehJS is being loaded, scheduling callback at\", now());\n",
       "      return null;\n",
       "    }\n",
       "    if (js_urls == null || js_urls.length === 0) {\n",
       "      run_callbacks();\n",
       "      return null;\n",
       "    }\n",
       "    console.log(\"Bokeh: BokehJS not loaded, scheduling load and callback at\", now());\n",
       "    window._bokeh_is_loading = js_urls.length;\n",
       "    for (var i = 0; i < js_urls.length; i++) {\n",
       "      var url = js_urls[i];\n",
       "      var s = document.createElement('script');\n",
       "      s.src = url;\n",
       "      s.async = false;\n",
       "      s.onreadystatechange = s.onload = function() {\n",
       "        window._bokeh_is_loading--;\n",
       "        if (window._bokeh_is_loading === 0) {\n",
       "          console.log(\"Bokeh: all BokehJS libraries loaded\");\n",
       "          run_callbacks()\n",
       "        }\n",
       "      };\n",
       "      s.onerror = function() {\n",
       "        console.warn(\"failed to load library \" + url);\n",
       "      };\n",
       "      console.log(\"Bokeh: injecting script tag for BokehJS library: \", url);\n",
       "      document.getElementsByTagName(\"head\")[0].appendChild(s);\n",
       "    }\n",
       "  };var element = document.getElementById(\"1d331eeb-2af1-4aa0-b7af-c1f943b48f72\");\n",
       "  if (element == null) {\n",
       "    console.log(\"Bokeh: ERROR: autoload.js configured with elementid '1d331eeb-2af1-4aa0-b7af-c1f943b48f72' but no matching script tag was found. \")\n",
       "    return false;\n",
       "  }\n",
       "\n",
       "  var js_urls = ['https://cdn.pydata.org/bokeh/release/bokeh-0.12.2.min.js', 'https://cdn.pydata.org/bokeh/release/bokeh-widgets-0.12.2.min.js', 'https://cdn.pydata.org/bokeh/release/bokeh-compiler-0.12.2.min.js'];\n",
       "\n",
       "  var inline_js = [\n",
       "    function(Bokeh) {\n",
       "      Bokeh.set_log_level(\"info\");\n",
       "    },\n",
       "    \n",
       "    function(Bokeh) {\n",
       "      \n",
       "      Bokeh.$(\"#1d331eeb-2af1-4aa0-b7af-c1f943b48f72\").text(\"BokehJS is loading...\");\n",
       "    },\n",
       "    function(Bokeh) {\n",
       "      console.log(\"Bokeh: injecting CSS: https://cdn.pydata.org/bokeh/release/bokeh-0.12.2.min.css\");\n",
       "      Bokeh.embed.inject_css(\"https://cdn.pydata.org/bokeh/release/bokeh-0.12.2.min.css\");\n",
       "      console.log(\"Bokeh: injecting CSS: https://cdn.pydata.org/bokeh/release/bokeh-widgets-0.12.2.min.css\");\n",
       "      Bokeh.embed.inject_css(\"https://cdn.pydata.org/bokeh/release/bokeh-widgets-0.12.2.min.css\");\n",
       "    }\n",
       "  ];\n",
       "\n",
       "  function run_inline_js() {\n",
       "    \n",
       "    if ((window.Bokeh !== undefined) || (force === \"1\")) {\n",
       "      for (var i = 0; i < inline_js.length; i++) {\n",
       "        inline_js[i](window.Bokeh);\n",
       "      }if (force === \"1\") {\n",
       "        display_loaded();\n",
       "      }} else if (Date.now() < window._bokeh_timeout) {\n",
       "      setTimeout(run_inline_js, 100);\n",
       "    } else if (!window._bokeh_failed_load) {\n",
       "      console.log(\"Bokeh: BokehJS failed to load within specified timeout.\");\n",
       "      window._bokeh_failed_load = true;\n",
       "    } else if (!force) {\n",
       "      var cell = $(\"#1d331eeb-2af1-4aa0-b7af-c1f943b48f72\").parents('.cell').data().cell;\n",
       "      cell.output_area.append_execute_result(NB_LOAD_WARNING)\n",
       "    }\n",
       "\n",
       "  }\n",
       "\n",
       "  if (window._bokeh_is_loading === 0) {\n",
       "    console.log(\"Bokeh: BokehJS loaded, going straight to plotting\");\n",
       "    run_inline_js();\n",
       "  } else {\n",
       "    load_libs(js_urls, function() {\n",
       "      console.log(\"Bokeh: BokehJS plotting callback run at\", now());\n",
       "      run_inline_js();\n",
       "    });\n",
       "  }\n",
       "}(this));"
      ]
     },
     "metadata": {},
     "output_type": "display_data"
    },
    {
     "data": {
      "text/html": [
       "\n",
       "\n",
       "    <div class=\"bk-root\">\n",
       "        <div class=\"plotdiv\" id=\"983fd86f-a666-40e8-8f0a-3255a97e293e\"></div>\n",
       "    </div>\n",
       "<script type=\"text/javascript\">\n",
       "  \n",
       "  (function(global) {\n",
       "    function now() {\n",
       "      return new Date();\n",
       "    }\n",
       "  \n",
       "    var force = \"\";\n",
       "  \n",
       "    if (typeof (window._bokeh_onload_callbacks) === \"undefined\" || force !== \"\") {\n",
       "      window._bokeh_onload_callbacks = [];\n",
       "      window._bokeh_is_loading = undefined;\n",
       "    }\n",
       "  \n",
       "  \n",
       "    \n",
       "    if (typeof (window._bokeh_timeout) === \"undefined\" || force !== \"\") {\n",
       "      window._bokeh_timeout = Date.now() + 0;\n",
       "      window._bokeh_failed_load = false;\n",
       "    }\n",
       "  \n",
       "    var NB_LOAD_WARNING = {'data': {'text/html':\n",
       "       \"<div style='background-color: #fdd'>\\n\"+\n",
       "       \"<p>\\n\"+\n",
       "       \"BokehJS does not appear to have successfully loaded. If loading BokehJS from CDN, this \\n\"+\n",
       "       \"may be due to a slow or bad network connection. Possible fixes:\\n\"+\n",
       "       \"</p>\\n\"+\n",
       "       \"<ul>\\n\"+\n",
       "       \"<li>re-rerun `output_notebook()` to attempt to load from CDN again, or</li>\\n\"+\n",
       "       \"<li>use INLINE resources instead, as so:</li>\\n\"+\n",
       "       \"</ul>\\n\"+\n",
       "       \"<code>\\n\"+\n",
       "       \"from bokeh.resources import INLINE\\n\"+\n",
       "       \"output_notebook(resources=INLINE)\\n\"+\n",
       "       \"</code>\\n\"+\n",
       "       \"</div>\"}};\n",
       "  \n",
       "    function display_loaded() {\n",
       "      if (window.Bokeh !== undefined) {\n",
       "        Bokeh.$(\"#983fd86f-a666-40e8-8f0a-3255a97e293e\").text(\"BokehJS successfully loaded.\");\n",
       "      } else if (Date.now() < window._bokeh_timeout) {\n",
       "        setTimeout(display_loaded, 100)\n",
       "      }\n",
       "    }\n",
       "  \n",
       "    function run_callbacks() {\n",
       "      window._bokeh_onload_callbacks.forEach(function(callback) { callback() });\n",
       "      delete window._bokeh_onload_callbacks\n",
       "      console.info(\"Bokeh: all callbacks have finished\");\n",
       "    }\n",
       "  \n",
       "    function load_libs(js_urls, callback) {\n",
       "      window._bokeh_onload_callbacks.push(callback);\n",
       "      if (window._bokeh_is_loading > 0) {\n",
       "        console.log(\"Bokeh: BokehJS is being loaded, scheduling callback at\", now());\n",
       "        return null;\n",
       "      }\n",
       "      if (js_urls == null || js_urls.length === 0) {\n",
       "        run_callbacks();\n",
       "        return null;\n",
       "      }\n",
       "      console.log(\"Bokeh: BokehJS not loaded, scheduling load and callback at\", now());\n",
       "      window._bokeh_is_loading = js_urls.length;\n",
       "      for (var i = 0; i < js_urls.length; i++) {\n",
       "        var url = js_urls[i];\n",
       "        var s = document.createElement('script');\n",
       "        s.src = url;\n",
       "        s.async = false;\n",
       "        s.onreadystatechange = s.onload = function() {\n",
       "          window._bokeh_is_loading--;\n",
       "          if (window._bokeh_is_loading === 0) {\n",
       "            console.log(\"Bokeh: all BokehJS libraries loaded\");\n",
       "            run_callbacks()\n",
       "          }\n",
       "        };\n",
       "        s.onerror = function() {\n",
       "          console.warn(\"failed to load library \" + url);\n",
       "        };\n",
       "        console.log(\"Bokeh: injecting script tag for BokehJS library: \", url);\n",
       "        document.getElementsByTagName(\"head\")[0].appendChild(s);\n",
       "      }\n",
       "    };var element = document.getElementById(\"983fd86f-a666-40e8-8f0a-3255a97e293e\");\n",
       "    if (element == null) {\n",
       "      console.log(\"Bokeh: ERROR: autoload.js configured with elementid '983fd86f-a666-40e8-8f0a-3255a97e293e' but no matching script tag was found. \")\n",
       "      return false;\n",
       "    }\n",
       "  \n",
       "    var js_urls = [];\n",
       "  \n",
       "    var inline_js = [\n",
       "      function(Bokeh) {\n",
       "        Bokeh.$(function() {\n",
       "            var docs_json = {\"08ccf3f5-e4aa-4c09-8ac1-8b86d4f612c4\":{\"roots\":{\"references\":[{\"attributes\":{\"data_source\":{\"id\":\"26d41d5e-b064-46cd-bc59-c0c237b69926\",\"type\":\"ColumnDataSource\"},\"glyph\":{\"id\":\"f3a3efec-b5f4-4102-b22a-68f0806fb455\",\"type\":\"Rect\"},\"hover_glyph\":null,\"nonselection_glyph\":null,\"selection_glyph\":null},\"id\":\"664c3cc5-ddff-44f4-8eee-17186586ba8d\",\"type\":\"GlyphRenderer\"},{\"attributes\":{},\"id\":\"24235c9d-094f-4bad-a66e-ba7240cc03f0\",\"type\":\"BasicTicker\"},{\"attributes\":{\"callback\":null,\"plot\":{\"id\":\"54a8b18c-92ae-46f6-a00d-ac498acef5e6\",\"subtype\":\"Chart\",\"type\":\"Plot\"},\"tooltips\":[[\"Tag\",\"@QuestTags\"],[\"Yearly Tag Count\",\"@YearTagCount\"],[\"Percentage of Tag Used\",\"@PercentageAmongstTop{1.11}%\"]]},\"id\":\"3108d261-24e1-4b57-9616-ae1996c77a9f\",\"type\":\"HoverTool\"},{\"attributes\":{\"fill_alpha\":{\"field\":\"fill_alpha\"},\"fill_color\":{\"field\":\"color\"},\"height\":{\"field\":\"height\",\"units\":\"data\"},\"line_color\":{\"field\":\"line_color\"},\"width\":{\"field\":\"width\",\"units\":\"data\"},\"x\":{\"field\":\"x\"},\"y\":{\"field\":\"y\"}},\"id\":\"dc2bdea2-c458-46c8-a7c1-f9fd0a9f114a\",\"type\":\"Rect\"},{\"attributes\":{\"fill_alpha\":{\"field\":\"fill_alpha\"},\"fill_color\":{\"field\":\"color\"},\"height\":{\"field\":\"height\",\"units\":\"data\"},\"line_color\":{\"field\":\"line_color\"},\"width\":{\"field\":\"width\",\"units\":\"data\"},\"x\":{\"field\":\"x\"},\"y\":{\"field\":\"y\"}},\"id\":\"9b22d78a-ae46-4235-bd42-3d9124a79059\",\"type\":\"Rect\"},{\"attributes\":{\"fill_alpha\":{\"field\":\"fill_alpha\"},\"fill_color\":{\"field\":\"color\"},\"height\":{\"field\":\"height\",\"units\":\"data\"},\"line_color\":{\"field\":\"line_color\"},\"width\":{\"field\":\"width\",\"units\":\"data\"},\"x\":{\"field\":\"x\"},\"y\":{\"field\":\"y\"}},\"id\":\"95fff729-266e-44ef-8fff-7ed45a2f5459\",\"type\":\"Rect\"},{\"attributes\":{\"data_source\":{\"id\":\"15825aa2-86f8-403c-aa27-24b600d3271b\",\"type\":\"ColumnDataSource\"},\"glyph\":{\"id\":\"4d699c8d-2d35-4407-83ec-01c8a99e332d\",\"type\":\"Rect\"},\"hover_glyph\":null,\"nonselection_glyph\":null,\"selection_glyph\":null},\"id\":\"e8676572-36a4-4c4a-827a-4ac516e764f7\",\"type\":\"GlyphRenderer\"},{\"attributes\":{\"fill_alpha\":{\"field\":\"fill_alpha\"},\"fill_color\":{\"field\":\"color\"},\"height\":{\"field\":\"height\",\"units\":\"data\"},\"line_color\":{\"field\":\"line_color\"},\"width\":{\"field\":\"width\",\"units\":\"data\"},\"x\":{\"field\":\"x\"},\"y\":{\"field\":\"y\"}},\"id\":\"440bf19f-630f-48ef-90d6-e75b51e7df03\",\"type\":\"Rect\"},{\"attributes\":{\"fill_alpha\":{\"field\":\"fill_alpha\"},\"fill_color\":{\"field\":\"color\"},\"height\":{\"field\":\"height\",\"units\":\"data\"},\"line_color\":{\"field\":\"line_color\"},\"width\":{\"field\":\"width\",\"units\":\"data\"},\"x\":{\"field\":\"x\"},\"y\":{\"field\":\"y\"}},\"id\":\"34ae6d0a-4f48-45a9-a85e-228a75a36487\",\"type\":\"Rect\"},{\"attributes\":{\"data_source\":{\"id\":\"b4d13830-e6e8-48b0-bc07-75b9265401db\",\"type\":\"ColumnDataSource\"},\"glyph\":{\"id\":\"3a5e1542-e97d-4589-9355-860bca376e97\",\"type\":\"Rect\"},\"hover_glyph\":null,\"nonselection_glyph\":null,\"selection_glyph\":null},\"id\":\"5c1aed99-b436-43d2-b01b-c449b0bf0647\",\"type\":\"GlyphRenderer\"},{\"attributes\":{\"data_source\":{\"id\":\"7a705a73-ad76-45cd-a720-8977bf45bc32\",\"type\":\"ColumnDataSource\"},\"glyph\":{\"id\":\"25ab2cec-7642-4884-bff6-5ca379a8fe9a\",\"type\":\"Rect\"},\"hover_glyph\":null,\"nonselection_glyph\":null,\"selection_glyph\":null},\"id\":\"e476f9b9-01ba-4c68-8b41-fc9839d0de1b\",\"type\":\"GlyphRenderer\"},{\"attributes\":{\"callback\":null,\"column_names\":[\"height\",\"fill_alpha\",\"width\",\"color\",\"line_color\",\"line_alpha\",\"y\",\"x\",\"label\"],\"data\":{\"PercentageAmongstTop\":[11.89821975056764],\"QuestCreationYear\":[\"Oct'12-13\"],\"QuestTags\":[\"php\"],\"YearTagCount\":[14463],\"chart_index\":[{\"PercentageAmongstTop\":11.89821975056764,\"QuestCreationYear\":\"Oct'12-13\",\"QuestTags\":\"php\",\"YearTagCount\":14463}],\"color\":[\"#20B2AA\"],\"fill_alpha\":[0.8],\"height\":[11.89821975056764],\"label\":[{\"PercentageAmongstTop\":11.89821975056764,\"QuestCreationYear\":\"Oct'12-13\",\"QuestTags\":\"php\",\"YearTagCount\":14463}],\"line_alpha\":[1.0],\"line_color\":[\"#20B2AA\"],\"width\":[1.0],\"x\":[\"Oct'12-13\"],\"y\":[87.21371219849289]}},\"id\":\"86bf2eee-5db3-4907-9739-37dcd5eca031\",\"type\":\"ColumnDataSource\"},{\"attributes\":{\"callback\":null,\"column_names\":[\"height\",\"fill_alpha\",\"width\",\"color\",\"line_color\",\"line_alpha\",\"y\",\"x\",\"label\"],\"data\":{\"PercentageAmongstTop\":[8.44021008916575],\"QuestCreationYear\":[\"Oct'08-09\"],\"QuestTags\":[\"javascript\"],\"YearTagCount\":[1382],\"chart_index\":[{\"PercentageAmongstTop\":8.44021008916575,\"QuestCreationYear\":\"Oct'08-09\",\"QuestTags\":\"javascript\",\"YearTagCount\":1382}],\"color\":[\"#FFB6C1\"],\"fill_alpha\":[0.8],\"height\":[8.44021008916575],\"label\":[{\"PercentageAmongstTop\":8.44021008916575,\"QuestCreationYear\":\"Oct'08-09\",\"QuestTags\":\"javascript\",\"YearTagCount\":1382}],\"line_alpha\":[1.0],\"line_color\":[\"#FFF0F5\"],\"width\":[1.0],\"x\":[\"Oct'08-09\"],\"y\":[74.60608281421767]}},\"id\":\"70ca5176-0f2d-4b83-8520-3a24e069c43a\",\"type\":\"ColumnDataSource\"},{\"attributes\":{\"callback\":null,\"column_names\":[\"height\",\"fill_alpha\",\"width\",\"color\",\"line_color\",\"line_alpha\",\"y\",\"x\",\"label\"],\"data\":{\"PercentageAmongstTop\":[5.811481218993621],\"QuestCreationYear\":[\"Oct'11-12\"],\"QuestTags\":[\"python\"],\"YearTagCount\":[5576],\"chart_index\":[{\"PercentageAmongstTop\":5.811481218993621,\"QuestCreationYear\":\"Oct'11-12\",\"QuestTags\":\"python\",\"YearTagCount\":5576}],\"color\":[\"#FFA07A\"],\"fill_alpha\":[0.8],\"height\":[5.811481218993621],\"label\":[{\"PercentageAmongstTop\":5.811481218993621,\"QuestCreationYear\":\"Oct'11-12\",\"QuestTags\":\"python\",\"YearTagCount\":5576}],\"line_alpha\":[1.0],\"line_color\":[\"#F08080\"],\"width\":[1.0],\"x\":[\"Oct'11-12\"],\"y\":[97.0942593905032]}},\"id\":\"c642483d-0705-478e-84cf-6033efad0c9f\",\"type\":\"ColumnDataSource\"},{\"attributes\":{\"callback\":null,\"column_names\":[\"height\",\"fill_alpha\",\"width\",\"color\",\"line_color\",\"line_alpha\",\"y\",\"x\",\"label\"],\"data\":{\"PercentageAmongstTop\":[6.7549113165948205],\"QuestCreationYear\":[\"Oct'12-13\"],\"QuestTags\":[\"html\"],\"YearTagCount\":[8211],\"chart_index\":[{\"PercentageAmongstTop\":6.7549113165948205,\"QuestCreationYear\":\"Oct'12-13\",\"QuestTags\":\"html\",\"YearTagCount\":8211}],\"color\":[\"#ADD8E6\"],\"fill_alpha\":[0.8],\"height\":[6.7549113165948205],\"label\":[{\"PercentageAmongstTop\":6.7549113165948205,\"QuestCreationYear\":\"Oct'12-13\",\"QuestTags\":\"html\",\"YearTagCount\":8211}],\"line_alpha\":[1.0],\"line_color\":[\"#F0E68C\"],\"width\":[1.0],\"x\":[\"Oct'12-13\"],\"y\":[33.370216196650105]}},\"id\":\"7a2c2c03-5a6a-4d95-8fea-b161dbdcc106\",\"type\":\"ColumnDataSource\"},{\"attributes\":{\"callback\":null,\"column_names\":[\"height\",\"fill_alpha\",\"width\",\"color\",\"line_color\",\"line_alpha\",\"y\",\"x\",\"label\"],\"data\":{\"PercentageAmongstTop\":[5.813565681410764],\"QuestCreationYear\":[\"Oct'11-12\"],\"QuestTags\":[\"c++\"],\"YearTagCount\":[5578],\"chart_index\":[{\"PercentageAmongstTop\":5.813565681410764,\"QuestCreationYear\":\"Oct'11-12\",\"QuestTags\":\"c++\",\"YearTagCount\":5578}],\"color\":[\"#FFF0F5\"],\"fill_alpha\":[0.8],\"height\":[5.813565681410764],\"label\":[{\"PercentageAmongstTop\":5.813565681410764,\"QuestCreationYear\":\"Oct'11-12\",\"QuestTags\":\"c++\",\"YearTagCount\":5578}],\"line_alpha\":[1.0],\"line_color\":[\"#D3D3D3\"],\"width\":[1.0],\"x\":[\"Oct'11-12\"],\"y\":[28.837495309959564]}},\"id\":\"e39696e6-32d4-4bf7-8819-edfffc9a01ab\",\"type\":\"ColumnDataSource\"},{\"attributes\":{\"fill_alpha\":{\"field\":\"fill_alpha\"},\"fill_color\":{\"field\":\"color\"},\"height\":{\"field\":\"height\",\"units\":\"data\"},\"line_color\":{\"field\":\"line_color\"},\"width\":{\"field\":\"width\",\"units\":\"data\"},\"x\":{\"field\":\"x\"},\"y\":{\"field\":\"y\"}},\"id\":\"e30d7484-eff4-4e51-a0dd-a9ebb04de69f\",\"type\":\"Rect\"},{\"attributes\":{},\"id\":\"4d13ff0b-2fdb-4405-a5c3-1afa71722df9\",\"type\":\"CategoricalTickFormatter\"},{\"attributes\":{\"fill_alpha\":{\"field\":\"fill_alpha\"},\"fill_color\":{\"field\":\"color\"},\"height\":{\"field\":\"height\",\"units\":\"data\"},\"line_color\":{\"field\":\"line_color\"},\"width\":{\"field\":\"width\",\"units\":\"data\"},\"x\":{\"field\":\"x\"},\"y\":{\"field\":\"y\"}},\"id\":\"311ab137-97d0-4809-b996-610858e1535f\",\"type\":\"Rect\"},{\"attributes\":{\"fill_alpha\":{\"field\":\"fill_alpha\"},\"fill_color\":{\"field\":\"color\"},\"height\":{\"field\":\"height\",\"units\":\"data\"},\"line_color\":{\"field\":\"line_color\"},\"width\":{\"field\":\"width\",\"units\":\"data\"},\"x\":{\"field\":\"x\"},\"y\":{\"field\":\"y\"}},\"id\":\"225d926b-3697-4a06-87cc-c4c4b57c4bd0\",\"type\":\"Rect\"},{\"attributes\":{\"data_source\":{\"id\":\"635a18d2-07e2-46a4-9798-207a07edabf1\",\"type\":\"ColumnDataSource\"},\"glyph\":{\"id\":\"34ae6d0a-4f48-45a9-a85e-228a75a36487\",\"type\":\"Rect\"},\"hover_glyph\":null,\"nonselection_glyph\":null,\"selection_glyph\":null},\"id\":\"2ebe0019-5fb2-4152-b51f-ce32d2d6f2b1\",\"type\":\"GlyphRenderer\"},{\"attributes\":{\"fill_alpha\":{\"field\":\"fill_alpha\"},\"fill_color\":{\"field\":\"color\"},\"height\":{\"field\":\"height\",\"units\":\"data\"},\"line_color\":{\"field\":\"line_color\"},\"width\":{\"field\":\"width\",\"units\":\"data\"},\"x\":{\"field\":\"x\"},\"y\":{\"field\":\"y\"}},\"id\":\"e38a1835-7370-4276-8968-b3aba0f8cc76\",\"type\":\"Rect\"},{\"attributes\":{\"fill_alpha\":{\"field\":\"fill_alpha\"},\"fill_color\":{\"field\":\"color\"},\"height\":{\"field\":\"height\",\"units\":\"data\"},\"line_color\":{\"field\":\"line_color\"},\"width\":{\"field\":\"width\",\"units\":\"data\"},\"x\":{\"field\":\"x\"},\"y\":{\"field\":\"y\"}},\"id\":\"05f7ede0-ac48-42fa-bddb-308dac9ee0c4\",\"type\":\"Rect\"},{\"attributes\":{\"data_source\":{\"id\":\"01cd598f-0fdd-4845-869c-b6daf2ab9456\",\"type\":\"ColumnDataSource\"},\"glyph\":{\"id\":\"b2bc126f-fa37-488f-92e0-18e602ac90e8\",\"type\":\"Rect\"},\"hover_glyph\":null,\"nonselection_glyph\":null,\"selection_glyph\":null},\"id\":\"902df2fb-8c15-4938-a7fb-438bf84cb0bd\",\"type\":\"GlyphRenderer\"},{\"attributes\":{\"callback\":null,\"column_names\":[\"height\",\"fill_alpha\",\"width\",\"color\",\"line_color\",\"line_alpha\",\"y\",\"x\",\"label\"],\"data\":{\"PercentageAmongstTop\":[5.848851251621368],\"QuestCreationYear\":[\"Oct'10-11\"],\"QuestTags\":[\"python\"],\"YearTagCount\":[3923],\"chart_index\":[{\"PercentageAmongstTop\":5.848851251621368,\"QuestCreationYear\":\"Oct'10-11\",\"QuestTags\":\"python\",\"YearTagCount\":3923}],\"color\":[\"#FFA07A\"],\"fill_alpha\":[0.8],\"height\":[5.848851251621368],\"label\":[{\"PercentageAmongstTop\":5.848851251621368,\"QuestCreationYear\":\"Oct'10-11\",\"QuestTags\":\"python\",\"YearTagCount\":3923}],\"line_alpha\":[1.0],\"line_color\":[\"#FF6347\"],\"width\":[1.0],\"x\":[\"Oct'10-11\"],\"y\":[97.0755743741893]}},\"id\":\"a49df576-b136-4a8c-9083-28b14a284906\",\"type\":\"ColumnDataSource\"},{\"attributes\":{\"fill_alpha\":{\"field\":\"fill_alpha\"},\"fill_color\":{\"field\":\"color\"},\"height\":{\"field\":\"height\",\"units\":\"data\"},\"line_color\":{\"field\":\"line_color\"},\"width\":{\"field\":\"width\",\"units\":\"data\"},\"x\":{\"field\":\"x\"},\"y\":{\"field\":\"y\"}},\"id\":\"efe47d44-367c-4809-82a3-0c8a7d5c2be4\",\"type\":\"Rect\"},{\"attributes\":{\"data_source\":{\"id\":\"c642483d-0705-478e-84cf-6033efad0c9f\",\"type\":\"ColumnDataSource\"},\"glyph\":{\"id\":\"22740ee9-c910-46b4-9f0a-0dd440e0c14e\",\"type\":\"Rect\"},\"hover_glyph\":null,\"nonselection_glyph\":null,\"selection_glyph\":null},\"id\":\"62406c08-0fec-422d-a2e5-c95c7bb43720\",\"type\":\"GlyphRenderer\"},{\"attributes\":{\"callback\":null,\"column_names\":[\"height\",\"fill_alpha\",\"width\",\"color\",\"line_color\",\"line_alpha\",\"y\",\"x\",\"label\"],\"data\":{\"PercentageAmongstTop\":[6.837177926223305],\"QuestCreationYear\":[\"Oct'12-13\"],\"QuestTags\":[\"python\"],\"YearTagCount\":[8311],\"chart_index\":[{\"PercentageAmongstTop\":6.837177926223305,\"QuestCreationYear\":\"Oct'12-13\",\"QuestTags\":\"python\",\"YearTagCount\":8311}],\"color\":[\"#FFA07A\"],\"fill_alpha\":[0.8],\"height\":[6.837177926223305],\"label\":[{\"PercentageAmongstTop\":6.837177926223305,\"QuestCreationYear\":\"Oct'12-13\",\"QuestTags\":\"python\",\"YearTagCount\":8311}],\"line_alpha\":[1.0],\"line_color\":[\"#FFF0F5\"],\"width\":[1.0],\"x\":[\"Oct'12-13\"],\"y\":[96.58141103688834]}},\"id\":\"957a29e3-8514-459d-a0e1-92b61e0d0c48\",\"type\":\"ColumnDataSource\"},{\"attributes\":{\"callback\":null,\"column_names\":[\"height\",\"fill_alpha\",\"width\",\"color\",\"line_color\",\"line_alpha\",\"y\",\"x\",\"label\"],\"data\":{\"PercentageAmongstTop\":[7.847807499694638],\"QuestCreationYear\":[\"Oct'08-09\"],\"QuestTags\":[\"c++\"],\"YearTagCount\":[1285],\"chart_index\":[{\"PercentageAmongstTop\":7.847807499694638,\"QuestCreationYear\":\"Oct'08-09\",\"QuestTags\":\"c++\",\"YearTagCount\":1285}],\"color\":[\"#FFF0F5\"],\"fill_alpha\":[0.8],\"height\":[7.847807499694638],\"label\":[{\"PercentageAmongstTop\":7.847807499694638,\"QuestCreationYear\":\"Oct'08-09\",\"QuestTags\":\"c++\",\"YearTagCount\":1285}],\"line_alpha\":[1.0],\"line_color\":[\"#E6E6FA\"],\"width\":[1.0],\"x\":[\"Oct'08-09\"],\"y\":[49.1541468181263]}},\"id\":\"9b0c0880-dc7a-4014-8d0d-22e4e5a04966\",\"type\":\"ColumnDataSource\"},{\"attributes\":{\"data_source\":{\"id\":\"15c40760-7e08-46b5-97a0-f22dda7c253c\",\"type\":\"ColumnDataSource\"},\"glyph\":{\"id\":\"95fff729-266e-44ef-8fff-7ed45a2f5459\",\"type\":\"Rect\"},\"hover_glyph\":null,\"nonselection_glyph\":null,\"selection_glyph\":null},\"id\":\"2a40735f-8d9f-49b9-af36-306d2ff41b30\",\"type\":\"GlyphRenderer\"},{\"attributes\":{\"fill_alpha\":{\"field\":\"fill_alpha\"},\"fill_color\":{\"field\":\"color\"},\"height\":{\"field\":\"height\",\"units\":\"data\"},\"line_color\":{\"field\":\"line_color\"},\"width\":{\"field\":\"width\",\"units\":\"data\"},\"x\":{\"field\":\"x\"},\"y\":{\"field\":\"y\"}},\"id\":\"840948ba-4a8a-4374-99f5-56406751134d\",\"type\":\"Rect\"},{\"attributes\":{\"data_source\":{\"id\":\"7447c789-1299-4de1-847a-865b64041bbb\",\"type\":\"ColumnDataSource\"},\"glyph\":{\"id\":\"f76e34b4-db30-493d-98a6-d81189e76daf\",\"type\":\"Rect\"},\"hover_glyph\":null,\"nonselection_glyph\":null,\"selection_glyph\":null},\"id\":\"f3006308-1c64-471b-ab99-d1b12e99257e\",\"type\":\"GlyphRenderer\"},{\"attributes\":{\"fill_alpha\":{\"field\":\"fill_alpha\"},\"fill_color\":{\"field\":\"color\"},\"height\":{\"field\":\"height\",\"units\":\"data\"},\"line_color\":{\"field\":\"line_color\"},\"width\":{\"field\":\"width\",\"units\":\"data\"},\"x\":{\"field\":\"x\"},\"y\":{\"field\":\"y\"}},\"id\":\"a19097b1-71e1-4ae5-bea3-78c6221801e7\",\"type\":\"Rect\"},{\"attributes\":{\"fill_alpha\":{\"field\":\"fill_alpha\"},\"fill_color\":{\"field\":\"color\"},\"height\":{\"field\":\"height\",\"units\":\"data\"},\"line_color\":{\"field\":\"line_color\"},\"width\":{\"field\":\"width\",\"units\":\"data\"},\"x\":{\"field\":\"x\"},\"y\":{\"field\":\"y\"}},\"id\":\"585c1406-7880-415f-b0ed-fa5143d586d8\",\"type\":\"Rect\"},{\"attributes\":{\"data_source\":{\"id\":\"a9fb701c-d7eb-4bbb-862f-31d131b75574\",\"type\":\"ColumnDataSource\"},\"glyph\":{\"id\":\"f9787662-9c14-41b9-bdaa-fed582439982\",\"type\":\"Rect\"},\"hover_glyph\":null,\"nonselection_glyph\":null,\"selection_glyph\":null},\"id\":\"7df199cf-4a3a-4d52-bda0-4b2171fb3d0f\",\"type\":\"GlyphRenderer\"},{\"attributes\":{\"data_source\":{\"id\":\"5c4d5bd0-5b74-4904-9bb7-512bec3ac6ce\",\"type\":\"ColumnDataSource\"},\"glyph\":{\"id\":\"69c8e097-3a65-4f69-97f9-9fc4ef86cfb4\",\"type\":\"Rect\"},\"hover_glyph\":null,\"nonselection_glyph\":null,\"selection_glyph\":null},\"id\":\"ba5432b4-f005-402e-bc85-eeb5bdb40c7e\",\"type\":\"GlyphRenderer\"},{\"attributes\":{\"callback\":null,\"column_names\":[\"height\",\"fill_alpha\",\"width\",\"color\",\"line_color\",\"line_alpha\",\"y\",\"x\",\"label\"],\"data\":{\"PercentageAmongstTop\":[13.51461208154417],\"QuestCreationYear\":[\"Oct'11-12\"],\"QuestTags\":[\"java\"],\"YearTagCount\":[12967],\"chart_index\":[{\"PercentageAmongstTop\":13.51461208154417,\"QuestCreationYear\":\"Oct'11-12\",\"QuestTags\":\"java\",\"YearTagCount\":12967}],\"color\":[\"#D3D3D3\"],\"fill_alpha\":[0.8],\"height\":[13.51461208154417],\"label\":[{\"PercentageAmongstTop\":13.51461208154417,\"QuestCreationYear\":\"Oct'11-12\",\"QuestTags\":\"java\",\"YearTagCount\":12967}],\"line_alpha\":[1.0],\"line_color\":[\"#D3D3D3\"],\"width\":[1.0],\"x\":[\"Oct'11-12\"],\"y\":[51.11675073998416]}},\"id\":\"c942905c-254f-49b5-a441-bd2a22ec7ea1\",\"type\":\"ColumnDataSource\"},{\"attributes\":{\"active_drag\":\"auto\",\"active_scroll\":\"auto\",\"active_tap\":\"auto\",\"tools\":[{\"id\":\"3108d261-24e1-4b57-9616-ae1996c77a9f\",\"type\":\"HoverTool\"}]},\"id\":\"7c35bd90-5776-4e6d-80b7-6abe6697579d\",\"type\":\"Toolbar\"},{\"attributes\":{\"dimension\":1,\"plot\":{\"id\":\"54a8b18c-92ae-46f6-a00d-ac498acef5e6\",\"subtype\":\"Chart\",\"type\":\"Plot\"},\"ticker\":{\"id\":\"24235c9d-094f-4bad-a66e-ba7240cc03f0\",\"type\":\"BasicTicker\"}},\"id\":\"70efffb4-0270-46dd-9a25-ebbe3594329a\",\"type\":\"Grid\"},{\"attributes\":{\"fill_alpha\":{\"field\":\"fill_alpha\"},\"fill_color\":{\"field\":\"color\"},\"height\":{\"field\":\"height\",\"units\":\"data\"},\"line_color\":{\"field\":\"line_color\"},\"width\":{\"field\":\"width\",\"units\":\"data\"},\"x\":{\"field\":\"x\"},\"y\":{\"field\":\"y\"}},\"id\":\"8e20f6a7-0bc3-4c6b-86a3-6b680404542a\",\"type\":\"Rect\"},{\"attributes\":{\"callback\":null,\"column_names\":[\"height\",\"fill_alpha\",\"width\",\"color\",\"line_color\",\"line_alpha\",\"y\",\"x\",\"label\"],\"data\":{\"PercentageAmongstTop\":[10.263644390486176],\"QuestCreationYear\":[\"Oct'14-15\"],\"QuestTags\":[\"c#\"],\"YearTagCount\":[14879],\"chart_index\":[{\"PercentageAmongstTop\":10.263644390486176,\"QuestCreationYear\":\"Oct'14-15\",\"QuestTags\":\"c#\",\"YearTagCount\":14879}],\"color\":[\"#E6E6FA\"],\"fill_alpha\":[0.8],\"height\":[10.263644390486176],\"label\":[{\"PercentageAmongstTop\":10.263644390486176,\"QuestCreationYear\":\"Oct'14-15\",\"QuestTags\":\"c#\",\"YearTagCount\":14879}],\"line_alpha\":[1.0],\"line_color\":[\"#778899\"],\"width\":[1.0],\"x\":[\"Oct'14-15\"],\"y\":[16.146666850615308]}},\"id\":\"3eda5258-8eb0-4bb6-8747-40f760acc1ba\",\"type\":\"ColumnDataSource\"},{\"attributes\":{\"callback\":null,\"column_names\":[\"height\",\"fill_alpha\",\"width\",\"color\",\"line_color\",\"line_alpha\",\"y\",\"x\",\"label\"],\"data\":{\"PercentageAmongstTop\":[8.820894306735807],\"QuestCreationYear\":[\"Oct'09-10\"],\"QuestTags\":[\"ios\"],\"YearTagCount\":[3249],\"chart_index\":[{\"PercentageAmongstTop\":8.820894306735807,\"QuestCreationYear\":\"Oct'09-10\",\"QuestTags\":\"ios\",\"YearTagCount\":3249}],\"color\":[\"#F08080\"],\"fill_alpha\":[0.8],\"height\":[8.820894306735807],\"label\":[{\"PercentageAmongstTop\":8.820894306735807,\"QuestCreationYear\":\"Oct'09-10\",\"QuestTags\":\"ios\",\"YearTagCount\":3249}],\"line_alpha\":[1.0],\"line_color\":[\"#778899\"],\"width\":[1.0],\"x\":[\"Oct'09-10\"],\"y\":[45.72122824640947]}},\"id\":\"edba9da3-22ce-4a32-a8b3-adcdc8cfecd4\",\"type\":\"ColumnDataSource\"},{\"attributes\":{\"fill_alpha\":{\"field\":\"fill_alpha\"},\"fill_color\":{\"field\":\"color\"},\"height\":{\"field\":\"height\",\"units\":\"data\"},\"line_color\":{\"field\":\"line_color\"},\"width\":{\"field\":\"width\",\"units\":\"data\"},\"x\":{\"field\":\"x\"},\"y\":{\"field\":\"y\"}},\"id\":\"a79818e8-c461-4e65-be11-5616829c9686\",\"type\":\"Rect\"},{\"attributes\":{\"fill_alpha\":{\"field\":\"fill_alpha\"},\"fill_color\":{\"field\":\"color\"},\"height\":{\"field\":\"height\",\"units\":\"data\"},\"line_color\":{\"field\":\"line_color\"},\"width\":{\"field\":\"width\",\"units\":\"data\"},\"x\":{\"field\":\"x\"},\"y\":{\"field\":\"y\"}},\"id\":\"129d3eae-d1d3-45de-9359-10ada2c33267\",\"type\":\"Rect\"},{\"attributes\":{\"fill_alpha\":{\"field\":\"fill_alpha\"},\"fill_color\":{\"field\":\"color\"},\"height\":{\"field\":\"height\",\"units\":\"data\"},\"line_color\":{\"field\":\"line_color\"},\"width\":{\"field\":\"width\",\"units\":\"data\"},\"x\":{\"field\":\"x\"},\"y\":{\"field\":\"y\"}},\"id\":\"d0d79eb5-e3a0-4d6d-8205-a472cb90d9fc\",\"type\":\"Rect\"},{\"attributes\":{\"fill_alpha\":{\"field\":\"fill_alpha\"},\"fill_color\":{\"field\":\"color\"},\"height\":{\"field\":\"height\",\"units\":\"data\"},\"line_color\":{\"field\":\"line_color\"},\"width\":{\"field\":\"width\",\"units\":\"data\"},\"x\":{\"field\":\"x\"},\"y\":{\"field\":\"y\"}},\"id\":\"3ecc8c20-8934-48c2-b01c-2b133eb741dc\",\"type\":\"Rect\"},{\"attributes\":{\"fill_alpha\":{\"field\":\"fill_alpha\"},\"fill_color\":{\"field\":\"color\"},\"height\":{\"field\":\"height\",\"units\":\"data\"},\"line_color\":{\"field\":\"line_color\"},\"width\":{\"field\":\"width\",\"units\":\"data\"},\"x\":{\"field\":\"x\"},\"y\":{\"field\":\"y\"}},\"id\":\"3ebb738c-bc82-45ae-9b40-3b92c8046202\",\"type\":\"Rect\"},{\"attributes\":{\"callback\":null,\"column_names\":[\"height\",\"fill_alpha\",\"width\",\"color\",\"line_color\",\"line_alpha\",\"y\",\"x\",\"label\"],\"data\":{\"PercentageAmongstTop\":[15.55203209063436],\"QuestCreationYear\":[\"Oct'13-14\"],\"QuestTags\":[\"javascript\"],\"YearTagCount\":[22952],\"chart_index\":[{\"PercentageAmongstTop\":15.55203209063436,\"QuestCreationYear\":\"Oct'13-14\",\"QuestTags\":\"javascript\",\"YearTagCount\":22952}],\"color\":[\"#FFB6C1\"],\"fill_alpha\":[0.8],\"height\":[15.55203209063436],\"label\":[{\"PercentageAmongstTop\":15.55203209063436,\"QuestCreationYear\":\"Oct'13-14\",\"QuestTags\":\"javascript\",\"YearTagCount\":22952}],\"line_alpha\":[1.0],\"line_color\":[\"#778899\"],\"width\":[1.0],\"x\":[\"Oct'13-14\"],\"y\":[63.241452209619055]}},\"id\":\"c3c1ac7a-178c-43d5-a268-80d5e8312525\",\"type\":\"ColumnDataSource\"},{\"attributes\":{\"callback\":null,\"column_names\":[\"height\",\"fill_alpha\",\"width\",\"color\",\"line_color\",\"line_alpha\",\"y\",\"x\",\"label\"],\"data\":{\"PercentageAmongstTop\":[7.764674310080062],\"QuestCreationYear\":[\"Oct'10-11\"],\"QuestTags\":[\"ios\"],\"YearTagCount\":[5208],\"chart_index\":[{\"PercentageAmongstTop\":7.764674310080062,\"QuestCreationYear\":\"Oct'10-11\",\"QuestTags\":\"ios\",\"YearTagCount\":5208}],\"color\":[\"#F08080\"],\"fill_alpha\":[0.8],\"height\":[7.764674310080062],\"label\":[{\"PercentageAmongstTop\":7.764674310080062,\"QuestCreationYear\":\"Oct'10-11\",\"QuestTags\":\"ios\",\"YearTagCount\":5208}],\"line_alpha\":[1.0],\"line_color\":[\"#ADD8E6\"],\"width\":[1.0],\"x\":[\"Oct'10-11\"],\"y\":[42.43734438596753]}},\"id\":\"2e6351f8-f137-431b-a6ed-28e04622ed9b\",\"type\":\"ColumnDataSource\"},{\"attributes\":{\"axis_label\":\"Percentage of Top Tags Used in Questions Yearly (%)\",\"formatter\":{\"id\":\"d12699e3-0e52-41f4-99e1-e12de3478025\",\"type\":\"BasicTickFormatter\"},\"plot\":{\"id\":\"54a8b18c-92ae-46f6-a00d-ac498acef5e6\",\"subtype\":\"Chart\",\"type\":\"Plot\"},\"ticker\":{\"id\":\"24235c9d-094f-4bad-a66e-ba7240cc03f0\",\"type\":\"BasicTicker\"}},\"id\":\"7d9c186e-5fca-4575-8b77-1db0da356e12\",\"type\":\"LinearAxis\"},{\"attributes\":{\"data_source\":{\"id\":\"7587861e-251a-4d72-bf37-9caf9de05ccf\",\"type\":\"ColumnDataSource\"},\"glyph\":{\"id\":\"49c20405-e515-4683-854c-32bdcbfb4a4e\",\"type\":\"Rect\"},\"hover_glyph\":null,\"nonselection_glyph\":null,\"selection_glyph\":null},\"id\":\"fef4ba3b-4992-4598-a424-3522306593f3\",\"type\":\"GlyphRenderer\"},{\"attributes\":{},\"id\":\"d12699e3-0e52-41f4-99e1-e12de3478025\",\"type\":\"BasicTickFormatter\"},{\"attributes\":{\"callback\":null,\"column_names\":[\"height\",\"fill_alpha\",\"width\",\"color\",\"line_color\",\"line_alpha\",\"y\",\"x\",\"label\"],\"data\":{\"PercentageAmongstTop\":[10.676427176360086],\"QuestCreationYear\":[\"Oct'10-11\"],\"QuestTags\":[\"jquery\"],\"YearTagCount\":[7161],\"chart_index\":[{\"PercentageAmongstTop\":10.676427176360086,\"QuestCreationYear\":\"Oct'10-11\",\"QuestTags\":\"jquery\",\"YearTagCount\":7161}],\"color\":[\"#87CEFA\"],\"fill_alpha\":[0.8],\"height\":[10.676427176360086],\"label\":[{\"PercentageAmongstTop\":10.676427176360086,\"QuestCreationYear\":\"Oct'10-11\",\"QuestTags\":\"jquery\",\"YearTagCount\":7161}],\"line_alpha\":[1.0],\"line_color\":[\"#778899\"],\"width\":[1.0],\"x\":[\"Oct'10-11\"],\"y\":[76.07159363678379]}},\"id\":\"28709854-8437-4b98-983d-2fea6b364490\",\"type\":\"ColumnDataSource\"},{\"attributes\":{\"callback\":null,\"column_names\":[\"height\",\"fill_alpha\",\"width\",\"color\",\"line_color\",\"line_alpha\",\"y\",\"x\",\"label\"],\"data\":{\"PercentageAmongstTop\":[9.814927089648792],\"QuestCreationYear\":[\"Oct'15-16\"],\"QuestTags\":[\"python\"],\"YearTagCount\":[15703],\"chart_index\":[{\"PercentageAmongstTop\":9.814927089648792,\"QuestCreationYear\":\"Oct'15-16\",\"QuestTags\":\"python\",\"YearTagCount\":15703}],\"color\":[\"#FFA07A\"],\"fill_alpha\":[0.8],\"height\":[9.814927089648792],\"label\":[{\"PercentageAmongstTop\":9.814927089648792,\"QuestCreationYear\":\"Oct'15-16\",\"QuestTags\":\"python\",\"YearTagCount\":15703}],\"line_alpha\":[1.0],\"line_color\":[\"#40E0D0\"],\"width\":[1.0],\"x\":[\"Oct'15-16\"],\"y\":[95.09253645517559]}},\"id\":\"7fbdb814-2461-4fee-bf8c-20f0b10330ea\",\"type\":\"ColumnDataSource\"},{\"attributes\":{\"fill_alpha\":{\"field\":\"fill_alpha\"},\"fill_color\":{\"field\":\"color\"},\"height\":{\"field\":\"height\",\"units\":\"data\"},\"line_color\":{\"field\":\"line_color\"},\"width\":{\"field\":\"width\",\"units\":\"data\"},\"x\":{\"field\":\"x\"},\"y\":{\"field\":\"y\"}},\"id\":\"4a9e235e-ed28-458f-bc0a-9571c68ef7a5\",\"type\":\"Rect\"},{\"attributes\":{\"fill_alpha\":{\"field\":\"fill_alpha\"},\"fill_color\":{\"field\":\"color\"},\"height\":{\"field\":\"height\",\"units\":\"data\"},\"line_color\":{\"field\":\"line_color\"},\"width\":{\"field\":\"width\",\"units\":\"data\"},\"x\":{\"field\":\"x\"},\"y\":{\"field\":\"y\"}},\"id\":\"f3a3efec-b5f4-4102-b22a-68f0806fb455\",\"type\":\"Rect\"},{\"attributes\":{\"data_source\":{\"id\":\"a6090c02-2211-4b92-ae7a-8422d54640e0\",\"type\":\"ColumnDataSource\"},\"glyph\":{\"id\":\"7f81fe98-d7de-47c2-ba49-750d9dd5996c\",\"type\":\"Rect\"},\"hover_glyph\":null,\"nonselection_glyph\":null,\"selection_glyph\":null},\"id\":\"4adb10da-03e5-461a-825a-997e3cc19ce0\",\"type\":\"GlyphRenderer\"},{\"attributes\":{\"data_source\":{\"id\":\"6217c6cd-670e-40b3-bcd6-170a7be01453\",\"type\":\"ColumnDataSource\"},\"glyph\":{\"id\":\"3cfa8c4f-7b70-4eb1-b47b-68257eda4289\",\"type\":\"Rect\"},\"hover_glyph\":null,\"nonselection_glyph\":null,\"selection_glyph\":null},\"id\":\"0972fe6d-3457-4370-925d-6b79ea0330d7\",\"type\":\"GlyphRenderer\"},{\"attributes\":{\"data_source\":{\"id\":\"9dbc1d08-e017-434b-9487-f58d266fd21a\",\"type\":\"ColumnDataSource\"},\"glyph\":{\"id\":\"df3f975b-b847-4de4-adce-b0da6a731522\",\"type\":\"Rect\"},\"hover_glyph\":null,\"nonselection_glyph\":null,\"selection_glyph\":null},\"id\":\"ff8efb10-8638-409a-811e-e11072eb889e\",\"type\":\"GlyphRenderer\"},{\"attributes\":{\"fill_alpha\":{\"field\":\"fill_alpha\"},\"fill_color\":{\"field\":\"color\"},\"height\":{\"field\":\"height\",\"units\":\"data\"},\"line_color\":{\"field\":\"line_color\"},\"width\":{\"field\":\"width\",\"units\":\"data\"},\"x\":{\"field\":\"x\"},\"y\":{\"field\":\"y\"}},\"id\":\"25ab2cec-7642-4884-bff6-5ca379a8fe9a\",\"type\":\"Rect\"},{\"attributes\":{\"callback\":null,\"column_names\":[\"height\",\"fill_alpha\",\"width\",\"color\",\"line_color\",\"line_alpha\",\"y\",\"x\",\"label\"],\"data\":{\"PercentageAmongstTop\":[10.966139063476916],\"QuestCreationYear\":[\"Oct'12-13\"],\"QuestTags\":[\"jquery\"],\"YearTagCount\":[13330],\"chart_index\":[{\"PercentageAmongstTop\":10.966139063476916,\"QuestCreationYear\":\"Oct'12-13\",\"QuestTags\":\"jquery\",\"YearTagCount\":13330}],\"color\":[\"#87CEFA\"],\"fill_alpha\":[0.8],\"height\":[10.966139063476916],\"label\":[{\"PercentageAmongstTop\":10.966139063476916,\"QuestCreationYear\":\"Oct'12-13\",\"QuestTags\":\"jquery\",\"YearTagCount\":13330}],\"line_alpha\":[1.0],\"line_color\":[\"#FFB6C1\"],\"width\":[1.0],\"x\":[\"Oct'12-13\"],\"y\":[75.7815327914706]}},\"id\":\"095ea82c-49f7-40ff-9d54-3f0c4325ba82\",\"type\":\"ColumnDataSource\"},{\"attributes\":{\"data_source\":{\"id\":\"5f125af7-df16-4883-b09b-c76fb6c17dd6\",\"type\":\"ColumnDataSource\"},\"glyph\":{\"id\":\"e3674e04-c6aa-4580-85b6-4049038f7f4a\",\"type\":\"Rect\"},\"hover_glyph\":null,\"nonselection_glyph\":null,\"selection_glyph\":null},\"id\":\"1b12ab2d-d720-4262-a939-b119570ea7c9\",\"type\":\"GlyphRenderer\"},{\"attributes\":{\"fill_alpha\":{\"field\":\"fill_alpha\"},\"fill_color\":{\"field\":\"color\"},\"height\":{\"field\":\"height\",\"units\":\"data\"},\"line_color\":{\"field\":\"line_color\"},\"width\":{\"field\":\"width\",\"units\":\"data\"},\"x\":{\"field\":\"x\"},\"y\":{\"field\":\"y\"}},\"id\":\"c17e1569-d06b-493e-952b-2299c7821a95\",\"type\":\"Rect\"},{\"attributes\":{\"callback\":null,\"column_names\":[\"height\",\"fill_alpha\",\"width\",\"color\",\"line_color\",\"line_alpha\",\"y\",\"x\",\"label\"],\"data\":{\"PercentageAmongstTop\":[7.779187579301336],\"QuestCreationYear\":[\"Oct'15-16\"],\"QuestTags\":[\"jquery\"],\"YearTagCount\":[12446],\"chart_index\":[{\"PercentageAmongstTop\":7.779187579301336,\"QuestCreationYear\":\"Oct'15-16\",\"QuestTags\":\"jquery\",\"YearTagCount\":12446}],\"color\":[\"#87CEFA\"],\"fill_alpha\":[0.8],\"height\":[7.779187579301336],\"label\":[{\"PercentageAmongstTop\":7.779187579301336,\"QuestCreationYear\":\"Oct'15-16\",\"QuestTags\":\"jquery\",\"YearTagCount\":12446}],\"line_alpha\":[1.0],\"line_color\":[\"#FFF0F5\"],\"width\":[1.0],\"x\":[\"Oct'15-16\"],\"y\":[75.5936271415267]}},\"id\":\"cee5674b-76fa-43a5-866c-5c4bcb42a1fb\",\"type\":\"ColumnDataSource\"},{\"attributes\":{\"data_source\":{\"id\":\"2e6351f8-f137-431b-a6ed-28e04622ed9b\",\"type\":\"ColumnDataSource\"},\"glyph\":{\"id\":\"840948ba-4a8a-4374-99f5-56406751134d\",\"type\":\"Rect\"},\"hover_glyph\":null,\"nonselection_glyph\":null,\"selection_glyph\":null},\"id\":\"d710253b-3ea0-46e5-9321-c933ff6aa092\",\"type\":\"GlyphRenderer\"},{\"attributes\":{\"fill_alpha\":{\"field\":\"fill_alpha\"},\"fill_color\":{\"field\":\"color\"},\"height\":{\"field\":\"height\",\"units\":\"data\"},\"line_color\":{\"field\":\"line_color\"},\"width\":{\"field\":\"width\",\"units\":\"data\"},\"x\":{\"field\":\"x\"},\"y\":{\"field\":\"y\"}},\"id\":\"3b99cae2-4695-4c68-afb9-f32673224b5c\",\"type\":\"Rect\"},{\"attributes\":{\"fill_alpha\":{\"field\":\"fill_alpha\"},\"fill_color\":{\"field\":\"color\"},\"height\":{\"field\":\"height\",\"units\":\"data\"},\"line_color\":{\"field\":\"line_color\"},\"width\":{\"field\":\"width\",\"units\":\"data\"},\"x\":{\"field\":\"x\"},\"y\":{\"field\":\"y\"}},\"id\":\"bd3c4d1a-d22a-4c06-81e6-f32a91daf1df\",\"type\":\"Rect\"},{\"attributes\":{\"callback\":null,\"column_names\":[\"height\",\"fill_alpha\",\"width\",\"color\",\"line_color\",\"line_alpha\",\"y\",\"x\",\"label\"],\"data\":{\"PercentageAmongstTop\":[11.106015758535873],\"QuestCreationYear\":[\"Oct'11-12\"],\"QuestTags\":[\"jquery\"],\"YearTagCount\":[10656],\"chart_index\":[{\"PercentageAmongstTop\":11.106015758535873,\"QuestCreationYear\":\"Oct'11-12\",\"QuestTags\":\"jquery\",\"YearTagCount\":10656}],\"color\":[\"#87CEFA\"],\"fill_alpha\":[0.8],\"height\":[11.106015758535873],\"label\":[{\"PercentageAmongstTop\":11.106015758535873,\"QuestCreationYear\":\"Oct'11-12\",\"QuestTags\":\"jquery\",\"YearTagCount\":10656}],\"line_alpha\":[1.0],\"line_color\":[\"#FFA07A\"],\"width\":[1.0],\"x\":[\"Oct'11-12\"],\"y\":[76.16834118480844]}},\"id\":\"c1625ce6-38af-4ae4-8dba-26d35ba151c3\",\"type\":\"ColumnDataSource\"},{\"attributes\":{\"fill_alpha\":{\"field\":\"fill_alpha\"},\"fill_color\":{\"field\":\"color\"},\"height\":{\"field\":\"height\",\"units\":\"data\"},\"line_color\":{\"field\":\"line_color\"},\"width\":{\"field\":\"width\",\"units\":\"data\"},\"x\":{\"field\":\"x\"},\"y\":{\"field\":\"y\"}},\"id\":\"a369e26d-e137-4ff3-b89c-df78ec6b8376\",\"type\":\"Rect\"},{\"attributes\":{\"data_source\":{\"id\":\"c9929abf-ffcc-4a97-8fdb-24b8c7314732\",\"type\":\"ColumnDataSource\"},\"glyph\":{\"id\":\"b9841695-e5c2-44ce-a685-d4b3824a9c5a\",\"type\":\"Rect\"},\"hover_glyph\":null,\"nonselection_glyph\":null,\"selection_glyph\":null},\"id\":\"40b858b8-6219-4f06-8f9d-be8b1429ccf0\",\"type\":\"GlyphRenderer\"},{\"attributes\":{\"fill_alpha\":{\"field\":\"fill_alpha\"},\"fill_color\":{\"field\":\"color\"},\"height\":{\"field\":\"height\",\"units\":\"data\"},\"line_color\":{\"field\":\"line_color\"},\"width\":{\"field\":\"width\",\"units\":\"data\"},\"x\":{\"field\":\"x\"},\"y\":{\"field\":\"y\"}},\"id\":\"1296eb00-8e6c-436e-bd85-c40195c53aa3\",\"type\":\"Rect\"},{\"attributes\":{\"callback\":null,\"column_names\":[\"height\",\"fill_alpha\",\"width\",\"color\",\"line_color\",\"line_alpha\",\"y\",\"x\",\"label\"],\"data\":{\"PercentageAmongstTop\":[11.01484465537222],\"QuestCreationYear\":[\"Oct'14-15\"],\"QuestTags\":[\"android\"],\"YearTagCount\":[15968],\"chart_index\":[{\"PercentageAmongstTop\":11.01484465537222,\"QuestCreationYear\":\"Oct'14-15\",\"QuestTags\":\"android\",\"YearTagCount\":15968}],\"color\":[\"#FF6347\"],\"fill_alpha\":[0.8],\"height\":[11.01484465537222],\"label\":[{\"PercentageAmongstTop\":11.01484465537222,\"QuestCreationYear\":\"Oct'14-15\",\"QuestTags\":\"android\",\"YearTagCount\":15968}],\"line_alpha\":[1.0],\"line_color\":[\"#F0E68C\"],\"width\":[1.0],\"x\":[\"Oct'14-15\"],\"y\":[5.50742232768611]}},\"id\":\"66369fbb-e2e0-4623-b3bf-9bb57c29f2bf\",\"type\":\"ColumnDataSource\"},{\"attributes\":{\"data_source\":{\"id\":\"edba9da3-22ce-4a32-a8b3-adcdc8cfecd4\",\"type\":\"ColumnDataSource\"},\"glyph\":{\"id\":\"e30d7484-eff4-4e51-a0dd-a9ebb04de69f\",\"type\":\"Rect\"},\"hover_glyph\":null,\"nonselection_glyph\":null,\"selection_glyph\":null},\"id\":\"b0db0995-5eff-48c2-9df8-9ad96da7773f\",\"type\":\"GlyphRenderer\"},{\"attributes\":{\"fill_alpha\":{\"field\":\"fill_alpha\"},\"fill_color\":{\"field\":\"color\"},\"height\":{\"field\":\"height\",\"units\":\"data\"},\"line_color\":{\"field\":\"line_color\"},\"width\":{\"field\":\"width\",\"units\":\"data\"},\"x\":{\"field\":\"x\"},\"y\":{\"field\":\"y\"}},\"id\":\"df3f975b-b847-4de4-adce-b0da6a731522\",\"type\":\"Rect\"},{\"attributes\":{\"data_source\":{\"id\":\"e4b9d98a-6b75-44ee-b553-ee3c32ec0be1\",\"type\":\"ColumnDataSource\"},\"glyph\":{\"id\":\"311ab137-97d0-4809-b996-610858e1535f\",\"type\":\"Rect\"},\"hover_glyph\":null,\"nonselection_glyph\":null,\"selection_glyph\":null},\"id\":\"2b1870ef-d836-48eb-8189-3a0325df580b\",\"type\":\"GlyphRenderer\"},{\"attributes\":{\"callback\":null,\"column_names\":[\"height\",\"fill_alpha\",\"width\",\"color\",\"line_color\",\"line_alpha\",\"y\",\"x\",\"label\"],\"data\":{\"PercentageAmongstTop\":[15.42796654391484],\"QuestCreationYear\":[\"Oct'10-11\"],\"QuestTags\":[\"c#\"],\"YearTagCount\":[10348],\"chart_index\":[{\"PercentageAmongstTop\":15.42796654391484,\"QuestCreationYear\":\"Oct'10-11\",\"QuestTags\":\"c#\",\"YearTagCount\":10348}],\"color\":[\"#E6E6FA\"],\"fill_alpha\":[0.8],\"height\":[15.42796654391484],\"label\":[{\"PercentageAmongstTop\":15.42796654391484,\"QuestCreationYear\":\"Oct'10-11\",\"QuestTags\":\"c#\",\"YearTagCount\":10348}],\"line_alpha\":[1.0],\"line_color\":[\"#20B2AA\"],\"width\":[1.0],\"x\":[\"Oct'10-11\"],\"y\":[24.491225977666126]}},\"id\":\"b4d13830-e6e8-48b0-bc07-75b9265401db\",\"type\":\"ColumnDataSource\"},{\"attributes\":{\"data_source\":{\"id\":\"b6bbe7bb-0b1c-459a-9674-1d163484a809\",\"type\":\"ColumnDataSource\"},\"glyph\":{\"id\":\"cd7ccbf9-a985-4873-92f8-1fbf34db16c7\",\"type\":\"Rect\"},\"hover_glyph\":null,\"nonselection_glyph\":null,\"selection_glyph\":null},\"id\":\"b6109819-3f4d-480f-8c39-d43679182859\",\"type\":\"GlyphRenderer\"},{\"attributes\":{\"callback\":null,\"factors\":[\"Oct'08-09\",\"Oct'09-10\",\"Oct'10-11\",\"Oct'11-12\",\"Oct'12-13\",\"Oct'13-14\",\"Oct'14-15\",\"Oct'15-16\"]},\"id\":\"de429b76-199d-47d0-aa5b-589ee29127ac\",\"type\":\"FactorRange\"},{\"attributes\":{\"callback\":null,\"column_names\":[\"height\",\"fill_alpha\",\"width\",\"color\",\"line_color\",\"line_alpha\",\"y\",\"x\",\"label\"],\"data\":{\"PercentageAmongstTop\":[6.180690381388002],\"QuestCreationYear\":[\"Oct'12-13\"],\"QuestTags\":[\"ios\"],\"YearTagCount\":[7513],\"chart_index\":[{\"PercentageAmongstTop\":6.180690381388002,\"QuestCreationYear\":\"Oct'12-13\",\"QuestTags\":\"ios\",\"YearTagCount\":7513}],\"color\":[\"#F08080\"],\"fill_alpha\":[0.8],\"height\":[6.180690381388002],\"label\":[{\"PercentageAmongstTop\":6.180690381388002,\"QuestCreationYear\":\"Oct'12-13\",\"QuestTags\":\"ios\",\"YearTagCount\":7513}],\"line_alpha\":[1.0],\"line_color\":[\"#40E0D0\"],\"width\":[1.0],\"x\":[\"Oct'12-13\"],\"y\":[39.838017045641514]}},\"id\":\"4501142a-7291-4691-a54d-64145d13e26d\",\"type\":\"ColumnDataSource\"},{\"attributes\":{\"data_source\":{\"id\":\"36d3d1e6-7a59-4594-b8dc-b641f18dad40\",\"type\":\"ColumnDataSource\"},\"glyph\":{\"id\":\"3ecc8c20-8934-48c2-b01c-2b133eb741dc\",\"type\":\"Rect\"},\"hover_glyph\":null,\"nonselection_glyph\":null,\"selection_glyph\":null},\"id\":\"6765c4eb-6e82-496d-b5d1-67ac2665765d\",\"type\":\"GlyphRenderer\"},{\"attributes\":{\"data_source\":{\"id\":\"86bab881-e0f3-41e1-9826-f4d0e67ac6c3\",\"type\":\"ColumnDataSource\"},\"glyph\":{\"id\":\"6118b6d7-8b4a-4a4e-865b-773cfbf543ca\",\"type\":\"Rect\"},\"hover_glyph\":null,\"nonselection_glyph\":null,\"selection_glyph\":null},\"id\":\"1f5d55e4-c8df-4a59-9fcd-969e5c83b5b2\",\"type\":\"GlyphRenderer\"},{\"attributes\":{\"callback\":null,\"column_names\":[\"height\",\"fill_alpha\",\"width\",\"color\",\"line_color\",\"line_alpha\",\"y\",\"x\",\"label\"],\"data\":{\"PercentageAmongstTop\":[14.194856795982561],\"QuestCreationYear\":[\"Oct'14-15\"],\"QuestTags\":[\"java\"],\"YearTagCount\":[20578],\"chart_index\":[{\"PercentageAmongstTop\":14.194856795982561,\"QuestCreationYear\":\"Oct'14-15\",\"QuestTags\":\"java\",\"YearTagCount\":20578}],\"color\":[\"#D3D3D3\"],\"fill_alpha\":[0.8],\"height\":[14.194856795982561],\"label\":[{\"PercentageAmongstTop\":14.194856795982561,\"QuestCreationYear\":\"Oct'14-15\",\"QuestTags\":\"java\",\"YearTagCount\":20578}],\"line_alpha\":[1.0],\"line_color\":[\"#20B2AA\"],\"width\":[1.0],\"x\":[\"Oct'14-15\"],\"y\":[48.27617129297501]}},\"id\":\"5218853f-b80d-4f7e-a15e-8facc49e791d\",\"type\":\"ColumnDataSource\"},{\"attributes\":{\"fill_alpha\":{\"field\":\"fill_alpha\"},\"fill_color\":{\"field\":\"color\"},\"height\":{\"field\":\"height\",\"units\":\"data\"},\"line_color\":{\"field\":\"line_color\"},\"width\":{\"field\":\"width\",\"units\":\"data\"},\"x\":{\"field\":\"x\"},\"y\":{\"field\":\"y\"}},\"id\":\"3a5e1542-e97d-4589-9355-860bca376e97\",\"type\":\"Rect\"},{\"attributes\":{\"callback\":null,\"column_names\":[\"height\",\"fill_alpha\",\"width\",\"color\",\"line_color\",\"line_alpha\",\"y\",\"x\",\"label\"],\"data\":{\"PercentageAmongstTop\":[11.708138893444456],\"QuestCreationYear\":[\"Oct'10-11\"],\"QuestTags\":[\"javascript\"],\"YearTagCount\":[7853],\"chart_index\":[{\"PercentageAmongstTop\":11.708138893444456,\"QuestCreationYear\":\"Oct'10-11\",\"QuestTags\":\"javascript\",\"YearTagCount\":7853}],\"color\":[\"#FFB6C1\"],\"fill_alpha\":[0.8],\"height\":[11.708138893444456],\"label\":[{\"PercentageAmongstTop\":11.708138893444456,\"QuestCreationYear\":\"Oct'10-11\",\"QuestTags\":\"javascript\",\"YearTagCount\":7853}],\"line_alpha\":[1.0],\"line_color\":[\"#4B0082\"],\"width\":[1.0],\"x\":[\"Oct'10-11\"],\"y\":[64.87931060188153]}},\"id\":\"b40ff51b-a0db-4ad7-a566-808127a192e0\",\"type\":\"ColumnDataSource\"},{\"attributes\":{\"callback\":null,\"column_names\":[\"height\",\"fill_alpha\",\"width\",\"color\",\"line_color\",\"line_alpha\",\"y\",\"x\",\"label\"],\"data\":{\"PercentageAmongstTop\":[12.705559614151746],\"QuestCreationYear\":[\"Oct'10-11\"],\"QuestTags\":[\"java\"],\"YearTagCount\":[8522],\"chart_index\":[{\"PercentageAmongstTop\":12.705559614151746,\"QuestCreationYear\":\"Oct'10-11\",\"QuestTags\":\"java\",\"YearTagCount\":8522}],\"color\":[\"#D3D3D3\"],\"fill_alpha\":[0.8],\"height\":[12.705559614151746],\"label\":[{\"PercentageAmongstTop\":12.705559614151746,\"QuestCreationYear\":\"Oct'10-11\",\"QuestTags\":\"java\",\"YearTagCount\":8522}],\"line_alpha\":[1.0],\"line_color\":[\"#90EE90\"],\"width\":[1.0],\"x\":[\"Oct'10-11\"],\"y\":[52.67246134808343]}},\"id\":\"30d2e9f2-3b12-4c1c-9123-b6d8f9ca28e5\",\"type\":\"ColumnDataSource\"},{\"attributes\":{\"callback\":null,\"column_names\":[\"height\",\"fill_alpha\",\"width\",\"color\",\"line_color\",\"line_alpha\",\"y\",\"x\",\"label\"],\"data\":{\"PercentageAmongstTop\":[6.7213490640763744],\"QuestCreationYear\":[\"Oct'11-12\"],\"QuestTags\":[\"ios\"],\"YearTagCount\":[6449],\"chart_index\":[{\"PercentageAmongstTop\":6.7213490640763744,\"QuestCreationYear\":\"Oct'11-12\",\"QuestTags\":\"ios\",\"YearTagCount\":6449}],\"color\":[\"#F08080\"],\"fill_alpha\":[0.8],\"height\":[6.7213490640763744],\"label\":[{\"PercentageAmongstTop\":6.7213490640763744,\"QuestCreationYear\":\"Oct'11-12\",\"QuestTags\":\"ios\",\"YearTagCount\":6449}],\"line_alpha\":[1.0],\"line_color\":[\"#87CEFA\"],\"width\":[1.0],\"x\":[\"Oct'11-12\"],\"y\":[40.99877016717389]}},\"id\":\"b3489570-86b8-4abf-b07c-f969a153592f\",\"type\":\"ColumnDataSource\"},{\"attributes\":{\"data_source\":{\"id\":\"4e699882-1fbd-4f77-9f38-c896287563eb\",\"type\":\"ColumnDataSource\"},\"glyph\":{\"id\":\"3dc7818c-3990-4413-984a-62ba05c8e54e\",\"type\":\"Rect\"},\"hover_glyph\":null,\"nonselection_glyph\":null,\"selection_glyph\":null},\"id\":\"978067ae-67f7-4cac-b204-b66718697e3e\",\"type\":\"GlyphRenderer\"},{\"attributes\":{\"data_source\":{\"id\":\"c942905c-254f-49b5-a441-bd2a22ec7ea1\",\"type\":\"ColumnDataSource\"},\"glyph\":{\"id\":\"3ebb738c-bc82-45ae-9b40-3b92c8046202\",\"type\":\"Rect\"},\"hover_glyph\":null,\"nonselection_glyph\":null,\"selection_glyph\":null},\"id\":\"a1fadb14-eb54-4eb6-8946-5ba542c8c779\",\"type\":\"GlyphRenderer\"},{\"attributes\":{\"fill_alpha\":{\"field\":\"fill_alpha\"},\"fill_color\":{\"field\":\"color\"},\"height\":{\"field\":\"height\",\"units\":\"data\"},\"line_color\":{\"field\":\"line_color\"},\"width\":{\"field\":\"width\",\"units\":\"data\"},\"x\":{\"field\":\"x\"},\"y\":{\"field\":\"y\"}},\"id\":\"52d53be7-d519-409b-9871-08eb85c73ba7\",\"type\":\"Rect\"},{\"attributes\":{\"callback\":null,\"column_names\":[\"height\",\"fill_alpha\",\"width\",\"color\",\"line_color\",\"line_alpha\",\"y\",\"x\",\"label\"],\"data\":{\"PercentageAmongstTop\":[12.195585480411587],\"QuestCreationYear\":[\"Oct'09-10\"],\"QuestTags\":[\"java\"],\"YearTagCount\":[4492],\"chart_index\":[{\"PercentageAmongstTop\":12.195585480411587,\"QuestCreationYear\":\"Oct'09-10\",\"QuestTags\":\"java\",\"YearTagCount\":4492}],\"color\":[\"#D3D3D3\"],\"fill_alpha\":[0.8],\"height\":[12.195585480411587],\"label\":[{\"PercentageAmongstTop\":12.195585480411587,\"QuestCreationYear\":\"Oct'09-10\",\"QuestTags\":\"java\",\"YearTagCount\":4492}],\"line_alpha\":[1.0],\"line_color\":[\"#90EE90\"],\"width\":[1.0],\"x\":[\"Oct'09-10\"],\"y\":[56.22946813998317]}},\"id\":\"87630472-102c-4065-9d4e-b0117ae42f76\",\"type\":\"ColumnDataSource\"},{\"attributes\":{\"callback\":null,\"end\":105.00000000000001},\"id\":\"47f95e72-1dff-4ff6-a548-d46e5fe90123\",\"type\":\"Range1d\"},{\"attributes\":{\"callback\":null,\"column_names\":[\"height\",\"fill_alpha\",\"width\",\"color\",\"line_color\",\"line_alpha\",\"y\",\"x\",\"label\"],\"data\":{\"PercentageAmongstTop\":[5.8656092665109085],\"QuestCreationYear\":[\"Oct'12-13\"],\"QuestTags\":[\"c++\"],\"YearTagCount\":[7130],\"chart_index\":[{\"PercentageAmongstTop\":5.8656092665109085,\"QuestCreationYear\":\"Oct'12-13\",\"QuestTags\":\"c++\",\"YearTagCount\":7130}],\"color\":[\"#FFF0F5\"],\"fill_alpha\":[0.8],\"height\":[5.8656092665109085],\"label\":[{\"PercentageAmongstTop\":5.8656092665109085,\"QuestCreationYear\":\"Oct'12-13\",\"QuestTags\":\"c++\",\"YearTagCount\":7130}],\"line_alpha\":[1.0],\"line_color\":[\"#FFA07A\"],\"width\":[1.0],\"x\":[\"Oct'12-13\"],\"y\":[27.05995590509724]}},\"id\":\"f4c648d9-c8f3-40ad-a875-f1b6193c6b28\",\"type\":\"ColumnDataSource\"},{\"attributes\":{\"fill_alpha\":{\"field\":\"fill_alpha\"},\"fill_color\":{\"field\":\"color\"},\"height\":{\"field\":\"height\",\"units\":\"data\"},\"line_color\":{\"field\":\"line_color\"},\"width\":{\"field\":\"width\",\"units\":\"data\"},\"x\":{\"field\":\"x\"},\"y\":{\"field\":\"y\"}},\"id\":\"6118b6d7-8b4a-4a4e-865b-773cfbf543ca\",\"type\":\"Rect\"},{\"attributes\":{\"callback\":null,\"column_names\":[\"height\",\"fill_alpha\",\"width\",\"color\",\"line_color\",\"line_alpha\",\"y\",\"x\",\"label\"],\"data\":{\"PercentageAmongstTop\":[12.316134127480339],\"QuestCreationYear\":[\"Oct'12-13\"],\"QuestTags\":[\"c#\"],\"YearTagCount\":[14971],\"chart_index\":[{\"PercentageAmongstTop\":12.316134127480339,\"QuestCreationYear\":\"Oct'12-13\",\"QuestTags\":\"c#\",\"YearTagCount\":14971}],\"color\":[\"#E6E6FA\"],\"fill_alpha\":[0.8],\"height\":[12.316134127480339],\"label\":[{\"PercentageAmongstTop\":12.316134127480339,\"QuestCreationYear\":\"Oct'12-13\",\"QuestTags\":\"c#\",\"YearTagCount\":14971}],\"line_alpha\":[1.0],\"line_color\":[\"#9370DB\"],\"width\":[1.0],\"x\":[\"Oct'12-13\"],\"y\":[17.969084208101616]}},\"id\":\"4e699882-1fbd-4f77-9f38-c896287563eb\",\"type\":\"ColumnDataSource\"},{\"attributes\":{\"callback\":null,\"column_names\":[\"height\",\"fill_alpha\",\"width\",\"color\",\"line_color\",\"line_alpha\",\"y\",\"x\",\"label\"],\"data\":{\"PercentageAmongstTop\":[6.247709783803591],\"QuestCreationYear\":[\"Oct'08-09\"],\"QuestTags\":[\"python\"],\"YearTagCount\":[1023],\"chart_index\":[{\"PercentageAmongstTop\":6.247709783803591,\"QuestCreationYear\":\"Oct'08-09\",\"QuestTags\":\"python\",\"YearTagCount\":1023}],\"color\":[\"#FFA07A\"],\"fill_alpha\":[0.8],\"height\":[6.247709783803591],\"label\":[{\"PercentageAmongstTop\":6.247709783803591,\"QuestCreationYear\":\"Oct'08-09\",\"QuestTags\":\"python\",\"YearTagCount\":1023}],\"line_alpha\":[1.0],\"line_color\":[\"#F0E68C\"],\"width\":[1.0],\"x\":[\"Oct'08-09\"],\"y\":[96.87614510809821]}},\"id\":\"26d41d5e-b064-46cd-bc59-c0c237b69926\",\"type\":\"ColumnDataSource\"},{\"attributes\":{\"callback\":null,\"column_names\":[\"height\",\"fill_alpha\",\"width\",\"color\",\"line_color\",\"line_alpha\",\"y\",\"x\",\"label\"],\"data\":{\"PercentageAmongstTop\":[10.44338585562477],\"QuestCreationYear\":[\"Oct'08-09\"],\"QuestTags\":[\"asp.net\"],\"YearTagCount\":[1710],\"chart_index\":[{\"PercentageAmongstTop\":10.44338585562477,\"QuestCreationYear\":\"Oct'08-09\",\"QuestTags\":\"asp.net\",\"YearTagCount\":1710}],\"color\":[\"#F0E68C\"],\"fill_alpha\":[0.8],\"height\":[10.44338585562477],\"label\":[{\"PercentageAmongstTop\":10.44338585562477,\"QuestCreationYear\":\"Oct'08-09\",\"QuestTags\":\"asp.net\",\"YearTagCount\":1710}],\"line_alpha\":[1.0],\"line_color\":[\"#ADD8E6\"],\"width\":[1.0],\"x\":[\"Oct'08-09\"],\"y\":[17.521680713326003]}},\"id\":\"86bab881-e0f3-41e1-9826-f4d0e67ac6c3\",\"type\":\"ColumnDataSource\"},{\"attributes\":{\"callback\":null,\"column_names\":[\"height\",\"fill_alpha\",\"width\",\"color\",\"line_color\",\"line_alpha\",\"y\",\"x\",\"label\"],\"data\":{\"PercentageAmongstTop\":[8.9654330035422],\"QuestCreationYear\":[\"Oct'08-09\"],\"QuestTags\":[\"php\"],\"YearTagCount\":[1468],\"chart_index\":[{\"PercentageAmongstTop\":8.9654330035422,\"QuestCreationYear\":\"Oct'08-09\",\"QuestTags\":\"php\",\"YearTagCount\":1468}],\"color\":[\"#20B2AA\"],\"fill_alpha\":[0.8],\"height\":[8.9654330035422],\"label\":[{\"PercentageAmongstTop\":8.9654330035422,\"QuestCreationYear\":\"Oct'08-09\",\"QuestTags\":\"php\",\"YearTagCount\":1468}],\"line_alpha\":[1.0],\"line_color\":[\"#90EE90\"],\"width\":[1.0],\"x\":[\"Oct'08-09\"],\"y\":[89.2695737144253]}},\"id\":\"1009b577-847b-4324-93b7-86c843393e12\",\"type\":\"ColumnDataSource\"},{\"attributes\":{\"callback\":null,\"column_names\":[\"height\",\"fill_alpha\",\"width\",\"color\",\"line_color\",\"line_alpha\",\"y\",\"x\",\"label\"],\"data\":{\"PercentageAmongstTop\":[7.404697049775718],\"QuestCreationYear\":[\"Oct'13-14\"],\"QuestTags\":[\"python\"],\"YearTagCount\":[10928],\"chart_index\":[{\"PercentageAmongstTop\":7.404697049775718,\"QuestCreationYear\":\"Oct'13-14\",\"QuestTags\":\"python\",\"YearTagCount\":10928}],\"color\":[\"#FFA07A\"],\"fill_alpha\":[0.8],\"height\":[7.404697049775718],\"label\":[{\"PercentageAmongstTop\":7.404697049775718,\"QuestCreationYear\":\"Oct'13-14\",\"QuestTags\":\"python\",\"YearTagCount\":10928}],\"line_alpha\":[1.0],\"line_color\":[\"#778899\"],\"width\":[1.0],\"x\":[\"Oct'13-14\"],\"y\":[96.29765147511213]}},\"id\":\"01cd598f-0fdd-4845-869c-b6daf2ab9456\",\"type\":\"ColumnDataSource\"},{\"attributes\":{\"data_source\":{\"id\":\"0fffbc6d-5720-4632-b1e1-9d0209d63e51\",\"type\":\"ColumnDataSource\"},\"glyph\":{\"id\":\"3b99cae2-4695-4c68-afb9-f32673224b5c\",\"type\":\"Rect\"},\"hover_glyph\":null,\"nonselection_glyph\":null,\"selection_glyph\":null},\"id\":\"ab9e8251-78dd-4698-8070-de3e95884427\",\"type\":\"GlyphRenderer\"},{\"attributes\":{\"data_source\":{\"id\":\"c3c1ac7a-178c-43d5-a268-80d5e8312525\",\"type\":\"ColumnDataSource\"},\"glyph\":{\"id\":\"9874e5a3-0766-4a4a-98d2-a9150da28abe\",\"type\":\"Rect\"},\"hover_glyph\":null,\"nonselection_glyph\":null,\"selection_glyph\":null},\"id\":\"fa3861be-d91b-48f0-986a-74cec3f2dac5\",\"type\":\"GlyphRenderer\"},{\"attributes\":{\"callback\":null,\"column_names\":[\"height\",\"fill_alpha\",\"width\",\"color\",\"line_color\",\"line_alpha\",\"y\",\"x\",\"label\"],\"data\":{\"PercentageAmongstTop\":[11.000664037619764],\"QuestCreationYear\":[\"Oct'13-14\"],\"QuestTags\":[\"c#\"],\"YearTagCount\":[16235],\"chart_index\":[{\"PercentageAmongstTop\":11.000664037619764,\"QuestCreationYear\":\"Oct'13-14\",\"QuestTags\":\"c#\",\"YearTagCount\":16235}],\"color\":[\"#E6E6FA\"],\"fill_alpha\":[0.8],\"height\":[11.000664037619764],\"label\":[{\"PercentageAmongstTop\":11.000664037619764,\"QuestCreationYear\":\"Oct'13-14\",\"QuestTags\":\"c#\",\"YearTagCount\":16235}],\"line_alpha\":[1.0],\"line_color\":[\"#FFF0F5\"],\"width\":[1.0],\"x\":[\"Oct'13-14\"],\"y\":[16.449499261427547]}},\"id\":\"ae9abde9-95c8-44a3-826c-8c6bd3c9f386\",\"type\":\"ColumnDataSource\"},{\"attributes\":{\"fill_alpha\":{\"field\":\"fill_alpha\"},\"fill_color\":{\"field\":\"color\"},\"height\":{\"field\":\"height\",\"units\":\"data\"},\"line_color\":{\"field\":\"line_color\"},\"width\":{\"field\":\"width\",\"units\":\"data\"},\"x\":{\"field\":\"x\"},\"y\":{\"field\":\"y\"}},\"id\":\"b888be78-f104-4399-ad5e-abf029ef0ab5\",\"type\":\"Rect\"},{\"attributes\":{\"fill_alpha\":{\"field\":\"fill_alpha\"},\"fill_color\":{\"field\":\"color\"},\"height\":{\"field\":\"height\",\"units\":\"data\"},\"line_color\":{\"field\":\"line_color\"},\"width\":{\"field\":\"width\",\"units\":\"data\"},\"x\":{\"field\":\"x\"},\"y\":{\"field\":\"y\"}},\"id\":\"d76d9bda-0906-4c28-bf57-faafc989a93d\",\"type\":\"Rect\"},{\"attributes\":{\"callback\":null,\"column_names\":[\"height\",\"fill_alpha\",\"width\",\"color\",\"line_color\",\"line_alpha\",\"y\",\"x\",\"label\"],\"data\":{\"PercentageAmongstTop\":[9.936741508972933],\"QuestCreationYear\":[\"Oct'09-10\"],\"QuestTags\":[\"javascript\"],\"YearTagCount\":[3660],\"chart_index\":[{\"PercentageAmongstTop\":9.936741508972933,\"QuestCreationYear\":\"Oct'09-10\",\"QuestTags\":\"javascript\",\"YearTagCount\":3660}],\"color\":[\"#FFB6C1\"],\"fill_alpha\":[0.8],\"height\":[9.936741508972933],\"label\":[{\"PercentageAmongstTop\":9.936741508972933,\"QuestCreationYear\":\"Oct'09-10\",\"QuestTags\":\"javascript\",\"YearTagCount\":3660}],\"line_alpha\":[1.0],\"line_color\":[\"#40E0D0\"],\"width\":[1.0],\"x\":[\"Oct'09-10\"],\"y\":[67.29563163467543]}},\"id\":\"36d3d1e6-7a59-4594-b8dc-b641f18dad40\",\"type\":\"ColumnDataSource\"},{\"attributes\":{\"data_source\":{\"id\":\"1009b577-847b-4324-93b7-86c843393e12\",\"type\":\"ColumnDataSource\"},\"glyph\":{\"id\":\"dbbcf288-46be-4bdd-acd6-a4906420b542\",\"type\":\"Rect\"},\"hover_glyph\":null,\"nonselection_glyph\":null,\"selection_glyph\":null},\"id\":\"c8110a03-e0c2-4fed-9795-d917903d1e04\",\"type\":\"GlyphRenderer\"},{\"attributes\":{\"fill_alpha\":{\"field\":\"fill_alpha\"},\"fill_color\":{\"field\":\"color\"},\"height\":{\"field\":\"height\",\"units\":\"data\"},\"line_color\":{\"field\":\"line_color\"},\"width\":{\"field\":\"width\",\"units\":\"data\"},\"x\":{\"field\":\"x\"},\"y\":{\"field\":\"y\"}},\"id\":\"3cfa8c4f-7b70-4eb1-b47b-68257eda4289\",\"type\":\"Rect\"},{\"attributes\":{\"fill_alpha\":{\"field\":\"fill_alpha\"},\"fill_color\":{\"field\":\"color\"},\"height\":{\"field\":\"height\",\"units\":\"data\"},\"line_color\":{\"field\":\"line_color\"},\"width\":{\"field\":\"width\",\"units\":\"data\"},\"x\":{\"field\":\"x\"},\"y\":{\"field\":\"y\"}},\"id\":\"c80a20c7-3803-4c22-8656-987419773768\",\"type\":\"Rect\"},{\"attributes\":{\"axis_label\":\"Year in which Question was Created\",\"formatter\":{\"id\":\"4d13ff0b-2fdb-4405-a5c3-1afa71722df9\",\"type\":\"CategoricalTickFormatter\"},\"major_label_orientation\":0.7853981633974483,\"plot\":{\"id\":\"54a8b18c-92ae-46f6-a00d-ac498acef5e6\",\"subtype\":\"Chart\",\"type\":\"Plot\"},\"ticker\":{\"id\":\"84422e10-d01e-4e7c-a4c4-dfbab81c8757\",\"type\":\"CategoricalTicker\"}},\"id\":\"532ff384-8c75-472f-b696-a0b8de825572\",\"type\":\"CategoricalAxis\"},{\"attributes\":{\"callback\":null,\"column_names\":[\"height\",\"fill_alpha\",\"width\",\"color\",\"line_color\",\"line_alpha\",\"y\",\"x\",\"label\"],\"data\":{\"PercentageAmongstTop\":[9.875188031060699],\"QuestCreationYear\":[\"Oct'13-14\"],\"QuestTags\":[\"jquery\"],\"YearTagCount\":[14574],\"chart_index\":[{\"PercentageAmongstTop\":9.875188031060699,\"QuestCreationYear\":\"Oct'13-14\",\"QuestTags\":\"jquery\",\"YearTagCount\":14574}],\"color\":[\"#87CEFA\"],\"fill_alpha\":[0.8],\"height\":[9.875188031060699],\"label\":[{\"PercentageAmongstTop\":9.875188031060699,\"QuestCreationYear\":\"Oct'13-14\",\"QuestTags\":\"jquery\",\"YearTagCount\":14574}],\"line_alpha\":[1.0],\"line_color\":[\"#FFA07A\"],\"width\":[1.0],\"x\":[\"Oct'13-14\"],\"y\":[75.95506227046658]}},\"id\":\"15c40760-7e08-46b5-97a0-f22dda7c253c\",\"type\":\"ColumnDataSource\"},{\"attributes\":{\"data_source\":{\"id\":\"80cae99f-d229-4e89-ac92-64bd50cd85c5\",\"type\":\"ColumnDataSource\"},\"glyph\":{\"id\":\"a063efb0-cfde-4282-9a74-f62a551ca5ef\",\"type\":\"Rect\"},\"hover_glyph\":null,\"nonselection_glyph\":null,\"selection_glyph\":null},\"id\":\"d451a8b1-0815-4625-be84-8139357deeac\",\"type\":\"GlyphRenderer\"},{\"attributes\":{\"callback\":null,\"column_names\":[\"height\",\"fill_alpha\",\"width\",\"color\",\"line_color\",\"line_alpha\",\"y\",\"x\",\"label\"],\"data\":{\"PercentageAmongstTop\":[8.596379890734507],\"QuestCreationYear\":[\"Oct'14-15\"],\"QuestTags\":[\"jquery\"],\"YearTagCount\":[12462],\"chart_index\":[{\"PercentageAmongstTop\":8.596379890734507,\"QuestCreationYear\":\"Oct'14-15\",\"QuestTags\":\"jquery\",\"YearTagCount\":12462}],\"color\":[\"#87CEFA\"],\"fill_alpha\":[0.8],\"height\":[8.596379890734507],\"label\":[{\"PercentageAmongstTop\":8.596379890734507,\"QuestCreationYear\":\"Oct'14-15\",\"QuestTags\":\"jquery\",\"YearTagCount\":12462}],\"line_alpha\":[1.0],\"line_color\":[\"#90EE90\"],\"width\":[1.0],\"x\":[\"Oct'14-15\"],\"y\":[76.1009326196126]}},\"id\":\"9dbc1d08-e017-434b-9487-f58d266fd21a\",\"type\":\"ColumnDataSource\"},{\"attributes\":{\"callback\":null,\"column_names\":[\"height\",\"fill_alpha\",\"width\",\"color\",\"line_color\",\"line_alpha\",\"y\",\"x\",\"label\"],\"data\":{\"PercentageAmongstTop\":[5.796099795367999],\"QuestCreationYear\":[\"Oct'13-14\"],\"QuestTags\":[\"css\"],\"YearTagCount\":[8554],\"chart_index\":[{\"PercentageAmongstTop\":5.796099795367999,\"QuestCreationYear\":\"Oct'13-14\",\"QuestTags\":\"css\",\"YearTagCount\":8554}],\"color\":[\"#90EE90\"],\"fill_alpha\":[0.8],\"height\":[5.796099795367999],\"label\":[{\"PercentageAmongstTop\":5.796099795367999,\"QuestCreationYear\":\"Oct'13-14\",\"QuestTags\":\"css\",\"YearTagCount\":8554}],\"line_alpha\":[1.0],\"line_color\":[\"#F08080\"],\"width\":[1.0],\"x\":[\"Oct'13-14\"],\"y\":[24.847881177921426]}},\"id\":\"7587861e-251a-4d72-bf37-9caf9de05ccf\",\"type\":\"ColumnDataSource\"},{\"attributes\":{\"callback\":null,\"column_names\":[\"height\",\"fill_alpha\",\"width\",\"color\",\"line_color\",\"line_alpha\",\"y\",\"x\",\"label\"],\"data\":{\"PercentageAmongstTop\":[5.96066935385367],\"QuestCreationYear\":[\"Oct'08-09\"],\"QuestTags\":[\"jquery\"],\"YearTagCount\":[976],\"chart_index\":[{\"PercentageAmongstTop\":5.96066935385367,\"QuestCreationYear\":\"Oct'08-09\",\"QuestTags\":\"jquery\",\"YearTagCount\":976}],\"color\":[\"#87CEFA\"],\"fill_alpha\":[0.8],\"height\":[5.96066935385367],\"label\":[{\"PercentageAmongstTop\":5.96066935385367,\"QuestCreationYear\":\"Oct'08-09\",\"QuestTags\":\"jquery\",\"YearTagCount\":976}],\"line_alpha\":[1.0],\"line_color\":[\"#4B0082\"],\"width\":[1.0],\"x\":[\"Oct'08-09\"],\"y\":[81.80652253572737]}},\"id\":\"549159b3-0d0c-41a7-a873-6273b347b567\",\"type\":\"ColumnDataSource\"},{\"attributes\":{\"data_source\":{\"id\":\"e39696e6-32d4-4bf7-8819-edfffc9a01ab\",\"type\":\"ColumnDataSource\"},\"glyph\":{\"id\":\"a2c718b1-a2ec-4fa0-bb03-49d19481001e\",\"type\":\"Rect\"},\"hover_glyph\":null,\"nonselection_glyph\":null,\"selection_glyph\":null},\"id\":\"5afa17ae-ca70-41e3-a334-5c054be09283\",\"type\":\"GlyphRenderer\"},{\"attributes\":{\"fill_alpha\":{\"field\":\"fill_alpha\"},\"fill_color\":{\"field\":\"color\"},\"height\":{\"field\":\"height\",\"units\":\"data\"},\"line_color\":{\"field\":\"line_color\"},\"width\":{\"field\":\"width\",\"units\":\"data\"},\"x\":{\"field\":\"x\"},\"y\":{\"field\":\"y\"}},\"id\":\"7efb1f87-b69f-4648-8163-754fca8dea2c\",\"type\":\"Rect\"},{\"attributes\":{\"data_source\":{\"id\":\"554dbd4b-5033-4a5d-adfa-16651c46c175\",\"type\":\"ColumnDataSource\"},\"glyph\":{\"id\":\"d76d9bda-0906-4c28-bf57-faafc989a93d\",\"type\":\"Rect\"},\"hover_glyph\":null,\"nonselection_glyph\":null,\"selection_glyph\":null},\"id\":\"69f47fd8-d636-4758-8198-12a80cda7397\",\"type\":\"GlyphRenderer\"},{\"attributes\":{\"fill_alpha\":{\"field\":\"fill_alpha\"},\"fill_color\":{\"field\":\"color\"},\"height\":{\"field\":\"height\",\"units\":\"data\"},\"line_color\":{\"field\":\"line_color\"},\"width\":{\"field\":\"width\",\"units\":\"data\"},\"x\":{\"field\":\"x\"},\"y\":{\"field\":\"y\"}},\"id\":\"a99ec3d2-528c-4ee6-b2c1-ae357c6331d3\",\"type\":\"Rect\"},{\"attributes\":{\"data_source\":{\"id\":\"3eda5258-8eb0-4bb6-8747-40f760acc1ba\",\"type\":\"ColumnDataSource\"},\"glyph\":{\"id\":\"120e5013-82ed-46b2-b4eb-08ef8ec6d904\",\"type\":\"Rect\"},\"hover_glyph\":null,\"nonselection_glyph\":null,\"selection_glyph\":null},\"id\":\"05affb49-b5ce-443d-9a0b-00bf9ec27258\",\"type\":\"GlyphRenderer\"},{\"attributes\":{\"callback\":null,\"column_names\":[\"height\",\"fill_alpha\",\"width\",\"color\",\"line_color\",\"line_alpha\",\"y\",\"x\",\"label\"],\"data\":{\"PercentageAmongstTop\":[9.94868461350951],\"QuestCreationYear\":[\"Oct'15-16\"],\"QuestTags\":[\"c#\"],\"YearTagCount\":[15917],\"chart_index\":[{\"PercentageAmongstTop\":9.94868461350951,\"QuestCreationYear\":\"Oct'15-16\",\"QuestTags\":\"c#\",\"YearTagCount\":15917}],\"color\":[\"#E6E6FA\"],\"fill_alpha\":[0.8],\"height\":[9.94868461350951],\"label\":[{\"PercentageAmongstTop\":9.94868461350951,\"QuestCreationYear\":\"Oct'15-16\",\"QuestTags\":\"c#\",\"YearTagCount\":15917}],\"line_alpha\":[1.0],\"line_color\":[\"#4B0082\"],\"width\":[1.0],\"x\":[\"Oct'15-16\"],\"y\":[16.76188035577001]}},\"id\":\"80cae99f-d229-4e89-ac92-64bd50cd85c5\",\"type\":\"ColumnDataSource\"},{\"attributes\":{\"fill_alpha\":{\"field\":\"fill_alpha\"},\"fill_color\":{\"field\":\"color\"},\"height\":{\"field\":\"height\",\"units\":\"data\"},\"line_color\":{\"field\":\"line_color\"},\"width\":{\"field\":\"width\",\"units\":\"data\"},\"x\":{\"field\":\"x\"},\"y\":{\"field\":\"y\"}},\"id\":\"4103cf33-4313-47e0-9399-0ba160143366\",\"type\":\"Rect\"},{\"attributes\":{\"callback\":null,\"column_names\":[\"height\",\"fill_alpha\",\"width\",\"color\",\"line_color\",\"line_alpha\",\"y\",\"x\",\"label\"],\"data\":{\"PercentageAmongstTop\":[8.602588157386458],\"QuestCreationYear\":[\"Oct'14-15\"],\"QuestTags\":[\"python\"],\"YearTagCount\":[12471],\"chart_index\":[{\"PercentageAmongstTop\":8.602588157386458,\"QuestCreationYear\":\"Oct'14-15\",\"QuestTags\":\"python\",\"YearTagCount\":12471}],\"color\":[\"#FFA07A\"],\"fill_alpha\":[0.8],\"height\":[8.602588157386458],\"label\":[{\"PercentageAmongstTop\":8.602588157386458,\"QuestCreationYear\":\"Oct'14-15\",\"QuestTags\":\"python\",\"YearTagCount\":12471}],\"line_alpha\":[1.0],\"line_color\":[\"#ADD8E6\"],\"width\":[1.0],\"x\":[\"Oct'14-15\"],\"y\":[95.69870592130678]}},\"id\":\"74af43f2-fe0c-455b-84e9-afbec28ed9da\",\"type\":\"ColumnDataSource\"},{\"attributes\":{\"data_source\":{\"id\":\"9b0c0880-dc7a-4014-8d0d-22e4e5a04966\",\"type\":\"ColumnDataSource\"},\"glyph\":{\"id\":\"62213b6a-db28-474f-a1eb-0e5024850742\",\"type\":\"Rect\"},\"hover_glyph\":null,\"nonselection_glyph\":null,\"selection_glyph\":null},\"id\":\"dea5ec19-aaf3-4fee-9c32-5a482af87f1c\",\"type\":\"GlyphRenderer\"},{\"attributes\":{\"fill_alpha\":{\"field\":\"fill_alpha\"},\"fill_color\":{\"field\":\"color\"},\"height\":{\"field\":\"height\",\"units\":\"data\"},\"line_color\":{\"field\":\"line_color\"},\"width\":{\"field\":\"width\",\"units\":\"data\"},\"x\":{\"field\":\"x\"},\"y\":{\"field\":\"y\"}},\"id\":\"9552f0ce-897d-4d6b-a5c5-fc0901100d75\",\"type\":\"Rect\"},{\"attributes\":{\"callback\":null,\"column_names\":[\"height\",\"fill_alpha\",\"width\",\"color\",\"line_color\",\"line_alpha\",\"y\",\"x\",\"label\"],\"data\":{\"PercentageAmongstTop\":[13.899391524711685],\"QuestCreationYear\":[\"Oct'13-14\"],\"QuestTags\":[\"java\"],\"YearTagCount\":[20513],\"chart_index\":[{\"PercentageAmongstTop\":13.899391524711685,\"QuestCreationYear\":\"Oct'13-14\",\"QuestTags\":\"java\",\"YearTagCount\":20513}],\"color\":[\"#D3D3D3\"],\"fill_alpha\":[0.8],\"height\":[13.899391524711685],\"label\":[{\"PercentageAmongstTop\":13.899391524711685,\"QuestCreationYear\":\"Oct'13-14\",\"QuestTags\":\"java\",\"YearTagCount\":20513}],\"line_alpha\":[1.0],\"line_color\":[\"#87CEFA\"],\"width\":[1.0],\"x\":[\"Oct'13-14\"],\"y\":[48.51574040194604]}},\"id\":\"b5c06c90-348a-46e3-a376-cb8ef347105f\",\"type\":\"ColumnDataSource\"},{\"attributes\":{\"data_source\":{\"id\":\"97703a2c-7f64-4ddb-960c-72feb46ffb8c\",\"type\":\"ColumnDataSource\"},\"glyph\":{\"id\":\"c2c95fe0-825a-4475-b634-5571198211b2\",\"type\":\"Rect\"},\"hover_glyph\":null,\"nonselection_glyph\":null,\"selection_glyph\":null},\"id\":\"a2fd7e03-625f-4f1e-be00-d47b003f0cee\",\"type\":\"GlyphRenderer\"},{\"attributes\":{\"data_source\":{\"id\":\"c6f15771-5939-4e57-ba0a-99bd422593c2\",\"type\":\"ColumnDataSource\"},\"glyph\":{\"id\":\"840d8b72-2f40-491e-a12a-e98e9f1ded43\",\"type\":\"Rect\"},\"hover_glyph\":null,\"nonselection_glyph\":null,\"selection_glyph\":null},\"id\":\"abd61196-08a7-43e3-8153-2c80d4fbfa28\",\"type\":\"GlyphRenderer\"},{\"attributes\":{\"data_source\":{\"id\":\"b3489570-86b8-4abf-b07c-f969a153592f\",\"type\":\"ColumnDataSource\"},\"glyph\":{\"id\":\"e9c6b5ac-59fc-41e0-9d4f-c7bc5c8fb0d6\",\"type\":\"Rect\"},\"hover_glyph\":null,\"nonselection_glyph\":null,\"selection_glyph\":null},\"id\":\"6f688b8f-5b5a-495f-b5a6-d6c30359fc98\",\"type\":\"GlyphRenderer\"},{\"attributes\":{\"data_source\":{\"id\":\"0240bcf4-0d32-4263-aa78-a57bffa83361\",\"type\":\"ColumnDataSource\"},\"glyph\":{\"id\":\"a99ec3d2-528c-4ee6-b2c1-ae357c6331d3\",\"type\":\"Rect\"},\"hover_glyph\":null,\"nonselection_glyph\":null,\"selection_glyph\":null},\"id\":\"9c092d64-55b0-47f9-a7e5-12b099da7f2d\",\"type\":\"GlyphRenderer\"},{\"attributes\":{\"fill_alpha\":{\"field\":\"fill_alpha\"},\"fill_color\":{\"field\":\"color\"},\"height\":{\"field\":\"height\",\"units\":\"data\"},\"line_color\":{\"field\":\"line_color\"},\"width\":{\"field\":\"width\",\"units\":\"data\"},\"x\":{\"field\":\"x\"},\"y\":{\"field\":\"y\"}},\"id\":\"e3674e04-c6aa-4580-85b6-4049038f7f4a\",\"type\":\"Rect\"},{\"attributes\":{\"data_source\":{\"id\":\"32a37726-88b3-41b6-b990-c7691e8cfa27\",\"type\":\"ColumnDataSource\"},\"glyph\":{\"id\":\"f803d59a-707b-43f5-bd7b-f7e7834ad8f2\",\"type\":\"Rect\"},\"hover_glyph\":null,\"nonselection_glyph\":null,\"selection_glyph\":null},\"id\":\"241d40c5-d959-47b6-b925-f5e78ebd16e3\",\"type\":\"GlyphRenderer\"},{\"attributes\":{\"fill_alpha\":{\"field\":\"fill_alpha\"},\"fill_color\":{\"field\":\"color\"},\"height\":{\"field\":\"height\",\"units\":\"data\"},\"line_color\":{\"field\":\"line_color\"},\"width\":{\"field\":\"width\",\"units\":\"data\"},\"x\":{\"field\":\"x\"},\"y\":{\"field\":\"y\"}},\"id\":\"cd5ed26f-b7b4-4ea5-a486-64c2adf5f703\",\"type\":\"Rect\"},{\"attributes\":{\"data_source\":{\"id\":\"095ea82c-49f7-40ff-9d54-3f0c4325ba82\",\"type\":\"ColumnDataSource\"},\"glyph\":{\"id\":\"c17e1569-d06b-493e-952b-2299c7821a95\",\"type\":\"Rect\"},\"hover_glyph\":null,\"nonselection_glyph\":null,\"selection_glyph\":null},\"id\":\"f21b9ecb-ee2e-49b2-9c5e-cc1b032219f6\",\"type\":\"GlyphRenderer\"},{\"attributes\":{\"fill_alpha\":{\"field\":\"fill_alpha\"},\"fill_color\":{\"field\":\"color\"},\"height\":{\"field\":\"height\",\"units\":\"data\"},\"line_color\":{\"field\":\"line_color\"},\"width\":{\"field\":\"width\",\"units\":\"data\"},\"x\":{\"field\":\"x\"},\"y\":{\"field\":\"y\"}},\"id\":\"65c2a219-e9e7-4e96-8cbc-31bef77041aa\",\"type\":\"Rect\"},{\"attributes\":{\"data_source\":{\"id\":\"2f4fca7f-82ec-4ecf-a49b-97596176b9d3\",\"type\":\"ColumnDataSource\"},\"glyph\":{\"id\":\"129d3eae-d1d3-45de-9359-10ada2c33267\",\"type\":\"Rect\"},\"hover_glyph\":null,\"nonselection_glyph\":null,\"selection_glyph\":null},\"id\":\"f382cf3e-c6d9-4539-b1be-883f7a1a6eb8\",\"type\":\"GlyphRenderer\"},{\"attributes\":{\"callback\":null,\"column_names\":[\"height\",\"fill_alpha\",\"width\",\"color\",\"line_color\",\"line_alpha\",\"y\",\"x\",\"label\"],\"data\":{\"PercentageAmongstTop\":[7.604802770155821],\"QuestCreationYear\":[\"Oct'15-16\"],\"QuestTags\":[\"html\"],\"YearTagCount\":[12167],\"chart_index\":[{\"PercentageAmongstTop\":7.604802770155821,\"QuestCreationYear\":\"Oct'15-16\",\"QuestTags\":\"html\",\"YearTagCount\":12167}],\"color\":[\"#ADD8E6\"],\"fill_alpha\":[0.8],\"height\":[7.604802770155821],\"label\":[{\"PercentageAmongstTop\":7.604802770155821,\"QuestCreationYear\":\"Oct'15-16\",\"QuestTags\":\"html\",\"YearTagCount\":12167}],\"line_alpha\":[1.0],\"line_color\":[\"#FF6347\"],\"width\":[1.0],\"x\":[\"Oct'15-16\"],\"y\":[30.73329124763268]}},\"id\":\"b6bbe7bb-0b1c-459a-9674-1d163484a809\",\"type\":\"ColumnDataSource\"},{\"attributes\":{\"data_source\":{\"id\":\"86bf2eee-5db3-4907-9739-37dcd5eca031\",\"type\":\"ColumnDataSource\"},\"glyph\":{\"id\":\"8e20f6a7-0bc3-4c6b-86a3-6b680404542a\",\"type\":\"Rect\"},\"hover_glyph\":null,\"nonselection_glyph\":null,\"selection_glyph\":null},\"id\":\"5415dbdc-fe23-48d3-9eb6-ee127121b69a\",\"type\":\"GlyphRenderer\"},{\"attributes\":{\"data_source\":{\"id\":\"7fbdb814-2461-4fee-bf8c-20f0b10330ea\",\"type\":\"ColumnDataSource\"},\"glyph\":{\"id\":\"dadd802a-6655-4a09-ac3c-f815ceb026a9\",\"type\":\"Rect\"},\"hover_glyph\":null,\"nonselection_glyph\":null,\"selection_glyph\":null},\"id\":\"cf53b285-5559-410d-a35c-2428a417eaa4\",\"type\":\"GlyphRenderer\"},{\"attributes\":{\"fill_alpha\":{\"field\":\"fill_alpha\"},\"fill_color\":{\"field\":\"color\"},\"height\":{\"field\":\"height\",\"units\":\"data\"},\"line_color\":{\"field\":\"line_color\"},\"width\":{\"field\":\"width\",\"units\":\"data\"},\"x\":{\"field\":\"x\"},\"y\":{\"field\":\"y\"}},\"id\":\"49c20405-e515-4683-854c-32bdcbfb4a4e\",\"type\":\"Rect\"},{\"attributes\":{\"fill_alpha\":{\"field\":\"fill_alpha\"},\"fill_color\":{\"field\":\"color\"},\"height\":{\"field\":\"height\",\"units\":\"data\"},\"line_color\":{\"field\":\"line_color\"},\"width\":{\"field\":\"width\",\"units\":\"data\"},\"x\":{\"field\":\"x\"},\"y\":{\"field\":\"y\"}},\"id\":\"22740ee9-c910-46b4-9f0a-0dd440e0c14e\",\"type\":\"Rect\"},{\"attributes\":{\"data_source\":{\"id\":\"ae9abde9-95c8-44a3-826c-8c6bd3c9f386\",\"type\":\"ColumnDataSource\"},\"glyph\":{\"id\":\"bd3c4d1a-d22a-4c06-81e6-f32a91daf1df\",\"type\":\"Rect\"},\"hover_glyph\":null,\"nonselection_glyph\":null,\"selection_glyph\":null},\"id\":\"74c558ae-fce2-4fb0-873f-dbd061209752\",\"type\":\"GlyphRenderer\"},{\"attributes\":{\"callback\":null,\"column_names\":[\"height\",\"fill_alpha\",\"width\",\"color\",\"line_color\",\"line_alpha\",\"y\",\"x\",\"label\"],\"data\":{\"PercentageAmongstTop\":[5.510181557309199],\"QuestCreationYear\":[\"Oct'14-15\"],\"QuestTags\":[\"css\"],\"YearTagCount\":[7988],\"chart_index\":[{\"PercentageAmongstTop\":5.510181557309199,\"QuestCreationYear\":\"Oct'14-15\",\"QuestTags\":\"css\",\"YearTagCount\":7988}],\"color\":[\"#90EE90\"],\"fill_alpha\":[0.8],\"height\":[5.510181557309199],\"label\":[{\"PercentageAmongstTop\":5.510181557309199,\"QuestCreationYear\":\"Oct'14-15\",\"QuestTags\":\"css\",\"YearTagCount\":7988}],\"line_alpha\":[1.0],\"line_color\":[\"#FF6347\"],\"width\":[1.0],\"x\":[\"Oct'14-15\"],\"y\":[24.033579824512998]}},\"id\":\"6217c6cd-670e-40b3-bcd6-170a7be01453\",\"type\":\"ColumnDataSource\"},{\"attributes\":{\"fill_alpha\":{\"field\":\"fill_alpha\"},\"fill_color\":{\"field\":\"color\"},\"height\":{\"field\":\"height\",\"units\":\"data\"},\"line_color\":{\"field\":\"line_color\"},\"width\":{\"field\":\"width\",\"units\":\"data\"},\"x\":{\"field\":\"x\"},\"y\":{\"field\":\"y\"}},\"id\":\"6fe191e8-4dfe-47d7-97b2-64b1ae3caf6d\",\"type\":\"Rect\"},{\"attributes\":{\"fill_alpha\":{\"field\":\"fill_alpha\"},\"fill_color\":{\"field\":\"color\"},\"height\":{\"field\":\"height\",\"units\":\"data\"},\"line_color\":{\"field\":\"line_color\"},\"width\":{\"field\":\"width\",\"units\":\"data\"},\"x\":{\"field\":\"x\"},\"y\":{\"field\":\"y\"}},\"id\":\"dbdbcb0a-860f-4734-a0b1-f7766c348e2d\",\"type\":\"Rect\"},{\"attributes\":{\"data_source\":{\"id\":\"d2a3c31a-43fe-4dda-ba6a-57a9fc83c04f\",\"type\":\"ColumnDataSource\"},\"glyph\":{\"id\":\"dc2bdea2-c458-46c8-a7c1-f9fd0a9f114a\",\"type\":\"Rect\"},\"hover_glyph\":null,\"nonselection_glyph\":null,\"selection_glyph\":null},\"id\":\"8b7570d8-8f74-40d3-9a06-05887716c2d2\",\"type\":\"GlyphRenderer\"},{\"attributes\":{\"callback\":null,\"column_names\":[\"height\",\"fill_alpha\",\"width\",\"color\",\"line_color\",\"line_alpha\",\"y\",\"x\",\"label\"],\"data\":{\"PercentageAmongstTop\":[7.903238943338854],\"QuestCreationYear\":[\"Oct'09-10\"],\"QuestTags\":[\".net\"],\"YearTagCount\":[2911],\"chart_index\":[{\"PercentageAmongstTop\":7.903238943338854,\"QuestCreationYear\":\"Oct'09-10\",\"QuestTags\":\".net\",\"YearTagCount\":2911}],\"color\":[\"#4B0082\"],\"fill_alpha\":[0.8],\"height\":[7.903238943338854],\"label\":[{\"PercentageAmongstTop\":7.903238943338854,\"QuestCreationYear\":\"Oct'09-10\",\"QuestTags\":\".net\",\"YearTagCount\":2911}],\"line_alpha\":[1.0],\"line_color\":[\"#FFA07A\"],\"width\":[1.0],\"x\":[\"Oct'09-10\"],\"y\":[3.951619471669427]}},\"id\":\"a9fb701c-d7eb-4bbb-862f-31d131b75574\",\"type\":\"ColumnDataSource\"},{\"attributes\":{\"fill_alpha\":{\"field\":\"fill_alpha\"},\"fill_color\":{\"field\":\"color\"},\"height\":{\"field\":\"height\",\"units\":\"data\"},\"line_color\":{\"field\":\"line_color\"},\"width\":{\"field\":\"width\",\"units\":\"data\"},\"x\":{\"field\":\"x\"},\"y\":{\"field\":\"y\"}},\"id\":\"4c6a1b43-5d78-4b71-bdee-1dc90c7e9f4f\",\"type\":\"Rect\"},{\"attributes\":{\"fill_alpha\":{\"field\":\"fill_alpha\"},\"fill_color\":{\"field\":\"color\"},\"height\":{\"field\":\"height\",\"units\":\"data\"},\"line_color\":{\"field\":\"line_color\"},\"width\":{\"field\":\"width\",\"units\":\"data\"},\"x\":{\"field\":\"x\"},\"y\":{\"field\":\"y\"}},\"id\":\"332fed4a-ebce-4f75-9ff6-480a7b1fd713\",\"type\":\"Rect\"},{\"attributes\":{\"data_source\":{\"id\":\"3c929f9a-ba1e-47c0-800a-a3d1761b073d\",\"type\":\"ColumnDataSource\"},\"glyph\":{\"id\":\"26c1fc05-31c0-4ab0-81ce-9bb61c2cb3fd\",\"type\":\"Rect\"},\"hover_glyph\":null,\"nonselection_glyph\":null,\"selection_glyph\":null},\"id\":\"e766afa9-9d1c-46cb-be82-fc6aba727052\",\"type\":\"GlyphRenderer\"},{\"attributes\":{},\"id\":\"84422e10-d01e-4e7c-a4c4-dfbab81c8757\",\"type\":\"CategoricalTicker\"},{\"attributes\":{\"data_source\":{\"id\":\"07517bca-44f2-4251-80a6-0175c56ddeca\",\"type\":\"ColumnDataSource\"},\"glyph\":{\"id\":\"b30b8cf2-c8c8-4a99-8811-744e09f342b3\",\"type\":\"Rect\"},\"hover_glyph\":null,\"nonselection_glyph\":null,\"selection_glyph\":null},\"id\":\"687c1739-b970-432f-b1d1-48a6a698cdcb\",\"type\":\"GlyphRenderer\"},{\"attributes\":{\"callback\":null,\"column_names\":[\"height\",\"fill_alpha\",\"width\",\"color\",\"line_color\",\"line_alpha\",\"y\",\"x\",\"label\"],\"data\":{\"PercentageAmongstTop\":[11.787538049015257],\"QuestCreationYear\":[\"Oct'15-16\"],\"QuestTags\":[\"android\"],\"YearTagCount\":[18859],\"chart_index\":[{\"PercentageAmongstTop\":11.787538049015257,\"QuestCreationYear\":\"Oct'15-16\",\"QuestTags\":\"android\",\"YearTagCount\":18859}],\"color\":[\"#FF6347\"],\"fill_alpha\":[0.8],\"height\":[11.787538049015257],\"label\":[{\"PercentageAmongstTop\":11.787538049015257,\"QuestCreationYear\":\"Oct'15-16\",\"QuestTags\":\"android\",\"YearTagCount\":18859}],\"line_alpha\":[1.0],\"line_color\":[\"#FFB6C1\"],\"width\":[1.0],\"x\":[\"Oct'15-16\"],\"y\":[5.893769024507629]}},\"id\":\"b590ed3c-2719-446c-b6fb-e0968992445e\",\"type\":\"ColumnDataSource\"},{\"attributes\":{\"data_source\":{\"id\":\"66369fbb-e2e0-4623-b3bf-9bb57c29f2bf\",\"type\":\"ColumnDataSource\"},\"glyph\":{\"id\":\"4a9e235e-ed28-458f-bc0a-9571c68ef7a5\",\"type\":\"Rect\"},\"hover_glyph\":null,\"nonselection_glyph\":null,\"selection_glyph\":null},\"id\":\"f5a6ea55-d41c-49a3-96df-d094afe2716a\",\"type\":\"GlyphRenderer\"},{\"attributes\":{\"fill_alpha\":{\"field\":\"fill_alpha\"},\"fill_color\":{\"field\":\"color\"},\"height\":{\"field\":\"height\",\"units\":\"data\"},\"line_color\":{\"field\":\"line_color\"},\"width\":{\"field\":\"width\",\"units\":\"data\"},\"x\":{\"field\":\"x\"},\"y\":{\"field\":\"y\"}},\"id\":\"c84b01f1-8bf1-43de-b29e-8689074388c7\",\"type\":\"Rect\"},{\"attributes\":{\"callback\":null,\"column_names\":[\"height\",\"fill_alpha\",\"width\",\"color\",\"line_color\",\"line_alpha\",\"y\",\"x\",\"label\"],\"data\":{\"PercentageAmongstTop\":[12.467169716930004],\"QuestCreationYear\":[\"Oct'11-12\"],\"QuestTags\":[\"php\"],\"YearTagCount\":[11962],\"chart_index\":[{\"PercentageAmongstTop\":12.467169716930004,\"QuestCreationYear\":\"Oct'11-12\",\"QuestTags\":\"php\",\"YearTagCount\":11962}],\"color\":[\"#20B2AA\"],\"fill_alpha\":[0.8],\"height\":[12.467169716930004],\"label\":[{\"PercentageAmongstTop\":12.467169716930004,\"QuestCreationYear\":\"Oct'11-12\",\"QuestTags\":\"php\",\"YearTagCount\":11962}],\"line_alpha\":[1.0],\"line_color\":[\"#4B0082\"],\"width\":[1.0],\"x\":[\"Oct'11-12\"],\"y\":[87.95493392254139]}},\"id\":\"7a705a73-ad76-45cd-a720-8977bf45bc32\",\"type\":\"ColumnDataSource\"},{\"attributes\":{\"data_source\":{\"id\":\"b5c06c90-348a-46e3-a376-cb8ef347105f\",\"type\":\"ColumnDataSource\"},\"glyph\":{\"id\":\"f89aafda-6de1-4c0d-92b4-45e99051c3a3\",\"type\":\"Rect\"},\"hover_glyph\":null,\"nonselection_glyph\":null,\"selection_glyph\":null},\"id\":\"fe9d5c35-14f8-46c6-aa7d-3d9aa086fe05\",\"type\":\"GlyphRenderer\"},{\"attributes\":{\"callback\":null,\"column_names\":[\"height\",\"fill_alpha\",\"width\",\"color\",\"line_color\",\"line_alpha\",\"y\",\"x\",\"label\"],\"data\":{\"PercentageAmongstTop\":[5.909978679945731],\"QuestCreationYear\":[\"Oct'10-11\"],\"QuestTags\":[\"asp.net\"],\"YearTagCount\":[3964],\"chart_index\":[{\"PercentageAmongstTop\":5.909978679945731,\"QuestCreationYear\":\"Oct'10-11\",\"QuestTags\":\"asp.net\",\"YearTagCount\":3964}],\"color\":[\"#F0E68C\"],\"fill_alpha\":[0.8],\"height\":[5.909978679945731],\"label\":[{\"PercentageAmongstTop\":5.909978679945731,\"QuestCreationYear\":\"Oct'10-11\",\"QuestTags\":\"asp.net\",\"YearTagCount\":3964}],\"line_alpha\":[1.0],\"line_color\":[\"#F0E68C\"],\"width\":[1.0],\"x\":[\"Oct'10-11\"],\"y\":[13.82225336573584]}},\"id\":\"bd42c8d6-4fe8-4421-ac85-c0f6d5cc5dce\",\"type\":\"ColumnDataSource\"},{\"attributes\":{\"fill_alpha\":{\"field\":\"fill_alpha\"},\"fill_color\":{\"field\":\"color\"},\"height\":{\"field\":\"height\",\"units\":\"data\"},\"line_color\":{\"field\":\"line_color\"},\"width\":{\"field\":\"width\",\"units\":\"data\"},\"x\":{\"field\":\"x\"},\"y\":{\"field\":\"y\"}},\"id\":\"16d1e1ae-1654-4fb4-b407-82053d3ce989\",\"type\":\"Rect\"},{\"attributes\":{\"data_source\":{\"id\":\"c1625ce6-38af-4ae4-8dba-26d35ba151c3\",\"type\":\"ColumnDataSource\"},\"glyph\":{\"id\":\"52d53be7-d519-409b-9871-08eb85c73ba7\",\"type\":\"Rect\"},\"hover_glyph\":null,\"nonselection_glyph\":null,\"selection_glyph\":null},\"id\":\"0f3fd546-8ff0-4743-9283-0927db4ad441\",\"type\":\"GlyphRenderer\"},{\"attributes\":{\"fill_alpha\":{\"field\":\"fill_alpha\"},\"fill_color\":{\"field\":\"color\"},\"height\":{\"field\":\"height\",\"units\":\"data\"},\"line_color\":{\"field\":\"line_color\"},\"width\":{\"field\":\"width\",\"units\":\"data\"},\"x\":{\"field\":\"x\"},\"y\":{\"field\":\"y\"}},\"id\":\"c2c95fe0-825a-4475-b634-5571198211b2\",\"type\":\"Rect\"},{\"attributes\":{},\"id\":\"0cfed514-17d1-412e-aecf-09c070b7c12b\",\"type\":\"ToolEvents\"},{\"attributes\":{\"callback\":null,\"column_names\":[\"height\",\"fill_alpha\",\"width\",\"color\",\"line_color\",\"line_alpha\",\"y\",\"x\",\"label\"],\"data\":{\"PercentageAmongstTop\":[6.033956272138757],\"QuestCreationYear\":[\"Oct'08-09\"],\"QuestTags\":[\"ios\"],\"YearTagCount\":[988],\"chart_index\":[{\"PercentageAmongstTop\":6.033956272138757,\"QuestCreationYear\":\"Oct'08-09\",\"QuestTags\":\"ios\",\"YearTagCount\":988}],\"color\":[\"#F08080\"],\"fill_alpha\":[0.8],\"height\":[6.033956272138757],\"label\":[{\"PercentageAmongstTop\":6.033956272138757,\"QuestCreationYear\":\"Oct'08-09\",\"QuestTags\":\"ios\",\"YearTagCount\":988}],\"line_alpha\":[1.0],\"line_color\":[\"#FF6347\"],\"width\":[1.0],\"x\":[\"Oct'08-09\"],\"y\":[56.095028704042996]}},\"id\":\"e43a6b22-5791-4a74-bc12-aab15ad2d2af\",\"type\":\"ColumnDataSource\"},{\"attributes\":{\"data_source\":{\"id\":\"549159b3-0d0c-41a7-a873-6273b347b567\",\"type\":\"ColumnDataSource\"},\"glyph\":{\"id\":\"a19097b1-71e1-4ae5-bea3-78c6221801e7\",\"type\":\"Rect\"},\"hover_glyph\":null,\"nonselection_glyph\":null,\"selection_glyph\":null},\"id\":\"b1b38f3a-d4a8-43ca-a6b3-f94085698f1b\",\"type\":\"GlyphRenderer\"},{\"attributes\":{\"callback\":null,\"column_names\":[\"height\",\"fill_alpha\",\"width\",\"color\",\"line_color\",\"line_alpha\",\"y\",\"x\",\"label\"],\"data\":{\"PercentageAmongstTop\":[5.194667200030001],\"QuestCreationYear\":[\"Oct'15-16\"],\"QuestTags\":[\"css\"],\"YearTagCount\":[8311],\"chart_index\":[{\"PercentageAmongstTop\":5.194667200030001,\"QuestCreationYear\":\"Oct'15-16\",\"QuestTags\":\"css\",\"YearTagCount\":8311}],\"color\":[\"#90EE90\"],\"fill_alpha\":[0.8],\"height\":[5.194667200030001],\"label\":[{\"PercentageAmongstTop\":5.194667200030001,\"QuestCreationYear\":\"Oct'15-16\",\"QuestTags\":\"css\",\"YearTagCount\":8311}],\"line_alpha\":[1.0],\"line_color\":[\"#E6E6FA\"],\"width\":[1.0],\"x\":[\"Oct'15-16\"],\"y\":[24.33355626253977]}},\"id\":\"efe3e848-b97f-4db0-ae15-4683482dc259\",\"type\":\"ColumnDataSource\"},{\"attributes\":{\"data_source\":{\"id\":\"74af43f2-fe0c-455b-84e9-afbec28ed9da\",\"type\":\"ColumnDataSource\"},\"glyph\":{\"id\":\"9552f0ce-897d-4d6b-a5c5-fc0901100d75\",\"type\":\"Rect\"},\"hover_glyph\":null,\"nonselection_glyph\":null,\"selection_glyph\":null},\"id\":\"18118d70-465f-43f2-92de-6fee12ae8a27\",\"type\":\"GlyphRenderer\"},{\"attributes\":{\"callback\":null,\"column_names\":[\"height\",\"fill_alpha\",\"width\",\"color\",\"line_color\",\"line_alpha\",\"y\",\"x\",\"label\"],\"data\":{\"PercentageAmongstTop\":[12.741276524784258],\"QuestCreationYear\":[\"Oct'11-12\"],\"QuestTags\":[\"javascript\"],\"YearTagCount\":[12225],\"chart_index\":[{\"PercentageAmongstTop\":12.741276524784258,\"QuestCreationYear\":\"Oct'11-12\",\"QuestTags\":\"javascript\",\"YearTagCount\":12225}],\"color\":[\"#FFB6C1\"],\"fill_alpha\":[0.8],\"height\":[12.741276524784258],\"label\":[{\"PercentageAmongstTop\":12.741276524784258,\"QuestCreationYear\":\"Oct'11-12\",\"QuestTags\":\"javascript\",\"YearTagCount\":12225}],\"line_alpha\":[1.0],\"line_color\":[\"#E6E6FA\"],\"width\":[1.0],\"x\":[\"Oct'11-12\"],\"y\":[64.24469504314838]}},\"id\":\"32b2edfa-d385-4267-82fa-e437a22edb17\",\"type\":\"ColumnDataSource\"},{\"attributes\":{\"data_source\":{\"id\":\"e43a6b22-5791-4a74-bc12-aab15ad2d2af\",\"type\":\"ColumnDataSource\"},\"glyph\":{\"id\":\"585c1406-7880-415f-b0ed-fa5143d586d8\",\"type\":\"Rect\"},\"hover_glyph\":null,\"nonselection_glyph\":null,\"selection_glyph\":null},\"id\":\"79fd6d8c-f20b-42ed-903b-0dc55e8646b5\",\"type\":\"GlyphRenderer\"},{\"attributes\":{\"data_source\":{\"id\":\"66a6d804-2ea5-4e7d-b6a6-e44b5a0ed890\",\"type\":\"ColumnDataSource\"},\"glyph\":{\"id\":\"65c2a219-e9e7-4e96-8cbc-31bef77041aa\",\"type\":\"Rect\"},\"hover_glyph\":null,\"nonselection_glyph\":null,\"selection_glyph\":null},\"id\":\"27d70c18-4447-4371-b271-b57efc86fd7b\",\"type\":\"GlyphRenderer\"},{\"attributes\":{\"fill_alpha\":{\"field\":\"fill_alpha\"},\"fill_color\":{\"field\":\"color\"},\"height\":{\"field\":\"height\",\"units\":\"data\"},\"line_color\":{\"field\":\"line_color\"},\"width\":{\"field\":\"width\",\"units\":\"data\"},\"x\":{\"field\":\"x\"},\"y\":{\"field\":\"y\"}},\"id\":\"840d8b72-2f40-491e-a12a-e98e9f1ded43\",\"type\":\"Rect\"},{\"attributes\":{\"data_source\":{\"id\":\"32b2edfa-d385-4267-82fa-e437a22edb17\",\"type\":\"ColumnDataSource\"},\"glyph\":{\"id\":\"efe47d44-367c-4809-82a3-0c8a7d5c2be4\",\"type\":\"Rect\"},\"hover_glyph\":null,\"nonselection_glyph\":null,\"selection_glyph\":null},\"id\":\"f8b1d314-33bc-432c-b08c-273a8a8ba71a\",\"type\":\"GlyphRenderer\"},{\"attributes\":{\"plot\":null,\"text\":\"Top 10 Tags Used Throughout the Years\"},\"id\":\"70a86f00-664f-43fa-93dd-22535150e204\",\"type\":\"Title\"},{\"attributes\":{\"callback\":null,\"column_names\":[\"height\",\"fill_alpha\",\"width\",\"color\",\"line_color\",\"line_alpha\",\"y\",\"x\",\"label\"],\"data\":{\"PercentageAmongstTop\":[10.998289277633685],\"QuestCreationYear\":[\"Oct'14-15\"],\"QuestTags\":[\"php\"],\"YearTagCount\":[15944],\"chart_index\":[{\"PercentageAmongstTop\":10.998289277633685,\"QuestCreationYear\":\"Oct'14-15\",\"QuestTags\":\"php\",\"YearTagCount\":15944}],\"color\":[\"#20B2AA\"],\"fill_alpha\":[0.8],\"height\":[10.998289277633685],\"label\":[{\"PercentageAmongstTop\":10.998289277633685,\"QuestCreationYear\":\"Oct'14-15\",\"QuestTags\":\"php\",\"YearTagCount\":15944}],\"line_alpha\":[1.0],\"line_color\":[\"#FF6347\"],\"width\":[1.0],\"x\":[\"Oct'14-15\"],\"y\":[85.8982672037967]}},\"id\":\"5f125af7-df16-4883-b09b-c76fb6c17dd6\",\"type\":\"ColumnDataSource\"},{\"attributes\":{\"data_source\":{\"id\":\"ae691e99-5802-4aec-9a01-f96ad06382a7\",\"type\":\"ColumnDataSource\"},\"glyph\":{\"id\":\"b888be78-f104-4399-ad5e-abf029ef0ab5\",\"type\":\"Rect\"},\"hover_glyph\":null,\"nonselection_glyph\":null,\"selection_glyph\":null},\"id\":\"1a978979-5b6f-436d-8258-6cf49651108a\",\"type\":\"GlyphRenderer\"},{\"attributes\":{\"callback\":null,\"column_names\":[\"height\",\"fill_alpha\",\"width\",\"color\",\"line_color\",\"line_alpha\",\"y\",\"x\",\"label\"],\"data\":{\"PercentageAmongstTop\":[11.702646664227345],\"QuestCreationYear\":[\"Oct'13-14\"],\"QuestTags\":[\"php\"],\"YearTagCount\":[17271],\"chart_index\":[{\"PercentageAmongstTop\":11.702646664227345,\"QuestCreationYear\":\"Oct'13-14\",\"QuestTags\":\"php\",\"YearTagCount\":17271}],\"color\":[\"#20B2AA\"],\"fill_alpha\":[0.8],\"height\":[11.702646664227345],\"label\":[{\"PercentageAmongstTop\":11.702646664227345,\"QuestCreationYear\":\"Oct'13-14\",\"QuestTags\":\"php\",\"YearTagCount\":17271}],\"line_alpha\":[1.0],\"line_color\":[\"#D3D3D3\"],\"width\":[1.0],\"x\":[\"Oct'13-14\"],\"y\":[86.74397961811061]}},\"id\":\"07517bca-44f2-4251-80a6-0175c56ddeca\",\"type\":\"ColumnDataSource\"},{\"attributes\":{\"callback\":null,\"column_names\":[\"height\",\"fill_alpha\",\"width\",\"color\",\"line_color\",\"line_alpha\",\"y\",\"x\",\"label\"],\"data\":{\"PercentageAmongstTop\":[10.949167242617664],\"QuestCreationYear\":[\"Oct'13-14\"],\"QuestTags\":[\"android\"],\"YearTagCount\":[16159],\"chart_index\":[{\"PercentageAmongstTop\":10.949167242617664,\"QuestCreationYear\":\"Oct'13-14\",\"QuestTags\":\"android\",\"YearTagCount\":16159}],\"color\":[\"#FF6347\"],\"fill_alpha\":[0.8],\"height\":[10.949167242617664],\"label\":[{\"PercentageAmongstTop\":10.949167242617664,\"QuestCreationYear\":\"Oct'13-14\",\"QuestTags\":\"android\",\"YearTagCount\":16159}],\"line_alpha\":[1.0],\"line_color\":[\"#E6E6FA\"],\"width\":[1.0],\"x\":[\"Oct'13-14\"],\"y\":[5.474583621308832]}},\"id\":\"d2a3c31a-43fe-4dda-ba6a-57a9fc83c04f\",\"type\":\"ColumnDataSource\"},{\"attributes\":{\"data_source\":{\"id\":\"70ca5176-0f2d-4b83-8520-3a24e069c43a\",\"type\":\"ColumnDataSource\"},\"glyph\":{\"id\":\"a79818e8-c461-4e65-be11-5616829c9686\",\"type\":\"Rect\"},\"hover_glyph\":null,\"nonselection_glyph\":null,\"selection_glyph\":null},\"id\":\"5c593593-5d09-4739-bf93-575349773664\",\"type\":\"GlyphRenderer\"},{\"attributes\":{\"callback\":null,\"column_names\":[\"height\",\"fill_alpha\",\"width\",\"color\",\"line_color\",\"line_alpha\",\"y\",\"x\",\"label\"],\"data\":{\"PercentageAmongstTop\":[16.429142983279068],\"QuestCreationYear\":[\"Oct'14-15\"],\"QuestTags\":[\"javascript\"],\"YearTagCount\":[23817],\"chart_index\":[{\"PercentageAmongstTop\":16.429142983279068,\"QuestCreationYear\":\"Oct'14-15\",\"QuestTags\":\"javascript\",\"YearTagCount\":23817}],\"color\":[\"#FFB6C1\"],\"fill_alpha\":[0.8],\"height\":[16.429142983279068],\"label\":[{\"PercentageAmongstTop\":16.429142983279068,\"QuestCreationYear\":\"Oct'14-15\",\"QuestTags\":\"javascript\",\"YearTagCount\":23817}],\"line_alpha\":[1.0],\"line_color\":[\"#9370DB\"],\"width\":[1.0],\"x\":[\"Oct'14-15\"],\"y\":[63.58817118260582]}},\"id\":\"e79f2610-7588-4596-b674-f9bfc924f6e8\",\"type\":\"ColumnDataSource\"},{\"attributes\":{\"data_source\":{\"id\":\"28709854-8437-4b98-983d-2fea6b364490\",\"type\":\"ColumnDataSource\"},\"glyph\":{\"id\":\"05f7ede0-ac48-42fa-bddb-308dac9ee0c4\",\"type\":\"Rect\"},\"hover_glyph\":null,\"nonselection_glyph\":null,\"selection_glyph\":null},\"id\":\"12066540-1cf7-48d4-98ab-9c450c83e58a\",\"type\":\"GlyphRenderer\"},{\"attributes\":{\"fill_alpha\":{\"field\":\"fill_alpha\"},\"fill_color\":{\"field\":\"color\"},\"height\":{\"field\":\"height\",\"units\":\"data\"},\"line_color\":{\"field\":\"line_color\"},\"width\":{\"field\":\"width\",\"units\":\"data\"},\"x\":{\"field\":\"x\"},\"y\":{\"field\":\"y\"}},\"id\":\"b14ee87d-31ad-499e-8b87-b3ec4ca0a2f3\",\"type\":\"Rect\"},{\"attributes\":{\"fill_alpha\":{\"field\":\"fill_alpha\"},\"fill_color\":{\"field\":\"color\"},\"height\":{\"field\":\"height\",\"units\":\"data\"},\"line_color\":{\"field\":\"line_color\"},\"width\":{\"field\":\"width\",\"units\":\"data\"},\"x\":{\"field\":\"x\"},\"y\":{\"field\":\"y\"}},\"id\":\"a063efb0-cfde-4282-9a74-f62a551ca5ef\",\"type\":\"Rect\"},{\"attributes\":{\"fill_alpha\":{\"field\":\"fill_alpha\"},\"fill_color\":{\"field\":\"color\"},\"height\":{\"field\":\"height\",\"units\":\"data\"},\"line_color\":{\"field\":\"line_color\"},\"width\":{\"field\":\"width\",\"units\":\"data\"},\"x\":{\"field\":\"x\"},\"y\":{\"field\":\"y\"}},\"id\":\"b9841695-e5c2-44ce-a685-d4b3824a9c5a\",\"type\":\"Rect\"},{\"attributes\":{\"fill_alpha\":{\"field\":\"fill_alpha\"},\"fill_color\":{\"field\":\"color\"},\"height\":{\"field\":\"height\",\"units\":\"data\"},\"line_color\":{\"field\":\"line_color\"},\"width\":{\"field\":\"width\",\"units\":\"data\"},\"x\":{\"field\":\"x\"},\"y\":{\"field\":\"y\"}},\"id\":\"f89aafda-6de1-4c0d-92b4-45e99051c3a3\",\"type\":\"Rect\"},{\"attributes\":{\"callback\":null,\"column_names\":[\"height\",\"fill_alpha\",\"width\",\"color\",\"line_color\",\"line_alpha\",\"y\",\"x\",\"label\"],\"data\":{\"PercentageAmongstTop\":[11.811017144361447],\"QuestCreationYear\":[\"Oct'12-13\"],\"QuestTags\":[\"android\"],\"YearTagCount\":[14357],\"chart_index\":[{\"PercentageAmongstTop\":11.811017144361447,\"QuestCreationYear\":\"Oct'12-13\",\"QuestTags\":\"android\",\"YearTagCount\":14357}],\"color\":[\"#FF6347\"],\"fill_alpha\":[0.8],\"height\":[11.811017144361447],\"label\":[{\"PercentageAmongstTop\":11.811017144361447,\"QuestCreationYear\":\"Oct'12-13\",\"QuestTags\":\"android\",\"YearTagCount\":14357}],\"line_alpha\":[1.0],\"line_color\":[\"#87CEFA\"],\"width\":[1.0],\"x\":[\"Oct'12-13\"],\"y\":[5.9055085721807234]}},\"id\":\"7447c789-1299-4de1-847a-865b64041bbb\",\"type\":\"ColumnDataSource\"},{\"attributes\":{\"callback\":null,\"column_names\":[\"height\",\"fill_alpha\",\"width\",\"color\",\"line_color\",\"line_alpha\",\"y\",\"x\",\"label\"],\"data\":{\"PercentageAmongstTop\":[22.48686942714059],\"QuestCreationYear\":[\"Oct'08-09\"],\"QuestTags\":[\"c#\"],\"YearTagCount\":[3682],\"chart_index\":[{\"PercentageAmongstTop\":22.48686942714059,\"QuestCreationYear\":\"Oct'08-09\",\"QuestTags\":\"c#\",\"YearTagCount\":3682}],\"color\":[\"#E6E6FA\"],\"fill_alpha\":[0.8],\"height\":[22.48686942714059],\"label\":[{\"PercentageAmongstTop\":22.48686942714059,\"QuestCreationYear\":\"Oct'08-09\",\"QuestTags\":\"c#\",\"YearTagCount\":3682}],\"line_alpha\":[1.0],\"line_color\":[\"#4B0082\"],\"width\":[1.0],\"x\":[\"Oct'08-09\"],\"y\":[33.986808354708685]}},\"id\":\"89050be0-0022-4e1c-be33-013bf5be7db8\",\"type\":\"ColumnDataSource\"},{\"attributes\":{\"callback\":null,\"column_names\":[\"height\",\"fill_alpha\",\"width\",\"color\",\"line_color\",\"line_alpha\",\"y\",\"x\",\"label\"],\"data\":{\"PercentageAmongstTop\":[9.437189476827845],\"QuestCreationYear\":[\"Oct'09-10\"],\"QuestTags\":[\"jquery\"],\"YearTagCount\":[3476],\"chart_index\":[{\"PercentageAmongstTop\":9.437189476827845,\"QuestCreationYear\":\"Oct'09-10\",\"QuestTags\":\"jquery\",\"YearTagCount\":3476}],\"color\":[\"#87CEFA\"],\"fill_alpha\":[0.8],\"height\":[9.437189476827845],\"label\":[{\"PercentageAmongstTop\":9.437189476827845,\"QuestCreationYear\":\"Oct'09-10\",\"QuestTags\":\"jquery\",\"YearTagCount\":3476}],\"line_alpha\":[1.0],\"line_color\":[\"#9370DB\"],\"width\":[1.0],\"x\":[\"Oct'09-10\"],\"y\":[76.98259712757581]}},\"id\":\"97703a2c-7f64-4ddb-960c-72feb46ffb8c\",\"type\":\"ColumnDataSource\"},{\"attributes\":{\"callback\":null,\"column_names\":[\"height\",\"fill_alpha\",\"width\",\"color\",\"line_color\",\"line_alpha\",\"y\",\"x\",\"label\"],\"data\":{\"PercentageAmongstTop\":[13.233209655229917],\"QuestCreationYear\":[\"Oct'11-12\"],\"QuestTags\":[\"c#\"],\"YearTagCount\":[12697],\"chart_index\":[{\"PercentageAmongstTop\":13.233209655229917,\"QuestCreationYear\":\"Oct'11-12\",\"QuestTags\":\"c#\",\"YearTagCount\":12697}],\"color\":[\"#E6E6FA\"],\"fill_alpha\":[0.8],\"height\":[13.233209655229917],\"label\":[{\"PercentageAmongstTop\":13.233209655229917,\"QuestCreationYear\":\"Oct'11-12\",\"QuestTags\":\"c#\",\"YearTagCount\":12697}],\"line_alpha\":[1.0],\"line_color\":[\"#F08080\"],\"width\":[1.0],\"x\":[\"Oct'11-12\"],\"y\":[19.31410764163922]}},\"id\":\"554dbd4b-5033-4a5d-adfa-16651c46c175\",\"type\":\"ColumnDataSource\"},{\"attributes\":{\"below\":[{\"id\":\"532ff384-8c75-472f-b696-a0b8de825572\",\"type\":\"CategoricalAxis\"}],\"left\":[{\"id\":\"7d9c186e-5fca-4575-8b77-1db0da356e12\",\"type\":\"LinearAxis\"}],\"renderers\":[{\"id\":\"d6270e53-6f26-4aa2-9edc-f922083cfb8d\",\"type\":\"GlyphRenderer\"},{\"id\":\"1f5d55e4-c8df-4a59-9fcd-969e5c83b5b2\",\"type\":\"GlyphRenderer\"},{\"id\":\"784b130c-d656-4213-9e00-a8449ca101a6\",\"type\":\"GlyphRenderer\"},{\"id\":\"dea5ec19-aaf3-4fee-9c32-5a482af87f1c\",\"type\":\"GlyphRenderer\"},{\"id\":\"79fd6d8c-f20b-42ed-903b-0dc55e8646b5\",\"type\":\"GlyphRenderer\"},{\"id\":\"f382cf3e-c6d9-4539-b1be-883f7a1a6eb8\",\"type\":\"GlyphRenderer\"},{\"id\":\"5c593593-5d09-4739-bf93-575349773664\",\"type\":\"GlyphRenderer\"},{\"id\":\"b1b38f3a-d4a8-43ca-a6b3-f94085698f1b\",\"type\":\"GlyphRenderer\"},{\"id\":\"c8110a03-e0c2-4fed-9795-d917903d1e04\",\"type\":\"GlyphRenderer\"},{\"id\":\"664c3cc5-ddff-44f4-8eee-17186586ba8d\",\"type\":\"GlyphRenderer\"},{\"id\":\"7df199cf-4a3a-4d52-bda0-4b2171fb3d0f\",\"type\":\"GlyphRenderer\"},{\"id\":\"89688f03-8212-4246-9317-68f587bca480\",\"type\":\"GlyphRenderer\"},{\"id\":\"abd61196-08a7-43e3-8153-2c80d4fbfa28\",\"type\":\"GlyphRenderer\"},{\"id\":\"39e3b7e3-c776-4b67-87fe-c3527fa8cf28\",\"type\":\"GlyphRenderer\"},{\"id\":\"b0db0995-5eff-48c2-9df8-9ad96da7773f\",\"type\":\"GlyphRenderer\"},{\"id\":\"612a462d-2af4-43e3-b1a9-7f227002bb9d\",\"type\":\"GlyphRenderer\"},{\"id\":\"6765c4eb-6e82-496d-b5d1-67ac2665765d\",\"type\":\"GlyphRenderer\"},{\"id\":\"a2fd7e03-625f-4f1e-be00-d47b003f0cee\",\"type\":\"GlyphRenderer\"},{\"id\":\"f98b74a7-e4a0-4891-9fe5-35a60d585d2c\",\"type\":\"GlyphRenderer\"},{\"id\":\"4adb10da-03e5-461a-825a-997e3cc19ce0\",\"type\":\"GlyphRenderer\"},{\"id\":\"e766afa9-9d1c-46cb-be82-fc6aba727052\",\"type\":\"GlyphRenderer\"},{\"id\":\"beb2a4fc-85bc-4f02-85ed-e8cbe2240831\",\"type\":\"GlyphRenderer\"},{\"id\":\"5c1aed99-b436-43d2-b01b-c449b0bf0647\",\"type\":\"GlyphRenderer\"},{\"id\":\"2b1870ef-d836-48eb-8189-3a0325df580b\",\"type\":\"GlyphRenderer\"},{\"id\":\"d710253b-3ea0-46e5-9321-c933ff6aa092\",\"type\":\"GlyphRenderer\"},{\"id\":\"cbb8b4f7-6732-435b-bcc4-c7a76e8d02dd\",\"type\":\"GlyphRenderer\"},{\"id\":\"6c88e8e4-ba70-417b-8311-3934436d6949\",\"type\":\"GlyphRenderer\"},{\"id\":\"12066540-1cf7-48d4-98ab-9c450c83e58a\",\"type\":\"GlyphRenderer\"},{\"id\":\"ba5432b4-f005-402e-bc85-eeb5bdb40c7e\",\"type\":\"GlyphRenderer\"},{\"id\":\"91c03388-f7a6-4dfb-b4cd-97f0734bd13f\",\"type\":\"GlyphRenderer\"},{\"id\":\"c2779c6d-5830-4a1a-a955-28337de436d6\",\"type\":\"GlyphRenderer\"},{\"id\":\"69f47fd8-d636-4758-8198-12a80cda7397\",\"type\":\"GlyphRenderer\"},{\"id\":\"5afa17ae-ca70-41e3-a334-5c054be09283\",\"type\":\"GlyphRenderer\"},{\"id\":\"2ebe0019-5fb2-4152-b51f-ce32d2d6f2b1\",\"type\":\"GlyphRenderer\"},{\"id\":\"6f688b8f-5b5a-495f-b5a6-d6c30359fc98\",\"type\":\"GlyphRenderer\"},{\"id\":\"a1fadb14-eb54-4eb6-8946-5ba542c8c779\",\"type\":\"GlyphRenderer\"},{\"id\":\"f8b1d314-33bc-432c-b08c-273a8a8ba71a\",\"type\":\"GlyphRenderer\"},{\"id\":\"0f3fd546-8ff0-4743-9283-0927db4ad441\",\"type\":\"GlyphRenderer\"},{\"id\":\"e476f9b9-01ba-4c68-8b41-fc9839d0de1b\",\"type\":\"GlyphRenderer\"},{\"id\":\"62406c08-0fec-422d-a2e5-c95c7bb43720\",\"type\":\"GlyphRenderer\"},{\"id\":\"f3006308-1c64-471b-ab99-d1b12e99257e\",\"type\":\"GlyphRenderer\"},{\"id\":\"978067ae-67f7-4cac-b204-b66718697e3e\",\"type\":\"GlyphRenderer\"},{\"id\":\"0b2eea52-b521-4790-a178-634a5b817e47\",\"type\":\"GlyphRenderer\"},{\"id\":\"604bfef4-a5e1-4b32-82e2-b114b58a7e5c\",\"type\":\"GlyphRenderer\"},{\"id\":\"3b2d7af1-fa1b-4be2-9558-d4360a568bbd\",\"type\":\"GlyphRenderer\"},{\"id\":\"40b858b8-6219-4f06-8f9d-be8b1429ccf0\",\"type\":\"GlyphRenderer\"},{\"id\":\"27d70c18-4447-4371-b271-b57efc86fd7b\",\"type\":\"GlyphRenderer\"},{\"id\":\"f21b9ecb-ee2e-49b2-9c5e-cc1b032219f6\",\"type\":\"GlyphRenderer\"},{\"id\":\"5415dbdc-fe23-48d3-9eb6-ee127121b69a\",\"type\":\"GlyphRenderer\"},{\"id\":\"4d577bd9-ad65-4e83-9545-8e4722639e23\",\"type\":\"GlyphRenderer\"},{\"id\":\"8b7570d8-8f74-40d3-9a06-05887716c2d2\",\"type\":\"GlyphRenderer\"},{\"id\":\"74c558ae-fce2-4fb0-873f-dbd061209752\",\"type\":\"GlyphRenderer\"},{\"id\":\"fef4ba3b-4992-4598-a424-3522306593f3\",\"type\":\"GlyphRenderer\"},{\"id\":\"9c092d64-55b0-47f9-a7e5-12b099da7f2d\",\"type\":\"GlyphRenderer\"},{\"id\":\"4ff513f0-4224-46ea-bcdc-3cfa1a109ba4\",\"type\":\"GlyphRenderer\"},{\"id\":\"fe9d5c35-14f8-46c6-aa7d-3d9aa086fe05\",\"type\":\"GlyphRenderer\"},{\"id\":\"fa3861be-d91b-48f0-986a-74cec3f2dac5\",\"type\":\"GlyphRenderer\"},{\"id\":\"2a40735f-8d9f-49b9-af36-306d2ff41b30\",\"type\":\"GlyphRenderer\"},{\"id\":\"687c1739-b970-432f-b1d1-48a6a698cdcb\",\"type\":\"GlyphRenderer\"},{\"id\":\"902df2fb-8c15-4938-a7fb-438bf84cb0bd\",\"type\":\"GlyphRenderer\"},{\"id\":\"f5a6ea55-d41c-49a3-96df-d094afe2716a\",\"type\":\"GlyphRenderer\"},{\"id\":\"05affb49-b5ce-443d-9a0b-00bf9ec27258\",\"type\":\"GlyphRenderer\"},{\"id\":\"0972fe6d-3457-4370-925d-6b79ea0330d7\",\"type\":\"GlyphRenderer\"},{\"id\":\"ef6b25e9-d071-4b3c-8068-4ed32fa561c8\",\"type\":\"GlyphRenderer\"},{\"id\":\"e8676572-36a4-4c4a-827a-4ac516e764f7\",\"type\":\"GlyphRenderer\"},{\"id\":\"98c5beb0-a29a-4eb2-b989-c15f30894aad\",\"type\":\"GlyphRenderer\"},{\"id\":\"4ed7bb60-a3df-4202-aa32-c3176b18f830\",\"type\":\"GlyphRenderer\"},{\"id\":\"ff8efb10-8638-409a-811e-e11072eb889e\",\"type\":\"GlyphRenderer\"},{\"id\":\"1b12ab2d-d720-4262-a939-b119570ea7c9\",\"type\":\"GlyphRenderer\"},{\"id\":\"18118d70-465f-43f2-92de-6fee12ae8a27\",\"type\":\"GlyphRenderer\"},{\"id\":\"e2f96901-6ffa-4be1-b189-1afaeacf6895\",\"type\":\"GlyphRenderer\"},{\"id\":\"d451a8b1-0815-4625-be84-8139357deeac\",\"type\":\"GlyphRenderer\"},{\"id\":\"49a66248-edd3-45ce-8c15-e7a3039e6185\",\"type\":\"GlyphRenderer\"},{\"id\":\"b6109819-3f4d-480f-8c39-d43679182859\",\"type\":\"GlyphRenderer\"},{\"id\":\"ab9e8251-78dd-4698-8070-de3e95884427\",\"type\":\"GlyphRenderer\"},{\"id\":\"241d40c5-d959-47b6-b925-f5e78ebd16e3\",\"type\":\"GlyphRenderer\"},{\"id\":\"1a978979-5b6f-436d-8258-6cf49651108a\",\"type\":\"GlyphRenderer\"},{\"id\":\"75dd8e5f-283e-4318-9481-11536f835b01\",\"type\":\"GlyphRenderer\"},{\"id\":\"b16cf255-f32a-4938-ab3c-4a1d5e2c5d3b\",\"type\":\"GlyphRenderer\"},{\"id\":\"cf53b285-5559-410d-a35c-2428a417eaa4\",\"type\":\"GlyphRenderer\"},{\"id\":\"532ff384-8c75-472f-b696-a0b8de825572\",\"type\":\"CategoricalAxis\"},{\"id\":\"7d9c186e-5fca-4575-8b77-1db0da356e12\",\"type\":\"LinearAxis\"},{\"id\":\"70efffb4-0270-46dd-9a25-ebbe3594329a\",\"type\":\"Grid\"}],\"title\":{\"id\":\"70a86f00-664f-43fa-93dd-22535150e204\",\"type\":\"Title\"},\"tool_events\":{\"id\":\"0cfed514-17d1-412e-aecf-09c070b7c12b\",\"type\":\"ToolEvents\"},\"toolbar\":{\"id\":\"7c35bd90-5776-4e6d-80b7-6abe6697579d\",\"type\":\"Toolbar\"},\"x_mapper_type\":\"auto\",\"x_range\":{\"id\":\"de429b76-199d-47d0-aa5b-589ee29127ac\",\"type\":\"FactorRange\"},\"y_mapper_type\":\"auto\",\"y_range\":{\"id\":\"47f95e72-1dff-4ff6-a548-d46e5fe90123\",\"type\":\"Range1d\"}},\"id\":\"54a8b18c-92ae-46f6-a00d-ac498acef5e6\",\"subtype\":\"Chart\",\"type\":\"Plot\"},{\"attributes\":{\"data_source\":{\"id\":\"abbf64c5-1870-4917-aced-e206ef57f6e7\",\"type\":\"ColumnDataSource\"},\"glyph\":{\"id\":\"b14ee87d-31ad-499e-8b87-b3ec4ca0a2f3\",\"type\":\"Rect\"},\"hover_glyph\":null,\"nonselection_glyph\":null,\"selection_glyph\":null},\"id\":\"b16cf255-f32a-4938-ab3c-4a1d5e2c5d3b\",\"type\":\"GlyphRenderer\"},{\"attributes\":{\"callback\":null,\"column_names\":[\"height\",\"fill_alpha\",\"width\",\"color\",\"line_color\",\"line_alpha\",\"y\",\"x\",\"label\"],\"data\":{\"PercentageAmongstTop\":[10.701851979173828],\"QuestCreationYear\":[\"Oct'15-16\"],\"QuestTags\":[\"php\"],\"YearTagCount\":[17122],\"chart_index\":[{\"PercentageAmongstTop\":10.701851979173828,\"QuestCreationYear\":\"Oct'15-16\",\"QuestTags\":\"php\",\"YearTagCount\":17122}],\"color\":[\"#20B2AA\"],\"fill_alpha\":[0.8],\"height\":[10.701851979173828],\"label\":[{\"PercentageAmongstTop\":10.701851979173828,\"QuestCreationYear\":\"Oct'15-16\",\"QuestTags\":\"php\",\"YearTagCount\":17122}],\"line_alpha\":[1.0],\"line_color\":[\"#F08080\"],\"width\":[1.0],\"x\":[\"Oct'15-16\"],\"y\":[84.83414692076428]}},\"id\":\"abbf64c5-1870-4917-aced-e206ef57f6e7\",\"type\":\"ColumnDataSource\"},{\"attributes\":{\"callback\":null,\"column_names\":[\"height\",\"fill_alpha\",\"width\",\"color\",\"line_color\",\"line_alpha\",\"y\",\"x\",\"label\"],\"data\":{\"PercentageAmongstTop\":[7.764472159373103],\"QuestCreationYear\":[\"Oct'14-15\"],\"QuestTags\":[\"html\"],\"YearTagCount\":[11256],\"chart_index\":[{\"PercentageAmongstTop\":7.764472159373103,\"QuestCreationYear\":\"Oct'14-15\",\"QuestTags\":\"html\",\"YearTagCount\":11256}],\"color\":[\"#ADD8E6\"],\"fill_alpha\":[0.8],\"height\":[7.764472159373103],\"label\":[{\"PercentageAmongstTop\":7.764472159373103,\"QuestCreationYear\":\"Oct'14-15\",\"QuestTags\":\"html\",\"YearTagCount\":11256}],\"line_alpha\":[1.0],\"line_color\":[\"#9370DB\"],\"width\":[1.0],\"x\":[\"Oct'14-15\"],\"y\":[30.670906682854145]}},\"id\":\"10f0bd62-3e5e-473e-9f2b-91a7042a26bb\",\"type\":\"ColumnDataSource\"},{\"attributes\":{\"callback\":null,\"column_names\":[\"height\",\"fill_alpha\",\"width\",\"color\",\"line_color\",\"line_alpha\",\"y\",\"x\",\"label\"],\"data\":{\"PercentageAmongstTop\":[13.853697061436703],\"QuestCreationYear\":[\"Oct'12-13\"],\"QuestTags\":[\"javascript\"],\"YearTagCount\":[16840],\"chart_index\":[{\"PercentageAmongstTop\":13.853697061436703,\"QuestCreationYear\":\"Oct'12-13\",\"QuestTags\":\"javascript\",\"YearTagCount\":16840}],\"color\":[\"#FFB6C1\"],\"fill_alpha\":[0.8],\"height\":[13.853697061436703],\"label\":[{\"PercentageAmongstTop\":13.853697061436703,\"QuestCreationYear\":\"Oct'12-13\",\"QuestTags\":\"javascript\",\"YearTagCount\":16840}],\"line_alpha\":[1.0],\"line_color\":[\"#ADD8E6\"],\"width\":[1.0],\"x\":[\"Oct'12-13\"],\"y\":[63.37161472901379]}},\"id\":\"66a6d804-2ea5-4e7d-b6a6-e44b5a0ed890\",\"type\":\"ColumnDataSource\"},{\"attributes\":{\"data_source\":{\"id\":\"b590ed3c-2719-446c-b6fb-e0968992445e\",\"type\":\"ColumnDataSource\"},\"glyph\":{\"id\":\"f1f2d371-2442-4df2-96f4-db99b1719a41\",\"type\":\"Rect\"},\"hover_glyph\":null,\"nonselection_glyph\":null,\"selection_glyph\":null},\"id\":\"e2f96901-6ffa-4be1-b189-1afaeacf6895\",\"type\":\"GlyphRenderer\"},{\"attributes\":{\"data_source\":{\"id\":\"7a2c2c03-5a6a-4d95-8fea-b161dbdcc106\",\"type\":\"ColumnDataSource\"},\"glyph\":{\"id\":\"c80a20c7-3803-4c22-8656-987419773768\",\"type\":\"Rect\"},\"hover_glyph\":null,\"nonselection_glyph\":null,\"selection_glyph\":null},\"id\":\"604bfef4-a5e1-4b32-82e2-b114b58a7e5c\",\"type\":\"GlyphRenderer\"},{\"attributes\":{\"fill_alpha\":{\"field\":\"fill_alpha\"},\"fill_color\":{\"field\":\"color\"},\"height\":{\"field\":\"height\",\"units\":\"data\"},\"line_color\":{\"field\":\"line_color\"},\"width\":{\"field\":\"width\",\"units\":\"data\"},\"x\":{\"field\":\"x\"},\"y\":{\"field\":\"y\"}},\"id\":\"9874e5a3-0766-4a4a-98d2-a9150da28abe\",\"type\":\"Rect\"},{\"attributes\":{\"callback\":null,\"column_names\":[\"height\",\"fill_alpha\",\"width\",\"color\",\"line_color\",\"line_alpha\",\"y\",\"x\",\"label\"],\"data\":{\"PercentageAmongstTop\":[5.960754021493136],\"QuestCreationYear\":[\"Oct'13-14\"],\"QuestTags\":[\"ios\"],\"YearTagCount\":[8797],\"chart_index\":[{\"PercentageAmongstTop\":5.960754021493136,\"QuestCreationYear\":\"Oct'13-14\",\"QuestTags\":\"ios\",\"YearTagCount\":8797}],\"color\":[\"#F08080\"],\"fill_alpha\":[0.8],\"height\":[5.960754021493136],\"label\":[{\"PercentageAmongstTop\":5.960754021493136,\"QuestCreationYear\":\"Oct'13-14\",\"QuestTags\":\"ios\",\"YearTagCount\":8797}],\"line_alpha\":[1.0],\"line_color\":[\"#D3D3D3\"],\"width\":[1.0],\"x\":[\"Oct'13-14\"],\"y\":[38.58566762884362]}},\"id\":\"c12f0137-f5d6-40bd-bb00-40b2149ea271\",\"type\":\"ColumnDataSource\"},{\"attributes\":{\"callback\":null,\"column_names\":[\"height\",\"fill_alpha\",\"width\",\"color\",\"line_color\",\"line_alpha\",\"y\",\"x\",\"label\"],\"data\":{\"PercentageAmongstTop\":[11.842641109874297],\"QuestCreationYear\":[\"Oct'09-10\"],\"QuestTags\":[\"php\"],\"YearTagCount\":[4362],\"chart_index\":[{\"PercentageAmongstTop\":11.842641109874297,\"QuestCreationYear\":\"Oct'09-10\",\"QuestTags\":\"php\",\"YearTagCount\":4362}],\"color\":[\"#20B2AA\"],\"fill_alpha\":[0.8],\"height\":[11.842641109874297],\"label\":[{\"PercentageAmongstTop\":11.842641109874297,\"QuestCreationYear\":\"Oct'09-10\",\"QuestTags\":\"php\",\"YearTagCount\":4362}],\"line_alpha\":[1.0],\"line_color\":[\"#FFF0F5\"],\"width\":[1.0],\"x\":[\"Oct'09-10\"],\"y\":[87.62251242092688]}},\"id\":\"e82643ff-e668-431c-9584-926c425ff52d\",\"type\":\"ColumnDataSource\"},{\"attributes\":{\"data_source\":{\"id\":\"efe3e848-b97f-4db0-ae15-4683482dc259\",\"type\":\"ColumnDataSource\"},\"glyph\":{\"id\":\"5d80644d-a885-42af-b014-9e20cc814bf8\",\"type\":\"Rect\"},\"hover_glyph\":null,\"nonselection_glyph\":null,\"selection_glyph\":null},\"id\":\"49a66248-edd3-45ce-8c15-e7a3039e6185\",\"type\":\"GlyphRenderer\"},{\"attributes\":{\"callback\":null,\"column_names\":[\"height\",\"fill_alpha\",\"width\",\"color\",\"line_color\",\"line_alpha\",\"y\",\"x\",\"label\"],\"data\":{\"PercentageAmongstTop\":[5.893817484470755],\"QuestCreationYear\":[\"Oct'11-12\"],\"QuestTags\":[\"html\"],\"YearTagCount\":[5655],\"chart_index\":[{\"PercentageAmongstTop\":5.893817484470755,\"QuestCreationYear\":\"Oct'11-12\",\"QuestTags\":\"html\",\"YearTagCount\":5655}],\"color\":[\"#ADD8E6\"],\"fill_alpha\":[0.8],\"height\":[5.893817484470755],\"label\":[{\"PercentageAmongstTop\":5.893817484470755,\"QuestCreationYear\":\"Oct'11-12\",\"QuestTags\":\"html\",\"YearTagCount\":5655}],\"line_alpha\":[1.0],\"line_color\":[\"#FFB6C1\"],\"width\":[1.0],\"x\":[\"Oct'11-12\"],\"y\":[34.691186892900326]}},\"id\":\"635a18d2-07e2-46a4-9798-207a07edabf1\",\"type\":\"ColumnDataSource\"},{\"attributes\":{\"fill_alpha\":{\"field\":\"fill_alpha\"},\"fill_color\":{\"field\":\"color\"},\"height\":{\"field\":\"height\",\"units\":\"data\"},\"line_color\":{\"field\":\"line_color\"},\"width\":{\"field\":\"width\",\"units\":\"data\"},\"x\":{\"field\":\"x\"},\"y\":{\"field\":\"y\"}},\"id\":\"b30b8cf2-c8c8-4a99-8811-744e09f342b3\",\"type\":\"Rect\"},{\"attributes\":{\"data_source\":{\"id\":\"c12f0137-f5d6-40bd-bb00-40b2149ea271\",\"type\":\"ColumnDataSource\"},\"glyph\":{\"id\":\"4103cf33-4313-47e0-9399-0ba160143366\",\"type\":\"Rect\"},\"hover_glyph\":null,\"nonselection_glyph\":null,\"selection_glyph\":null},\"id\":\"4ff513f0-4224-46ea-bcdc-3cfa1a109ba4\",\"type\":\"GlyphRenderer\"},{\"attributes\":{\"callback\":null,\"column_names\":[\"height\",\"fill_alpha\",\"width\",\"color\",\"line_color\",\"line_alpha\",\"y\",\"x\",\"label\"],\"data\":{\"PercentageAmongstTop\":[11.273970929522413],\"QuestCreationYear\":[\"Oct'08-09\"],\"QuestTags\":[\"java\"],\"YearTagCount\":[1846],\"chart_index\":[{\"PercentageAmongstTop\":11.273970929522413,\"QuestCreationYear\":\"Oct'08-09\",\"QuestTags\":\"java\",\"YearTagCount\":1846}],\"color\":[\"#D3D3D3\"],\"fill_alpha\":[0.8],\"height\":[11.273970929522413],\"label\":[{\"PercentageAmongstTop\":11.273970929522413,\"QuestCreationYear\":\"Oct'08-09\",\"QuestTags\":\"java\",\"YearTagCount\":1846}],\"line_alpha\":[1.0],\"line_color\":[\"#F08080\"],\"width\":[1.0],\"x\":[\"Oct'08-09\"],\"y\":[64.74899230487358]}},\"id\":\"2f4fca7f-82ec-4ecf-a49b-97596176b9d3\",\"type\":\"ColumnDataSource\"},{\"attributes\":{\"callback\":null,\"column_names\":[\"height\",\"fill_alpha\",\"width\",\"color\",\"line_color\",\"line_alpha\",\"y\",\"x\",\"label\"],\"data\":{\"PercentageAmongstTop\":[12.741341523414787],\"QuestCreationYear\":[\"Oct'10-11\"],\"QuestTags\":[\"php\"],\"YearTagCount\":[8546],\"chart_index\":[{\"PercentageAmongstTop\":12.741341523414787,\"QuestCreationYear\":\"Oct'10-11\",\"QuestTags\":\"php\",\"YearTagCount\":8546}],\"color\":[\"#20B2AA\"],\"fill_alpha\":[0.8],\"height\":[12.741341523414787],\"label\":[{\"PercentageAmongstTop\":12.741341523414787,\"QuestCreationYear\":\"Oct'10-11\",\"QuestTags\":\"php\",\"YearTagCount\":8546}],\"line_alpha\":[1.0],\"line_color\":[\"#ADD8E6\"],\"width\":[1.0],\"x\":[\"Oct'10-11\"],\"y\":[87.78047798667122]}},\"id\":\"5c4d5bd0-5b74-4904-9bb7-512bec3ac6ce\",\"type\":\"ColumnDataSource\"},{\"attributes\":{\"callback\":null,\"column_names\":[\"height\",\"fill_alpha\",\"width\",\"color\",\"line_color\",\"line_alpha\",\"y\",\"x\",\"label\"],\"data\":{\"PercentageAmongstTop\":[6.3497979813039525],\"QuestCreationYear\":[\"Oct'10-11\"],\"QuestTags\":[\"c++\"],\"YearTagCount\":[4259],\"chart_index\":[{\"PercentageAmongstTop\":6.3497979813039525,\"QuestCreationYear\":\"Oct'10-11\",\"QuestTags\":\"c++\",\"YearTagCount\":4259}],\"color\":[\"#FFF0F5\"],\"fill_alpha\":[0.8],\"height\":[6.3497979813039525],\"label\":[{\"PercentageAmongstTop\":6.3497979813039525,\"QuestCreationYear\":\"Oct'10-11\",\"QuestTags\":\"c++\",\"YearTagCount\":4259}],\"line_alpha\":[1.0],\"line_color\":[\"#E6E6FA\"],\"width\":[1.0],\"x\":[\"Oct'10-11\"],\"y\":[35.38010824027552]}},\"id\":\"e4b9d98a-6b75-44ee-b553-ee3c32ec0be1\",\"type\":\"ColumnDataSource\"},{\"attributes\":{\"fill_alpha\":{\"field\":\"fill_alpha\"},\"fill_color\":{\"field\":\"color\"},\"height\":{\"field\":\"height\",\"units\":\"data\"},\"line_color\":{\"field\":\"line_color\"},\"width\":{\"field\":\"width\",\"units\":\"data\"},\"x\":{\"field\":\"x\"},\"y\":{\"field\":\"y\"}},\"id\":\"3dc7818c-3990-4413-984a-62ba05c8e54e\",\"type\":\"Rect\"},{\"attributes\":{\"data_source\":{\"id\":\"3d203443-f0b7-458e-a800-7335e98a320d\",\"type\":\"ColumnDataSource\"},\"glyph\":{\"id\":\"440bf19f-630f-48ef-90d6-e75b51e7df03\",\"type\":\"Rect\"},\"hover_glyph\":null,\"nonselection_glyph\":null,\"selection_glyph\":null},\"id\":\"89688f03-8212-4246-9317-68f587bca480\",\"type\":\"GlyphRenderer\"},{\"attributes\":{\"data_source\":{\"id\":\"87630472-102c-4065-9d4e-b0117ae42f76\",\"type\":\"ColumnDataSource\"},\"glyph\":{\"id\":\"d0d79eb5-e3a0-4d6d-8205-a472cb90d9fc\",\"type\":\"Rect\"},\"hover_glyph\":null,\"nonselection_glyph\":null,\"selection_glyph\":null},\"id\":\"612a462d-2af4-43e3-b1a9-7f227002bb9d\",\"type\":\"GlyphRenderer\"},{\"attributes\":{\"callback\":null,\"column_names\":[\"height\",\"fill_alpha\",\"width\",\"color\",\"line_color\",\"line_alpha\",\"y\",\"x\",\"label\"],\"data\":{\"PercentageAmongstTop\":[12.697502814024263],\"QuestCreationYear\":[\"Oct'11-12\"],\"QuestTags\":[\"android\"],\"YearTagCount\":[12183],\"chart_index\":[{\"PercentageAmongstTop\":12.697502814024263,\"QuestCreationYear\":\"Oct'11-12\",\"QuestTags\":\"android\",\"YearTagCount\":12183}],\"color\":[\"#FF6347\"],\"fill_alpha\":[0.8],\"height\":[12.697502814024263],\"label\":[{\"PercentageAmongstTop\":12.697502814024263,\"QuestCreationYear\":\"Oct'11-12\",\"QuestTags\":\"android\",\"YearTagCount\":12183}],\"line_alpha\":[1.0],\"line_color\":[\"#F0E68C\"],\"width\":[1.0],\"x\":[\"Oct'11-12\"],\"y\":[6.348751407012132]}},\"id\":\"0aec52f3-1386-4da0-8295-87c1abe80e8a\",\"type\":\"ColumnDataSource\"},{\"attributes\":{\"fill_alpha\":{\"field\":\"fill_alpha\"},\"fill_color\":{\"field\":\"color\"},\"height\":{\"field\":\"height\",\"units\":\"data\"},\"line_color\":{\"field\":\"line_color\"},\"width\":{\"field\":\"width\",\"units\":\"data\"},\"x\":{\"field\":\"x\"},\"y\":{\"field\":\"y\"}},\"id\":\"b2bc126f-fa37-488f-92e0-18e602ac90e8\",\"type\":\"Rect\"},{\"attributes\":{\"fill_alpha\":{\"field\":\"fill_alpha\"},\"fill_color\":{\"field\":\"color\"},\"height\":{\"field\":\"height\",\"units\":\"data\"},\"line_color\":{\"field\":\"line_color\"},\"width\":{\"field\":\"width\",\"units\":\"data\"},\"x\":{\"field\":\"x\"},\"y\":{\"field\":\"y\"}},\"id\":\"5d80644d-a885-42af-b014-9e20cc814bf8\",\"type\":\"Rect\"},{\"attributes\":{\"data_source\":{\"id\":\"89050be0-0022-4e1c-be33-013bf5be7db8\",\"type\":\"ColumnDataSource\"},\"glyph\":{\"id\":\"c84b01f1-8bf1-43de-b29e-8689074388c7\",\"type\":\"Rect\"},\"hover_glyph\":null,\"nonselection_glyph\":null,\"selection_glyph\":null},\"id\":\"784b130c-d656-4213-9e00-a8449ca101a6\",\"type\":\"GlyphRenderer\"},{\"attributes\":{\"fill_alpha\":{\"field\":\"fill_alpha\"},\"fill_color\":{\"field\":\"color\"},\"height\":{\"field\":\"height\",\"units\":\"data\"},\"line_color\":{\"field\":\"line_color\"},\"width\":{\"field\":\"width\",\"units\":\"data\"},\"x\":{\"field\":\"x\"},\"y\":{\"field\":\"y\"}},\"id\":\"a2c718b1-a2ec-4fa0-bb03-49d19481001e\",\"type\":\"Rect\"},{\"attributes\":{\"data_source\":{\"id\":\"a49df576-b136-4a8c-9083-28b14a284906\",\"type\":\"ColumnDataSource\"},\"glyph\":{\"id\":\"cd5ed26f-b7b4-4ea5-a486-64c2adf5f703\",\"type\":\"Rect\"},\"hover_glyph\":null,\"nonselection_glyph\":null,\"selection_glyph\":null},\"id\":\"91c03388-f7a6-4dfb-b4cd-97f0734bd13f\",\"type\":\"GlyphRenderer\"},{\"attributes\":{\"data_source\":{\"id\":\"30d2e9f2-3b12-4c1c-9123-b6d8f9ca28e5\",\"type\":\"ColumnDataSource\"},\"glyph\":{\"id\":\"a369e26d-e137-4ff3-b89c-df78ec6b8376\",\"type\":\"Rect\"},\"hover_glyph\":null,\"nonselection_glyph\":null,\"selection_glyph\":null},\"id\":\"cbb8b4f7-6732-435b-bcc4-c7a76e8d02dd\",\"type\":\"GlyphRenderer\"},{\"attributes\":{\"fill_alpha\":{\"field\":\"fill_alpha\"},\"fill_color\":{\"field\":\"color\"},\"height\":{\"field\":\"height\",\"units\":\"data\"},\"line_color\":{\"field\":\"line_color\"},\"width\":{\"field\":\"width\",\"units\":\"data\"},\"x\":{\"field\":\"x\"},\"y\":{\"field\":\"y\"}},\"id\":\"4d699c8d-2d35-4407-83ec-01c8a99e332d\",\"type\":\"Rect\"},{\"attributes\":{\"data_source\":{\"id\":\"e79f2610-7588-4596-b674-f9bfc924f6e8\",\"type\":\"ColumnDataSource\"},\"glyph\":{\"id\":\"1296eb00-8e6c-436e-bd85-c40195c53aa3\",\"type\":\"Rect\"},\"hover_glyph\":null,\"nonselection_glyph\":null,\"selection_glyph\":null},\"id\":\"4ed7bb60-a3df-4202-aa32-c3176b18f830\",\"type\":\"GlyphRenderer\"},{\"attributes\":{\"fill_alpha\":{\"field\":\"fill_alpha\"},\"fill_color\":{\"field\":\"color\"},\"height\":{\"field\":\"height\",\"units\":\"data\"},\"line_color\":{\"field\":\"line_color\"},\"width\":{\"field\":\"width\",\"units\":\"data\"},\"x\":{\"field\":\"x\"},\"y\":{\"field\":\"y\"}},\"id\":\"dadd802a-6655-4a09-ac3c-f815ceb026a9\",\"type\":\"Rect\"},{\"attributes\":{\"fill_alpha\":{\"field\":\"fill_alpha\"},\"fill_color\":{\"field\":\"color\"},\"height\":{\"field\":\"height\",\"units\":\"data\"},\"line_color\":{\"field\":\"line_color\"},\"width\":{\"field\":\"width\",\"units\":\"data\"},\"x\":{\"field\":\"x\"},\"y\":{\"field\":\"y\"}},\"id\":\"26c1fc05-31c0-4ab0-81ce-9bb61c2cb3fd\",\"type\":\"Rect\"},{\"attributes\":{\"data_source\":{\"id\":\"cf9ef345-c562-415b-ad74-30806aca6451\",\"type\":\"ColumnDataSource\"},\"glyph\":{\"id\":\"dbdbcb0a-860f-4734-a0b1-f7766c348e2d\",\"type\":\"Rect\"},\"hover_glyph\":null,\"nonselection_glyph\":null,\"selection_glyph\":null},\"id\":\"39e3b7e3-c776-4b67-87fe-c3527fa8cf28\",\"type\":\"GlyphRenderer\"},{\"attributes\":{\"callback\":null,\"column_names\":[\"height\",\"fill_alpha\",\"width\",\"color\",\"line_color\",\"line_alpha\",\"y\",\"x\",\"label\"],\"data\":{\"PercentageAmongstTop\":[13.51640396195992],\"QuestCreationYear\":[\"Oct'12-13\"],\"QuestTags\":[\"java\"],\"YearTagCount\":[16430],\"chart_index\":[{\"PercentageAmongstTop\":13.51640396195992,\"QuestCreationYear\":\"Oct'12-13\",\"QuestTags\":\"java\",\"YearTagCount\":16430}],\"color\":[\"#D3D3D3\"],\"fill_alpha\":[0.8],\"height\":[13.51640396195992],\"label\":[{\"PercentageAmongstTop\":13.51640396195992,\"QuestCreationYear\":\"Oct'12-13\",\"QuestTags\":\"java\",\"YearTagCount\":16430}],\"line_alpha\":[1.0],\"line_color\":[\"#90EE90\"],\"width\":[1.0],\"x\":[\"Oct'12-13\"],\"y\":[49.68656421731548]}},\"id\":\"c9929abf-ffcc-4a97-8fdb-24b8c7314732\",\"type\":\"ColumnDataSource\"},{\"attributes\":{\"data_source\":{\"id\":\"10f0bd62-3e5e-473e-9f2b-91a7042a26bb\",\"type\":\"ColumnDataSource\"},\"glyph\":{\"id\":\"6fe191e8-4dfe-47d7-97b2-64b1ae3caf6d\",\"type\":\"Rect\"},\"hover_glyph\":null,\"nonselection_glyph\":null,\"selection_glyph\":null},\"id\":\"ef6b25e9-d071-4b3c-8068-4ed32fa561c8\",\"type\":\"GlyphRenderer\"},{\"attributes\":{\"data_source\":{\"id\":\"23a3eba2-c3a3-4862-a959-3655a67c001d\",\"type\":\"ColumnDataSource\"},\"glyph\":{\"id\":\"16d1e1ae-1654-4fb4-b407-82053d3ce989\",\"type\":\"Rect\"},\"hover_glyph\":null,\"nonselection_glyph\":null,\"selection_glyph\":null},\"id\":\"d6270e53-6f26-4aa2-9edc-f922083cfb8d\",\"type\":\"GlyphRenderer\"},{\"attributes\":{\"fill_alpha\":{\"field\":\"fill_alpha\"},\"fill_color\":{\"field\":\"color\"},\"height\":{\"field\":\"height\",\"units\":\"data\"},\"line_color\":{\"field\":\"line_color\"},\"width\":{\"field\":\"width\",\"units\":\"data\"},\"x\":{\"field\":\"x\"},\"y\":{\"field\":\"y\"}},\"id\":\"f1f2d371-2442-4df2-96f4-db99b1719a41\",\"type\":\"Rect\"},{\"attributes\":{\"fill_alpha\":{\"field\":\"fill_alpha\"},\"fill_color\":{\"field\":\"color\"},\"height\":{\"field\":\"height\",\"units\":\"data\"},\"line_color\":{\"field\":\"line_color\"},\"width\":{\"field\":\"width\",\"units\":\"data\"},\"x\":{\"field\":\"x\"},\"y\":{\"field\":\"y\"}},\"id\":\"62213b6a-db28-474f-a1eb-0e5024850742\",\"type\":\"Rect\"},{\"attributes\":{\"callback\":null,\"column_names\":[\"height\",\"fill_alpha\",\"width\",\"color\",\"line_color\",\"line_alpha\",\"y\",\"x\",\"label\"],\"data\":{\"PercentageAmongstTop\":[18.268943610349414],\"QuestCreationYear\":[\"Oct'09-10\"],\"QuestTags\":[\"c#\"],\"YearTagCount\":[6729],\"chart_index\":[{\"PercentageAmongstTop\":18.268943610349414,\"QuestCreationYear\":\"Oct'09-10\",\"QuestTags\":\"c#\",\"YearTagCount\":6729}],\"color\":[\"#E6E6FA\"],\"fill_alpha\":[0.8],\"height\":[18.268943610349414],\"label\":[{\"PercentageAmongstTop\":18.268943610349414,\"QuestCreationYear\":\"Oct'09-10\",\"QuestTags\":\"c#\",\"YearTagCount\":6729}],\"line_alpha\":[1.0],\"line_color\":[\"#20B2AA\"],\"width\":[1.0],\"x\":[\"Oct'09-10\"],\"y\":[24.832351423994787]}},\"id\":\"c6f15771-5939-4e57-ba0a-99bd422593c2\",\"type\":\"ColumnDataSource\"},{\"attributes\":{\"data_source\":{\"id\":\"b40ff51b-a0db-4ad7-a566-808127a192e0\",\"type\":\"ColumnDataSource\"},\"glyph\":{\"id\":\"6c7b74ed-e596-48b0-8b77-cf3349eca68a\",\"type\":\"Rect\"},\"hover_glyph\":null,\"nonselection_glyph\":null,\"selection_glyph\":null},\"id\":\"6c88e8e4-ba70-417b-8311-3934436d6949\",\"type\":\"GlyphRenderer\"},{\"attributes\":{\"fill_alpha\":{\"field\":\"fill_alpha\"},\"fill_color\":{\"field\":\"color\"},\"height\":{\"field\":\"height\",\"units\":\"data\"},\"line_color\":{\"field\":\"line_color\"},\"width\":{\"field\":\"width\",\"units\":\"data\"},\"x\":{\"field\":\"x\"},\"y\":{\"field\":\"y\"}},\"id\":\"f803d59a-707b-43f5-bd7b-f7e7834ad8f2\",\"type\":\"Rect\"},{\"attributes\":{\"fill_alpha\":{\"field\":\"fill_alpha\"},\"fill_color\":{\"field\":\"color\"},\"height\":{\"field\":\"height\",\"units\":\"data\"},\"line_color\":{\"field\":\"line_color\"},\"width\":{\"field\":\"width\",\"units\":\"data\"},\"x\":{\"field\":\"x\"},\"y\":{\"field\":\"y\"}},\"id\":\"83036d37-c4f1-41fe-a806-b330eed5642b\",\"type\":\"Rect\"},{\"attributes\":{\"fill_alpha\":{\"field\":\"fill_alpha\"},\"fill_color\":{\"field\":\"color\"},\"height\":{\"field\":\"height\",\"units\":\"data\"},\"line_color\":{\"field\":\"line_color\"},\"width\":{\"field\":\"width\",\"units\":\"data\"},\"x\":{\"field\":\"x\"},\"y\":{\"field\":\"y\"}},\"id\":\"f76e34b4-db30-493d-98a6-d81189e76daf\",\"type\":\"Rect\"},{\"attributes\":{\"fill_alpha\":{\"field\":\"fill_alpha\"},\"fill_color\":{\"field\":\"color\"},\"height\":{\"field\":\"height\",\"units\":\"data\"},\"line_color\":{\"field\":\"line_color\"},\"width\":{\"field\":\"width\",\"units\":\"data\"},\"x\":{\"field\":\"x\"},\"y\":{\"field\":\"y\"}},\"id\":\"7f81fe98-d7de-47c2-ba49-750d9dd5996c\",\"type\":\"Rect\"},{\"attributes\":{\"data_source\":{\"id\":\"957a29e3-8514-459d-a0e1-92b61e0d0c48\",\"type\":\"ColumnDataSource\"},\"glyph\":{\"id\":\"7efb1f87-b69f-4648-8163-754fca8dea2c\",\"type\":\"Rect\"},\"hover_glyph\":null,\"nonselection_glyph\":null,\"selection_glyph\":null},\"id\":\"4d577bd9-ad65-4e83-9545-8e4722639e23\",\"type\":\"GlyphRenderer\"},{\"attributes\":{\"data_source\":{\"id\":\"4501142a-7291-4691-a54d-64145d13e26d\",\"type\":\"ColumnDataSource\"},\"glyph\":{\"id\":\"225d926b-3697-4a06-87cc-c4c4b57c4bd0\",\"type\":\"Rect\"},\"hover_glyph\":null,\"nonselection_glyph\":null,\"selection_glyph\":null},\"id\":\"3b2d7af1-fa1b-4be2-9558-d4360a568bbd\",\"type\":\"GlyphRenderer\"},{\"attributes\":{\"fill_alpha\":{\"field\":\"fill_alpha\"},\"fill_color\":{\"field\":\"color\"},\"height\":{\"field\":\"height\",\"units\":\"data\"},\"line_color\":{\"field\":\"line_color\"},\"width\":{\"field\":\"width\",\"units\":\"data\"},\"x\":{\"field\":\"x\"},\"y\":{\"field\":\"y\"}},\"id\":\"cd7ccbf9-a985-4873-92f8-1fbf34db16c7\",\"type\":\"Rect\"},{\"attributes\":{\"callback\":null,\"column_names\":[\"height\",\"fill_alpha\",\"width\",\"color\",\"line_color\",\"line_alpha\",\"y\",\"x\",\"label\"],\"data\":{\"PercentageAmongstTop\":[12.299987785513618],\"QuestCreationYear\":[\"Oct'08-09\"],\"QuestTags\":[\".net\"],\"YearTagCount\":[2014],\"chart_index\":[{\"PercentageAmongstTop\":12.299987785513618,\"QuestCreationYear\":\"Oct'08-09\",\"QuestTags\":\".net\",\"YearTagCount\":2014}],\"color\":[\"#4B0082\"],\"fill_alpha\":[0.8],\"height\":[12.299987785513618],\"label\":[{\"PercentageAmongstTop\":12.299987785513618,\"QuestCreationYear\":\"Oct'08-09\",\"QuestTags\":\".net\",\"YearTagCount\":2014}],\"line_alpha\":[1.0],\"line_color\":[\"#D3D3D3\"],\"width\":[1.0],\"x\":[\"Oct'08-09\"],\"y\":[6.149993892756809]}},\"id\":\"23a3eba2-c3a3-4862-a959-3655a67c001d\",\"type\":\"ColumnDataSource\"},{\"attributes\":{\"callback\":null,\"column_names\":[\"height\",\"fill_alpha\",\"width\",\"color\",\"line_color\",\"line_alpha\",\"y\",\"x\",\"label\"],\"data\":{\"PercentageAmongstTop\":[7.859359542491632],\"QuestCreationYear\":[\"Oct'13-14\"],\"QuestTags\":[\"html\"],\"YearTagCount\":[11599],\"chart_index\":[{\"PercentageAmongstTop\":7.859359542491632,\"QuestCreationYear\":\"Oct'13-14\",\"QuestTags\":\"html\",\"YearTagCount\":11599}],\"color\":[\"#ADD8E6\"],\"fill_alpha\":[0.8],\"height\":[7.859359542491632],\"label\":[{\"PercentageAmongstTop\":7.859359542491632,\"QuestCreationYear\":\"Oct'13-14\",\"QuestTags\":\"html\",\"YearTagCount\":11599}],\"line_alpha\":[1.0],\"line_color\":[\"#40E0D0\"],\"width\":[1.0],\"x\":[\"Oct'13-14\"],\"y\":[31.675610846851242]}},\"id\":\"0240bcf4-0d32-4263-aa78-a57bffa83361\",\"type\":\"ColumnDataSource\"},{\"attributes\":{\"fill_alpha\":{\"field\":\"fill_alpha\"},\"fill_color\":{\"field\":\"color\"},\"height\":{\"field\":\"height\",\"units\":\"data\"},\"line_color\":{\"field\":\"line_color\"},\"width\":{\"field\":\"width\",\"units\":\"data\"},\"x\":{\"field\":\"x\"},\"y\":{\"field\":\"y\"}},\"id\":\"f9787662-9c14-41b9-bdaa-fed582439982\",\"type\":\"Rect\"},{\"attributes\":{\"data_source\":{\"id\":\"f4c648d9-c8f3-40ad-a875-f1b6193c6b28\",\"type\":\"ColumnDataSource\"},\"glyph\":{\"id\":\"4c6a1b43-5d78-4b71-bdee-1dc90c7e9f4f\",\"type\":\"Rect\"},\"hover_glyph\":null,\"nonselection_glyph\":null,\"selection_glyph\":null},\"id\":\"0b2eea52-b521-4790-a178-634a5b817e47\",\"type\":\"GlyphRenderer\"},{\"attributes\":{\"data_source\":{\"id\":\"e82643ff-e668-431c-9584-926c425ff52d\",\"type\":\"ColumnDataSource\"},\"glyph\":{\"id\":\"83036d37-c4f1-41fe-a806-b330eed5642b\",\"type\":\"Rect\"},\"hover_glyph\":null,\"nonselection_glyph\":null,\"selection_glyph\":null},\"id\":\"f98b74a7-e4a0-4891-9fe5-35a60d585d2c\",\"type\":\"GlyphRenderer\"},{\"attributes\":{\"fill_alpha\":{\"field\":\"fill_alpha\"},\"fill_color\":{\"field\":\"color\"},\"height\":{\"field\":\"height\",\"units\":\"data\"},\"line_color\":{\"field\":\"line_color\"},\"width\":{\"field\":\"width\",\"units\":\"data\"},\"x\":{\"field\":\"x\"},\"y\":{\"field\":\"y\"}},\"id\":\"dbbcf288-46be-4bdd-acd6-a4906420b542\",\"type\":\"Rect\"},{\"attributes\":{\"callback\":null,\"column_names\":[\"height\",\"fill_alpha\",\"width\",\"color\",\"line_color\",\"line_alpha\",\"y\",\"x\",\"label\"],\"data\":{\"PercentageAmongstTop\":[7.343957863872071],\"QuestCreationYear\":[\"Oct'09-10\"],\"QuestTags\":[\"c++\"],\"YearTagCount\":[2705],\"chart_index\":[{\"PercentageAmongstTop\":7.343957863872071,\"QuestCreationYear\":\"Oct'09-10\",\"QuestTags\":\"c++\",\"YearTagCount\":2705}],\"color\":[\"#FFF0F5\"],\"fill_alpha\":[0.8],\"height\":[7.343957863872071],\"label\":[{\"PercentageAmongstTop\":7.343957863872071,\"QuestCreationYear\":\"Oct'09-10\",\"QuestTags\":\"c++\",\"YearTagCount\":2705}],\"line_alpha\":[1.0],\"line_color\":[\"#87CEFA\"],\"width\":[1.0],\"x\":[\"Oct'09-10\"],\"y\":[37.63880216110553]}},\"id\":\"cf9ef345-c562-415b-ad74-30806aca6451\",\"type\":\"ColumnDataSource\"},{\"attributes\":{\"data_source\":{\"id\":\"bd42c8d6-4fe8-4421-ac85-c0f6d5cc5dce\",\"type\":\"ColumnDataSource\"},\"glyph\":{\"id\":\"332fed4a-ebce-4f75-9ff6-480a7b1fd713\",\"type\":\"Rect\"},\"hover_glyph\":null,\"nonselection_glyph\":null,\"selection_glyph\":null},\"id\":\"beb2a4fc-85bc-4f02-85ed-e8cbe2240831\",\"type\":\"GlyphRenderer\"},{\"attributes\":{\"fill_alpha\":{\"field\":\"fill_alpha\"},\"fill_color\":{\"field\":\"color\"},\"height\":{\"field\":\"height\",\"units\":\"data\"},\"line_color\":{\"field\":\"line_color\"},\"width\":{\"field\":\"width\",\"units\":\"data\"},\"x\":{\"field\":\"x\"},\"y\":{\"field\":\"y\"}},\"id\":\"811d7085-7ed0-494b-b799-88fdb3171c86\",\"type\":\"Rect\"},{\"attributes\":{\"callback\":null,\"column_names\":[\"height\",\"fill_alpha\",\"width\",\"color\",\"line_color\",\"line_alpha\",\"y\",\"x\",\"label\"],\"data\":{\"PercentageAmongstTop\":[6.625600132443022],\"QuestCreationYear\":[\"Oct'14-15\"],\"QuestTags\":[\"ios\"],\"YearTagCount\":[9605],\"chart_index\":[{\"PercentageAmongstTop\":6.625600132443022,\"QuestCreationYear\":\"Oct'14-15\",\"QuestTags\":\"ios\",\"YearTagCount\":9605}],\"color\":[\"#F08080\"],\"fill_alpha\":[0.8],\"height\":[6.625600132443022],\"label\":[{\"PercentageAmongstTop\":6.625600132443022,\"QuestCreationYear\":\"Oct'14-15\",\"QuestTags\":\"ios\",\"YearTagCount\":9605}],\"line_alpha\":[1.0],\"line_color\":[\"#FFB6C1\"],\"width\":[1.0],\"x\":[\"Oct'14-15\"],\"y\":[37.865942828762215]}},\"id\":\"15825aa2-86f8-403c-aa27-24b600d3271b\",\"type\":\"ColumnDataSource\"},{\"attributes\":{\"fill_alpha\":{\"field\":\"fill_alpha\"},\"fill_color\":{\"field\":\"color\"},\"height\":{\"field\":\"height\",\"units\":\"data\"},\"line_color\":{\"field\":\"line_color\"},\"width\":{\"field\":\"width\",\"units\":\"data\"},\"x\":{\"field\":\"x\"},\"y\":{\"field\":\"y\"}},\"id\":\"e9c6b5ac-59fc-41e0-9d4f-c7bc5c8fb0d6\",\"type\":\"Rect\"},{\"attributes\":{\"callback\":null,\"column_names\":[\"height\",\"fill_alpha\",\"width\",\"color\",\"line_color\",\"line_alpha\",\"y\",\"x\",\"label\"],\"data\":{\"PercentageAmongstTop\":[6.456167024135965],\"QuestCreationYear\":[\"Oct'09-10\"],\"QuestTags\":[\"python\"],\"YearTagCount\":[2378],\"chart_index\":[{\"PercentageAmongstTop\":6.456167024135965,\"QuestCreationYear\":\"Oct'09-10\",\"QuestTags\":\"python\",\"YearTagCount\":2378}],\"color\":[\"#FFA07A\"],\"fill_alpha\":[0.8],\"height\":[6.456167024135965],\"label\":[{\"PercentageAmongstTop\":6.456167024135965,\"QuestCreationYear\":\"Oct'09-10\",\"QuestTags\":\"python\",\"YearTagCount\":2378}],\"line_alpha\":[1.0],\"line_color\":[\"#FFB6C1\"],\"width\":[1.0],\"x\":[\"Oct'09-10\"],\"y\":[96.771916487932]}},\"id\":\"a6090c02-2211-4b92-ae7a-8422d54640e0\",\"type\":\"ColumnDataSource\"},{\"attributes\":{\"callback\":null,\"column_names\":[\"height\",\"fill_alpha\",\"width\",\"color\",\"line_color\",\"line_alpha\",\"y\",\"x\",\"label\"],\"data\":{\"PercentageAmongstTop\":[13.337625241419829],\"QuestCreationYear\":[\"Oct'15-16\"],\"QuestTags\":[\"java\"],\"YearTagCount\":[21339],\"chart_index\":[{\"PercentageAmongstTop\":13.337625241419829,\"QuestCreationYear\":\"Oct'15-16\",\"QuestTags\":\"java\",\"YearTagCount\":21339}],\"color\":[\"#D3D3D3\"],\"fill_alpha\":[0.8],\"height\":[13.337625241419829],\"label\":[{\"PercentageAmongstTop\":13.337625241419829,\"QuestCreationYear\":\"Oct'15-16\",\"QuestTags\":\"java\",\"YearTagCount\":21339}],\"line_alpha\":[1.0],\"line_color\":[\"#FFA07A\"],\"width\":[1.0],\"x\":[\"Oct'15-16\"],\"y\":[47.388603108924876]}},\"id\":\"32a37726-88b3-41b6-b990-c7691e8cfa27\",\"type\":\"ColumnDataSource\"},{\"attributes\":{\"fill_alpha\":{\"field\":\"fill_alpha\"},\"fill_color\":{\"field\":\"color\"},\"height\":{\"field\":\"height\",\"units\":\"data\"},\"line_color\":{\"field\":\"line_color\"},\"width\":{\"field\":\"width\",\"units\":\"data\"},\"x\":{\"field\":\"x\"},\"y\":{\"field\":\"y\"}},\"id\":\"6c7b74ed-e596-48b0-8b77-cf3349eca68a\",\"type\":\"Rect\"},{\"attributes\":{\"callback\":null,\"column_names\":[\"height\",\"fill_alpha\",\"width\",\"color\",\"line_color\",\"line_alpha\",\"y\",\"x\",\"label\"],\"data\":{\"PercentageAmongstTop\":[7.794640675481226],\"QuestCreationYear\":[\"Oct'09-10\"],\"QuestTags\":[\"asp.net\"],\"YearTagCount\":[2871],\"chart_index\":[{\"PercentageAmongstTop\":7.794640675481226,\"QuestCreationYear\":\"Oct'09-10\",\"QuestTags\":\"asp.net\",\"YearTagCount\":2871}],\"color\":[\"#F0E68C\"],\"fill_alpha\":[0.8],\"height\":[7.794640675481226],\"label\":[{\"PercentageAmongstTop\":7.794640675481226,\"QuestCreationYear\":\"Oct'09-10\",\"QuestTags\":\"asp.net\",\"YearTagCount\":2871}],\"line_alpha\":[1.0],\"line_color\":[\"#20B2AA\"],\"width\":[1.0],\"x\":[\"Oct'09-10\"],\"y\":[11.800559281079467]}},\"id\":\"3d203443-f0b7-458e-a800-7335e98a320d\",\"type\":\"ColumnDataSource\"},{\"attributes\":{\"data_source\":{\"id\":\"cee5674b-76fa-43a5-866c-5c4bcb42a1fb\",\"type\":\"ColumnDataSource\"},\"glyph\":{\"id\":\"811d7085-7ed0-494b-b799-88fdb3171c86\",\"type\":\"Rect\"},\"hover_glyph\":null,\"nonselection_glyph\":null,\"selection_glyph\":null},\"id\":\"75dd8e5f-283e-4318-9481-11536f835b01\",\"type\":\"GlyphRenderer\"},{\"attributes\":{\"callback\":null,\"column_names\":[\"height\",\"fill_alpha\",\"width\",\"color\",\"line_color\",\"line_alpha\",\"y\",\"x\",\"label\"],\"data\":{\"PercentageAmongstTop\":[10.867264025762974],\"QuestCreationYear\":[\"Oct'10-11\"],\"QuestTags\":[\"android\"],\"YearTagCount\":[7289],\"chart_index\":[{\"PercentageAmongstTop\":10.867264025762974,\"QuestCreationYear\":\"Oct'10-11\",\"QuestTags\":\"android\",\"YearTagCount\":7289}],\"color\":[\"#FF6347\"],\"fill_alpha\":[0.8],\"height\":[10.867264025762974],\"label\":[{\"PercentageAmongstTop\":10.867264025762974,\"QuestCreationYear\":\"Oct'10-11\",\"QuestTags\":\"android\",\"YearTagCount\":7289}],\"line_alpha\":[1.0],\"line_color\":[\"#9370DB\"],\"width\":[1.0],\"x\":[\"Oct'10-11\"],\"y\":[5.433632012881487]}},\"id\":\"3c929f9a-ba1e-47c0-800a-a3d1761b073d\",\"type\":\"ColumnDataSource\"},{\"attributes\":{\"data_source\":{\"id\":\"5218853f-b80d-4f7e-a15e-8facc49e791d\",\"type\":\"ColumnDataSource\"},\"glyph\":{\"id\":\"9b22d78a-ae46-4235-bd42-3d9124a79059\",\"type\":\"Rect\"},\"hover_glyph\":null,\"nonselection_glyph\":null,\"selection_glyph\":null},\"id\":\"98c5beb0-a29a-4eb2-b989-c15f30894aad\",\"type\":\"GlyphRenderer\"},{\"attributes\":{\"data_source\":{\"id\":\"0aec52f3-1386-4da0-8295-87c1abe80e8a\",\"type\":\"ColumnDataSource\"},\"glyph\":{\"id\":\"e38a1835-7370-4276-8968-b3aba0f8cc76\",\"type\":\"Rect\"},\"hover_glyph\":null,\"nonselection_glyph\":null,\"selection_glyph\":null},\"id\":\"c2779c6d-5830-4a1a-a955-28337de436d6\",\"type\":\"GlyphRenderer\"},{\"attributes\":{\"fill_alpha\":{\"field\":\"fill_alpha\"},\"fill_color\":{\"field\":\"color\"},\"height\":{\"field\":\"height\",\"units\":\"data\"},\"line_color\":{\"field\":\"line_color\"},\"width\":{\"field\":\"width\",\"units\":\"data\"},\"x\":{\"field\":\"x\"},\"y\":{\"field\":\"y\"}},\"id\":\"69c8e097-3a65-4f69-97f9-9fc4ef86cfb4\",\"type\":\"Rect\"},{\"attributes\":{\"callback\":null,\"column_names\":[\"height\",\"fill_alpha\",\"width\",\"color\",\"line_color\",\"line_alpha\",\"y\",\"x\",\"label\"],\"data\":{\"PercentageAmongstTop\":[17.64661762224125],\"QuestCreationYear\":[\"Oct'15-16\"],\"QuestTags\":[\"javascript\"],\"YearTagCount\":[28233],\"chart_index\":[{\"PercentageAmongstTop\":17.64661762224125,\"QuestCreationYear\":\"Oct'15-16\",\"QuestTags\":\"javascript\",\"YearTagCount\":28233}],\"color\":[\"#FFB6C1\"],\"fill_alpha\":[0.8],\"height\":[17.64661762224125],\"label\":[{\"PercentageAmongstTop\":17.64661762224125,\"QuestCreationYear\":\"Oct'15-16\",\"QuestTags\":\"javascript\",\"YearTagCount\":28233}],\"line_alpha\":[1.0],\"line_color\":[\"#40E0D0\"],\"width\":[1.0],\"x\":[\"Oct'15-16\"],\"y\":[62.880724540755416]}},\"id\":\"ae691e99-5802-4aec-9a01-f96ad06382a7\",\"type\":\"ColumnDataSource\"},{\"attributes\":{\"callback\":null,\"column_names\":[\"height\",\"fill_alpha\",\"width\",\"color\",\"line_color\",\"line_alpha\",\"y\",\"x\",\"label\"],\"data\":{\"PercentageAmongstTop\":[6.184097855504372],\"QuestCreationYear\":[\"Oct'15-16\"],\"QuestTags\":[\"ios\"],\"YearTagCount\":[9894],\"chart_index\":[{\"PercentageAmongstTop\":6.184097855504372,\"QuestCreationYear\":\"Oct'15-16\",\"QuestTags\":\"ios\",\"YearTagCount\":9894}],\"color\":[\"#F08080\"],\"fill_alpha\":[0.8],\"height\":[6.184097855504372],\"label\":[{\"PercentageAmongstTop\":6.184097855504372,\"QuestCreationYear\":\"Oct'15-16\",\"QuestTags\":\"ios\",\"YearTagCount\":9894}],\"line_alpha\":[1.0],\"line_color\":[\"#87CEFA\"],\"width\":[1.0],\"x\":[\"Oct'15-16\"],\"y\":[37.62774156046278]}},\"id\":\"0fffbc6d-5720-4632-b1e1-9d0209d63e51\",\"type\":\"ColumnDataSource\"},{\"attributes\":{\"fill_alpha\":{\"field\":\"fill_alpha\"},\"fill_color\":{\"field\":\"color\"},\"height\":{\"field\":\"height\",\"units\":\"data\"},\"line_color\":{\"field\":\"line_color\"},\"width\":{\"field\":\"width\",\"units\":\"data\"},\"x\":{\"field\":\"x\"},\"y\":{\"field\":\"y\"}},\"id\":\"120e5013-82ed-46b2-b4eb-08ef8ec6d904\",\"type\":\"Rect\"}],\"root_ids\":[\"54a8b18c-92ae-46f6-a00d-ac498acef5e6\"]},\"title\":\"Bokeh Application\",\"version\":\"0.12.2\"}};\n",
       "            var render_items = [{\"docid\":\"08ccf3f5-e4aa-4c09-8ac1-8b86d4f612c4\",\"elementid\":\"983fd86f-a666-40e8-8f0a-3255a97e293e\",\"modelid\":\"54a8b18c-92ae-46f6-a00d-ac498acef5e6\"}];\n",
       "            \n",
       "            Bokeh.embed.embed_items(docs_json, render_items);\n",
       "        });\n",
       "      },\n",
       "      function(Bokeh) {\n",
       "      }\n",
       "    ];\n",
       "  \n",
       "    function run_inline_js() {\n",
       "      \n",
       "      if ((window.Bokeh !== undefined) || (force === \"1\")) {\n",
       "        for (var i = 0; i < inline_js.length; i++) {\n",
       "          inline_js[i](window.Bokeh);\n",
       "        }if (force === \"1\") {\n",
       "          display_loaded();\n",
       "        }} else if (Date.now() < window._bokeh_timeout) {\n",
       "        setTimeout(run_inline_js, 100);\n",
       "      } else if (!window._bokeh_failed_load) {\n",
       "        console.log(\"Bokeh: BokehJS failed to load within specified timeout.\");\n",
       "        window._bokeh_failed_load = true;\n",
       "      } else if (!force) {\n",
       "        var cell = $(\"#983fd86f-a666-40e8-8f0a-3255a97e293e\").parents('.cell').data().cell;\n",
       "        cell.output_area.append_execute_result(NB_LOAD_WARNING)\n",
       "      }\n",
       "  \n",
       "    }\n",
       "  \n",
       "    if (window._bokeh_is_loading === 0) {\n",
       "      console.log(\"Bokeh: BokehJS loaded, going straight to plotting\");\n",
       "      run_inline_js();\n",
       "    } else {\n",
       "      load_libs(js_urls, function() {\n",
       "        console.log(\"Bokeh: BokehJS plotting callback run at\", now());\n",
       "        run_inline_js();\n",
       "      });\n",
       "    }\n",
       "  }(this));\n",
       "</script>"
      ]
     },
     "metadata": {},
     "output_type": "display_data"
    }
   ],
   "source": [
    "from bokeh.charts import Bar, show, output_notebook\n",
    "from bokeh.models import HoverTool\n",
    "\n",
    "output_notebook()\n",
    "\n",
    "palette = ['#4B0082','#FF6347','#F0E68C','#E6E6FA','#FFF0F5','#90EE90','#ADD8E6','#F08080','#D3D3D3','#FFB6C1','#87CEFA','#20B2AA','#FFA07A','#778899','#9370DB','#40E0D0']\n",
    "\n",
    "bar = Bar(topYearQuestTag, values='PercentageAmongstTop', label='QuestCreationYear', stack='QuestTags',\n",
    "          title='Top 10 Tags Used Throughout the Years', legend=False, \n",
    "              bar_width=1.0, palette=palette, tools='hover', line_color=['YearTagCount', 'PercentageAmongstTop'])\n",
    "\n",
    "hover = bar.select(dict(type=HoverTool))\n",
    "hover.tooltips = [('Tag','@QuestTags'), ('Yearly Tag Count','@YearTagCount'), \n",
    "                      ('Percentage of Tag Used','@PercentageAmongstTop{1.11}%')]\n",
    "\n",
    "bar.xaxis.axis_label = 'Year in which Question was Created'\n",
    "bar.yaxis.axis_label = 'Percentage of Top Tags Used in Questions Yearly (%)'\n",
    "\n",
    "show(bar)"
   ]
  },
  {
   "cell_type": "code",
   "execution_count": 37,
   "metadata": {
    "collapsed": false
   },
   "outputs": [
    {
     "data": {
      "text/plain": [
       "QuestCreationYear  QuestTags         \n",
       "Oct'08-09          c#                    3682\n",
       "                   .net                  2014\n",
       "                   java                  1846\n",
       "                   asp.net               1710\n",
       "                   php                   1468\n",
       "                   javascript            1382\n",
       "                   c++                   1285\n",
       "                   python                1023\n",
       "                   iphone                 988\n",
       "                   jquery                 976\n",
       "                   sql                    957\n",
       "                   sql-server             781\n",
       "                   html                   713\n",
       "                   mysql                  664\n",
       "                   asp.net-mvc            609\n",
       "                   wpf                    513\n",
       "                   c                      505\n",
       "                   css                    487\n",
       "                   ruby-on-rails          486\n",
       "                   objective-c            468\n",
       "                   windows                462\n",
       "                   xml                    447\n",
       "                   ruby                   421\n",
       "                   vb.net                 421\n",
       "                   winforms               418\n",
       "                   visual-studio          414\n",
       "                   database               393\n",
       "                   regex                  359\n",
       "                   visual-studio-2008     327\n",
       "                   linux                  313\n",
       "                                         ... \n",
       "Oct'15-16          zend-studio              1\n",
       "                   zend-translate           1\n",
       "                   zend-validate            1\n",
       "                   zendesk-api              1\n",
       "                   zentyal                  1\n",
       "                   zephir                   1\n",
       "                   zerigo                   1\n",
       "                   zero-width-space         1\n",
       "                   zf3                      1\n",
       "                   zimlet                   1\n",
       "                   zinc                     1\n",
       "                   zinnia                   1\n",
       "                   zipalign                 1\n",
       "                   zipcode                  1\n",
       "                   zipmap                   1\n",
       "                   zipper                   1\n",
       "                   zomato-api               1\n",
       "                   zombie.js                1\n",
       "                   zombiejs                 1\n",
       "                   zone                     1\n",
       "                   zoneddatetime            1\n",
       "                   zoneminder               1\n",
       "                   zones                    1\n",
       "                   zpanel                   1\n",
       "                   ztree                    1\n",
       "                   zts                      1\n",
       "                   zumero                   1\n",
       "                   zurb-ink                 1\n",
       "                   zurb-joyride             1\n",
       "                   zurb-reveal              1\n",
       "Name: QuestTags, dtype: int64"
      ]
     },
     "execution_count": 37,
     "metadata": {},
     "output_type": "execute_result"
    }
   ],
   "source": [
    "stackQuestionsTags.groupby('QuestCreationYear').QuestTags.value_counts()"
   ]
  },
  {
   "cell_type": "code",
   "execution_count": 38,
   "metadata": {
    "collapsed": false
   },
   "outputs": [
    {
     "data": {
      "text/plain": [
       "javascript                  116962\n",
       "java                        106687\n",
       "c#                           95458\n",
       "php                          91138\n",
       "android                      86828\n",
       "jquery                       75081\n",
       "python                       60313\n",
       "html                         55087\n",
       "ios                          44862\n",
       "c++                          43545\n",
       "mysql                        39764\n",
       "css                          39763\n",
       "sql                          33897\n",
       "asp.net                      28794\n",
       "objective-c                  25682\n",
       "ruby-on-rails                25184\n",
       ".net                         22639\n",
       "c                            20935\n",
       "iphone                       20605\n",
       "angularjs                    19827\n",
       "arrays                       18123\n",
       "sql-server                   17233\n",
       "json                         16808\n",
       "ruby                         16280\n",
       "ajax                         15002\n",
       "r                            14604\n",
       "regex                        14248\n",
       "xml                          14160\n",
       "node.js                      13976\n",
       "asp.net-mvc                  13784\n",
       "                             ...  \n",
       "pdh                              1\n",
       "tsvncache                        1\n",
       "shared-resource                  1\n",
       "ogdf                             1\n",
       "lars                             1\n",
       "cachecow                         1\n",
       "econnreset                       1\n",
       "samsung-gear                     1\n",
       "sprache                          1\n",
       "qwtpolar                         1\n",
       "urlaccess                        1\n",
       "rsqlserver                       1\n",
       "nova-hypervisor-show             1\n",
       "linkchecker                      1\n",
       "visual-studio-community          1\n",
       "nsapi                            1\n",
       "libgc                            1\n",
       "default-programs                 1\n",
       "rosetta                          1\n",
       "phantomjs-maven-plugin           1\n",
       "gulp-jshint                      1\n",
       "elerea                           1\n",
       "nltk-trainer                     1\n",
       "msbuild-projectreference         1\n",
       "sql-server-json                  1\n",
       "realm-net                        1\n",
       "gtm-database                     1\n",
       "gulp-tap                         1\n",
       "object-notation                  1\n",
       "jgss                             1\n",
       "Name: QuestTags, dtype: int64"
      ]
     },
     "execution_count": 38,
     "metadata": {},
     "output_type": "execute_result"
    }
   ],
   "source": [
    "stackQuestionsTags.QuestTags.value_counts() #java most tagged"
   ]
  },
  {
   "cell_type": "code",
   "execution_count": 39,
   "metadata": {
    "collapsed": true
   },
   "outputs": [],
   "source": [
    "#top 15 tags used\n",
    "topQuestTags = stackQuestionsTags.QuestTags.value_counts()[0:15]"
   ]
  },
  {
   "cell_type": "code",
   "execution_count": 40,
   "metadata": {
    "collapsed": false
   },
   "outputs": [],
   "source": [
    "topQuestTags = topQuestTags.reset_index()\n",
    "topQuestTags = topQuestTags.rename(columns= {'index':'QuestTags', 'QuestTags':'Count'})"
   ]
  },
  {
   "cell_type": "markdown",
   "metadata": {},
   "source": [
    "# Graph Plot 3: Frequency of Top 15 Tags Used (in Total for All the Years)"
   ]
  },
  {
   "cell_type": "code",
   "execution_count": 41,
   "metadata": {
    "collapsed": false,
    "scrolled": true
   },
   "outputs": [
    {
     "data": {
      "image/png": "[encoded data removed]",
      "text/plain": [
       "<matplotlib.figure.Figure at 0x1291bda90>"
      ]
     },
     "metadata": {},
     "output_type": "display_data"
    }
   ],
   "source": [
    "%matplotlib inline\n",
    "import matplotlib.pyplot as plt\n",
    "plt.figure(figsize=(12,7))\n",
    "ax2 = sns.stripplot(x=\"QuestTags\", y=\"Count\", data=topQuestTags)"
   ]
  },
  {
   "cell_type": "code",
   "execution_count": 42,
   "metadata": {
    "collapsed": true
   },
   "outputs": [],
   "source": [
    "questTags = stackQuestionsTags[['QuestionId', 'QuestTags']].groupby('QuestionId').QuestTags.apply(list)"
   ]
  },
  {
   "cell_type": "code",
   "execution_count": 43,
   "metadata": {
    "collapsed": false
   },
   "outputs": [
    {
     "data": {
      "text/plain": [
       "3"
      ]
     },
     "execution_count": 43,
     "metadata": {},
     "output_type": "execute_result"
    }
   ],
   "source": [
    "questTags = questTags.reset_index()\n",
    "len(questTags.QuestTags[1])"
   ]
  },
  {
   "cell_type": "code",
   "execution_count": 44,
   "metadata": {
    "collapsed": false
   },
   "outputs": [
    {
     "data": {
      "text/html": [
       "<div>\n",
       "<table border=\"1\" class=\"dataframe\">\n",
       "  <thead>\n",
       "    <tr style=\"text-align: right;\">\n",
       "      <th></th>\n",
       "      <th>QuestionId</th>\n",
       "      <th>QuestTags</th>\n",
       "    </tr>\n",
       "  </thead>\n",
       "  <tbody>\n",
       "    <tr>\n",
       "      <th>0</th>\n",
       "      <td>203340</td>\n",
       "      <td>[jquery]</td>\n",
       "    </tr>\n",
       "    <tr>\n",
       "      <th>1</th>\n",
       "      <td>203520</td>\n",
       "      <td>[.net, winforms, data-binding]</td>\n",
       "    </tr>\n",
       "    <tr>\n",
       "      <th>2</th>\n",
       "      <td>203590</td>\n",
       "      <td>[visual-studio, include]</td>\n",
       "    </tr>\n",
       "    <tr>\n",
       "      <th>3</th>\n",
       "      <td>203620</td>\n",
       "      <td>[layout, internationalization]</td>\n",
       "    </tr>\n",
       "    <tr>\n",
       "      <th>4</th>\n",
       "      <td>203640</td>\n",
       "      <td>[xslt]</td>\n",
       "    </tr>\n",
       "  </tbody>\n",
       "</table>\n",
       "</div>"
      ],
      "text/plain": [
       "   QuestionId                       QuestTags\n",
       "0      203340                        [jquery]\n",
       "1      203520  [.net, winforms, data-binding]\n",
       "2      203590        [visual-studio, include]\n",
       "3      203620  [layout, internationalization]\n",
       "4      203640                          [xslt]"
      ]
     },
     "execution_count": 44,
     "metadata": {},
     "output_type": "execute_result"
    }
   ],
   "source": [
    "questTags.head()"
   ]
  },
  {
   "cell_type": "markdown",
   "metadata": {},
   "source": [
    "# Association Rules Between Question Tags + Network Visualisation (for Stackoverflow 10% Sample)"
   ]
  },
  {
   "cell_type": "code",
   "execution_count": 45,
   "metadata": {
    "collapsed": true
   },
   "outputs": [],
   "source": [
    "import pyfpgrowth as fp"
   ]
  },
  {
   "cell_type": "code",
   "execution_count": 46,
   "metadata": {
    "collapsed": false
   },
   "outputs": [],
   "source": [
    "questTagList = list(questTags.QuestTags)"
   ]
  },
  {
   "cell_type": "code",
   "execution_count": 47,
   "metadata": {
    "collapsed": false
   },
   "outputs": [],
   "source": [
    "#have 2 or more question tags in a question\n",
    "#filter out only 1 itemset situation\n",
    "questTagList2 = [tag for tag in questTagList if len(tag)>1]"
   ]
  },
  {
   "cell_type": "code",
   "execution_count": 48,
   "metadata": {
    "collapsed": true
   },
   "outputs": [],
   "source": [
    "#put support threshold as 1000\n",
    "patterns = fp.find_frequent_patterns(questTagList2, 1000)"
   ]
  },
  {
   "cell_type": "code",
   "execution_count": 49,
   "metadata": {
    "collapsed": false
   },
   "outputs": [
    {
     "data": {
      "text/plain": [
       "{('.htaccess', 'apache'): 1841,\n",
       " ('.htaccess', 'apache', 'mod-rewrite'): 1053,\n",
       " ('.htaccess', 'mod-rewrite'): 1992,\n",
       " ('.htaccess', 'php'): 1767,\n",
       " ('.net', 'asp.net'): 1899,\n",
       " ('.net', 'asp.net', 'c#'): 1067,\n",
       " ('.net', 'c#'): 13567,\n",
       " ('.net', 'c#', 'winforms'): 1026,\n",
       " ('.net', 'vb.net'): 1322,\n",
       " ('.net', 'winforms'): 1430,\n",
       " ('.net', 'wpf'): 1222,\n",
       " ('actionscript-3',): 3663,\n",
       " ('actionscript-3', 'flash'): 1671,\n",
       " ('activerecord',): 2199,\n",
       " ('activerecord', 'ruby-on-rails'): 1699,\n",
       " ('ajax', 'html'): 1335,\n",
       " ('ajax', 'javascript'): 6433,\n",
       " ('ajax', 'javascript', 'jquery'): 3860,\n",
       " ('ajax', 'javascript', 'jquery', 'php'): 1085,\n",
       " ('ajax', 'javascript', 'php'): 1783,\n",
       " ('ajax', 'jquery'): 8454,\n",
       " ('ajax', 'jquery', 'php'): 2400,\n",
       " ('ajax', 'json'): 1275,\n",
       " ('algorithm',): 5886,\n",
       " ('amazon-ec2',): 1390,\n",
       " ('amazon-s3',): 1492,\n",
       " ('amazon-web-services',): 3031,\n",
       " ('android', 'android-activity'): 2093,\n",
       " ('android', 'android-asynctask'): 1139,\n",
       " ('android', 'android-fragments'): 2759,\n",
       " ('android', 'android-intent'): 2214,\n",
       " ('android', 'android-layout'): 3811,\n",
       " ('android', 'android-listview'): 1391,\n",
       " ('android', 'android-studio'): 2413,\n",
       " ('android', 'cordova'): 1708,\n",
       " ('android', 'eclipse'): 2311,\n",
       " ('android', 'google-maps'): 1311,\n",
       " ('android', 'java'): 15290,\n",
       " ('android', 'javascript'): 1112,\n",
       " ('android', 'json'): 1565,\n",
       " ('android', 'listview'): 2633,\n",
       " ('android', 'sqlite'): 2055,\n",
       " ('android', 'webview'): 1027,\n",
       " ('android', 'xml'): 2004,\n",
       " ('android-activity',): 2178,\n",
       " ('android-asynctask',): 1161,\n",
       " ('android-fragments',): 2844,\n",
       " ('android-intent',): 2260,\n",
       " ('android-layout',): 3887,\n",
       " ('android-listview',): 1422,\n",
       " ('android-studio',): 2854,\n",
       " ('angular2',): 1810,\n",
       " ('angularjs', 'angularjs-directive'): 1374,\n",
       " ('angularjs', 'html'): 1302,\n",
       " ('angularjs', 'javascript'): 9046,\n",
       " ('angularjs', 'jquery'): 1132,\n",
       " ('angularjs-directive',): 1396,\n",
       " ('animation',): 2759,\n",
       " ('ant',): 1203,\n",
       " ('apache',): 6295,\n",
       " ('apache', 'mod-rewrite'): 1391,\n",
       " ('apache', 'php'): 1891,\n",
       " ('apache-spark',): 1745,\n",
       " ('api',): 4632,\n",
       " ('architecture',): 1036,\n",
       " ('arraylist',): 1782,\n",
       " ('arraylist', 'java'): 1364,\n",
       " ('arrays', 'c'): 1387,\n",
       " ('arrays', 'c++'): 1383,\n",
       " ('arrays', 'java'): 2580,\n",
       " ('arrays', 'javascript'): 2681,\n",
       " ('arrays', 'php'): 4355,\n",
       " ('asp.net', 'asp.net-mvc'): 2410,\n",
       " ('asp.net', 'asp.net-mvc', 'c#'): 1051,\n",
       " ('asp.net', 'c#'): 12633,\n",
       " ('asp.net', 'gridview'): 1271,\n",
       " ('asp.net', 'html'): 1029,\n",
       " ('asp.net', 'javascript'): 2632,\n",
       " ('asp.net', 'jquery'): 2060,\n",
       " ('asp.net', 'vb.net'): 1562,\n",
       " ('asp.net-mvc', 'asp.net-mvc-3'): 1056,\n",
       " ('asp.net-mvc', 'asp.net-mvc-4'): 1440,\n",
       " ('asp.net-mvc', 'c#'): 4819,\n",
       " ('asp.net-mvc', 'jquery'): 1509,\n",
       " ('asp.net-mvc', 'razor'): 1237,\n",
       " ('asp.net-mvc-3',): 3540,\n",
       " ('asp.net-mvc-4', 'c#'): 1334,\n",
       " ('asp.net-mvc-5',): 1024,\n",
       " ('asp.net-web-api',): 1865,\n",
       " ('assembly',): 2068,\n",
       " ('asynchronous',): 2250,\n",
       " ('audio',): 2303,\n",
       " ('authentication',): 2807,\n",
       " ('autocomplete',): 1154,\n",
       " ('awk',): 1419,\n",
       " ('azure',): 3254,\n",
       " ('backbone.js',): 1825,\n",
       " ('backbone.js', 'javascript'): 1112,\n",
       " ('background',): 1061,\n",
       " ('bash',): 6353,\n",
       " ('bash', 'linux'): 1704,\n",
       " ('bash', 'shell'): 1728,\n",
       " ('batch-file',): 2644,\n",
       " ('binding',): 1226,\n",
       " ('bitmap',): 1214,\n",
       " ('bluetooth',): 1066,\n",
       " ('boost',): 1956,\n",
       " ('boost', 'c++'): 1717,\n",
       " ('browser',): 1781,\n",
       " ('build',): 1207,\n",
       " ('button',): 2475,\n",
       " ('c',): 18913,\n",
       " ('c', 'c++'): 2718,\n",
       " ('c', 'linux'): 1700,\n",
       " ('c', 'pointers'): 1307,\n",
       " ('c#',): 91543,\n",
       " ('c#', 'datagridview'): 1066,\n",
       " ('c#', 'entity-framework'): 3159,\n",
       " ('c#', 'generics'): 1015,\n",
       " ('c#', 'javascript'): 1827,\n",
       " ('c#', 'jquery'): 1248,\n",
       " ('c#', 'json'): 1243,\n",
       " ('c#', 'linq'): 4152,\n",
       " ('c#', 'multithreading'): 1703,\n",
       " ('c#', 'regex'): 1153,\n",
       " ('c#', 'sql'): 2192,\n",
       " ('c#', 'sql-server'): 2049,\n",
       " ('c#', 'vb.net'): 1057,\n",
       " ('c#', 'visual-studio'): 1754,\n",
       " ('c#', 'visual-studio-2010'): 1256,\n",
       " ('c#', 'wcf'): 1798,\n",
       " ('c#', 'windows'): 1069,\n",
       " ('c#', 'winforms'): 5125,\n",
       " ('c#', 'wpf'): 6698,\n",
       " ('c#', 'wpf', 'xaml'): 1436,\n",
       " ('c#', 'xaml'): 2429,\n",
       " ('c#', 'xml'): 2065,\n",
       " ('c#-4.0',): 2159,\n",
       " ('c++',): 40280,\n",
       " ('c++', 'c++11'): 2506,\n",
       " ('c++', 'linux'): 1063,\n",
       " ('c++', 'opencv'): 1221,\n",
       " ('c++', 'pointers'): 1283,\n",
       " ('c++', 'qt'): 2610,\n",
       " ('c++', 'templates'): 1720,\n",
       " ('c++', 'vector'): 1066,\n",
       " ('c++', 'visual-c++'): 1049,\n",
       " ('c++', 'winapi'): 1088,\n",
       " ('c++', 'windows'): 1487,\n",
       " ('c++11',): 2877,\n",
       " ('caching',): 2476,\n",
       " ('cakephp',): 2401,\n",
       " ('cakephp', 'php'): 1170,\n",
       " ('callback',): 1002,\n",
       " ('canvas',): 2259,\n",
       " ('canvas', 'javascript'): 1268,\n",
       " ('casting',): 1202,\n",
       " ('character-encoding',): 1029,\n",
       " ('charts',): 1391,\n",
       " ('checkbox',): 1960,\n",
       " ('class',): 4115,\n",
       " ('cmd',): 1189,\n",
       " ('cocoa', 'objective-c'): 1714,\n",
       " ('cocoa', 'osx'): 1136,\n",
       " ('cocoa-touch', 'ios'): 1653,\n",
       " ('cocoa-touch', 'iphone'): 1497,\n",
       " ('cocoa-touch', 'objective-c'): 1685,\n",
       " ('codeigniter',): 4467,\n",
       " ('codeigniter', 'php'): 3392,\n",
       " ('coldfusion',): 1006,\n",
       " ('collections',): 1411,\n",
       " ('colors',): 1188,\n",
       " ('combobox',): 1275,\n",
       " ('command-line',): 1408,\n",
       " ('compilation',): 1003,\n",
       " ('concurrency',): 1215,\n",
       " ('configuration',): 1095,\n",
       " ('constructor',): 1153,\n",
       " ('cookies',): 2153,\n",
       " ('cordova', 'javascript'): 1036,\n",
       " ('core-data',): 2107,\n",
       " ('core-data', 'ios'): 1263,\n",
       " ('count',): 1078,\n",
       " ('css', 'css3'): 3375,\n",
       " ('css', 'css3', 'html'): 1843,\n",
       " ('css', 'html'): 23282,\n",
       " ('css', 'html', 'javascript'): 6449,\n",
       " ('css', 'html', 'javascript', 'jquery'): 3912,\n",
       " ('css', 'html', 'jquery'): 5704,\n",
       " ('css', 'html', 'twitter-bootstrap'): 1778,\n",
       " ('css', 'html5'): 1681,\n",
       " ('css', 'javascript'): 9925,\n",
       " ('css', 'javascript', 'jquery'): 5561,\n",
       " ('css', 'php'): 1291,\n",
       " ('css', 'twitter-bootstrap'): 2994,\n",
       " ('css3', 'html'): 2243,\n",
       " ('css3', 'html5'): 1348,\n",
       " ('csv',): 3621,\n",
       " ('curl',): 2489,\n",
       " ('curl', 'php'): 1499,\n",
       " ('d3.js',): 1998,\n",
       " ('d3.js', 'javascript'): 1461,\n",
       " ('data-binding',): 1647,\n",
       " ('data-structures',): 1616,\n",
       " ('database', 'mysql'): 3030,\n",
       " ('database', 'php'): 1644,\n",
       " ('database', 'sql'): 2456,\n",
       " ('database-design',): 1579,\n",
       " ('dataframe',): 1443,\n",
       " ('datagrid',): 1162,\n",
       " ('datagridview',): 1471,\n",
       " ('datatable',): 1221,\n",
       " ('date',): 3709,\n",
       " ('datetime',): 3169,\n",
       " ('debugging',): 3197,\n",
       " ('delphi',): 3251,\n",
       " ('dependency-injection',): 1356,\n",
       " ('deployment',): 1424,\n",
       " ('design',): 1600,\n",
       " ('design-patterns',): 2063,\n",
       " ('devise',): 1181,\n",
       " ('devise', 'ruby-on-rails'): 1000,\n",
       " ('dictionary',): 2599,\n",
       " ('dictionary', 'python'): 1314,\n",
       " ('django',): 11852,\n",
       " ('django', 'django-models'): 1418,\n",
       " ('django', 'python'): 6139,\n",
       " ('django-models',): 1477,\n",
       " ('dll',): 1737,\n",
       " ('docker',): 1367,\n",
       " ('doctrine2',): 1185,\n",
       " ('dom',): 2430,\n",
       " ('dom', 'javascript'): 1465,\n",
       " ('download',): 1072,\n",
       " ('drop-down-menu',): 1488,\n",
       " ('drupal',): 1552,\n",
       " ('dynamic',): 1769,\n",
       " ('eclipse', 'java'): 4220,\n",
       " ('elasticsearch',): 1562,\n",
       " ('emacs',): 1197,\n",
       " ('email',): 3758,\n",
       " ('email', 'php'): 1136,\n",
       " ('ember.js',): 1567,\n",
       " ('encoding',): 1487,\n",
       " ('encryption',): 1999,\n",
       " ('entity-framework',): 5692,\n",
       " ('enums',): 1166,\n",
       " ('error-handling',): 1238,\n",
       " ('events',): 2651,\n",
       " ('excel',): 9425,\n",
       " ('excel', 'excel-vba'): 3342,\n",
       " ('excel', 'excel-vba', 'vba'): 2422,\n",
       " ('excel', 'vba'): 3847,\n",
       " ('excel-vba', 'vba'): 3168,\n",
       " ('exception',): 2484,\n",
       " ('exception-handling',): 1094,\n",
       " ('express',): 2611,\n",
       " ('express', 'node.js'): 2286,\n",
       " ('extjs',): 1851,\n",
       " ('facebook',): 6986,\n",
       " ('facebook', 'facebook-graph-api'): 2061,\n",
       " ('facebook', 'php'): 1005,\n",
       " ('facebook-graph-api',): 2706,\n",
       " ('file',): 4554,\n",
       " ('file-io',): 1598,\n",
       " ('file-upload',): 1877,\n",
       " ('filter',): 1309,\n",
       " ('firebase',): 1276,\n",
       " ('firefox',): 2780,\n",
       " ('flash',): 3378,\n",
       " ('flask',): 1302,\n",
       " ('flask', 'python'): 1084,\n",
       " ('flex',): 2257,\n",
       " ('fonts',): 1284,\n",
       " ('for-loop',): 2498,\n",
       " ('foreach',): 1319,\n",
       " ('forms', 'html'): 1663,\n",
       " ('forms', 'javascript'): 1653,\n",
       " ('forms', 'jquery'): 1390,\n",
       " ('forms', 'php'): 2176,\n",
       " ('ftp',): 1036,\n",
       " ('function',): 4780,\n",
       " ('gcc',): 2256,\n",
       " ('generics', 'java'): 1091,\n",
       " ('ggplot2',): 1312,\n",
       " ('ggplot2', 'r'): 1298,\n",
       " ('git',): 6080,\n",
       " ('git', 'github'): 1258,\n",
       " ('github',): 1939,\n",
       " ('go',): 1362,\n",
       " ('google-analytics',): 1051,\n",
       " ('google-app-engine',): 3354,\n",
       " ('google-app-engine', 'python'): 1014,\n",
       " ('google-apps-script',): 1041,\n",
       " ('google-chrome',): 4086,\n",
       " ('google-chrome', 'javascript'): 1600,\n",
       " ('google-chrome-extension',): 1246,\n",
       " ('google-maps', 'google-maps-api-3'): 1160,\n",
       " ('google-maps', 'javascript'): 1445,\n",
       " ('google-maps-api-3',): 1833,\n",
       " ('gradle',): 1651,\n",
       " ('grails',): 2274,\n",
       " ('graph',): 1467,\n",
       " ('graphics',): 1367,\n",
       " ('gridview',): 2190,\n",
       " ('groovy',): 1350,\n",
       " ('gwt',): 1747,\n",
       " ('hadoop',): 2861,\n",
       " ('hash',): 1509,\n",
       " ('haskell',): 2351,\n",
       " ('heroku',): 2073,\n",
       " ('hibernate', 'java'): 3451,\n",
       " ('hibernate', 'jpa'): 1248,\n",
       " ('hibernate', 'spring'): 1319,\n",
       " ('highcharts',): 1172,\n",
       " ('html', 'html5'): 1962,\n",
       " ('html', 'javascript'): 21565,\n",
       " ('html', 'javascript', 'jquery'): 10501,\n",
       " ('html', 'javascript', 'php'): 1831,\n",
       " ('html', 'jquery'): 15109,\n",
       " ('html', 'jquery', 'php'): 1266,\n",
       " ('html', 'mysql'): 1072,\n",
       " ('html', 'twitter-bootstrap'): 2407,\n",
       " ('html5', 'javascript'): 3907,\n",
       " ('html5', 'javascript', 'jquery'): 1054,\n",
       " ('html5', 'jquery'): 1695,\n",
       " ('http',): 3616,\n",
       " ('https',): 1257,\n",
       " ('hyperlink',): 1291,\n",
       " ('if-statement',): 2477,\n",
       " ('iframe',): 2204,\n",
       " ('iframe', 'javascript'): 1067,\n",
       " ('iis',): 2374,\n",
       " ('image',): 7097,\n",
       " ('image-processing',): 2209,\n",
       " ('import',): 1309,\n",
       " ('indexing',): 1644,\n",
       " ('inheritance',): 2441,\n",
       " ('input',): 1711,\n",
       " ('intellij-idea',): 1691,\n",
       " ('interface',): 1138,\n",
       " ('internet-explorer',): 3342,\n",
       " ('internet-explorer', 'javascript'): 1075,\n",
       " ('io',): 1077,\n",
       " ('ionic-framework',): 1407,\n",
       " ('ios',): 44111,\n",
       " ('ios', 'ipad'): 1807,\n",
       " ('ios', 'iphone'): 8608,\n",
       " ('ios', 'iphone', 'objective-c'): 3305,\n",
       " ('ios', 'iphone', 'xcode'): 1188,\n",
       " ('ios', 'objective-c'): 14103,\n",
       " ('ios', 'objective-c', 'uitableview'): 1343,\n",
       " ('ios', 'objective-c', 'xcode'): 1564,\n",
       " ('ios', 'swift'): 7009,\n",
       " ('ios', 'uitableview'): 3310,\n",
       " ('ios', 'xcode'): 5195,\n",
       " ('ios4',): 1025,\n",
       " ('ios5',): 1142,\n",
       " ('ios7',): 1400,\n",
       " ('ipad', 'iphone'): 1718,\n",
       " ('iphone', 'objective-c'): 6950,\n",
       " ('iphone', 'objective-c', 'xcode'): 1005,\n",
       " ('iphone', 'uitableview'): 1285,\n",
       " ('jar',): 1236,\n",
       " ('java',): 101029,\n",
       " ('java', 'java-ee'): 1376,\n",
       " ('java', 'javascript'): 1304,\n",
       " ('java', 'jdbc'): 1379,\n",
       " ('java', 'jpa'): 1584,\n",
       " ('java', 'json'): 2015,\n",
       " ('java', 'jsp'): 2052,\n",
       " ('java', 'maven'): 2214,\n",
       " ('java', 'multithreading'): 2437,\n",
       " ('java', 'mysql'): 1716,\n",
       " ('java', 'netbeans'): 1003,\n",
       " ('java', 'regex'): 1442,\n",
       " ('java', 'servlets'): 1641,\n",
       " ('java', 'sockets'): 1024,\n",
       " ('java', 'spring'): 5604,\n",
       " ('java', 'spring', 'spring-mvc'): 1327,\n",
       " ('java', 'spring-mvc'): 1955,\n",
       " ('java', 'sql'): 1083,\n",
       " ('java', 'string'): 1863,\n",
       " ('java', 'swing'): 5948,\n",
       " ('java', 'tomcat'): 1553,\n",
       " ('java', 'web-services'): 1183,\n",
       " ('java', 'xml'): 2402,\n",
       " ('java-ee',): 2462,\n",
       " ('javafx',): 1437,\n",
       " ('javascript',): 111334,\n",
       " ('javascript', 'javascript-events'): 1025,\n",
       " ('javascript', 'jquery'): 39049,\n",
       " ('javascript', 'jquery', 'jquery-ui'): 1037,\n",
       " ('javascript', 'jquery', 'json'): 1332,\n",
       " ('javascript', 'jquery', 'php'): 3226,\n",
       " ('javascript', 'jquery', 'twitter-bootstrap'): 1169,\n",
       " ('javascript', 'jquery-ui'): 1172,\n",
       " ('javascript', 'json'): 3908,\n",
       " ('javascript', 'node.js'): 5034,\n",
       " ('javascript', 'php'): 7865,\n",
       " ('javascript', 'reactjs'): 1219,\n",
       " ('javascript', 'regex'): 1938,\n",
       " ('javascript', 'ruby-on-rails'): 1204,\n",
       " ('javascript', 'twitter-bootstrap'): 1911,\n",
       " ('javascript-events',): 1257,\n",
       " ('jboss',): 1088,\n",
       " ('jdbc',): 1964,\n",
       " ('jenkins',): 1677,\n",
       " ('join', 'mysql'): 1068,\n",
       " ('join', 'sql'): 1074,\n",
       " ('joomla',): 1237,\n",
       " ('jquery', 'jquery-mobile'): 1138,\n",
       " ('jquery', 'jquery-plugins'): 1033,\n",
       " ('jquery', 'jquery-ui'): 2714,\n",
       " ('jquery', 'json'): 2727,\n",
       " ('jquery', 'php'): 6747,\n",
       " ('jquery', 'twitter-bootstrap'): 2011,\n",
       " ('jquery-mobile',): 2044,\n",
       " ('jquery-plugins',): 1201,\n",
       " ('jsf',): 2611,\n",
       " ('jsf-2',): 1389,\n",
       " ('json', 'php'): 2506,\n",
       " ('jsp',): 3959,\n",
       " ('junit',): 1358,\n",
       " ('kendo-ui',): 1133,\n",
       " ('knockout.js',): 1389,\n",
       " ('lambda',): 1212,\n",
       " ('laravel',): 4683,\n",
       " ('laravel', 'php'): 3045,\n",
       " ('laravel-4',): 1381,\n",
       " ('laravel-5',): 1339,\n",
       " ('layout',): 1940,\n",
       " ('linq',): 5609,\n",
       " ('linq-to-sql',): 1216,\n",
       " ('linux', 'shell'): 1224,\n",
       " ('list',): 5283,\n",
       " ('list', 'python'): 1861,\n",
       " ('listview',): 3694,\n",
       " ('logging',): 2182,\n",
       " ('login',): 1496,\n",
       " ('loops',): 3787,\n",
       " ('machine-learning',): 1107,\n",
       " ('magento',): 2821,\n",
       " ('magento', 'php'): 1175,\n",
       " ('makefile',): 1290,\n",
       " ('math',): 2267,\n",
       " ('matlab',): 5114,\n",
       " ('matplotlib',): 1847,\n",
       " ('matplotlib', 'python'): 1628,\n",
       " ('matrix',): 2013,\n",
       " ('maven',): 4368,\n",
       " ('memory',): 2205,\n",
       " ('memory-leaks',): 1407,\n",
       " ('memory-management',): 1955,\n",
       " ('menu',): 1114,\n",
       " ('merge',): 1125,\n",
       " ('meteor',): 2002,\n",
       " ('methods',): 1721,\n",
       " ('mobile',): 1988,\n",
       " ('model',): 1120,\n",
       " ('model-view-controller',): 1958,\n",
       " ('module',): 1173,\n",
       " ('mongodb',): 6202,\n",
       " ('mongodb', 'node.js'): 1548,\n",
       " ('mongoose',): 1206,\n",
       " ('ms-access',): 2790,\n",
       " ('multidimensional-array',): 1826,\n",
       " ('mvvm',): 1753,\n",
       " ('mvvm', 'wpf'): 1196,\n",
       " ('mysql', 'php'): 15888,\n",
       " ('mysql', 'php', 'sql'): 1851,\n",
       " ('mysql', 'sql'): 7913,\n",
       " ('mysqli',): 1615,\n",
       " ('mysqli', 'php'): 1434,\n",
       " ('netbeans',): 1757,\n",
       " ('networking',): 2140,\n",
       " ('nginx',): 1889,\n",
       " ('nhibernate',): 1624,\n",
       " ('node.js',): 13435,\n",
       " ('npm',): 1025,\n",
       " ('numpy',): 2803,\n",
       " ('numpy', 'python'): 2569,\n",
       " ('oauth',): 1386,\n",
       " ('object',): 2901,\n",
       " ('objective-c',): 24966,\n",
       " ('objective-c', 'uitableview'): 1813,\n",
       " ('objective-c', 'xcode'): 3004,\n",
       " ('oop',): 3392,\n",
       " ('opencv',): 3119,\n",
       " ('opengl',): 2500,\n",
       " ('opengl-es',): 1183,\n",
       " ('optimization',): 2011,\n",
       " ('oracle',): 6951,\n",
       " ('oracle', 'sql'): 3070,\n",
       " ('oracle11g',): 1138,\n",
       " ('orm',): 1231,\n",
       " ('osx',): 6845,\n",
       " ('pagination',): 1036,\n",
       " ('pandas',): 2848,\n",
       " ('pandas', 'python'): 2605,\n",
       " ('parameters',): 1197,\n",
       " ('parse.com',): 1727,\n",
       " ('parsing',): 3513,\n",
       " ('path',): 1023,\n",
       " ('paypal',): 1412,\n",
       " ('pdf',): 2752,\n",
       " ('pdo',): 1436,\n",
       " ('pdo', 'php'): 1323,\n",
       " ('performance',): 6115,\n",
       " ('perl',): 4149,\n",
       " ('permissions',): 1059,\n",
       " ('php',): 85338,\n",
       " ('php', 'regex'): 2156,\n",
       " ('php', 'session'): 1420,\n",
       " ('php', 'sql'): 3207,\n",
       " ('php', 'symfony2'): 1883,\n",
       " ('php', 'wordpress'): 4189,\n",
       " ('php', 'xml'): 1326,\n",
       " ('php', 'zend-framework'): 1189,\n",
       " ('playframework',): 1271,\n",
       " ('plot',): 1520,\n",
       " ('plsql',): 1290,\n",
       " ('plugins',): 1758,\n",
       " ('post',): 2425,\n",
       " ('postgresql',): 5323,\n",
       " ('postgresql', 'sql'): 1532,\n",
       " ('powershell',): 3097,\n",
       " ('primefaces',): 1323,\n",
       " ('printing',): 1440,\n",
       " ('process',): 1146,\n",
       " ('properties',): 1171,\n",
       " ('proxy',): 1149,\n",
       " ('python',): 56031,\n",
       " ('python', 'python-2.7'): 3413,\n",
       " ('python', 'python-3.x'): 2555,\n",
       " ('python', 'regex'): 1359,\n",
       " ('python', 'string'): 1074,\n",
       " ('python', 'tkinter'): 1035,\n",
       " ('python-2.7',): 5186,\n",
       " ('python-3.x',): 3615,\n",
       " ('qt',): 4999,\n",
       " ('r',): 12049,\n",
       " ('random',): 1691,\n",
       " ('razor',): 2231,\n",
       " ('reactjs',): 2250,\n",
       " ('recursion',): 2114,\n",
       " ('redirect',): 2705,\n",
       " ('reference',): 1049,\n",
       " ('reflection',): 1611,\n",
       " ('replace',): 1483,\n",
       " ('reporting-services',): 1415,\n",
       " ('responsive-design',): 1145,\n",
       " ('rest',): 4664,\n",
       " ('rspec',): 1358,\n",
       " ('ruby',): 15203,\n",
       " ('ruby', 'ruby-on-rails'): 7841,\n",
       " ('ruby', 'ruby-on-rails', 'ruby-on-rails-3'): 1116,\n",
       " ('ruby', 'ruby-on-rails-3'): 1518,\n",
       " ('ruby-on-rails',): 23237,\n",
       " ('ruby-on-rails', 'ruby-on-rails-3'): 3358,\n",
       " ('ruby-on-rails', 'ruby-on-rails-4'): 2326,\n",
       " ('ruby-on-rails-4',): 3150,\n",
       " ('safari',): 1046,\n",
       " ('scala',): 4835,\n",
       " ('scroll',): 1335,\n",
       " ('search',): 2341,\n",
       " ('security',): 3602,\n",
       " ('sed',): 1335,\n",
       " ('select',): 2430,\n",
       " ('selenium',): 3163,\n",
       " ('selenium-webdriver',): 1668,\n",
       " ('serialization',): 2002,\n",
       " ('service',): 1542,\n",
       " ('servlets',): 2421,\n",
       " ('session',): 3215,\n",
       " ('sharepoint',): 1946,\n",
       " ('silverlight',): 2490,\n",
       " ('soap',): 1966,\n",
       " ('sockets',): 4220,\n",
       " ('solr',): 1224,\n",
       " ('sorting',): 3773,\n",
       " ('split',): 1072,\n",
       " ('spring',): 9485,\n",
       " ('spring', 'spring-mvc'): 2169,\n",
       " ('spring-boot',): 1221,\n",
       " ('spring-security',): 1333,\n",
       " ('sql', 'sql-server'): 7554,\n",
       " ('sql', 'sql-server', 'sql-server-2008'): 1170,\n",
       " ('sql', 'sql-server', 'tsql'): 1452,\n",
       " ('sql', 'sql-server-2008'): 2222,\n",
       " ('sql', 'tsql'): 2110,\n",
       " ('sql-server', 'sql-server-2008'): 1987,\n",
       " ('sql-server', 'tsql'): 2521,\n",
       " ('sql-server-2005',): 1626,\n",
       " ('sql-server-2012',): 1042,\n",
       " ('sqlite',): 4832,\n",
       " ('sqlite3',): 1111,\n",
       " ('ssh',): 1403,\n",
       " ('ssis',): 1013,\n",
       " ('ssl',): 2571,\n",
       " ('static',): 1061,\n",
       " ('stl',): 1024,\n",
       " ('stored-procedures',): 2230,\n",
       " ('struct',): 1384,\n",
       " ('svg',): 1964,\n",
       " ('svn',): 1963,\n",
       " ('swift',): 10672,\n",
       " ('swift', 'xcode'): 1273,\n",
       " ('swing',): 6071,\n",
       " ('symfony2',): 3911,\n",
       " ('syntax',): 1238,\n",
       " ('table',): 2318,\n",
       " ('tabs',): 1062,\n",
       " ('tcp',): 1394,\n",
       " ('templates',): 3103,\n",
       " ('terminal',): 1017,\n",
       " ('testing',): 2314,\n",
       " ('text',): 1807,\n",
       " ('tfs',): 1274,\n",
       " ('time',): 1520,\n",
       " ('timer',): 1249,\n",
       " ('tkinter',): 1182,\n",
       " ('tomcat',): 2877,\n",
       " ('transactions',): 1004,\n",
       " ('triggers',): 1153,\n",
       " ('twitter',): 1876,\n",
       " ('twitter-bootstrap-3',): 1564,\n",
       " ('types',): 1417,\n",
       " ('typescript',): 1473,\n",
       " ('ubuntu',): 2848,\n",
       " ('uiscrollview',): 1026,\n",
       " ('uiview',): 1467,\n",
       " ('uiviewcontroller',): 1234,\n",
       " ('unicode',): 1587,\n",
       " ('unit-testing',): 4220,\n",
       " ('unity3d',): 1815,\n",
       " ('unix',): 2820,\n",
       " ('url',): 2739,\n",
       " ('url-rewriting',): 1125,\n",
       " ('user-interface',): 3463,\n",
       " ('utf-8',): 1395,\n",
       " ('validation',): 4338,\n",
       " ('variables',): 2975,\n",
       " ('vba',): 6539,\n",
       " ('vbscript',): 1166,\n",
       " ('vector',): 1718,\n",
       " ('version-control',): 1173,\n",
       " ('video',): 2281,\n",
       " ('view',): 1486,\n",
       " ('vim',): 1336,\n",
       " ('visual-c++',): 2027,\n",
       " ('visual-studio',): 5632,\n",
       " ('visual-studio-2008',): 1429,\n",
       " ('visual-studio-2010',): 4327,\n",
       " ('visual-studio-2012',): 2115,\n",
       " ('visual-studio-2013',): 1627,\n",
       " ('visual-studio-2015',): 1221,\n",
       " ('wcf',): 4161,\n",
       " ('web',): 1777,\n",
       " ('web-applications',): 1589,\n",
       " ('web-services',): 5089,\n",
       " ('webforms',): 1045,\n",
       " ('websocket',): 1110,\n",
       " ('webview',): 1405,\n",
       " ('while-loop',): 1092,\n",
       " ('winapi',): 2540,\n",
       " ('windows-phone-7',): 1768,\n",
       " ('windows-phone-8',): 1714,\n",
       " ('wordpress',): 8836,\n",
       " ('wpf', 'xaml'): 2390,\n",
       " ('xamarin',): 1632,\n",
       " ('xml', 'xslt'): 1499,\n",
       " ('xpath',): 1987,\n",
       " ('xslt',): 2267,\n",
       " ('yii',): 1347,\n",
       " ('youtube',): 1066,\n",
       " ('zend-framework',): 1860}"
      ]
     },
     "execution_count": 49,
     "metadata": {},
     "output_type": "execute_result"
    }
   ],
   "source": [
    "patterns"
   ]
  },
  {
   "cell_type": "code",
   "execution_count": 50,
   "metadata": {
    "collapsed": false
   },
   "outputs": [],
   "source": [
    "rules = fp.generate_association_rules(patterns, 0.5)"
   ]
  },
  {
   "cell_type": "code",
   "execution_count": 51,
   "metadata": {
    "collapsed": false
   },
   "outputs": [
    {
     "data": {
      "text/plain": [
       "{('.htaccess', 'apache'): (('mod-rewrite',), 0.5719717544812601),\n",
       " ('.htaccess', 'mod-rewrite'): (('apache',), 0.5286144578313253),\n",
       " ('.net', 'asp.net'): (('c#',), 0.5618746708794102),\n",
       " ('.net', 'winforms'): (('c#',), 0.7174825174825175),\n",
       " ('activerecord',): (('ruby-on-rails',), 0.7726239199636198),\n",
       " ('ajax', 'javascript'): (('jquery',), 0.6000310896937665),\n",
       " ('ajax', 'javascript', 'php'): (('jquery',), 0.6085249579360628),\n",
       " ('android-activity',): (('android',), 0.9609733700642792),\n",
       " ('android-asynctask',): (('android',), 0.9810508182601206),\n",
       " ('android-fragments',): (('android',), 0.970112517580872),\n",
       " ('android-intent',): (('android',), 0.9796460176991151),\n",
       " ('android-layout',): (('android',), 0.9804476459994854),\n",
       " ('android-listview',): (('android',), 0.9781997187060478),\n",
       " ('android-studio',): (('android',), 0.8454800280308339),\n",
       " ('angularjs-directive',): (('angularjs',), 0.9842406876790831),\n",
       " ('apache', 'mod-rewrite'): (('.htaccess',), 0.7570093457943925),\n",
       " ('arraylist',): (('java',), 0.7654320987654321),\n",
       " ('backbone.js',): (('javascript',), 0.6093150684931506),\n",
       " ('boost',): (('c++',), 0.8778118609406953),\n",
       " ('c#', 'xaml'): (('wpf',), 0.5911897900370523),\n",
       " ('c++11',): (('c++',), 0.8710462287104623),\n",
       " ('canvas',): (('javascript',), 0.5613103142983621),\n",
       " ('codeigniter',): (('php',), 0.759346317438997),\n",
       " ('core-data',): (('ios',), 0.5994304698623636),\n",
       " ('css', 'css3'): (('html',), 0.546074074074074),\n",
       " ('css', 'html', 'javascript'): (('jquery',), 0.6066056752984959),\n",
       " ('css', 'html', 'jquery'): (('javascript',), 0.6858345021037868),\n",
       " ('css', 'javascript'): (('jquery',), 0.5603022670025188),\n",
       " ('css', 'javascript', 'jquery'): (('html',), 0.7034705988131631),\n",
       " ('css', 'twitter-bootstrap'): (('html',), 0.5938543754175016),\n",
       " ('css3', 'html'): (('css',), 0.8216674097191262),\n",
       " ('curl',): (('php',), 0.6022498995580554),\n",
       " ('d3.js',): (('javascript',), 0.7312312312312312),\n",
       " ('datagridview',): (('c#',), 0.7246770904146839),\n",
       " ('devise',): (('ruby-on-rails',), 0.8467400508044031),\n",
       " ('dictionary',): (('python',), 0.5055790688726434),\n",
       " ('django',): (('python',), 0.5179716503543705),\n",
       " ('django-models',): (('django',), 0.960054163845633),\n",
       " ('dom',): (('javascript',), 0.602880658436214),\n",
       " ('entity-framework',): (('c#',), 0.5549894588896697),\n",
       " ('excel', 'excel-vba'): (('vba',), 0.7247157390783961),\n",
       " ('excel', 'vba'): (('excel-vba',), 0.6295814920717442),\n",
       " ('excel-vba', 'vba'): (('excel',), 0.764520202020202),\n",
       " ('express',): (('node.js',), 0.875526618153964),\n",
       " ('facebook-graph-api',): (('facebook',), 0.761640798226164),\n",
       " ('flask',): (('python',), 0.8325652841781874),\n",
       " ('ggplot2',): (('r',), 0.989329268292683),\n",
       " ('github',): (('git',), 0.6487880350696236),\n",
       " ('google-maps-api-3',): (('google-maps',), 0.6328423349699945),\n",
       " ('gridview',): (('asp.net',), 0.580365296803653),\n",
       " ('html', 'jquery'): (('javascript',), 0.6950162155006949),\n",
       " ('html', 'twitter-bootstrap'): (('css',), 0.7386788533444121),\n",
       " ('html5', 'jquery'): (('javascript',), 0.6218289085545723),\n",
       " ('java', 'spring-mvc'): (('spring',), 0.6787723785166241),\n",
       " ('java-ee',): (('java',), 0.5588952071486596),\n",
       " ('javascript', 'jquery-ui'): (('jquery',), 0.8848122866894198),\n",
       " ('javascript', 'twitter-bootstrap'): (('jquery',), 0.6117216117216118),\n",
       " ('javascript-events',): (('javascript',), 0.8154335719968179),\n",
       " ('jdbc',): (('java',), 0.7021384928716904),\n",
       " ('jquery', 'twitter-bootstrap'): (('javascript',), 0.5813028344107409),\n",
       " ('jquery-mobile',): (('jquery',), 0.5567514677103719),\n",
       " ('jquery-plugins',): (('jquery',), 0.8601165695253955),\n",
       " ('jsp',): (('java',), 0.5183127052285931),\n",
       " ('laravel',): (('php',), 0.6502242152466368),\n",
       " ('linq',): (('c#',), 0.7402389017650205),\n",
       " ('listview',): (('android',), 0.712777476989713),\n",
       " ('matplotlib',): (('python',), 0.881429344883595),\n",
       " ('maven',): (('java',), 0.5068681318681318),\n",
       " ('mvvm',): (('wpf',), 0.6822589845978323),\n",
       " ('mysqli',): (('php',), 0.8879256965944272),\n",
       " ('netbeans',): (('java',), 0.5708594194649972),\n",
       " ('numpy',): (('python',), 0.9165180164109882),\n",
       " ('objective-c',): (('ios',), 0.5648882480173035),\n",
       " ('objective-c', 'uitableview'): (('ios',), 0.740761169332598),\n",
       " ('objective-c', 'xcode'): (('ios',), 0.5206391478029294),\n",
       " ('pandas',): (('python',), 0.9146769662921348),\n",
       " ('pdo',): (('php',), 0.9213091922005571),\n",
       " ('php', 'sql'): (('mysql',), 0.5771749298409729),\n",
       " ('python-2.7',): (('python',), 0.6581180100269958),\n",
       " ('python-3.x',): (('python',), 0.706777316735823),\n",
       " ('qt',): (('c++',), 0.5221044208841769),\n",
       " ('razor',): (('asp.net-mvc',), 0.5544598834603317),\n",
       " ('reactjs',): (('javascript',), 0.5417777777777778),\n",
       " ('ruby',): (('ruby-on-rails',), 0.5157534697099256),\n",
       " ('ruby', 'ruby-on-rails-3'): (('ruby-on-rails',), 0.7351778656126482),\n",
       " ('ruby-on-rails-4',): (('ruby-on-rails',), 0.7384126984126984),\n",
       " ('servlets',): (('java',), 0.677819083023544),\n",
       " ('spring',): (('java',), 0.5908276225619399),\n",
       " ('spring', 'spring-mvc'): (('java',), 0.611802674043338),\n",
       " ('sql', 'sql-server-2008'): (('sql-server',), 0.5265526552655265),\n",
       " ('sql', 'tsql'): (('sql-server',), 0.6881516587677725),\n",
       " ('sql-server', 'sql-server-2008'): (('sql',), 0.5888273779567187),\n",
       " ('sql-server', 'tsql'): (('sql',), 0.5759619198730662),\n",
       " ('swift',): (('ios',), 0.6567653673163418),\n",
       " ('swing',): (('java',), 0.9797397463350355),\n",
       " ('templates',): (('c++',), 0.5543022881082823),\n",
       " ('tkinter',): (('python',), 0.8756345177664975),\n",
       " ('tomcat',): (('java',), 0.5397984011122697),\n",
       " ('vba',): (('excel',), 0.588316256308304),\n",
       " ('vector',): (('c++',), 0.6204889406286379),\n",
       " ('visual-c++',): (('c++',), 0.517513566847558),\n",
       " ('webview',): (('android',), 0.7309608540925266),\n",
       " ('wpf', 'xaml'): (('c#',), 0.600836820083682),\n",
       " ('xslt',): (('xml',), 0.6612262902514336),\n",
       " ('zend-framework',): (('php',), 0.639247311827957)}"
      ]
     },
     "execution_count": 51,
     "metadata": {},
     "output_type": "execute_result"
    }
   ],
   "source": [
    "rules"
   ]
  },
  {
   "cell_type": "code",
   "execution_count": 52,
   "metadata": {
    "collapsed": false
   },
   "outputs": [
    {
     "data": {
      "text/plain": [
       "dict_keys([('css', 'html', 'javascript'), ('jquery-mobile',), ('java', 'spring-mvc'), ('datagridview',), ('curl',), ('android-activity',), ('python-2.7',), ('spring', 'spring-mvc'), ('python-3.x',), ('dom',), ('.net', 'winforms'), ('django',), ('wpf', 'xaml'), ('ruby-on-rails-4',), ('swift',), ('d3.js',), ('android-asynctask',), ('codeigniter',), ('css3', 'html'), ('vba',), ('google-maps-api-3',), ('mysqli',), ('qt',), ('numpy',), ('apache', 'mod-rewrite'), ('jdbc',), ('servlets',), ('objective-c',), ('laravel',), ('android-listview',), ('jquery', 'twitter-bootstrap'), ('php', 'sql'), ('sql', 'sql-server-2008'), ('boost',), ('html', 'twitter-bootstrap'), ('excel-vba', 'vba'), ('github',), ('webview',), ('arraylist',), ('ajax', 'javascript'), ('matplotlib',), ('.htaccess', 'apache'), ('css', 'javascript'), ('.htaccess', 'mod-rewrite'), ('tomcat',), ('templates',), ('.net', 'asp.net'), ('pdo',), ('mvvm',), ('maven',), ('core-data',), ('ruby',), ('excel', 'excel-vba'), ('gridview',), ('backbone.js',), ('pandas',), ('ajax', 'javascript', 'php'), ('zend-framework',), ('reactjs',), ('java-ee',), ('angularjs-directive',), ('xslt',), ('swing',), ('facebook-graph-api',), ('android-fragments',), ('javascript', 'twitter-bootstrap'), ('objective-c', 'xcode'), ('flask',), ('razor',), ('entity-framework',), ('vector',), ('django-models',), ('jsp',), ('tkinter',), ('netbeans',), ('c#', 'xaml'), ('activerecord',), ('devise',), ('objective-c', 'uitableview'), ('css', 'javascript', 'jquery'), ('visual-c++',), ('c++11',), ('excel', 'vba'), ('ggplot2',), ('html', 'jquery'), ('listview',), ('android-layout',), ('sql', 'tsql'), ('javascript-events',), ('sql-server', 'tsql'), ('spring',), ('canvas',), ('dictionary',), ('css', 'twitter-bootstrap'), ('javascript', 'jquery-ui'), ('css', 'css3'), ('linq',), ('android-intent',), ('android-studio',), ('sql-server', 'sql-server-2008'), ('css', 'html', 'jquery'), ('express',), ('html5', 'jquery'), ('ruby', 'ruby-on-rails-3'), ('jquery-plugins',)])"
      ]
     },
     "execution_count": 52,
     "metadata": {},
     "output_type": "execute_result"
    }
   ],
   "source": [
    "rules.keys() #dict cant be sorted"
   ]
  },
  {
   "cell_type": "code",
   "execution_count": 53,
   "metadata": {
    "collapsed": false
   },
   "outputs": [
    {
     "data": {
      "text/plain": [
       "dict_values([(('jquery',), 0.6066056752984959), (('jquery',), 0.5567514677103719), (('spring',), 0.6787723785166241), (('c#',), 0.7246770904146839), (('php',), 0.6022498995580554), (('android',), 0.9609733700642792), (('python',), 0.6581180100269958), (('java',), 0.611802674043338), (('python',), 0.706777316735823), (('javascript',), 0.602880658436214), (('c#',), 0.7174825174825175), (('python',), 0.5179716503543705), (('c#',), 0.600836820083682), (('ruby-on-rails',), 0.7384126984126984), (('ios',), 0.6567653673163418), (('javascript',), 0.7312312312312312), (('android',), 0.9810508182601206), (('php',), 0.759346317438997), (('css',), 0.8216674097191262), (('excel',), 0.588316256308304), (('google-maps',), 0.6328423349699945), (('php',), 0.8879256965944272), (('c++',), 0.5221044208841769), (('python',), 0.9165180164109882), (('.htaccess',), 0.7570093457943925), (('java',), 0.7021384928716904), (('java',), 0.677819083023544), (('ios',), 0.5648882480173035), (('php',), 0.6502242152466368), (('android',), 0.9781997187060478), (('javascript',), 0.5813028344107409), (('mysql',), 0.5771749298409729), (('sql-server',), 0.5265526552655265), (('c++',), 0.8778118609406953), (('css',), 0.7386788533444121), (('excel',), 0.764520202020202), (('git',), 0.6487880350696236), (('android',), 0.7309608540925266), (('java',), 0.7654320987654321), (('jquery',), 0.6000310896937665), (('python',), 0.881429344883595), (('mod-rewrite',), 0.5719717544812601), (('jquery',), 0.5603022670025188), (('apache',), 0.5286144578313253), (('java',), 0.5397984011122697), (('c++',), 0.5543022881082823), (('c#',), 0.5618746708794102), (('php',), 0.9213091922005571), (('wpf',), 0.6822589845978323), (('java',), 0.5068681318681318), (('ios',), 0.5994304698623636), (('ruby-on-rails',), 0.5157534697099256), (('vba',), 0.7247157390783961), (('asp.net',), 0.580365296803653), (('javascript',), 0.6093150684931506), (('python',), 0.9146769662921348), (('jquery',), 0.6085249579360628), (('php',), 0.639247311827957), (('javascript',), 0.5417777777777778), (('java',), 0.5588952071486596), (('angularjs',), 0.9842406876790831), (('xml',), 0.6612262902514336), (('java',), 0.9797397463350355), (('facebook',), 0.761640798226164), (('android',), 0.970112517580872), (('jquery',), 0.6117216117216118), (('ios',), 0.5206391478029294), (('python',), 0.8325652841781874), (('asp.net-mvc',), 0.5544598834603317), (('c#',), 0.5549894588896697), (('c++',), 0.6204889406286379), (('django',), 0.960054163845633), (('java',), 0.5183127052285931), (('python',), 0.8756345177664975), (('java',), 0.5708594194649972), (('wpf',), 0.5911897900370523), (('ruby-on-rails',), 0.7726239199636198), (('ruby-on-rails',), 0.8467400508044031), (('ios',), 0.740761169332598), (('html',), 0.7034705988131631), (('c++',), 0.517513566847558), (('c++',), 0.8710462287104623), (('excel-vba',), 0.6295814920717442), (('r',), 0.989329268292683), (('javascript',), 0.6950162155006949), (('android',), 0.712777476989713), (('android',), 0.9804476459994854), (('sql-server',), 0.6881516587677725), (('javascript',), 0.8154335719968179), (('sql',), 0.5759619198730662), (('java',), 0.5908276225619399), (('javascript',), 0.5613103142983621), (('python',), 0.5055790688726434), (('html',), 0.5938543754175016), (('jquery',), 0.8848122866894198), (('html',), 0.546074074074074), (('c#',), 0.7402389017650205), (('android',), 0.9796460176991151), (('android',), 0.8454800280308339), (('sql',), 0.5888273779567187), (('javascript',), 0.6858345021037868), (('node.js',), 0.875526618153964), (('javascript',), 0.6218289085545723), (('ruby-on-rails',), 0.7351778656126482), (('jquery',), 0.8601165695253955)])"
      ]
     },
     "execution_count": 53,
     "metadata": {},
     "output_type": "execute_result"
    }
   ],
   "source": [
    "rules.values()"
   ]
  },
  {
   "cell_type": "code",
   "execution_count": 55,
   "metadata": {
    "collapsed": false
   },
   "outputs": [
    {
     "data": {
      "text/plain": [
       "37035"
      ]
     },
     "execution_count": 55,
     "metadata": {},
     "output_type": "execute_result"
    }
   ],
   "source": [
    "stackSampleTags.QuestTags.nunique()"
   ]
  },
  {
   "cell_type": "code",
   "execution_count": 56,
   "metadata": {
    "collapsed": false
   },
   "outputs": [],
   "source": [
    "tag_count = stackSampleTags.QuestTags.value_counts()"
   ]
  },
  {
   "cell_type": "code",
   "execution_count": 57,
   "metadata": {
    "collapsed": false
   },
   "outputs": [
    {
     "data": {
      "text/plain": [
       "javascript              124155\n",
       "java                    115212\n",
       "c#                      101186\n",
       "php                      98808\n",
       "android                  90659\n",
       "jquery                   78542\n",
       "python                   64601\n",
       "html                     58976\n",
       "c++                      47591\n",
       "ios                      47009\n",
       "mysql                    42464\n",
       "css                      42308\n",
       "sql                      35782\n",
       "asp.net                  29970\n",
       "objective-c              26922\n",
       "ruby-on-rails            25789\n",
       ".net                     24059\n",
       "c                        23238\n",
       "iphone                   21539\n",
       "angularjs                20345\n",
       "arrays                   19799\n",
       "sql-server               18160\n",
       "json                     17669\n",
       "ruby                     17013\n",
       "r                        15701\n",
       "ajax                     15629\n",
       "regex                    15349\n",
       "xml                      14763\n",
       "node.js                  14525\n",
       "asp.net-mvc              14284\n",
       "                         ...  \n",
       "magento-backend              1\n",
       "visualstategroup             1\n",
       "rook                         1\n",
       "proximo                      1\n",
       "mathjs                       1\n",
       "seamless-login               1\n",
       "import-module                1\n",
       "urlread                      1\n",
       "cd-drive                     1\n",
       "mri                          1\n",
       "jsonx                        1\n",
       "colanderalchemy              1\n",
       "portable-rest                1\n",
       "mod-cache                    1\n",
       "air2                         1\n",
       "adfc-config                  1\n",
       "nodename                     1\n",
       "typo3-7.1.x                  1\n",
       "freegeoip                    1\n",
       "rails-roar                   1\n",
       "picard                       1\n",
       "etsy                         1\n",
       "picturegallery               1\n",
       "memberinfo                   1\n",
       "protector                    1\n",
       "sus                          1\n",
       "gnome-keyring-daemon         1\n",
       "rabbitmqadmin                1\n",
       "tiles-game                   1\n",
       "mongify                      1\n",
       "Name: QuestTags, dtype: int64"
      ]
     },
     "execution_count": 57,
     "metadata": {},
     "output_type": "execute_result"
    }
   ],
   "source": [
    "tag_count"
   ]
  },
  {
   "cell_type": "code",
   "execution_count": 58,
   "metadata": {
    "collapsed": false
   },
   "outputs": [],
   "source": [
    "toptags = tag_count[tag_count >= 10000]"
   ]
  },
  {
   "cell_type": "code",
   "execution_count": 61,
   "metadata": {
    "collapsed": false
   },
   "outputs": [],
   "source": [
    "test = list(rules.items())"
   ]
  },
  {
   "cell_type": "code",
   "execution_count": 62,
   "metadata": {
    "collapsed": false
   },
   "outputs": [],
   "source": [
    "#RHS of edges all only contain one element\n",
    "# tags_list = list()\n",
    "# for key,value in test:\n",
    "#     if len(key) > 1:\n",
    "#         tags_list.append([key, value[0][0], value[1]])\n",
    "#     else:\n",
    "#         tags_list.append([key[0], value[0][0], value[1]])\n",
    "        \n",
    "tags_list = list()\n",
    "for key,value in test:\n",
    "    if len(key) > 1:\n",
    "        for ele in key:\n",
    "            tags_list.append([ele, value[0][0], value[1]])\n",
    "    else:\n",
    "        tags_list.append([key[0], value[0][0], value[1]])"
   ]
  },
  {
   "cell_type": "code",
   "execution_count": 59,
   "metadata": {
    "collapsed": false
   },
   "outputs": [
    {
     "data": {
      "text/plain": [
       "javascript       124155\n",
       "java             115212\n",
       "c#               101186\n",
       "php               98808\n",
       "android           90659\n",
       "jquery            78542\n",
       "python            64601\n",
       "html              58976\n",
       "c++               47591\n",
       "ios               47009\n",
       "mysql             42464\n",
       "css               42308\n",
       "sql               35782\n",
       "asp.net           29970\n",
       "objective-c       26922\n",
       "ruby-on-rails     25789\n",
       ".net              24059\n",
       "c                 23238\n",
       "iphone            21539\n",
       "angularjs         20345\n",
       "arrays            19799\n",
       "sql-server        18160\n",
       "json              17669\n",
       "ruby              17013\n",
       "r                 15701\n",
       "ajax              15629\n",
       "regex             15349\n",
       "xml               14763\n",
       "node.js           14525\n",
       "asp.net-mvc       14284\n",
       "linux             13395\n",
       "django            12818\n",
       "wpf               12365\n",
       "database          11860\n",
       "swift             11832\n",
       "xcode             10633\n",
       "string            10427\n",
       "excel             10384\n",
       "vb.net            10286\n",
       "windows           10142\n",
       "Name: QuestTags, dtype: int64"
      ]
     },
     "execution_count": 59,
     "metadata": {},
     "output_type": "execute_result"
    }
   ],
   "source": [
    "toptags"
   ]
  },
  {
   "cell_type": "code",
   "execution_count": 63,
   "metadata": {
    "collapsed": false
   },
   "outputs": [
    {
     "data": {
      "text/plain": [
       "144"
      ]
     },
     "execution_count": 63,
     "metadata": {},
     "output_type": "execute_result"
    }
   ],
   "source": [
    "len(tags_list)"
   ]
  },
  {
   "cell_type": "code",
   "execution_count": 65,
   "metadata": {
    "collapsed": false
   },
   "outputs": [
    {
     "data": {
      "text/plain": [
       "(['sql', 'mysql', 0.5771749298409729],\n",
       " ['sql', 'sql-server', 0.5265526552655265],\n",
       " ['sql', 'sql-server', 0.6881516587677725],\n",
       " ['sql-server', 'sql', 0.5759619198730662],\n",
       " ['tsql', 'sql', 0.5759619198730662],\n",
       " ['sql-server', 'sql', 0.5888273779567187],\n",
       " ['sql-server-2008', 'sql', 0.5888273779567187])"
      ]
     },
     "execution_count": 65,
     "metadata": {},
     "output_type": "execute_result"
    }
   ],
   "source": [
    "tuple(list(filter(lambda x: \"sql\" in x, tags_list)))"
   ]
  },
  {
   "cell_type": "code",
   "execution_count": 66,
   "metadata": {
    "collapsed": true
   },
   "outputs": [],
   "source": [
    "import networkx as nx\n",
    "DG = nx.DiGraph()"
   ]
  },
  {
   "cell_type": "code",
   "execution_count": 67,
   "metadata": {
    "collapsed": false
   },
   "outputs": [],
   "source": [
    "items = list()\n",
    "for l in tags_list:\n",
    "    for ele in l[:-1]:\n",
    "        if ele not in items:\n",
    "            items.append(ele)\n",
    "DG.add_nodes_from(items)"
   ]
  },
  {
   "cell_type": "code",
   "execution_count": 68,
   "metadata": {
    "collapsed": false
   },
   "outputs": [
    {
     "name": "stdout",
     "output_type": "stream",
     "text": [
      "114\n",
      "['ruby-on-rails-4', 'github', 'python', 'google-maps-api-3', 'objective-c', 'winforms', 'asp.net-mvc', 'entity-framework', 'android-asynctask', 'sql-server', 'razor', 'express', 'facebook', 'mvvm', 'activerecord', 'datagridview', 'python-3.x', 'zend-framework', 'ruby-on-rails', 'canvas', 'tomcat', 'android-intent', 'excel', 'vba', 'c#', 'mysqli', 'spring-mvc', 'qt', 'dom', 'android-fragments', 'vector', 'uitableview', 'html5', 'ggplot2', 'laravel', 'dictionary', 'c++', 'listview', 'codeigniter', 'asp.net', 'backbone.js', 'servlets', 'matplotlib', 'flask', 'ruby', '.htaccess', 'jdbc', 'reactjs', 'tsql', 'r', 'visual-c++', 'angularjs', 'html', 'xaml', 'xcode', 'android-studio', 'core-data', 'jquery-ui', 'jsp', 'python-2.7', 'pandas', 'facebook-graph-api', 'gridview', 'php', 'pdo', 'mysql', 'd3.js', 'android', 'c++11', 'android-activity', 'xslt', 'tkinter', 'angularjs-directive', 'ios', 'webview', 'apache', 'curl', 'mod-rewrite', 'node.js', 'google-maps', 'javascript', 'django', 'css', 'netbeans', 'css3', 'boost', 'android-listview', 'spring', 'devise', 'wpf', 'ruby-on-rails-3', 'javascript-events', 'templates', 'django-models', 'jquery-plugins', 'numpy', 'maven', 'swing', 'jquery', 'jquery-mobile', 'twitter-bootstrap', 'ajax', 'excel-vba', 'linq', 'swift', 'xml', 'sql-server-2008', '.net', 'android-layout', 'java-ee', 'git', 'java', 'arraylist', 'sql']\n"
     ]
    }
   ],
   "source": [
    "print(DG.number_of_nodes())\n",
    "print(DG.nodes())"
   ]
  },
  {
   "cell_type": "code",
   "execution_count": 69,
   "metadata": {
    "collapsed": false
   },
   "outputs": [],
   "source": [
    "DG.add_weighted_edges_from(tags_list)"
   ]
  },
  {
   "cell_type": "code",
   "execution_count": 70,
   "metadata": {
    "collapsed": false
   },
   "outputs": [
    {
     "name": "stdout",
     "output_type": "stream",
     "text": [
      "122\n",
      "[('ruby-on-rails-4', 'ruby-on-rails'), ('github', 'git'), ('google-maps-api-3', 'google-maps'), ('objective-c', 'ios'), ('winforms', 'c#'), ('entity-framework', 'c#'), ('android-asynctask', 'android'), ('sql-server', 'sql'), ('razor', 'asp.net-mvc'), ('express', 'node.js'), ('mvvm', 'wpf'), ('activerecord', 'ruby-on-rails'), ('datagridview', 'c#'), ('python-3.x', 'python'), ('zend-framework', 'php'), ('canvas', 'javascript'), ('tomcat', 'java'), ('android-intent', 'android'), ('excel', 'vba'), ('excel', 'excel-vba'), ('vba', 'excel'), ('vba', 'excel-vba'), ('c#', 'wpf'), ('mysqli', 'php'), ('spring-mvc', 'java'), ('spring-mvc', 'spring'), ('qt', 'c++'), ('dom', 'javascript'), ('android-fragments', 'android'), ('vector', 'c++'), ('uitableview', 'ios'), ('html5', 'javascript'), ('ggplot2', 'r'), ('laravel', 'php'), ('dictionary', 'python'), ('listview', 'android'), ('codeigniter', 'php'), ('asp.net', 'c#'), ('backbone.js', 'javascript'), ('servlets', 'java'), ('matplotlib', 'python'), ('flask', 'python'), ('ruby', 'ruby-on-rails'), ('.htaccess', 'apache'), ('.htaccess', 'mod-rewrite'), ('jdbc', 'java'), ('reactjs', 'javascript'), ('tsql', 'sql-server'), ('tsql', 'sql'), ('visual-c++', 'c++'), ('html', 'javascript'), ('html', 'css'), ('html', 'jquery'), ('xaml', 'c#'), ('xaml', 'wpf'), ('xcode', 'ios'), ('android-studio', 'android'), ('core-data', 'ios'), ('jquery-ui', 'jquery'), ('jsp', 'java'), ('python-2.7', 'python'), ('pandas', 'python'), ('facebook-graph-api', 'facebook'), ('gridview', 'asp.net'), ('php', 'mysql'), ('php', 'jquery'), ('pdo', 'php'), ('d3.js', 'javascript'), ('c++11', 'c++'), ('android-activity', 'android'), ('xslt', 'xml'), ('tkinter', 'python'), ('angularjs-directive', 'angularjs'), ('webview', 'android'), ('apache', '.htaccess'), ('apache', 'mod-rewrite'), ('curl', 'php'), ('mod-rewrite', 'apache'), ('mod-rewrite', '.htaccess'), ('javascript', 'html'), ('javascript', 'jquery'), ('django', 'python'), ('css', 'javascript'), ('css', 'html'), ('css', 'jquery'), ('netbeans', 'java'), ('css3', 'css'), ('css3', 'html'), ('boost', 'c++'), ('android-listview', 'android'), ('spring', 'java'), ('devise', 'ruby-on-rails'), ('wpf', 'c#'), ('ruby-on-rails-3', 'ruby-on-rails'), ('javascript-events', 'javascript'), ('templates', 'c++'), ('django-models', 'django'), ('jquery-plugins', 'jquery'), ('numpy', 'python'), ('maven', 'java'), ('swing', 'java'), ('jquery', 'javascript'), ('jquery', 'html'), ('jquery-mobile', 'jquery'), ('twitter-bootstrap', 'javascript'), ('twitter-bootstrap', 'css'), ('twitter-bootstrap', 'html'), ('twitter-bootstrap', 'jquery'), ('ajax', 'jquery'), ('excel-vba', 'excel'), ('excel-vba', 'vba'), ('linq', 'c#'), ('swift', 'ios'), ('sql-server-2008', 'sql-server'), ('sql-server-2008', 'sql'), ('.net', 'c#'), ('android-layout', 'android'), ('java-ee', 'java'), ('java', 'spring'), ('arraylist', 'java'), ('sql', 'mysql'), ('sql', 'sql-server')]\n"
     ]
    }
   ],
   "source": [
    "print(DG.number_of_edges())\n",
    "print(DG.edges())"
   ]
  },
  {
   "cell_type": "code",
   "execution_count": 71,
   "metadata": {
    "collapsed": false
   },
   "outputs": [],
   "source": [
    "nx.write_gexf(DG, \"stack test.gexf\")"
   ]
  },
  {
   "cell_type": "code",
   "execution_count": 72,
   "metadata": {
    "collapsed": false
   },
   "outputs": [],
   "source": [
    "tagCount = stackQuestionsTags.groupby('QuestionId').QuestTags.size().reset_index()\n",
    "tagCount = tagCount.rename(columns={0:'TagCount'})"
   ]
  },
  {
   "cell_type": "code",
   "execution_count": 73,
   "metadata": {
    "collapsed": false
   },
   "outputs": [],
   "source": [
    "answerCount = stackSampleAnswers.groupby('QuestionId').AnswerId.size().reset_index()"
   ]
  },
  {
   "cell_type": "code",
   "execution_count": 74,
   "metadata": {
    "collapsed": true
   },
   "outputs": [],
   "source": [
    "answerCount = answerCount.rename(columns={0:'AnsCount'})"
   ]
  },
  {
   "cell_type": "code",
   "execution_count": 75,
   "metadata": {
    "collapsed": false
   },
   "outputs": [
    {
     "data": {
      "text/html": [
       "<div>\n",
       "<table border=\"1\" class=\"dataframe\">\n",
       "  <thead>\n",
       "    <tr style=\"text-align: right;\">\n",
       "      <th></th>\n",
       "      <th>QuestionId</th>\n",
       "      <th>AnsCount</th>\n",
       "    </tr>\n",
       "  </thead>\n",
       "  <tbody>\n",
       "    <tr>\n",
       "      <th>2587</th>\n",
       "      <td>203340</td>\n",
       "      <td>11</td>\n",
       "    </tr>\n",
       "  </tbody>\n",
       "</table>\n",
       "</div>"
      ],
      "text/plain": [
       "      QuestionId  AnsCount\n",
       "2587      203340        11"
      ]
     },
     "execution_count": 75,
     "metadata": {},
     "output_type": "execute_result"
    }
   ],
   "source": [
    "#to verify\n",
    "answerCount.loc[answerCount.QuestionId==203340, :]"
   ]
  },
  {
   "cell_type": "code",
   "execution_count": 76,
   "metadata": {
    "collapsed": true
   },
   "outputs": [],
   "source": [
    "answerstags = pd.merge(answerCount, tagCount, on='QuestionId')"
   ]
  },
  {
   "cell_type": "code",
   "execution_count": 77,
   "metadata": {
    "collapsed": false
   },
   "outputs": [
    {
     "data": {
      "text/html": [
       "<div>\n",
       "<table border=\"1\" class=\"dataframe\">\n",
       "  <thead>\n",
       "    <tr style=\"text-align: right;\">\n",
       "      <th></th>\n",
       "      <th>QuestionId</th>\n",
       "      <th>AnsCount</th>\n",
       "      <th>TagCount</th>\n",
       "    </tr>\n",
       "  </thead>\n",
       "  <tbody>\n",
       "    <tr>\n",
       "      <th>0</th>\n",
       "      <td>203340</td>\n",
       "      <td>11</td>\n",
       "      <td>1</td>\n",
       "    </tr>\n",
       "    <tr>\n",
       "      <th>1</th>\n",
       "      <td>203520</td>\n",
       "      <td>2</td>\n",
       "      <td>3</td>\n",
       "    </tr>\n",
       "    <tr>\n",
       "      <th>2</th>\n",
       "      <td>203590</td>\n",
       "      <td>2</td>\n",
       "      <td>2</td>\n",
       "    </tr>\n",
       "    <tr>\n",
       "      <th>3</th>\n",
       "      <td>203620</td>\n",
       "      <td>3</td>\n",
       "      <td>2</td>\n",
       "    </tr>\n",
       "    <tr>\n",
       "      <th>4</th>\n",
       "      <td>203640</td>\n",
       "      <td>1</td>\n",
       "      <td>1</td>\n",
       "    </tr>\n",
       "    <tr>\n",
       "      <th>5</th>\n",
       "      <td>203780</td>\n",
       "      <td>3</td>\n",
       "      <td>2</td>\n",
       "    </tr>\n",
       "    <tr>\n",
       "      <th>6</th>\n",
       "      <td>203800</td>\n",
       "      <td>3</td>\n",
       "      <td>3</td>\n",
       "    </tr>\n",
       "    <tr>\n",
       "      <th>7</th>\n",
       "      <td>203890</td>\n",
       "      <td>3</td>\n",
       "      <td>3</td>\n",
       "    </tr>\n",
       "    <tr>\n",
       "      <th>8</th>\n",
       "      <td>203930</td>\n",
       "      <td>6</td>\n",
       "      <td>2</td>\n",
       "    </tr>\n",
       "    <tr>\n",
       "      <th>9</th>\n",
       "      <td>203990</td>\n",
       "      <td>3</td>\n",
       "      <td>5</td>\n",
       "    </tr>\n",
       "    <tr>\n",
       "      <th>10</th>\n",
       "      <td>204010</td>\n",
       "      <td>5</td>\n",
       "      <td>2</td>\n",
       "    </tr>\n",
       "    <tr>\n",
       "      <th>11</th>\n",
       "      <td>204040</td>\n",
       "      <td>4</td>\n",
       "      <td>4</td>\n",
       "    </tr>\n",
       "  </tbody>\n",
       "</table>\n",
       "</div>"
      ],
      "text/plain": [
       "    QuestionId  AnsCount  TagCount\n",
       "0       203340        11         1\n",
       "1       203520         2         3\n",
       "2       203590         2         2\n",
       "3       203620         3         2\n",
       "4       203640         1         1\n",
       "5       203780         3         2\n",
       "6       203800         3         3\n",
       "7       203890         3         3\n",
       "8       203930         6         2\n",
       "9       203990         3         5\n",
       "10      204010         5         2\n",
       "11      204040         4         4"
      ]
     },
     "execution_count": 77,
     "metadata": {},
     "output_type": "execute_result"
    }
   ],
   "source": [
    "answerstags.head(12)"
   ]
  },
  {
   "cell_type": "markdown",
   "metadata": {},
   "source": [
    "# Graph Plot 4: Number of Answers Received Based on Number of Tags Used in Questions"
   ]
  },
  {
   "cell_type": "code",
   "execution_count": 79,
   "metadata": {
    "collapsed": false
   },
   "outputs": [
    {
     "data": {
      "text/plain": [
       "(0, 10)"
      ]
     },
     "execution_count": 79,
     "metadata": {},
     "output_type": "execute_result"
    },
    {
     "data": {
      "image/png": "[encoded data removed]",
      "text/plain": [
       "<matplotlib.figure.Figure at 0x117bc4320>"
      ]
     },
     "metadata": {},
     "output_type": "display_data"
    }
   ],
   "source": [
    "#scatterplot of AnswerCount against TagCount, one question with 408 answers\n",
    "%matplotlib inline\n",
    "ax3 = sns.boxplot(x=\"TagCount\", y=\"AnsCount\", data=answerstags)\n",
    "plt.ylim(0, 10)"
   ]
  },
  {
   "cell_type": "code",
   "execution_count": 124,
   "metadata": {
    "collapsed": false
   },
   "outputs": [
    {
     "data": {
      "text/plain": [
       "count    137482.000000\n",
       "mean         25.987053\n",
       "std         311.846054\n",
       "min           1.000000\n",
       "25%           1.000000\n",
       "50%           3.000000\n",
       "75%           8.000000\n",
       "max       28233.000000\n",
       "Name: YearTagCount, dtype: float64"
      ]
     },
     "execution_count": 124,
     "metadata": {},
     "output_type": "execute_result"
    }
   ],
   "source": [
    "yearQuestTag.YearTagCount.describe()"
   ]
  },
  {
   "cell_type": "code",
   "execution_count": 125,
   "metadata": {
    "collapsed": false
   },
   "outputs": [],
   "source": [
    "#remove noises by only including tags which were used in questions throughout a year within the 75% range\n",
    "yearQuestTag = yearQuestTag.loc[yearQuestTag.YearTagCount >= 8, :]"
   ]
  },
  {
   "cell_type": "code",
   "execution_count": 126,
   "metadata": {
    "collapsed": true
   },
   "outputs": [],
   "source": [
    "sumQuestTag = pd.DataFrame(yearQuestTag.groupby('QuestCreationYear').YearTagCount.sum()).reset_index()\n",
    "sumQuestTag = sumQuestTag.rename(columns={'YearTagCount':'SumYearTagCount'})"
   ]
  },
  {
   "cell_type": "code",
   "execution_count": 127,
   "metadata": {
    "collapsed": true
   },
   "outputs": [],
   "source": [
    "yearQuestTag = pd.merge(yearQuestTag, sumQuestTag, on='QuestCreationYear')"
   ]
  },
  {
   "cell_type": "code",
   "execution_count": 128,
   "metadata": {
    "collapsed": false
   },
   "outputs": [],
   "source": [
    "yearQuestTag['Proportion'] = yearQuestTag['YearTagCount'] / yearQuestTag['SumYearTagCount']"
   ]
  },
  {
   "cell_type": "code",
   "execution_count": 129,
   "metadata": {
    "collapsed": false
   },
   "outputs": [
    {
     "data": {
      "text/html": [
       "<div>\n",
       "<table border=\"1\" class=\"dataframe\">\n",
       "  <thead>\n",
       "    <tr style=\"text-align: right;\">\n",
       "      <th></th>\n",
       "      <th>QuestCreationYear</th>\n",
       "      <th>QuestTags</th>\n",
       "      <th>YearTagCount</th>\n",
       "      <th>SumYearTagCount</th>\n",
       "      <th>Proportion</th>\n",
       "    </tr>\n",
       "  </thead>\n",
       "  <tbody>\n",
       "    <tr>\n",
       "      <th>0</th>\n",
       "      <td>Oct'08-09</td>\n",
       "      <td>c#</td>\n",
       "      <td>3682</td>\n",
       "      <td>65430</td>\n",
       "      <td>0.056274</td>\n",
       "    </tr>\n",
       "    <tr>\n",
       "      <th>1</th>\n",
       "      <td>Oct'08-09</td>\n",
       "      <td>.net</td>\n",
       "      <td>2014</td>\n",
       "      <td>65430</td>\n",
       "      <td>0.030781</td>\n",
       "    </tr>\n",
       "    <tr>\n",
       "      <th>2</th>\n",
       "      <td>Oct'08-09</td>\n",
       "      <td>java</td>\n",
       "      <td>1846</td>\n",
       "      <td>65430</td>\n",
       "      <td>0.028213</td>\n",
       "    </tr>\n",
       "    <tr>\n",
       "      <th>3</th>\n",
       "      <td>Oct'08-09</td>\n",
       "      <td>asp.net</td>\n",
       "      <td>1710</td>\n",
       "      <td>65430</td>\n",
       "      <td>0.026135</td>\n",
       "    </tr>\n",
       "    <tr>\n",
       "      <th>4</th>\n",
       "      <td>Oct'08-09</td>\n",
       "      <td>php</td>\n",
       "      <td>1468</td>\n",
       "      <td>65430</td>\n",
       "      <td>0.022436</td>\n",
       "    </tr>\n",
       "    <tr>\n",
       "      <th>5</th>\n",
       "      <td>Oct'08-09</td>\n",
       "      <td>javascript</td>\n",
       "      <td>1382</td>\n",
       "      <td>65430</td>\n",
       "      <td>0.021122</td>\n",
       "    </tr>\n",
       "    <tr>\n",
       "      <th>6</th>\n",
       "      <td>Oct'08-09</td>\n",
       "      <td>c++</td>\n",
       "      <td>1285</td>\n",
       "      <td>65430</td>\n",
       "      <td>0.019639</td>\n",
       "    </tr>\n",
       "    <tr>\n",
       "      <th>7</th>\n",
       "      <td>Oct'08-09</td>\n",
       "      <td>python</td>\n",
       "      <td>1023</td>\n",
       "      <td>65430</td>\n",
       "      <td>0.015635</td>\n",
       "    </tr>\n",
       "    <tr>\n",
       "      <th>8</th>\n",
       "      <td>Oct'08-09</td>\n",
       "      <td>iphone</td>\n",
       "      <td>988</td>\n",
       "      <td>65430</td>\n",
       "      <td>0.015100</td>\n",
       "    </tr>\n",
       "    <tr>\n",
       "      <th>9</th>\n",
       "      <td>Oct'08-09</td>\n",
       "      <td>jquery</td>\n",
       "      <td>976</td>\n",
       "      <td>65430</td>\n",
       "      <td>0.014917</td>\n",
       "    </tr>\n",
       "    <tr>\n",
       "      <th>10</th>\n",
       "      <td>Oct'08-09</td>\n",
       "      <td>sql</td>\n",
       "      <td>957</td>\n",
       "      <td>65430</td>\n",
       "      <td>0.014626</td>\n",
       "    </tr>\n",
       "    <tr>\n",
       "      <th>11</th>\n",
       "      <td>Oct'08-09</td>\n",
       "      <td>sql-server</td>\n",
       "      <td>781</td>\n",
       "      <td>65430</td>\n",
       "      <td>0.011936</td>\n",
       "    </tr>\n",
       "    <tr>\n",
       "      <th>12</th>\n",
       "      <td>Oct'08-09</td>\n",
       "      <td>html</td>\n",
       "      <td>713</td>\n",
       "      <td>65430</td>\n",
       "      <td>0.010897</td>\n",
       "    </tr>\n",
       "    <tr>\n",
       "      <th>13</th>\n",
       "      <td>Oct'08-09</td>\n",
       "      <td>mysql</td>\n",
       "      <td>664</td>\n",
       "      <td>65430</td>\n",
       "      <td>0.010148</td>\n",
       "    </tr>\n",
       "    <tr>\n",
       "      <th>14</th>\n",
       "      <td>Oct'08-09</td>\n",
       "      <td>asp.net-mvc</td>\n",
       "      <td>609</td>\n",
       "      <td>65430</td>\n",
       "      <td>0.009308</td>\n",
       "    </tr>\n",
       "    <tr>\n",
       "      <th>15</th>\n",
       "      <td>Oct'08-09</td>\n",
       "      <td>wpf</td>\n",
       "      <td>513</td>\n",
       "      <td>65430</td>\n",
       "      <td>0.007840</td>\n",
       "    </tr>\n",
       "    <tr>\n",
       "      <th>16</th>\n",
       "      <td>Oct'08-09</td>\n",
       "      <td>c</td>\n",
       "      <td>505</td>\n",
       "      <td>65430</td>\n",
       "      <td>0.007718</td>\n",
       "    </tr>\n",
       "    <tr>\n",
       "      <th>17</th>\n",
       "      <td>Oct'08-09</td>\n",
       "      <td>css</td>\n",
       "      <td>487</td>\n",
       "      <td>65430</td>\n",
       "      <td>0.007443</td>\n",
       "    </tr>\n",
       "    <tr>\n",
       "      <th>18</th>\n",
       "      <td>Oct'08-09</td>\n",
       "      <td>ruby-on-rails</td>\n",
       "      <td>486</td>\n",
       "      <td>65430</td>\n",
       "      <td>0.007428</td>\n",
       "    </tr>\n",
       "    <tr>\n",
       "      <th>19</th>\n",
       "      <td>Oct'08-09</td>\n",
       "      <td>objective-c</td>\n",
       "      <td>468</td>\n",
       "      <td>65430</td>\n",
       "      <td>0.007153</td>\n",
       "    </tr>\n",
       "    <tr>\n",
       "      <th>20</th>\n",
       "      <td>Oct'08-09</td>\n",
       "      <td>windows</td>\n",
       "      <td>462</td>\n",
       "      <td>65430</td>\n",
       "      <td>0.007061</td>\n",
       "    </tr>\n",
       "    <tr>\n",
       "      <th>21</th>\n",
       "      <td>Oct'08-09</td>\n",
       "      <td>xml</td>\n",
       "      <td>447</td>\n",
       "      <td>65430</td>\n",
       "      <td>0.006832</td>\n",
       "    </tr>\n",
       "    <tr>\n",
       "      <th>22</th>\n",
       "      <td>Oct'08-09</td>\n",
       "      <td>ruby</td>\n",
       "      <td>421</td>\n",
       "      <td>65430</td>\n",
       "      <td>0.006434</td>\n",
       "    </tr>\n",
       "    <tr>\n",
       "      <th>23</th>\n",
       "      <td>Oct'08-09</td>\n",
       "      <td>vb.net</td>\n",
       "      <td>421</td>\n",
       "      <td>65430</td>\n",
       "      <td>0.006434</td>\n",
       "    </tr>\n",
       "    <tr>\n",
       "      <th>24</th>\n",
       "      <td>Oct'08-09</td>\n",
       "      <td>winforms</td>\n",
       "      <td>418</td>\n",
       "      <td>65430</td>\n",
       "      <td>0.006389</td>\n",
       "    </tr>\n",
       "    <tr>\n",
       "      <th>25</th>\n",
       "      <td>Oct'08-09</td>\n",
       "      <td>visual-studio</td>\n",
       "      <td>414</td>\n",
       "      <td>65430</td>\n",
       "      <td>0.006327</td>\n",
       "    </tr>\n",
       "    <tr>\n",
       "      <th>26</th>\n",
       "      <td>Oct'08-09</td>\n",
       "      <td>database</td>\n",
       "      <td>393</td>\n",
       "      <td>65430</td>\n",
       "      <td>0.006006</td>\n",
       "    </tr>\n",
       "    <tr>\n",
       "      <th>27</th>\n",
       "      <td>Oct'08-09</td>\n",
       "      <td>regex</td>\n",
       "      <td>359</td>\n",
       "      <td>65430</td>\n",
       "      <td>0.005487</td>\n",
       "    </tr>\n",
       "    <tr>\n",
       "      <th>28</th>\n",
       "      <td>Oct'08-09</td>\n",
       "      <td>visual-studio-2008</td>\n",
       "      <td>327</td>\n",
       "      <td>65430</td>\n",
       "      <td>0.004998</td>\n",
       "    </tr>\n",
       "    <tr>\n",
       "      <th>29</th>\n",
       "      <td>Oct'08-09</td>\n",
       "      <td>linux</td>\n",
       "      <td>313</td>\n",
       "      <td>65430</td>\n",
       "      <td>0.004784</td>\n",
       "    </tr>\n",
       "    <tr>\n",
       "      <th>...</th>\n",
       "      <td>...</td>\n",
       "      <td>...</td>\n",
       "      <td>...</td>\n",
       "      <td>...</td>\n",
       "      <td>...</td>\n",
       "    </tr>\n",
       "    <tr>\n",
       "      <th>35897</th>\n",
       "      <td>Oct'15-16</td>\n",
       "      <td>virtual-functions</td>\n",
       "      <td>8</td>\n",
       "      <td>689919</td>\n",
       "      <td>0.000012</td>\n",
       "    </tr>\n",
       "    <tr>\n",
       "      <th>35898</th>\n",
       "      <td>Oct'15-16</td>\n",
       "      <td>vk</td>\n",
       "      <td>8</td>\n",
       "      <td>689919</td>\n",
       "      <td>0.000012</td>\n",
       "    </tr>\n",
       "    <tr>\n",
       "      <th>35899</th>\n",
       "      <td>Oct'15-16</td>\n",
       "      <td>voting</td>\n",
       "      <td>8</td>\n",
       "      <td>689919</td>\n",
       "      <td>0.000012</td>\n",
       "    </tr>\n",
       "    <tr>\n",
       "      <th>35900</th>\n",
       "      <td>Oct'15-16</td>\n",
       "      <td>vue-router</td>\n",
       "      <td>8</td>\n",
       "      <td>689919</td>\n",
       "      <td>0.000012</td>\n",
       "    </tr>\n",
       "    <tr>\n",
       "      <th>35901</th>\n",
       "      <td>Oct'15-16</td>\n",
       "      <td>w2ui</td>\n",
       "      <td>8</td>\n",
       "      <td>689919</td>\n",
       "      <td>0.000012</td>\n",
       "    </tr>\n",
       "    <tr>\n",
       "      <th>35902</th>\n",
       "      <td>Oct'15-16</td>\n",
       "      <td>wakanda</td>\n",
       "      <td>8</td>\n",
       "      <td>689919</td>\n",
       "      <td>0.000012</td>\n",
       "    </tr>\n",
       "    <tr>\n",
       "      <th>35903</th>\n",
       "      <td>Oct'15-16</td>\n",
       "      <td>wave</td>\n",
       "      <td>8</td>\n",
       "      <td>689919</td>\n",
       "      <td>0.000012</td>\n",
       "    </tr>\n",
       "    <tr>\n",
       "      <th>35904</th>\n",
       "      <td>Oct'15-16</td>\n",
       "      <td>web-parts</td>\n",
       "      <td>8</td>\n",
       "      <td>689919</td>\n",
       "      <td>0.000012</td>\n",
       "    </tr>\n",
       "    <tr>\n",
       "      <th>35905</th>\n",
       "      <td>Oct'15-16</td>\n",
       "      <td>web-push</td>\n",
       "      <td>8</td>\n",
       "      <td>689919</td>\n",
       "      <td>0.000012</td>\n",
       "    </tr>\n",
       "    <tr>\n",
       "      <th>35906</th>\n",
       "      <td>Oct'15-16</td>\n",
       "      <td>web.py</td>\n",
       "      <td>8</td>\n",
       "      <td>689919</td>\n",
       "      <td>0.000012</td>\n",
       "    </tr>\n",
       "    <tr>\n",
       "      <th>35907</th>\n",
       "      <td>Oct'15-16</td>\n",
       "      <td>where-in</td>\n",
       "      <td>8</td>\n",
       "      <td>689919</td>\n",
       "      <td>0.000012</td>\n",
       "    </tr>\n",
       "    <tr>\n",
       "      <th>35908</th>\n",
       "      <td>Oct'15-16</td>\n",
       "      <td>wifimanager</td>\n",
       "      <td>8</td>\n",
       "      <td>689919</td>\n",
       "      <td>0.000012</td>\n",
       "    </tr>\n",
       "    <tr>\n",
       "      <th>35909</th>\n",
       "      <td>Oct'15-16</td>\n",
       "      <td>win32com</td>\n",
       "      <td>8</td>\n",
       "      <td>689919</td>\n",
       "      <td>0.000012</td>\n",
       "    </tr>\n",
       "    <tr>\n",
       "      <th>35910</th>\n",
       "      <td>Oct'15-16</td>\n",
       "      <td>windows-phone-7</td>\n",
       "      <td>8</td>\n",
       "      <td>689919</td>\n",
       "      <td>0.000012</td>\n",
       "    </tr>\n",
       "    <tr>\n",
       "      <th>35911</th>\n",
       "      <td>Oct'15-16</td>\n",
       "      <td>windows-store</td>\n",
       "      <td>8</td>\n",
       "      <td>689919</td>\n",
       "      <td>0.000012</td>\n",
       "    </tr>\n",
       "    <tr>\n",
       "      <th>35912</th>\n",
       "      <td>Oct'15-16</td>\n",
       "      <td>with-statement</td>\n",
       "      <td>8</td>\n",
       "      <td>689919</td>\n",
       "      <td>0.000012</td>\n",
       "    </tr>\n",
       "    <tr>\n",
       "      <th>35913</th>\n",
       "      <td>Oct'15-16</td>\n",
       "      <td>worker</td>\n",
       "      <td>8</td>\n",
       "      <td>689919</td>\n",
       "      <td>0.000012</td>\n",
       "    </tr>\n",
       "    <tr>\n",
       "      <th>35914</th>\n",
       "      <td>Oct'15-16</td>\n",
       "      <td>wso2-emm</td>\n",
       "      <td>8</td>\n",
       "      <td>689919</td>\n",
       "      <td>0.000012</td>\n",
       "    </tr>\n",
       "    <tr>\n",
       "      <th>35915</th>\n",
       "      <td>Oct'15-16</td>\n",
       "      <td>x3dom</td>\n",
       "      <td>8</td>\n",
       "      <td>689919</td>\n",
       "      <td>0.000012</td>\n",
       "    </tr>\n",
       "    <tr>\n",
       "      <th>35916</th>\n",
       "      <td>Oct'15-16</td>\n",
       "      <td>x509certificate2</td>\n",
       "      <td>8</td>\n",
       "      <td>689919</td>\n",
       "      <td>0.000012</td>\n",
       "    </tr>\n",
       "    <tr>\n",
       "      <th>35917</th>\n",
       "      <td>Oct'15-16</td>\n",
       "      <td>xen</td>\n",
       "      <td>8</td>\n",
       "      <td>689919</td>\n",
       "      <td>0.000012</td>\n",
       "    </tr>\n",
       "    <tr>\n",
       "      <th>35918</th>\n",
       "      <td>Oct'15-16</td>\n",
       "      <td>xvfb</td>\n",
       "      <td>8</td>\n",
       "      <td>689919</td>\n",
       "      <td>0.000012</td>\n",
       "    </tr>\n",
       "    <tr>\n",
       "      <th>35919</th>\n",
       "      <td>Oct'15-16</td>\n",
       "      <td>yahoo-api</td>\n",
       "      <td>8</td>\n",
       "      <td>689919</td>\n",
       "      <td>0.000012</td>\n",
       "    </tr>\n",
       "    <tr>\n",
       "      <th>35920</th>\n",
       "      <td>Oct'15-16</td>\n",
       "      <td>yelp</td>\n",
       "      <td>8</td>\n",
       "      <td>689919</td>\n",
       "      <td>0.000012</td>\n",
       "    </tr>\n",
       "    <tr>\n",
       "      <th>35921</th>\n",
       "      <td>Oct'15-16</td>\n",
       "      <td>yosemite</td>\n",
       "      <td>8</td>\n",
       "      <td>689919</td>\n",
       "      <td>0.000012</td>\n",
       "    </tr>\n",
       "    <tr>\n",
       "      <th>35922</th>\n",
       "      <td>Oct'15-16</td>\n",
       "      <td>youtube-api-v3</td>\n",
       "      <td>8</td>\n",
       "      <td>689919</td>\n",
       "      <td>0.000012</td>\n",
       "    </tr>\n",
       "    <tr>\n",
       "      <th>35923</th>\n",
       "      <td>Oct'15-16</td>\n",
       "      <td>youtube-dl</td>\n",
       "      <td>8</td>\n",
       "      <td>689919</td>\n",
       "      <td>0.000012</td>\n",
       "    </tr>\n",
       "    <tr>\n",
       "      <th>35924</th>\n",
       "      <td>Oct'15-16</td>\n",
       "      <td>zendesk</td>\n",
       "      <td>8</td>\n",
       "      <td>689919</td>\n",
       "      <td>0.000012</td>\n",
       "    </tr>\n",
       "    <tr>\n",
       "      <th>35925</th>\n",
       "      <td>Oct'15-16</td>\n",
       "      <td>ziparchive</td>\n",
       "      <td>8</td>\n",
       "      <td>689919</td>\n",
       "      <td>0.000012</td>\n",
       "    </tr>\n",
       "    <tr>\n",
       "      <th>35926</th>\n",
       "      <td>Oct'15-16</td>\n",
       "      <td>zoho</td>\n",
       "      <td>8</td>\n",
       "      <td>689919</td>\n",
       "      <td>0.000012</td>\n",
       "    </tr>\n",
       "  </tbody>\n",
       "</table>\n",
       "<p>35927 rows × 5 columns</p>\n",
       "</div>"
      ],
      "text/plain": [
       "      QuestCreationYear           QuestTags  YearTagCount  SumYearTagCount  \\\n",
       "0             Oct'08-09                  c#          3682            65430   \n",
       "1             Oct'08-09                .net          2014            65430   \n",
       "2             Oct'08-09                java          1846            65430   \n",
       "3             Oct'08-09             asp.net          1710            65430   \n",
       "4             Oct'08-09                 php          1468            65430   \n",
       "5             Oct'08-09          javascript          1382            65430   \n",
       "6             Oct'08-09                 c++          1285            65430   \n",
       "7             Oct'08-09              python          1023            65430   \n",
       "8             Oct'08-09              iphone           988            65430   \n",
       "9             Oct'08-09              jquery           976            65430   \n",
       "10            Oct'08-09                 sql           957            65430   \n",
       "11            Oct'08-09          sql-server           781            65430   \n",
       "12            Oct'08-09                html           713            65430   \n",
       "13            Oct'08-09               mysql           664            65430   \n",
       "14            Oct'08-09         asp.net-mvc           609            65430   \n",
       "15            Oct'08-09                 wpf           513            65430   \n",
       "16            Oct'08-09                   c           505            65430   \n",
       "17            Oct'08-09                 css           487            65430   \n",
       "18            Oct'08-09       ruby-on-rails           486            65430   \n",
       "19            Oct'08-09         objective-c           468            65430   \n",
       "20            Oct'08-09             windows           462            65430   \n",
       "21            Oct'08-09                 xml           447            65430   \n",
       "22            Oct'08-09                ruby           421            65430   \n",
       "23            Oct'08-09              vb.net           421            65430   \n",
       "24            Oct'08-09            winforms           418            65430   \n",
       "25            Oct'08-09       visual-studio           414            65430   \n",
       "26            Oct'08-09            database           393            65430   \n",
       "27            Oct'08-09               regex           359            65430   \n",
       "28            Oct'08-09  visual-studio-2008           327            65430   \n",
       "29            Oct'08-09               linux           313            65430   \n",
       "...                 ...                 ...           ...              ...   \n",
       "35897         Oct'15-16   virtual-functions             8           689919   \n",
       "35898         Oct'15-16                  vk             8           689919   \n",
       "35899         Oct'15-16              voting             8           689919   \n",
       "35900         Oct'15-16          vue-router             8           689919   \n",
       "35901         Oct'15-16                w2ui             8           689919   \n",
       "35902         Oct'15-16             wakanda             8           689919   \n",
       "35903         Oct'15-16                wave             8           689919   \n",
       "35904         Oct'15-16           web-parts             8           689919   \n",
       "35905         Oct'15-16            web-push             8           689919   \n",
       "35906         Oct'15-16              web.py             8           689919   \n",
       "35907         Oct'15-16            where-in             8           689919   \n",
       "35908         Oct'15-16         wifimanager             8           689919   \n",
       "35909         Oct'15-16            win32com             8           689919   \n",
       "35910         Oct'15-16     windows-phone-7             8           689919   \n",
       "35911         Oct'15-16       windows-store             8           689919   \n",
       "35912         Oct'15-16      with-statement             8           689919   \n",
       "35913         Oct'15-16              worker             8           689919   \n",
       "35914         Oct'15-16            wso2-emm             8           689919   \n",
       "35915         Oct'15-16               x3dom             8           689919   \n",
       "35916         Oct'15-16    x509certificate2             8           689919   \n",
       "35917         Oct'15-16                 xen             8           689919   \n",
       "35918         Oct'15-16                xvfb             8           689919   \n",
       "35919         Oct'15-16           yahoo-api             8           689919   \n",
       "35920         Oct'15-16                yelp             8           689919   \n",
       "35921         Oct'15-16            yosemite             8           689919   \n",
       "35922         Oct'15-16      youtube-api-v3             8           689919   \n",
       "35923         Oct'15-16          youtube-dl             8           689919   \n",
       "35924         Oct'15-16             zendesk             8           689919   \n",
       "35925         Oct'15-16          ziparchive             8           689919   \n",
       "35926         Oct'15-16                zoho             8           689919   \n",
       "\n",
       "       Proportion  \n",
       "0        0.056274  \n",
       "1        0.030781  \n",
       "2        0.028213  \n",
       "3        0.026135  \n",
       "4        0.022436  \n",
       "5        0.021122  \n",
       "6        0.019639  \n",
       "7        0.015635  \n",
       "8        0.015100  \n",
       "9        0.014917  \n",
       "10       0.014626  \n",
       "11       0.011936  \n",
       "12       0.010897  \n",
       "13       0.010148  \n",
       "14       0.009308  \n",
       "15       0.007840  \n",
       "16       0.007718  \n",
       "17       0.007443  \n",
       "18       0.007428  \n",
       "19       0.007153  \n",
       "20       0.007061  \n",
       "21       0.006832  \n",
       "22       0.006434  \n",
       "23       0.006434  \n",
       "24       0.006389  \n",
       "25       0.006327  \n",
       "26       0.006006  \n",
       "27       0.005487  \n",
       "28       0.004998  \n",
       "29       0.004784  \n",
       "...           ...  \n",
       "35897    0.000012  \n",
       "35898    0.000012  \n",
       "35899    0.000012  \n",
       "35900    0.000012  \n",
       "35901    0.000012  \n",
       "35902    0.000012  \n",
       "35903    0.000012  \n",
       "35904    0.000012  \n",
       "35905    0.000012  \n",
       "35906    0.000012  \n",
       "35907    0.000012  \n",
       "35908    0.000012  \n",
       "35909    0.000012  \n",
       "35910    0.000012  \n",
       "35911    0.000012  \n",
       "35912    0.000012  \n",
       "35913    0.000012  \n",
       "35914    0.000012  \n",
       "35915    0.000012  \n",
       "35916    0.000012  \n",
       "35917    0.000012  \n",
       "35918    0.000012  \n",
       "35919    0.000012  \n",
       "35920    0.000012  \n",
       "35921    0.000012  \n",
       "35922    0.000012  \n",
       "35923    0.000012  \n",
       "35924    0.000012  \n",
       "35925    0.000012  \n",
       "35926    0.000012  \n",
       "\n",
       "[35927 rows x 5 columns]"
      ]
     },
     "execution_count": 129,
     "metadata": {},
     "output_type": "execute_result"
    }
   ],
   "source": [
    "yearQuestTag"
   ]
  },
  {
   "cell_type": "code",
   "execution_count": 133,
   "metadata": {
    "collapsed": false
   },
   "outputs": [
    {
     "data": {
      "text/html": [
       "\n",
       "    <div class=\"bk-root\">\n",
       "        <a href=\"http://bokeh.pydata.org\" target=\"_blank\" class=\"bk-logo bk-logo-small bk-logo-notebook\"></a>\n",
       "        <span id=\"5bdbe189-a548-4f13-85a0-018c2b69a305\">Loading BokehJS ...</span>\n",
       "    </div>"
      ]
     },
     "metadata": {},
     "output_type": "display_data"
    },
    {
     "data": {
      "application/javascript": [
       "\n",
       "(function(global) {\n",
       "  function now() {\n",
       "    return new Date();\n",
       "  }\n",
       "\n",
       "  var force = \"1\";\n",
       "\n",
       "  if (typeof (window._bokeh_onload_callbacks) === \"undefined\" || force !== \"\") {\n",
       "    window._bokeh_onload_callbacks = [];\n",
       "    window._bokeh_is_loading = undefined;\n",
       "  }\n",
       "\n",
       "\n",
       "  \n",
       "  if (typeof (window._bokeh_timeout) === \"undefined\" || force !== \"\") {\n",
       "    window._bokeh_timeout = Date.now() + 5000;\n",
       "    window._bokeh_failed_load = false;\n",
       "  }\n",
       "\n",
       "  var NB_LOAD_WARNING = {'data': {'text/html':\n",
       "     \"<div style='background-color: #fdd'>\\n\"+\n",
       "     \"<p>\\n\"+\n",
       "     \"BokehJS does not appear to have successfully loaded. If loading BokehJS from CDN, this \\n\"+\n",
       "     \"may be due to a slow or bad network connection. Possible fixes:\\n\"+\n",
       "     \"</p>\\n\"+\n",
       "     \"<ul>\\n\"+\n",
       "     \"<li>re-rerun `output_notebook()` to attempt to load from CDN again, or</li>\\n\"+\n",
       "     \"<li>use INLINE resources instead, as so:</li>\\n\"+\n",
       "     \"</ul>\\n\"+\n",
       "     \"<code>\\n\"+\n",
       "     \"from bokeh.resources import INLINE\\n\"+\n",
       "     \"output_notebook(resources=INLINE)\\n\"+\n",
       "     \"</code>\\n\"+\n",
       "     \"</div>\"}};\n",
       "\n",
       "  function display_loaded() {\n",
       "    if (window.Bokeh !== undefined) {\n",
       "      Bokeh.$(\"#5bdbe189-a548-4f13-85a0-018c2b69a305\").text(\"BokehJS successfully loaded.\");\n",
       "    } else if (Date.now() < window._bokeh_timeout) {\n",
       "      setTimeout(display_loaded, 100)\n",
       "    }\n",
       "  }\n",
       "\n",
       "  function run_callbacks() {\n",
       "    window._bokeh_onload_callbacks.forEach(function(callback) { callback() });\n",
       "    delete window._bokeh_onload_callbacks\n",
       "    console.info(\"Bokeh: all callbacks have finished\");\n",
       "  }\n",
       "\n",
       "  function load_libs(js_urls, callback) {\n",
       "    window._bokeh_onload_callbacks.push(callback);\n",
       "    if (window._bokeh_is_loading > 0) {\n",
       "      console.log(\"Bokeh: BokehJS is being loaded, scheduling callback at\", now());\n",
       "      return null;\n",
       "    }\n",
       "    if (js_urls == null || js_urls.length === 0) {\n",
       "      run_callbacks();\n",
       "      return null;\n",
       "    }\n",
       "    console.log(\"Bokeh: BokehJS not loaded, scheduling load and callback at\", now());\n",
       "    window._bokeh_is_loading = js_urls.length;\n",
       "    for (var i = 0; i < js_urls.length; i++) {\n",
       "      var url = js_urls[i];\n",
       "      var s = document.createElement('script');\n",
       "      s.src = url;\n",
       "      s.async = false;\n",
       "      s.onreadystatechange = s.onload = function() {\n",
       "        window._bokeh_is_loading--;\n",
       "        if (window._bokeh_is_loading === 0) {\n",
       "          console.log(\"Bokeh: all BokehJS libraries loaded\");\n",
       "          run_callbacks()\n",
       "        }\n",
       "      };\n",
       "      s.onerror = function() {\n",
       "        console.warn(\"failed to load library \" + url);\n",
       "      };\n",
       "      console.log(\"Bokeh: injecting script tag for BokehJS library: \", url);\n",
       "      document.getElementsByTagName(\"head\")[0].appendChild(s);\n",
       "    }\n",
       "  };var element = document.getElementById(\"5bdbe189-a548-4f13-85a0-018c2b69a305\");\n",
       "  if (element == null) {\n",
       "    console.log(\"Bokeh: ERROR: autoload.js configured with elementid '5bdbe189-a548-4f13-85a0-018c2b69a305' but no matching script tag was found. \")\n",
       "    return false;\n",
       "  }\n",
       "\n",
       "  var js_urls = ['https://cdn.pydata.org/bokeh/release/bokeh-0.12.2.min.js', 'https://cdn.pydata.org/bokeh/release/bokeh-widgets-0.12.2.min.js', 'https://cdn.pydata.org/bokeh/release/bokeh-compiler-0.12.2.min.js'];\n",
       "\n",
       "  var inline_js = [\n",
       "    function(Bokeh) {\n",
       "      Bokeh.set_log_level(\"info\");\n",
       "    },\n",
       "    \n",
       "    function(Bokeh) {\n",
       "      \n",
       "      Bokeh.$(\"#5bdbe189-a548-4f13-85a0-018c2b69a305\").text(\"BokehJS is loading...\");\n",
       "    },\n",
       "    function(Bokeh) {\n",
       "      console.log(\"Bokeh: injecting CSS: https://cdn.pydata.org/bokeh/release/bokeh-0.12.2.min.css\");\n",
       "      Bokeh.embed.inject_css(\"https://cdn.pydata.org/bokeh/release/bokeh-0.12.2.min.css\");\n",
       "      console.log(\"Bokeh: injecting CSS: https://cdn.pydata.org/bokeh/release/bokeh-widgets-0.12.2.min.css\");\n",
       "      Bokeh.embed.inject_css(\"https://cdn.pydata.org/bokeh/release/bokeh-widgets-0.12.2.min.css\");\n",
       "    }\n",
       "  ];\n",
       "\n",
       "  function run_inline_js() {\n",
       "    \n",
       "    if ((window.Bokeh !== undefined) || (force === \"1\")) {\n",
       "      for (var i = 0; i < inline_js.length; i++) {\n",
       "        inline_js[i](window.Bokeh);\n",
       "      }if (force === \"1\") {\n",
       "        display_loaded();\n",
       "      }} else if (Date.now() < window._bokeh_timeout) {\n",
       "      setTimeout(run_inline_js, 100);\n",
       "    } else if (!window._bokeh_failed_load) {\n",
       "      console.log(\"Bokeh: BokehJS failed to load within specified timeout.\");\n",
       "      window._bokeh_failed_load = true;\n",
       "    } else if (!force) {\n",
       "      var cell = $(\"#5bdbe189-a548-4f13-85a0-018c2b69a305\").parents('.cell').data().cell;\n",
       "      cell.output_area.append_execute_result(NB_LOAD_WARNING)\n",
       "    }\n",
       "\n",
       "  }\n",
       "\n",
       "  if (window._bokeh_is_loading === 0) {\n",
       "    console.log(\"Bokeh: BokehJS loaded, going straight to plotting\");\n",
       "    run_inline_js();\n",
       "  } else {\n",
       "    load_libs(js_urls, function() {\n",
       "      console.log(\"Bokeh: BokehJS plotting callback run at\", now());\n",
       "      run_inline_js();\n",
       "    });\n",
       "  }\n",
       "}(this));"
      ]
     },
     "metadata": {},
     "output_type": "display_data"
    }
   ],
   "source": [
    "%matplotlib inline\n",
    "from bokeh.charts import Bar, show, output_notebook\n",
    "from bokeh.models import HoverTool\n",
    "output_notebook()\n",
    "\n",
    "def plot_percentage_change(df, creationyear1, creationyear2):\n",
    "    newdf = df[(df.QuestCreationYear == creationyear1) | (df.QuestCreationYear == creationyear2)]\n",
    "    newdf = newdf.copy()\n",
    "    newdf['pct_ch'] = newdf.sort_values(['QuestTags','QuestCreationYear']).Proportion.pct_change()\n",
    "    newdf = newdf.sort_values(['QuestTags','QuestCreationYear']).groupby('QuestTags').nth(1).reset_index()\n",
    "    bar = Bar(newdf.sort_values('pct_ch',ascending=False).head(30), values='pct_ch', label='QuestTags', \n",
    "              title=\"Percentage Increase of Tags Used from \" + creationyear1 + \" to \" + creationyear2, legend=False, \n",
    "                  bar_width=1.0)\n",
    "    bar.xaxis.axis_label = 'Question Tags'\n",
    "    bar.yaxis.axis_label = 'Percentage Increase (%)'\n",
    "    show(bar)"
   ]
  },
  {
   "cell_type": "markdown",
   "metadata": {},
   "source": [
    "# Graph Plot 5: Percentage Increase of Tags Used Based on Year"
   ]
  },
  {
   "cell_type": "code",
   "execution_count": 134,
   "metadata": {
    "collapsed": false
   },
   "outputs": [
    {
     "data": {
      "text/html": [
       "\n",
       "\n",
       "    <div class=\"bk-root\">\n",
       "        <div class=\"plotdiv\" id=\"effb1b91-1174-47fa-89dd-c47c03e86570\"></div>\n",
       "    </div>\n",
       "<script type=\"text/javascript\">\n",
       "  \n",
       "  (function(global) {\n",
       "    function now() {\n",
       "      return new Date();\n",
       "    }\n",
       "  \n",
       "    var force = \"\";\n",
       "  \n",
       "    if (typeof (window._bokeh_onload_callbacks) === \"undefined\" || force !== \"\") {\n",
       "      window._bokeh_onload_callbacks = [];\n",
       "      window._bokeh_is_loading = undefined;\n",
       "    }\n",
       "  \n",
       "  \n",
       "    \n",
       "    if (typeof (window._bokeh_timeout) === \"undefined\" || force !== \"\") {\n",
       "      window._bokeh_timeout = Date.now() + 0;\n",
       "      window._bokeh_failed_load = false;\n",
       "    }\n",
       "  \n",
       "    var NB_LOAD_WARNING = {'data': {'text/html':\n",
       "       \"<div style='background-color: #fdd'>\\n\"+\n",
       "       \"<p>\\n\"+\n",
       "       \"BokehJS does not appear to have successfully loaded. If loading BokehJS from CDN, this \\n\"+\n",
       "       \"may be due to a slow or bad network connection. Possible fixes:\\n\"+\n",
       "       \"</p>\\n\"+\n",
       "       \"<ul>\\n\"+\n",
       "       \"<li>re-rerun `output_notebook()` to attempt to load from CDN again, or</li>\\n\"+\n",
       "       \"<li>use INLINE resources instead, as so:</li>\\n\"+\n",
       "       \"</ul>\\n\"+\n",
       "       \"<code>\\n\"+\n",
       "       \"from bokeh.resources import INLINE\\n\"+\n",
       "       \"output_notebook(resources=INLINE)\\n\"+\n",
       "       \"</code>\\n\"+\n",
       "       \"</div>\"}};\n",
       "  \n",
       "    function display_loaded() {\n",
       "      if (window.Bokeh !== undefined) {\n",
       "        Bokeh.$(\"#effb1b91-1174-47fa-89dd-c47c03e86570\").text(\"BokehJS successfully loaded.\");\n",
       "      } else if (Date.now() < window._bokeh_timeout) {\n",
       "        setTimeout(display_loaded, 100)\n",
       "      }\n",
       "    }\n",
       "  \n",
       "    function run_callbacks() {\n",
       "      window._bokeh_onload_callbacks.forEach(function(callback) { callback() });\n",
       "      delete window._bokeh_onload_callbacks\n",
       "      console.info(\"Bokeh: all callbacks have finished\");\n",
       "    }\n",
       "  \n",
       "    function load_libs(js_urls, callback) {\n",
       "      window._bokeh_onload_callbacks.push(callback);\n",
       "      if (window._bokeh_is_loading > 0) {\n",
       "        console.log(\"Bokeh: BokehJS is being loaded, scheduling callback at\", now());\n",
       "        return null;\n",
       "      }\n",
       "      if (js_urls == null || js_urls.length === 0) {\n",
       "        run_callbacks();\n",
       "        return null;\n",
       "      }\n",
       "      console.log(\"Bokeh: BokehJS not loaded, scheduling load and callback at\", now());\n",
       "      window._bokeh_is_loading = js_urls.length;\n",
       "      for (var i = 0; i < js_urls.length; i++) {\n",
       "        var url = js_urls[i];\n",
       "        var s = document.createElement('script');\n",
       "        s.src = url;\n",
       "        s.async = false;\n",
       "        s.onreadystatechange = s.onload = function() {\n",
       "          window._bokeh_is_loading--;\n",
       "          if (window._bokeh_is_loading === 0) {\n",
       "            console.log(\"Bokeh: all BokehJS libraries loaded\");\n",
       "            run_callbacks()\n",
       "          }\n",
       "        };\n",
       "        s.onerror = function() {\n",
       "          console.warn(\"failed to load library \" + url);\n",
       "        };\n",
       "        console.log(\"Bokeh: injecting script tag for BokehJS library: \", url);\n",
       "        document.getElementsByTagName(\"head\")[0].appendChild(s);\n",
       "      }\n",
       "    };var element = document.getElementById(\"effb1b91-1174-47fa-89dd-c47c03e86570\");\n",
       "    if (element == null) {\n",
       "      console.log(\"Bokeh: ERROR: autoload.js configured with elementid 'effb1b91-1174-47fa-89dd-c47c03e86570' but no matching script tag was found. \")\n",
       "      return false;\n",
       "    }\n",
       "  \n",
       "    var js_urls = [];\n",
       "  \n",
       "    var inline_js = [\n",
       "      function(Bokeh) {\n",
       "        Bokeh.$(function() {\n",
       "            var docs_json = {\"cf77a583-6cce-42df-8c58-3d3fc37958ad\":{\"roots\":{\"references\":[{\"attributes\":{\"fill_alpha\":{\"field\":\"fill_alpha\"},\"fill_color\":{\"field\":\"color\"},\"height\":{\"field\":\"height\",\"units\":\"data\"},\"line_color\":{\"field\":\"line_color\"},\"width\":{\"field\":\"width\",\"units\":\"data\"},\"x\":{\"field\":\"x\"},\"y\":{\"field\":\"y\"}},\"id\":\"5421e33e-6120-4872-a1de-0c8e8af1d83c\",\"type\":\"Rect\"},{\"attributes\":{\"overlay\":{\"id\":\"e8653935-7969-49fe-a76f-974925837b5f\",\"type\":\"BoxAnnotation\"},\"plot\":{\"id\":\"aeea16dd-5371-459a-a667-52a7097382e7\",\"subtype\":\"Chart\",\"type\":\"Plot\"}},\"id\":\"3ec93d45-3c7d-46f0-941f-c1907df0a92b\",\"type\":\"BoxZoomTool\"},{\"attributes\":{\"fill_alpha\":{\"field\":\"fill_alpha\"},\"fill_color\":{\"field\":\"color\"},\"height\":{\"field\":\"height\",\"units\":\"data\"},\"line_color\":{\"field\":\"line_color\"},\"width\":{\"field\":\"width\",\"units\":\"data\"},\"x\":{\"field\":\"x\"},\"y\":{\"field\":\"y\"}},\"id\":\"25512843-0178-4678-929f-3f5df6ddb4ce\",\"type\":\"Rect\"},{\"attributes\":{\"fill_alpha\":{\"field\":\"fill_alpha\"},\"fill_color\":{\"field\":\"color\"},\"height\":{\"field\":\"height\",\"units\":\"data\"},\"line_color\":{\"field\":\"line_color\"},\"width\":{\"field\":\"width\",\"units\":\"data\"},\"x\":{\"field\":\"x\"},\"y\":{\"field\":\"y\"}},\"id\":\"6dcdfee3-2bef-49b9-a158-b1a1507e875e\",\"type\":\"Rect\"},{\"attributes\":{},\"id\":\"f38f1bd2-971c-416c-8c0b-79354144991f\",\"type\":\"BasicTickFormatter\"},{\"attributes\":{\"fill_alpha\":{\"field\":\"fill_alpha\"},\"fill_color\":{\"field\":\"color\"},\"height\":{\"field\":\"height\",\"units\":\"data\"},\"line_color\":{\"field\":\"line_color\"},\"width\":{\"field\":\"width\",\"units\":\"data\"},\"x\":{\"field\":\"x\"},\"y\":{\"field\":\"y\"}},\"id\":\"992be03f-5990-42f7-b68b-2c468dfb34f9\",\"type\":\"Rect\"},{\"attributes\":{\"data_source\":{\"id\":\"3237a237-c403-48cc-8473-b8f1b33d9964\",\"type\":\"ColumnDataSource\"},\"glyph\":{\"id\":\"fb2e6661-4ca8-4eb7-a028-3f44db1146c2\",\"type\":\"Rect\"},\"hover_glyph\":null,\"nonselection_glyph\":null,\"selection_glyph\":null},\"id\":\"89bbd3dc-101a-487f-be8e-fa41031ff396\",\"type\":\"GlyphRenderer\"},{\"attributes\":{\"data_source\":{\"id\":\"6574e429-81e7-4a23-a24e-49a59a659193\",\"type\":\"ColumnDataSource\"},\"glyph\":{\"id\":\"49095233-a47a-4d47-ac1e-062cc8bfc0ff\",\"type\":\"Rect\"},\"hover_glyph\":null,\"nonselection_glyph\":null,\"selection_glyph\":null},\"id\":\"bda7ff25-9b7d-4721-856b-c5e289a4e2c2\",\"type\":\"GlyphRenderer\"},{\"attributes\":{\"plot\":{\"id\":\"aeea16dd-5371-459a-a667-52a7097382e7\",\"subtype\":\"Chart\",\"type\":\"Plot\"}},\"id\":\"0b750cf2-98e7-4e07-9b12-84b7e8ca3e97\",\"type\":\"WheelZoomTool\"},{\"attributes\":{\"fill_alpha\":{\"field\":\"fill_alpha\"},\"fill_color\":{\"field\":\"color\"},\"height\":{\"field\":\"height\",\"units\":\"data\"},\"line_color\":{\"field\":\"line_color\"},\"width\":{\"field\":\"width\",\"units\":\"data\"},\"x\":{\"field\":\"x\"},\"y\":{\"field\":\"y\"}},\"id\":\"07a45b0b-2eed-4ec5-9357-32dea0917dc4\",\"type\":\"Rect\"},{\"attributes\":{},\"id\":\"7b3038fc-cacc-4c4d-8ae9-c86129292abf\",\"type\":\"CategoricalTickFormatter\"},{\"attributes\":{\"callback\":null,\"column_names\":[\"height\",\"fill_alpha\",\"width\",\"color\",\"line_color\",\"line_alpha\",\"y\",\"x\",\"label\"],\"data\":{\"QuestTags\":[\"numpy\"],\"chart_index\":[{\"QuestTags\":\"numpy\"}],\"color\":[\"#f22c40\"],\"fill_alpha\":[0.8],\"height\":[4.9544225999201155],\"label\":[{\"QuestTags\":\"numpy\"}],\"line_alpha\":[1.0],\"line_color\":[\"white\"],\"width\":[1.0],\"x\":[\"numpy\"],\"y\":[2.4772112999600577]}},\"id\":\"6574e429-81e7-4a23-a24e-49a59a659193\",\"type\":\"ColumnDataSource\"},{\"attributes\":{\"fill_alpha\":{\"field\":\"fill_alpha\"},\"fill_color\":{\"field\":\"color\"},\"height\":{\"field\":\"height\",\"units\":\"data\"},\"line_color\":{\"field\":\"line_color\"},\"width\":{\"field\":\"width\",\"units\":\"data\"},\"x\":{\"field\":\"x\"},\"y\":{\"field\":\"y\"}},\"id\":\"850e1d15-16ab-4cc7-a05e-a580ef991a28\",\"type\":\"Rect\"},{\"attributes\":{\"fill_alpha\":{\"field\":\"fill_alpha\"},\"fill_color\":{\"field\":\"color\"},\"height\":{\"field\":\"height\",\"units\":\"data\"},\"line_color\":{\"field\":\"line_color\"},\"width\":{\"field\":\"width\",\"units\":\"data\"},\"x\":{\"field\":\"x\"},\"y\":{\"field\":\"y\"}},\"id\":\"5b1c4c70-1873-48be-b715-4d3b77e79668\",\"type\":\"Rect\"},{\"attributes\":{\"data_source\":{\"id\":\"94f66826-f3b7-4718-8fd7-02b0d42f0293\",\"type\":\"ColumnDataSource\"},\"glyph\":{\"id\":\"9e763326-ea4d-4e02-b84b-ed2dc6d07071\",\"type\":\"Rect\"},\"hover_glyph\":null,\"nonselection_glyph\":null,\"selection_glyph\":null},\"id\":\"ec191524-cd1d-4f54-a549-2a45bb233aad\",\"type\":\"GlyphRenderer\"},{\"attributes\":{\"data_source\":{\"id\":\"5df8175d-42a2-4866-998b-95ac1e2498ab\",\"type\":\"ColumnDataSource\"},\"glyph\":{\"id\":\"1c15cba2-77fb-4c67-b29f-7e2281249c87\",\"type\":\"Rect\"},\"hover_glyph\":null,\"nonselection_glyph\":null,\"selection_glyph\":null},\"id\":\"313d39e3-4a51-4cad-835c-5cf963ffb1d7\",\"type\":\"GlyphRenderer\"},{\"attributes\":{\"axis_label\":\"Question Tags\",\"formatter\":{\"id\":\"7b3038fc-cacc-4c4d-8ae9-c86129292abf\",\"type\":\"CategoricalTickFormatter\"},\"major_label_orientation\":0.7853981633974483,\"plot\":{\"id\":\"aeea16dd-5371-459a-a667-52a7097382e7\",\"subtype\":\"Chart\",\"type\":\"Plot\"},\"ticker\":{\"id\":\"b526a455-110c-4895-8226-4cf834435f1e\",\"type\":\"CategoricalTicker\"}},\"id\":\"91545625-cf9e-494c-8a11-2b79d1b8b209\",\"type\":\"CategoricalAxis\"},{\"attributes\":{\"data_source\":{\"id\":\"80ab7346-6f70-49a6-b85e-9a44b9bb7a26\",\"type\":\"ColumnDataSource\"},\"glyph\":{\"id\":\"a6bb8bbe-0af3-4ad9-ac80-13df394523f1\",\"type\":\"Rect\"},\"hover_glyph\":null,\"nonselection_glyph\":null,\"selection_glyph\":null},\"id\":\"9e434a3a-c9dd-479f-933a-0af3c0a7ff6b\",\"type\":\"GlyphRenderer\"},{\"attributes\":{\"fill_alpha\":{\"field\":\"fill_alpha\"},\"fill_color\":{\"field\":\"color\"},\"height\":{\"field\":\"height\",\"units\":\"data\"},\"line_color\":{\"field\":\"line_color\"},\"width\":{\"field\":\"width\",\"units\":\"data\"},\"x\":{\"field\":\"x\"},\"y\":{\"field\":\"y\"}},\"id\":\"f198a886-7677-40c0-95e0-d5d53eef3573\",\"type\":\"Rect\"},{\"attributes\":{\"callback\":null,\"column_names\":[\"height\",\"fill_alpha\",\"width\",\"color\",\"line_color\",\"line_alpha\",\"y\",\"x\",\"label\"],\"data\":{\"QuestTags\":[\"github\"],\"chart_index\":[{\"QuestTags\":\"github\"}],\"color\":[\"#f22c40\"],\"fill_alpha\":[0.8],\"height\":[3.9832648338559906],\"label\":[{\"QuestTags\":\"github\"}],\"line_alpha\":[1.0],\"line_color\":[\"white\"],\"width\":[1.0],\"x\":[\"github\"],\"y\":[1.9916324169279953]}},\"id\":\"879fd601-67b6-4bc0-b16e-261644f200ee\",\"type\":\"ColumnDataSource\"},{\"attributes\":{\"callback\":null,\"column_names\":[\"height\",\"fill_alpha\",\"width\",\"color\",\"line_color\",\"line_alpha\",\"y\",\"x\",\"label\"],\"data\":{\"QuestTags\":[\"ubuntu\"],\"chart_index\":[{\"QuestTags\":\"ubuntu\"}],\"color\":[\"#f22c40\"],\"fill_alpha\":[0.8],\"height\":[2.3193027007518277],\"label\":[{\"QuestTags\":\"ubuntu\"}],\"line_alpha\":[1.0],\"line_color\":[\"white\"],\"width\":[1.0],\"x\":[\"ubuntu\"],\"y\":[1.1596513503759138]}},\"id\":\"5ea536b8-afd1-40c5-babb-1fc611273e9f\",\"type\":\"ColumnDataSource\"},{\"attributes\":{\"fill_alpha\":{\"field\":\"fill_alpha\"},\"fill_color\":{\"field\":\"color\"},\"height\":{\"field\":\"height\",\"units\":\"data\"},\"line_color\":{\"field\":\"line_color\"},\"width\":{\"field\":\"width\",\"units\":\"data\"},\"x\":{\"field\":\"x\"},\"y\":{\"field\":\"y\"}},\"id\":\"a57cb53a-da83-44ac-bafc-d5f4eefaf4ed\",\"type\":\"Rect\"},{\"attributes\":{\"callback\":null,\"column_names\":[\"height\",\"fill_alpha\",\"width\",\"color\",\"line_color\",\"line_alpha\",\"y\",\"x\",\"label\"],\"data\":{\"QuestTags\":[\"spring-mvc\"],\"chart_index\":[{\"QuestTags\":\"spring-mvc\"}],\"color\":[\"#f22c40\"],\"fill_alpha\":[0.8],\"height\":[3.666989511583396],\"label\":[{\"QuestTags\":\"spring-mvc\"}],\"line_alpha\":[1.0],\"line_color\":[\"white\"],\"width\":[1.0],\"x\":[\"spring-mvc\"],\"y\":[1.833494755791698]}},\"id\":\"9c5e46c7-5da8-421d-944a-aa90d3bfa966\",\"type\":\"ColumnDataSource\"},{\"attributes\":{\"fill_alpha\":{\"field\":\"fill_alpha\"},\"fill_color\":{\"field\":\"color\"},\"height\":{\"field\":\"height\",\"units\":\"data\"},\"line_color\":{\"field\":\"line_color\"},\"width\":{\"field\":\"width\",\"units\":\"data\"},\"x\":{\"field\":\"x\"},\"y\":{\"field\":\"y\"}},\"id\":\"af3092f8-1a62-4731-988f-baf941b76150\",\"type\":\"Rect\"},{\"attributes\":{\"callback\":null,\"column_names\":[\"height\",\"fill_alpha\",\"width\",\"color\",\"line_color\",\"line_alpha\",\"y\",\"x\",\"label\"],\"data\":{\"QuestTags\":[\"r\"],\"chart_index\":[{\"QuestTags\":\"r\"}],\"color\":[\"#f22c40\"],\"fill_alpha\":[0.8],\"height\":[17.40254404155951],\"label\":[{\"QuestTags\":\"r\"}],\"line_alpha\":[1.0],\"line_color\":[\"white\"],\"width\":[1.0],\"x\":[\"r\"],\"y\":[8.701272020779754]}},\"id\":\"80ab7346-6f70-49a6-b85e-9a44b9bb7a26\",\"type\":\"ColumnDataSource\"},{\"attributes\":{\"fill_alpha\":{\"field\":\"fill_alpha\"},\"fill_color\":{\"field\":\"color\"},\"height\":{\"field\":\"height\",\"units\":\"data\"},\"line_color\":{\"field\":\"line_color\"},\"width\":{\"field\":\"width\",\"units\":\"data\"},\"x\":{\"field\":\"x\"},\"y\":{\"field\":\"y\"}},\"id\":\"1e83728d-1a86-462f-97f1-1b3809692324\",\"type\":\"Rect\"},{\"attributes\":{\"callback\":null,\"column_names\":[\"height\",\"fill_alpha\",\"width\",\"color\",\"line_color\",\"line_alpha\",\"y\",\"x\",\"label\"],\"data\":{\"QuestTags\":[\"ios\"],\"chart_index\":[{\"QuestTags\":\"ios\"}],\"color\":[\"#f22c40\"],\"fill_alpha\":[0.8],\"height\":[28.32248296539159],\"label\":[{\"QuestTags\":\"ios\"}],\"line_alpha\":[1.0],\"line_color\":[\"white\"],\"width\":[1.0],\"x\":[\"ios\"],\"y\":[14.161241482695795]}},\"id\":\"b2f42f7b-c145-43e6-9350-0079c1b70785\",\"type\":\"ColumnDataSource\"},{\"attributes\":{\"callback\":null,\"column_names\":[\"height\",\"fill_alpha\",\"width\",\"color\",\"line_color\",\"line_alpha\",\"y\",\"x\",\"label\"],\"data\":{\"QuestTags\":[\"amazon-web-services\"],\"chart_index\":[{\"QuestTags\":\"amazon-web-services\"}],\"color\":[\"#f22c40\"],\"fill_alpha\":[0.8],\"height\":[7.718250154831841],\"label\":[{\"QuestTags\":\"amazon-web-services\"}],\"line_alpha\":[1.0],\"line_color\":[\"white\"],\"width\":[1.0],\"x\":[\"amazon-web-services\"],\"y\":[3.8591250774159205]}},\"id\":\"94f66826-f3b7-4718-8fd7-02b0d42f0293\",\"type\":\"ColumnDataSource\"},{\"attributes\":{\"below\":[{\"id\":\"91545625-cf9e-494c-8a11-2b79d1b8b209\",\"type\":\"CategoricalAxis\"}],\"left\":[{\"id\":\"4c9e5a71-cd7f-404e-8087-2b2cd0e153bd\",\"type\":\"LinearAxis\"}],\"renderers\":[{\"id\":\"e8653935-7969-49fe-a76f-974925837b5f\",\"type\":\"BoxAnnotation\"},{\"id\":\"84bd3cf2-8a04-4df5-909e-139b690a447b\",\"type\":\"GlyphRenderer\"},{\"id\":\"9e434a3a-c9dd-479f-933a-0af3c0a7ff6b\",\"type\":\"GlyphRenderer\"},{\"id\":\"2d938503-67c7-49ea-ad84-d7140869f18c\",\"type\":\"GlyphRenderer\"},{\"id\":\"5e15717d-72ba-4a8d-bb7f-caf9851f07b5\",\"type\":\"GlyphRenderer\"},{\"id\":\"8c18bd38-ab04-410f-967e-1bce254fc50f\",\"type\":\"GlyphRenderer\"},{\"id\":\"f22a2e1f-5aba-4837-a446-461c00805eba\",\"type\":\"GlyphRenderer\"},{\"id\":\"ec191524-cd1d-4f54-a549-2a45bb233aad\",\"type\":\"GlyphRenderer\"},{\"id\":\"5c66bae5-8c79-4c0a-a3a5-9765fbd198f9\",\"type\":\"GlyphRenderer\"},{\"id\":\"fdd04e17-ec04-4c79-9d87-71eebf9e149a\",\"type\":\"GlyphRenderer\"},{\"id\":\"94fda23b-577f-43df-9283-8d0b859d36a7\",\"type\":\"GlyphRenderer\"},{\"id\":\"bda7ff25-9b7d-4721-856b-c5e289a4e2c2\",\"type\":\"GlyphRenderer\"},{\"id\":\"4491528e-f71a-4890-8aff-b106f3bdc449\",\"type\":\"GlyphRenderer\"},{\"id\":\"6f9a21a5-157a-4c64-9e79-5af9eca0988a\",\"type\":\"GlyphRenderer\"},{\"id\":\"186b9dec-384f-41d7-bb2f-3b15bc69a27b\",\"type\":\"GlyphRenderer\"},{\"id\":\"9d331d81-f21f-4296-85f6-53cabfc85aeb\",\"type\":\"GlyphRenderer\"},{\"id\":\"9bdf095d-68de-4b64-a55b-b5dd281dbd12\",\"type\":\"GlyphRenderer\"},{\"id\":\"929dfd14-d9e6-4606-b213-e24389a2f92d\",\"type\":\"GlyphRenderer\"},{\"id\":\"7496f6c0-aaaa-4b66-8f57-166b76f26c9f\",\"type\":\"GlyphRenderer\"},{\"id\":\"bc605cbe-f3d4-474b-a2ef-66890cf4447c\",\"type\":\"GlyphRenderer\"},{\"id\":\"c8230ce3-d897-4606-a156-1b8d6743eba8\",\"type\":\"GlyphRenderer\"},{\"id\":\"477f9461-15dc-471d-ab77-00564e603225\",\"type\":\"GlyphRenderer\"},{\"id\":\"89bbd3dc-101a-487f-be8e-fa41031ff396\",\"type\":\"GlyphRenderer\"},{\"id\":\"f444b6e7-f0d7-4ec2-a1d2-2a6ec4cd4529\",\"type\":\"GlyphRenderer\"},{\"id\":\"313d39e3-4a51-4cad-835c-5cf963ffb1d7\",\"type\":\"GlyphRenderer\"},{\"id\":\"697a3abc-b133-4e20-837a-0485e6b32106\",\"type\":\"GlyphRenderer\"},{\"id\":\"6dca39a4-a383-4ae8-916d-423c5758ae2a\",\"type\":\"GlyphRenderer\"},{\"id\":\"54d55067-a6bf-449f-8557-ad6a754d0540\",\"type\":\"GlyphRenderer\"},{\"id\":\"0c18085a-9722-4996-adf5-e67db5ffc93e\",\"type\":\"GlyphRenderer\"},{\"id\":\"c1919cec-2731-43ab-b36b-e77975eb5275\",\"type\":\"GlyphRenderer\"},{\"id\":\"16d8c351-f321-42a4-9a46-020cc7dec874\",\"type\":\"GlyphRenderer\"},{\"id\":\"91545625-cf9e-494c-8a11-2b79d1b8b209\",\"type\":\"CategoricalAxis\"},{\"id\":\"4c9e5a71-cd7f-404e-8087-2b2cd0e153bd\",\"type\":\"LinearAxis\"},{\"id\":\"d08c5eed-3ccb-47de-b08c-0d3f6e29e0d4\",\"type\":\"Grid\"}],\"title\":{\"id\":\"661aa744-3025-4df0-b4a8-a031f06fbca3\",\"type\":\"Title\"},\"tool_events\":{\"id\":\"e357bc30-6eda-4500-bfe3-8f113a308cde\",\"type\":\"ToolEvents\"},\"toolbar\":{\"id\":\"8a6409bd-85d9-4222-8de5-8cba474fe466\",\"type\":\"Toolbar\"},\"x_mapper_type\":\"auto\",\"x_range\":{\"id\":\"f2300727-5769-45f0-a57f-802a0e0151cd\",\"type\":\"FactorRange\"},\"y_mapper_type\":\"auto\",\"y_range\":{\"id\":\"a093fb59-145d-4a64-bd03-32969abe8492\",\"type\":\"Range1d\"}},\"id\":\"aeea16dd-5371-459a-a667-52a7097382e7\",\"subtype\":\"Chart\",\"type\":\"Plot\"},{\"attributes\":{\"fill_alpha\":{\"field\":\"fill_alpha\"},\"fill_color\":{\"field\":\"color\"},\"height\":{\"field\":\"height\",\"units\":\"data\"},\"line_color\":{\"field\":\"line_color\"},\"width\":{\"field\":\"width\",\"units\":\"data\"},\"x\":{\"field\":\"x\"},\"y\":{\"field\":\"y\"}},\"id\":\"fb2e6661-4ca8-4eb7-a028-3f44db1146c2\",\"type\":\"Rect\"},{\"attributes\":{\"callback\":null,\"column_names\":[\"height\",\"fill_alpha\",\"width\",\"color\",\"line_color\",\"line_alpha\",\"y\",\"x\",\"label\"],\"data\":{\"QuestTags\":[\"python-3.x\"],\"chart_index\":[{\"QuestTags\":\"python-3.x\"}],\"color\":[\"#f22c40\"],\"fill_alpha\":[0.8],\"height\":[8.238260962092479],\"label\":[{\"QuestTags\":\"python-3.x\"}],\"line_alpha\":[1.0],\"line_color\":[\"white\"],\"width\":[1.0],\"x\":[\"python-3.x\"],\"y\":[4.1191304810462395]}},\"id\":\"23d4ffd0-fa2c-43f4-b9e9-ce660f919c3b\",\"type\":\"ColumnDataSource\"},{\"attributes\":{\"plot\":{\"id\":\"aeea16dd-5371-459a-a667-52a7097382e7\",\"subtype\":\"Chart\",\"type\":\"Plot\"}},\"id\":\"3f9ff777-7449-4db1-a510-aaada70fa642\",\"type\":\"PanTool\"},{\"attributes\":{\"fill_alpha\":{\"field\":\"fill_alpha\"},\"fill_color\":{\"field\":\"color\"},\"height\":{\"field\":\"height\",\"units\":\"data\"},\"line_color\":{\"field\":\"line_color\"},\"width\":{\"field\":\"width\",\"units\":\"data\"},\"x\":{\"field\":\"x\"},\"y\":{\"field\":\"y\"}},\"id\":\"a6bb8bbe-0af3-4ad9-ac80-13df394523f1\",\"type\":\"Rect\"},{\"attributes\":{\"fill_alpha\":{\"field\":\"fill_alpha\"},\"fill_color\":{\"field\":\"color\"},\"height\":{\"field\":\"height\",\"units\":\"data\"},\"line_color\":{\"field\":\"line_color\"},\"width\":{\"field\":\"width\",\"units\":\"data\"},\"x\":{\"field\":\"x\"},\"y\":{\"field\":\"y\"}},\"id\":\"22838773-7f61-43c8-aa3b-5f05cce78b60\",\"type\":\"Rect\"},{\"attributes\":{\"fill_alpha\":{\"field\":\"fill_alpha\"},\"fill_color\":{\"field\":\"color\"},\"height\":{\"field\":\"height\",\"units\":\"data\"},\"line_color\":{\"field\":\"line_color\"},\"width\":{\"field\":\"width\",\"units\":\"data\"},\"x\":{\"field\":\"x\"},\"y\":{\"field\":\"y\"}},\"id\":\"50134651-fa42-4e12-a271-035696b18ce3\",\"type\":\"Rect\"},{\"attributes\":{\"data_source\":{\"id\":\"996830bd-579b-40b7-b84d-51801d81c754\",\"type\":\"ColumnDataSource\"},\"glyph\":{\"id\":\"f4ea6d20-4a5b-4a4e-ba1f-6aa09c140b5b\",\"type\":\"Rect\"},\"hover_glyph\":null,\"nonselection_glyph\":null,\"selection_glyph\":null},\"id\":\"186b9dec-384f-41d7-bb2f-3b15bc69a27b\",\"type\":\"GlyphRenderer\"},{\"attributes\":{\"data_source\":{\"id\":\"cbfe8d06-93f4-498e-b671-daf4b7ea5e4a\",\"type\":\"ColumnDataSource\"},\"glyph\":{\"id\":\"992be03f-5990-42f7-b68b-2c468dfb34f9\",\"type\":\"Rect\"},\"hover_glyph\":null,\"nonselection_glyph\":null,\"selection_glyph\":null},\"id\":\"94fda23b-577f-43df-9283-8d0b859d36a7\",\"type\":\"GlyphRenderer\"},{\"attributes\":{},\"id\":\"3fe3249a-ef08-4d04-9ed3-9c503c1ad216\",\"type\":\"BasicTicker\"},{\"attributes\":{\"plot\":{\"id\":\"aeea16dd-5371-459a-a667-52a7097382e7\",\"subtype\":\"Chart\",\"type\":\"Plot\"}},\"id\":\"f7a4081f-ddfb-42da-9517-2e085c3b3690\",\"type\":\"SaveTool\"},{\"attributes\":{\"fill_alpha\":{\"field\":\"fill_alpha\"},\"fill_color\":{\"field\":\"color\"},\"height\":{\"field\":\"height\",\"units\":\"data\"},\"line_color\":{\"field\":\"line_color\"},\"width\":{\"field\":\"width\",\"units\":\"data\"},\"x\":{\"field\":\"x\"},\"y\":{\"field\":\"y\"}},\"id\":\"47c7773d-69d8-468f-a9f5-5d91705cdc9d\",\"type\":\"Rect\"},{\"attributes\":{\"fill_alpha\":{\"field\":\"fill_alpha\"},\"fill_color\":{\"field\":\"color\"},\"height\":{\"field\":\"height\",\"units\":\"data\"},\"line_color\":{\"field\":\"line_color\"},\"width\":{\"field\":\"width\",\"units\":\"data\"},\"x\":{\"field\":\"x\"},\"y\":{\"field\":\"y\"}},\"id\":\"e0fcb5bd-e9fe-43e0-87fd-12a0875f8b86\",\"type\":\"Rect\"},{\"attributes\":{\"callback\":null,\"column_names\":[\"height\",\"fill_alpha\",\"width\",\"color\",\"line_color\",\"line_alpha\",\"y\",\"x\",\"label\"],\"data\":{\"QuestTags\":[\"tkinter\"],\"chart_index\":[{\"QuestTags\":\"tkinter\"}],\"color\":[\"#f22c40\"],\"fill_alpha\":[0.8],\"height\":[2.995017893404878],\"label\":[{\"QuestTags\":\"tkinter\"}],\"line_alpha\":[1.0],\"line_color\":[\"white\"],\"width\":[1.0],\"x\":[\"tkinter\"],\"y\":[1.497508946702439]}},\"id\":\"aad85843-d9c9-474b-a821-4c1d0c65d8dc\",\"type\":\"ColumnDataSource\"},{\"attributes\":{\"plot\":{\"id\":\"aeea16dd-5371-459a-a667-52a7097382e7\",\"subtype\":\"Chart\",\"type\":\"Plot\"}},\"id\":\"66b2215f-e109-4116-8a9a-065dd3e14c99\",\"type\":\"HelpTool\"},{\"attributes\":{\"data_source\":{\"id\":\"72af6709-f18b-4b94-9e26-a758e86ef26d\",\"type\":\"ColumnDataSource\"},\"glyph\":{\"id\":\"1bf1526d-388f-4934-b35b-3e050db23dca\",\"type\":\"Rect\"},\"hover_glyph\":null,\"nonselection_glyph\":null,\"selection_glyph\":null},\"id\":\"c1919cec-2731-43ab-b36b-e77975eb5275\",\"type\":\"GlyphRenderer\"},{\"attributes\":{\"callback\":null,\"column_names\":[\"height\",\"fill_alpha\",\"width\",\"color\",\"line_color\",\"line_alpha\",\"y\",\"x\",\"label\"],\"data\":{\"QuestTags\":[\"nginx\"],\"chart_index\":[{\"QuestTags\":\"nginx\"}],\"color\":[\"#f22c40\"],\"fill_alpha\":[0.8],\"height\":[4.819556683136321],\"label\":[{\"QuestTags\":\"nginx\"}],\"line_alpha\":[1.0],\"line_color\":[\"white\"],\"width\":[1.0],\"x\":[\"nginx\"],\"y\":[2.4097783415681606]}},\"id\":\"07920158-7497-486f-986c-9f10b3fefd00\",\"type\":\"ColumnDataSource\"},{\"attributes\":{\"fill_alpha\":{\"field\":\"fill_alpha\"},\"fill_color\":{\"field\":\"color\"},\"height\":{\"field\":\"height\",\"units\":\"data\"},\"line_color\":{\"field\":\"line_color\"},\"width\":{\"field\":\"width\",\"units\":\"data\"},\"x\":{\"field\":\"x\"},\"y\":{\"field\":\"y\"}},\"id\":\"3e3bb354-ae13-40e8-b6f6-affca5c2fc40\",\"type\":\"Rect\"},{\"attributes\":{\"fill_alpha\":{\"field\":\"fill_alpha\"},\"fill_color\":{\"field\":\"color\"},\"height\":{\"field\":\"height\",\"units\":\"data\"},\"line_color\":{\"field\":\"line_color\"},\"width\":{\"field\":\"width\",\"units\":\"data\"},\"x\":{\"field\":\"x\"},\"y\":{\"field\":\"y\"}},\"id\":\"90246651-2823-4238-9c32-9bc8f368f8fd\",\"type\":\"Rect\"},{\"attributes\":{\"callback\":null,\"factors\":[\"amazon-ec2\",\"amazon-web-services\",\"android\",\"arraylist\",\"azure\",\"c++11\",\"codeigniter\",\"ffmpeg\",\"for-loop\",\"github\",\"google-chrome\",\"html5\",\"intellij-idea\",\"ios\",\"javafx\",\"json\",\"magento\",\"matlab\",\"nginx\",\"numpy\",\"paypal\",\"python-3.x\",\"r\",\"scala\",\"selenium\",\"spring-mvc\",\"svg\",\"tkinter\",\"ubuntu\",\"wordpress\"]},\"id\":\"f2300727-5769-45f0-a57f-802a0e0151cd\",\"type\":\"FactorRange\"},{\"attributes\":{\"callback\":null,\"column_names\":[\"height\",\"fill_alpha\",\"width\",\"color\",\"line_color\",\"line_alpha\",\"y\",\"x\",\"label\"],\"data\":{\"QuestTags\":[\"svg\"],\"chart_index\":[{\"QuestTags\":\"svg\"}],\"color\":[\"#f22c40\"],\"fill_alpha\":[0.8],\"height\":[3.346705917651202],\"label\":[{\"QuestTags\":\"svg\"}],\"line_alpha\":[1.0],\"line_color\":[\"white\"],\"width\":[1.0],\"x\":[\"svg\"],\"y\":[1.673352958825601]}},\"id\":\"5aa35146-5a79-4f8d-93ba-54d7c84936af\",\"type\":\"ColumnDataSource\"},{\"attributes\":{\"fill_alpha\":{\"field\":\"fill_alpha\"},\"fill_color\":{\"field\":\"color\"},\"height\":{\"field\":\"height\",\"units\":\"data\"},\"line_color\":{\"field\":\"line_color\"},\"width\":{\"field\":\"width\",\"units\":\"data\"},\"x\":{\"field\":\"x\"},\"y\":{\"field\":\"y\"}},\"id\":\"9e763326-ea4d-4e02-b84b-ed2dc6d07071\",\"type\":\"Rect\"},{\"attributes\":{},\"id\":\"b526a455-110c-4895-8226-4cf834435f1e\",\"type\":\"CategoricalTicker\"},{\"attributes\":{\"callback\":null,\"column_names\":[\"height\",\"fill_alpha\",\"width\",\"color\",\"line_color\",\"line_alpha\",\"y\",\"x\",\"label\"],\"data\":{\"QuestTags\":[\"html5\"],\"chart_index\":[{\"QuestTags\":\"html5\"}],\"color\":[\"#f22c40\"],\"fill_alpha\":[0.8],\"height\":[13.044530128635655],\"label\":[{\"QuestTags\":\"html5\"}],\"line_alpha\":[1.0],\"line_color\":[\"white\"],\"width\":[1.0],\"x\":[\"html5\"],\"y\":[6.5222650643178275]}},\"id\":\"7a84427f-92b9-4c0a-9987-d44b42c28b35\",\"type\":\"ColumnDataSource\"},{\"attributes\":{\"callback\":null,\"column_names\":[\"height\",\"fill_alpha\",\"width\",\"color\",\"line_color\",\"line_alpha\",\"y\",\"x\",\"label\"],\"data\":{\"QuestTags\":[\"codeigniter\"],\"chart_index\":[{\"QuestTags\":\"codeigniter\"}],\"color\":[\"#f22c40\"],\"fill_alpha\":[0.8],\"height\":[2.519919896951114],\"label\":[{\"QuestTags\":\"codeigniter\"}],\"line_alpha\":[1.0],\"line_color\":[\"white\"],\"width\":[1.0],\"x\":[\"codeigniter\"],\"y\":[1.259959948475557]}},\"id\":\"21c7242d-9521-4fb1-93e5-aab81c7bcb6c\",\"type\":\"ColumnDataSource\"},{\"attributes\":{\"fill_alpha\":{\"field\":\"fill_alpha\"},\"fill_color\":{\"field\":\"color\"},\"height\":{\"field\":\"height\",\"units\":\"data\"},\"line_color\":{\"field\":\"line_color\"},\"width\":{\"field\":\"width\",\"units\":\"data\"},\"x\":{\"field\":\"x\"},\"y\":{\"field\":\"y\"}},\"id\":\"d7ca819a-69a3-4f52-bad6-b25d48244b10\",\"type\":\"Rect\"},{\"attributes\":{\"data_source\":{\"id\":\"312cd2a5-662b-44c5-a52a-a6d8eb2143bd\",\"type\":\"ColumnDataSource\"},\"glyph\":{\"id\":\"f198a886-7677-40c0-95e0-d5d53eef3573\",\"type\":\"Rect\"},\"hover_glyph\":null,\"nonselection_glyph\":null,\"selection_glyph\":null},\"id\":\"fdd04e17-ec04-4c79-9d87-71eebf9e149a\",\"type\":\"GlyphRenderer\"},{\"attributes\":{\"active_drag\":\"auto\",\"active_scroll\":\"auto\",\"active_tap\":\"auto\",\"tools\":[{\"id\":\"3f9ff777-7449-4db1-a510-aaada70fa642\",\"type\":\"PanTool\"},{\"id\":\"0b750cf2-98e7-4e07-9b12-84b7e8ca3e97\",\"type\":\"WheelZoomTool\"},{\"id\":\"3ec93d45-3c7d-46f0-941f-c1907df0a92b\",\"type\":\"BoxZoomTool\"},{\"id\":\"f7a4081f-ddfb-42da-9517-2e085c3b3690\",\"type\":\"SaveTool\"},{\"id\":\"c63d5a95-81e0-4e52-b34e-e236d60f8ac6\",\"type\":\"ResetTool\"},{\"id\":\"66b2215f-e109-4116-8a9a-065dd3e14c99\",\"type\":\"HelpTool\"}]},\"id\":\"8a6409bd-85d9-4222-8de5-8cba474fe466\",\"type\":\"Toolbar\"},{\"attributes\":{\"bottom_units\":\"screen\",\"fill_alpha\":{\"value\":0.5},\"fill_color\":{\"value\":\"lightgrey\"},\"left_units\":\"screen\",\"level\":\"overlay\",\"line_alpha\":{\"value\":1.0},\"line_color\":{\"value\":\"black\"},\"line_dash\":[4,4],\"line_width\":{\"value\":2},\"plot\":null,\"render_mode\":\"css\",\"right_units\":\"screen\",\"top_units\":\"screen\"},\"id\":\"e8653935-7969-49fe-a76f-974925837b5f\",\"type\":\"BoxAnnotation\"},{\"attributes\":{\"fill_alpha\":{\"field\":\"fill_alpha\"},\"fill_color\":{\"field\":\"color\"},\"height\":{\"field\":\"height\",\"units\":\"data\"},\"line_color\":{\"field\":\"line_color\"},\"width\":{\"field\":\"width\",\"units\":\"data\"},\"x\":{\"field\":\"x\"},\"y\":{\"field\":\"y\"}},\"id\":\"5b880246-41a9-42bc-b6c9-5ff750cc37b2\",\"type\":\"Rect\"},{\"attributes\":{\"dimension\":1,\"plot\":{\"id\":\"aeea16dd-5371-459a-a667-52a7097382e7\",\"subtype\":\"Chart\",\"type\":\"Plot\"},\"ticker\":{\"id\":\"3fe3249a-ef08-4d04-9ed3-9c503c1ad216\",\"type\":\"BasicTicker\"}},\"id\":\"d08c5eed-3ccb-47de-b08c-0d3f6e29e0d4\",\"type\":\"Grid\"},{\"attributes\":{\"fill_alpha\":{\"field\":\"fill_alpha\"},\"fill_color\":{\"field\":\"color\"},\"height\":{\"field\":\"height\",\"units\":\"data\"},\"line_color\":{\"field\":\"line_color\"},\"width\":{\"field\":\"width\",\"units\":\"data\"},\"x\":{\"field\":\"x\"},\"y\":{\"field\":\"y\"}},\"id\":\"f4ea6d20-4a5b-4a4e-ba1f-6aa09c140b5b\",\"type\":\"Rect\"},{\"attributes\":{\"data_source\":{\"id\":\"388f6210-b0a4-469f-a300-9503d4cfc83a\",\"type\":\"ColumnDataSource\"},\"glyph\":{\"id\":\"850e1d15-16ab-4cc7-a05e-a580ef991a28\",\"type\":\"Rect\"},\"hover_glyph\":null,\"nonselection_glyph\":null,\"selection_glyph\":null},\"id\":\"5c66bae5-8c79-4c0a-a3a5-9765fbd198f9\",\"type\":\"GlyphRenderer\"},{\"attributes\":{\"data_source\":{\"id\":\"e7de489f-0089-4d07-843c-9b5dc9c6139a\",\"type\":\"ColumnDataSource\"},\"glyph\":{\"id\":\"e8d941d9-d6d6-457f-8d7e-313a019701f0\",\"type\":\"Rect\"},\"hover_glyph\":null,\"nonselection_glyph\":null,\"selection_glyph\":null},\"id\":\"8c18bd38-ab04-410f-967e-1bce254fc50f\",\"type\":\"GlyphRenderer\"},{\"attributes\":{\"callback\":null,\"column_names\":[\"height\",\"fill_alpha\",\"width\",\"color\",\"line_color\",\"line_alpha\",\"y\",\"x\",\"label\"],\"data\":{\"QuestTags\":[\"azure\"],\"chart_index\":[{\"QuestTags\":\"azure\"}],\"color\":[\"#f22c40\"],\"fill_alpha\":[0.8],\"height\":[9.839894248455254],\"label\":[{\"QuestTags\":\"azure\"}],\"line_alpha\":[1.0],\"line_color\":[\"white\"],\"width\":[1.0],\"x\":[\"azure\"],\"y\":[4.919947124227627]}},\"id\":\"e7de489f-0089-4d07-843c-9b5dc9c6139a\",\"type\":\"ColumnDataSource\"},{\"attributes\":{\"data_source\":{\"id\":\"4ee9f731-4580-4018-829a-248d94d47fc4\",\"type\":\"ColumnDataSource\"},\"glyph\":{\"id\":\"5421e33e-6120-4872-a1de-0c8e8af1d83c\",\"type\":\"Rect\"},\"hover_glyph\":null,\"nonselection_glyph\":null,\"selection_glyph\":null},\"id\":\"2d938503-67c7-49ea-ad84-d7140869f18c\",\"type\":\"GlyphRenderer\"},{\"attributes\":{\"callback\":null,\"column_names\":[\"height\",\"fill_alpha\",\"width\",\"color\",\"line_color\",\"line_alpha\",\"y\",\"x\",\"label\"],\"data\":{\"QuestTags\":[\"intellij-idea\"],\"chart_index\":[{\"QuestTags\":\"intellij-idea\"}],\"color\":[\"#f22c40\"],\"fill_alpha\":[0.8],\"height\":[4.519526205250182],\"label\":[{\"QuestTags\":\"intellij-idea\"}],\"line_alpha\":[1.0],\"line_color\":[\"white\"],\"width\":[1.0],\"x\":[\"intellij-idea\"],\"y\":[2.259763102625091]}},\"id\":\"996830bd-579b-40b7-b84d-51801d81c754\",\"type\":\"ColumnDataSource\"},{\"attributes\":{\"data_source\":{\"id\":\"9c5e46c7-5da8-421d-944a-aa90d3bfa966\",\"type\":\"ColumnDataSource\"},\"glyph\":{\"id\":\"5b1c4c70-1873-48be-b715-4d3b77e79668\",\"type\":\"Rect\"},\"hover_glyph\":null,\"nonselection_glyph\":null,\"selection_glyph\":null},\"id\":\"bc605cbe-f3d4-474b-a2ef-66890cf4447c\",\"type\":\"GlyphRenderer\"},{\"attributes\":{\"callback\":null,\"column_names\":[\"height\",\"fill_alpha\",\"width\",\"color\",\"line_color\",\"line_alpha\",\"y\",\"x\",\"label\"],\"data\":{\"QuestTags\":[\"amazon-ec2\"],\"chart_index\":[{\"QuestTags\":\"amazon-ec2\"}],\"color\":[\"#f22c40\"],\"fill_alpha\":[0.8],\"height\":[2.5693280989902765],\"label\":[{\"QuestTags\":\"amazon-ec2\"}],\"line_alpha\":[1.0],\"line_color\":[\"white\"],\"width\":[1.0],\"x\":[\"amazon-ec2\"],\"y\":[1.2846640494951382]}},\"id\":\"fcc7f44a-b053-4dad-9a24-fb20fae8c65e\",\"type\":\"ColumnDataSource\"},{\"attributes\":{\"data_source\":{\"id\":\"b2f42f7b-c145-43e6-9350-0079c1b70785\",\"type\":\"ColumnDataSource\"},\"glyph\":{\"id\":\"83d46fe5-ed2c-4353-8722-1b9b22540667\",\"type\":\"Rect\"},\"hover_glyph\":null,\"nonselection_glyph\":null,\"selection_glyph\":null},\"id\":\"84bd3cf2-8a04-4df5-909e-139b690a447b\",\"type\":\"GlyphRenderer\"},{\"attributes\":{\"callback\":null,\"column_names\":[\"height\",\"fill_alpha\",\"width\",\"color\",\"line_color\",\"line_alpha\",\"y\",\"x\",\"label\"],\"data\":{\"QuestTags\":[\"google-chrome\"],\"chart_index\":[{\"QuestTags\":\"google-chrome\"}],\"color\":[\"#f22c40\"],\"fill_alpha\":[0.8],\"height\":[5.899407756562727],\"label\":[{\"QuestTags\":\"google-chrome\"}],\"line_alpha\":[1.0],\"line_color\":[\"white\"],\"width\":[1.0],\"x\":[\"google-chrome\"],\"y\":[2.9497038782813636]}},\"id\":\"cbfe8d06-93f4-498e-b671-daf4b7ea5e4a\",\"type\":\"ColumnDataSource\"},{\"attributes\":{\"callback\":null,\"column_names\":[\"height\",\"fill_alpha\",\"width\",\"color\",\"line_color\",\"line_alpha\",\"y\",\"x\",\"label\"],\"data\":{\"QuestTags\":[\"c++11\"],\"chart_index\":[{\"QuestTags\":\"c++11\"}],\"color\":[\"#f22c40\"],\"fill_alpha\":[0.8],\"height\":[6.10330777960891],\"label\":[{\"QuestTags\":\"c++11\"}],\"line_alpha\":[1.0],\"line_color\":[\"white\"],\"width\":[1.0],\"x\":[\"c++11\"],\"y\":[3.051653889804455]}},\"id\":\"312cd2a5-662b-44c5-a52a-a6d8eb2143bd\",\"type\":\"ColumnDataSource\"},{\"attributes\":{\"data_source\":{\"id\":\"5ea536b8-afd1-40c5-babb-1fc611273e9f\",\"type\":\"ColumnDataSource\"},\"glyph\":{\"id\":\"90246651-2823-4238-9c32-9bc8f368f8fd\",\"type\":\"Rect\"},\"hover_glyph\":null,\"nonselection_glyph\":null,\"selection_glyph\":null},\"id\":\"0c18085a-9722-4996-adf5-e67db5ffc93e\",\"type\":\"GlyphRenderer\"},{\"attributes\":{\"callback\":null,\"end\":29.738607113661168},\"id\":\"a093fb59-145d-4a64-bd03-32969abe8492\",\"type\":\"Range1d\"},{\"attributes\":{\"callback\":null,\"column_names\":[\"height\",\"fill_alpha\",\"width\",\"color\",\"line_color\",\"line_alpha\",\"y\",\"x\",\"label\"],\"data\":{\"QuestTags\":[\"magento\"],\"chart_index\":[{\"QuestTags\":\"magento\"}],\"color\":[\"#f22c40\"],\"fill_alpha\":[0.8],\"height\":[2.295593395746457],\"label\":[{\"QuestTags\":\"magento\"}],\"line_alpha\":[1.0],\"line_color\":[\"white\"],\"width\":[1.0],\"x\":[\"magento\"],\"y\":[1.1477966978732286]}},\"id\":\"72af6709-f18b-4b94-9e26-a758e86ef26d\",\"type\":\"ColumnDataSource\"},{\"attributes\":{},\"id\":\"e357bc30-6eda-4500-bfe3-8f113a308cde\",\"type\":\"ToolEvents\"},{\"attributes\":{\"callback\":null,\"column_names\":[\"height\",\"fill_alpha\",\"width\",\"color\",\"line_color\",\"line_alpha\",\"y\",\"x\",\"label\"],\"data\":{\"QuestTags\":[\"wordpress\"],\"chart_index\":[{\"QuestTags\":\"wordpress\"}],\"color\":[\"#f22c40\"],\"fill_alpha\":[0.8],\"height\":[4.534429196967842],\"label\":[{\"QuestTags\":\"wordpress\"}],\"line_alpha\":[1.0],\"line_color\":[\"white\"],\"width\":[1.0],\"x\":[\"wordpress\"],\"y\":[2.267214598483921]}},\"id\":\"1ab549e9-df47-4f5d-a58c-46878e36fff7\",\"type\":\"ColumnDataSource\"},{\"attributes\":{\"data_source\":{\"id\":\"aad85843-d9c9-474b-a821-4c1d0c65d8dc\",\"type\":\"ColumnDataSource\"},\"glyph\":{\"id\":\"47c7773d-69d8-468f-a9f5-5d91705cdc9d\",\"type\":\"Rect\"},\"hover_glyph\":null,\"nonselection_glyph\":null,\"selection_glyph\":null},\"id\":\"f444b6e7-f0d7-4ec2-a1d2-2a6ec4cd4529\",\"type\":\"GlyphRenderer\"},{\"attributes\":{\"data_source\":{\"id\":\"07920158-7497-486f-986c-9f10b3fefd00\",\"type\":\"ColumnDataSource\"},\"glyph\":{\"id\":\"d7ca819a-69a3-4f52-bad6-b25d48244b10\",\"type\":\"Rect\"},\"hover_glyph\":null,\"nonselection_glyph\":null,\"selection_glyph\":null},\"id\":\"4491528e-f71a-4890-8aff-b106f3bdc449\",\"type\":\"GlyphRenderer\"},{\"attributes\":{\"data_source\":{\"id\":\"5aa35146-5a79-4f8d-93ba-54d7c84936af\",\"type\":\"ColumnDataSource\"},\"glyph\":{\"id\":\"6dcdfee3-2bef-49b9-a158-b1a1507e875e\",\"type\":\"Rect\"},\"hover_glyph\":null,\"nonselection_glyph\":null,\"selection_glyph\":null},\"id\":\"c8230ce3-d897-4606-a156-1b8d6743eba8\",\"type\":\"GlyphRenderer\"},{\"attributes\":{\"data_source\":{\"id\":\"f3edbe01-3a85-4dab-908c-bebaeec72118\",\"type\":\"ColumnDataSource\"},\"glyph\":{\"id\":\"a57cb53a-da83-44ac-bafc-d5f4eefaf4ed\",\"type\":\"Rect\"},\"hover_glyph\":null,\"nonselection_glyph\":null,\"selection_glyph\":null},\"id\":\"477f9461-15dc-471d-ab77-00564e603225\",\"type\":\"GlyphRenderer\"},{\"attributes\":{\"callback\":null,\"column_names\":[\"height\",\"fill_alpha\",\"width\",\"color\",\"line_color\",\"line_alpha\",\"y\",\"x\",\"label\"],\"data\":{\"QuestTags\":[\"scala\"],\"chart_index\":[{\"QuestTags\":\"scala\"}],\"color\":[\"#f22c40\"],\"fill_alpha\":[0.8],\"height\":[3.987129673543386],\"label\":[{\"QuestTags\":\"scala\"}],\"line_alpha\":[1.0],\"line_color\":[\"white\"],\"width\":[1.0],\"x\":[\"scala\"],\"y\":[1.993564836771693]}},\"id\":\"9ef32db0-4921-448b-8b23-333ce8ecc58f\",\"type\":\"ColumnDataSource\"},{\"attributes\":{\"fill_alpha\":{\"field\":\"fill_alpha\"},\"fill_color\":{\"field\":\"color\"},\"height\":{\"field\":\"height\",\"units\":\"data\"},\"line_color\":{\"field\":\"line_color\"},\"width\":{\"field\":\"width\",\"units\":\"data\"},\"x\":{\"field\":\"x\"},\"y\":{\"field\":\"y\"}},\"id\":\"1c15cba2-77fb-4c67-b29f-7e2281249c87\",\"type\":\"Rect\"},{\"attributes\":{\"data_source\":{\"id\":\"77cc3ea5-f4df-40fe-9dd8-718bd23696b9\",\"type\":\"ColumnDataSource\"},\"glyph\":{\"id\":\"25512843-0178-4678-929f-3f5df6ddb4ce\",\"type\":\"Rect\"},\"hover_glyph\":null,\"nonselection_glyph\":null,\"selection_glyph\":null},\"id\":\"16d8c351-f321-42a4-9a46-020cc7dec874\",\"type\":\"GlyphRenderer\"},{\"attributes\":{\"data_source\":{\"id\":\"22939c59-ef67-4614-8253-5b2a43b81c0f\",\"type\":\"ColumnDataSource\"},\"glyph\":{\"id\":\"22838773-7f61-43c8-aa3b-5f05cce78b60\",\"type\":\"Rect\"},\"hover_glyph\":null,\"nonselection_glyph\":null,\"selection_glyph\":null},\"id\":\"54d55067-a6bf-449f-8557-ad6a754d0540\",\"type\":\"GlyphRenderer\"},{\"attributes\":{\"plot\":null,\"text\":\"Percentage Increase of Tags Used from Oct'08-09 to Oct'15-16\"},\"id\":\"661aa744-3025-4df0-b4a8-a031f06fbca3\",\"type\":\"Title\"},{\"attributes\":{\"data_source\":{\"id\":\"879fd601-67b6-4bc0-b16e-261644f200ee\",\"type\":\"ColumnDataSource\"},\"glyph\":{\"id\":\"e0fcb5bd-e9fe-43e0-87fd-12a0875f8b86\",\"type\":\"Rect\"},\"hover_glyph\":null,\"nonselection_glyph\":null,\"selection_glyph\":null},\"id\":\"929dfd14-d9e6-4606-b213-e24389a2f92d\",\"type\":\"GlyphRenderer\"},{\"attributes\":{\"data_source\":{\"id\":\"23d4ffd0-fa2c-43f4-b9e9-ce660f919c3b\",\"type\":\"ColumnDataSource\"},\"glyph\":{\"id\":\"50134651-fa42-4e12-a271-035696b18ce3\",\"type\":\"Rect\"},\"hover_glyph\":null,\"nonselection_glyph\":null,\"selection_glyph\":null},\"id\":\"f22a2e1f-5aba-4837-a446-461c00805eba\",\"type\":\"GlyphRenderer\"},{\"attributes\":{\"callback\":null,\"column_names\":[\"height\",\"fill_alpha\",\"width\",\"color\",\"line_color\",\"line_alpha\",\"y\",\"x\",\"label\"],\"data\":{\"QuestTags\":[\"json\"],\"chart_index\":[{\"QuestTags\":\"json\"}],\"color\":[\"#f22c40\"],\"fill_alpha\":[0.8],\"height\":[2.675955493995003],\"label\":[{\"QuestTags\":\"json\"}],\"line_alpha\":[1.0],\"line_color\":[\"white\"],\"width\":[1.0],\"x\":[\"json\"],\"y\":[1.3379777469975016]}},\"id\":\"5df8175d-42a2-4866-998b-95ac1e2498ab\",\"type\":\"ColumnDataSource\"},{\"attributes\":{\"data_source\":{\"id\":\"1ab549e9-df47-4f5d-a58c-46878e36fff7\",\"type\":\"ColumnDataSource\"},\"glyph\":{\"id\":\"2229ebf8-b617-467c-a77c-3d8b780ace14\",\"type\":\"Rect\"},\"hover_glyph\":null,\"nonselection_glyph\":null,\"selection_glyph\":null},\"id\":\"6f9a21a5-157a-4c64-9e79-5af9eca0988a\",\"type\":\"GlyphRenderer\"},{\"attributes\":{\"data_source\":{\"id\":\"58c9e7bc-2da9-4041-812a-feb28e8a5eb4\",\"type\":\"ColumnDataSource\"},\"glyph\":{\"id\":\"3e3bb354-ae13-40e8-b6f6-affca5c2fc40\",\"type\":\"Rect\"},\"hover_glyph\":null,\"nonselection_glyph\":null,\"selection_glyph\":null},\"id\":\"9d331d81-f21f-4296-85f6-53cabfc85aeb\",\"type\":\"GlyphRenderer\"},{\"attributes\":{\"data_source\":{\"id\":\"fcc7f44a-b053-4dad-9a24-fb20fae8c65e\",\"type\":\"ColumnDataSource\"},\"glyph\":{\"id\":\"5b880246-41a9-42bc-b6c9-5ff750cc37b2\",\"type\":\"Rect\"},\"hover_glyph\":null,\"nonselection_glyph\":null,\"selection_glyph\":null},\"id\":\"697a3abc-b133-4e20-837a-0485e6b32106\",\"type\":\"GlyphRenderer\"},{\"attributes\":{\"data_source\":{\"id\":\"7a84427f-92b9-4c0a-9987-d44b42c28b35\",\"type\":\"ColumnDataSource\"},\"glyph\":{\"id\":\"07a45b0b-2eed-4ec5-9357-32dea0917dc4\",\"type\":\"Rect\"},\"hover_glyph\":null,\"nonselection_glyph\":null,\"selection_glyph\":null},\"id\":\"5e15717d-72ba-4a8d-bb7f-caf9851f07b5\",\"type\":\"GlyphRenderer\"},{\"attributes\":{\"callback\":null,\"column_names\":[\"height\",\"fill_alpha\",\"width\",\"color\",\"line_color\",\"line_alpha\",\"y\",\"x\",\"label\"],\"data\":{\"QuestTags\":[\"paypal\"],\"chart_index\":[{\"QuestTags\":\"paypal\"}],\"color\":[\"#f22c40\"],\"fill_alpha\":[0.8],\"height\":[3.0990753987062254],\"label\":[{\"QuestTags\":\"paypal\"}],\"line_alpha\":[1.0],\"line_color\":[\"white\"],\"width\":[1.0],\"x\":[\"paypal\"],\"y\":[1.5495376993531127]}},\"id\":\"3237a237-c403-48cc-8473-b8f1b33d9964\",\"type\":\"ColumnDataSource\"},{\"attributes\":{\"callback\":null,\"column_names\":[\"height\",\"fill_alpha\",\"width\",\"color\",\"line_color\",\"line_alpha\",\"y\",\"x\",\"label\"],\"data\":{\"QuestTags\":[\"android\"],\"chart_index\":[{\"QuestTags\":\"android\"}],\"color\":[\"#f22c40\"],\"fill_alpha\":[0.8],\"height\":[15.259410294410056],\"label\":[{\"QuestTags\":\"android\"}],\"line_alpha\":[1.0],\"line_color\":[\"white\"],\"width\":[1.0],\"x\":[\"android\"],\"y\":[7.629705147205028]}},\"id\":\"4ee9f731-4580-4018-829a-248d94d47fc4\",\"type\":\"ColumnDataSource\"},{\"attributes\":{\"callback\":null,\"column_names\":[\"height\",\"fill_alpha\",\"width\",\"color\",\"line_color\",\"line_alpha\",\"y\",\"x\",\"label\"],\"data\":{\"QuestTags\":[\"ffmpeg\"],\"chart_index\":[{\"QuestTags\":\"ffmpeg\"}],\"color\":[\"#f22c40\"],\"fill_alpha\":[0.8],\"height\":[2.4497038782813636],\"label\":[{\"QuestTags\":\"ffmpeg\"}],\"line_alpha\":[1.0],\"line_color\":[\"white\"],\"width\":[1.0],\"x\":[\"ffmpeg\"],\"y\":[1.2248519391406818]}},\"id\":\"22939c59-ef67-4614-8253-5b2a43b81c0f\",\"type\":\"ColumnDataSource\"},{\"attributes\":{\"callback\":null,\"column_names\":[\"height\",\"fill_alpha\",\"width\",\"color\",\"line_color\",\"line_alpha\",\"y\",\"x\",\"label\"],\"data\":{\"QuestTags\":[\"arraylist\"],\"chart_index\":[{\"QuestTags\":\"arraylist\"}],\"color\":[\"#f22c40\"],\"fill_alpha\":[0.8],\"height\":[2.1138220573719524],\"label\":[{\"QuestTags\":\"arraylist\"}],\"line_alpha\":[1.0],\"line_color\":[\"white\"],\"width\":[1.0],\"x\":[\"arraylist\"],\"y\":[1.0569110286859762]}},\"id\":\"77cc3ea5-f4df-40fe-9dd8-718bd23696b9\",\"type\":\"ColumnDataSource\"},{\"attributes\":{\"plot\":{\"id\":\"aeea16dd-5371-459a-a667-52a7097382e7\",\"subtype\":\"Chart\",\"type\":\"Plot\"}},\"id\":\"c63d5a95-81e0-4e52-b34e-e236d60f8ac6\",\"type\":\"ResetTool\"},{\"attributes\":{\"callback\":null,\"column_names\":[\"height\",\"fill_alpha\",\"width\",\"color\",\"line_color\",\"line_alpha\",\"y\",\"x\",\"label\"],\"data\":{\"QuestTags\":[\"javafx\"],\"chart_index\":[{\"QuestTags\":\"javafx\"}],\"color\":[\"#f22c40\"],\"fill_alpha\":[0.8],\"height\":[6.231338026637911],\"label\":[{\"QuestTags\":\"javafx\"}],\"line_alpha\":[1.0],\"line_color\":[\"white\"],\"width\":[1.0],\"x\":[\"javafx\"],\"y\":[3.1156690133189553]}},\"id\":\"388f6210-b0a4-469f-a300-9503d4cfc83a\",\"type\":\"ColumnDataSource\"},{\"attributes\":{\"data_source\":{\"id\":\"9ef32db0-4921-448b-8b23-333ce8ecc58f\",\"type\":\"ColumnDataSource\"},\"glyph\":{\"id\":\"1e83728d-1a86-462f-97f1-1b3809692324\",\"type\":\"Rect\"},\"hover_glyph\":null,\"nonselection_glyph\":null,\"selection_glyph\":null},\"id\":\"9bdf095d-68de-4b64-a55b-b5dd281dbd12\",\"type\":\"GlyphRenderer\"},{\"attributes\":{\"data_source\":{\"id\":\"21c7242d-9521-4fb1-93e5-aab81c7bcb6c\",\"type\":\"ColumnDataSource\"},\"glyph\":{\"id\":\"0ad17eb0-daab-4236-afd9-590284d4f0e7\",\"type\":\"Rect\"},\"hover_glyph\":null,\"nonselection_glyph\":null,\"selection_glyph\":null},\"id\":\"6dca39a4-a383-4ae8-916d-423c5758ae2a\",\"type\":\"GlyphRenderer\"},{\"attributes\":{\"fill_alpha\":{\"field\":\"fill_alpha\"},\"fill_color\":{\"field\":\"color\"},\"height\":{\"field\":\"height\",\"units\":\"data\"},\"line_color\":{\"field\":\"line_color\"},\"width\":{\"field\":\"width\",\"units\":\"data\"},\"x\":{\"field\":\"x\"},\"y\":{\"field\":\"y\"}},\"id\":\"1bf1526d-388f-4934-b35b-3e050db23dca\",\"type\":\"Rect\"},{\"attributes\":{\"fill_alpha\":{\"field\":\"fill_alpha\"},\"fill_color\":{\"field\":\"color\"},\"height\":{\"field\":\"height\",\"units\":\"data\"},\"line_color\":{\"field\":\"line_color\"},\"width\":{\"field\":\"width\",\"units\":\"data\"},\"x\":{\"field\":\"x\"},\"y\":{\"field\":\"y\"}},\"id\":\"e8d941d9-d6d6-457f-8d7e-313a019701f0\",\"type\":\"Rect\"},{\"attributes\":{\"callback\":null,\"column_names\":[\"height\",\"fill_alpha\",\"width\",\"color\",\"line_color\",\"line_alpha\",\"y\",\"x\",\"label\"],\"data\":{\"QuestTags\":[\"for-loop\"],\"chart_index\":[{\"QuestTags\":\"for-loop\"}],\"color\":[\"#f22c40\"],\"fill_alpha\":[0.8],\"height\":[3.220256290955895],\"label\":[{\"QuestTags\":\"for-loop\"}],\"line_alpha\":[1.0],\"line_color\":[\"white\"],\"width\":[1.0],\"x\":[\"for-loop\"],\"y\":[1.6101281454779475]}},\"id\":\"f3edbe01-3a85-4dab-908c-bebaeec72118\",\"type\":\"ColumnDataSource\"},{\"attributes\":{\"fill_alpha\":{\"field\":\"fill_alpha\"},\"fill_color\":{\"field\":\"color\"},\"height\":{\"field\":\"height\",\"units\":\"data\"},\"line_color\":{\"field\":\"line_color\"},\"width\":{\"field\":\"width\",\"units\":\"data\"},\"x\":{\"field\":\"x\"},\"y\":{\"field\":\"y\"}},\"id\":\"83d46fe5-ed2c-4353-8722-1b9b22540667\",\"type\":\"Rect\"},{\"attributes\":{\"axis_label\":\"Percentage Increase (%)\",\"formatter\":{\"id\":\"f38f1bd2-971c-416c-8c0b-79354144991f\",\"type\":\"BasicTickFormatter\"},\"plot\":{\"id\":\"aeea16dd-5371-459a-a667-52a7097382e7\",\"subtype\":\"Chart\",\"type\":\"Plot\"},\"ticker\":{\"id\":\"3fe3249a-ef08-4d04-9ed3-9c503c1ad216\",\"type\":\"BasicTicker\"}},\"id\":\"4c9e5a71-cd7f-404e-8087-2b2cd0e153bd\",\"type\":\"LinearAxis\"},{\"attributes\":{\"callback\":null,\"column_names\":[\"height\",\"fill_alpha\",\"width\",\"color\",\"line_color\",\"line_alpha\",\"y\",\"x\",\"label\"],\"data\":{\"QuestTags\":[\"selenium\"],\"chart_index\":[{\"QuestTags\":\"selenium\"}],\"color\":[\"#f22c40\"],\"fill_alpha\":[0.8],\"height\":[4.470610165449628],\"label\":[{\"QuestTags\":\"selenium\"}],\"line_alpha\":[1.0],\"line_color\":[\"white\"],\"width\":[1.0],\"x\":[\"selenium\"],\"y\":[2.235305082724814]}},\"id\":\"58c9e7bc-2da9-4041-812a-feb28e8a5eb4\",\"type\":\"ColumnDataSource\"},{\"attributes\":{\"callback\":null,\"column_names\":[\"height\",\"fill_alpha\",\"width\",\"color\",\"line_color\",\"line_alpha\",\"y\",\"x\",\"label\"],\"data\":{\"QuestTags\":[\"matlab\"],\"chart_index\":[{\"QuestTags\":\"matlab\"}],\"color\":[\"#f22c40\"],\"fill_alpha\":[0.8],\"height\":[3.681165180260291],\"label\":[{\"QuestTags\":\"matlab\"}],\"line_alpha\":[1.0],\"line_color\":[\"white\"],\"width\":[1.0],\"x\":[\"matlab\"],\"y\":[1.8405825901301456]}},\"id\":\"60db8351-a9f1-4c48-b04b-6e3fb0c0afa7\",\"type\":\"ColumnDataSource\"},{\"attributes\":{\"data_source\":{\"id\":\"60db8351-a9f1-4c48-b04b-6e3fb0c0afa7\",\"type\":\"ColumnDataSource\"},\"glyph\":{\"id\":\"af3092f8-1a62-4731-988f-baf941b76150\",\"type\":\"Rect\"},\"hover_glyph\":null,\"nonselection_glyph\":null,\"selection_glyph\":null},\"id\":\"7496f6c0-aaaa-4b66-8f57-166b76f26c9f\",\"type\":\"GlyphRenderer\"},{\"attributes\":{\"fill_alpha\":{\"field\":\"fill_alpha\"},\"fill_color\":{\"field\":\"color\"},\"height\":{\"field\":\"height\",\"units\":\"data\"},\"line_color\":{\"field\":\"line_color\"},\"width\":{\"field\":\"width\",\"units\":\"data\"},\"x\":{\"field\":\"x\"},\"y\":{\"field\":\"y\"}},\"id\":\"2229ebf8-b617-467c-a77c-3d8b780ace14\",\"type\":\"Rect\"},{\"attributes\":{\"fill_alpha\":{\"field\":\"fill_alpha\"},\"fill_color\":{\"field\":\"color\"},\"height\":{\"field\":\"height\",\"units\":\"data\"},\"line_color\":{\"field\":\"line_color\"},\"width\":{\"field\":\"width\",\"units\":\"data\"},\"x\":{\"field\":\"x\"},\"y\":{\"field\":\"y\"}},\"id\":\"49095233-a47a-4d47-ac1e-062cc8bfc0ff\",\"type\":\"Rect\"},{\"attributes\":{\"fill_alpha\":{\"field\":\"fill_alpha\"},\"fill_color\":{\"field\":\"color\"},\"height\":{\"field\":\"height\",\"units\":\"data\"},\"line_color\":{\"field\":\"line_color\"},\"width\":{\"field\":\"width\",\"units\":\"data\"},\"x\":{\"field\":\"x\"},\"y\":{\"field\":\"y\"}},\"id\":\"0ad17eb0-daab-4236-afd9-590284d4f0e7\",\"type\":\"Rect\"}],\"root_ids\":[\"aeea16dd-5371-459a-a667-52a7097382e7\"]},\"title\":\"Bokeh Application\",\"version\":\"0.12.2\"}};\n",
       "            var render_items = [{\"docid\":\"cf77a583-6cce-42df-8c58-3d3fc37958ad\",\"elementid\":\"effb1b91-1174-47fa-89dd-c47c03e86570\",\"modelid\":\"aeea16dd-5371-459a-a667-52a7097382e7\"}];\n",
       "            \n",
       "            Bokeh.embed.embed_items(docs_json, render_items);\n",
       "        });\n",
       "      },\n",
       "      function(Bokeh) {\n",
       "      }\n",
       "    ];\n",
       "  \n",
       "    function run_inline_js() {\n",
       "      \n",
       "      if ((window.Bokeh !== undefined) || (force === \"1\")) {\n",
       "        for (var i = 0; i < inline_js.length; i++) {\n",
       "          inline_js[i](window.Bokeh);\n",
       "        }if (force === \"1\") {\n",
       "          display_loaded();\n",
       "        }} else if (Date.now() < window._bokeh_timeout) {\n",
       "        setTimeout(run_inline_js, 100);\n",
       "      } else if (!window._bokeh_failed_load) {\n",
       "        console.log(\"Bokeh: BokehJS failed to load within specified timeout.\");\n",
       "        window._bokeh_failed_load = true;\n",
       "      } else if (!force) {\n",
       "        var cell = $(\"#effb1b91-1174-47fa-89dd-c47c03e86570\").parents('.cell').data().cell;\n",
       "        cell.output_area.append_execute_result(NB_LOAD_WARNING)\n",
       "      }\n",
       "  \n",
       "    }\n",
       "  \n",
       "    if (window._bokeh_is_loading === 0) {\n",
       "      console.log(\"Bokeh: BokehJS loaded, going straight to plotting\");\n",
       "      run_inline_js();\n",
       "    } else {\n",
       "      load_libs(js_urls, function() {\n",
       "        console.log(\"Bokeh: BokehJS plotting callback run at\", now());\n",
       "        run_inline_js();\n",
       "      });\n",
       "    }\n",
       "  }(this));\n",
       "</script>"
      ]
     },
     "metadata": {},
     "output_type": "display_data"
    }
   ],
   "source": [
    "plot_percentage_change(yearQuestTag, \"Oct'08-09\", \"Oct'15-16\")"
   ]
  },
  {
   "cell_type": "markdown",
   "metadata": {},
   "source": [
    "# Below are done for Python Questions and Tags"
   ]
  },
  {
   "cell_type": "code",
   "execution_count": 136,
   "metadata": {
    "collapsed": true
   },
   "outputs": [],
   "source": [
    "pythonquestions = pd.read_csv(\"Python Questions New.csv\", encoding='latin1')"
   ]
  },
  {
   "cell_type": "code",
   "execution_count": 137,
   "metadata": {
    "collapsed": true
   },
   "outputs": [],
   "source": [
    "pythonquestions.drop('Unnamed: 0', axis=1, inplace=True)\n",
    "pythonquestions.rename(columns={'Id':'QuestionId', 'Tags':'QuestTags'}, inplace=True)"
   ]
  },
  {
   "cell_type": "code",
   "execution_count": 138,
   "metadata": {
    "collapsed": true
   },
   "outputs": [],
   "source": [
    "pythonquestions[\"CreationDate\"] = pd.to_datetime(pythonquestions[\"CreationDate\"])"
   ]
  },
  {
   "cell_type": "code",
   "execution_count": 139,
   "metadata": {
    "collapsed": true
   },
   "outputs": [],
   "source": [
    "from datetime import datetime"
   ]
  },
  {
   "cell_type": "code",
   "execution_count": 140,
   "metadata": {
    "collapsed": true
   },
   "outputs": [],
   "source": [
    "mask4 = (pythonquestions['CreationDate'] >= datetime.strptime('2008-10-15', '%Y-%m-%d')) & (pythonquestions['CreationDate'] <= datetime.strptime('2016-10-12', '%Y-%m-%d'))"
   ]
  },
  {
   "cell_type": "code",
   "execution_count": 141,
   "metadata": {
    "collapsed": true
   },
   "outputs": [],
   "source": [
    "pythonquestions = pythonquestions.loc[mask4, :]"
   ]
  },
  {
   "cell_type": "code",
   "execution_count": 142,
   "metadata": {
    "collapsed": true
   },
   "outputs": [],
   "source": [
    "pythontags = pd.read_csv(\"Python Tags.csv\")\n",
    "pythontags.rename(columns={'Id':'QuestionId', 'Tag':'QuestTags'}, inplace=True)"
   ]
  },
  {
   "cell_type": "code",
   "execution_count": 143,
   "metadata": {
    "collapsed": true
   },
   "outputs": [],
   "source": [
    "pythonquestionstags = pd.merge(pythonquestions, pythontags, on='QuestionId')"
   ]
  },
  {
   "cell_type": "code",
   "execution_count": 144,
   "metadata": {
    "collapsed": true
   },
   "outputs": [],
   "source": [
    "pythonquestionstags.ix[(pythonquestionstags['CreationDate'] >= datetime.strptime('2008-10-15', '%Y-%m-%d')) & (pythonquestionstags['CreationDate'] < datetime.strptime('2009-10-15', '%Y-%m-%d')), 'QuestCreationYear'] = \"Oct'08-09\"\n",
    "pythonquestionstags.ix[(pythonquestionstags['CreationDate'] >= datetime.strptime('2009-10-15', '%Y-%m-%d')) & (pythonquestionstags['CreationDate'] < datetime.strptime('2010-10-15', '%Y-%m-%d')), 'QuestCreationYear'] = \"Oct'09-10\"\n",
    "pythonquestionstags.ix[(pythonquestionstags['CreationDate'] >= datetime.strptime('2010-10-15', '%Y-%m-%d')) & (pythonquestionstags['CreationDate'] < datetime.strptime('2011-10-15', '%Y-%m-%d')), 'QuestCreationYear'] = \"Oct'10-11\"\n",
    "pythonquestionstags.ix[(pythonquestionstags['CreationDate'] >= datetime.strptime('2011-10-15', '%Y-%m-%d')) & (pythonquestionstags['CreationDate'] < datetime.strptime('2012-10-15', '%Y-%m-%d')), 'QuestCreationYear'] = \"Oct'11-12\"\n",
    "pythonquestionstags.ix[(pythonquestionstags['CreationDate'] >= datetime.strptime('2012-10-15', '%Y-%m-%d')) & (pythonquestionstags['CreationDate'] < datetime.strptime('2013-10-15', '%Y-%m-%d')), 'QuestCreationYear'] = \"Oct'12-13\"\n",
    "pythonquestionstags.ix[(pythonquestionstags['CreationDate'] >= datetime.strptime('2013-10-15', '%Y-%m-%d')) & (pythonquestionstags['CreationDate'] < datetime.strptime('2014-10-15', '%Y-%m-%d')), 'QuestCreationYear'] = \"Oct'13-14\"\n",
    "pythonquestionstags.ix[(pythonquestionstags['CreationDate'] >= datetime.strptime('2014-10-15', '%Y-%m-%d')) & (pythonquestionstags['CreationDate'] < datetime.strptime('2015-10-15', '%Y-%m-%d')), 'QuestCreationYear'] = \"Oct'14-15\"\n",
    "pythonquestionstags.ix[(pythonquestionstags['CreationDate'] >= datetime.strptime('2015-10-15', '%Y-%m-%d')) & (pythonquestionstags['CreationDate'] < datetime.strptime('2016-10-15', '%Y-%m-%d')), 'QuestCreationYear'] = \"Oct'15-16\""
   ]
  },
  {
   "cell_type": "code",
   "execution_count": 145,
   "metadata": {
    "collapsed": true
   },
   "outputs": [],
   "source": [
    "pythonquestionstags.rename(columns={'QuestTags_x':'QuestTagsList', 'QuestTags_y':'QuestTags'}, inplace=True)"
   ]
  },
  {
   "cell_type": "markdown",
   "metadata": {},
   "source": [
    "# Graph Plot 1: Number of Python Questions Created Every Year"
   ]
  },
  {
   "cell_type": "code",
   "execution_count": 147,
   "metadata": {
    "collapsed": false
   },
   "outputs": [
    {
     "data": {
      "image/png": "[encoded data removed]",
      "text/plain": [
       "<matplotlib.figure.Figure at 0x1577d53c8>"
      ]
     },
     "metadata": {},
     "output_type": "display_data"
    }
   ],
   "source": [
    "#number of tags used over the years\n",
    "%matplotlib inline\n",
    "ax = sns.countplot(x=\"QuestCreationYear\", data=pythonquestionstags)"
   ]
  },
  {
   "cell_type": "code",
   "execution_count": 148,
   "metadata": {
    "collapsed": true
   },
   "outputs": [],
   "source": [
    "pythonquestionstags.QuestTagsList = pythonquestionstags.QuestTagsList.apply(lambda x: x.replace('[', '').replace(']', ''))"
   ]
  },
  {
   "cell_type": "code",
   "execution_count": 149,
   "metadata": {
    "collapsed": true
   },
   "outputs": [],
   "source": [
    "pythonquestionstags.QuestTagsList = pythonquestionstags.QuestTagsList.apply(lambda x: x.split(\",\"))"
   ]
  },
  {
   "cell_type": "code",
   "execution_count": 150,
   "metadata": {
    "collapsed": true
   },
   "outputs": [],
   "source": [
    "pythonquestionstags['TagCount'] = pythonquestionstags.QuestTagsList.apply(len)"
   ]
  },
  {
   "cell_type": "code",
   "execution_count": 151,
   "metadata": {
    "collapsed": true
   },
   "outputs": [],
   "source": [
    "pythonYearQuestTag = pd.DataFrame(pythonquestionstags.groupby('QuestCreationYear').QuestTags.value_counts().rename('YearTagCount')).reset_index()"
   ]
  },
  {
   "cell_type": "code",
   "execution_count": 152,
   "metadata": {
    "collapsed": true
   },
   "outputs": [],
   "source": [
    "pythonTopYearQuestTag = pythonYearQuestTag.groupby('QuestCreationYear').head(10)"
   ]
  },
  {
   "cell_type": "code",
   "execution_count": 153,
   "metadata": {
    "collapsed": true
   },
   "outputs": [],
   "source": [
    "pythonYearCount = pythonYearQuestTag.groupby('QuestCreationYear').YearTagCount.agg('sum').rename('TotalYearCount').reset_index()"
   ]
  },
  {
   "cell_type": "code",
   "execution_count": 154,
   "metadata": {
    "collapsed": true
   },
   "outputs": [],
   "source": [
    "pythonTopYearQuestTag = pd.merge(pythonTopYearQuestTag, pythonYearCount, on='QuestCreationYear')"
   ]
  },
  {
   "cell_type": "code",
   "execution_count": 155,
   "metadata": {
    "collapsed": true
   },
   "outputs": [],
   "source": [
    "pythonTopYearQuestTag['Percentage'] = pythonTopYearQuestTag.YearTagCount * 100 / pythonTopYearQuestTag.TotalYearCount"
   ]
  },
  {
   "cell_type": "code",
   "execution_count": 156,
   "metadata": {
    "collapsed": true
   },
   "outputs": [],
   "source": [
    "pythonTomerge = pythonTopYearQuestTag.groupby('QuestCreationYear').YearTagCount.agg('sum').rename('TopTagTotalCount').reset_index()"
   ]
  },
  {
   "cell_type": "code",
   "execution_count": 157,
   "metadata": {
    "collapsed": true
   },
   "outputs": [],
   "source": [
    "pythonTopYearQuestTag = pd.merge(pythonTopYearQuestTag, pythonTomerge, on='QuestCreationYear')"
   ]
  },
  {
   "cell_type": "code",
   "execution_count": 158,
   "metadata": {
    "collapsed": true
   },
   "outputs": [],
   "source": [
    "pythonTopYearQuestTag['PercentageAmongstTop'] = pythonTopYearQuestTag.YearTagCount * 100 / pythonTopYearQuestTag.TopTagTotalCount"
   ]
  },
  {
   "cell_type": "code",
   "execution_count": 159,
   "metadata": {
    "collapsed": true
   },
   "outputs": [],
   "source": [
    "pythonTopYearQuestTag.sort_values(['QuestCreationYear', 'QuestTags'], inplace=True)"
   ]
  },
  {
   "cell_type": "markdown",
   "metadata": {},
   "source": [
    "# Graph Plot 2: Change in Top 10 Python Tags Used Over the Years"
   ]
  },
  {
   "cell_type": "code",
   "execution_count": 161,
   "metadata": {
    "collapsed": false
   },
   "outputs": [
    {
     "data": {
      "text/html": [
       "\n",
       "    <div class=\"bk-root\">\n",
       "        <a href=\"http://bokeh.pydata.org\" target=\"_blank\" class=\"bk-logo bk-logo-small bk-logo-notebook\"></a>\n",
       "        <span id=\"946b172b-153e-4263-8262-4c7774287081\">Loading BokehJS ...</span>\n",
       "    </div>"
      ]
     },
     "metadata": {},
     "output_type": "display_data"
    },
    {
     "data": {
      "application/javascript": [
       "\n",
       "(function(global) {\n",
       "  function now() {\n",
       "    return new Date();\n",
       "  }\n",
       "\n",
       "  var force = \"1\";\n",
       "\n",
       "  if (typeof (window._bokeh_onload_callbacks) === \"undefined\" || force !== \"\") {\n",
       "    window._bokeh_onload_callbacks = [];\n",
       "    window._bokeh_is_loading = undefined;\n",
       "  }\n",
       "\n",
       "\n",
       "  \n",
       "  if (typeof (window._bokeh_timeout) === \"undefined\" || force !== \"\") {\n",
       "    window._bokeh_timeout = Date.now() + 5000;\n",
       "    window._bokeh_failed_load = false;\n",
       "  }\n",
       "\n",
       "  var NB_LOAD_WARNING = {'data': {'text/html':\n",
       "     \"<div style='background-color: #fdd'>\\n\"+\n",
       "     \"<p>\\n\"+\n",
       "     \"BokehJS does not appear to have successfully loaded. If loading BokehJS from CDN, this \\n\"+\n",
       "     \"may be due to a slow or bad network connection. Possible fixes:\\n\"+\n",
       "     \"</p>\\n\"+\n",
       "     \"<ul>\\n\"+\n",
       "     \"<li>re-rerun `output_notebook()` to attempt to load from CDN again, or</li>\\n\"+\n",
       "     \"<li>use INLINE resources instead, as so:</li>\\n\"+\n",
       "     \"</ul>\\n\"+\n",
       "     \"<code>\\n\"+\n",
       "     \"from bokeh.resources import INLINE\\n\"+\n",
       "     \"output_notebook(resources=INLINE)\\n\"+\n",
       "     \"</code>\\n\"+\n",
       "     \"</div>\"}};\n",
       "\n",
       "  function display_loaded() {\n",
       "    if (window.Bokeh !== undefined) {\n",
       "      Bokeh.$(\"#946b172b-153e-4263-8262-4c7774287081\").text(\"BokehJS successfully loaded.\");\n",
       "    } else if (Date.now() < window._bokeh_timeout) {\n",
       "      setTimeout(display_loaded, 100)\n",
       "    }\n",
       "  }\n",
       "\n",
       "  function run_callbacks() {\n",
       "    window._bokeh_onload_callbacks.forEach(function(callback) { callback() });\n",
       "    delete window._bokeh_onload_callbacks\n",
       "    console.info(\"Bokeh: all callbacks have finished\");\n",
       "  }\n",
       "\n",
       "  function load_libs(js_urls, callback) {\n",
       "    window._bokeh_onload_callbacks.push(callback);\n",
       "    if (window._bokeh_is_loading > 0) {\n",
       "      console.log(\"Bokeh: BokehJS is being loaded, scheduling callback at\", now());\n",
       "      return null;\n",
       "    }\n",
       "    if (js_urls == null || js_urls.length === 0) {\n",
       "      run_callbacks();\n",
       "      return null;\n",
       "    }\n",
       "    console.log(\"Bokeh: BokehJS not loaded, scheduling load and callback at\", now());\n",
       "    window._bokeh_is_loading = js_urls.length;\n",
       "    for (var i = 0; i < js_urls.length; i++) {\n",
       "      var url = js_urls[i];\n",
       "      var s = document.createElement('script');\n",
       "      s.src = url;\n",
       "      s.async = false;\n",
       "      s.onreadystatechange = s.onload = function() {\n",
       "        window._bokeh_is_loading--;\n",
       "        if (window._bokeh_is_loading === 0) {\n",
       "          console.log(\"Bokeh: all BokehJS libraries loaded\");\n",
       "          run_callbacks()\n",
       "        }\n",
       "      };\n",
       "      s.onerror = function() {\n",
       "        console.warn(\"failed to load library \" + url);\n",
       "      };\n",
       "      console.log(\"Bokeh: injecting script tag for BokehJS library: \", url);\n",
       "      document.getElementsByTagName(\"head\")[0].appendChild(s);\n",
       "    }\n",
       "  };var element = document.getElementById(\"946b172b-153e-4263-8262-4c7774287081\");\n",
       "  if (element == null) {\n",
       "    console.log(\"Bokeh: ERROR: autoload.js configured with elementid '946b172b-153e-4263-8262-4c7774287081' but no matching script tag was found. \")\n",
       "    return false;\n",
       "  }\n",
       "\n",
       "  var js_urls = ['https://cdn.pydata.org/bokeh/release/bokeh-0.12.2.min.js', 'https://cdn.pydata.org/bokeh/release/bokeh-widgets-0.12.2.min.js', 'https://cdn.pydata.org/bokeh/release/bokeh-compiler-0.12.2.min.js'];\n",
       "\n",
       "  var inline_js = [\n",
       "    function(Bokeh) {\n",
       "      Bokeh.set_log_level(\"info\");\n",
       "    },\n",
       "    \n",
       "    function(Bokeh) {\n",
       "      \n",
       "      Bokeh.$(\"#946b172b-153e-4263-8262-4c7774287081\").text(\"BokehJS is loading...\");\n",
       "    },\n",
       "    function(Bokeh) {\n",
       "      console.log(\"Bokeh: injecting CSS: https://cdn.pydata.org/bokeh/release/bokeh-0.12.2.min.css\");\n",
       "      Bokeh.embed.inject_css(\"https://cdn.pydata.org/bokeh/release/bokeh-0.12.2.min.css\");\n",
       "      console.log(\"Bokeh: injecting CSS: https://cdn.pydata.org/bokeh/release/bokeh-widgets-0.12.2.min.css\");\n",
       "      Bokeh.embed.inject_css(\"https://cdn.pydata.org/bokeh/release/bokeh-widgets-0.12.2.min.css\");\n",
       "    }\n",
       "  ];\n",
       "\n",
       "  function run_inline_js() {\n",
       "    \n",
       "    if ((window.Bokeh !== undefined) || (force === \"1\")) {\n",
       "      for (var i = 0; i < inline_js.length; i++) {\n",
       "        inline_js[i](window.Bokeh);\n",
       "      }if (force === \"1\") {\n",
       "        display_loaded();\n",
       "      }} else if (Date.now() < window._bokeh_timeout) {\n",
       "      setTimeout(run_inline_js, 100);\n",
       "    } else if (!window._bokeh_failed_load) {\n",
       "      console.log(\"Bokeh: BokehJS failed to load within specified timeout.\");\n",
       "      window._bokeh_failed_load = true;\n",
       "    } else if (!force) {\n",
       "      var cell = $(\"#946b172b-153e-4263-8262-4c7774287081\").parents('.cell').data().cell;\n",
       "      cell.output_area.append_execute_result(NB_LOAD_WARNING)\n",
       "    }\n",
       "\n",
       "  }\n",
       "\n",
       "  if (window._bokeh_is_loading === 0) {\n",
       "    console.log(\"Bokeh: BokehJS loaded, going straight to plotting\");\n",
       "    run_inline_js();\n",
       "  } else {\n",
       "    load_libs(js_urls, function() {\n",
       "      console.log(\"Bokeh: BokehJS plotting callback run at\", now());\n",
       "      run_inline_js();\n",
       "    });\n",
       "  }\n",
       "}(this));"
      ]
     },
     "metadata": {},
     "output_type": "display_data"
    },
    {
     "data": {
      "text/html": [
       "\n",
       "\n",
       "    <div class=\"bk-root\">\n",
       "        <div class=\"plotdiv\" id=\"2fa628e6-e578-4111-b54e-819d3295c434\"></div>\n",
       "    </div>\n",
       "<script type=\"text/javascript\">\n",
       "  \n",
       "  (function(global) {\n",
       "    function now() {\n",
       "      return new Date();\n",
       "    }\n",
       "  \n",
       "    var force = \"\";\n",
       "  \n",
       "    if (typeof (window._bokeh_onload_callbacks) === \"undefined\" || force !== \"\") {\n",
       "      window._bokeh_onload_callbacks = [];\n",
       "      window._bokeh_is_loading = undefined;\n",
       "    }\n",
       "  \n",
       "  \n",
       "    \n",
       "    if (typeof (window._bokeh_timeout) === \"undefined\" || force !== \"\") {\n",
       "      window._bokeh_timeout = Date.now() + 0;\n",
       "      window._bokeh_failed_load = false;\n",
       "    }\n",
       "  \n",
       "    var NB_LOAD_WARNING = {'data': {'text/html':\n",
       "       \"<div style='background-color: #fdd'>\\n\"+\n",
       "       \"<p>\\n\"+\n",
       "       \"BokehJS does not appear to have successfully loaded. If loading BokehJS from CDN, this \\n\"+\n",
       "       \"may be due to a slow or bad network connection. Possible fixes:\\n\"+\n",
       "       \"</p>\\n\"+\n",
       "       \"<ul>\\n\"+\n",
       "       \"<li>re-rerun `output_notebook()` to attempt to load from CDN again, or</li>\\n\"+\n",
       "       \"<li>use INLINE resources instead, as so:</li>\\n\"+\n",
       "       \"</ul>\\n\"+\n",
       "       \"<code>\\n\"+\n",
       "       \"from bokeh.resources import INLINE\\n\"+\n",
       "       \"output_notebook(resources=INLINE)\\n\"+\n",
       "       \"</code>\\n\"+\n",
       "       \"</div>\"}};\n",
       "  \n",
       "    function display_loaded() {\n",
       "      if (window.Bokeh !== undefined) {\n",
       "        Bokeh.$(\"#2fa628e6-e578-4111-b54e-819d3295c434\").text(\"BokehJS successfully loaded.\");\n",
       "      } else if (Date.now() < window._bokeh_timeout) {\n",
       "        setTimeout(display_loaded, 100)\n",
       "      }\n",
       "    }\n",
       "  \n",
       "    function run_callbacks() {\n",
       "      window._bokeh_onload_callbacks.forEach(function(callback) { callback() });\n",
       "      delete window._bokeh_onload_callbacks\n",
       "      console.info(\"Bokeh: all callbacks have finished\");\n",
       "    }\n",
       "  \n",
       "    function load_libs(js_urls, callback) {\n",
       "      window._bokeh_onload_callbacks.push(callback);\n",
       "      if (window._bokeh_is_loading > 0) {\n",
       "        console.log(\"Bokeh: BokehJS is being loaded, scheduling callback at\", now());\n",
       "        return null;\n",
       "      }\n",
       "      if (js_urls == null || js_urls.length === 0) {\n",
       "        run_callbacks();\n",
       "        return null;\n",
       "      }\n",
       "      console.log(\"Bokeh: BokehJS not loaded, scheduling load and callback at\", now());\n",
       "      window._bokeh_is_loading = js_urls.length;\n",
       "      for (var i = 0; i < js_urls.length; i++) {\n",
       "        var url = js_urls[i];\n",
       "        var s = document.createElement('script');\n",
       "        s.src = url;\n",
       "        s.async = false;\n",
       "        s.onreadystatechange = s.onload = function() {\n",
       "          window._bokeh_is_loading--;\n",
       "          if (window._bokeh_is_loading === 0) {\n",
       "            console.log(\"Bokeh: all BokehJS libraries loaded\");\n",
       "            run_callbacks()\n",
       "          }\n",
       "        };\n",
       "        s.onerror = function() {\n",
       "          console.warn(\"failed to load library \" + url);\n",
       "        };\n",
       "        console.log(\"Bokeh: injecting script tag for BokehJS library: \", url);\n",
       "        document.getElementsByTagName(\"head\")[0].appendChild(s);\n",
       "      }\n",
       "    };var element = document.getElementById(\"2fa628e6-e578-4111-b54e-819d3295c434\");\n",
       "    if (element == null) {\n",
       "      console.log(\"Bokeh: ERROR: autoload.js configured with elementid '2fa628e6-e578-4111-b54e-819d3295c434' but no matching script tag was found. \")\n",
       "      return false;\n",
       "    }\n",
       "  \n",
       "    var js_urls = [];\n",
       "  \n",
       "    var inline_js = [\n",
       "      function(Bokeh) {\n",
       "        Bokeh.$(function() {\n",
       "            var docs_json = {\"c62f481a-0520-4fbb-868f-bffc0307bc3b\":{\"roots\":{\"references\":[{\"attributes\":{\"data_source\":{\"id\":\"c6be30fb-de50-4441-af16-f7ce79f9ba12\",\"type\":\"ColumnDataSource\"},\"glyph\":{\"id\":\"7d3d0f3f-71c4-4c3b-996f-2be9bf7ea1d4\",\"type\":\"Rect\"},\"hover_glyph\":null,\"nonselection_glyph\":null,\"selection_glyph\":null},\"id\":\"035e168c-361e-43af-bced-58c54be14128\",\"type\":\"GlyphRenderer\"},{\"attributes\":{\"fill_alpha\":{\"field\":\"fill_alpha\"},\"fill_color\":{\"field\":\"color\"},\"height\":{\"field\":\"height\",\"units\":\"data\"},\"line_color\":{\"field\":\"line_color\"},\"width\":{\"field\":\"width\",\"units\":\"data\"},\"x\":{\"field\":\"x\"},\"y\":{\"field\":\"y\"}},\"id\":\"6b667b18-0c78-4a11-aa60-9853e07d5d27\",\"type\":\"Rect\"},{\"attributes\":{\"data_source\":{\"id\":\"c63531c7-ec78-4480-a8c4-a7e3afea4cea\",\"type\":\"ColumnDataSource\"},\"glyph\":{\"id\":\"10b7c073-d45c-45f7-915c-1ff23a66e678\",\"type\":\"Rect\"},\"hover_glyph\":null,\"nonselection_glyph\":null,\"selection_glyph\":null},\"id\":\"83feb45e-e338-4e8d-9c44-6712f8c917a6\",\"type\":\"GlyphRenderer\"},{\"attributes\":{\"data_source\":{\"id\":\"9b67d7a7-7078-41a4-ab37-aef40991cd88\",\"type\":\"ColumnDataSource\"},\"glyph\":{\"id\":\"28bb3d56-0fba-4834-900b-cae0f4d63194\",\"type\":\"Rect\"},\"hover_glyph\":null,\"nonselection_glyph\":null,\"selection_glyph\":null},\"id\":\"3bd2fe44-fb79-4fc3-ab3c-203c601e7088\",\"type\":\"GlyphRenderer\"},{\"attributes\":{\"callback\":null,\"column_names\":[\"height\",\"fill_alpha\",\"width\",\"color\",\"line_color\",\"line_alpha\",\"y\",\"x\",\"label\"],\"data\":{\"PercentageAmongstTop\":[2.3509623124365073],\"QuestCreationYear\":[\"Oct'14-15\"],\"QuestTags\":[\"list\"],\"YearTagCount\":[4235],\"chart_index\":[{\"PercentageAmongstTop\":2.3509623124365073,\"QuestCreationYear\":\"Oct'14-15\",\"QuestTags\":\"list\",\"YearTagCount\":4235}],\"color\":[\"#90EE90\"],\"fill_alpha\":[0.8],\"height\":[2.3509623124365073],\"label\":[{\"PercentageAmongstTop\":2.3509623124365073,\"QuestCreationYear\":\"Oct'14-15\",\"QuestTags\":\"list\",\"YearTagCount\":4235}],\"line_alpha\":[1.0],\"line_color\":[\"#F0E68C\"],\"width\":[1.0],\"x\":[\"Oct'14-15\"],\"y\":[10.079716219141885]}},\"id\":\"54674ebb-e84a-4024-a1a4-63ce89f9763c\",\"type\":\"ColumnDataSource\"},{\"attributes\":{\"data_source\":{\"id\":\"b05c88aa-8d01-48b6-8313-a493026267ef\",\"type\":\"ColumnDataSource\"},\"glyph\":{\"id\":\"1141d698-97ca-49d8-849d-b43e6182b464\",\"type\":\"Rect\"},\"hover_glyph\":null,\"nonselection_glyph\":null,\"selection_glyph\":null},\"id\":\"8cb49bf5-8d6d-4bf8-8ee2-18c6d3512951\",\"type\":\"GlyphRenderer\"},{\"attributes\":{\"fill_alpha\":{\"field\":\"fill_alpha\"},\"fill_color\":{\"field\":\"color\"},\"height\":{\"field\":\"height\",\"units\":\"data\"},\"line_color\":{\"field\":\"line_color\"},\"width\":{\"field\":\"width\",\"units\":\"data\"},\"x\":{\"field\":\"x\"},\"y\":{\"field\":\"y\"}},\"id\":\"024dd9bf-441a-4e92-b6cc-106d989a0779\",\"type\":\"Rect\"},{\"attributes\":{\"fill_alpha\":{\"field\":\"fill_alpha\"},\"fill_color\":{\"field\":\"color\"},\"height\":{\"field\":\"height\",\"units\":\"data\"},\"line_color\":{\"field\":\"line_color\"},\"width\":{\"field\":\"width\",\"units\":\"data\"},\"x\":{\"field\":\"x\"},\"y\":{\"field\":\"y\"}},\"id\":\"7d3d0f3f-71c4-4c3b-996f-2be9bf7ea1d4\",\"type\":\"Rect\"},{\"attributes\":{\"fill_alpha\":{\"field\":\"fill_alpha\"},\"fill_color\":{\"field\":\"color\"},\"height\":{\"field\":\"height\",\"units\":\"data\"},\"line_color\":{\"field\":\"line_color\"},\"width\":{\"field\":\"width\",\"units\":\"data\"},\"x\":{\"field\":\"x\"},\"y\":{\"field\":\"y\"}},\"id\":\"b0b41a3c-8af8-4f61-888a-837b5f424220\",\"type\":\"Rect\"},{\"attributes\":{\"data_source\":{\"id\":\"7908ac64-11b5-4ccf-a109-bb1a8bbdbd37\",\"type\":\"ColumnDataSource\"},\"glyph\":{\"id\":\"b036fa73-9c37-4ef5-a06f-7147c9bd69a4\",\"type\":\"Rect\"},\"hover_glyph\":null,\"nonselection_glyph\":null,\"selection_glyph\":null},\"id\":\"978a034c-6557-47a4-8699-535b73c842b1\",\"type\":\"GlyphRenderer\"},{\"attributes\":{\"fill_alpha\":{\"field\":\"fill_alpha\"},\"fill_color\":{\"field\":\"color\"},\"height\":{\"field\":\"height\",\"units\":\"data\"},\"line_color\":{\"field\":\"line_color\"},\"width\":{\"field\":\"width\",\"units\":\"data\"},\"x\":{\"field\":\"x\"},\"y\":{\"field\":\"y\"}},\"id\":\"ad90cf8a-8f34-496e-ba55-995f40f64c8c\",\"type\":\"Rect\"},{\"attributes\":{\"data_source\":{\"id\":\"fe2bcf0f-3775-450c-9c5b-95f229446b17\",\"type\":\"ColumnDataSource\"},\"glyph\":{\"id\":\"71676dfd-5186-4157-a0f5-6b97471a10cd\",\"type\":\"Rect\"},\"hover_glyph\":null,\"nonselection_glyph\":null,\"selection_glyph\":null},\"id\":\"28b61f9b-fdf3-4d7e-a98a-9d699d1ce9e9\",\"type\":\"GlyphRenderer\"},{\"attributes\":{\"fill_alpha\":{\"field\":\"fill_alpha\"},\"fill_color\":{\"field\":\"color\"},\"height\":{\"field\":\"height\",\"units\":\"data\"},\"line_color\":{\"field\":\"line_color\"},\"width\":{\"field\":\"width\",\"units\":\"data\"},\"x\":{\"field\":\"x\"},\"y\":{\"field\":\"y\"}},\"id\":\"ff12d722-3d72-4c2e-a48f-fa0b9275f898\",\"type\":\"Rect\"},{\"attributes\":{\"fill_alpha\":{\"field\":\"fill_alpha\"},\"fill_color\":{\"field\":\"color\"},\"height\":{\"field\":\"height\",\"units\":\"data\"},\"line_color\":{\"field\":\"line_color\"},\"width\":{\"field\":\"width\",\"units\":\"data\"},\"x\":{\"field\":\"x\"},\"y\":{\"field\":\"y\"}},\"id\":\"a4a91c3c-be2f-44d7-b10e-28487a0a8e0b\",\"type\":\"Rect\"},{\"attributes\":{\"fill_alpha\":{\"field\":\"fill_alpha\"},\"fill_color\":{\"field\":\"color\"},\"height\":{\"field\":\"height\",\"units\":\"data\"},\"line_color\":{\"field\":\"line_color\"},\"width\":{\"field\":\"width\",\"units\":\"data\"},\"x\":{\"field\":\"x\"},\"y\":{\"field\":\"y\"}},\"id\":\"2180557d-bbc6-4245-a975-bc5167fa7624\",\"type\":\"Rect\"},{\"attributes\":{\"callback\":null,\"column_names\":[\"height\",\"fill_alpha\",\"width\",\"color\",\"line_color\",\"line_alpha\",\"y\",\"x\",\"label\"],\"data\":{\"PercentageAmongstTop\":[70.22522203401839],\"QuestCreationYear\":[\"Oct'13-14\"],\"QuestTags\":[\"python\"],\"YearTagCount\":[109038],\"chart_index\":[{\"PercentageAmongstTop\":70.22522203401839,\"QuestCreationYear\":\"Oct'13-14\",\"QuestTags\":\"python\",\"YearTagCount\":109038}],\"color\":[\"#20B2AA\"],\"fill_alpha\":[0.8],\"height\":[70.22522203401839],\"label\":[{\"PercentageAmongstTop\":70.22522203401839,\"QuestCreationYear\":\"Oct'13-14\",\"QuestTags\":\"python\",\"YearTagCount\":109038}],\"line_alpha\":[1.0],\"line_color\":[\"#778899\"],\"width\":[1.0],\"x\":[\"Oct'13-14\"],\"y\":[55.29307202339166]}},\"id\":\"dc91c096-e847-4b83-a134-36301f41169c\",\"type\":\"ColumnDataSource\"},{\"attributes\":{\"fill_alpha\":{\"field\":\"fill_alpha\"},\"fill_color\":{\"field\":\"color\"},\"height\":{\"field\":\"height\",\"units\":\"data\"},\"line_color\":{\"field\":\"line_color\"},\"width\":{\"field\":\"width\",\"units\":\"data\"},\"x\":{\"field\":\"x\"},\"y\":{\"field\":\"y\"}},\"id\":\"16ff0196-1d4a-4de0-af39-3402434eb53c\",\"type\":\"Rect\"},{\"attributes\":{\"fill_alpha\":{\"field\":\"fill_alpha\"},\"fill_color\":{\"field\":\"color\"},\"height\":{\"field\":\"height\",\"units\":\"data\"},\"line_color\":{\"field\":\"line_color\"},\"width\":{\"field\":\"width\",\"units\":\"data\"},\"x\":{\"field\":\"x\"},\"y\":{\"field\":\"y\"}},\"id\":\"24b77544-a80c-4753-85c2-6bcf0791c4bf\",\"type\":\"Rect\"},{\"attributes\":{\"fill_alpha\":{\"field\":\"fill_alpha\"},\"fill_color\":{\"field\":\"color\"},\"height\":{\"field\":\"height\",\"units\":\"data\"},\"line_color\":{\"field\":\"line_color\"},\"width\":{\"field\":\"width\",\"units\":\"data\"},\"x\":{\"field\":\"x\"},\"y\":{\"field\":\"y\"}},\"id\":\"d4264188-e03a-49b0-b20d-8c115e9e3ea8\",\"type\":\"Rect\"},{\"attributes\":{\"data_source\":{\"id\":\"ffffb9f9-1a2e-43c9-b19a-1a7e74608449\",\"type\":\"ColumnDataSource\"},\"glyph\":{\"id\":\"9f7d6912-3056-4fe5-948c-3a16749bb21f\",\"type\":\"Rect\"},\"hover_glyph\":null,\"nonselection_glyph\":null,\"selection_glyph\":null},\"id\":\"2bcf2597-8245-404f-a7c6-5ddb70dfff81\",\"type\":\"GlyphRenderer\"},{\"attributes\":{\"data_source\":{\"id\":\"c7959a46-f97d-4017-a9f1-0b9c30e16465\",\"type\":\"ColumnDataSource\"},\"glyph\":{\"id\":\"d4264188-e03a-49b0-b20d-8c115e9e3ea8\",\"type\":\"Rect\"},\"hover_glyph\":null,\"nonselection_glyph\":null,\"selection_glyph\":null},\"id\":\"ec2f7963-4ac3-4924-9c21-e00966a4a144\",\"type\":\"GlyphRenderer\"},{\"attributes\":{\"fill_alpha\":{\"field\":\"fill_alpha\"},\"fill_color\":{\"field\":\"color\"},\"height\":{\"field\":\"height\",\"units\":\"data\"},\"line_color\":{\"field\":\"line_color\"},\"width\":{\"field\":\"width\",\"units\":\"data\"},\"x\":{\"field\":\"x\"},\"y\":{\"field\":\"y\"}},\"id\":\"a83efe89-4184-42c7-ab88-cbd198048b03\",\"type\":\"Rect\"},{\"attributes\":{\"callback\":null,\"column_names\":[\"height\",\"fill_alpha\",\"width\",\"color\",\"line_color\",\"line_alpha\",\"y\",\"x\",\"label\"],\"data\":{\"PercentageAmongstTop\":[8.52254120729178],\"QuestCreationYear\":[\"Oct'11-12\"],\"QuestTags\":[\"django\"],\"YearTagCount\":[6246],\"chart_index\":[{\"PercentageAmongstTop\":8.52254120729178,\"QuestCreationYear\":\"Oct'11-12\",\"QuestTags\":\"django\",\"YearTagCount\":6246}],\"color\":[\"#FF6347\"],\"fill_alpha\":[0.8],\"height\":[8.52254120729178],\"label\":[{\"PercentageAmongstTop\":8.52254120729178,\"QuestCreationYear\":\"Oct'11-12\",\"QuestTags\":\"django\",\"YearTagCount\":6246}],\"line_alpha\":[1.0],\"line_color\":[\"#20B2AA\"],\"width\":[1.0],\"x\":[\"Oct'11-12\"],\"y\":[4.26127060364589]}},\"id\":\"a0e0cacf-e370-4a5e-82f7-66661ed32a31\",\"type\":\"ColumnDataSource\"},{\"attributes\":{\"axis_label\":\"Percentage of Top Tags Used in Questions Yearly (%)\",\"formatter\":{\"id\":\"c69fbd80-57ca-443e-aae8-7eac14e1f7dc\",\"type\":\"BasicTickFormatter\"},\"plot\":{\"id\":\"e7f3ca80-83f1-4bdd-bfdf-faf2d13f335d\",\"subtype\":\"Chart\",\"type\":\"Plot\"},\"ticker\":{\"id\":\"64ef71da-d139-46b8-8e64-55447887f72d\",\"type\":\"BasicTicker\"}},\"id\":\"87e462f7-2ccf-4acb-9072-bd3e7cc508e0\",\"type\":\"LinearAxis\"},{\"attributes\":{\"callback\":null,\"column_names\":[\"height\",\"fill_alpha\",\"width\",\"color\",\"line_color\",\"line_alpha\",\"y\",\"x\",\"label\"],\"data\":{\"PercentageAmongstTop\":[4.7196372343504684],\"QuestCreationYear\":[\"Oct'12-13\"],\"QuestTags\":[\"python-2.7\"],\"YearTagCount\":[5381],\"chart_index\":[{\"PercentageAmongstTop\":4.7196372343504684,\"QuestCreationYear\":\"Oct'12-13\",\"QuestTags\":\"python-2.7\",\"YearTagCount\":5381}],\"color\":[\"#FFA07A\"],\"fill_alpha\":[0.8],\"height\":[4.7196372343504684],\"label\":[{\"PercentageAmongstTop\":4.7196372343504684,\"QuestCreationYear\":\"Oct'12-13\",\"QuestTags\":\"python-2.7\",\"YearTagCount\":5381}],\"line_alpha\":[1.0],\"line_color\":[\"#FFB6C1\"],\"width\":[1.0],\"x\":[\"Oct'12-13\"],\"y\":[93.03456623367511]}},\"id\":\"36d2cae7-e791-4cd0-ac0c-2b2206db81c4\",\"type\":\"ColumnDataSource\"},{\"attributes\":{},\"id\":\"64ef71da-d139-46b8-8e64-55447887f72d\",\"type\":\"BasicTicker\"},{\"attributes\":{\"data_source\":{\"id\":\"a0e0cacf-e370-4a5e-82f7-66661ed32a31\",\"type\":\"ColumnDataSource\"},\"glyph\":{\"id\":\"959aff8f-230d-46fa-905b-9e60880352e4\",\"type\":\"Rect\"},\"hover_glyph\":null,\"nonselection_glyph\":null,\"selection_glyph\":null},\"id\":\"55b98167-af4c-4ba3-8917-ff8e7266e30f\",\"type\":\"GlyphRenderer\"},{\"attributes\":{\"data_source\":{\"id\":\"b2e77d23-2f49-4676-a931-660c296e0ca9\",\"type\":\"ColumnDataSource\"},\"glyph\":{\"id\":\"7f0a00a0-91da-43bd-940d-8152452d172c\",\"type\":\"Rect\"},\"hover_glyph\":null,\"nonselection_glyph\":null,\"selection_glyph\":null},\"id\":\"6976bb01-3422-49e8-97b7-911a4fbd3c1c\",\"type\":\"GlyphRenderer\"},{\"attributes\":{\"active_drag\":\"auto\",\"active_scroll\":\"auto\",\"active_tap\":\"auto\",\"tools\":[{\"id\":\"803ae380-4217-4a8b-95a1-640537f68f55\",\"type\":\"HoverTool\"}]},\"id\":\"5aa19c5d-4950-4ad2-a7fe-e603d089e3e6\",\"type\":\"Toolbar\"},{\"attributes\":{\"callback\":null,\"column_names\":[\"height\",\"fill_alpha\",\"width\",\"color\",\"line_color\",\"line_alpha\",\"y\",\"x\",\"label\"],\"data\":{\"PercentageAmongstTop\":[1.9653804543815363],\"QuestCreationYear\":[\"Oct'10-11\"],\"QuestTags\":[\"numpy\"],\"YearTagCount\":[981],\"chart_index\":[{\"PercentageAmongstTop\":1.9653804543815363,\"QuestCreationYear\":\"Oct'10-11\",\"QuestTags\":\"numpy\",\"YearTagCount\":981}],\"color\":[\"#FFB6C1\"],\"fill_alpha\":[0.8],\"height\":[1.9653804543815363],\"label\":[{\"PercentageAmongstTop\":1.9653804543815363,\"QuestCreationYear\":\"Oct'10-11\",\"QuestTags\":\"numpy\",\"YearTagCount\":981}],\"line_alpha\":[1.0],\"line_color\":[\"#FFF0F5\"],\"width\":[1.0],\"x\":[\"Oct'10-11\"],\"y\":[18.092118443723205]}},\"id\":\"89db7776-79bc-4dfc-8756-7acd82014c1e\",\"type\":\"ColumnDataSource\"},{\"attributes\":{\"data_source\":{\"id\":\"8935129c-13d6-46db-b02e-a471dd2aa512\",\"type\":\"ColumnDataSource\"},\"glyph\":{\"id\":\"99f4484d-1098-4a6a-a70d-aecd28af2201\",\"type\":\"Rect\"},\"hover_glyph\":null,\"nonselection_glyph\":null,\"selection_glyph\":null},\"id\":\"c8af6226-960d-4f9d-8423-0167fdc70215\",\"type\":\"GlyphRenderer\"},{\"attributes\":{\"callback\":null,\"column_names\":[\"height\",\"fill_alpha\",\"width\",\"color\",\"line_color\",\"line_alpha\",\"y\",\"x\",\"label\"],\"data\":{\"PercentageAmongstTop\":[3.48730702402034],\"QuestCreationYear\":[\"Oct'14-15\"],\"QuestTags\":[\"python-3.x\"],\"YearTagCount\":[6282],\"chart_index\":[{\"PercentageAmongstTop\":3.48730702402034,\"QuestCreationYear\":\"Oct'14-15\",\"QuestTags\":\"python-3.x\",\"YearTagCount\":6282}],\"color\":[\"#778899\"],\"fill_alpha\":[0.8],\"height\":[3.48730702402034],\"label\":[{\"PercentageAmongstTop\":3.48730702402034,\"QuestCreationYear\":\"Oct'14-15\",\"QuestTags\":\"python-3.x\",\"YearTagCount\":6282}],\"line_alpha\":[1.0],\"line_color\":[\"#FFA07A\"],\"width\":[1.0],\"x\":[\"Oct'14-15\"],\"y\":[96.59096586524849]}},\"id\":\"63b23b10-c7b2-45fd-aed8-d085d532693c\",\"type\":\"ColumnDataSource\"},{\"attributes\":{\"fill_alpha\":{\"field\":\"fill_alpha\"},\"fill_color\":{\"field\":\"color\"},\"height\":{\"field\":\"height\",\"units\":\"data\"},\"line_color\":{\"field\":\"line_color\"},\"width\":{\"field\":\"width\",\"units\":\"data\"},\"x\":{\"field\":\"x\"},\"y\":{\"field\":\"y\"}},\"id\":\"b2a33f15-008f-4857-a565-92403e139af9\",\"type\":\"Rect\"},{\"attributes\":{\"fill_alpha\":{\"field\":\"fill_alpha\"},\"fill_color\":{\"field\":\"color\"},\"height\":{\"field\":\"height\",\"units\":\"data\"},\"line_color\":{\"field\":\"line_color\"},\"width\":{\"field\":\"width\",\"units\":\"data\"},\"x\":{\"field\":\"x\"},\"y\":{\"field\":\"y\"}},\"id\":\"59606305-ee78-4f6f-8cb5-30bff08bd92b\",\"type\":\"Rect\"},{\"attributes\":{\"data_source\":{\"id\":\"cc89b6fc-6d1b-44de-93d1-b2420de01da8\",\"type\":\"ColumnDataSource\"},\"glyph\":{\"id\":\"ad90cf8a-8f34-496e-ba55-995f40f64c8c\",\"type\":\"Rect\"},\"hover_glyph\":null,\"nonselection_glyph\":null,\"selection_glyph\":null},\"id\":\"f828ccbb-7025-4651-bc57-e0aa1791cb22\",\"type\":\"GlyphRenderer\"},{\"attributes\":{\"data_source\":{\"id\":\"28439406-d6ae-4094-803e-b0f6d652fd1b\",\"type\":\"ColumnDataSource\"},\"glyph\":{\"id\":\"2a467b8c-d084-4f50-84d7-bcb81801ed7f\",\"type\":\"Rect\"},\"hover_glyph\":null,\"nonselection_glyph\":null,\"selection_glyph\":null},\"id\":\"93c8b120-4c90-419f-84f4-61a678b2d8ee\",\"type\":\"GlyphRenderer\"},{\"attributes\":{\"fill_alpha\":{\"field\":\"fill_alpha\"},\"fill_color\":{\"field\":\"color\"},\"height\":{\"field\":\"height\",\"units\":\"data\"},\"line_color\":{\"field\":\"line_color\"},\"width\":{\"field\":\"width\",\"units\":\"data\"},\"x\":{\"field\":\"x\"},\"y\":{\"field\":\"y\"}},\"id\":\"8e94ebe9-3442-413c-930e-b69cea137e43\",\"type\":\"Rect\"},{\"attributes\":{\"callback\":null,\"column_names\":[\"height\",\"fill_alpha\",\"width\",\"color\",\"line_color\",\"line_alpha\",\"y\",\"x\",\"label\"],\"data\":{\"PercentageAmongstTop\":[1.2962295147653964],\"QuestCreationYear\":[\"Oct'10-11\"],\"QuestTags\":[\"dictionary\"],\"YearTagCount\":[647],\"chart_index\":[{\"PercentageAmongstTop\":1.2962295147653964,\"QuestCreationYear\":\"Oct'10-11\",\"QuestTags\":\"dictionary\",\"YearTagCount\":647}],\"color\":[\"#4B0082\"],\"fill_alpha\":[0.8],\"height\":[1.2962295147653964],\"label\":[{\"PercentageAmongstTop\":1.2962295147653964,\"QuestCreationYear\":\"Oct'10-11\",\"QuestTags\":\"dictionary\",\"YearTagCount\":647}],\"line_alpha\":[1.0],\"line_color\":[\"#FF6347\"],\"width\":[1.0],\"x\":[\"Oct'10-11\"],\"y\":[0.6481147573826982]}},\"id\":\"9b67d7a7-7078-41a4-ab37-aef40991cd88\",\"type\":\"ColumnDataSource\"},{\"attributes\":{\"fill_alpha\":{\"field\":\"fill_alpha\"},\"fill_color\":{\"field\":\"color\"},\"height\":{\"field\":\"height\",\"units\":\"data\"},\"line_color\":{\"field\":\"line_color\"},\"width\":{\"field\":\"width\",\"units\":\"data\"},\"x\":{\"field\":\"x\"},\"y\":{\"field\":\"y\"}},\"id\":\"39bf7007-3123-4958-839c-d9086488b167\",\"type\":\"Rect\"},{\"attributes\":{\"fill_alpha\":{\"field\":\"fill_alpha\"},\"fill_color\":{\"field\":\"color\"},\"height\":{\"field\":\"height\",\"units\":\"data\"},\"line_color\":{\"field\":\"line_color\"},\"width\":{\"field\":\"width\",\"units\":\"data\"},\"x\":{\"field\":\"x\"},\"y\":{\"field\":\"y\"}},\"id\":\"c4b6ce24-6aef-4d7b-aec7-5744fc1ffecf\",\"type\":\"Rect\"},{\"attributes\":{\"callback\":null,\"column_names\":[\"height\",\"fill_alpha\",\"width\",\"color\",\"line_color\",\"line_alpha\",\"y\",\"x\",\"label\"],\"data\":{\"PercentageAmongstTop\":[2.846028505368103],\"QuestCreationYear\":[\"Oct'13-14\"],\"QuestTags\":[\"python-3.x\"],\"YearTagCount\":[4419],\"chart_index\":[{\"PercentageAmongstTop\":2.846028505368103,\"QuestCreationYear\":\"Oct'13-14\",\"QuestTags\":\"python-3.x\",\"YearTagCount\":4419}],\"color\":[\"#778899\"],\"fill_alpha\":[0.8],\"height\":[2.846028505368103],\"label\":[{\"PercentageAmongstTop\":2.846028505368103,\"QuestCreationYear\":\"Oct'13-14\",\"QuestTags\":\"python-3.x\",\"YearTagCount\":4419}],\"line_alpha\":[1.0],\"line_color\":[\"#FFF0F5\"],\"width\":[1.0],\"x\":[\"Oct'13-14\"],\"y\":[96.80264573095725]}},\"id\":\"41324a93-aa08-405d-b6df-f8207b91aa08\",\"type\":\"ColumnDataSource\"},{\"attributes\":{\"callback\":null,\"column_names\":[\"height\",\"fill_alpha\",\"width\",\"color\",\"line_color\",\"line_alpha\",\"y\",\"x\",\"label\"],\"data\":{\"PercentageAmongstTop\":[76.60781028483052],\"QuestCreationYear\":[\"Oct'09-10\"],\"QuestTags\":[\"python\"],\"YearTagCount\":[23776],\"chart_index\":[{\"PercentageAmongstTop\":76.60781028483052,\"QuestCreationYear\":\"Oct'09-10\",\"QuestTags\":\"python\",\"YearTagCount\":23776}],\"color\":[\"#20B2AA\"],\"fill_alpha\":[0.8],\"height\":[76.60781028483052],\"label\":[{\"PercentageAmongstTop\":76.60781028483052,\"QuestCreationYear\":\"Oct'09-10\",\"QuestTags\":\"python\",\"YearTagCount\":23776}],\"line_alpha\":[1.0],\"line_color\":[\"#FFB6C1\"],\"width\":[1.0],\"x\":[\"Oct'09-10\"],\"y\":[57.11431885552262]}},\"id\":\"3891ba99-f75a-465b-94a9-b7c4dd1e6a8e\",\"type\":\"ColumnDataSource\"},{\"attributes\":{\"callback\":null,\"column_names\":[\"height\",\"fill_alpha\",\"width\",\"color\",\"line_color\",\"line_alpha\",\"y\",\"x\",\"label\"],\"data\":{\"PercentageAmongstTop\":[1.1459710702408141],\"QuestCreationYear\":[\"Oct'10-11\"],\"QuestTags\":[\"matplotlib\"],\"YearTagCount\":[572],\"chart_index\":[{\"PercentageAmongstTop\":1.1459710702408141,\"QuestCreationYear\":\"Oct'10-11\",\"QuestTags\":\"matplotlib\",\"YearTagCount\":572}],\"color\":[\"#ADD8E6\"],\"fill_alpha\":[0.8],\"height\":[1.1459710702408141],\"label\":[{\"PercentageAmongstTop\":1.1459710702408141,\"QuestCreationYear\":\"Oct'10-11\",\"QuestTags\":\"matplotlib\",\"YearTagCount\":572}],\"line_alpha\":[1.0],\"line_color\":[\"#40E0D0\"],\"width\":[1.0],\"x\":[\"Oct'10-11\"],\"y\":[16.53644268141203]}},\"id\":\"df456bba-acb8-42d1-adae-e266e1baf95e\",\"type\":\"ColumnDataSource\"},{\"attributes\":{\"callback\":null,\"column_names\":[\"height\",\"fill_alpha\",\"width\",\"color\",\"line_color\",\"line_alpha\",\"y\",\"x\",\"label\"],\"data\":{\"PercentageAmongstTop\":[1.8531717747683536],\"QuestCreationYear\":[\"Oct'08-09\"],\"QuestTags\":[\"regex\"],\"YearTagCount\":[234],\"chart_index\":[{\"PercentageAmongstTop\":1.8531717747683536,\"QuestCreationYear\":\"Oct'08-09\",\"QuestTags\":\"regex\",\"YearTagCount\":234}],\"color\":[\"#9370DB\"],\"fill_alpha\":[0.8],\"height\":[1.8531717747683536],\"label\":[{\"PercentageAmongstTop\":1.8531717747683536,\"QuestCreationYear\":\"Oct'08-09\",\"QuestTags\":\"regex\",\"YearTagCount\":234}],\"line_alpha\":[1.0],\"line_color\":[\"#ADD8E6\"],\"width\":[1.0],\"x\":[\"Oct'08-09\"],\"y\":[94.54343866318207]}},\"id\":\"28439406-d6ae-4094-803e-b0f6d652fd1b\",\"type\":\"ColumnDataSource\"},{\"attributes\":{\"callback\":null,\"column_names\":[\"height\",\"fill_alpha\",\"width\",\"color\",\"line_color\",\"line_alpha\",\"y\",\"x\",\"label\"],\"data\":{\"PercentageAmongstTop\":[1.5723675731408686],\"QuestCreationYear\":[\"Oct'09-10\"],\"QuestTags\":[\"string\"],\"YearTagCount\":[488],\"chart_index\":[{\"PercentageAmongstTop\":1.5723675731408686,\"QuestCreationYear\":\"Oct'09-10\",\"QuestTags\":\"string\",\"YearTagCount\":488}],\"color\":[\"#40E0D0\"],\"fill_alpha\":[0.8],\"height\":[1.5723675731408686],\"label\":[{\"PercentageAmongstTop\":1.5723675731408686,\"QuestCreationYear\":\"Oct'09-10\",\"QuestTags\":\"string\",\"YearTagCount\":488}],\"line_alpha\":[1.0],\"line_color\":[\"#FFA07A\"],\"width\":[1.0],\"x\":[\"Oct'09-10\"],\"y\":[97.97332130429179]}},\"id\":\"b05c88aa-8d01-48b6-8313-a493026267ef\",\"type\":\"ColumnDataSource\"},{\"attributes\":{\"fill_alpha\":{\"field\":\"fill_alpha\"},\"fill_color\":{\"field\":\"color\"},\"height\":{\"field\":\"height\",\"units\":\"data\"},\"line_color\":{\"field\":\"line_color\"},\"width\":{\"field\":\"width\",\"units\":\"data\"},\"x\":{\"field\":\"x\"},\"y\":{\"field\":\"y\"}},\"id\":\"9f7d6912-3056-4fe5-948c-3a16749bb21f\",\"type\":\"Rect\"},{\"attributes\":{\"fill_alpha\":{\"field\":\"fill_alpha\"},\"fill_color\":{\"field\":\"color\"},\"height\":{\"field\":\"height\",\"units\":\"data\"},\"line_color\":{\"field\":\"line_color\"},\"width\":{\"field\":\"width\",\"units\":\"data\"},\"x\":{\"field\":\"x\"},\"y\":{\"field\":\"y\"}},\"id\":\"58162c9e-4327-491d-b9fb-b20edcdcda68\",\"type\":\"Rect\"},{\"attributes\":{\"fill_alpha\":{\"field\":\"fill_alpha\"},\"fill_color\":{\"field\":\"color\"},\"height\":{\"field\":\"height\",\"units\":\"data\"},\"line_color\":{\"field\":\"line_color\"},\"width\":{\"field\":\"width\",\"units\":\"data\"},\"x\":{\"field\":\"x\"},\"y\":{\"field\":\"y\"}},\"id\":\"6f7e9217-1fa7-43ff-9b99-2e40aef091ac\",\"type\":\"Rect\"},{\"attributes\":{\"callback\":null,\"column_names\":[\"height\",\"fill_alpha\",\"width\",\"color\",\"line_color\",\"line_alpha\",\"y\",\"x\",\"label\"],\"data\":{\"PercentageAmongstTop\":[2.9851344312217014],\"QuestCreationYear\":[\"Oct'10-11\"],\"QuestTags\":[\"google-app-engine\"],\"YearTagCount\":[1490],\"chart_index\":[{\"PercentageAmongstTop\":2.9851344312217014,\"QuestCreationYear\":\"Oct'10-11\",\"QuestTags\":\"google-app-engine\",\"YearTagCount\":1490}],\"color\":[\"#FFF0F5\"],\"fill_alpha\":[0.8],\"height\":[2.9851344312217014],\"label\":[{\"PercentageAmongstTop\":2.9851344312217014,\"QuestCreationYear\":\"Oct'10-11\",\"QuestTags\":\"google-app-engine\",\"YearTagCount\":1490}],\"line_alpha\":[1.0],\"line_color\":[\"#778899\"],\"width\":[1.0],\"x\":[\"Oct'10-11\"],\"y\":[12.49348880073727]}},\"id\":\"92c0acfa-1212-4310-a82f-add022341686\",\"type\":\"ColumnDataSource\"},{\"attributes\":{\"callback\":null,\"column_names\":[\"height\",\"fill_alpha\",\"width\",\"color\",\"line_color\",\"line_alpha\",\"y\",\"x\",\"label\"],\"data\":{\"PercentageAmongstTop\":[9.875628302616317],\"QuestCreationYear\":[\"Oct'09-10\"],\"QuestTags\":[\"django\"],\"YearTagCount\":[3065],\"chart_index\":[{\"PercentageAmongstTop\":9.875628302616317,\"QuestCreationYear\":\"Oct'09-10\",\"QuestTags\":\"django\",\"YearTagCount\":3065}],\"color\":[\"#FF6347\"],\"fill_alpha\":[0.8],\"height\":[9.875628302616317],\"label\":[{\"PercentageAmongstTop\":9.875628302616317,\"QuestCreationYear\":\"Oct'09-10\",\"QuestTags\":\"django\",\"YearTagCount\":3065}],\"line_alpha\":[1.0],\"line_color\":[\"#FFB6C1\"],\"width\":[1.0],\"x\":[\"Oct'09-10\"],\"y\":[4.937814151308158]}},\"id\":\"a7da8952-00ae-4fb7-9d4f-3cd6dace7e8a\",\"type\":\"ColumnDataSource\"},{\"attributes\":{\"callback\":null,\"column_names\":[\"height\",\"fill_alpha\",\"width\",\"color\",\"line_color\",\"line_alpha\",\"y\",\"x\",\"label\"],\"data\":{\"PercentageAmongstTop\":[1.4809535123148807],\"QuestCreationYear\":[\"Oct'08-09\"],\"QuestTags\":[\"string\"],\"YearTagCount\":[187],\"chart_index\":[{\"PercentageAmongstTop\":1.4809535123148807,\"QuestCreationYear\":\"Oct'08-09\",\"QuestTags\":\"string\",\"YearTagCount\":187}],\"color\":[\"#40E0D0\"],\"fill_alpha\":[0.8],\"height\":[1.4809535123148807],\"label\":[{\"PercentageAmongstTop\":1.4809535123148807,\"QuestCreationYear\":\"Oct'08-09\",\"QuestTags\":\"string\",\"YearTagCount\":187}],\"line_alpha\":[1.0],\"line_color\":[\"#F0E68C\"],\"width\":[1.0],\"x\":[\"Oct'08-09\"],\"y\":[96.21050130672369]}},\"id\":\"372832d4-f030-4644-bbd3-ff2d54b133f8\",\"type\":\"ColumnDataSource\"},{\"attributes\":{\"callback\":null,\"column_names\":[\"height\",\"fill_alpha\",\"width\",\"color\",\"line_color\",\"line_alpha\",\"y\",\"x\",\"label\"],\"data\":{\"PercentageAmongstTop\":[1.8832391713747645],\"QuestCreationYear\":[\"Oct'10-11\"],\"QuestTags\":[\"regex\"],\"YearTagCount\":[940],\"chart_index\":[{\"PercentageAmongstTop\":1.8832391713747645,\"QuestCreationYear\":\"Oct'10-11\",\"QuestTags\":\"regex\",\"YearTagCount\":940}],\"color\":[\"#9370DB\"],\"fill_alpha\":[0.8],\"height\":[1.8832391713747645],\"label\":[{\"PercentageAmongstTop\":1.8832391713747645,\"QuestCreationYear\":\"Oct'10-11\",\"QuestTags\":\"regex\",\"YearTagCount\":940}],\"line_alpha\":[1.0],\"line_color\":[\"#E6E6FA\"],\"width\":[1.0],\"x\":[\"Oct'10-11\"],\"y\":[97.60187522538766]}},\"id\":\"95e3dcdb-1a4b-49c2-bce7-aeb641c11e3a\",\"type\":\"ColumnDataSource\"},{\"attributes\":{\"callback\":null,\"column_names\":[\"height\",\"fill_alpha\",\"width\",\"color\",\"line_color\",\"line_alpha\",\"y\",\"x\",\"label\"],\"data\":{\"PercentageAmongstTop\":[2.650574934437301],\"QuestCreationYear\":[\"Oct'12-13\"],\"QuestTags\":[\"list\"],\"YearTagCount\":[3022],\"chart_index\":[{\"PercentageAmongstTop\":2.650574934437301,\"QuestCreationYear\":\"Oct'12-13\",\"QuestTags\":\"list\",\"YearTagCount\":3022}],\"color\":[\"#90EE90\"],\"fill_alpha\":[0.8],\"height\":[2.650574934437301],\"label\":[{\"PercentageAmongstTop\":2.650574934437301,\"QuestCreationYear\":\"Oct'12-13\",\"QuestTags\":\"list\",\"YearTagCount\":3022}],\"line_alpha\":[1.0],\"line_color\":[\"#D3D3D3\"],\"width\":[1.0],\"x\":[\"Oct'12-13\"],\"y\":[9.907642110987345]}},\"id\":\"b2e77d23-2f49-4676-a931-660c296e0ca9\",\"type\":\"ColumnDataSource\"},{\"attributes\":{\"callback\":null,\"column_names\":[\"height\",\"fill_alpha\",\"width\",\"color\",\"line_color\",\"line_alpha\",\"y\",\"x\",\"label\"],\"data\":{\"PercentageAmongstTop\":[2.158607138958629],\"QuestCreationYear\":[\"Oct'11-12\"],\"QuestTags\":[\"list\"],\"YearTagCount\":[1582],\"chart_index\":[{\"PercentageAmongstTop\":2.158607138958629,\"QuestCreationYear\":\"Oct'11-12\",\"QuestTags\":\"list\",\"YearTagCount\":1582}],\"color\":[\"#90EE90\"],\"fill_alpha\":[0.8],\"height\":[2.158607138958629],\"label\":[{\"PercentageAmongstTop\":2.158607138958629,\"QuestCreationYear\":\"Oct'11-12\",\"QuestTags\":\"list\",\"YearTagCount\":1582}],\"line_alpha\":[1.0],\"line_color\":[\"#9370DB\"],\"width\":[1.0],\"x\":[\"Oct'11-12\"],\"y\":[12.008787250300186]}},\"id\":\"cc89b6fc-6d1b-44de-93d1-b2420de01da8\",\"type\":\"ColumnDataSource\"},{\"attributes\":{\"callback\":null,\"column_names\":[\"height\",\"fill_alpha\",\"width\",\"color\",\"line_color\",\"line_alpha\",\"y\",\"x\",\"label\"],\"data\":{\"PercentageAmongstTop\":[1.72058254929759],\"QuestCreationYear\":[\"Oct'09-10\"],\"QuestTags\":[\"list\"],\"YearTagCount\":[534],\"chart_index\":[{\"PercentageAmongstTop\":1.72058254929759,\"QuestCreationYear\":\"Oct'09-10\",\"QuestTags\":\"list\",\"YearTagCount\":534}],\"color\":[\"#90EE90\"],\"fill_alpha\":[0.8],\"height\":[1.72058254929759],\"label\":[{\"PercentageAmongstTop\":1.72058254929759,\"QuestCreationYear\":\"Oct'09-10\",\"QuestTags\":\"list\",\"YearTagCount\":534}],\"line_alpha\":[1.0],\"line_color\":[\"#778899\"],\"width\":[1.0],\"x\":[\"Oct'09-10\"],\"y\":[15.391803067405593]}},\"id\":\"bf651b8e-c019-4b7d-96aa-9692bbab4ff2\",\"type\":\"ColumnDataSource\"},{\"attributes\":{\"callback\":null,\"column_names\":[\"height\",\"fill_alpha\",\"width\",\"color\",\"line_color\",\"line_alpha\",\"y\",\"x\",\"label\"],\"data\":{\"PercentageAmongstTop\":[1.7112237471742588],\"QuestCreationYear\":[\"Oct'13-14\"],\"QuestTags\":[\"dictionary\"],\"YearTagCount\":[2657],\"chart_index\":[{\"PercentageAmongstTop\":1.7112237471742588,\"QuestCreationYear\":\"Oct'13-14\",\"QuestTags\":\"dictionary\",\"YearTagCount\":2657}],\"color\":[\"#4B0082\"],\"fill_alpha\":[0.8],\"height\":[1.7112237471742588],\"label\":[{\"PercentageAmongstTop\":1.7112237471742588,\"QuestCreationYear\":\"Oct'13-14\",\"QuestTags\":\"dictionary\",\"YearTagCount\":2657}],\"line_alpha\":[1.0],\"line_color\":[\"#90EE90\"],\"width\":[1.0],\"x\":[\"Oct'13-14\"],\"y\":[0.8556118735871294]}},\"id\":\"39f5cbbb-2239-49f9-9ee3-624bab4a86fb\",\"type\":\"ColumnDataSource\"},{\"attributes\":{\"callback\":null,\"column_names\":[\"height\",\"fill_alpha\",\"width\",\"color\",\"line_color\",\"line_alpha\",\"y\",\"x\",\"label\"],\"data\":{\"PercentageAmongstTop\":[7.1622469315362025],\"QuestCreationYear\":[\"Oct'14-15\"],\"QuestTags\":[\"django\"],\"YearTagCount\":[12902],\"chart_index\":[{\"PercentageAmongstTop\":7.1622469315362025,\"QuestCreationYear\":\"Oct'14-15\",\"QuestTags\":\"django\",\"YearTagCount\":12902}],\"color\":[\"#FF6347\"],\"fill_alpha\":[0.8],\"height\":[7.1622469315362025],\"label\":[{\"PercentageAmongstTop\":7.1622469315362025,\"QuestCreationYear\":\"Oct'14-15\",\"QuestTags\":\"django\",\"YearTagCount\":12902}],\"line_alpha\":[1.0],\"line_color\":[\"#F08080\"],\"width\":[1.0],\"x\":[\"Oct'14-15\"],\"y\":[5.323111597155529]}},\"id\":\"e465103b-30ba-45a5-ae24-5fa34d9349f0\",\"type\":\"ColumnDataSource\"},{\"attributes\":{\"axis_label\":\"Year in which Question was Created\",\"formatter\":{\"id\":\"524d5b65-b827-4b0e-819c-b8632feca437\",\"type\":\"CategoricalTickFormatter\"},\"major_label_orientation\":0.7853981633974483,\"plot\":{\"id\":\"e7f3ca80-83f1-4bdd-bfdf-faf2d13f335d\",\"subtype\":\"Chart\",\"type\":\"Plot\"},\"ticker\":{\"id\":\"f864a9b1-10c6-40c0-a765-b1184c1fef86\",\"type\":\"CategoricalTicker\"}},\"id\":\"3c283db4-bdb5-4f5f-a01f-aeaa8f2c7baf\",\"type\":\"CategoricalAxis\"},{\"attributes\":{\"callback\":null,\"column_names\":[\"height\",\"fill_alpha\",\"width\",\"color\",\"line_color\",\"line_alpha\",\"y\",\"x\",\"label\"],\"data\":{\"PercentageAmongstTop\":[1.9096294171588504],\"QuestCreationYear\":[\"Oct'15-16\"],\"QuestTags\":[\"list\"],\"YearTagCount\":[4394],\"chart_index\":[{\"PercentageAmongstTop\":1.9096294171588504,\"QuestCreationYear\":\"Oct'15-16\",\"QuestTags\":\"list\",\"YearTagCount\":4394}],\"color\":[\"#90EE90\"],\"fill_alpha\":[0.8],\"height\":[1.9096294171588504],\"label\":[{\"PercentageAmongstTop\":1.9096294171588504,\"QuestCreationYear\":\"Oct'15-16\",\"QuestTags\":\"list\",\"YearTagCount\":4394}],\"line_alpha\":[1.0],\"line_color\":[\"#E6E6FA\"],\"width\":[1.0],\"x\":[\"Oct'15-16\"],\"y\":[10.199176868885731]}},\"id\":\"082d9b40-6f9f-411d-9a6d-0cf4b6a3ddc1\",\"type\":\"ColumnDataSource\"},{\"attributes\":{\"data_source\":{\"id\":\"c27db51a-c049-4ff5-9354-549cd6d8ed6e\",\"type\":\"ColumnDataSource\"},\"glyph\":{\"id\":\"003d0656-8c9a-4b9a-8230-751b7bc7f923\",\"type\":\"Rect\"},\"hover_glyph\":null,\"nonselection_glyph\":null,\"selection_glyph\":null},\"id\":\"ec46a6c2-1e4c-481d-a080-7ddc6fb375c5\",\"type\":\"GlyphRenderer\"},{\"attributes\":{\"data_source\":{\"id\":\"96875960-d82a-48cb-a9ed-810b87264501\",\"type\":\"ColumnDataSource\"},\"glyph\":{\"id\":\"f4125655-2a16-4f70-b7c2-f787a6af207a\",\"type\":\"Rect\"},\"hover_glyph\":null,\"nonselection_glyph\":null,\"selection_glyph\":null},\"id\":\"f2a8949f-cc30-401c-8dca-a9f811b94404\",\"type\":\"GlyphRenderer\"},{\"attributes\":{\"data_source\":{\"id\":\"2f848e31-235a-4801-b909-0708fdbaed79\",\"type\":\"ColumnDataSource\"},\"glyph\":{\"id\":\"b2a33f15-008f-4857-a565-92403e139af9\",\"type\":\"Rect\"},\"hover_glyph\":null,\"nonselection_glyph\":null,\"selection_glyph\":null},\"id\":\"be06886e-af4e-443b-831c-648cd1299c4d\",\"type\":\"GlyphRenderer\"},{\"attributes\":{\"callback\":null,\"column_names\":[\"height\",\"fill_alpha\",\"width\",\"color\",\"line_color\",\"line_alpha\",\"y\",\"x\",\"label\"],\"data\":{\"PercentageAmongstTop\":[6.326896917387015],\"QuestCreationYear\":[\"Oct'15-16\"],\"QuestTags\":[\"django\"],\"YearTagCount\":[14558],\"chart_index\":[{\"PercentageAmongstTop\":6.326896917387015,\"QuestCreationYear\":\"Oct'15-16\",\"QuestTags\":\"django\",\"YearTagCount\":14558}],\"color\":[\"#FF6347\"],\"fill_alpha\":[0.8],\"height\":[6.326896917387015],\"label\":[{\"PercentageAmongstTop\":6.326896917387015,\"QuestCreationYear\":\"Oct'15-16\",\"QuestTags\":\"django\",\"YearTagCount\":14558}],\"line_alpha\":[1.0],\"line_color\":[\"#D3D3D3\"],\"width\":[1.0],\"x\":[\"Oct'15-16\"],\"y\":[4.7288752134969165]}},\"id\":\"98fa51ff-f1a9-45e7-8ad4-c19a0e89a497\",\"type\":\"ColumnDataSource\"},{\"attributes\":{\"fill_alpha\":{\"field\":\"fill_alpha\"},\"fill_color\":{\"field\":\"color\"},\"height\":{\"field\":\"height\",\"units\":\"data\"},\"line_color\":{\"field\":\"line_color\"},\"width\":{\"field\":\"width\",\"units\":\"data\"},\"x\":{\"field\":\"x\"},\"y\":{\"field\":\"y\"}},\"id\":\"8c27087f-407e-4726-92c6-81d7b0bdca50\",\"type\":\"Rect\"},{\"attributes\":{\"fill_alpha\":{\"field\":\"fill_alpha\"},\"fill_color\":{\"field\":\"color\"},\"height\":{\"field\":\"height\",\"units\":\"data\"},\"line_color\":{\"field\":\"line_color\"},\"width\":{\"field\":\"width\",\"units\":\"data\"},\"x\":{\"field\":\"x\"},\"y\":{\"field\":\"y\"}},\"id\":\"cc250c38-b180-4e49-84a1-31cf652a11a5\",\"type\":\"Rect\"},{\"attributes\":{\"data_source\":{\"id\":\"3247be97-73e6-40f7-94cc-662b27bafbdb\",\"type\":\"ColumnDataSource\"},\"glyph\":{\"id\":\"a9f1c3c6-2210-4f74-8d73-7a2b63ab3fcb\",\"type\":\"Rect\"},\"hover_glyph\":null,\"nonselection_glyph\":null,\"selection_glyph\":null},\"id\":\"8d61f336-7dad-403f-976d-ce24c35b7753\",\"type\":\"GlyphRenderer\"},{\"attributes\":{\"data_source\":{\"id\":\"641f0065-4d20-416c-a7dd-816271a0553c\",\"type\":\"ColumnDataSource\"},\"glyph\":{\"id\":\"a15f7cf3-edab-445e-8f20-12474efa9a8d\",\"type\":\"Rect\"},\"hover_glyph\":null,\"nonselection_glyph\":null,\"selection_glyph\":null},\"id\":\"ecf513e4-b9ac-4a23-b58a-36f7347bd024\",\"type\":\"GlyphRenderer\"},{\"attributes\":{\"data_source\":{\"id\":\"c5722944-e4af-4e6b-91e5-1d79c1113c7d\",\"type\":\"ColumnDataSource\"},\"glyph\":{\"id\":\"fa9634d6-253b-4814-9c0e-2d8b4883545a\",\"type\":\"Rect\"},\"hover_glyph\":null,\"nonselection_glyph\":null,\"selection_glyph\":null},\"id\":\"27881310-9460-4766-852d-9cf43972abc7\",\"type\":\"GlyphRenderer\"},{\"attributes\":{\"callback\":null,\"column_names\":[\"height\",\"fill_alpha\",\"width\",\"color\",\"line_color\",\"line_alpha\",\"y\",\"x\",\"label\"],\"data\":{\"PercentageAmongstTop\":[1.8802532474620675],\"QuestCreationYear\":[\"Oct'11-12\"],\"QuestTags\":[\"regex\"],\"YearTagCount\":[1378],\"chart_index\":[{\"PercentageAmongstTop\":1.8802532474620675,\"QuestCreationYear\":\"Oct'11-12\",\"QuestTags\":\"regex\",\"YearTagCount\":1378}],\"color\":[\"#9370DB\"],\"fill_alpha\":[0.8],\"height\":[1.8802532474620675],\"label\":[{\"PercentageAmongstTop\":1.8802532474620675,\"QuestCreationYear\":\"Oct'11-12\",\"QuestTags\":\"regex\",\"YearTagCount\":1378}],\"line_alpha\":[1.0],\"line_color\":[\"#FFA07A\"],\"width\":[1.0],\"x\":[\"Oct'11-12\"],\"y\":[97.67901975766836]}},\"id\":\"8935129c-13d6-46db-b02e-a471dd2aa512\",\"type\":\"ColumnDataSource\"},{\"attributes\":{\"callback\":null,\"column_names\":[\"height\",\"fill_alpha\",\"width\",\"color\",\"line_color\",\"line_alpha\",\"y\",\"x\",\"label\"],\"data\":{\"PercentageAmongstTop\":[3.072087796018523],\"QuestCreationYear\":[\"Oct'13-14\"],\"QuestTags\":[\"pandas\"],\"YearTagCount\":[4770],\"chart_index\":[{\"PercentageAmongstTop\":3.072087796018523,\"QuestCreationYear\":\"Oct'13-14\",\"QuestTags\":\"pandas\",\"YearTagCount\":4770}],\"color\":[\"#87CEFA\"],\"fill_alpha\":[0.8],\"height\":[3.072087796018523],\"label\":[{\"PercentageAmongstTop\":3.072087796018523,\"QuestCreationYear\":\"Oct'13-14\",\"QuestTags\":\"pandas\",\"YearTagCount\":4770}],\"line_alpha\":[1.0],\"line_color\":[\"#90EE90\"],\"width\":[1.0],\"x\":[\"Oct'13-14\"],\"y\":[18.644417108373208]}},\"id\":\"326fc900-f80e-4c4d-87fc-bb89c6208119\",\"type\":\"ColumnDataSource\"},{\"attributes\":{\"callback\":null,\"column_names\":[\"height\",\"fill_alpha\",\"width\",\"color\",\"line_color\",\"line_alpha\",\"y\",\"x\",\"label\"],\"data\":{\"PercentageAmongstTop\":[3.865348425382621],\"QuestCreationYear\":[\"Oct'14-15\"],\"QuestTags\":[\"pandas\"],\"YearTagCount\":[6963],\"chart_index\":[{\"PercentageAmongstTop\":3.865348425382621,\"QuestCreationYear\":\"Oct'14-15\",\"QuestTags\":\"pandas\",\"YearTagCount\":6963}],\"color\":[\"#87CEFA\"],\"fill_alpha\":[0.8],\"height\":[3.865348425382621],\"label\":[{\"PercentageAmongstTop\":3.865348425382621,\"QuestCreationYear\":\"Oct'14-15\",\"QuestTags\":\"pandas\",\"YearTagCount\":6963}],\"line_alpha\":[1.0],\"line_color\":[\"#778899\"],\"width\":[1.0],\"x\":[\"Oct'14-15\"],\"y\":[18.530412625805628]}},\"id\":\"c63531c7-ec78-4480-a8c4-a7e3afea4cea\",\"type\":\"ColumnDataSource\"},{\"attributes\":{\"fill_alpha\":{\"field\":\"fill_alpha\"},\"fill_color\":{\"field\":\"color\"},\"height\":{\"field\":\"height\",\"units\":\"data\"},\"line_color\":{\"field\":\"line_color\"},\"width\":{\"field\":\"width\",\"units\":\"data\"},\"x\":{\"field\":\"x\"},\"y\":{\"field\":\"y\"}},\"id\":\"eb4385bb-c88c-442d-bbe6-9265713cc0f3\",\"type\":\"Rect\"},{\"attributes\":{\"fill_alpha\":{\"field\":\"fill_alpha\"},\"fill_color\":{\"field\":\"color\"},\"height\":{\"field\":\"height\",\"units\":\"data\"},\"line_color\":{\"field\":\"line_color\"},\"width\":{\"field\":\"width\",\"units\":\"data\"},\"x\":{\"field\":\"x\"},\"y\":{\"field\":\"y\"}},\"id\":\"c4b77df9-886f-4fbd-bfcc-aff0535ccf96\",\"type\":\"Rect\"},{\"attributes\":{\"data_source\":{\"id\":\"e8f61b24-7051-4e87-8fee-77f02d1ffd17\",\"type\":\"ColumnDataSource\"},\"glyph\":{\"id\":\"407fac08-57f7-4be3-9e35-c8c3009015e9\",\"type\":\"Rect\"},\"hover_glyph\":null,\"nonselection_glyph\":null,\"selection_glyph\":null},\"id\":\"59840418-5211-4fd3-b820-880d8276793c\",\"type\":\"GlyphRenderer\"},{\"attributes\":{\"data_source\":{\"id\":\"f14748df-94fe-4291-bfa7-0d92afff7117\",\"type\":\"ColumnDataSource\"},\"glyph\":{\"id\":\"f695a1f9-2fe3-4e08-ab00-7e8686a707cb\",\"type\":\"Rect\"},\"hover_glyph\":null,\"nonselection_glyph\":null,\"selection_glyph\":null},\"id\":\"1a5cd919-68d6-403b-a934-f1b101940cee\",\"type\":\"GlyphRenderer\"},{\"attributes\":{\"callback\":null,\"column_names\":[\"height\",\"fill_alpha\",\"width\",\"color\",\"line_color\",\"line_alpha\",\"y\",\"x\",\"label\"],\"data\":{\"PercentageAmongstTop\":[6.9992018454035945],\"QuestCreationYear\":[\"Oct'12-13\"],\"QuestTags\":[\"django\"],\"YearTagCount\":[7980],\"chart_index\":[{\"PercentageAmongstTop\":6.9992018454035945,\"QuestCreationYear\":\"Oct'12-13\",\"QuestTags\":\"django\",\"YearTagCount\":7980}],\"color\":[\"#FF6347\"],\"fill_alpha\":[0.8],\"height\":[6.9992018454035945],\"label\":[{\"PercentageAmongstTop\":6.9992018454035945,\"QuestCreationYear\":\"Oct'12-13\",\"QuestTags\":\"django\",\"YearTagCount\":7980}],\"line_alpha\":[1.0],\"line_color\":[\"#4B0082\"],\"width\":[1.0],\"x\":[\"Oct'12-13\"],\"y\":[5.082753721066896]}},\"id\":\"641f0065-4d20-416c-a7dd-816271a0553c\",\"type\":\"ColumnDataSource\"},{\"attributes\":{\"fill_alpha\":{\"field\":\"fill_alpha\"},\"fill_color\":{\"field\":\"color\"},\"height\":{\"field\":\"height\",\"units\":\"data\"},\"line_color\":{\"field\":\"line_color\"},\"width\":{\"field\":\"width\",\"units\":\"data\"},\"x\":{\"field\":\"x\"},\"y\":{\"field\":\"y\"}},\"id\":\"f4125655-2a16-4f70-b7c2-f787a6af207a\",\"type\":\"Rect\"},{\"attributes\":{\"data_source\":{\"id\":\"511247da-fa69-4561-af4c-9e1c41a66ee6\",\"type\":\"ColumnDataSource\"},\"glyph\":{\"id\":\"ab1d9d50-e40a-4581-9e85-367d202fce39\",\"type\":\"Rect\"},\"hover_glyph\":null,\"nonselection_glyph\":null,\"selection_glyph\":null},\"id\":\"e73cee97-dd81-48dd-b980-d157067e9e4c\",\"type\":\"GlyphRenderer\"},{\"attributes\":{\"fill_alpha\":{\"field\":\"fill_alpha\"},\"fill_color\":{\"field\":\"color\"},\"height\":{\"field\":\"height\",\"units\":\"data\"},\"line_color\":{\"field\":\"line_color\"},\"width\":{\"field\":\"width\",\"units\":\"data\"},\"x\":{\"field\":\"x\"},\"y\":{\"field\":\"y\"}},\"id\":\"27bce7dc-abc8-4187-9df2-8e9bbda9ac7a\",\"type\":\"Rect\"},{\"attributes\":{\"callback\":null,\"column_names\":[\"height\",\"fill_alpha\",\"width\",\"color\",\"line_color\",\"line_alpha\",\"y\",\"x\",\"label\"],\"data\":{\"PercentageAmongstTop\":[72.87326883776412],\"QuestCreationYear\":[\"Oct'12-13\"],\"QuestTags\":[\"python\"],\"YearTagCount\":[83085],\"chart_index\":[{\"PercentageAmongstTop\":72.87326883776412,\"QuestCreationYear\":\"Oct'12-13\",\"QuestTags\":\"python\",\"YearTagCount\":83085}],\"color\":[\"#20B2AA\"],\"fill_alpha\":[0.8],\"height\":[72.87326883776412],\"label\":[{\"PercentageAmongstTop\":72.87326883776412,\"QuestCreationYear\":\"Oct'12-13\",\"QuestTags\":\"python\",\"YearTagCount\":83085}],\"line_alpha\":[1.0],\"line_color\":[\"#FFA07A\"],\"width\":[1.0],\"x\":[\"Oct'12-13\"],\"y\":[54.23811319761782]}},\"id\":\"12a40abf-f728-473e-ad92-c401bc925e40\",\"type\":\"ColumnDataSource\"},{\"attributes\":{\"fill_alpha\":{\"field\":\"fill_alpha\"},\"fill_color\":{\"field\":\"color\"},\"height\":{\"field\":\"height\",\"units\":\"data\"},\"line_color\":{\"field\":\"line_color\"},\"width\":{\"field\":\"width\",\"units\":\"data\"},\"x\":{\"field\":\"x\"},\"y\":{\"field\":\"y\"}},\"id\":\"821e2a52-ef3a-4ddd-8d0c-c35cca908482\",\"type\":\"Rect\"},{\"attributes\":{\"callback\":null,\"column_names\":[\"height\",\"fill_alpha\",\"width\",\"color\",\"line_color\",\"line_alpha\",\"y\",\"x\",\"label\"],\"data\":{\"PercentageAmongstTop\":[4.583284440909703],\"QuestCreationYear\":[\"Oct'15-16\"],\"QuestTags\":[\"python-3.x\"],\"YearTagCount\":[10546],\"chart_index\":[{\"PercentageAmongstTop\":4.583284440909703,\"QuestCreationYear\":\"Oct'15-16\",\"QuestTags\":\"python-3.x\",\"YearTagCount\":10546}],\"color\":[\"#778899\"],\"fill_alpha\":[0.8],\"height\":[4.583284440909703],\"label\":[{\"PercentageAmongstTop\":4.583284440909703,\"QuestCreationYear\":\"Oct'15-16\",\"QuestTags\":\"python-3.x\",\"YearTagCount\":10546}],\"line_alpha\":[1.0],\"line_color\":[\"#E6E6FA\"],\"width\":[1.0],\"x\":[\"Oct'15-16\"],\"y\":[97.70835777954514]}},\"id\":\"987f3c66-3b86-4a69-beb0-7c5ca75f3a72\",\"type\":\"ColumnDataSource\"},{\"attributes\":{\"fill_alpha\":{\"field\":\"fill_alpha\"},\"fill_color\":{\"field\":\"color\"},\"height\":{\"field\":\"height\",\"units\":\"data\"},\"line_color\":{\"field\":\"line_color\"},\"width\":{\"field\":\"width\",\"units\":\"data\"},\"x\":{\"field\":\"x\"},\"y\":{\"field\":\"y\"}},\"id\":\"f9280373-1ca3-4f16-94f3-0413c7e9696c\",\"type\":\"Rect\"},{\"attributes\":{\"fill_alpha\":{\"field\":\"fill_alpha\"},\"fill_color\":{\"field\":\"color\"},\"height\":{\"field\":\"height\",\"units\":\"data\"},\"line_color\":{\"field\":\"line_color\"},\"width\":{\"field\":\"width\",\"units\":\"data\"},\"x\":{\"field\":\"x\"},\"y\":{\"field\":\"y\"}},\"id\":\"e0566b3b-554e-4f87-a85f-9fbb0c782f36\",\"type\":\"Rect\"},{\"attributes\":{\"fill_alpha\":{\"field\":\"fill_alpha\"},\"fill_color\":{\"field\":\"color\"},\"height\":{\"field\":\"height\",\"units\":\"data\"},\"line_color\":{\"field\":\"line_color\"},\"width\":{\"field\":\"width\",\"units\":\"data\"},\"x\":{\"field\":\"x\"},\"y\":{\"field\":\"y\"}},\"id\":\"92a535cd-2bcb-4335-bec3-97b9e32552f4\",\"type\":\"Rect\"},{\"attributes\":{\"callback\":null,\"column_names\":[\"height\",\"fill_alpha\",\"width\",\"color\",\"line_color\",\"line_alpha\",\"y\",\"x\",\"label\"],\"data\":{\"PercentageAmongstTop\":[1.6947810247881523],\"QuestCreationYear\":[\"Oct'08-09\"],\"QuestTags\":[\"list\"],\"YearTagCount\":[214],\"chart_index\":[{\"PercentageAmongstTop\":1.6947810247881523,\"QuestCreationYear\":\"Oct'08-09\",\"QuestTags\":\"list\",\"YearTagCount\":214}],\"color\":[\"#90EE90\"],\"fill_alpha\":[0.8],\"height\":[1.6947810247881523],\"label\":[{\"PercentageAmongstTop\":1.6947810247881523,\"QuestCreationYear\":\"Oct'08-09\",\"QuestTags\":\"list\",\"YearTagCount\":214}],\"line_alpha\":[1.0],\"line_color\":[\"#FFF0F5\"],\"width\":[1.0],\"x\":[\"Oct'08-09\"],\"y\":[14.888730498138909]}},\"id\":\"b0093893-7d21-453b-87a1-37f73245447d\",\"type\":\"ColumnDataSource\"},{\"attributes\":{\"callback\":null,\"column_names\":[\"height\",\"fill_alpha\",\"width\",\"color\",\"line_color\",\"line_alpha\",\"y\",\"x\",\"label\"],\"data\":{\"PercentageAmongstTop\":[1.3808536186005895],\"QuestCreationYear\":[\"Oct'11-12\"],\"QuestTags\":[\"string\"],\"YearTagCount\":[1012],\"chart_index\":[{\"PercentageAmongstTop\":1.3808536186005895,\"QuestCreationYear\":\"Oct'11-12\",\"QuestTags\":\"string\",\"YearTagCount\":1012}],\"color\":[\"#40E0D0\"],\"fill_alpha\":[0.8],\"height\":[1.3808536186005895],\"label\":[{\"PercentageAmongstTop\":1.3808536186005895,\"QuestCreationYear\":\"Oct'11-12\",\"QuestTags\":\"string\",\"YearTagCount\":1012}],\"line_alpha\":[1.0],\"line_color\":[\"#ADD8E6\"],\"width\":[1.0],\"x\":[\"Oct'11-12\"],\"y\":[99.30957319069968]}},\"id\":\"dfb8d549-677e-4efc-823a-a4b9e5bccdd3\",\"type\":\"ColumnDataSource\"},{\"attributes\":{\"data_source\":{\"id\":\"ef960908-6c54-450b-bfb4-0da3a749fdaf\",\"type\":\"ColumnDataSource\"},\"glyph\":{\"id\":\"dddda380-bd7b-49e8-80b2-7ac451d46ef9\",\"type\":\"Rect\"},\"hover_glyph\":null,\"nonselection_glyph\":null,\"selection_glyph\":null},\"id\":\"88dca864-aca0-4bb9-8e16-d0b9060db3bb\",\"type\":\"GlyphRenderer\"},{\"attributes\":{\"callback\":null,\"column_names\":[\"height\",\"fill_alpha\",\"width\",\"color\",\"line_color\",\"line_alpha\",\"y\",\"x\",\"label\"],\"data\":{\"PercentageAmongstTop\":[2.4069424735290905],\"QuestCreationYear\":[\"Oct'11-12\"],\"QuestTags\":[\"google-app-engine\"],\"YearTagCount\":[1764],\"chart_index\":[{\"PercentageAmongstTop\":2.4069424735290905,\"QuestCreationYear\":\"Oct'11-12\",\"QuestTags\":\"google-app-engine\",\"YearTagCount\":1764}],\"color\":[\"#FFF0F5\"],\"fill_alpha\":[0.8],\"height\":[2.4069424735290905],\"label\":[{\"PercentageAmongstTop\":2.4069424735290905,\"QuestCreationYear\":\"Oct'11-12\",\"QuestTags\":\"google-app-engine\",\"YearTagCount\":1764}],\"line_alpha\":[1.0],\"line_color\":[\"#40E0D0\"],\"width\":[1.0],\"x\":[\"Oct'11-12\"],\"y\":[9.726012444056327]}},\"id\":\"b7aeb77d-a223-4c29-9303-85773fd2375c\",\"type\":\"ColumnDataSource\"},{\"attributes\":{\"callback\":null,\"column_names\":[\"height\",\"fill_alpha\",\"width\",\"color\",\"line_color\",\"line_alpha\",\"y\",\"x\",\"label\"],\"data\":{\"PercentageAmongstTop\":[76.43346556076452],\"QuestCreationYear\":[\"Oct'10-11\"],\"QuestTags\":[\"python\"],\"YearTagCount\":[38151],\"chart_index\":[{\"PercentageAmongstTop\":76.43346556076452,\"QuestCreationYear\":\"Oct'10-11\",\"QuestTags\":\"python\",\"YearTagCount\":38151}],\"color\":[\"#20B2AA\"],\"fill_alpha\":[0.8],\"height\":[76.43346556076452],\"label\":[{\"PercentageAmongstTop\":76.43346556076452,\"QuestCreationYear\":\"Oct'10-11\",\"QuestTags\":\"python\",\"YearTagCount\":38151}],\"line_alpha\":[1.0],\"line_color\":[\"#87CEFA\"],\"width\":[1.0],\"x\":[\"Oct'10-11\"],\"y\":[57.291541451296226]}},\"id\":\"a3f8cd19-7e76-44e6-b1b7-abb35aeb2bb7\",\"type\":\"ColumnDataSource\"},{\"attributes\":{\"fill_alpha\":{\"field\":\"fill_alpha\"},\"fill_color\":{\"field\":\"color\"},\"height\":{\"field\":\"height\",\"units\":\"data\"},\"line_color\":{\"field\":\"line_color\"},\"width\":{\"field\":\"width\",\"units\":\"data\"},\"x\":{\"field\":\"x\"},\"y\":{\"field\":\"y\"}},\"id\":\"ab1d9d50-e40a-4581-9e85-367d202fce39\",\"type\":\"Rect\"},{\"attributes\":{},\"id\":\"524d5b65-b827-4b0e-819c-b8632feca437\",\"type\":\"CategoricalTickFormatter\"},{\"attributes\":{\"fill_alpha\":{\"field\":\"fill_alpha\"},\"fill_color\":{\"field\":\"color\"},\"height\":{\"field\":\"height\",\"units\":\"data\"},\"line_color\":{\"field\":\"line_color\"},\"width\":{\"field\":\"width\",\"units\":\"data\"},\"x\":{\"field\":\"x\"},\"y\":{\"field\":\"y\"}},\"id\":\"2ac975cf-2b30-4648-b8b7-38456a1e3154\",\"type\":\"Rect\"},{\"attributes\":{\"callback\":null,\"column_names\":[\"height\",\"fill_alpha\",\"width\",\"color\",\"line_color\",\"line_alpha\",\"y\",\"x\",\"label\"],\"data\":{\"PercentageAmongstTop\":[1.6237310337299422],\"QuestCreationYear\":[\"Oct'11-12\"],\"QuestTags\":[\"python-3.x\"],\"YearTagCount\":[1190],\"chart_index\":[{\"PercentageAmongstTop\":1.6237310337299422,\"QuestCreationYear\":\"Oct'11-12\",\"QuestTags\":\"python-3.x\",\"YearTagCount\":1190}],\"color\":[\"#778899\"],\"fill_alpha\":[0.8],\"height\":[1.6237310337299422],\"label\":[{\"PercentageAmongstTop\":1.6237310337299422,\"QuestCreationYear\":\"Oct'11-12\",\"QuestTags\":\"python-3.x\",\"YearTagCount\":1190}],\"line_alpha\":[1.0],\"line_color\":[\"#FFB6C1\"],\"width\":[1.0],\"x\":[\"Oct'11-12\"],\"y\":[95.92702761707235]}},\"id\":\"96875960-d82a-48cb-a9ed-810b87264501\",\"type\":\"ColumnDataSource\"},{\"attributes\":{\"callback\":null,\"column_names\":[\"height\",\"fill_alpha\",\"width\",\"color\",\"line_color\",\"line_alpha\",\"y\",\"x\",\"label\"],\"data\":{\"PercentageAmongstTop\":[1.169609485758474],\"QuestCreationYear\":[\"Oct'09-10\"],\"QuestTags\":[\"mysql\"],\"YearTagCount\":[363],\"chart_index\":[{\"PercentageAmongstTop\":1.169609485758474,\"QuestCreationYear\":\"Oct'09-10\",\"QuestTags\":\"mysql\",\"YearTagCount\":363}],\"color\":[\"#D3D3D3\"],\"fill_alpha\":[0.8],\"height\":[1.169609485758474],\"label\":[{\"PercentageAmongstTop\":1.169609485758474,\"QuestCreationYear\":\"Oct'09-10\",\"QuestTags\":\"mysql\",\"YearTagCount\":363}],\"line_alpha\":[1.0],\"line_color\":[\"#D3D3D3\"],\"width\":[1.0],\"x\":[\"Oct'09-10\"],\"y\":[16.836899084933624]}},\"id\":\"ffffb9f9-1a2e-43c9-b19a-1a7e74608449\",\"type\":\"ColumnDataSource\"},{\"attributes\":{\"callback\":null,\"column_names\":[\"height\",\"fill_alpha\",\"width\",\"color\",\"line_color\",\"line_alpha\",\"y\",\"x\",\"label\"],\"data\":{\"PercentageAmongstTop\":[68.42896691395369],\"QuestCreationYear\":[\"Oct'15-16\"],\"QuestTags\":[\"python\"],\"YearTagCount\":[157453],\"chart_index\":[{\"PercentageAmongstTop\":68.42896691395369,\"QuestCreationYear\":\"Oct'15-16\",\"QuestTags\":\"python\",\"YearTagCount\":157453}],\"color\":[\"#20B2AA\"],\"fill_alpha\":[0.8],\"height\":[68.42896691395369],\"label\":[{\"PercentageAmongstTop\":68.42896691395369,\"QuestCreationYear\":\"Oct'15-16\",\"QuestTags\":\"python\",\"YearTagCount\":157453}],\"line_alpha\":[1.0],\"line_color\":[\"#40E0D0\"],\"width\":[1.0],\"x\":[\"Oct'15-16\"],\"y\":[56.43815434360292]}},\"id\":\"3247be97-73e6-40f7-94cc-662b27bafbdb\",\"type\":\"ColumnDataSource\"},{\"attributes\":{\"data_source\":{\"id\":\"022fcbca-0893-4d1d-bc92-3fba885ee443\",\"type\":\"ColumnDataSource\"},\"glyph\":{\"id\":\"5e7ac381-6fb9-45c0-921d-e26483660d3e\",\"type\":\"Rect\"},\"hover_glyph\":null,\"nonselection_glyph\":null,\"selection_glyph\":null},\"id\":\"5ee65ffe-26cd-4335-9e49-fc9e6faa1b17\",\"type\":\"GlyphRenderer\"},{\"attributes\":{\"callback\":null,\"column_names\":[\"height\",\"fill_alpha\",\"width\",\"color\",\"line_color\",\"line_alpha\",\"y\",\"x\",\"label\"],\"data\":{\"PercentageAmongstTop\":[1.5601488873049814],\"QuestCreationYear\":[\"Oct'08-09\"],\"QuestTags\":[\"django-models\"],\"YearTagCount\":[197],\"chart_index\":[{\"PercentageAmongstTop\":1.5601488873049814,\"QuestCreationYear\":\"Oct'08-09\",\"QuestTags\":\"django-models\",\"YearTagCount\":197}],\"color\":[\"#F0E68C\"],\"fill_alpha\":[0.8],\"height\":[1.5601488873049814],\"label\":[{\"PercentageAmongstTop\":1.5601488873049814,\"QuestCreationYear\":\"Oct'08-09\",\"QuestTags\":\"django-models\",\"YearTagCount\":197}],\"line_alpha\":[1.0],\"line_color\":[\"#E6E6FA\"],\"width\":[1.0],\"x\":[\"Oct'08-09\"],\"y\":[10.655737704918032]}},\"id\":\"a100ac6a-70fe-4148-9d01-009c68b009a9\",\"type\":\"ColumnDataSource\"},{\"attributes\":{\"data_source\":{\"id\":\"e2c20163-ff21-42d7-a47d-f22480105e6e\",\"type\":\"ColumnDataSource\"},\"glyph\":{\"id\":\"17bf9250-2830-4917-b1ff-54ce243fcd15\",\"type\":\"Rect\"},\"hover_glyph\":null,\"nonselection_glyph\":null,\"selection_glyph\":null},\"id\":\"5f7bc13e-ecf2-4d2a-8cdf-8e59cd89fa53\",\"type\":\"GlyphRenderer\"},{\"attributes\":{\"callback\":null,\"column_names\":[\"height\",\"fill_alpha\",\"width\",\"color\",\"line_color\",\"line_alpha\",\"y\",\"x\",\"label\"],\"data\":{\"PercentageAmongstTop\":[1.3887098852944968],\"QuestCreationYear\":[\"Oct'09-10\"],\"QuestTags\":[\"numpy\"],\"YearTagCount\":[431],\"chart_index\":[{\"PercentageAmongstTop\":1.3887098852944968,\"QuestCreationYear\":\"Oct'09-10\",\"QuestTags\":\"numpy\",\"YearTagCount\":431}],\"color\":[\"#FFB6C1\"],\"fill_alpha\":[0.8],\"height\":[1.3887098852944968],\"label\":[{\"PercentageAmongstTop\":1.3887098852944968,\"QuestCreationYear\":\"Oct'09-10\",\"QuestTags\":\"numpy\",\"YearTagCount\":431}],\"line_alpha\":[1.0],\"line_color\":[\"#20B2AA\"],\"width\":[1.0],\"x\":[\"Oct'09-10\"],\"y\":[18.11605877046011]}},\"id\":\"62773f59-c3ec-469b-814f-0923a5a8a3d9\",\"type\":\"ColumnDataSource\"},{\"attributes\":{\"callback\":null,\"column_names\":[\"height\",\"fill_alpha\",\"width\",\"color\",\"line_color\",\"line_alpha\",\"y\",\"x\",\"label\"],\"data\":{\"PercentageAmongstTop\":[1.852420338031628],\"QuestCreationYear\":[\"Oct'12-13\"],\"QuestTags\":[\"matplotlib\"],\"YearTagCount\":[2112],\"chart_index\":[{\"PercentageAmongstTop\":1.852420338031628,\"QuestCreationYear\":\"Oct'12-13\",\"QuestTags\":\"matplotlib\",\"YearTagCount\":2112}],\"color\":[\"#ADD8E6\"],\"fill_alpha\":[0.8],\"height\":[1.852420338031628],\"label\":[{\"PercentageAmongstTop\":1.852420338031628,\"QuestCreationYear\":\"Oct'12-13\",\"QuestTags\":\"matplotlib\",\"YearTagCount\":2112}],\"line_alpha\":[1.0],\"line_color\":[\"#E6E6FA\"],\"width\":[1.0],\"x\":[\"Oct'12-13\"],\"y\":[12.15913974722181]}},\"id\":\"3fc9fab2-cf67-401e-b32c-e948f903fdc6\",\"type\":\"ColumnDataSource\"},{\"attributes\":{\"data_source\":{\"id\":\"95e3dcdb-1a4b-49c2-bce7-aeb641c11e3a\",\"type\":\"ColumnDataSource\"},\"glyph\":{\"id\":\"c4b77df9-886f-4fbd-bfcc-aff0535ccf96\",\"type\":\"Rect\"},\"hover_glyph\":null,\"nonselection_glyph\":null,\"selection_glyph\":null},\"id\":\"1229dec0-23cf-47d5-897f-6fe66729578a\",\"type\":\"GlyphRenderer\"},{\"attributes\":{\"callback\":null,\"column_names\":[\"height\",\"fill_alpha\",\"width\",\"color\",\"line_color\",\"line_alpha\",\"y\",\"x\",\"label\"],\"data\":{\"PercentageAmongstTop\":[1.9774011299435028],\"QuestCreationYear\":[\"Oct'10-11\"],\"QuestTags\":[\"list\"],\"YearTagCount\":[987],\"chart_index\":[{\"PercentageAmongstTop\":1.9774011299435028,\"QuestCreationYear\":\"Oct'10-11\",\"QuestTags\":\"list\",\"YearTagCount\":987}],\"color\":[\"#90EE90\"],\"fill_alpha\":[0.8],\"height\":[1.9774011299435028],\"label\":[{\"PercentageAmongstTop\":1.9774011299435028,\"QuestCreationYear\":\"Oct'10-11\",\"QuestTags\":\"list\",\"YearTagCount\":987}],\"line_alpha\":[1.0],\"line_color\":[\"#90EE90\"],\"width\":[1.0],\"x\":[\"Oct'10-11\"],\"y\":[14.97475658131987]}},\"id\":\"e2c20163-ff21-42d7-a47d-f22480105e6e\",\"type\":\"ColumnDataSource\"},{\"attributes\":{\"data_source\":{\"id\":\"12a40abf-f728-473e-ad92-c401bc925e40\",\"type\":\"ColumnDataSource\"},\"glyph\":{\"id\":\"10eecf1b-a052-4a4d-a312-c36d12306e4d\",\"type\":\"Rect\"},\"hover_glyph\":null,\"nonselection_glyph\":null,\"selection_glyph\":null},\"id\":\"4af1e049-5066-4ee1-a37f-e2199daa4d7a\",\"type\":\"GlyphRenderer\"},{\"attributes\":{\"fill_alpha\":{\"field\":\"fill_alpha\"},\"fill_color\":{\"field\":\"color\"},\"height\":{\"field\":\"height\",\"units\":\"data\"},\"line_color\":{\"field\":\"line_color\"},\"width\":{\"field\":\"width\",\"units\":\"data\"},\"x\":{\"field\":\"x\"},\"y\":{\"field\":\"y\"}},\"id\":\"10eecf1b-a052-4a4d-a312-c36d12306e4d\",\"type\":\"Rect\"},{\"attributes\":{\"callback\":null,\"column_names\":[\"height\",\"fill_alpha\",\"width\",\"color\",\"line_color\",\"line_alpha\",\"y\",\"x\",\"label\"],\"data\":{\"PercentageAmongstTop\":[4.764077758510541],\"QuestCreationYear\":[\"Oct'15-16\"],\"QuestTags\":[\"python-2.7\"],\"YearTagCount\":[10962],\"chart_index\":[{\"PercentageAmongstTop\":4.764077758510541,\"QuestCreationYear\":\"Oct'15-16\",\"QuestTags\":\"python-2.7\",\"YearTagCount\":10962}],\"color\":[\"#FFA07A\"],\"fill_alpha\":[0.8],\"height\":[4.764077758510541],\"label\":[{\"PercentageAmongstTop\":4.764077758510541,\"QuestCreationYear\":\"Oct'15-16\",\"QuestTags\":\"python-2.7\",\"YearTagCount\":10962}],\"line_alpha\":[1.0],\"line_color\":[\"#FFF0F5\"],\"width\":[1.0],\"x\":[\"Oct'15-16\"],\"y\":[93.03467667983503]}},\"id\":\"a030eb93-6e35-42e7-a6a6-027aca8b56c6\",\"type\":\"ColumnDataSource\"},{\"attributes\":{\"fill_alpha\":{\"field\":\"fill_alpha\"},\"fill_color\":{\"field\":\"color\"},\"height\":{\"field\":\"height\",\"units\":\"data\"},\"line_color\":{\"field\":\"line_color\"},\"width\":{\"field\":\"width\",\"units\":\"data\"},\"x\":{\"field\":\"x\"},\"y\":{\"field\":\"y\"}},\"id\":\"0e990859-5cba-4a13-9259-7f2e1366ad45\",\"type\":\"Rect\"},{\"attributes\":{\"data_source\":{\"id\":\"b0093893-7d21-453b-87a1-37f73245447d\",\"type\":\"ColumnDataSource\"},\"glyph\":{\"id\":\"f9280373-1ca3-4f16-94f3-0413c7e9696c\",\"type\":\"Rect\"},\"hover_glyph\":null,\"nonselection_glyph\":null,\"selection_glyph\":null},\"id\":\"fe3cc1df-9f2c-4981-8774-a58dc3c69412\",\"type\":\"GlyphRenderer\"},{\"attributes\":{\"data_source\":{\"id\":\"987f3c66-3b86-4a69-beb0-7c5ca75f3a72\",\"type\":\"ColumnDataSource\"},\"glyph\":{\"id\":\"ac88ca36-5eb4-4a0a-b272-a37201570e0a\",\"type\":\"Rect\"},\"hover_glyph\":null,\"nonselection_glyph\":null,\"selection_glyph\":null},\"id\":\"0243be94-155a-40ea-bfe9-4253ac35e66f\",\"type\":\"GlyphRenderer\"},{\"attributes\":{\"fill_alpha\":{\"field\":\"fill_alpha\"},\"fill_color\":{\"field\":\"color\"},\"height\":{\"field\":\"height\",\"units\":\"data\"},\"line_color\":{\"field\":\"line_color\"},\"width\":{\"field\":\"width\",\"units\":\"data\"},\"x\":{\"field\":\"x\"},\"y\":{\"field\":\"y\"}},\"id\":\"71676dfd-5186-4157-a0f5-6b97471a10cd\",\"type\":\"Rect\"},{\"attributes\":{\"data_source\":{\"id\":\"63b23b10-c7b2-45fd-aed8-d085d532693c\",\"type\":\"ColumnDataSource\"},\"glyph\":{\"id\":\"58c70bc6-e40d-4d4e-b890-d6a579a505dc\",\"type\":\"Rect\"},\"hover_glyph\":null,\"nonselection_glyph\":null,\"selection_glyph\":null},\"id\":\"f20da535-ba48-4ad7-bf23-c9ffb4aad4c8\",\"type\":\"GlyphRenderer\"},{\"attributes\":{\"fill_alpha\":{\"field\":\"fill_alpha\"},\"fill_color\":{\"field\":\"color\"},\"height\":{\"field\":\"height\",\"units\":\"data\"},\"line_color\":{\"field\":\"line_color\"},\"width\":{\"field\":\"width\",\"units\":\"data\"},\"x\":{\"field\":\"x\"},\"y\":{\"field\":\"y\"}},\"id\":\"58c70bc6-e40d-4d4e-b890-d6a579a505dc\",\"type\":\"Rect\"},{\"attributes\":{\"callback\":null,\"column_names\":[\"height\",\"fill_alpha\",\"width\",\"color\",\"line_color\",\"line_alpha\",\"y\",\"x\",\"label\"],\"data\":{\"PercentageAmongstTop\":[4.9739484378723375],\"QuestCreationYear\":[\"Oct'13-14\"],\"QuestTags\":[\"python-2.7\"],\"YearTagCount\":[7723],\"chart_index\":[{\"PercentageAmongstTop\":4.9739484378723375,\"QuestCreationYear\":\"Oct'13-14\",\"QuestTags\":\"python-2.7\",\"YearTagCount\":7723}],\"color\":[\"#FFA07A\"],\"fill_alpha\":[0.8],\"height\":[4.9739484378723375],\"label\":[{\"PercentageAmongstTop\":4.9739484378723375,\"QuestCreationYear\":\"Oct'13-14\",\"QuestTags\":\"python-2.7\",\"YearTagCount\":7723}],\"line_alpha\":[1.0],\"line_color\":[\"#9370DB\"],\"width\":[1.0],\"x\":[\"Oct'13-14\"],\"y\":[92.89265725933703]}},\"id\":\"85844288-6e6a-474f-b7e9-78b4e2691c6e\",\"type\":\"ColumnDataSource\"},{\"attributes\":{\"fill_alpha\":{\"field\":\"fill_alpha\"},\"fill_color\":{\"field\":\"color\"},\"height\":{\"field\":\"height\",\"units\":\"data\"},\"line_color\":{\"field\":\"line_color\"},\"width\":{\"field\":\"width\",\"units\":\"data\"},\"x\":{\"field\":\"x\"},\"y\":{\"field\":\"y\"}},\"id\":\"9e8e87f4-14ca-4267-8d73-8a9d79ca10ab\",\"type\":\"Rect\"},{\"attributes\":{\"data_source\":{\"id\":\"687852a5-724b-4126-8df0-41b98172e13a\",\"type\":\"ColumnDataSource\"},\"glyph\":{\"id\":\"a265af80-783c-43f4-ab11-34367996afb6\",\"type\":\"Rect\"},\"hover_glyph\":null,\"nonselection_glyph\":null,\"selection_glyph\":null},\"id\":\"f33cd816-1c44-466d-bb69-e4c37fd4e584\",\"type\":\"GlyphRenderer\"},{\"attributes\":{\"callback\":null,\"column_names\":[\"height\",\"fill_alpha\",\"width\",\"color\",\"line_color\",\"line_alpha\",\"y\",\"x\",\"label\"],\"data\":{\"PercentageAmongstTop\":[2.2820810353894228],\"QuestCreationYear\":[\"Oct'15-16\"],\"QuestTags\":[\"matplotlib\"],\"YearTagCount\":[5251],\"chart_index\":[{\"PercentageAmongstTop\":2.2820810353894228,\"QuestCreationYear\":\"Oct'15-16\",\"QuestTags\":\"matplotlib\",\"YearTagCount\":5251}],\"color\":[\"#ADD8E6\"],\"fill_alpha\":[0.8],\"height\":[2.2820810353894228],\"label\":[{\"PercentageAmongstTop\":2.2820810353894228,\"QuestCreationYear\":\"Oct'15-16\",\"QuestTags\":\"matplotlib\",\"YearTagCount\":5251}],\"line_alpha\":[1.0],\"line_color\":[\"#D3D3D3\"],\"width\":[1.0],\"x\":[\"Oct'15-16\"],\"y\":[12.295032095159868]}},\"id\":\"584ae864-6f7d-4201-b35a-d453d4b9e9ce\",\"type\":\"ColumnDataSource\"},{\"attributes\":{\"data_source\":{\"id\":\"b7aeb77d-a223-4c29-9303-85773fd2375c\",\"type\":\"ColumnDataSource\"},\"glyph\":{\"id\":\"6f7e9217-1fa7-43ff-9b99-2e40aef091ac\",\"type\":\"Rect\"},\"hover_glyph\":null,\"nonselection_glyph\":null,\"selection_glyph\":null},\"id\":\"e62f3e7e-1dfe-449b-83f4-904440966fdb\",\"type\":\"GlyphRenderer\"},{\"attributes\":{\"callback\":null,\"column_names\":[\"height\",\"fill_alpha\",\"width\",\"color\",\"line_color\",\"line_alpha\",\"y\",\"x\",\"label\"],\"data\":{\"PercentageAmongstTop\":[3.413777667679283],\"QuestCreationYear\":[\"Oct'15-16\"],\"QuestTags\":[\"numpy\"],\"YearTagCount\":[7855],\"chart_index\":[{\"PercentageAmongstTop\":3.413777667679283,\"QuestCreationYear\":\"Oct'15-16\",\"QuestTags\":\"numpy\",\"YearTagCount\":7855}],\"color\":[\"#FFB6C1\"],\"fill_alpha\":[0.8],\"height\":[3.413777667679283],\"label\":[{\"PercentageAmongstTop\":3.413777667679283,\"QuestCreationYear\":\"Oct'15-16\",\"QuestTags\":\"numpy\",\"YearTagCount\":7855}],\"line_alpha\":[1.0],\"line_color\":[\"#40E0D0\"],\"width\":[1.0],\"x\":[\"Oct'15-16\"],\"y\":[15.14296144669422]}},\"id\":\"1ee4a728-14a8-46ae-b4f4-daa0d9c96804\",\"type\":\"ColumnDataSource\"},{\"attributes\":{\"data_source\":{\"id\":\"a7da8952-00ae-4fb7-9d4f-3cd6dace7e8a\",\"type\":\"ColumnDataSource\"},\"glyph\":{\"id\":\"8c27087f-407e-4726-92c6-81d7b0bdca50\",\"type\":\"Rect\"},\"hover_glyph\":null,\"nonselection_glyph\":null,\"selection_glyph\":null},\"id\":\"745fcfb4-4d1e-48bd-bf9b-09bffb04d06f\",\"type\":\"GlyphRenderer\"},{\"attributes\":{\"fill_alpha\":{\"field\":\"fill_alpha\"},\"fill_color\":{\"field\":\"color\"},\"height\":{\"field\":\"height\",\"units\":\"data\"},\"line_color\":{\"field\":\"line_color\"},\"width\":{\"field\":\"width\",\"units\":\"data\"},\"x\":{\"field\":\"x\"},\"y\":{\"field\":\"y\"}},\"id\":\"56aa22ad-d172-4e32-9219-02e3d488b69d\",\"type\":\"Rect\"},{\"attributes\":{\"callback\":null,\"column_names\":[\"height\",\"fill_alpha\",\"width\",\"color\",\"line_color\",\"line_alpha\",\"y\",\"x\",\"label\"],\"data\":{\"PercentageAmongstTop\":[1.7689135197834773],\"QuestCreationYear\":[\"Oct'09-10\"],\"QuestTags\":[\"regex\"],\"YearTagCount\":[549],\"chart_index\":[{\"PercentageAmongstTop\":1.7689135197834773,\"QuestCreationYear\":\"Oct'09-10\",\"QuestTags\":\"regex\",\"YearTagCount\":549}],\"color\":[\"#9370DB\"],\"fill_alpha\":[0.8],\"height\":[1.7689135197834773],\"label\":[{\"PercentageAmongstTop\":1.7689135197834773,\"QuestCreationYear\":\"Oct'09-10\",\"QuestTags\":\"regex\",\"YearTagCount\":549}],\"line_alpha\":[1.0],\"line_color\":[\"#9370DB\"],\"width\":[1.0],\"x\":[\"Oct'09-10\"],\"y\":[96.3026807578296]}},\"id\":\"8174e11c-7fd9-461f-a5b0-43e98809ced5\",\"type\":\"ColumnDataSource\"},{\"attributes\":{\"callback\":null,\"column_names\":[\"height\",\"fill_alpha\",\"width\",\"color\",\"line_color\",\"line_alpha\",\"y\",\"x\",\"label\"],\"data\":{\"PercentageAmongstTop\":[1.188941873952829],\"QuestCreationYear\":[\"Oct'09-10\"],\"QuestTags\":[\"django-models\"],\"YearTagCount\":[369],\"chart_index\":[{\"PercentageAmongstTop\":1.188941873952829,\"QuestCreationYear\":\"Oct'09-10\",\"QuestTags\":\"django-models\",\"YearTagCount\":369}],\"color\":[\"#F0E68C\"],\"fill_alpha\":[0.8],\"height\":[1.188941873952829],\"label\":[{\"PercentageAmongstTop\":1.188941873952829,\"QuestCreationYear\":\"Oct'09-10\",\"QuestTags\":\"django-models\",\"YearTagCount\":369}],\"line_alpha\":[1.0],\"line_color\":[\"#FFB6C1\"],\"width\":[1.0],\"x\":[\"Oct'09-10\"],\"y\":[10.47009923959273]}},\"id\":\"511247da-fa69-4561-af4c-9e1c41a66ee6\",\"type\":\"ColumnDataSource\"},{\"attributes\":{\"fill_alpha\":{\"field\":\"fill_alpha\"},\"fill_color\":{\"field\":\"color\"},\"height\":{\"field\":\"height\",\"units\":\"data\"},\"line_color\":{\"field\":\"line_color\"},\"width\":{\"field\":\"width\",\"units\":\"data\"},\"x\":{\"field\":\"x\"},\"y\":{\"field\":\"y\"}},\"id\":\"c78d6e52-4fd6-4ec8-b0c8-530e28124427\",\"type\":\"Rect\"},{\"attributes\":{\"data_source\":{\"id\":\"87f1de53-c801-4310-ad2c-0153738c8abd\",\"type\":\"ColumnDataSource\"},\"glyph\":{\"id\":\"56aa22ad-d172-4e32-9219-02e3d488b69d\",\"type\":\"Rect\"},\"hover_glyph\":null,\"nonselection_glyph\":null,\"selection_glyph\":null},\"id\":\"74d8f586-8ba7-43f8-8c2d-945b23c99ab8\",\"type\":\"GlyphRenderer\"},{\"attributes\":{\"fill_alpha\":{\"field\":\"fill_alpha\"},\"fill_color\":{\"field\":\"color\"},\"height\":{\"field\":\"height\",\"units\":\"data\"},\"line_color\":{\"field\":\"line_color\"},\"width\":{\"field\":\"width\",\"units\":\"data\"},\"x\":{\"field\":\"x\"},\"y\":{\"field\":\"y\"}},\"id\":\"2a467b8c-d084-4f50-84d7-bcb81801ed7f\",\"type\":\"Rect\"},{\"attributes\":{\"data_source\":{\"id\":\"a100ac6a-70fe-4148-9d01-009c68b009a9\",\"type\":\"ColumnDataSource\"},\"glyph\":{\"id\":\"ff12d722-3d72-4c2e-a48f-fa0b9275f898\",\"type\":\"Rect\"},\"hover_glyph\":null,\"nonselection_glyph\":null,\"selection_glyph\":null},\"id\":\"cae30732-079e-4cc2-8881-c0690e5d73fd\",\"type\":\"GlyphRenderer\"},{\"attributes\":{\"fill_alpha\":{\"field\":\"fill_alpha\"},\"fill_color\":{\"field\":\"color\"},\"height\":{\"field\":\"height\",\"units\":\"data\"},\"line_color\":{\"field\":\"line_color\"},\"width\":{\"field\":\"width\",\"units\":\"data\"},\"x\":{\"field\":\"x\"},\"y\":{\"field\":\"y\"}},\"id\":\"5a104b58-fcf6-47a1-982b-46f2a315ad3d\",\"type\":\"Rect\"},{\"attributes\":{\"callback\":null,\"column_names\":[\"height\",\"fill_alpha\",\"width\",\"color\",\"line_color\",\"line_alpha\",\"y\",\"x\",\"label\"],\"data\":{\"PercentageAmongstTop\":[76.21711603536731],\"QuestCreationYear\":[\"Oct'11-12\"],\"QuestTags\":[\"python\"],\"YearTagCount\":[55858],\"chart_index\":[{\"PercentageAmongstTop\":76.21711603536731,\"QuestCreationYear\":\"Oct'11-12\",\"QuestTags\":\"python\",\"YearTagCount\":55858}],\"color\":[\"#20B2AA\"],\"fill_alpha\":[0.8],\"height\":[76.21711603536731],\"label\":[{\"PercentageAmongstTop\":76.21711603536731,\"QuestCreationYear\":\"Oct'11-12\",\"QuestTags\":\"python\",\"YearTagCount\":55858}],\"line_alpha\":[1.0],\"line_color\":[\"#20B2AA\"],\"width\":[1.0],\"x\":[\"Oct'11-12\"],\"y\":[55.25051850234691]}},\"id\":\"bae06fa8-8a2c-46c9-80cf-720191211fc1\",\"type\":\"ColumnDataSource\"},{\"attributes\":{\"fill_alpha\":{\"field\":\"fill_alpha\"},\"fill_color\":{\"field\":\"color\"},\"height\":{\"field\":\"height\",\"units\":\"data\"},\"line_color\":{\"field\":\"line_color\"},\"width\":{\"field\":\"width\",\"units\":\"data\"},\"x\":{\"field\":\"x\"},\"y\":{\"field\":\"y\"}},\"id\":\"10b7c073-d45c-45f7-915c-1ff23a66e678\",\"type\":\"Rect\"},{\"attributes\":{\"fill_alpha\":{\"field\":\"fill_alpha\"},\"fill_color\":{\"field\":\"color\"},\"height\":{\"field\":\"height\",\"units\":\"data\"},\"line_color\":{\"field\":\"line_color\"},\"width\":{\"field\":\"width\",\"units\":\"data\"},\"x\":{\"field\":\"x\"},\"y\":{\"field\":\"y\"}},\"id\":\"b8522982-ce19-4871-8611-8f7340eb641f\",\"type\":\"Rect\"},{\"attributes\":{},\"id\":\"111e31cd-593d-426a-8453-1197b72d7c2f\",\"type\":\"ToolEvents\"},{\"attributes\":{\"fill_alpha\":{\"field\":\"fill_alpha\"},\"fill_color\":{\"field\":\"color\"},\"height\":{\"field\":\"height\",\"units\":\"data\"},\"line_color\":{\"field\":\"line_color\"},\"width\":{\"field\":\"width\",\"units\":\"data\"},\"x\":{\"field\":\"x\"},\"y\":{\"field\":\"y\"}},\"id\":\"58beba12-fc74-479a-ba21-dca3b31f33b0\",\"type\":\"Rect\"},{\"attributes\":{\"data_source\":{\"id\":\"8174e11c-7fd9-461f-a5b0-43e98809ced5\",\"type\":\"ColumnDataSource\"},\"glyph\":{\"id\":\"9e8e87f4-14ca-4267-8d73-8a9d79ca10ab\",\"type\":\"Rect\"},\"hover_glyph\":null,\"nonselection_glyph\":null,\"selection_glyph\":null},\"id\":\"62389e0b-af87-4039-ae01-88632c63da69\",\"type\":\"GlyphRenderer\"},{\"attributes\":{\"fill_alpha\":{\"field\":\"fill_alpha\"},\"fill_color\":{\"field\":\"color\"},\"height\":{\"field\":\"height\",\"units\":\"data\"},\"line_color\":{\"field\":\"line_color\"},\"width\":{\"field\":\"width\",\"units\":\"data\"},\"x\":{\"field\":\"x\"},\"y\":{\"field\":\"y\"}},\"id\":\"407fac08-57f7-4be3-9e35-c8c3009015e9\",\"type\":\"Rect\"},{\"attributes\":{\"data_source\":{\"id\":\"98fa51ff-f1a9-45e7-8ad4-c19a0e89a497\",\"type\":\"ColumnDataSource\"},\"glyph\":{\"id\":\"5ed61af0-9df9-4298-b103-3c5ad752ea29\",\"type\":\"Rect\"},\"hover_glyph\":null,\"nonselection_glyph\":null,\"selection_glyph\":null},\"id\":\"31272b07-f59b-4268-a561-a9fce6ef0948\",\"type\":\"GlyphRenderer\"},{\"attributes\":{\"callback\":null,\"column_names\":[\"height\",\"fill_alpha\",\"width\",\"color\",\"line_color\",\"line_alpha\",\"y\",\"x\",\"label\"],\"data\":{\"PercentageAmongstTop\":[69.48800648388189],\"QuestCreationYear\":[\"Oct'14-15\"],\"QuestTags\":[\"python\"],\"YearTagCount\":[125175],\"chart_index\":[{\"PercentageAmongstTop\":69.48800648388189,\"QuestCreationYear\":\"Oct'14-15\",\"QuestTags\":\"python\",\"YearTagCount\":125175}],\"color\":[\"#20B2AA\"],\"fill_alpha\":[0.8],\"height\":[69.48800648388189],\"label\":[{\"PercentageAmongstTop\":69.48800648388189,\"QuestCreationYear\":\"Oct'14-15\",\"QuestTags\":\"python\",\"YearTagCount\":125175}],\"line_alpha\":[1.0],\"line_color\":[\"#9370DB\"],\"width\":[1.0],\"x\":[\"Oct'14-15\"],\"y\":[55.20709008043788]}},\"id\":\"687852a5-724b-4126-8df0-41b98172e13a\",\"type\":\"ColumnDataSource\"},{\"attributes\":{\"data_source\":{\"id\":\"3fc9fab2-cf67-401e-b32c-e948f903fdc6\",\"type\":\"ColumnDataSource\"},\"glyph\":{\"id\":\"882b3a8a-14db-4db7-afa7-2d48a8474da3\",\"type\":\"Rect\"},\"hover_glyph\":null,\"nonselection_glyph\":null,\"selection_glyph\":null},\"id\":\"4ce7c0ad-cbfe-46bb-9fd3-ebe7d43b4267\",\"type\":\"GlyphRenderer\"},{\"attributes\":{\"callback\":null,\"end\":105.0},\"id\":\"c64696d8-e6be-483a-a89b-a45397075f23\",\"type\":\"Range1d\"},{\"attributes\":{\"fill_alpha\":{\"field\":\"fill_alpha\"},\"fill_color\":{\"field\":\"color\"},\"height\":{\"field\":\"height\",\"units\":\"data\"},\"line_color\":{\"field\":\"line_color\"},\"width\":{\"field\":\"width\",\"units\":\"data\"},\"x\":{\"field\":\"x\"},\"y\":{\"field\":\"y\"}},\"id\":\"fa9634d6-253b-4814-9c0e-2d8b4883545a\",\"type\":\"Rect\"},{\"attributes\":{\"fill_alpha\":{\"field\":\"fill_alpha\"},\"fill_color\":{\"field\":\"color\"},\"height\":{\"field\":\"height\",\"units\":\"data\"},\"line_color\":{\"field\":\"line_color\"},\"width\":{\"field\":\"width\",\"units\":\"data\"},\"x\":{\"field\":\"x\"},\"y\":{\"field\":\"y\"}},\"id\":\"5ed61af0-9df9-4298-b103-3c5ad752ea29\",\"type\":\"Rect\"},{\"attributes\":{\"fill_alpha\":{\"field\":\"fill_alpha\"},\"fill_color\":{\"field\":\"color\"},\"height\":{\"field\":\"height\",\"units\":\"data\"},\"line_color\":{\"field\":\"line_color\"},\"width\":{\"field\":\"width\",\"units\":\"data\"},\"x\":{\"field\":\"x\"},\"y\":{\"field\":\"y\"}},\"id\":\"9d6fb8be-0506-4980-95d2-ce195290f050\",\"type\":\"Rect\"},{\"attributes\":{\"data_source\":{\"id\":\"c9eb39e2-5d5f-42d9-83ae-86e60a7b7e3b\",\"type\":\"ColumnDataSource\"},\"glyph\":{\"id\":\"6ef09425-740d-498a-aeab-17b4a56207a9\",\"type\":\"Rect\"},\"hover_glyph\":null,\"nonselection_glyph\":null,\"selection_glyph\":null},\"id\":\"97f6a36a-0ae9-4db0-9d31-0dfd55017298\",\"type\":\"GlyphRenderer\"},{\"attributes\":{\"data_source\":{\"id\":\"ec598af0-3d90-4928-8c84-d9b77c5d38d5\",\"type\":\"ColumnDataSource\"},\"glyph\":{\"id\":\"bad4bd94-f033-4c88-b6e2-206289477488\",\"type\":\"Rect\"},\"hover_glyph\":null,\"nonselection_glyph\":null,\"selection_glyph\":null},\"id\":\"c6711696-7ffd-4a55-a23e-b21d3d7834aa\",\"type\":\"GlyphRenderer\"},{\"attributes\":{\"callback\":null,\"column_names\":[\"height\",\"fill_alpha\",\"width\",\"color\",\"line_color\",\"line_alpha\",\"y\",\"x\",\"label\"],\"data\":{\"PercentageAmongstTop\":[1.7603255769078965],\"QuestCreationYear\":[\"Oct'12-13\"],\"QuestTags\":[\"pandas\"],\"YearTagCount\":[2007],\"chart_index\":[{\"PercentageAmongstTop\":1.7603255769078965,\"QuestCreationYear\":\"Oct'12-13\",\"QuestTags\":\"pandas\",\"YearTagCount\":2007}],\"color\":[\"#87CEFA\"],\"fill_alpha\":[0.8],\"height\":[1.7603255769078965],\"label\":[{\"PercentageAmongstTop\":1.7603255769078965,\"QuestCreationYear\":\"Oct'12-13\",\"QuestTags\":\"pandas\",\"YearTagCount\":2007}],\"line_alpha\":[1.0],\"line_color\":[\"#F0E68C\"],\"width\":[1.0],\"x\":[\"Oct'12-13\"],\"y\":[16.921315990281812]}},\"id\":\"26693853-c9b8-4df4-a121-cc9ee8d5f394\",\"type\":\"ColumnDataSource\"},{\"attributes\":{\"fill_alpha\":{\"field\":\"fill_alpha\"},\"fill_color\":{\"field\":\"color\"},\"height\":{\"field\":\"height\",\"units\":\"data\"},\"line_color\":{\"field\":\"line_color\"},\"width\":{\"field\":\"width\",\"units\":\"data\"},\"x\":{\"field\":\"x\"},\"y\":{\"field\":\"y\"}},\"id\":\"5e7ac381-6fb9-45c0-921d-e26483660d3e\",\"type\":\"Rect\"},{\"attributes\":{\"data_source\":{\"id\":\"62773f59-c3ec-469b-814f-0923a5a8a3d9\",\"type\":\"ColumnDataSource\"},\"glyph\":{\"id\":\"24b77544-a80c-4753-85c2-6bcf0791c4bf\",\"type\":\"Rect\"},\"hover_glyph\":null,\"nonselection_glyph\":null,\"selection_glyph\":null},\"id\":\"906c6219-9329-426d-9792-796d9b685a36\",\"type\":\"GlyphRenderer\"},{\"attributes\":{\"fill_alpha\":{\"field\":\"fill_alpha\"},\"fill_color\":{\"field\":\"color\"},\"height\":{\"field\":\"height\",\"units\":\"data\"},\"line_color\":{\"field\":\"line_color\"},\"width\":{\"field\":\"width\",\"units\":\"data\"},\"x\":{\"field\":\"x\"},\"y\":{\"field\":\"y\"}},\"id\":\"dddda380-bd7b-49e8-80b2-7ac451d46ef9\",\"type\":\"Rect\"},{\"attributes\":{\"data_source\":{\"id\":\"9837e4b7-675b-4658-bbc2-0b7e50e74517\",\"type\":\"ColumnDataSource\"},\"glyph\":{\"id\":\"ab8568ef-02d8-4658-94ed-a8e594d7535c\",\"type\":\"Rect\"},\"hover_glyph\":null,\"nonselection_glyph\":null,\"selection_glyph\":null},\"id\":\"226e78a1-ba76-499f-b0c9-72508c640b53\",\"type\":\"GlyphRenderer\"},{\"attributes\":{\"fill_alpha\":{\"field\":\"fill_alpha\"},\"fill_color\":{\"field\":\"color\"},\"height\":{\"field\":\"height\",\"units\":\"data\"},\"line_color\":{\"field\":\"line_color\"},\"width\":{\"field\":\"width\",\"units\":\"data\"},\"x\":{\"field\":\"x\"},\"y\":{\"field\":\"y\"}},\"id\":\"bad4bd94-f033-4c88-b6e2-206289477488\",\"type\":\"Rect\"},{\"attributes\":{\"data_source\":{\"id\":\"92c0acfa-1212-4310-a82f-add022341686\",\"type\":\"ColumnDataSource\"},\"glyph\":{\"id\":\"c4b6ce24-6aef-4d7b-aec7-5744fc1ffecf\",\"type\":\"Rect\"},\"hover_glyph\":null,\"nonselection_glyph\":null,\"selection_glyph\":null},\"id\":\"942ea2c7-d4da-46f8-8d24-d4eccde0249c\",\"type\":\"GlyphRenderer\"},{\"attributes\":{\"fill_alpha\":{\"field\":\"fill_alpha\"},\"fill_color\":{\"field\":\"color\"},\"height\":{\"field\":\"height\",\"units\":\"data\"},\"line_color\":{\"field\":\"line_color\"},\"width\":{\"field\":\"width\",\"units\":\"data\"},\"x\":{\"field\":\"x\"},\"y\":{\"field\":\"y\"}},\"id\":\"790fe079-1278-4bf9-80da-832af2c59649\",\"type\":\"Rect\"},{\"attributes\":{\"data_source\":{\"id\":\"39f5cbbb-2239-49f9-9ee3-624bab4a86fb\",\"type\":\"ColumnDataSource\"},\"glyph\":{\"id\":\"92a535cd-2bcb-4335-bec3-97b9e32552f4\",\"type\":\"Rect\"},\"hover_glyph\":null,\"nonselection_glyph\":null,\"selection_glyph\":null},\"id\":\"e42c6c43-2ab7-4290-867b-1a047a2efb19\",\"type\":\"GlyphRenderer\"},{\"attributes\":{\"callback\":null,\"column_names\":[\"height\",\"fill_alpha\",\"width\",\"color\",\"line_color\",\"line_alpha\",\"y\",\"x\",\"label\"],\"data\":{\"PercentageAmongstTop\":[1.6155441545682785],\"QuestCreationYear\":[\"Oct'11-12\"],\"QuestTags\":[\"matplotlib\"],\"YearTagCount\":[1184],\"chart_index\":[{\"PercentageAmongstTop\":1.6155441545682785,\"QuestCreationYear\":\"Oct'11-12\",\"QuestTags\":\"matplotlib\",\"YearTagCount\":1184}],\"color\":[\"#ADD8E6\"],\"fill_alpha\":[0.8],\"height\":[1.6155441545682785],\"label\":[{\"PercentageAmongstTop\":1.6155441545682785,\"QuestCreationYear\":\"Oct'11-12\",\"QuestTags\":\"matplotlib\",\"YearTagCount\":1184}],\"line_alpha\":[1.0],\"line_color\":[\"#D3D3D3\"],\"width\":[1.0],\"x\":[\"Oct'11-12\"],\"y\":[13.89586289706364]}},\"id\":\"ec598af0-3d90-4928-8c84-d9b77c5d38d5\",\"type\":\"ColumnDataSource\"},{\"attributes\":{\"callback\":null,\"column_names\":[\"height\",\"fill_alpha\",\"width\",\"color\",\"line_color\",\"line_alpha\",\"y\",\"x\",\"label\"],\"data\":{\"PercentageAmongstTop\":[1.2404949091377755],\"QuestCreationYear\":[\"Oct'09-10\"],\"QuestTags\":[\"windows\"],\"YearTagCount\":[385],\"chart_index\":[{\"PercentageAmongstTop\":1.2404949091377755,\"QuestCreationYear\":\"Oct'09-10\",\"QuestTags\":\"windows\",\"YearTagCount\":385}],\"color\":[\"#4B0082\"],\"fill_alpha\":[0.8],\"height\":[1.2404949091377755],\"label\":[{\"PercentageAmongstTop\":1.2404949091377755,\"QuestCreationYear\":\"Oct'09-10\",\"QuestTags\":\"windows\",\"YearTagCount\":385}],\"line_alpha\":[1.0],\"line_color\":[\"#87CEFA\"],\"width\":[1.0],\"x\":[\"Oct'09-10\"],\"y\":[99.3797525454311]}},\"id\":\"c7959a46-f97d-4017-a9f1-0b9c30e16465\",\"type\":\"ColumnDataSource\"},{\"attributes\":{},\"id\":\"c69fbd80-57ca-443e-aae8-7eac14e1f7dc\",\"type\":\"BasicTickFormatter\"},{\"attributes\":{\"data_source\":{\"id\":\"41324a93-aa08-405d-b6df-f8207b91aa08\",\"type\":\"ColumnDataSource\"},\"glyph\":{\"id\":\"16ff0196-1d4a-4de0-af39-3402434eb53c\",\"type\":\"Rect\"},\"hover_glyph\":null,\"nonselection_glyph\":null,\"selection_glyph\":null},\"id\":\"b1ccf7d7-ae48-4b63-b3df-44e5c29c2146\",\"type\":\"GlyphRenderer\"},{\"attributes\":{\"dimension\":1,\"plot\":{\"id\":\"e7f3ca80-83f1-4bdd-bfdf-faf2d13f335d\",\"subtype\":\"Chart\",\"type\":\"Plot\"},\"ticker\":{\"id\":\"64ef71da-d139-46b8-8e64-55447887f72d\",\"type\":\"BasicTicker\"}},\"id\":\"ea5f2824-73ee-4023-9969-3237a71bd226\",\"type\":\"Grid\"},{\"attributes\":{\"data_source\":{\"id\":\"8c39aeaf-c96e-4099-ad34-15638ee539a6\",\"type\":\"ColumnDataSource\"},\"glyph\":{\"id\":\"df06003a-7f44-44b4-8af2-4e73c1de98f3\",\"type\":\"Rect\"},\"hover_glyph\":null,\"nonselection_glyph\":null,\"selection_glyph\":null},\"id\":\"4ab0abc5-f754-4f78-b3fb-7f929681fb43\",\"type\":\"GlyphRenderer\"},{\"attributes\":{\"data_source\":{\"id\":\"dfb8d549-677e-4efc-823a-a4b9e5bccdd3\",\"type\":\"ColumnDataSource\"},\"glyph\":{\"id\":\"2180557d-bbc6-4245-a975-bc5167fa7624\",\"type\":\"Rect\"},\"hover_glyph\":null,\"nonselection_glyph\":null,\"selection_glyph\":null},\"id\":\"1e13afb4-0b24-435f-8e3b-cb4baf023d13\",\"type\":\"GlyphRenderer\"},{\"attributes\":{\"data_source\":{\"id\":\"e1e01b91-3253-49e4-a570-b469f557c941\",\"type\":\"ColumnDataSource\"},\"glyph\":{\"id\":\"0e990859-5cba-4a13-9259-7f2e1366ad45\",\"type\":\"Rect\"},\"hover_glyph\":null,\"nonselection_glyph\":null,\"selection_glyph\":null},\"id\":\"fbdf45e1-c7e1-40bb-9249-4f54d18b1704\",\"type\":\"GlyphRenderer\"},{\"attributes\":{\"fill_alpha\":{\"field\":\"fill_alpha\"},\"fill_color\":{\"field\":\"color\"},\"height\":{\"field\":\"height\",\"units\":\"data\"},\"line_color\":{\"field\":\"line_color\"},\"width\":{\"field\":\"width\",\"units\":\"data\"},\"x\":{\"field\":\"x\"},\"y\":{\"field\":\"y\"}},\"id\":\"df06003a-7f44-44b4-8af2-4e73c1de98f3\",\"type\":\"Rect\"},{\"attributes\":{\"callback\":null,\"column_names\":[\"height\",\"fill_alpha\",\"width\",\"color\",\"line_color\",\"line_alpha\",\"y\",\"x\",\"label\"],\"data\":{\"PercentageAmongstTop\":[1.1519814080217974],\"QuestCreationYear\":[\"Oct'10-11\"],\"QuestTags\":[\"python-3.x\"],\"YearTagCount\":[575],\"chart_index\":[{\"PercentageAmongstTop\":1.1519814080217974,\"QuestCreationYear\":\"Oct'10-11\",\"QuestTags\":\"python-3.x\",\"YearTagCount\":575}],\"color\":[\"#778899\"],\"fill_alpha\":[0.8],\"height\":[1.1519814080217974],\"label\":[{\"PercentageAmongstTop\":1.1519814080217974,\"QuestCreationYear\":\"Oct'10-11\",\"QuestTags\":\"python-3.x\",\"YearTagCount\":575}],\"line_alpha\":[1.0],\"line_color\":[\"#4B0082\"],\"width\":[1.0],\"x\":[\"Oct'10-11\"],\"y\":[96.08426493568939]}},\"id\":\"c27db51a-c049-4ff5-9354-549cd6d8ed6e\",\"type\":\"ColumnDataSource\"},{\"attributes\":{\"callback\":null,\"column_names\":[\"height\",\"fill_alpha\",\"width\",\"color\",\"line_color\",\"line_alpha\",\"y\",\"x\",\"label\"],\"data\":{\"PercentageAmongstTop\":[1.7560855801768367],\"QuestCreationYear\":[\"Oct'11-12\"],\"QuestTags\":[\"python-2.7\"],\"YearTagCount\":[1287],\"chart_index\":[{\"PercentageAmongstTop\":1.7560855801768367,\"QuestCreationYear\":\"Oct'11-12\",\"QuestTags\":\"python-2.7\",\"YearTagCount\":1287}],\"color\":[\"#FFA07A\"],\"fill_alpha\":[0.8],\"height\":[1.7560855801768367],\"label\":[{\"PercentageAmongstTop\":1.7560855801768367,\"QuestCreationYear\":\"Oct'11-12\",\"QuestTags\":\"python-2.7\",\"YearTagCount\":1287}],\"line_alpha\":[1.0],\"line_color\":[\"#20B2AA\"],\"width\":[1.0],\"x\":[\"Oct'11-12\"],\"y\":[94.23711931011897]}},\"id\":\"c9eb39e2-5d5f-42d9-83ae-86e60a7b7e3b\",\"type\":\"ColumnDataSource\"},{\"attributes\":{\"callback\":null,\"column_names\":[\"height\",\"fill_alpha\",\"width\",\"color\",\"line_color\",\"line_alpha\",\"y\",\"x\",\"label\"],\"data\":{\"PercentageAmongstTop\":[1.7743400163587064],\"QuestCreationYear\":[\"Oct'13-14\"],\"QuestTags\":[\"regex\"],\"YearTagCount\":[2755],\"chart_index\":[{\"PercentageAmongstTop\":1.7743400163587064,\"QuestCreationYear\":\"Oct'13-14\",\"QuestTags\":\"regex\",\"YearTagCount\":2755}],\"color\":[\"#9370DB\"],\"fill_alpha\":[0.8],\"height\":[1.7743400163587064],\"label\":[{\"PercentageAmongstTop\":1.7743400163587064,\"QuestCreationYear\":\"Oct'13-14\",\"QuestTags\":\"regex\",\"YearTagCount\":2755}],\"line_alpha\":[1.0],\"line_color\":[\"#ADD8E6\"],\"width\":[1.0],\"x\":[\"Oct'13-14\"],\"y\":[99.11282999182065]}},\"id\":\"e8f61b24-7051-4e87-8fee-77f02d1ffd17\",\"type\":\"ColumnDataSource\"},{\"attributes\":{\"data_source\":{\"id\":\"a030eb93-6e35-42e7-a6a6-027aca8b56c6\",\"type\":\"ColumnDataSource\"},\"glyph\":{\"id\":\"a53626d8-e31b-4693-8449-c5507faf4bfd\",\"type\":\"Rect\"},\"hover_glyph\":null,\"nonselection_glyph\":null,\"selection_glyph\":null},\"id\":\"3be6aa95-de41-4671-bcb6-266110578f8e\",\"type\":\"GlyphRenderer\"},{\"attributes\":{\"data_source\":{\"id\":\"7c2c0dcb-1529-488d-ad80-a202a37b1820\",\"type\":\"ColumnDataSource\"},\"glyph\":{\"id\":\"51652d12-adfe-48c9-ac1a-9653173bf936\",\"type\":\"Rect\"},\"hover_glyph\":null,\"nonselection_glyph\":null,\"selection_glyph\":null},\"id\":\"4ce79f67-03a3-4ab5-a3a4-7bc699bddfff\",\"type\":\"GlyphRenderer\"},{\"attributes\":{\"fill_alpha\":{\"field\":\"fill_alpha\"},\"fill_color\":{\"field\":\"color\"},\"height\":{\"field\":\"height\",\"units\":\"data\"},\"line_color\":{\"field\":\"line_color\"},\"width\":{\"field\":\"width\",\"units\":\"data\"},\"x\":{\"field\":\"x\"},\"y\":{\"field\":\"y\"}},\"id\":\"a265af80-783c-43f4-ab11-34367996afb6\",\"type\":\"Rect\"},{\"attributes\":{\"callback\":null,\"column_names\":[\"height\",\"fill_alpha\",\"width\",\"color\",\"line_color\",\"line_alpha\",\"y\",\"x\",\"label\"],\"data\":{\"PercentageAmongstTop\":[76.73239882790845],\"QuestCreationYear\":[\"Oct'08-09\"],\"QuestTags\":[\"python\"],\"YearTagCount\":[9689],\"chart_index\":[{\"PercentageAmongstTop\":76.73239882790845,\"QuestCreationYear\":\"Oct'08-09\",\"QuestTags\":\"python\",\"YearTagCount\":9689}],\"color\":[\"#20B2AA\"],\"fill_alpha\":[0.8],\"height\":[76.73239882790845],\"label\":[{\"PercentageAmongstTop\":76.73239882790845,\"QuestCreationYear\":\"Oct'08-09\",\"QuestTags\":\"python\",\"YearTagCount\":9689}],\"line_alpha\":[1.0],\"line_color\":[\"#F0E68C\"],\"width\":[1.0],\"x\":[\"Oct'08-09\"],\"y\":[55.250653361843675]}},\"id\":\"48b2587f-7b4b-42ac-bb4d-fa786a04dbac\",\"type\":\"ColumnDataSource\"},{\"attributes\":{\"callback\":null,\"column_names\":[\"height\",\"fill_alpha\",\"width\",\"color\",\"line_color\",\"line_alpha\",\"y\",\"x\",\"label\"],\"data\":{\"PercentageAmongstTop\":[3.466941616187653],\"QuestCreationYear\":[\"Oct'09-10\"],\"QuestTags\":[\"google-app-engine\"],\"YearTagCount\":[1076],\"chart_index\":[{\"PercentageAmongstTop\":3.466941616187653,\"QuestCreationYear\":\"Oct'09-10\",\"QuestTags\":\"google-app-engine\",\"YearTagCount\":1076}],\"color\":[\"#FFF0F5\"],\"fill_alpha\":[0.8],\"height\":[3.466941616187653],\"label\":[{\"PercentageAmongstTop\":3.466941616187653,\"QuestCreationYear\":\"Oct'09-10\",\"QuestTags\":\"google-app-engine\",\"YearTagCount\":1076}],\"line_alpha\":[1.0],\"line_color\":[\"#F08080\"],\"width\":[1.0],\"x\":[\"Oct'09-10\"],\"y\":[12.798040984662972]}},\"id\":\"17a8b7a8-1117-44bc-823f-aff48e30d2c2\",\"type\":\"ColumnDataSource\"},{\"attributes\":{\"data_source\":{\"id\":\"26693853-c9b8-4df4-a121-cc9ee8d5f394\",\"type\":\"ColumnDataSource\"},\"glyph\":{\"id\":\"cc250c38-b180-4e49-84a1-31cf652a11a5\",\"type\":\"Rect\"},\"hover_glyph\":null,\"nonselection_glyph\":null,\"selection_glyph\":null},\"id\":\"50f6a2a5-54ff-4447-9f58-4357c0abda66\",\"type\":\"GlyphRenderer\"},{\"attributes\":{\"callback\":null,\"column_names\":[\"height\",\"fill_alpha\",\"width\",\"color\",\"line_color\",\"line_alpha\",\"y\",\"x\",\"label\"],\"data\":{\"PercentageAmongstTop\":[2.060075830331022],\"QuestCreationYear\":[\"Oct'14-15\"],\"QuestTags\":[\"matplotlib\"],\"YearTagCount\":[3711],\"chart_index\":[{\"PercentageAmongstTop\":2.060075830331022,\"QuestCreationYear\":\"Oct'14-15\",\"QuestTags\":\"matplotlib\",\"YearTagCount\":3711}],\"color\":[\"#ADD8E6\"],\"fill_alpha\":[0.8],\"height\":[2.060075830331022],\"label\":[{\"PercentageAmongstTop\":2.060075830331022,\"QuestCreationYear\":\"Oct'14-15\",\"QuestTags\":\"matplotlib\",\"YearTagCount\":3711}],\"line_alpha\":[1.0],\"line_color\":[\"#4B0082\"],\"width\":[1.0],\"x\":[\"Oct'14-15\"],\"y\":[12.28523529052565]}},\"id\":\"5bc05c4d-4688-41b1-96f0-bc7526b4f7f7\",\"type\":\"ColumnDataSource\"},{\"attributes\":{\"data_source\":{\"id\":\"5bc05c4d-4688-41b1-96f0-bc7526b4f7f7\",\"type\":\"ColumnDataSource\"},\"glyph\":{\"id\":\"07f24e2e-7761-47eb-86b8-cc058122f6ff\",\"type\":\"Rect\"},\"hover_glyph\":null,\"nonselection_glyph\":null,\"selection_glyph\":null},\"id\":\"eb8418ef-c563-4978-b51b-3f7a19c2ca4c\",\"type\":\"GlyphRenderer\"},{\"attributes\":{\"fill_alpha\":{\"field\":\"fill_alpha\"},\"fill_color\":{\"field\":\"color\"},\"height\":{\"field\":\"height\",\"units\":\"data\"},\"line_color\":{\"field\":\"line_color\"},\"width\":{\"field\":\"width\",\"units\":\"data\"},\"x\":{\"field\":\"x\"},\"y\":{\"field\":\"y\"}},\"id\":\"51652d12-adfe-48c9-ac1a-9653173bf936\",\"type\":\"Rect\"},{\"attributes\":{\"data_source\":{\"id\":\"11ace5fa-c888-408b-a26d-0b78016919b6\",\"type\":\"ColumnDataSource\"},\"glyph\":{\"id\":\"27bce7dc-abc8-4187-9df2-8e9bbda9ac7a\",\"type\":\"Rect\"},\"hover_glyph\":null,\"nonselection_glyph\":null,\"selection_glyph\":null},\"id\":\"222fc6b4-d293-4195-838d-288b20ecdaee\",\"type\":\"GlyphRenderer\"},{\"attributes\":{\"data_source\":{\"id\":\"76b75fea-0bbf-4fcc-9d2b-45fec3e88824\",\"type\":\"ColumnDataSource\"},\"glyph\":{\"id\":\"e0566b3b-554e-4f87-a85f-9fbb0c782f36\",\"type\":\"Rect\"},\"hover_glyph\":null,\"nonselection_glyph\":null,\"selection_glyph\":null},\"id\":\"d5be807e-c79e-41bf-9aa0-9b8fb1437995\",\"type\":\"GlyphRenderer\"},{\"attributes\":{\"fill_alpha\":{\"field\":\"fill_alpha\"},\"fill_color\":{\"field\":\"color\"},\"height\":{\"field\":\"height\",\"units\":\"data\"},\"line_color\":{\"field\":\"line_color\"},\"width\":{\"field\":\"width\",\"units\":\"data\"},\"x\":{\"field\":\"x\"},\"y\":{\"field\":\"y\"}},\"id\":\"a15f7cf3-edab-445e-8f20-12474efa9a8d\",\"type\":\"Rect\"},{\"attributes\":{\"callback\":null,\"column_names\":[\"height\",\"fill_alpha\",\"width\",\"color\",\"line_color\",\"line_alpha\",\"y\",\"x\",\"label\"],\"data\":{\"PercentageAmongstTop\":[1.6653806227413275],\"QuestCreationYear\":[\"Oct'14-15\"],\"QuestTags\":[\"regex\"],\"YearTagCount\":[3000],\"chart_index\":[{\"PercentageAmongstTop\":1.6653806227413275,\"QuestCreationYear\":\"Oct'14-15\",\"QuestTags\":\"regex\",\"YearTagCount\":3000}],\"color\":[\"#9370DB\"],\"fill_alpha\":[0.8],\"height\":[1.6653806227413275],\"label\":[{\"PercentageAmongstTop\":1.6653806227413275,\"QuestCreationYear\":\"Oct'14-15\",\"QuestTags\":\"regex\",\"YearTagCount\":3000}],\"line_alpha\":[1.0],\"line_color\":[\"#F08080\"],\"width\":[1.0],\"x\":[\"Oct'14-15\"],\"y\":[99.16730968862933]}},\"id\":\"e2e95142-44fc-44dd-a041-af32c7fa1750\",\"type\":\"ColumnDataSource\"},{\"attributes\":{\"callback\":null,\"column_names\":[\"height\",\"fill_alpha\",\"width\",\"color\",\"line_color\",\"line_alpha\",\"y\",\"x\",\"label\"],\"data\":{\"PercentageAmongstTop\":[1.1483329373564584],\"QuestCreationYear\":[\"Oct'08-09\"],\"QuestTags\":[\"multithreading\"],\"YearTagCount\":[145],\"chart_index\":[{\"PercentageAmongstTop\":1.1483329373564584,\"QuestCreationYear\":\"Oct'08-09\",\"QuestTags\":\"multithreading\",\"YearTagCount\":145}],\"color\":[\"#F08080\"],\"fill_alpha\":[0.8],\"height\":[1.1483329373564584],\"label\":[{\"PercentageAmongstTop\":1.1483329373564584,\"QuestCreationYear\":\"Oct'08-09\",\"QuestTags\":\"multithreading\",\"YearTagCount\":145}],\"line_alpha\":[1.0],\"line_color\":[\"#4B0082\"],\"width\":[1.0],\"x\":[\"Oct'08-09\"],\"y\":[16.310287479211215]}},\"id\":\"8c39aeaf-c96e-4099-ad34-15638ee539a6\",\"type\":\"ColumnDataSource\"},{\"attributes\":{\"fill_alpha\":{\"field\":\"fill_alpha\"},\"fill_color\":{\"field\":\"color\"},\"height\":{\"field\":\"height\",\"units\":\"data\"},\"line_color\":{\"field\":\"line_color\"},\"width\":{\"field\":\"width\",\"units\":\"data\"},\"x\":{\"field\":\"x\"},\"y\":{\"field\":\"y\"}},\"id\":\"07f24e2e-7761-47eb-86b8-cc058122f6ff\",\"type\":\"Rect\"},{\"attributes\":{\"fill_alpha\":{\"field\":\"fill_alpha\"},\"fill_color\":{\"field\":\"color\"},\"height\":{\"field\":\"height\",\"units\":\"data\"},\"line_color\":{\"field\":\"line_color\"},\"width\":{\"field\":\"width\",\"units\":\"data\"},\"x\":{\"field\":\"x\"},\"y\":{\"field\":\"y\"}},\"id\":\"ac88ca36-5eb4-4a0a-b272-a37201570e0a\",\"type\":\"Rect\"},{\"attributes\":{\"data_source\":{\"id\":\"17a8b7a8-1117-44bc-823f-aff48e30d2c2\",\"type\":\"ColumnDataSource\"},\"glyph\":{\"id\":\"024dd9bf-441a-4e92-b6cc-106d989a0779\",\"type\":\"Rect\"},\"hover_glyph\":null,\"nonselection_glyph\":null,\"selection_glyph\":null},\"id\":\"4a730014-aed5-4e85-ba6a-c89264f7f9af\",\"type\":\"GlyphRenderer\"},{\"attributes\":{\"callback\":null,\"column_names\":[\"height\",\"fill_alpha\",\"width\",\"color\",\"line_color\",\"line_alpha\",\"y\",\"x\",\"label\"],\"data\":{\"PercentageAmongstTop\":[2.0950737107857975],\"QuestCreationYear\":[\"Oct'13-14\"],\"QuestTags\":[\"matplotlib\"],\"YearTagCount\":[3253],\"chart_index\":[{\"PercentageAmongstTop\":2.0950737107857975,\"QuestCreationYear\":\"Oct'13-14\",\"QuestTags\":\"matplotlib\",\"YearTagCount\":3253}],\"color\":[\"#ADD8E6\"],\"fill_alpha\":[0.8],\"height\":[2.0950737107857975],\"label\":[{\"PercentageAmongstTop\":2.0950737107857975,\"QuestCreationYear\":\"Oct'13-14\",\"QuestTags\":\"matplotlib\",\"YearTagCount\":3253}],\"line_alpha\":[1.0],\"line_color\":[\"#778899\"],\"width\":[1.0],\"x\":[\"Oct'13-14\"],\"y\":[12.702149173370085]}},\"id\":\"f14748df-94fe-4291-bfa7-0d92afff7117\",\"type\":\"ColumnDataSource\"},{\"attributes\":{\"data_source\":{\"id\":\"cd8693a1-05d2-4e93-81f8-3a23566058ed\",\"type\":\"ColumnDataSource\"},\"glyph\":{\"id\":\"bcf40fdb-b17d-456f-969d-b6e199a2a0c5\",\"type\":\"Rect\"},\"hover_glyph\":null,\"nonselection_glyph\":null,\"selection_glyph\":null},\"id\":\"764e4384-775d-41c5-86b6-0de278c13cf4\",\"type\":\"GlyphRenderer\"},{\"attributes\":{\"fill_alpha\":{\"field\":\"fill_alpha\"},\"fill_color\":{\"field\":\"color\"},\"height\":{\"field\":\"height\",\"units\":\"data\"},\"line_color\":{\"field\":\"line_color\"},\"width\":{\"field\":\"width\",\"units\":\"data\"},\"x\":{\"field\":\"x\"},\"y\":{\"field\":\"y\"}},\"id\":\"6ef09425-740d-498a-aeab-17b4a56207a9\",\"type\":\"Rect\"},{\"attributes\":{\"data_source\":{\"id\":\"584ae864-6f7d-4201-b35a-d453d4b9e9ce\",\"type\":\"ColumnDataSource\"},\"glyph\":{\"id\":\"9af451de-e7b6-4b59-af76-6608f434289a\",\"type\":\"Rect\"},\"hover_glyph\":null,\"nonselection_glyph\":null,\"selection_glyph\":null},\"id\":\"07c3abdf-8fc6-4864-8616-0cb54b407e9d\",\"type\":\"GlyphRenderer\"},{\"attributes\":{\"data_source\":{\"id\":\"bf651b8e-c019-4b7d-96aa-9692bbab4ff2\",\"type\":\"ColumnDataSource\"},\"glyph\":{\"id\":\"a83efe89-4184-42c7-ab88-cbd198048b03\",\"type\":\"Rect\"},\"hover_glyph\":null,\"nonselection_glyph\":null,\"selection_glyph\":null},\"id\":\"2bef112c-b85f-4d16-905f-7cf1f7ba9a7d\",\"type\":\"GlyphRenderer\"},{\"attributes\":{\"data_source\":{\"id\":\"85844288-6e6a-474f-b7e9-78b4e2691c6e\",\"type\":\"ColumnDataSource\"},\"glyph\":{\"id\":\"eb4385bb-c88c-442d-bbe6-9265713cc0f3\",\"type\":\"Rect\"},\"hover_glyph\":null,\"nonselection_glyph\":null,\"selection_glyph\":null},\"id\":\"a18b5f34-59da-4230-bb18-56675fee7029\",\"type\":\"GlyphRenderer\"},{\"attributes\":{\"data_source\":{\"id\":\"df456bba-acb8-42d1-adae-e266e1baf95e\",\"type\":\"ColumnDataSource\"},\"glyph\":{\"id\":\"54b0111b-72d2-4d67-b695-c679e800a24e\",\"type\":\"Rect\"},\"hover_glyph\":null,\"nonselection_glyph\":null,\"selection_glyph\":null},\"id\":\"25f48810-e624-4e2d-a932-8c817275d5b5\",\"type\":\"GlyphRenderer\"},{\"attributes\":{\"callback\":null,\"column_names\":[\"height\",\"fill_alpha\",\"width\",\"color\",\"line_color\",\"line_alpha\",\"y\",\"x\",\"label\"],\"data\":{\"PercentageAmongstTop\":[2.438325510315468],\"QuestCreationYear\":[\"Oct'11-12\"],\"QuestTags\":[\"numpy\"],\"YearTagCount\":[1787],\"chart_index\":[{\"PercentageAmongstTop\":2.438325510315468,\"QuestCreationYear\":\"Oct'11-12\",\"QuestTags\":\"numpy\",\"YearTagCount\":1787}],\"color\":[\"#FFB6C1\"],\"fill_alpha\":[0.8],\"height\":[2.438325510315468],\"label\":[{\"PercentageAmongstTop\":2.438325510315468,\"QuestCreationYear\":\"Oct'11-12\",\"QuestTags\":\"numpy\",\"YearTagCount\":1787}],\"line_alpha\":[1.0],\"line_color\":[\"#4B0082\"],\"width\":[1.0],\"x\":[\"Oct'11-12\"],\"y\":[15.922797729505513]}},\"id\":\"76b75fea-0bbf-4fcc-9d2b-45fec3e88824\",\"type\":\"ColumnDataSource\"},{\"attributes\":{\"data_source\":{\"id\":\"e2e95142-44fc-44dd-a041-af32c7fa1750\",\"type\":\"ColumnDataSource\"},\"glyph\":{\"id\":\"b0b41a3c-8af8-4f61-888a-837b5f424220\",\"type\":\"Rect\"},\"hover_glyph\":null,\"nonselection_glyph\":null,\"selection_glyph\":null},\"id\":\"5701d8b0-a64f-4bde-9d87-a4fd5d7be241\",\"type\":\"GlyphRenderer\"},{\"attributes\":{\"data_source\":{\"id\":\"326fc900-f80e-4c4d-87fc-bb89c6208119\",\"type\":\"ColumnDataSource\"},\"glyph\":{\"id\":\"c78d6e52-4fd6-4ec8-b0c8-530e28124427\",\"type\":\"Rect\"},\"hover_glyph\":null,\"nonselection_glyph\":null,\"selection_glyph\":null},\"id\":\"7f0364a2-fd4f-4450-b5b1-081760f46a28\",\"type\":\"GlyphRenderer\"},{\"attributes\":{\"callback\":null,\"column_names\":[\"height\",\"fill_alpha\",\"width\",\"color\",\"line_color\",\"line_alpha\",\"y\",\"x\",\"label\"],\"data\":{\"PercentageAmongstTop\":[2.95580328559024],\"QuestCreationYear\":[\"Oct'12-13\"],\"QuestTags\":[\"numpy\"],\"YearTagCount\":[3370],\"chart_index\":[{\"PercentageAmongstTop\":2.95580328559024,\"QuestCreationYear\":\"Oct'12-13\",\"QuestTags\":\"numpy\",\"YearTagCount\":3370}],\"color\":[\"#FFB6C1\"],\"fill_alpha\":[0.8],\"height\":[2.95580328559024],\"label\":[{\"PercentageAmongstTop\":2.95580328559024,\"QuestCreationYear\":\"Oct'12-13\",\"QuestTags\":\"numpy\",\"YearTagCount\":3370}],\"line_alpha\":[1.0],\"line_color\":[\"#9370DB\"],\"width\":[1.0],\"x\":[\"Oct'12-13\"],\"y\":[14.563251559032743]}},\"id\":\"022fcbca-0893-4d1d-bc92-3fba885ee443\",\"type\":\"ColumnDataSource\"},{\"attributes\":{\"callback\":null,\"column_names\":[\"height\",\"fill_alpha\",\"width\",\"color\",\"line_color\",\"line_alpha\",\"y\",\"x\",\"label\"],\"data\":{\"PercentageAmongstTop\":[1.5831527983650988],\"QuestCreationYear\":[\"Oct'12-13\"],\"QuestTags\":[\"dictionary\"],\"YearTagCount\":[1805],\"chart_index\":[{\"PercentageAmongstTop\":1.5831527983650988,\"QuestCreationYear\":\"Oct'12-13\",\"QuestTags\":\"dictionary\",\"YearTagCount\":1805}],\"color\":[\"#4B0082\"],\"fill_alpha\":[0.8],\"height\":[1.5831527983650988],\"label\":[{\"PercentageAmongstTop\":1.5831527983650988,\"QuestCreationYear\":\"Oct'12-13\",\"QuestTags\":\"dictionary\",\"YearTagCount\":1805}],\"line_alpha\":[1.0],\"line_color\":[\"#FF6347\"],\"width\":[1.0],\"x\":[\"Oct'12-13\"],\"y\":[0.7915763991825494]}},\"id\":\"c5722944-e4af-4e6b-91e5-1d79c1113c7d\",\"type\":\"ColumnDataSource\"},{\"attributes\":{\"callback\":null,\"column_names\":[\"height\",\"fill_alpha\",\"width\",\"color\",\"line_color\",\"line_alpha\",\"y\",\"x\",\"label\"],\"data\":{\"PercentageAmongstTop\":[2.605527837174309],\"QuestCreationYear\":[\"Oct'08-09\"],\"QuestTags\":[\"google-app-engine\"],\"YearTagCount\":[329],\"chart_index\":[{\"PercentageAmongstTop\":2.605527837174309,\"QuestCreationYear\":\"Oct'08-09\",\"QuestTags\":\"google-app-engine\",\"YearTagCount\":329}],\"color\":[\"#FFF0F5\"],\"fill_alpha\":[0.8],\"height\":[2.605527837174309],\"label\":[{\"PercentageAmongstTop\":2.605527837174309,\"QuestCreationYear\":\"Oct'08-09\",\"QuestTags\":\"google-app-engine\",\"YearTagCount\":329}],\"line_alpha\":[1.0],\"line_color\":[\"#F08080\"],\"width\":[1.0],\"x\":[\"Oct'08-09\"],\"y\":[12.738576067157677]}},\"id\":\"e1e01b91-3253-49e4-a570-b469f557c941\",\"type\":\"ColumnDataSource\"},{\"attributes\":{\"below\":[{\"id\":\"3c283db4-bdb5-4f5f-a01f-aeaa8f2c7baf\",\"type\":\"CategoricalAxis\"}],\"left\":[{\"id\":\"87e462f7-2ccf-4acb-9072-bd3e7cc508e0\",\"type\":\"LinearAxis\"}],\"renderers\":[{\"id\":\"c71c5ea2-ae81-4221-9da5-9c14d1b12e7b\",\"type\":\"GlyphRenderer\"},{\"id\":\"cae30732-079e-4cc2-8881-c0690e5d73fd\",\"type\":\"GlyphRenderer\"},{\"id\":\"fbdf45e1-c7e1-40bb-9249-4f54d18b1704\",\"type\":\"GlyphRenderer\"},{\"id\":\"fe3cc1df-9f2c-4981-8774-a58dc3c69412\",\"type\":\"GlyphRenderer\"},{\"id\":\"4ab0abc5-f754-4f78-b3fb-7f929681fb43\",\"type\":\"GlyphRenderer\"},{\"id\":\"ba061127-2767-459d-850d-0931f9bb87b9\",\"type\":\"GlyphRenderer\"},{\"id\":\"93c8b120-4c90-419f-84f4-61a678b2d8ee\",\"type\":\"GlyphRenderer\"},{\"id\":\"76025935-dd12-4ed3-9a38-9e3169ab9ffd\",\"type\":\"GlyphRenderer\"},{\"id\":\"035e168c-361e-43af-bced-58c54be14128\",\"type\":\"GlyphRenderer\"},{\"id\":\"74d8f586-8ba7-43f8-8c2d-945b23c99ab8\",\"type\":\"GlyphRenderer\"},{\"id\":\"745fcfb4-4d1e-48bd-bf9b-09bffb04d06f\",\"type\":\"GlyphRenderer\"},{\"id\":\"e73cee97-dd81-48dd-b980-d157067e9e4c\",\"type\":\"GlyphRenderer\"},{\"id\":\"4a730014-aed5-4e85-ba6a-c89264f7f9af\",\"type\":\"GlyphRenderer\"},{\"id\":\"2bef112c-b85f-4d16-905f-7cf1f7ba9a7d\",\"type\":\"GlyphRenderer\"},{\"id\":\"2bcf2597-8245-404f-a7c6-5ddb70dfff81\",\"type\":\"GlyphRenderer\"},{\"id\":\"906c6219-9329-426d-9792-796d9b685a36\",\"type\":\"GlyphRenderer\"},{\"id\":\"cc119f57-62ee-4047-8525-d081f8c801c0\",\"type\":\"GlyphRenderer\"},{\"id\":\"62389e0b-af87-4039-ae01-88632c63da69\",\"type\":\"GlyphRenderer\"},{\"id\":\"8cb49bf5-8d6d-4bf8-8ee2-18c6d3512951\",\"type\":\"GlyphRenderer\"},{\"id\":\"ec2f7963-4ac3-4924-9c21-e00966a4a144\",\"type\":\"GlyphRenderer\"},{\"id\":\"3bd2fe44-fb79-4fc3-ab3c-203c601e7088\",\"type\":\"GlyphRenderer\"},{\"id\":\"28b61f9b-fdf3-4d7e-a98a-9d699d1ce9e9\",\"type\":\"GlyphRenderer\"},{\"id\":\"942ea2c7-d4da-46f8-8d24-d4eccde0249c\",\"type\":\"GlyphRenderer\"},{\"id\":\"5f7bc13e-ecf2-4d2a-8cdf-8e59cd89fa53\",\"type\":\"GlyphRenderer\"},{\"id\":\"25f48810-e624-4e2d-a932-8c817275d5b5\",\"type\":\"GlyphRenderer\"},{\"id\":\"a979eba2-ebab-4cf1-902a-0c43e652f008\",\"type\":\"GlyphRenderer\"},{\"id\":\"72fb9b76-d531-4305-be9e-642f5d8b3679\",\"type\":\"GlyphRenderer\"},{\"id\":\"ec46a6c2-1e4c-481d-a080-7ddc6fb375c5\",\"type\":\"GlyphRenderer\"},{\"id\":\"1229dec0-23cf-47d5-897f-6fe66729578a\",\"type\":\"GlyphRenderer\"},{\"id\":\"88dca864-aca0-4bb9-8e16-d0b9060db3bb\",\"type\":\"GlyphRenderer\"},{\"id\":\"55b98167-af4c-4ba3-8917-ff8e7266e30f\",\"type\":\"GlyphRenderer\"},{\"id\":\"e62f3e7e-1dfe-449b-83f4-904440966fdb\",\"type\":\"GlyphRenderer\"},{\"id\":\"f828ccbb-7025-4651-bc57-e0aa1791cb22\",\"type\":\"GlyphRenderer\"},{\"id\":\"c6711696-7ffd-4a55-a23e-b21d3d7834aa\",\"type\":\"GlyphRenderer\"},{\"id\":\"d5be807e-c79e-41bf-9aa0-9b8fb1437995\",\"type\":\"GlyphRenderer\"},{\"id\":\"f69b1344-436a-42e2-9c87-c7ddb3033f01\",\"type\":\"GlyphRenderer\"},{\"id\":\"97f6a36a-0ae9-4db0-9d31-0dfd55017298\",\"type\":\"GlyphRenderer\"},{\"id\":\"f2a8949f-cc30-401c-8dca-a9f811b94404\",\"type\":\"GlyphRenderer\"},{\"id\":\"c8af6226-960d-4f9d-8423-0167fdc70215\",\"type\":\"GlyphRenderer\"},{\"id\":\"1e13afb4-0b24-435f-8e3b-cb4baf023d13\",\"type\":\"GlyphRenderer\"},{\"id\":\"27881310-9460-4766-852d-9cf43972abc7\",\"type\":\"GlyphRenderer\"},{\"id\":\"ecf513e4-b9ac-4a23-b58a-36f7347bd024\",\"type\":\"GlyphRenderer\"},{\"id\":\"6976bb01-3422-49e8-97b7-911a4fbd3c1c\",\"type\":\"GlyphRenderer\"},{\"id\":\"4ce7c0ad-cbfe-46bb-9fd3-ebe7d43b4267\",\"type\":\"GlyphRenderer\"},{\"id\":\"5ee65ffe-26cd-4335-9e49-fc9e6faa1b17\",\"type\":\"GlyphRenderer\"},{\"id\":\"50f6a2a5-54ff-4447-9f58-4357c0abda66\",\"type\":\"GlyphRenderer\"},{\"id\":\"4af1e049-5066-4ee1-a37f-e2199daa4d7a\",\"type\":\"GlyphRenderer\"},{\"id\":\"166f193c-c7e7-4e0f-8fd9-1369aabce77b\",\"type\":\"GlyphRenderer\"},{\"id\":\"222fc6b4-d293-4195-838d-288b20ecdaee\",\"type\":\"GlyphRenderer\"},{\"id\":\"4ce79f67-03a3-4ab5-a3a4-7bc699bddfff\",\"type\":\"GlyphRenderer\"},{\"id\":\"e42c6c43-2ab7-4290-867b-1a047a2efb19\",\"type\":\"GlyphRenderer\"},{\"id\":\"51f1e6c7-af05-44dd-a052-24fb232adb84\",\"type\":\"GlyphRenderer\"},{\"id\":\"226e78a1-ba76-499f-b0c9-72508c640b53\",\"type\":\"GlyphRenderer\"},{\"id\":\"1a5cd919-68d6-403b-a934-f1b101940cee\",\"type\":\"GlyphRenderer\"},{\"id\":\"64ac6c4f-2e31-478c-9207-9924704a48dd\",\"type\":\"GlyphRenderer\"},{\"id\":\"7f0364a2-fd4f-4450-b5b1-081760f46a28\",\"type\":\"GlyphRenderer\"},{\"id\":\"5f06d25e-ba70-47db-8d96-828a8dd839db\",\"type\":\"GlyphRenderer\"},{\"id\":\"a18b5f34-59da-4230-bb18-56675fee7029\",\"type\":\"GlyphRenderer\"},{\"id\":\"b1ccf7d7-ae48-4b63-b3df-44e5c29c2146\",\"type\":\"GlyphRenderer\"},{\"id\":\"59840418-5211-4fd3-b820-880d8276793c\",\"type\":\"GlyphRenderer\"},{\"id\":\"be06886e-af4e-443b-831c-648cd1299c4d\",\"type\":\"GlyphRenderer\"},{\"id\":\"c79b599c-1259-4b5d-a3f4-a61ef00c6ba2\",\"type\":\"GlyphRenderer\"},{\"id\":\"a59e435c-9010-4e28-89ac-caa7dc54d81f\",\"type\":\"GlyphRenderer\"},{\"id\":\"eb8418ef-c563-4978-b51b-3f7a19c2ca4c\",\"type\":\"GlyphRenderer\"},{\"id\":\"e6a73e37-a322-4bc9-ac27-4be27d3f3038\",\"type\":\"GlyphRenderer\"},{\"id\":\"83feb45e-e338-4e8d-9c44-6712f8c917a6\",\"type\":\"GlyphRenderer\"},{\"id\":\"f33cd816-1c44-466d-bb69-e4c37fd4e584\",\"type\":\"GlyphRenderer\"},{\"id\":\"45410199-1ea4-4c3a-ae31-226a61992671\",\"type\":\"GlyphRenderer\"},{\"id\":\"f20da535-ba48-4ad7-bf23-c9ffb4aad4c8\",\"type\":\"GlyphRenderer\"},{\"id\":\"5701d8b0-a64f-4bde-9d87-a4fd5d7be241\",\"type\":\"GlyphRenderer\"},{\"id\":\"a373100b-5ba0-4175-bc7d-caf076a4b986\",\"type\":\"GlyphRenderer\"},{\"id\":\"31272b07-f59b-4268-a561-a9fce6ef0948\",\"type\":\"GlyphRenderer\"},{\"id\":\"764e4384-775d-41c5-86b6-0de278c13cf4\",\"type\":\"GlyphRenderer\"},{\"id\":\"e722093c-5952-43d2-902b-20edf4d5f87f\",\"type\":\"GlyphRenderer\"},{\"id\":\"07c3abdf-8fc6-4864-8616-0cb54b407e9d\",\"type\":\"GlyphRenderer\"},{\"id\":\"a4f48250-89cf-4af8-b98e-cc4cad6c3207\",\"type\":\"GlyphRenderer\"},{\"id\":\"978a034c-6557-47a4-8699-535b73c842b1\",\"type\":\"GlyphRenderer\"},{\"id\":\"8d61f336-7dad-403f-976d-ce24c35b7753\",\"type\":\"GlyphRenderer\"},{\"id\":\"3be6aa95-de41-4671-bcb6-266110578f8e\",\"type\":\"GlyphRenderer\"},{\"id\":\"0243be94-155a-40ea-bfe9-4253ac35e66f\",\"type\":\"GlyphRenderer\"},{\"id\":\"71748332-7b23-4ed9-aaca-18baa02d1519\",\"type\":\"Legend\"},{\"id\":\"3c283db4-bdb5-4f5f-a01f-aeaa8f2c7baf\",\"type\":\"CategoricalAxis\"},{\"id\":\"87e462f7-2ccf-4acb-9072-bd3e7cc508e0\",\"type\":\"LinearAxis\"},{\"id\":\"ea5f2824-73ee-4023-9969-3237a71bd226\",\"type\":\"Grid\"}],\"title\":{\"id\":\"9328e780-a849-4cca-bad6-795acf5de991\",\"type\":\"Title\"},\"tool_events\":{\"id\":\"111e31cd-593d-426a-8453-1197b72d7c2f\",\"type\":\"ToolEvents\"},\"toolbar\":{\"id\":\"5aa19c5d-4950-4ad2-a7fe-e603d089e3e6\",\"type\":\"Toolbar\"},\"x_mapper_type\":\"auto\",\"x_range\":{\"id\":\"5bec4190-d573-429f-99dd-ee3974271091\",\"type\":\"FactorRange\"},\"y_mapper_type\":\"auto\",\"y_range\":{\"id\":\"c64696d8-e6be-483a-a89b-a45397075f23\",\"type\":\"Range1d\"}},\"id\":\"e7f3ca80-83f1-4bdd-bfdf-faf2d13f335d\",\"subtype\":\"Chart\",\"type\":\"Plot\"},{\"attributes\":{\"callback\":null,\"column_names\":[\"height\",\"fill_alpha\",\"width\",\"color\",\"line_color\",\"line_alpha\",\"y\",\"x\",\"label\"],\"data\":{\"PercentageAmongstTop\":[3.2824652074231566],\"QuestCreationYear\":[\"Oct'14-15\"],\"QuestTags\":[\"numpy\"],\"YearTagCount\":[5913],\"chart_index\":[{\"PercentageAmongstTop\":3.2824652074231566,\"QuestCreationYear\":\"Oct'14-15\",\"QuestTags\":\"numpy\",\"YearTagCount\":5913}],\"color\":[\"#FFB6C1\"],\"fill_alpha\":[0.8],\"height\":[3.2824652074231566],\"label\":[{\"PercentageAmongstTop\":3.2824652074231566,\"QuestCreationYear\":\"Oct'14-15\",\"QuestTags\":\"numpy\",\"YearTagCount\":5913}],\"line_alpha\":[1.0],\"line_color\":[\"#87CEFA\"],\"width\":[1.0],\"x\":[\"Oct'14-15\"],\"y\":[14.956505809402739]}},\"id\":\"85486570-b748-41a1-ad38-b0300a13fecd\",\"type\":\"ColumnDataSource\"},{\"attributes\":{\"fill_alpha\":{\"field\":\"fill_alpha\"},\"fill_color\":{\"field\":\"color\"},\"height\":{\"field\":\"height\",\"units\":\"data\"},\"line_color\":{\"field\":\"line_color\"},\"width\":{\"field\":\"width\",\"units\":\"data\"},\"x\":{\"field\":\"x\"},\"y\":{\"field\":\"y\"}},\"id\":\"9af451de-e7b6-4b59-af76-6608f434289a\",\"type\":\"Rect\"},{\"attributes\":{\"fill_alpha\":{\"field\":\"fill_alpha\"},\"fill_color\":{\"field\":\"color\"},\"height\":{\"field\":\"height\",\"units\":\"data\"},\"line_color\":{\"field\":\"line_color\"},\"width\":{\"field\":\"width\",\"units\":\"data\"},\"x\":{\"field\":\"x\"},\"y\":{\"field\":\"y\"}},\"id\":\"54b0111b-72d2-4d67-b695-c679e800a24e\",\"type\":\"Rect\"},{\"attributes\":{\"data_source\":{\"id\":\"36d2cae7-e791-4cd0-ac0c-2b2206db81c4\",\"type\":\"ColumnDataSource\"},\"glyph\":{\"id\":\"39bf7007-3123-4958-839c-d9086488b167\",\"type\":\"Rect\"},\"hover_glyph\":null,\"nonselection_glyph\":null,\"selection_glyph\":null},\"id\":\"166f193c-c7e7-4e0f-8fd9-1369aabce77b\",\"type\":\"GlyphRenderer\"},{\"attributes\":{\"fill_alpha\":{\"field\":\"fill_alpha\"},\"fill_color\":{\"field\":\"color\"},\"height\":{\"field\":\"height\",\"units\":\"data\"},\"line_color\":{\"field\":\"line_color\"},\"width\":{\"field\":\"width\",\"units\":\"data\"},\"x\":{\"field\":\"x\"},\"y\":{\"field\":\"y\"}},\"id\":\"f695a1f9-2fe3-4e08-ab00-7e8686a707cb\",\"type\":\"Rect\"},{\"attributes\":{\"fill_alpha\":{\"field\":\"fill_alpha\"},\"fill_color\":{\"field\":\"color\"},\"height\":{\"field\":\"height\",\"units\":\"data\"},\"line_color\":{\"field\":\"line_color\"},\"width\":{\"field\":\"width\",\"units\":\"data\"},\"x\":{\"field\":\"x\"},\"y\":{\"field\":\"y\"}},\"id\":\"a53626d8-e31b-4693-8449-c5507faf4bfd\",\"type\":\"Rect\"},{\"attributes\":{\"fill_alpha\":{\"field\":\"fill_alpha\"},\"fill_color\":{\"field\":\"color\"},\"height\":{\"field\":\"height\",\"units\":\"data\"},\"line_color\":{\"field\":\"line_color\"},\"width\":{\"field\":\"width\",\"units\":\"data\"},\"x\":{\"field\":\"x\"},\"y\":{\"field\":\"y\"}},\"id\":\"606090f9-b8dc-42ae-b3cb-f4ae0e14a3c9\",\"type\":\"Rect\"},{\"attributes\":{\"data_source\":{\"id\":\"89db7776-79bc-4dfc-8756-7acd82014c1e\",\"type\":\"ColumnDataSource\"},\"glyph\":{\"id\":\"606090f9-b8dc-42ae-b3cb-f4ae0e14a3c9\",\"type\":\"Rect\"},\"hover_glyph\":null,\"nonselection_glyph\":null,\"selection_glyph\":null},\"id\":\"a979eba2-ebab-4cf1-902a-0c43e652f008\",\"type\":\"GlyphRenderer\"},{\"attributes\":{\"fill_alpha\":{\"field\":\"fill_alpha\"},\"fill_color\":{\"field\":\"color\"},\"height\":{\"field\":\"height\",\"units\":\"data\"},\"line_color\":{\"field\":\"line_color\"},\"width\":{\"field\":\"width\",\"units\":\"data\"},\"x\":{\"field\":\"x\"},\"y\":{\"field\":\"y\"}},\"id\":\"1141d698-97ca-49d8-849d-b43e6182b464\",\"type\":\"Rect\"},{\"attributes\":{\"fill_alpha\":{\"field\":\"fill_alpha\"},\"fill_color\":{\"field\":\"color\"},\"height\":{\"field\":\"height\",\"units\":\"data\"},\"line_color\":{\"field\":\"line_color\"},\"width\":{\"field\":\"width\",\"units\":\"data\"},\"x\":{\"field\":\"x\"},\"y\":{\"field\":\"y\"}},\"id\":\"b036fa73-9c37-4ef5-a06f-7147c9bd69a4\",\"type\":\"Rect\"},{\"attributes\":{\"callback\":null,\"column_names\":[\"height\",\"fill_alpha\",\"width\",\"color\",\"line_color\",\"line_alpha\",\"y\",\"x\",\"label\"],\"data\":{\"PercentageAmongstTop\":[1.565426754803409],\"QuestCreationYear\":[\"Oct'15-16\"],\"QuestTags\":[\"dictionary\"],\"YearTagCount\":[3602],\"chart_index\":[{\"PercentageAmongstTop\":1.565426754803409,\"QuestCreationYear\":\"Oct'15-16\",\"QuestTags\":\"dictionary\",\"YearTagCount\":3602}],\"color\":[\"#4B0082\"],\"fill_alpha\":[0.8],\"height\":[1.565426754803409],\"label\":[{\"PercentageAmongstTop\":1.565426754803409,\"QuestCreationYear\":\"Oct'15-16\",\"QuestTags\":\"dictionary\",\"YearTagCount\":3602}],\"line_alpha\":[1.0],\"line_color\":[\"#40E0D0\"],\"width\":[1.0],\"x\":[\"Oct'15-16\"],\"y\":[0.7827133774017045]}},\"id\":\"10663c98-6507-44a1-84d2-9c6cf00254ac\",\"type\":\"ColumnDataSource\"},{\"attributes\":{\"fill_alpha\":{\"field\":\"fill_alpha\"},\"fill_color\":{\"field\":\"color\"},\"height\":{\"field\":\"height\",\"units\":\"data\"},\"line_color\":{\"field\":\"line_color\"},\"width\":{\"field\":\"width\",\"units\":\"data\"},\"x\":{\"field\":\"x\"},\"y\":{\"field\":\"y\"}},\"id\":\"ab8568ef-02d8-4658-94ed-a8e594d7535c\",\"type\":\"Rect\"},{\"attributes\":{\"callback\":null,\"factors\":[\"Oct'08-09\",\"Oct'09-10\",\"Oct'10-11\",\"Oct'11-12\",\"Oct'12-13\",\"Oct'13-14\",\"Oct'14-15\",\"Oct'15-16\"]},\"id\":\"5bec4190-d573-429f-99dd-ee3974271091\",\"type\":\"FactorRange\"},{\"attributes\":{\"data_source\":{\"id\":\"3891ba99-f75a-465b-94a9-b7c4dd1e6a8e\",\"type\":\"ColumnDataSource\"},\"glyph\":{\"id\":\"2ac975cf-2b30-4648-b8b7-38456a1e3154\",\"type\":\"Rect\"},\"hover_glyph\":null,\"nonselection_glyph\":null,\"selection_glyph\":null},\"id\":\"cc119f57-62ee-4047-8525-d081f8c801c0\",\"type\":\"GlyphRenderer\"},{\"attributes\":{\"data_source\":{\"id\":\"a3f8cd19-7e76-44e6-b1b7-abb35aeb2bb7\",\"type\":\"ColumnDataSource\"},\"glyph\":{\"id\":\"1426185c-7a64-4438-94db-fa2b0d225bca\",\"type\":\"Rect\"},\"hover_glyph\":null,\"nonselection_glyph\":null,\"selection_glyph\":null},\"id\":\"72fb9b76-d531-4305-be9e-642f5d8b3679\",\"type\":\"GlyphRenderer\"},{\"attributes\":{\"fill_alpha\":{\"field\":\"fill_alpha\"},\"fill_color\":{\"field\":\"color\"},\"height\":{\"field\":\"height\",\"units\":\"data\"},\"line_color\":{\"field\":\"line_color\"},\"width\":{\"field\":\"width\",\"units\":\"data\"},\"x\":{\"field\":\"x\"},\"y\":{\"field\":\"y\"}},\"id\":\"28bb3d56-0fba-4834-900b-cae0f4d63194\",\"type\":\"Rect\"},{\"attributes\":{\"callback\":null,\"column_names\":[\"height\",\"fill_alpha\",\"width\",\"color\",\"line_color\",\"line_alpha\",\"y\",\"x\",\"label\"],\"data\":{\"PercentageAmongstTop\":[2.489228371407042],\"QuestCreationYear\":[\"Oct'13-14\"],\"QuestTags\":[\"list\"],\"YearTagCount\":[3865],\"chart_index\":[{\"PercentageAmongstTop\":2.489228371407042,\"QuestCreationYear\":\"Oct'13-14\",\"QuestTags\":\"list\",\"YearTagCount\":3865}],\"color\":[\"#90EE90\"],\"fill_alpha\":[0.8],\"height\":[2.489228371407042],\"label\":[{\"PercentageAmongstTop\":2.489228371407042,\"QuestCreationYear\":\"Oct'13-14\",\"QuestTags\":\"list\",\"YearTagCount\":3865}],\"line_alpha\":[1.0],\"line_color\":[\"#FF6347\"],\"width\":[1.0],\"x\":[\"Oct'13-14\"],\"y\":[10.409998132273666]}},\"id\":\"9837e4b7-675b-4658-bbc2-0b7e50e74517\",\"type\":\"ColumnDataSource\"},{\"attributes\":{\"data_source\":{\"id\":\"10663c98-6507-44a1-84d2-9c6cf00254ac\",\"type\":\"ColumnDataSource\"},\"glyph\":{\"id\":\"58beba12-fc74-479a-ba21-dca3b31f33b0\",\"type\":\"Rect\"},\"hover_glyph\":null,\"nonselection_glyph\":null,\"selection_glyph\":null},\"id\":\"a373100b-5ba0-4175-bc7d-caf076a4b986\",\"type\":\"GlyphRenderer\"},{\"attributes\":{\"callback\":null,\"column_names\":[\"height\",\"fill_alpha\",\"width\",\"color\",\"line_color\",\"line_alpha\",\"y\",\"x\",\"label\"],\"data\":{\"PercentageAmongstTop\":[9.875663261265542],\"QuestCreationYear\":[\"Oct'08-09\"],\"QuestTags\":[\"django\"],\"YearTagCount\":[1247],\"chart_index\":[{\"PercentageAmongstTop\":9.875663261265542,\"QuestCreationYear\":\"Oct'08-09\",\"QuestTags\":\"django\",\"YearTagCount\":1247}],\"color\":[\"#FF6347\"],\"fill_alpha\":[0.8],\"height\":[9.875663261265542],\"label\":[{\"PercentageAmongstTop\":9.875663261265542,\"QuestCreationYear\":\"Oct'08-09\",\"QuestTags\":\"django\",\"YearTagCount\":1247}],\"line_alpha\":[1.0],\"line_color\":[\"#87CEFA\"],\"width\":[1.0],\"x\":[\"Oct'08-09\"],\"y\":[4.937831630632771]}},\"id\":\"01779ca3-d579-4f3e-a0b1-9f9d0018952b\",\"type\":\"ColumnDataSource\"},{\"attributes\":{\"data_source\":{\"id\":\"dc91c096-e847-4b83-a134-36301f41169c\",\"type\":\"ColumnDataSource\"},\"glyph\":{\"id\":\"5a104b58-fcf6-47a1-982b-46f2a315ad3d\",\"type\":\"Rect\"},\"hover_glyph\":null,\"nonselection_glyph\":null,\"selection_glyph\":null},\"id\":\"5f06d25e-ba70-47db-8d96-828a8dd839db\",\"type\":\"GlyphRenderer\"},{\"attributes\":{\"fill_alpha\":{\"field\":\"fill_alpha\"},\"fill_color\":{\"field\":\"color\"},\"height\":{\"field\":\"height\",\"units\":\"data\"},\"line_color\":{\"field\":\"line_color\"},\"width\":{\"field\":\"width\",\"units\":\"data\"},\"x\":{\"field\":\"x\"},\"y\":{\"field\":\"y\"}},\"id\":\"882b3a8a-14db-4db7-afa7-2d48a8474da3\",\"type\":\"Rect\"},{\"attributes\":{\"fill_alpha\":{\"field\":\"fill_alpha\"},\"fill_color\":{\"field\":\"color\"},\"height\":{\"field\":\"height\",\"units\":\"data\"},\"line_color\":{\"field\":\"line_color\"},\"width\":{\"field\":\"width\",\"units\":\"data\"},\"x\":{\"field\":\"x\"},\"y\":{\"field\":\"y\"}},\"id\":\"17bf9250-2830-4917-b1ff-54ce243fcd15\",\"type\":\"Rect\"},{\"attributes\":{\"data_source\":{\"id\":\"73019f3c-61af-455e-9950-b33c87fe3f61\",\"type\":\"ColumnDataSource\"},\"glyph\":{\"id\":\"4ac8c43f-c96e-4fdb-9df9-78c35b752218\",\"type\":\"Rect\"},\"hover_glyph\":null,\"nonselection_glyph\":null,\"selection_glyph\":null},\"id\":\"45410199-1ea4-4c3a-ae31-226a61992671\",\"type\":\"GlyphRenderer\"},{\"attributes\":{\"plot\":null,\"text\":\"Top 10 Tags Used Throughout the Years for Python\"},\"id\":\"9328e780-a849-4cca-bad6-795acf5de991\",\"type\":\"Title\"},{\"attributes\":{\"callback\":null,\"column_names\":[\"height\",\"fill_alpha\",\"width\",\"color\",\"line_color\",\"line_alpha\",\"y\",\"x\",\"label\"],\"data\":{\"PercentageAmongstTop\":[3.3586871816009634],\"QuestCreationYear\":[\"Oct'13-14\"],\"QuestTags\":[\"numpy\"],\"YearTagCount\":[5215],\"chart_index\":[{\"PercentageAmongstTop\":3.3586871816009634,\"QuestCreationYear\":\"Oct'13-14\",\"QuestTags\":\"numpy\",\"YearTagCount\":5215}],\"color\":[\"#FFB6C1\"],\"fill_alpha\":[0.8],\"height\":[3.3586871816009634],\"label\":[{\"PercentageAmongstTop\":3.3586871816009634,\"QuestCreationYear\":\"Oct'13-14\",\"QuestTags\":\"numpy\",\"YearTagCount\":5215}],\"line_alpha\":[1.0],\"line_color\":[\"#F08080\"],\"width\":[1.0],\"x\":[\"Oct'13-14\"],\"y\":[15.429029619563465]}},\"id\":\"ab4421ea-0106-4e37-ba58-43e319f24a0f\",\"type\":\"ColumnDataSource\"},{\"attributes\":{\"data_source\":{\"id\":\"082d9b40-6f9f-411d-9a6d-0cf4b6a3ddc1\",\"type\":\"ColumnDataSource\"},\"glyph\":{\"id\":\"8e94ebe9-3442-413c-930e-b69cea137e43\",\"type\":\"Rect\"},\"hover_glyph\":null,\"nonselection_glyph\":null,\"selection_glyph\":null},\"id\":\"e722093c-5952-43d2-902b-20edf4d5f87f\",\"type\":\"GlyphRenderer\"},{\"attributes\":{\"data_source\":{\"id\":\"01779ca3-d579-4f3e-a0b1-9f9d0018952b\",\"type\":\"ColumnDataSource\"},\"glyph\":{\"id\":\"b8522982-ce19-4871-8611-8f7340eb641f\",\"type\":\"Rect\"},\"hover_glyph\":null,\"nonselection_glyph\":null,\"selection_glyph\":null},\"id\":\"c71c5ea2-ae81-4221-9da5-9c14d1b12e7b\",\"type\":\"GlyphRenderer\"},{\"attributes\":{\"callback\":null,\"column_names\":[\"height\",\"fill_alpha\",\"width\",\"color\",\"line_color\",\"line_alpha\",\"y\",\"x\",\"label\"],\"data\":{\"PercentageAmongstTop\":[5.373820606092213],\"QuestCreationYear\":[\"Oct'15-16\"],\"QuestTags\":[\"pandas\"],\"YearTagCount\":[12365],\"chart_index\":[{\"PercentageAmongstTop\":5.373820606092213,\"QuestCreationYear\":\"Oct'15-16\",\"QuestTags\":\"pandas\",\"YearTagCount\":12365}],\"color\":[\"#87CEFA\"],\"fill_alpha\":[0.8],\"height\":[5.373820606092213],\"label\":[{\"PercentageAmongstTop\":5.373820606092213,\"QuestCreationYear\":\"Oct'15-16\",\"QuestTags\":\"pandas\",\"YearTagCount\":12365}],\"line_alpha\":[1.0],\"line_color\":[\"#ADD8E6\"],\"width\":[1.0],\"x\":[\"Oct'15-16\"],\"y\":[19.53676058357997]}},\"id\":\"7908ac64-11b5-4ccf-a109-bb1a8bbdbd37\",\"type\":\"ColumnDataSource\"},{\"attributes\":{\"data_source\":{\"id\":\"48b2587f-7b4b-42ac-bb4d-fa786a04dbac\",\"type\":\"ColumnDataSource\"},\"glyph\":{\"id\":\"536e8756-5a65-420d-bd8f-6146817eec17\",\"type\":\"Rect\"},\"hover_glyph\":null,\"nonselection_glyph\":null,\"selection_glyph\":null},\"id\":\"ba061127-2767-459d-850d-0931f9bb87b9\",\"type\":\"GlyphRenderer\"},{\"attributes\":{\"fill_alpha\":{\"field\":\"fill_alpha\"},\"fill_color\":{\"field\":\"color\"},\"height\":{\"field\":\"height\",\"units\":\"data\"},\"line_color\":{\"field\":\"line_color\"},\"width\":{\"field\":\"width\",\"units\":\"data\"},\"x\":{\"field\":\"x\"},\"y\":{\"field\":\"y\"}},\"id\":\"959aff8f-230d-46fa-905b-9e60880352e4\",\"type\":\"Rect\"},{\"attributes\":{\"data_source\":{\"id\":\"54674ebb-e84a-4024-a1a4-63ce89f9763c\",\"type\":\"ColumnDataSource\"},\"glyph\":{\"id\":\"6b667b18-0c78-4a11-aa60-9853e07d5d27\",\"type\":\"Rect\"},\"hover_glyph\":null,\"nonselection_glyph\":null,\"selection_glyph\":null},\"id\":\"a59e435c-9010-4e28-89ac-caa7dc54d81f\",\"type\":\"GlyphRenderer\"},{\"attributes\":{\"callback\":null,\"column_names\":[\"height\",\"fill_alpha\",\"width\",\"color\",\"line_color\",\"line_alpha\",\"y\",\"x\",\"label\"],\"data\":{\"PercentageAmongstTop\":[1.2196087748475488],\"QuestCreationYear\":[\"Oct'08-09\"],\"QuestTags\":[\"wxpython\"],\"YearTagCount\":[154],\"chart_index\":[{\"PercentageAmongstTop\":1.2196087748475488,\"QuestCreationYear\":\"Oct'08-09\",\"QuestTags\":\"wxpython\",\"YearTagCount\":154}],\"color\":[\"#FF6347\"],\"fill_alpha\":[0.8],\"height\":[1.2196087748475488],\"label\":[{\"PercentageAmongstTop\":1.2196087748475488,\"QuestCreationYear\":\"Oct'08-09\",\"QuestTags\":\"wxpython\",\"YearTagCount\":154}],\"line_alpha\":[1.0],\"line_color\":[\"#FF6347\"],\"width\":[1.0],\"x\":[\"Oct'08-09\"],\"y\":[99.39019561257624]}},\"id\":\"87f1de53-c801-4310-ad2c-0153738c8abd\",\"type\":\"ColumnDataSource\"},{\"attributes\":{\"fill_alpha\":{\"field\":\"fill_alpha\"},\"fill_color\":{\"field\":\"color\"},\"height\":{\"field\":\"height\",\"units\":\"data\"},\"line_color\":{\"field\":\"line_color\"},\"width\":{\"field\":\"width\",\"units\":\"data\"},\"x\":{\"field\":\"x\"},\"y\":{\"field\":\"y\"}},\"id\":\"0adfbf0b-2f41-4815-a456-068eb9cf1861\",\"type\":\"Rect\"},{\"attributes\":{\"fill_alpha\":{\"field\":\"fill_alpha\"},\"fill_color\":{\"field\":\"color\"},\"height\":{\"field\":\"height\",\"units\":\"data\"},\"line_color\":{\"field\":\"line_color\"},\"width\":{\"field\":\"width\",\"units\":\"data\"},\"x\":{\"field\":\"x\"},\"y\":{\"field\":\"y\"}},\"id\":\"99f4484d-1098-4a6a-a70d-aecd28af2201\",\"type\":\"Rect\"},{\"attributes\":{\"fill_alpha\":{\"field\":\"fill_alpha\"},\"fill_color\":{\"field\":\"color\"},\"height\":{\"field\":\"height\",\"units\":\"data\"},\"line_color\":{\"field\":\"line_color\"},\"width\":{\"field\":\"width\",\"units\":\"data\"},\"x\":{\"field\":\"x\"},\"y\":{\"field\":\"y\"}},\"id\":\"7f0a00a0-91da-43bd-940d-8152452d172c\",\"type\":\"Rect\"},{\"attributes\":{\"callback\":null,\"column_names\":[\"height\",\"fill_alpha\",\"width\",\"color\",\"line_color\",\"line_alpha\",\"y\",\"x\",\"label\"],\"data\":{\"PercentageAmongstTop\":[1.456505188924951],\"QuestCreationYear\":[\"Oct'10-11\"],\"QuestTags\":[\"string\"],\"YearTagCount\":[727],\"chart_index\":[{\"PercentageAmongstTop\":1.456505188924951,\"QuestCreationYear\":\"Oct'10-11\",\"QuestTags\":\"string\",\"YearTagCount\":727}],\"color\":[\"#40E0D0\"],\"fill_alpha\":[0.8],\"height\":[1.456505188924951],\"label\":[{\"PercentageAmongstTop\":1.456505188924951,\"QuestCreationYear\":\"Oct'10-11\",\"QuestTags\":\"string\",\"YearTagCount\":727}],\"line_alpha\":[1.0],\"line_color\":[\"#F0E68C\"],\"width\":[1.0],\"x\":[\"Oct'10-11\"],\"y\":[99.27174740553752]}},\"id\":\"ef960908-6c54-450b-bfb4-0da3a749fdaf\",\"type\":\"ColumnDataSource\"},{\"attributes\":{\"data_source\":{\"id\":\"bae06fa8-8a2c-46c9-80cf-720191211fc1\",\"type\":\"ColumnDataSource\"},\"glyph\":{\"id\":\"a4a91c3c-be2f-44d7-b10e-28487a0a8e0b\",\"type\":\"Rect\"},\"hover_glyph\":null,\"nonselection_glyph\":null,\"selection_glyph\":null},\"id\":\"f69b1344-436a-42e2-9c87-c7ddb3033f01\",\"type\":\"GlyphRenderer\"},{\"attributes\":{\"callback\":null,\"column_names\":[\"height\",\"fill_alpha\",\"width\",\"color\",\"line_color\",\"line_alpha\",\"y\",\"x\",\"label\"],\"data\":{\"PercentageAmongstTop\":[1.8294131622713234],\"QuestCreationYear\":[\"Oct'08-09\"],\"QuestTags\":[\"windows\"],\"YearTagCount\":[231],\"chart_index\":[{\"PercentageAmongstTop\":1.8294131622713234,\"QuestCreationYear\":\"Oct'08-09\",\"QuestTags\":\"windows\",\"YearTagCount\":231}],\"color\":[\"#4B0082\"],\"fill_alpha\":[0.8],\"height\":[1.8294131622713234],\"label\":[{\"PercentageAmongstTop\":1.8294131622713234,\"QuestCreationYear\":\"Oct'08-09\",\"QuestTags\":\"windows\",\"YearTagCount\":231}],\"line_alpha\":[1.0],\"line_color\":[\"#90EE90\"],\"width\":[1.0],\"x\":[\"Oct'08-09\"],\"y\":[97.8656846440168]}},\"id\":\"c6be30fb-de50-4441-af16-f7ce79f9ba12\",\"type\":\"ColumnDataSource\"},{\"attributes\":{\"callback\":null,\"column_names\":[\"height\",\"fill_alpha\",\"width\",\"color\",\"line_color\",\"line_alpha\",\"y\",\"x\",\"label\"],\"data\":{\"PercentageAmongstTop\":[1.3520384881158816],\"QuestCreationYear\":[\"Oct'15-16\"],\"QuestTags\":[\"flask\"],\"YearTagCount\":[3111],\"chart_index\":[{\"PercentageAmongstTop\":1.3520384881158816,\"QuestCreationYear\":\"Oct'15-16\",\"QuestTags\":\"flask\",\"YearTagCount\":3111}],\"color\":[\"#E6E6FA\"],\"fill_alpha\":[0.8],\"height\":[1.3520384881158816],\"label\":[{\"PercentageAmongstTop\":1.3520384881158816,\"QuestCreationYear\":\"Oct'15-16\",\"QuestTags\":\"flask\",\"YearTagCount\":3111}],\"line_alpha\":[1.0],\"line_color\":[\"#20B2AA\"],\"width\":[1.0],\"x\":[\"Oct'15-16\"],\"y\":[8.568342916248364]}},\"id\":\"cd8693a1-05d2-4e93-81f8-3a23566058ed\",\"type\":\"ColumnDataSource\"},{\"attributes\":{\"fill_alpha\":{\"field\":\"fill_alpha\"},\"fill_color\":{\"field\":\"color\"},\"height\":{\"field\":\"height\",\"units\":\"data\"},\"line_color\":{\"field\":\"line_color\"},\"width\":{\"field\":\"width\",\"units\":\"data\"},\"x\":{\"field\":\"x\"},\"y\":{\"field\":\"y\"}},\"id\":\"1426185c-7a64-4438-94db-fa2b0d225bca\",\"type\":\"Rect\"},{\"attributes\":{},\"id\":\"f864a9b1-10c6-40c0-a765-b1184c1fef86\",\"type\":\"CategoricalTicker\"},{\"attributes\":{\"fill_alpha\":{\"field\":\"fill_alpha\"},\"fill_color\":{\"field\":\"color\"},\"height\":{\"field\":\"height\",\"units\":\"data\"},\"line_color\":{\"field\":\"line_color\"},\"width\":{\"field\":\"width\",\"units\":\"data\"},\"x\":{\"field\":\"x\"},\"y\":{\"field\":\"y\"}},\"id\":\"a9f1c3c6-2210-4f74-8d73-7a2b63ab3fcb\",\"type\":\"Rect\"},{\"attributes\":{\"legends\":[[\"django\",[{\"id\":\"c71c5ea2-ae81-4221-9da5-9c14d1b12e7b\",\"type\":\"GlyphRenderer\"}]],[\"django-models\",[{\"id\":\"cae30732-079e-4cc2-8881-c0690e5d73fd\",\"type\":\"GlyphRenderer\"}]],[\"google-app-engine\",[{\"id\":\"fbdf45e1-c7e1-40bb-9249-4f54d18b1704\",\"type\":\"GlyphRenderer\"}]],[\"list\",[{\"id\":\"fe3cc1df-9f2c-4981-8774-a58dc3c69412\",\"type\":\"GlyphRenderer\"}]],[\"multithreading\",[{\"id\":\"4ab0abc5-f754-4f78-b3fb-7f929681fb43\",\"type\":\"GlyphRenderer\"}]],[\"python\",[{\"id\":\"ba061127-2767-459d-850d-0931f9bb87b9\",\"type\":\"GlyphRenderer\"}]],[\"regex\",[{\"id\":\"93c8b120-4c90-419f-84f4-61a678b2d8ee\",\"type\":\"GlyphRenderer\"}]],[\"string\",[{\"id\":\"76025935-dd12-4ed3-9a38-9e3169ab9ffd\",\"type\":\"GlyphRenderer\"}]],[\"windows\",[{\"id\":\"035e168c-361e-43af-bced-58c54be14128\",\"type\":\"GlyphRenderer\"}]],[\"wxpython\",[{\"id\":\"74d8f586-8ba7-43f8-8c2d-945b23c99ab8\",\"type\":\"GlyphRenderer\"}]],[\"mysql\",[{\"id\":\"2bcf2597-8245-404f-a7c6-5ddb70dfff81\",\"type\":\"GlyphRenderer\"}]],[\"numpy\",[{\"id\":\"906c6219-9329-426d-9792-796d9b685a36\",\"type\":\"GlyphRenderer\"}]],[\"dictionary\",[{\"id\":\"3bd2fe44-fb79-4fc3-ab3c-203c601e7088\",\"type\":\"GlyphRenderer\"}]],[\"matplotlib\",[{\"id\":\"25f48810-e624-4e2d-a932-8c817275d5b5\",\"type\":\"GlyphRenderer\"}]],[\"python-3.x\",[{\"id\":\"ec46a6c2-1e4c-481d-a080-7ddc6fb375c5\",\"type\":\"GlyphRenderer\"}]],[\"python-2.7\",[{\"id\":\"97f6a36a-0ae9-4db0-9d31-0dfd55017298\",\"type\":\"GlyphRenderer\"}]],[\"pandas\",[{\"id\":\"50f6a2a5-54ff-4447-9f58-4357c0abda66\",\"type\":\"GlyphRenderer\"}]],[\"flask\",[{\"id\":\"764e4384-775d-41c5-86b6-0de278c13cf4\",\"type\":\"GlyphRenderer\"}]]],\"location\":\"bottom_left\",\"plot\":{\"id\":\"e7f3ca80-83f1-4bdd-bfdf-faf2d13f335d\",\"subtype\":\"Chart\",\"type\":\"Plot\"}},\"id\":\"71748332-7b23-4ed9-aaca-18baa02d1519\",\"type\":\"Legend\"},{\"attributes\":{\"callback\":null,\"plot\":{\"id\":\"e7f3ca80-83f1-4bdd-bfdf-faf2d13f335d\",\"subtype\":\"Chart\",\"type\":\"Plot\"},\"tooltips\":[[\"Tag\",\"@QuestTags\"],[\"Yearly Tag Count\",\"@YearTagCount\"],[\"Percentage of Tag Used\",\"@PercentageAmongstTop{1.11}%\"]]},\"id\":\"803ae380-4217-4a8b-95a1-640537f68f55\",\"type\":\"HoverTool\"},{\"attributes\":{\"data_source\":{\"id\":\"372832d4-f030-4644-bbd3-ff2d54b133f8\",\"type\":\"ColumnDataSource\"},\"glyph\":{\"id\":\"58162c9e-4327-491d-b9fb-b20edcdcda68\",\"type\":\"Rect\"},\"hover_glyph\":null,\"nonselection_glyph\":null,\"selection_glyph\":null},\"id\":\"76025935-dd12-4ed3-9a38-9e3169ab9ffd\",\"type\":\"GlyphRenderer\"},{\"attributes\":{\"fill_alpha\":{\"field\":\"fill_alpha\"},\"fill_color\":{\"field\":\"color\"},\"height\":{\"field\":\"height\",\"units\":\"data\"},\"line_color\":{\"field\":\"line_color\"},\"width\":{\"field\":\"width\",\"units\":\"data\"},\"x\":{\"field\":\"x\"},\"y\":{\"field\":\"y\"}},\"id\":\"4ac8c43f-c96e-4fdb-9df9-78c35b752218\",\"type\":\"Rect\"},{\"attributes\":{\"data_source\":{\"id\":\"1ee4a728-14a8-46ae-b4f4-daa0d9c96804\",\"type\":\"ColumnDataSource\"},\"glyph\":{\"id\":\"821e2a52-ef3a-4ddd-8d0c-c35cca908482\",\"type\":\"Rect\"},\"hover_glyph\":null,\"nonselection_glyph\":null,\"selection_glyph\":null},\"id\":\"a4f48250-89cf-4af8-b98e-cc4cad6c3207\",\"type\":\"GlyphRenderer\"},{\"attributes\":{\"callback\":null,\"column_names\":[\"height\",\"fill_alpha\",\"width\",\"color\",\"line_color\",\"line_alpha\",\"y\",\"x\",\"label\"],\"data\":{\"PercentageAmongstTop\":[2.727759115188619],\"QuestCreationYear\":[\"Oct'12-13\"],\"QuestTags\":[\"python-3.x\"],\"YearTagCount\":[3110],\"chart_index\":[{\"PercentageAmongstTop\":2.727759115188619,\"QuestCreationYear\":\"Oct'12-13\",\"QuestTags\":\"python-3.x\",\"YearTagCount\":3110}],\"color\":[\"#778899\"],\"fill_alpha\":[0.8],\"height\":[2.727759115188619],\"label\":[{\"PercentageAmongstTop\":2.727759115188619,\"QuestCreationYear\":\"Oct'12-13\",\"QuestTags\":\"python-3.x\",\"YearTagCount\":3110}],\"line_alpha\":[1.0],\"line_color\":[\"#87CEFA\"],\"width\":[1.0],\"x\":[\"Oct'12-13\"],\"y\":[96.75826440844466]}},\"id\":\"11ace5fa-c888-408b-a26d-0b78016919b6\",\"type\":\"ColumnDataSource\"},{\"attributes\":{\"callback\":null,\"column_names\":[\"height\",\"fill_alpha\",\"width\",\"color\",\"line_color\",\"line_alpha\",\"y\",\"x\",\"label\"],\"data\":{\"PercentageAmongstTop\":[1.8778560339610395],\"QuestCreationYear\":[\"Oct'12-13\"],\"QuestTags\":[\"regex\"],\"YearTagCount\":[2141],\"chart_index\":[{\"PercentageAmongstTop\":1.8778560339610395,\"QuestCreationYear\":\"Oct'12-13\",\"QuestTags\":\"regex\",\"YearTagCount\":2141}],\"color\":[\"#9370DB\"],\"fill_alpha\":[0.8],\"height\":[1.8778560339610395],\"label\":[{\"PercentageAmongstTop\":1.8778560339610395,\"QuestCreationYear\":\"Oct'12-13\",\"QuestTags\":\"regex\",\"YearTagCount\":2141}],\"line_alpha\":[1.0],\"line_color\":[\"#FFF0F5\"],\"width\":[1.0],\"x\":[\"Oct'12-13\"],\"y\":[99.06107198301949]}},\"id\":\"7c2c0dcb-1529-488d-ad80-a202a37b1820\",\"type\":\"ColumnDataSource\"},{\"attributes\":{\"fill_alpha\":{\"field\":\"fill_alpha\"},\"fill_color\":{\"field\":\"color\"},\"height\":{\"field\":\"height\",\"units\":\"data\"},\"line_color\":{\"field\":\"line_color\"},\"width\":{\"field\":\"width\",\"units\":\"data\"},\"x\":{\"field\":\"x\"},\"y\":{\"field\":\"y\"}},\"id\":\"bcf40fdb-b17d-456f-969d-b6e199a2a0c5\",\"type\":\"Rect\"},{\"attributes\":{\"data_source\":{\"id\":\"e465103b-30ba-45a5-ae24-5fa34d9349f0\",\"type\":\"ColumnDataSource\"},\"glyph\":{\"id\":\"9d6fb8be-0506-4980-95d2-ce195290f050\",\"type\":\"Rect\"},\"hover_glyph\":null,\"nonselection_glyph\":null,\"selection_glyph\":null},\"id\":\"c79b599c-1259-4b5d-a3f4-a61ef00c6ba2\",\"type\":\"GlyphRenderer\"},{\"attributes\":{\"data_source\":{\"id\":\"ab4421ea-0106-4e37-ba58-43e319f24a0f\",\"type\":\"ColumnDataSource\"},\"glyph\":{\"id\":\"0adfbf0b-2f41-4815-a456-068eb9cf1861\",\"type\":\"Rect\"},\"hover_glyph\":null,\"nonselection_glyph\":null,\"selection_glyph\":null},\"id\":\"64ac6c4f-2e31-478c-9207-9924704a48dd\",\"type\":\"GlyphRenderer\"},{\"attributes\":{\"fill_alpha\":{\"field\":\"fill_alpha\"},\"fill_color\":{\"field\":\"color\"},\"height\":{\"field\":\"height\",\"units\":\"data\"},\"line_color\":{\"field\":\"line_color\"},\"width\":{\"field\":\"width\",\"units\":\"data\"},\"x\":{\"field\":\"x\"},\"y\":{\"field\":\"y\"}},\"id\":\"536e8756-5a65-420d-bd8f-6146817eec17\",\"type\":\"Rect\"},{\"attributes\":{\"data_source\":{\"id\":\"85486570-b748-41a1-ad38-b0300a13fecd\",\"type\":\"ColumnDataSource\"},\"glyph\":{\"id\":\"790fe079-1278-4bf9-80da-832af2c59649\",\"type\":\"Rect\"},\"hover_glyph\":null,\"nonselection_glyph\":null,\"selection_glyph\":null},\"id\":\"e6a73e37-a322-4bc9-ac27-4be27d3f3038\",\"type\":\"GlyphRenderer\"},{\"attributes\":{\"callback\":null,\"column_names\":[\"height\",\"fill_alpha\",\"width\",\"color\",\"line_color\",\"line_alpha\",\"y\",\"x\",\"label\"],\"data\":{\"PercentageAmongstTop\":[4.896219030859503],\"QuestCreationYear\":[\"Oct'14-15\"],\"QuestTags\":[\"python-2.7\"],\"YearTagCount\":[8820],\"chart_index\":[{\"PercentageAmongstTop\":4.896219030859503,\"QuestCreationYear\":\"Oct'14-15\",\"QuestTags\":\"python-2.7\",\"YearTagCount\":8820}],\"color\":[\"#FFA07A\"],\"fill_alpha\":[0.8],\"height\":[4.896219030859503],\"label\":[{\"PercentageAmongstTop\":4.896219030859503,\"QuestCreationYear\":\"Oct'14-15\",\"QuestTags\":\"python-2.7\",\"YearTagCount\":8820}],\"line_alpha\":[1.0],\"line_color\":[\"#FF6347\"],\"width\":[1.0],\"x\":[\"Oct'14-15\"],\"y\":[92.39920283780857]}},\"id\":\"73019f3c-61af-455e-9950-b33c87fe3f61\",\"type\":\"ColumnDataSource\"},{\"attributes\":{\"callback\":null,\"column_names\":[\"height\",\"fill_alpha\",\"width\",\"color\",\"line_color\",\"line_alpha\",\"y\",\"x\",\"label\"],\"data\":{\"PercentageAmongstTop\":[9.704692070361022],\"QuestCreationYear\":[\"Oct'10-11\"],\"QuestTags\":[\"django\"],\"YearTagCount\":[4844],\"chart_index\":[{\"PercentageAmongstTop\":9.704692070361022,\"QuestCreationYear\":\"Oct'10-11\",\"QuestTags\":\"django\",\"YearTagCount\":4844}],\"color\":[\"#FF6347\"],\"fill_alpha\":[0.8],\"height\":[9.704692070361022],\"label\":[{\"PercentageAmongstTop\":9.704692070361022,\"QuestCreationYear\":\"Oct'10-11\",\"QuestTags\":\"django\",\"YearTagCount\":4844}],\"line_alpha\":[1.0],\"line_color\":[\"#ADD8E6\"],\"width\":[1.0],\"x\":[\"Oct'10-11\"],\"y\":[6.148575549945907]}},\"id\":\"fe2bcf0f-3775-450c-9c5b-95f229446b17\",\"type\":\"ColumnDataSource\"},{\"attributes\":{\"callback\":null,\"column_names\":[\"height\",\"fill_alpha\",\"width\",\"color\",\"line_color\",\"line_alpha\",\"y\",\"x\",\"label\"],\"data\":{\"PercentageAmongstTop\":[7.454160199395887],\"QuestCreationYear\":[\"Oct'13-14\"],\"QuestTags\":[\"django\"],\"YearTagCount\":[11574],\"chart_index\":[{\"PercentageAmongstTop\":7.454160199395887,\"QuestCreationYear\":\"Oct'13-14\",\"QuestTags\":\"django\",\"YearTagCount\":11574}],\"color\":[\"#FF6347\"],\"fill_alpha\":[0.8],\"height\":[7.454160199395887],\"label\":[{\"PercentageAmongstTop\":7.454160199395887,\"QuestCreationYear\":\"Oct'13-14\",\"QuestTags\":\"django\",\"YearTagCount\":11574}],\"line_alpha\":[1.0],\"line_color\":[\"#90EE90\"],\"width\":[1.0],\"x\":[\"Oct'13-14\"],\"y\":[5.438303846872202]}},\"id\":\"501fc554-4a42-475f-93c5-34e8ceccee34\",\"type\":\"ColumnDataSource\"},{\"attributes\":{\"data_source\":{\"id\":\"501fc554-4a42-475f-93c5-34e8ceccee34\",\"type\":\"ColumnDataSource\"},\"glyph\":{\"id\":\"59606305-ee78-4f6f-8cb5-30bff08bd92b\",\"type\":\"Rect\"},\"hover_glyph\":null,\"nonselection_glyph\":null,\"selection_glyph\":null},\"id\":\"51f1e6c7-af05-44dd-a052-24fb232adb84\",\"type\":\"GlyphRenderer\"},{\"attributes\":{\"fill_alpha\":{\"field\":\"fill_alpha\"},\"fill_color\":{\"field\":\"color\"},\"height\":{\"field\":\"height\",\"units\":\"data\"},\"line_color\":{\"field\":\"line_color\"},\"width\":{\"field\":\"width\",\"units\":\"data\"},\"x\":{\"field\":\"x\"},\"y\":{\"field\":\"y\"}},\"id\":\"003d0656-8c9a-4b9a-8230-751b7bc7f923\",\"type\":\"Rect\"},{\"attributes\":{\"callback\":null,\"column_names\":[\"height\",\"fill_alpha\",\"width\",\"color\",\"line_color\",\"line_alpha\",\"y\",\"x\",\"label\"],\"data\":{\"PercentageAmongstTop\":[1.7419881313874286],\"QuestCreationYear\":[\"Oct'14-15\"],\"QuestTags\":[\"dictionary\"],\"YearTagCount\":[3138],\"chart_index\":[{\"PercentageAmongstTop\":1.7419881313874286,\"QuestCreationYear\":\"Oct'14-15\",\"QuestTags\":\"dictionary\",\"YearTagCount\":3138}],\"color\":[\"#4B0082\"],\"fill_alpha\":[0.8],\"height\":[1.7419881313874286],\"label\":[{\"PercentageAmongstTop\":1.7419881313874286,\"QuestCreationYear\":\"Oct'14-15\",\"QuestTags\":\"dictionary\",\"YearTagCount\":3138}],\"line_alpha\":[1.0],\"line_color\":[\"#FFA07A\"],\"width\":[1.0],\"x\":[\"Oct'14-15\"],\"y\":[0.8709940656937143]}},\"id\":\"2f848e31-235a-4801-b909-0708fdbaed79\",\"type\":\"ColumnDataSource\"}],\"root_ids\":[\"e7f3ca80-83f1-4bdd-bfdf-faf2d13f335d\"]},\"title\":\"Bokeh Application\",\"version\":\"0.12.2\"}};\n",
       "            var render_items = [{\"docid\":\"c62f481a-0520-4fbb-868f-bffc0307bc3b\",\"elementid\":\"2fa628e6-e578-4111-b54e-819d3295c434\",\"modelid\":\"e7f3ca80-83f1-4bdd-bfdf-faf2d13f335d\"}];\n",
       "            \n",
       "            Bokeh.embed.embed_items(docs_json, render_items);\n",
       "        });\n",
       "      },\n",
       "      function(Bokeh) {\n",
       "      }\n",
       "    ];\n",
       "  \n",
       "    function run_inline_js() {\n",
       "      \n",
       "      if ((window.Bokeh !== undefined) || (force === \"1\")) {\n",
       "        for (var i = 0; i < inline_js.length; i++) {\n",
       "          inline_js[i](window.Bokeh);\n",
       "        }if (force === \"1\") {\n",
       "          display_loaded();\n",
       "        }} else if (Date.now() < window._bokeh_timeout) {\n",
       "        setTimeout(run_inline_js, 100);\n",
       "      } else if (!window._bokeh_failed_load) {\n",
       "        console.log(\"Bokeh: BokehJS failed to load within specified timeout.\");\n",
       "        window._bokeh_failed_load = true;\n",
       "      } else if (!force) {\n",
       "        var cell = $(\"#2fa628e6-e578-4111-b54e-819d3295c434\").parents('.cell').data().cell;\n",
       "        cell.output_area.append_execute_result(NB_LOAD_WARNING)\n",
       "      }\n",
       "  \n",
       "    }\n",
       "  \n",
       "    if (window._bokeh_is_loading === 0) {\n",
       "      console.log(\"Bokeh: BokehJS loaded, going straight to plotting\");\n",
       "      run_inline_js();\n",
       "    } else {\n",
       "      load_libs(js_urls, function() {\n",
       "        console.log(\"Bokeh: BokehJS plotting callback run at\", now());\n",
       "        run_inline_js();\n",
       "      });\n",
       "    }\n",
       "  }(this));\n",
       "</script>"
      ]
     },
     "metadata": {},
     "output_type": "display_data"
    }
   ],
   "source": [
    "from bokeh.charts import Bar, show, output_notebook\n",
    "from bokeh.models import HoverTool\n",
    "\n",
    "output_notebook()\n",
    "\n",
    "palette = ['#4B0082','#FF6347','#F0E68C','#E6E6FA','#FFF0F5','#90EE90','#ADD8E6','#F08080','#D3D3D3','#FFB6C1','#87CEFA','#20B2AA','#FFA07A','#778899','#9370DB','#40E0D0']\n",
    "\n",
    "bar = Bar(pythonTopYearQuestTag, values='PercentageAmongstTop', label='QuestCreationYear', stack='QuestTags',\n",
    "          title='Top 10 Tags Used Throughout the Years for Python', legend='bottom_left', \n",
    "              bar_width=1.0, palette=palette, tools='hover', line_color=['YearTagCount', 'PercentageAmongstTop'])\n",
    "\n",
    "hover = bar.select(dict(type=HoverTool))\n",
    "hover.tooltips = [('Tag','@QuestTags'), ('Yearly Tag Count','@YearTagCount'), \n",
    "                      ('Percentage of Tag Used','@PercentageAmongstTop{1.11}%')]\n",
    "\n",
    "bar.xaxis.axis_label = 'Year in which Question was Created'\n",
    "bar.yaxis.axis_label = 'Percentage of Top Tags Used in Questions Yearly (%)'\n",
    "\n",
    "show(bar)"
   ]
  },
  {
   "cell_type": "code",
   "execution_count": 162,
   "metadata": {
    "collapsed": true
   },
   "outputs": [],
   "source": [
    "pythonTopQuestTags = pythonquestionstags.QuestTags.value_counts()[0:15]"
   ]
  },
  {
   "cell_type": "code",
   "execution_count": 163,
   "metadata": {
    "collapsed": true
   },
   "outputs": [],
   "source": [
    "pythonTopQuestTags = pythonTopQuestTags.reset_index()\n",
    "pythonTopQuestTags = pythonTopQuestTags.rename(columns= {'index':'QuestTags', 'QuestTags':'Count'})"
   ]
  },
  {
   "cell_type": "markdown",
   "metadata": {},
   "source": [
    "# Graph Plot 3: Frequency of Top 15 Tags Used (in Total for All the Years)"
   ]
  },
  {
   "cell_type": "code",
   "execution_count": 164,
   "metadata": {
    "collapsed": false
   },
   "outputs": [
    {
     "data": {
      "image/png": "[encoded data removed]",
      "text/plain": [
       "<matplotlib.figure.Figure at 0x15723e780>"
      ]
     },
     "metadata": {},
     "output_type": "display_data"
    }
   ],
   "source": [
    "%matplotlib inline\n",
    "import matplotlib.pyplot as plt\n",
    "plt.figure(figsize=(12,7))\n",
    "ax2 = sns.stripplot(x=\"QuestTags\", y=\"Count\", data=pythonTopQuestTags)"
   ]
  },
  {
   "cell_type": "code",
   "execution_count": 172,
   "metadata": {
    "collapsed": true
   },
   "outputs": [],
   "source": [
    "pythonQuestTags = pd.DataFrame(pythonquestionstags[['QuestionId', 'QuestTags']].groupby('QuestionId').QuestTags.apply(list)).reset_index()"
   ]
  },
  {
   "cell_type": "code",
   "execution_count": 174,
   "metadata": {
    "collapsed": false
   },
   "outputs": [],
   "source": [
    "pythonQuestTagList = list(pythonQuestTags.QuestTags)"
   ]
  },
  {
   "cell_type": "code",
   "execution_count": 175,
   "metadata": {
    "collapsed": true
   },
   "outputs": [],
   "source": [
    "pythonQuestTagList2 = [tag for tag in pythonQuestTagList if len(tag)>1]"
   ]
  },
  {
   "cell_type": "code",
   "execution_count": 176,
   "metadata": {
    "collapsed": true
   },
   "outputs": [],
   "source": [
    "pythonPatterns = fp.find_frequent_patterns(pythonQuestTagList2, 1000)"
   ]
  },
  {
   "cell_type": "code",
   "execution_count": 177,
   "metadata": {
    "collapsed": true
   },
   "outputs": [],
   "source": [
    "pythonRules = fp.generate_association_rules(pythonPatterns, 0.5)"
   ]
  },
  {
   "cell_type": "code",
   "execution_count": 178,
   "metadata": {
    "collapsed": true
   },
   "outputs": [],
   "source": [
    "pythonTest = list(pythonRules.items())"
   ]
  },
  {
   "cell_type": "code",
   "execution_count": 179,
   "metadata": {
    "collapsed": true
   },
   "outputs": [],
   "source": [
    "#RHS of edges all only contain one element\n",
    "# pythonTags_list = list()\n",
    "# for key,value in pythonTest:\n",
    "#     if len(key) > 1:\n",
    "#         pythonTags_list.append([key, value[0][0], value[1]])\n",
    "#     else:\n",
    "#         pythonTags_list.append([key[0], value[0][0], value[1]])\n",
    "        \n",
    "pythonTags_list = list()\n",
    "for key,value in pythonTest:\n",
    "    if len(key) > 1:\n",
    "        for ele in key:\n",
    "            pythonTags_list.append([ele, value[0][0], value[1]])\n",
    "    else:\n",
    "        pythonTags_list.append([key[0], value[0][0], value[1]])"
   ]
  },
  {
   "cell_type": "code",
   "execution_count": 180,
   "metadata": {
    "collapsed": true
   },
   "outputs": [],
   "source": [
    "import networkx as nx\n",
    "DG2 = nx.DiGraph()"
   ]
  },
  {
   "cell_type": "code",
   "execution_count": 181,
   "metadata": {
    "collapsed": true
   },
   "outputs": [],
   "source": [
    "items = list()\n",
    "for l in pythonTags_list:\n",
    "    for ele in l[:-1]:\n",
    "        if ele not in items:\n",
    "            items.append(ele)\n",
    "DG2.add_nodes_from(items)"
   ]
  },
  {
   "cell_type": "code",
   "execution_count": 182,
   "metadata": {
    "collapsed": true
   },
   "outputs": [],
   "source": [
    "DG2.add_weighted_edges_from(pythonTags_list)"
   ]
  },
  {
   "cell_type": "code",
   "execution_count": 183,
   "metadata": {
    "collapsed": true
   },
   "outputs": [],
   "source": [
    "nx.write_gexf(DG2, \"python_test.gexf\")"
   ]
  },
  {
   "cell_type": "code",
   "execution_count": 184,
   "metadata": {
    "collapsed": true
   },
   "outputs": [],
   "source": [
    "pythonTagCount = pythonquestionstags.groupby('QuestionId').QuestTags.size().reset_index()\n",
    "pythonTagCount = pythonTagCount.rename(columns={0:'TagCount'})"
   ]
  },
  {
   "cell_type": "code",
   "execution_count": 185,
   "metadata": {
    "collapsed": true
   },
   "outputs": [],
   "source": [
    "pythonanswers = pd.read_csv(\"Python Answers.csv\", encoding='latin1')"
   ]
  },
  {
   "cell_type": "code",
   "execution_count": 186,
   "metadata": {
    "collapsed": true
   },
   "outputs": [],
   "source": [
    "pythonanswers.rename(columns={'Id':'AnswerId', 'ParentId':'QuestionId'}, inplace=True)"
   ]
  },
  {
   "cell_type": "code",
   "execution_count": 187,
   "metadata": {
    "collapsed": true
   },
   "outputs": [],
   "source": [
    "pythonAnswerCount = pythonanswers.groupby('QuestionId').AnswerId.size().reset_index()"
   ]
  },
  {
   "cell_type": "code",
   "execution_count": 188,
   "metadata": {
    "collapsed": true
   },
   "outputs": [],
   "source": [
    "pythonAnswerCount = pythonAnswerCount.rename(columns={0:'AnsCount'})"
   ]
  },
  {
   "cell_type": "code",
   "execution_count": 189,
   "metadata": {
    "collapsed": true
   },
   "outputs": [],
   "source": [
    "pythonAnswerstags = pd.merge(pythonAnswerCount, pythonTagCount, on='QuestionId')"
   ]
  },
  {
   "cell_type": "markdown",
   "metadata": {},
   "source": [
    "# Graph Plot 4: Number of Answers Against Number of Python Tags Used in Python Questions"
   ]
  },
  {
   "cell_type": "code",
   "execution_count": 190,
   "metadata": {
    "collapsed": false
   },
   "outputs": [
    {
     "data": {
      "text/plain": [
       "(0, 10)"
      ]
     },
     "execution_count": 190,
     "metadata": {},
     "output_type": "execute_result"
    },
    {
     "data": {
      "image/png": "[encoded data removed]",
      "text/plain": [
       "<matplotlib.figure.Figure at 0x461085c18>"
      ]
     },
     "metadata": {},
     "output_type": "display_data"
    }
   ],
   "source": [
    "#scatterplot of AnswerCount against TagCount, one question with 408 answers\n",
    "%matplotlib inline\n",
    "ax4 = sns.boxplot(x=\"TagCount\", y=\"AnsCount\", data=pythonAnswerstags)\n",
    "plt.ylim(0, 10)"
   ]
  },
  {
   "cell_type": "code",
   "execution_count": 191,
   "metadata": {
    "collapsed": false
   },
   "outputs": [
    {
     "data": {
      "text/plain": [
       "count     57072.000000\n",
       "mean         32.746583\n",
       "std        1079.978650\n",
       "min           1.000000\n",
       "25%           1.000000\n",
       "50%           2.000000\n",
       "75%           8.000000\n",
       "max      157453.000000\n",
       "Name: YearTagCount, dtype: float64"
      ]
     },
     "execution_count": 191,
     "metadata": {},
     "output_type": "execute_result"
    }
   ],
   "source": [
    "pythonYearQuestTag.YearTagCount.describe()"
   ]
  },
  {
   "cell_type": "code",
   "execution_count": 194,
   "metadata": {
    "collapsed": false
   },
   "outputs": [],
   "source": [
    "#remove noises by only including tags which were used in questions throughout a year within the 75% range\n",
    "pythonYearQuestTag = pythonYearQuestTag.loc[pythonYearQuestTag.YearTagCount >= 8, :]\n",
    "pythonSumQuestTag = pd.DataFrame(pythonYearQuestTag.groupby('QuestCreationYear').YearTagCount.sum()).reset_index()\n",
    "pythonSumQuestTag = pythonSumQuestTag.rename(columns={'YearTagCount':'SumYearTagCount'})\n",
    "pythonYearQuestTag = pd.merge(pythonYearQuestTag, pythonSumQuestTag, on='QuestCreationYear')\n",
    "pythonYearQuestTag['Proportion'] = pythonYearQuestTag['YearTagCount'] / pythonYearQuestTag['SumYearTagCount']"
   ]
  },
  {
   "cell_type": "markdown",
   "metadata": {},
   "source": [
    "# Percentage Change of Top 30 Common Python Tags from Oct'08-09 to Oct'15-16"
   ]
  },
  {
   "cell_type": "code",
   "execution_count": 196,
   "metadata": {
    "collapsed": false
   },
   "outputs": [
    {
     "data": {
      "text/html": [
       "\n",
       "\n",
       "    <div class=\"bk-root\">\n",
       "        <div class=\"plotdiv\" id=\"33d42187-1f16-4475-a6aa-9bd90ac1b12c\"></div>\n",
       "    </div>\n",
       "<script type=\"text/javascript\">\n",
       "  \n",
       "  (function(global) {\n",
       "    function now() {\n",
       "      return new Date();\n",
       "    }\n",
       "  \n",
       "    var force = \"\";\n",
       "  \n",
       "    if (typeof (window._bokeh_onload_callbacks) === \"undefined\" || force !== \"\") {\n",
       "      window._bokeh_onload_callbacks = [];\n",
       "      window._bokeh_is_loading = undefined;\n",
       "    }\n",
       "  \n",
       "  \n",
       "    \n",
       "    if (typeof (window._bokeh_timeout) === \"undefined\" || force !== \"\") {\n",
       "      window._bokeh_timeout = Date.now() + 0;\n",
       "      window._bokeh_failed_load = false;\n",
       "    }\n",
       "  \n",
       "    var NB_LOAD_WARNING = {'data': {'text/html':\n",
       "       \"<div style='background-color: #fdd'>\\n\"+\n",
       "       \"<p>\\n\"+\n",
       "       \"BokehJS does not appear to have successfully loaded. If loading BokehJS from CDN, this \\n\"+\n",
       "       \"may be due to a slow or bad network connection. Possible fixes:\\n\"+\n",
       "       \"</p>\\n\"+\n",
       "       \"<ul>\\n\"+\n",
       "       \"<li>re-rerun `output_notebook()` to attempt to load from CDN again, or</li>\\n\"+\n",
       "       \"<li>use INLINE resources instead, as so:</li>\\n\"+\n",
       "       \"</ul>\\n\"+\n",
       "       \"<code>\\n\"+\n",
       "       \"from bokeh.resources import INLINE\\n\"+\n",
       "       \"output_notebook(resources=INLINE)\\n\"+\n",
       "       \"</code>\\n\"+\n",
       "       \"</div>\"}};\n",
       "  \n",
       "    function display_loaded() {\n",
       "      if (window.Bokeh !== undefined) {\n",
       "        Bokeh.$(\"#33d42187-1f16-4475-a6aa-9bd90ac1b12c\").text(\"BokehJS successfully loaded.\");\n",
       "      } else if (Date.now() < window._bokeh_timeout) {\n",
       "        setTimeout(display_loaded, 100)\n",
       "      }\n",
       "    }\n",
       "  \n",
       "    function run_callbacks() {\n",
       "      window._bokeh_onload_callbacks.forEach(function(callback) { callback() });\n",
       "      delete window._bokeh_onload_callbacks\n",
       "      console.info(\"Bokeh: all callbacks have finished\");\n",
       "    }\n",
       "  \n",
       "    function load_libs(js_urls, callback) {\n",
       "      window._bokeh_onload_callbacks.push(callback);\n",
       "      if (window._bokeh_is_loading > 0) {\n",
       "        console.log(\"Bokeh: BokehJS is being loaded, scheduling callback at\", now());\n",
       "        return null;\n",
       "      }\n",
       "      if (js_urls == null || js_urls.length === 0) {\n",
       "        run_callbacks();\n",
       "        return null;\n",
       "      }\n",
       "      console.log(\"Bokeh: BokehJS not loaded, scheduling load and callback at\", now());\n",
       "      window._bokeh_is_loading = js_urls.length;\n",
       "      for (var i = 0; i < js_urls.length; i++) {\n",
       "        var url = js_urls[i];\n",
       "        var s = document.createElement('script');\n",
       "        s.src = url;\n",
       "        s.async = false;\n",
       "        s.onreadystatechange = s.onload = function() {\n",
       "          window._bokeh_is_loading--;\n",
       "          if (window._bokeh_is_loading === 0) {\n",
       "            console.log(\"Bokeh: all BokehJS libraries loaded\");\n",
       "            run_callbacks()\n",
       "          }\n",
       "        };\n",
       "        s.onerror = function() {\n",
       "          console.warn(\"failed to load library \" + url);\n",
       "        };\n",
       "        console.log(\"Bokeh: injecting script tag for BokehJS library: \", url);\n",
       "        document.getElementsByTagName(\"head\")[0].appendChild(s);\n",
       "      }\n",
       "    };var element = document.getElementById(\"33d42187-1f16-4475-a6aa-9bd90ac1b12c\");\n",
       "    if (element == null) {\n",
       "      console.log(\"Bokeh: ERROR: autoload.js configured with elementid '33d42187-1f16-4475-a6aa-9bd90ac1b12c' but no matching script tag was found. \")\n",
       "      return false;\n",
       "    }\n",
       "  \n",
       "    var js_urls = [];\n",
       "  \n",
       "    var inline_js = [\n",
       "      function(Bokeh) {\n",
       "        Bokeh.$(function() {\n",
       "            var docs_json = {\"171c3f6f-1d7e-4215-98e8-18fe944f2378\":{\"roots\":{\"references\":[{\"attributes\":{\"callback\":null,\"column_names\":[\"height\",\"fill_alpha\",\"width\",\"color\",\"line_color\",\"line_alpha\",\"y\",\"x\",\"label\"],\"data\":{\"QuestTags\":[\"jquery\"],\"chart_index\":[{\"QuestTags\":\"jquery\"}],\"color\":[\"#f22c40\"],\"fill_alpha\":[0.8],\"height\":[0.9797227360588614],\"label\":[{\"QuestTags\":\"jquery\"}],\"line_alpha\":[1.0],\"line_color\":[\"white\"],\"width\":[1.0],\"x\":[\"jquery\"],\"y\":[0.4898613680294307]}},\"id\":\"37fbcd7a-2322-405a-bbe9-fc065ed7ab8e\",\"type\":\"ColumnDataSource\"},{\"attributes\":{\"fill_alpha\":{\"field\":\"fill_alpha\"},\"fill_color\":{\"field\":\"color\"},\"height\":{\"field\":\"height\",\"units\":\"data\"},\"line_color\":{\"field\":\"line_color\"},\"width\":{\"field\":\"width\",\"units\":\"data\"},\"x\":{\"field\":\"x\"},\"y\":{\"field\":\"y\"}},\"id\":\"3f564cbe-0bb2-4518-b731-2b63bfb20cc6\",\"type\":\"Rect\"},{\"attributes\":{\"callback\":null,\"column_names\":[\"height\",\"fill_alpha\",\"width\",\"color\",\"line_color\",\"line_alpha\",\"y\",\"x\",\"label\"],\"data\":{\"QuestTags\":[\"python-3.x\"],\"chart_index\":[{\"QuestTags\":\"python-3.x\"}],\"color\":[\"#f22c40\"],\"fill_alpha\":[0.8],\"height\":[4.311468251823832],\"label\":[{\"QuestTags\":\"python-3.x\"}],\"line_alpha\":[1.0],\"line_color\":[\"white\"],\"width\":[1.0],\"x\":[\"python-3.x\"],\"y\":[2.155734125911916]}},\"id\":\"011e54dc-27a0-4934-a79c-55e36efe259e\",\"type\":\"ColumnDataSource\"},{\"attributes\":{},\"id\":\"1cc8d0a1-bc44-485a-951d-1e7b709b084b\",\"type\":\"BasicTickFormatter\"},{\"attributes\":{\"data_source\":{\"id\":\"1774f6ce-a9fd-4fa3-b891-fd07d7db0d3e\",\"type\":\"ColumnDataSource\"},\"glyph\":{\"id\":\"b4fcd87b-1a10-460f-92cb-2f23dc1c374e\",\"type\":\"Rect\"},\"hover_glyph\":null,\"nonselection_glyph\":null,\"selection_glyph\":null},\"id\":\"3b295b97-4c53-49d9-b645-8daf58d9d2af\",\"type\":\"GlyphRenderer\"},{\"attributes\":{\"data_source\":{\"id\":\"10e89e9d-4758-4df0-b19b-7ab3fe1de358\",\"type\":\"ColumnDataSource\"},\"glyph\":{\"id\":\"3f564cbe-0bb2-4518-b731-2b63bfb20cc6\",\"type\":\"Rect\"},\"hover_glyph\":null,\"nonselection_glyph\":null,\"selection_glyph\":null},\"id\":\"0654fd9f-0fd7-4c8c-942b-d3171443ed78\",\"type\":\"GlyphRenderer\"},{\"attributes\":{\"fill_alpha\":{\"field\":\"fill_alpha\"},\"fill_color\":{\"field\":\"color\"},\"height\":{\"field\":\"height\",\"units\":\"data\"},\"line_color\":{\"field\":\"line_color\"},\"width\":{\"field\":\"width\",\"units\":\"data\"},\"x\":{\"field\":\"x\"},\"y\":{\"field\":\"y\"}},\"id\":\"5570764b-50e5-4805-ab48-860cd34cf38a\",\"type\":\"Rect\"},{\"attributes\":{\"fill_alpha\":{\"field\":\"fill_alpha\"},\"fill_color\":{\"field\":\"color\"},\"height\":{\"field\":\"height\",\"units\":\"data\"},\"line_color\":{\"field\":\"line_color\"},\"width\":{\"field\":\"width\",\"units\":\"data\"},\"x\":{\"field\":\"x\"},\"y\":{\"field\":\"y\"}},\"id\":\"b1b8fca7-2d71-4b7b-a377-c1ad4bbd4d48\",\"type\":\"Rect\"},{\"attributes\":{\"fill_alpha\":{\"field\":\"fill_alpha\"},\"fill_color\":{\"field\":\"color\"},\"height\":{\"field\":\"height\",\"units\":\"data\"},\"line_color\":{\"field\":\"line_color\"},\"width\":{\"field\":\"width\",\"units\":\"data\"},\"x\":{\"field\":\"x\"},\"y\":{\"field\":\"y\"}},\"id\":\"0789c989-e284-44cf-9c68-019609b2c3da\",\"type\":\"Rect\"},{\"attributes\":{\"data_source\":{\"id\":\"d52c7169-f841-4edf-ac70-304691d218ae\",\"type\":\"ColumnDataSource\"},\"glyph\":{\"id\":\"617f043f-94c4-48f2-8d5b-8737e228656a\",\"type\":\"Rect\"},\"hover_glyph\":null,\"nonselection_glyph\":null,\"selection_glyph\":null},\"id\":\"7ed5c3e7-0298-40af-bd1a-8a8a49ea344f\",\"type\":\"GlyphRenderer\"},{\"attributes\":{\"fill_alpha\":{\"field\":\"fill_alpha\"},\"fill_color\":{\"field\":\"color\"},\"height\":{\"field\":\"height\",\"units\":\"data\"},\"line_color\":{\"field\":\"line_color\"},\"width\":{\"field\":\"width\",\"units\":\"data\"},\"x\":{\"field\":\"x\"},\"y\":{\"field\":\"y\"}},\"id\":\"3cfad74a-57ea-44a1-a051-a57225cc6c85\",\"type\":\"Rect\"},{\"attributes\":{\"data_source\":{\"id\":\"2d5d637a-2fb0-4b26-af22-4bf452b5227f\",\"type\":\"ColumnDataSource\"},\"glyph\":{\"id\":\"1c986376-d8fa-407d-ad26-8589204a67a1\",\"type\":\"Rect\"},\"hover_glyph\":null,\"nonselection_glyph\":null,\"selection_glyph\":null},\"id\":\"54a41ee5-dfb3-4412-931f-c23776342283\",\"type\":\"GlyphRenderer\"},{\"attributes\":{\"callback\":null,\"column_names\":[\"height\",\"fill_alpha\",\"width\",\"color\",\"line_color\",\"line_alpha\",\"y\",\"x\",\"label\"],\"data\":{\"QuestTags\":[\"sqlite3\"],\"chart_index\":[{\"QuestTags\":\"sqlite3\"}],\"color\":[\"#f22c40\"],\"fill_alpha\":[0.8],\"height\":[1.2114711011765862],\"label\":[{\"QuestTags\":\"sqlite3\"}],\"line_alpha\":[1.0],\"line_color\":[\"white\"],\"width\":[1.0],\"x\":[\"sqlite3\"],\"y\":[0.6057355505882931]}},\"id\":\"b46ad165-e739-4278-beee-b7a8b52de8e5\",\"type\":\"ColumnDataSource\"},{\"attributes\":{\"fill_alpha\":{\"field\":\"fill_alpha\"},\"fill_color\":{\"field\":\"color\"},\"height\":{\"field\":\"height\",\"units\":\"data\"},\"line_color\":{\"field\":\"line_color\"},\"width\":{\"field\":\"width\",\"units\":\"data\"},\"x\":{\"field\":\"x\"},\"y\":{\"field\":\"y\"}},\"id\":\"e4cf6c04-16c0-4b1c-9330-a4f90714745f\",\"type\":\"Rect\"},{\"attributes\":{\"fill_alpha\":{\"field\":\"fill_alpha\"},\"fill_color\":{\"field\":\"color\"},\"height\":{\"field\":\"height\",\"units\":\"data\"},\"line_color\":{\"field\":\"line_color\"},\"width\":{\"field\":\"width\",\"units\":\"data\"},\"x\":{\"field\":\"x\"},\"y\":{\"field\":\"y\"}},\"id\":\"e9d516ca-dfaa-41e5-9423-24b5f1974a72\",\"type\":\"Rect\"},{\"attributes\":{\"data_source\":{\"id\":\"3d402ed0-1a61-4a99-bc03-b38de51d1487\",\"type\":\"ColumnDataSource\"},\"glyph\":{\"id\":\"5570764b-50e5-4805-ab48-860cd34cf38a\",\"type\":\"Rect\"},\"hover_glyph\":null,\"nonselection_glyph\":null,\"selection_glyph\":null},\"id\":\"e3d45812-facb-404b-9f98-a281f21c049a\",\"type\":\"GlyphRenderer\"},{\"attributes\":{\"callback\":null,\"column_names\":[\"height\",\"fill_alpha\",\"width\",\"color\",\"line_color\",\"line_alpha\",\"y\",\"x\",\"label\"],\"data\":{\"QuestTags\":[\"indexing\"],\"chart_index\":[{\"QuestTags\":\"indexing\"}],\"color\":[\"#f22c40\"],\"fill_alpha\":[0.8],\"height\":[2.228941127022727],\"label\":[{\"QuestTags\":\"indexing\"}],\"line_alpha\":[1.0],\"line_color\":[\"white\"],\"width\":[1.0],\"x\":[\"indexing\"],\"y\":[1.1144705635113634]}},\"id\":\"d1c6a5c7-00f8-4113-924b-792b92a0d1dc\",\"type\":\"ColumnDataSource\"},{\"attributes\":{\"fill_alpha\":{\"field\":\"fill_alpha\"},\"fill_color\":{\"field\":\"color\"},\"height\":{\"field\":\"height\",\"units\":\"data\"},\"line_color\":{\"field\":\"line_color\"},\"width\":{\"field\":\"width\",\"units\":\"data\"},\"x\":{\"field\":\"x\"},\"y\":{\"field\":\"y\"}},\"id\":\"1c986376-d8fa-407d-ad26-8589204a67a1\",\"type\":\"Rect\"},{\"attributes\":{\"data_source\":{\"id\":\"011e54dc-27a0-4934-a79c-55e36efe259e\",\"type\":\"ColumnDataSource\"},\"glyph\":{\"id\":\"28959412-30fd-4353-9b76-6c2f40c045c5\",\"type\":\"Rect\"},\"hover_glyph\":null,\"nonselection_glyph\":null,\"selection_glyph\":null},\"id\":\"647b8494-f71c-4994-87ee-de96d582725b\",\"type\":\"GlyphRenderer\"},{\"attributes\":{\"data_source\":{\"id\":\"d63849a9-8e08-45f5-a4ab-04d6b1e846ce\",\"type\":\"ColumnDataSource\"},\"glyph\":{\"id\":\"34f3ce48-a85d-496d-858f-a808947637e1\",\"type\":\"Rect\"},\"hover_glyph\":null,\"nonselection_glyph\":null,\"selection_glyph\":null},\"id\":\"12b1f032-65e0-4ab3-a39d-1ee151b040df\",\"type\":\"GlyphRenderer\"},{\"attributes\":{\"callback\":null,\"column_names\":[\"height\",\"fill_alpha\",\"width\",\"color\",\"line_color\",\"line_alpha\",\"y\",\"x\",\"label\"],\"data\":{\"QuestTags\":[\"plot\"],\"chart_index\":[{\"QuestTags\":\"plot\"}],\"color\":[\"#f22c40\"],\"fill_alpha\":[0.8],\"height\":[5.502650935182683],\"label\":[{\"QuestTags\":\"plot\"}],\"line_alpha\":[1.0],\"line_color\":[\"white\"],\"width\":[1.0],\"x\":[\"plot\"],\"y\":[2.7513254675913417]}},\"id\":\"846d7233-9cba-4f06-9e4f-794b5557c808\",\"type\":\"ColumnDataSource\"},{\"attributes\":{\"bottom_units\":\"screen\",\"fill_alpha\":{\"value\":0.5},\"fill_color\":{\"value\":\"lightgrey\"},\"left_units\":\"screen\",\"level\":\"overlay\",\"line_alpha\":{\"value\":1.0},\"line_color\":{\"value\":\"black\"},\"line_dash\":[4,4],\"line_width\":{\"value\":2},\"plot\":null,\"render_mode\":\"css\",\"right_units\":\"screen\",\"top_units\":\"screen\"},\"id\":\"f65e22e3-dc06-4806-9ef8-048afb576ee4\",\"type\":\"BoxAnnotation\"},{\"attributes\":{\"fill_alpha\":{\"field\":\"fill_alpha\"},\"fill_color\":{\"field\":\"color\"},\"height\":{\"field\":\"height\",\"units\":\"data\"},\"line_color\":{\"field\":\"line_color\"},\"width\":{\"field\":\"width\",\"units\":\"data\"},\"x\":{\"field\":\"x\"},\"y\":{\"field\":\"y\"}},\"id\":\"f7a4fdbc-d434-4794-b262-bd58f9e4ad44\",\"type\":\"Rect\"},{\"attributes\":{\"fill_alpha\":{\"field\":\"fill_alpha\"},\"fill_color\":{\"field\":\"color\"},\"height\":{\"field\":\"height\",\"units\":\"data\"},\"line_color\":{\"field\":\"line_color\"},\"width\":{\"field\":\"width\",\"units\":\"data\"},\"x\":{\"field\":\"x\"},\"y\":{\"field\":\"y\"}},\"id\":\"aca89964-6a4f-433e-8fce-43edaa6b5878\",\"type\":\"Rect\"},{\"attributes\":{\"callback\":null,\"column_names\":[\"height\",\"fill_alpha\",\"width\",\"color\",\"line_color\",\"line_alpha\",\"y\",\"x\",\"label\"],\"data\":{\"QuestTags\":[\"web-crawler\"],\"chart_index\":[{\"QuestTags\":\"web-crawler\"}],\"color\":[\"#f22c40\"],\"fill_alpha\":[0.8],\"height\":[1.700810591731964],\"label\":[{\"QuestTags\":\"web-crawler\"}],\"line_alpha\":[1.0],\"line_color\":[\"white\"],\"width\":[1.0],\"x\":[\"web-crawler\"],\"y\":[0.850405295865982]}},\"id\":\"b115dad9-a553-4137-a5e0-912fe10ca412\",\"type\":\"ColumnDataSource\"},{\"attributes\":{\"callback\":null,\"column_names\":[\"height\",\"fill_alpha\",\"width\",\"color\",\"line_color\",\"line_alpha\",\"y\",\"x\",\"label\"],\"data\":{\"QuestTags\":[\"django-views\"],\"chart_index\":[{\"QuestTags\":\"django-views\"}],\"color\":[\"#f22c40\"],\"fill_alpha\":[0.8],\"height\":[0.7594091686931463],\"label\":[{\"QuestTags\":\"django-views\"}],\"line_alpha\":[1.0],\"line_color\":[\"white\"],\"width\":[1.0],\"x\":[\"django-views\"],\"y\":[0.37970458434657317]}},\"id\":\"3eb0dad6-9fc5-428d-b2eb-f58c66125441\",\"type\":\"ColumnDataSource\"},{\"attributes\":{\"plot\":{\"id\":\"b8469bc7-b0b8-4e08-b2c9-7092bfa6e008\",\"subtype\":\"Chart\",\"type\":\"Plot\"}},\"id\":\"e872f211-e55e-4f70-a3eb-b909f543004a\",\"type\":\"ResetTool\"},{\"attributes\":{\"fill_alpha\":{\"field\":\"fill_alpha\"},\"fill_color\":{\"field\":\"color\"},\"height\":{\"field\":\"height\",\"units\":\"data\"},\"line_color\":{\"field\":\"line_color\"},\"width\":{\"field\":\"width\",\"units\":\"data\"},\"x\":{\"field\":\"x\"},\"y\":{\"field\":\"y\"}},\"id\":\"bb291578-efa9-4c52-85c5-e1817c7f3d83\",\"type\":\"Rect\"},{\"attributes\":{\"data_source\":{\"id\":\"7ba67d21-a90e-45d3-924c-abbc9dc16f03\",\"type\":\"ColumnDataSource\"},\"glyph\":{\"id\":\"e9d516ca-dfaa-41e5-9423-24b5f1974a72\",\"type\":\"Rect\"},\"hover_glyph\":null,\"nonselection_glyph\":null,\"selection_glyph\":null},\"id\":\"b2eb3379-fdd8-4333-a61e-1979c9434b6a\",\"type\":\"GlyphRenderer\"},{\"attributes\":{\"plot\":{\"id\":\"b8469bc7-b0b8-4e08-b2c9-7092bfa6e008\",\"subtype\":\"Chart\",\"type\":\"Plot\"}},\"id\":\"9268f6b0-3de8-4eaf-9d53-b208045061cf\",\"type\":\"HelpTool\"},{\"attributes\":{\"callback\":null,\"column_names\":[\"height\",\"fill_alpha\",\"width\",\"color\",\"line_color\",\"line_alpha\",\"y\",\"x\",\"label\"],\"data\":{\"QuestTags\":[\"excel\"],\"chart_index\":[{\"QuestTags\":\"excel\"}],\"color\":[\"#f22c40\"],\"fill_alpha\":[0.8],\"height\":[1.0691524813113573],\"label\":[{\"QuestTags\":\"excel\"}],\"line_alpha\":[1.0],\"line_color\":[\"white\"],\"width\":[1.0],\"x\":[\"excel\"],\"y\":[0.5345762406556787]}},\"id\":\"2a532172-87e1-46bf-ba65-219e640a6608\",\"type\":\"ColumnDataSource\"},{\"attributes\":{\"callback\":null,\"column_names\":[\"height\",\"fill_alpha\",\"width\",\"color\",\"line_color\",\"line_alpha\",\"y\",\"x\",\"label\"],\"data\":{\"QuestTags\":[\"loops\"],\"chart_index\":[{\"QuestTags\":\"loops\"}],\"color\":[\"#f22c40\"],\"fill_alpha\":[0.8],\"height\":[0.7152800401435906],\"label\":[{\"QuestTags\":\"loops\"}],\"line_alpha\":[1.0],\"line_color\":[\"white\"],\"width\":[1.0],\"x\":[\"loops\"],\"y\":[0.3576400200717953]}},\"id\":\"4c8a39c3-a85b-4639-b7fb-9b4058ff906f\",\"type\":\"ColumnDataSource\"},{\"attributes\":{},\"id\":\"4b558ef2-089c-4809-b9a9-fa4b2c6355c7\",\"type\":\"BasicTicker\"},{\"attributes\":{\"data_source\":{\"id\":\"846d7233-9cba-4f06-9e4f-794b5557c808\",\"type\":\"ColumnDataSource\"},\"glyph\":{\"id\":\"1bb38293-3dbd-4a11-b534-a453a5c35f19\",\"type\":\"Rect\"},\"hover_glyph\":null,\"nonselection_glyph\":null,\"selection_glyph\":null},\"id\":\"ca4ec73a-2a20-4c69-9e99-fa37fa335159\",\"type\":\"GlyphRenderer\"},{\"attributes\":{\"fill_alpha\":{\"field\":\"fill_alpha\"},\"fill_color\":{\"field\":\"color\"},\"height\":{\"field\":\"height\",\"units\":\"data\"},\"line_color\":{\"field\":\"line_color\"},\"width\":{\"field\":\"width\",\"units\":\"data\"},\"x\":{\"field\":\"x\"},\"y\":{\"field\":\"y\"}},\"id\":\"20f31bd3-cdb2-4f5d-a885-19749d2148d2\",\"type\":\"Rect\"},{\"attributes\":{\"data_source\":{\"id\":\"fcf48ee5-e469-4345-b2aa-ee07786abb5c\",\"type\":\"ColumnDataSource\"},\"glyph\":{\"id\":\"e4cf6c04-16c0-4b1c-9330-a4f90714745f\",\"type\":\"Rect\"},\"hover_glyph\":null,\"nonselection_glyph\":null,\"selection_glyph\":null},\"id\":\"a97291ce-4d14-417d-afe9-bb3fcc2d2170\",\"type\":\"GlyphRenderer\"},{\"attributes\":{\"below\":[{\"id\":\"81249490-9111-4ade-b534-2d4ffc8108a2\",\"type\":\"CategoricalAxis\"}],\"left\":[{\"id\":\"e61cbf31-b7ad-44dd-896a-2314ae1bd7ee\",\"type\":\"LinearAxis\"}],\"renderers\":[{\"id\":\"f65e22e3-dc06-4806-9ef8-048afb576ee4\",\"type\":\"BoxAnnotation\"},{\"id\":\"54a41ee5-dfb3-4412-931f-c23776342283\",\"type\":\"GlyphRenderer\"},{\"id\":\"448df2ad-e684-4423-963f-8662f1a477e3\",\"type\":\"GlyphRenderer\"},{\"id\":\"ca4ec73a-2a20-4c69-9e99-fa37fa335159\",\"type\":\"GlyphRenderer\"},{\"id\":\"647b8494-f71c-4994-87ee-de96d582725b\",\"type\":\"GlyphRenderer\"},{\"id\":\"859439af-5b01-4c1a-b880-bb1a2e4cacc5\",\"type\":\"GlyphRenderer\"},{\"id\":\"bfbc48f0-3701-4074-9822-8583bbe6440b\",\"type\":\"GlyphRenderer\"},{\"id\":\"a7295bd4-3e2c-41ae-bc8b-8d8ab40c42a9\",\"type\":\"GlyphRenderer\"},{\"id\":\"8111ba99-5ce9-4997-a441-b53dbaca56f1\",\"type\":\"GlyphRenderer\"},{\"id\":\"a97291ce-4d14-417d-afe9-bb3fcc2d2170\",\"type\":\"GlyphRenderer\"},{\"id\":\"dc07a543-5cd8-4fcd-af72-072df18ca3ef\",\"type\":\"GlyphRenderer\"},{\"id\":\"2dbc1572-f9b2-4f1e-a1d1-ce26cdf0cec8\",\"type\":\"GlyphRenderer\"},{\"id\":\"91abf032-2ab9-439c-85c3-2a72a5a3cdec\",\"type\":\"GlyphRenderer\"},{\"id\":\"7ed5c3e7-0298-40af-bd1a-8a8a49ea344f\",\"type\":\"GlyphRenderer\"},{\"id\":\"e3d45812-facb-404b-9f98-a281f21c049a\",\"type\":\"GlyphRenderer\"},{\"id\":\"18628bb4-b181-4573-93df-cb4a6e88c653\",\"type\":\"GlyphRenderer\"},{\"id\":\"3b295b97-4c53-49d9-b645-8daf58d9d2af\",\"type\":\"GlyphRenderer\"},{\"id\":\"a5688357-1b86-450b-b447-39900542e49f\",\"type\":\"GlyphRenderer\"},{\"id\":\"e316f37b-9b48-4aa5-a681-8871e1a3805f\",\"type\":\"GlyphRenderer\"},{\"id\":\"31d7ad29-d0cc-42fd-b4a0-f2399735d829\",\"type\":\"GlyphRenderer\"},{\"id\":\"3cb5d888-d61a-4c0f-ac7a-273c83271ed0\",\"type\":\"GlyphRenderer\"},{\"id\":\"91774645-d485-4ce2-a534-a44feb816e37\",\"type\":\"GlyphRenderer\"},{\"id\":\"12b1f032-65e0-4ab3-a39d-1ee151b040df\",\"type\":\"GlyphRenderer\"},{\"id\":\"b2eb3379-fdd8-4333-a61e-1979c9434b6a\",\"type\":\"GlyphRenderer\"},{\"id\":\"734994e3-4975-4d9f-8dd4-601bd2a3a15d\",\"type\":\"GlyphRenderer\"},{\"id\":\"5bab3b45-5849-4bff-9ffb-719406da0dc9\",\"type\":\"GlyphRenderer\"},{\"id\":\"c9c50002-eca3-49ee-8d97-89e493b4ab0f\",\"type\":\"GlyphRenderer\"},{\"id\":\"51af55bc-651f-48a9-bf2a-609c8e03dfcf\",\"type\":\"GlyphRenderer\"},{\"id\":\"070c1195-b845-4b20-b76b-9ef83833ada2\",\"type\":\"GlyphRenderer\"},{\"id\":\"0654fd9f-0fd7-4c8c-942b-d3171443ed78\",\"type\":\"GlyphRenderer\"},{\"id\":\"ba9e2a6e-8867-404f-8093-347bfebf41b6\",\"type\":\"GlyphRenderer\"},{\"id\":\"81249490-9111-4ade-b534-2d4ffc8108a2\",\"type\":\"CategoricalAxis\"},{\"id\":\"e61cbf31-b7ad-44dd-896a-2314ae1bd7ee\",\"type\":\"LinearAxis\"},{\"id\":\"1514568a-5679-400e-84ae-29e56c4b72a8\",\"type\":\"Grid\"}],\"title\":{\"id\":\"303fe9f3-fa45-4e4f-ab6f-d8bd4f31fe3e\",\"type\":\"Title\"},\"tool_events\":{\"id\":\"ff8d7500-367b-454e-92fc-a913d95a124b\",\"type\":\"ToolEvents\"},\"toolbar\":{\"id\":\"4e7dea00-aa9e-49a8-8bdc-281ab944de58\",\"type\":\"Toolbar\"},\"x_mapper_type\":\"auto\",\"x_range\":{\"id\":\"f557c9e0-bb94-4264-a7a2-a66fe47df47a\",\"type\":\"FactorRange\"},\"y_mapper_type\":\"auto\",\"y_range\":{\"id\":\"e191e935-c2a1-48e5-87dc-6d10c797227d\",\"type\":\"Range1d\"}},\"id\":\"b8469bc7-b0b8-4e08-b2c9-7092bfa6e008\",\"subtype\":\"Chart\",\"type\":\"Plot\"},{\"attributes\":{\"fill_alpha\":{\"field\":\"fill_alpha\"},\"fill_color\":{\"field\":\"color\"},\"height\":{\"field\":\"height\",\"units\":\"data\"},\"line_color\":{\"field\":\"line_color\"},\"width\":{\"field\":\"width\",\"units\":\"data\"},\"x\":{\"field\":\"x\"},\"y\":{\"field\":\"y\"}},\"id\":\"4f07ebde-1ff7-45d4-87bf-0880374f4dbb\",\"type\":\"Rect\"},{\"attributes\":{\"data_source\":{\"id\":\"d1c6a5c7-00f8-4113-924b-792b92a0d1dc\",\"type\":\"ColumnDataSource\"},\"glyph\":{\"id\":\"68a2c72d-765a-454e-b968-0a05694c198c\",\"type\":\"Rect\"},\"hover_glyph\":null,\"nonselection_glyph\":null,\"selection_glyph\":null},\"id\":\"dc07a543-5cd8-4fcd-af72-072df18ca3ef\",\"type\":\"GlyphRenderer\"},{\"attributes\":{},\"id\":\"e1322ff1-bcc4-4421-96d6-9b44edb19fd5\",\"type\":\"CategoricalTicker\"},{\"attributes\":{\"data_source\":{\"id\":\"dc22f61d-4850-4abc-b269-4adde87565a3\",\"type\":\"ColumnDataSource\"},\"glyph\":{\"id\":\"9191587b-056a-40d6-841c-c3b4a83fc38a\",\"type\":\"Rect\"},\"hover_glyph\":null,\"nonselection_glyph\":null,\"selection_glyph\":null},\"id\":\"bfbc48f0-3701-4074-9822-8583bbe6440b\",\"type\":\"GlyphRenderer\"},{\"attributes\":{\"data_source\":{\"id\":\"7a585ba0-9263-4e39-82db-9cb6acf20e85\",\"type\":\"ColumnDataSource\"},\"glyph\":{\"id\":\"47a818b9-68c4-4f88-93c7-d33f294b230b\",\"type\":\"Rect\"},\"hover_glyph\":null,\"nonselection_glyph\":null,\"selection_glyph\":null},\"id\":\"3cb5d888-d61a-4c0f-ac7a-273c83271ed0\",\"type\":\"GlyphRenderer\"},{\"attributes\":{\"data_source\":{\"id\":\"37fbcd7a-2322-405a-bbe9-fc065ed7ab8e\",\"type\":\"ColumnDataSource\"},\"glyph\":{\"id\":\"35bff187-e7e1-4019-85a5-e52a3c337bb8\",\"type\":\"Rect\"},\"hover_glyph\":null,\"nonselection_glyph\":null,\"selection_glyph\":null},\"id\":\"91774645-d485-4ce2-a534-a44feb816e37\",\"type\":\"GlyphRenderer\"},{\"attributes\":{\"fill_alpha\":{\"field\":\"fill_alpha\"},\"fill_color\":{\"field\":\"color\"},\"height\":{\"field\":\"height\",\"units\":\"data\"},\"line_color\":{\"field\":\"line_color\"},\"width\":{\"field\":\"width\",\"units\":\"data\"},\"x\":{\"field\":\"x\"},\"y\":{\"field\":\"y\"}},\"id\":\"35bff187-e7e1-4019-85a5-e52a3c337bb8\",\"type\":\"Rect\"},{\"attributes\":{\"plot\":null,\"text\":\"Percentage Increase of Tags Used from Oct'08-09 to Oct'15-16\"},\"id\":\"303fe9f3-fa45-4e4f-ab6f-d8bd4f31fe3e\",\"type\":\"Title\"},{\"attributes\":{\"fill_alpha\":{\"field\":\"fill_alpha\"},\"fill_color\":{\"field\":\"color\"},\"height\":{\"field\":\"height\",\"units\":\"data\"},\"line_color\":{\"field\":\"line_color\"},\"width\":{\"field\":\"width\",\"units\":\"data\"},\"x\":{\"field\":\"x\"},\"y\":{\"field\":\"y\"}},\"id\":\"ac900ff5-4c48-451d-bbe1-b9dd8bfb4794\",\"type\":\"Rect\"},{\"attributes\":{\"callback\":null,\"column_names\":[\"height\",\"fill_alpha\",\"width\",\"color\",\"line_color\",\"line_alpha\",\"y\",\"x\",\"label\"],\"data\":{\"QuestTags\":[\"selenium\"],\"chart_index\":[{\"QuestTags\":\"selenium\"}],\"color\":[\"#f22c40\"],\"fill_alpha\":[0.8],\"height\":[13.360253985409347],\"label\":[{\"QuestTags\":\"selenium\"}],\"line_alpha\":[1.0],\"line_color\":[\"white\"],\"width\":[1.0],\"x\":[\"selenium\"],\"y\":[6.680126992704674]}},\"id\":\"2d5d637a-2fb0-4b26-af22-4bf452b5227f\",\"type\":\"ColumnDataSource\"},{\"attributes\":{\"callback\":null,\"column_names\":[\"height\",\"fill_alpha\",\"width\",\"color\",\"line_color\",\"line_alpha\",\"y\",\"x\",\"label\"],\"data\":{\"QuestTags\":[\"matplotlib\"],\"chart_index\":[{\"QuestTags\":\"matplotlib\"}],\"color\":[\"#f22c40\"],\"fill_alpha\":[0.8],\"height\":[4.185595837902846],\"label\":[{\"QuestTags\":\"matplotlib\"}],\"line_alpha\":[1.0],\"line_color\":[\"white\"],\"width\":[1.0],\"x\":[\"matplotlib\"],\"y\":[2.092797918951423]}},\"id\":\"1c7a2ebb-8796-4677-92af-77cc12229573\",\"type\":\"ColumnDataSource\"},{\"attributes\":{\"callback\":null,\"column_names\":[\"height\",\"fill_alpha\",\"width\",\"color\",\"line_color\",\"line_alpha\",\"y\",\"x\",\"label\"],\"data\":{\"QuestTags\":[\"ssl\"],\"chart_index\":[{\"QuestTags\":\"ssl\"}],\"color\":[\"#f22c40\"],\"fill_alpha\":[0.8],\"height\":[0.6483014418707473],\"label\":[{\"QuestTags\":\"ssl\"}],\"line_alpha\":[1.0],\"line_color\":[\"white\"],\"width\":[1.0],\"x\":[\"ssl\"],\"y\":[0.32415072093537367]}},\"id\":\"32626b18-bf44-4774-a061-d9d6dcee44c6\",\"type\":\"ColumnDataSource\"},{\"attributes\":{\"fill_alpha\":{\"field\":\"fill_alpha\"},\"fill_color\":{\"field\":\"color\"},\"height\":{\"field\":\"height\",\"units\":\"data\"},\"line_color\":{\"field\":\"line_color\"},\"width\":{\"field\":\"width\",\"units\":\"data\"},\"x\":{\"field\":\"x\"},\"y\":{\"field\":\"y\"}},\"id\":\"68a2c72d-765a-454e-b968-0a05694c198c\",\"type\":\"Rect\"},{\"attributes\":{\"fill_alpha\":{\"field\":\"fill_alpha\"},\"fill_color\":{\"field\":\"color\"},\"height\":{\"field\":\"height\",\"units\":\"data\"},\"line_color\":{\"field\":\"line_color\"},\"width\":{\"field\":\"width\",\"units\":\"data\"},\"x\":{\"field\":\"x\"},\"y\":{\"field\":\"y\"}},\"id\":\"03a0dcb9-a6a9-4765-821e-8024ddcd5e40\",\"type\":\"Rect\"},{\"attributes\":{\"callback\":null,\"column_names\":[\"height\",\"fill_alpha\",\"width\",\"color\",\"line_color\",\"line_alpha\",\"y\",\"x\",\"label\"],\"data\":{\"QuestTags\":[\"twitter\"],\"chart_index\":[{\"QuestTags\":\"twitter\"}],\"color\":[\"#f22c40\"],\"fill_alpha\":[0.8],\"height\":[0.5140907862739799],\"label\":[{\"QuestTags\":\"twitter\"}],\"line_alpha\":[1.0],\"line_color\":[\"white\"],\"width\":[1.0],\"x\":[\"twitter\"],\"y\":[0.25704539313698993]}},\"id\":\"14defedc-7c23-448d-8318-e647b0e431eb\",\"type\":\"ColumnDataSource\"},{\"attributes\":{\"callback\":null,\"column_names\":[\"height\",\"fill_alpha\",\"width\",\"color\",\"line_color\",\"line_alpha\",\"y\",\"x\",\"label\"],\"data\":{\"QuestTags\":[\"for-loop\"],\"chart_index\":[{\"QuestTags\":\"for-loop\"}],\"color\":[\"#f22c40\"],\"fill_alpha\":[0.8],\"height\":[0.8957298027560121],\"label\":[{\"QuestTags\":\"for-loop\"}],\"line_alpha\":[1.0],\"line_color\":[\"white\"],\"width\":[1.0],\"x\":[\"for-loop\"],\"y\":[0.44786490137800605]}},\"id\":\"7ba67d21-a90e-45d3-924c-abbc9dc16f03\",\"type\":\"ColumnDataSource\"},{\"attributes\":{\"fill_alpha\":{\"field\":\"fill_alpha\"},\"fill_color\":{\"field\":\"color\"},\"height\":{\"field\":\"height\",\"units\":\"data\"},\"line_color\":{\"field\":\"line_color\"},\"width\":{\"field\":\"width\",\"units\":\"data\"},\"x\":{\"field\":\"x\"},\"y\":{\"field\":\"y\"}},\"id\":\"955e62d2-f060-4770-9fac-3370748a2694\",\"type\":\"Rect\"},{\"attributes\":{\"callback\":null,\"column_names\":[\"height\",\"fill_alpha\",\"width\",\"color\",\"line_color\",\"line_alpha\",\"y\",\"x\",\"label\"],\"data\":{\"QuestTags\":[\"tkinter\"],\"chart_index\":[{\"QuestTags\":\"tkinter\"}],\"color\":[\"#f22c40\"],\"fill_alpha\":[0.8],\"height\":[1.5712538574211803],\"label\":[{\"QuestTags\":\"tkinter\"}],\"line_alpha\":[1.0],\"line_color\":[\"white\"],\"width\":[1.0],\"x\":[\"tkinter\"],\"y\":[0.7856269287105901]}},\"id\":\"1774f6ce-a9fd-4fa3-b891-fd07d7db0d3e\",\"type\":\"ColumnDataSource\"},{\"attributes\":{\"data_source\":{\"id\":\"e88ef4df-7ed8-4179-9d23-304fbb3e0d97\",\"type\":\"ColumnDataSource\"},\"glyph\":{\"id\":\"ac900ff5-4c48-451d-bbe1-b9dd8bfb4794\",\"type\":\"Rect\"},\"hover_glyph\":null,\"nonselection_glyph\":null,\"selection_glyph\":null},\"id\":\"a7295bd4-3e2c-41ae-bc8b-8d8ab40c42a9\",\"type\":\"GlyphRenderer\"},{\"attributes\":{\"callback\":null,\"factors\":[\"arrays\",\"beautifulsoup\",\"csv\",\"cython\",\"django-views\",\"excel\",\"for-loop\",\"indexing\",\"jinja2\",\"jquery\",\"json\",\"loops\",\"matlab\",\"matplotlib\",\"matrix\",\"multidimensional-array\",\"numpy\",\"pip\",\"plot\",\"python-3.x\",\"scipy\",\"selenium\",\"sqlite3\",\"ssl\",\"tkinter\",\"twitter\",\"ubuntu\",\"web-crawler\",\"while-loop\",\"xpath\"]},\"id\":\"f557c9e0-bb94-4264-a7a2-a66fe47df47a\",\"type\":\"FactorRange\"},{\"attributes\":{\"data_source\":{\"id\":\"32626b18-bf44-4774-a061-d9d6dcee44c6\",\"type\":\"ColumnDataSource\"},\"glyph\":{\"id\":\"bb291578-efa9-4c52-85c5-e1817c7f3d83\",\"type\":\"Rect\"},\"hover_glyph\":null,\"nonselection_glyph\":null,\"selection_glyph\":null},\"id\":\"c9c50002-eca3-49ee-8d97-89e493b4ab0f\",\"type\":\"GlyphRenderer\"},{\"attributes\":{\"callback\":null,\"column_names\":[\"height\",\"fill_alpha\",\"width\",\"color\",\"line_color\",\"line_alpha\",\"y\",\"x\",\"label\"],\"data\":{\"QuestTags\":[\"while-loop\"],\"chart_index\":[{\"QuestTags\":\"while-loop\"}],\"color\":[\"#f22c40\"],\"fill_alpha\":[0.8],\"height\":[1.2790056741421236],\"label\":[{\"QuestTags\":\"while-loop\"}],\"line_alpha\":[1.0],\"line_color\":[\"white\"],\"width\":[1.0],\"x\":[\"while-loop\"],\"y\":[0.6395028370710618]}},\"id\":\"326aba20-bb1c-4447-aea2-dde0d6f04611\",\"type\":\"ColumnDataSource\"},{\"attributes\":{\"callback\":null,\"column_names\":[\"height\",\"fill_alpha\",\"width\",\"color\",\"line_color\",\"line_alpha\",\"y\",\"x\",\"label\"],\"data\":{\"QuestTags\":[\"pip\"],\"chart_index\":[{\"QuestTags\":\"pip\"}],\"color\":[\"#f22c40\"],\"fill_alpha\":[0.8],\"height\":[8.273412591191569],\"label\":[{\"QuestTags\":\"pip\"}],\"line_alpha\":[1.0],\"line_color\":[\"white\"],\"width\":[1.0],\"x\":[\"pip\"],\"y\":[4.1367062955957845]}},\"id\":\"56d8be48-fcb2-4cbf-b79a-bf4d2c174e61\",\"type\":\"ColumnDataSource\"},{\"attributes\":{\"data_source\":{\"id\":\"3eb0dad6-9fc5-428d-b2eb-f58c66125441\",\"type\":\"ColumnDataSource\"},\"glyph\":{\"id\":\"f1fa5df7-8fa4-4779-9893-bc8a561a7794\",\"type\":\"Rect\"},\"hover_glyph\":null,\"nonselection_glyph\":null,\"selection_glyph\":null},\"id\":\"734994e3-4975-4d9f-8dd4-601bd2a3a15d\",\"type\":\"GlyphRenderer\"},{\"attributes\":{\"callback\":null,\"column_names\":[\"height\",\"fill_alpha\",\"width\",\"color\",\"line_color\",\"line_alpha\",\"y\",\"x\",\"label\"],\"data\":{\"QuestTags\":[\"matlab\"],\"chart_index\":[{\"QuestTags\":\"matlab\"}],\"color\":[\"#f22c40\"],\"fill_alpha\":[0.8],\"height\":[0.9047038883839749],\"label\":[{\"QuestTags\":\"matlab\"}],\"line_alpha\":[1.0],\"line_color\":[\"white\"],\"width\":[1.0],\"x\":[\"matlab\"],\"y\":[0.45235194419198743]}},\"id\":\"d63849a9-8e08-45f5-a4ab-04d6b1e846ce\",\"type\":\"ColumnDataSource\"},{\"attributes\":{\"callback\":null,\"column_names\":[\"height\",\"fill_alpha\",\"width\",\"color\",\"line_color\",\"line_alpha\",\"y\",\"x\",\"label\"],\"data\":{\"QuestTags\":[\"numpy\"],\"chart_index\":[{\"QuestTags\":\"numpy\"}],\"color\":[\"#f22c40\"],\"fill_alpha\":[0.8],\"height\":[3.7097052276733438],\"label\":[{\"QuestTags\":\"numpy\"}],\"line_alpha\":[1.0],\"line_color\":[\"white\"],\"width\":[1.0],\"x\":[\"numpy\"],\"y\":[1.8548526138366719]}},\"id\":\"dc22f61d-4850-4abc-b269-4adde87565a3\",\"type\":\"ColumnDataSource\"},{\"attributes\":{\"data_source\":{\"id\":\"714c5001-928e-464a-a504-6a08db77a382\",\"type\":\"ColumnDataSource\"},\"glyph\":{\"id\":\"aca89964-6a4f-433e-8fce-43edaa6b5878\",\"type\":\"Rect\"},\"hover_glyph\":null,\"nonselection_glyph\":null,\"selection_glyph\":null},\"id\":\"8111ba99-5ce9-4997-a441-b53dbaca56f1\",\"type\":\"GlyphRenderer\"},{\"attributes\":{\"dimension\":1,\"plot\":{\"id\":\"b8469bc7-b0b8-4e08-b2c9-7092bfa6e008\",\"subtype\":\"Chart\",\"type\":\"Plot\"},\"ticker\":{\"id\":\"4b558ef2-089c-4809-b9a9-fa4b2c6355c7\",\"type\":\"BasicTicker\"}},\"id\":\"1514568a-5679-400e-84ae-29e56c4b72a8\",\"type\":\"Grid\"},{\"attributes\":{\"data_source\":{\"id\":\"56d8be48-fcb2-4cbf-b79a-bf4d2c174e61\",\"type\":\"ColumnDataSource\"},\"glyph\":{\"id\":\"03a0dcb9-a6a9-4765-821e-8024ddcd5e40\",\"type\":\"Rect\"},\"hover_glyph\":null,\"nonselection_glyph\":null,\"selection_glyph\":null},\"id\":\"448df2ad-e684-4423-963f-8662f1a477e3\",\"type\":\"GlyphRenderer\"},{\"attributes\":{\"callback\":null,\"column_names\":[\"height\",\"fill_alpha\",\"width\",\"color\",\"line_color\",\"line_alpha\",\"y\",\"x\",\"label\"],\"data\":{\"QuestTags\":[\"arrays\"],\"chart_index\":[{\"QuestTags\":\"arrays\"}],\"color\":[\"#f22c40\"],\"fill_alpha\":[0.8],\"height\":[2.2966028837414947],\"label\":[{\"QuestTags\":\"arrays\"}],\"line_alpha\":[1.0],\"line_color\":[\"white\"],\"width\":[1.0],\"x\":[\"arrays\"],\"y\":[1.1483014418707473]}},\"id\":\"fcf48ee5-e469-4345-b2aa-ee07786abb5c\",\"type\":\"ColumnDataSource\"},{\"attributes\":{\"plot\":{\"id\":\"b8469bc7-b0b8-4e08-b2c9-7092bfa6e008\",\"subtype\":\"Chart\",\"type\":\"Plot\"}},\"id\":\"21a6515f-c51c-452b-81bb-c4dd5bf6072a\",\"type\":\"WheelZoomTool\"},{\"attributes\":{\"callback\":null,\"column_names\":[\"height\",\"fill_alpha\",\"width\",\"color\",\"line_color\",\"line_alpha\",\"y\",\"x\",\"label\"],\"data\":{\"QuestTags\":[\"csv\"],\"chart_index\":[{\"QuestTags\":\"csv\"}],\"color\":[\"#f22c40\"],\"fill_alpha\":[0.8],\"height\":[2.905787624966225],\"label\":[{\"QuestTags\":\"csv\"}],\"line_alpha\":[1.0],\"line_color\":[\"white\"],\"width\":[1.0],\"x\":[\"csv\"],\"y\":[1.4528938124831126]}},\"id\":\"e88ef4df-7ed8-4179-9d23-304fbb3e0d97\",\"type\":\"ColumnDataSource\"},{\"attributes\":{\"data_source\":{\"id\":\"326aba20-bb1c-4447-aea2-dde0d6f04611\",\"type\":\"ColumnDataSource\"},\"glyph\":{\"id\":\"b1b8fca7-2d71-4b7b-a377-c1ad4bbd4d48\",\"type\":\"Rect\"},\"hover_glyph\":null,\"nonselection_glyph\":null,\"selection_glyph\":null},\"id\":\"a5688357-1b86-450b-b447-39900542e49f\",\"type\":\"GlyphRenderer\"},{\"attributes\":{\"data_source\":{\"id\":\"ce61560b-883d-4a16-add1-1919ec4b5c55\",\"type\":\"ColumnDataSource\"},\"glyph\":{\"id\":\"db89eed6-aa69-4b80-9eeb-4da09d0f2f88\",\"type\":\"Rect\"},\"hover_glyph\":null,\"nonselection_glyph\":null,\"selection_glyph\":null},\"id\":\"91abf032-2ab9-439c-85c3-2a72a5a3cdec\",\"type\":\"GlyphRenderer\"},{\"attributes\":{\"fill_alpha\":{\"field\":\"fill_alpha\"},\"fill_color\":{\"field\":\"color\"},\"height\":{\"field\":\"height\",\"units\":\"data\"},\"line_color\":{\"field\":\"line_color\"},\"width\":{\"field\":\"width\",\"units\":\"data\"},\"x\":{\"field\":\"x\"},\"y\":{\"field\":\"y\"}},\"id\":\"50f9ef6f-2cfe-4028-bcfa-2cd1c93a87de\",\"type\":\"Rect\"},{\"attributes\":{\"data_source\":{\"id\":\"2a532172-87e1-46bf-ba65-219e640a6608\",\"type\":\"ColumnDataSource\"},\"glyph\":{\"id\":\"955e62d2-f060-4770-9fac-3370748a2694\",\"type\":\"Rect\"},\"hover_glyph\":null,\"nonselection_glyph\":null,\"selection_glyph\":null},\"id\":\"31d7ad29-d0cc-42fd-b4a0-f2399735d829\",\"type\":\"GlyphRenderer\"},{\"attributes\":{},\"id\":\"db10962d-508b-4f24-af69-63d226096f41\",\"type\":\"CategoricalTickFormatter\"},{\"attributes\":{\"fill_alpha\":{\"field\":\"fill_alpha\"},\"fill_color\":{\"field\":\"color\"},\"height\":{\"field\":\"height\",\"units\":\"data\"},\"line_color\":{\"field\":\"line_color\"},\"width\":{\"field\":\"width\",\"units\":\"data\"},\"x\":{\"field\":\"x\"},\"y\":{\"field\":\"y\"}},\"id\":\"617f043f-94c4-48f2-8d5b-8737e228656a\",\"type\":\"Rect\"},{\"attributes\":{\"plot\":{\"id\":\"b8469bc7-b0b8-4e08-b2c9-7092bfa6e008\",\"subtype\":\"Chart\",\"type\":\"Plot\"}},\"id\":\"e222ae03-c715-47ac-b7b8-a6bb24441463\",\"type\":\"PanTool\"},{\"attributes\":{\"overlay\":{\"id\":\"f65e22e3-dc06-4806-9ef8-048afb576ee4\",\"type\":\"BoxAnnotation\"},\"plot\":{\"id\":\"b8469bc7-b0b8-4e08-b2c9-7092bfa6e008\",\"subtype\":\"Chart\",\"type\":\"Plot\"}},\"id\":\"538c6eaa-be22-4ee2-a5b1-88e3579f26e7\",\"type\":\"BoxZoomTool\"},{\"attributes\":{\"data_source\":{\"id\":\"3e956b6c-764c-4674-bde5-789caf0b480d\",\"type\":\"ColumnDataSource\"},\"glyph\":{\"id\":\"20f31bd3-cdb2-4f5d-a885-19749d2148d2\",\"type\":\"Rect\"},\"hover_glyph\":null,\"nonselection_glyph\":null,\"selection_glyph\":null},\"id\":\"51af55bc-651f-48a9-bf2a-609c8e03dfcf\",\"type\":\"GlyphRenderer\"},{\"attributes\":{\"data_source\":{\"id\":\"b115dad9-a553-4137-a5e0-912fe10ca412\",\"type\":\"ColumnDataSource\"},\"glyph\":{\"id\":\"0789c989-e284-44cf-9c68-019609b2c3da\",\"type\":\"Rect\"},\"hover_glyph\":null,\"nonselection_glyph\":null,\"selection_glyph\":null},\"id\":\"18628bb4-b181-4573-93df-cb4a6e88c653\",\"type\":\"GlyphRenderer\"},{\"attributes\":{\"callback\":null,\"column_names\":[\"height\",\"fill_alpha\",\"width\",\"color\",\"line_color\",\"line_alpha\",\"y\",\"x\",\"label\"],\"data\":{\"QuestTags\":[\"matrix\"],\"chart_index\":[{\"QuestTags\":\"matrix\"}],\"color\":[\"#f22c40\"],\"fill_alpha\":[0.8],\"height\":[2.603370096534106],\"label\":[{\"QuestTags\":\"matrix\"}],\"line_alpha\":[1.0],\"line_color\":[\"white\"],\"width\":[1.0],\"x\":[\"matrix\"],\"y\":[1.301685048267053]}},\"id\":\"714c5001-928e-464a-a504-6a08db77a382\",\"type\":\"ColumnDataSource\"},{\"attributes\":{\"data_source\":{\"id\":\"14defedc-7c23-448d-8318-e647b0e431eb\",\"type\":\"ColumnDataSource\"},\"glyph\":{\"id\":\"3cfad74a-57ea-44a1-a051-a57225cc6c85\",\"type\":\"Rect\"},\"hover_glyph\":null,\"nonselection_glyph\":null,\"selection_glyph\":null},\"id\":\"ba9e2a6e-8867-404f-8093-347bfebf41b6\",\"type\":\"GlyphRenderer\"},{\"attributes\":{\"callback\":null,\"column_names\":[\"height\",\"fill_alpha\",\"width\",\"color\",\"line_color\",\"line_alpha\",\"y\",\"x\",\"label\"],\"data\":{\"QuestTags\":[\"jinja2\"],\"chart_index\":[{\"QuestTags\":\"jinja2\"}],\"color\":[\"#f22c40\"],\"fill_alpha\":[0.8],\"height\":[0.5651819674516243],\"label\":[{\"QuestTags\":\"jinja2\"}],\"line_alpha\":[1.0],\"line_color\":[\"white\"],\"width\":[1.0],\"x\":[\"jinja2\"],\"y\":[0.28259098372581215]}},\"id\":\"82ea44f5-04e2-41df-9cbf-e1907211ab7b\",\"type\":\"ColumnDataSource\"},{\"attributes\":{\"plot\":{\"id\":\"b8469bc7-b0b8-4e08-b2c9-7092bfa6e008\",\"subtype\":\"Chart\",\"type\":\"Plot\"}},\"id\":\"e23eaca3-6b2d-4cd9-8c05-492b6de3e2b2\",\"type\":\"SaveTool\"},{\"attributes\":{\"callback\":null,\"end\":14.028266684679814},\"id\":\"e191e935-c2a1-48e5-87dc-6d10c797227d\",\"type\":\"Range1d\"},{\"attributes\":{\"fill_alpha\":{\"field\":\"fill_alpha\"},\"fill_color\":{\"field\":\"color\"},\"height\":{\"field\":\"height\",\"units\":\"data\"},\"line_color\":{\"field\":\"line_color\"},\"width\":{\"field\":\"width\",\"units\":\"data\"},\"x\":{\"field\":\"x\"},\"y\":{\"field\":\"y\"}},\"id\":\"28959412-30fd-4353-9b76-6c2f40c045c5\",\"type\":\"Rect\"},{\"attributes\":{\"callback\":null,\"column_names\":[\"height\",\"fill_alpha\",\"width\",\"color\",\"line_color\",\"line_alpha\",\"y\",\"x\",\"label\"],\"data\":{\"QuestTags\":[\"beautifulsoup\"],\"chart_index\":[{\"QuestTags\":\"beautifulsoup\"}],\"color\":[\"#f22c40\"],\"fill_alpha\":[0.8],\"height\":[0.5566443503757741],\"label\":[{\"QuestTags\":\"beautifulsoup\"}],\"line_alpha\":[1.0],\"line_color\":[\"white\"],\"width\":[1.0],\"x\":[\"beautifulsoup\"],\"y\":[0.27832217518788704]}},\"id\":\"10e89e9d-4758-4df0-b19b-7ab3fe1de358\",\"type\":\"ColumnDataSource\"},{\"attributes\":{\"fill_alpha\":{\"field\":\"fill_alpha\"},\"fill_color\":{\"field\":\"color\"},\"height\":{\"field\":\"height\",\"units\":\"data\"},\"line_color\":{\"field\":\"line_color\"},\"width\":{\"field\":\"width\",\"units\":\"data\"},\"x\":{\"field\":\"x\"},\"y\":{\"field\":\"y\"}},\"id\":\"9191587b-056a-40d6-841c-c3b4a83fc38a\",\"type\":\"Rect\"},{\"attributes\":{\"callback\":null,\"column_names\":[\"height\",\"fill_alpha\",\"width\",\"color\",\"line_color\",\"line_alpha\",\"y\",\"x\",\"label\"],\"data\":{\"QuestTags\":[\"scipy\"],\"chart_index\":[{\"QuestTags\":\"scipy\"}],\"color\":[\"#f22c40\"],\"fill_alpha\":[0.8],\"height\":[2.176453707758388],\"label\":[{\"QuestTags\":\"scipy\"}],\"line_alpha\":[1.0],\"line_color\":[\"white\"],\"width\":[1.0],\"x\":[\"scipy\"],\"y\":[1.088226853879194]}},\"id\":\"40063f59-f99a-4ac1-832f-bf950988c465\",\"type\":\"ColumnDataSource\"},{\"attributes\":{\"fill_alpha\":{\"field\":\"fill_alpha\"},\"fill_color\":{\"field\":\"color\"},\"height\":{\"field\":\"height\",\"units\":\"data\"},\"line_color\":{\"field\":\"line_color\"},\"width\":{\"field\":\"width\",\"units\":\"data\"},\"x\":{\"field\":\"x\"},\"y\":{\"field\":\"y\"}},\"id\":\"db89eed6-aa69-4b80-9eeb-4da09d0f2f88\",\"type\":\"Rect\"},{\"attributes\":{\"fill_alpha\":{\"field\":\"fill_alpha\"},\"fill_color\":{\"field\":\"color\"},\"height\":{\"field\":\"height\",\"units\":\"data\"},\"line_color\":{\"field\":\"line_color\"},\"width\":{\"field\":\"width\",\"units\":\"data\"},\"x\":{\"field\":\"x\"},\"y\":{\"field\":\"y\"}},\"id\":\"3557241c-d8e7-42b9-ad14-0ee30ce64cd0\",\"type\":\"Rect\"},{\"attributes\":{\"data_source\":{\"id\":\"1c7a2ebb-8796-4677-92af-77cc12229573\",\"type\":\"ColumnDataSource\"},\"glyph\":{\"id\":\"4f07ebde-1ff7-45d4-87bf-0880374f4dbb\",\"type\":\"Rect\"},\"hover_glyph\":null,\"nonselection_glyph\":null,\"selection_glyph\":null},\"id\":\"859439af-5b01-4c1a-b880-bb1a2e4cacc5\",\"type\":\"GlyphRenderer\"},{\"attributes\":{\"axis_label\":\"Percentage Increase (%)\",\"formatter\":{\"id\":\"1cc8d0a1-bc44-485a-951d-1e7b709b084b\",\"type\":\"BasicTickFormatter\"},\"plot\":{\"id\":\"b8469bc7-b0b8-4e08-b2c9-7092bfa6e008\",\"subtype\":\"Chart\",\"type\":\"Plot\"},\"ticker\":{\"id\":\"4b558ef2-089c-4809-b9a9-fa4b2c6355c7\",\"type\":\"BasicTicker\"}},\"id\":\"e61cbf31-b7ad-44dd-896a-2314ae1bd7ee\",\"type\":\"LinearAxis\"},{\"attributes\":{\"fill_alpha\":{\"field\":\"fill_alpha\"},\"fill_color\":{\"field\":\"color\"},\"height\":{\"field\":\"height\",\"units\":\"data\"},\"line_color\":{\"field\":\"line_color\"},\"width\":{\"field\":\"width\",\"units\":\"data\"},\"x\":{\"field\":\"x\"},\"y\":{\"field\":\"y\"}},\"id\":\"b4fcd87b-1a10-460f-92cb-2f23dc1c374e\",\"type\":\"Rect\"},{\"attributes\":{\"callback\":null,\"column_names\":[\"height\",\"fill_alpha\",\"width\",\"color\",\"line_color\",\"line_alpha\",\"y\",\"x\",\"label\"],\"data\":{\"QuestTags\":[\"cython\"],\"chart_index\":[{\"QuestTags\":\"cython\"}],\"color\":[\"#f22c40\"],\"fill_alpha\":[0.8],\"height\":[1.7385841664415023],\"label\":[{\"QuestTags\":\"cython\"}],\"line_alpha\":[1.0],\"line_color\":[\"white\"],\"width\":[1.0],\"x\":[\"cython\"],\"y\":[0.8692920832207511]}},\"id\":\"3d402ed0-1a61-4a99-bc03-b38de51d1487\",\"type\":\"ColumnDataSource\"},{\"attributes\":{\"data_source\":{\"id\":\"82ea44f5-04e2-41df-9cbf-e1907211ab7b\",\"type\":\"ColumnDataSource\"},\"glyph\":{\"id\":\"3557241c-d8e7-42b9-ad14-0ee30ce64cd0\",\"type\":\"Rect\"},\"hover_glyph\":null,\"nonselection_glyph\":null,\"selection_glyph\":null},\"id\":\"070c1195-b845-4b20-b76b-9ef83833ada2\",\"type\":\"GlyphRenderer\"},{\"attributes\":{\"fill_alpha\":{\"field\":\"fill_alpha\"},\"fill_color\":{\"field\":\"color\"},\"height\":{\"field\":\"height\",\"units\":\"data\"},\"line_color\":{\"field\":\"line_color\"},\"width\":{\"field\":\"width\",\"units\":\"data\"},\"x\":{\"field\":\"x\"},\"y\":{\"field\":\"y\"}},\"id\":\"34f3ce48-a85d-496d-858f-a808947637e1\",\"type\":\"Rect\"},{\"attributes\":{\"callback\":null,\"column_names\":[\"height\",\"fill_alpha\",\"width\",\"color\",\"line_color\",\"line_alpha\",\"y\",\"x\",\"label\"],\"data\":{\"QuestTags\":[\"multidimensional-array\"],\"chart_index\":[{\"QuestTags\":\"multidimensional-array\"}],\"color\":[\"#f22c40\"],\"fill_alpha\":[0.8],\"height\":[0.6228646912245939],\"label\":[{\"QuestTags\":\"multidimensional-array\"}],\"line_alpha\":[1.0],\"line_color\":[\"white\"],\"width\":[1.0],\"x\":[\"multidimensional-array\"],\"y\":[0.31143234561229693]}},\"id\":\"3e956b6c-764c-4674-bde5-789caf0b480d\",\"type\":\"ColumnDataSource\"},{\"attributes\":{},\"id\":\"ff8d7500-367b-454e-92fc-a913d95a124b\",\"type\":\"ToolEvents\"},{\"attributes\":{\"fill_alpha\":{\"field\":\"fill_alpha\"},\"fill_color\":{\"field\":\"color\"},\"height\":{\"field\":\"height\",\"units\":\"data\"},\"line_color\":{\"field\":\"line_color\"},\"width\":{\"field\":\"width\",\"units\":\"data\"},\"x\":{\"field\":\"x\"},\"y\":{\"field\":\"y\"}},\"id\":\"1bb38293-3dbd-4a11-b534-a453a5c35f19\",\"type\":\"Rect\"},{\"attributes\":{\"callback\":null,\"column_names\":[\"height\",\"fill_alpha\",\"width\",\"color\",\"line_color\",\"line_alpha\",\"y\",\"x\",\"label\"],\"data\":{\"QuestTags\":[\"json\"],\"chart_index\":[{\"QuestTags\":\"json\"}],\"color\":[\"#f22c40\"],\"fill_alpha\":[0.8],\"height\":[1.9513753039718993],\"label\":[{\"QuestTags\":\"json\"}],\"line_alpha\":[1.0],\"line_color\":[\"white\"],\"width\":[1.0],\"x\":[\"json\"],\"y\":[0.9756876519859496]}},\"id\":\"ce61560b-883d-4a16-add1-1919ec4b5c55\",\"type\":\"ColumnDataSource\"},{\"attributes\":{\"fill_alpha\":{\"field\":\"fill_alpha\"},\"fill_color\":{\"field\":\"color\"},\"height\":{\"field\":\"height\",\"units\":\"data\"},\"line_color\":{\"field\":\"line_color\"},\"width\":{\"field\":\"width\",\"units\":\"data\"},\"x\":{\"field\":\"x\"},\"y\":{\"field\":\"y\"}},\"id\":\"f1fa5df7-8fa4-4779-9893-bc8a561a7794\",\"type\":\"Rect\"},{\"attributes\":{\"axis_label\":\"Question Tags\",\"formatter\":{\"id\":\"db10962d-508b-4f24-af69-63d226096f41\",\"type\":\"CategoricalTickFormatter\"},\"major_label_orientation\":0.7853981633974483,\"plot\":{\"id\":\"b8469bc7-b0b8-4e08-b2c9-7092bfa6e008\",\"subtype\":\"Chart\",\"type\":\"Plot\"},\"ticker\":{\"id\":\"e1322ff1-bcc4-4421-96d6-9b44edb19fd5\",\"type\":\"CategoricalTicker\"}},\"id\":\"81249490-9111-4ade-b534-2d4ffc8108a2\",\"type\":\"CategoricalAxis\"},{\"attributes\":{\"fill_alpha\":{\"field\":\"fill_alpha\"},\"fill_color\":{\"field\":\"color\"},\"height\":{\"field\":\"height\",\"units\":\"data\"},\"line_color\":{\"field\":\"line_color\"},\"width\":{\"field\":\"width\",\"units\":\"data\"},\"x\":{\"field\":\"x\"},\"y\":{\"field\":\"y\"}},\"id\":\"5f4fad75-c427-4d82-af32-f88356771444\",\"type\":\"Rect\"},{\"attributes\":{\"callback\":null,\"column_names\":[\"height\",\"fill_alpha\",\"width\",\"color\",\"line_color\",\"line_alpha\",\"y\",\"x\",\"label\"],\"data\":{\"QuestTags\":[\"xpath\"],\"chart_index\":[{\"QuestTags\":\"xpath\"}],\"color\":[\"#f22c40\"],\"fill_alpha\":[0.8],\"height\":[1.8153904350175627],\"label\":[{\"QuestTags\":\"xpath\"}],\"line_alpha\":[1.0],\"line_color\":[\"white\"],\"width\":[1.0],\"x\":[\"xpath\"],\"y\":[0.9076952175087813]}},\"id\":\"d52c7169-f841-4edf-ac70-304691d218ae\",\"type\":\"ColumnDataSource\"},{\"attributes\":{\"data_source\":{\"id\":\"4c8a39c3-a85b-4639-b7fb-9b4058ff906f\",\"type\":\"ColumnDataSource\"},\"glyph\":{\"id\":\"f7a4fdbc-d434-4794-b262-bd58f9e4ad44\",\"type\":\"Rect\"},\"hover_glyph\":null,\"nonselection_glyph\":null,\"selection_glyph\":null},\"id\":\"5bab3b45-5849-4bff-9ffb-719406da0dc9\",\"type\":\"GlyphRenderer\"},{\"attributes\":{\"active_drag\":\"auto\",\"active_scroll\":\"auto\",\"active_tap\":\"auto\",\"tools\":[{\"id\":\"e222ae03-c715-47ac-b7b8-a6bb24441463\",\"type\":\"PanTool\"},{\"id\":\"21a6515f-c51c-452b-81bb-c4dd5bf6072a\",\"type\":\"WheelZoomTool\"},{\"id\":\"538c6eaa-be22-4ee2-a5b1-88e3579f26e7\",\"type\":\"BoxZoomTool\"},{\"id\":\"e23eaca3-6b2d-4cd9-8c05-492b6de3e2b2\",\"type\":\"SaveTool\"},{\"id\":\"e872f211-e55e-4f70-a3eb-b909f543004a\",\"type\":\"ResetTool\"},{\"id\":\"9268f6b0-3de8-4eaf-9d53-b208045061cf\",\"type\":\"HelpTool\"}]},\"id\":\"4e7dea00-aa9e-49a8-8bdc-281ab944de58\",\"type\":\"Toolbar\"},{\"attributes\":{\"data_source\":{\"id\":\"40063f59-f99a-4ac1-832f-bf950988c465\",\"type\":\"ColumnDataSource\"},\"glyph\":{\"id\":\"5f4fad75-c427-4d82-af32-f88356771444\",\"type\":\"Rect\"},\"hover_glyph\":null,\"nonselection_glyph\":null,\"selection_glyph\":null},\"id\":\"2dbc1572-f9b2-4f1e-a1d1-ce26cdf0cec8\",\"type\":\"GlyphRenderer\"},{\"attributes\":{\"data_source\":{\"id\":\"b46ad165-e739-4278-beee-b7a8b52de8e5\",\"type\":\"ColumnDataSource\"},\"glyph\":{\"id\":\"50f9ef6f-2cfe-4028-bcfa-2cd1c93a87de\",\"type\":\"Rect\"},\"hover_glyph\":null,\"nonselection_glyph\":null,\"selection_glyph\":null},\"id\":\"e316f37b-9b48-4aa5-a681-8871e1a3805f\",\"type\":\"GlyphRenderer\"},{\"attributes\":{\"callback\":null,\"column_names\":[\"height\",\"fill_alpha\",\"width\",\"color\",\"line_color\",\"line_alpha\",\"y\",\"x\",\"label\"],\"data\":{\"QuestTags\":[\"ubuntu\"],\"chart_index\":[{\"QuestTags\":\"ubuntu\"}],\"color\":[\"#f22c40\"],\"fill_alpha\":[0.8],\"height\":[1.0278445370383538],\"label\":[{\"QuestTags\":\"ubuntu\"}],\"line_alpha\":[1.0],\"line_color\":[\"white\"],\"width\":[1.0],\"x\":[\"ubuntu\"],\"y\":[0.5139222685191769]}},\"id\":\"7a585ba0-9263-4e39-82db-9cb6acf20e85\",\"type\":\"ColumnDataSource\"},{\"attributes\":{\"fill_alpha\":{\"field\":\"fill_alpha\"},\"fill_color\":{\"field\":\"color\"},\"height\":{\"field\":\"height\",\"units\":\"data\"},\"line_color\":{\"field\":\"line_color\"},\"width\":{\"field\":\"width\",\"units\":\"data\"},\"x\":{\"field\":\"x\"},\"y\":{\"field\":\"y\"}},\"id\":\"47a818b9-68c4-4f88-93c7-d33f294b230b\",\"type\":\"Rect\"}],\"root_ids\":[\"b8469bc7-b0b8-4e08-b2c9-7092bfa6e008\"]},\"title\":\"Bokeh Application\",\"version\":\"0.12.2\"}};\n",
       "            var render_items = [{\"docid\":\"171c3f6f-1d7e-4215-98e8-18fe944f2378\",\"elementid\":\"33d42187-1f16-4475-a6aa-9bd90ac1b12c\",\"modelid\":\"b8469bc7-b0b8-4e08-b2c9-7092bfa6e008\"}];\n",
       "            \n",
       "            Bokeh.embed.embed_items(docs_json, render_items);\n",
       "        });\n",
       "      },\n",
       "      function(Bokeh) {\n",
       "      }\n",
       "    ];\n",
       "  \n",
       "    function run_inline_js() {\n",
       "      \n",
       "      if ((window.Bokeh !== undefined) || (force === \"1\")) {\n",
       "        for (var i = 0; i < inline_js.length; i++) {\n",
       "          inline_js[i](window.Bokeh);\n",
       "        }if (force === \"1\") {\n",
       "          display_loaded();\n",
       "        }} else if (Date.now() < window._bokeh_timeout) {\n",
       "        setTimeout(run_inline_js, 100);\n",
       "      } else if (!window._bokeh_failed_load) {\n",
       "        console.log(\"Bokeh: BokehJS failed to load within specified timeout.\");\n",
       "        window._bokeh_failed_load = true;\n",
       "      } else if (!force) {\n",
       "        var cell = $(\"#33d42187-1f16-4475-a6aa-9bd90ac1b12c\").parents('.cell').data().cell;\n",
       "        cell.output_area.append_execute_result(NB_LOAD_WARNING)\n",
       "      }\n",
       "  \n",
       "    }\n",
       "  \n",
       "    if (window._bokeh_is_loading === 0) {\n",
       "      console.log(\"Bokeh: BokehJS loaded, going straight to plotting\");\n",
       "      run_inline_js();\n",
       "    } else {\n",
       "      load_libs(js_urls, function() {\n",
       "        console.log(\"Bokeh: BokehJS plotting callback run at\", now());\n",
       "        run_inline_js();\n",
       "      });\n",
       "    }\n",
       "  }(this));\n",
       "</script>"
      ]
     },
     "metadata": {},
     "output_type": "display_data"
    }
   ],
   "source": [
    "plot_percentage_change(pythonYearQuestTag, \"Oct'08-09\", \"Oct'15-16\")"
   ]
  },
  {
   "cell_type": "markdown",
   "metadata": {},
   "source": [
    "# Stack Overflow 10% Sample: Finding more trends about Answers"
   ]
  },
  {
   "cell_type": "code",
   "execution_count": 89,
   "metadata": {
    "collapsed": true
   },
   "outputs": [],
   "source": [
    "sample = pd.merge(stackSampleAnswers, stackSampleQuestions[['QuestionId','QuestCreationDate']])"
   ]
  },
  {
   "cell_type": "code",
   "execution_count": 90,
   "metadata": {
    "collapsed": true
   },
   "outputs": [],
   "source": [
    "sample = sample.drop_duplicates(subset=['AnswerId'])"
   ]
  },
  {
   "cell_type": "code",
   "execution_count": 91,
   "metadata": {
    "collapsed": true
   },
   "outputs": [],
   "source": [
    "sample[\"AnsCreationDate\"] = pd.to_datetime(sample[\"AnsCreationDate\"])"
   ]
  },
  {
   "cell_type": "code",
   "execution_count": 92,
   "metadata": {
    "collapsed": true
   },
   "outputs": [],
   "source": [
    "sample[\"QuestCreationDate\"] = pd.to_datetime(sample[\"QuestCreationDate\"])"
   ]
  },
  {
   "cell_type": "code",
   "execution_count": 93,
   "metadata": {
    "collapsed": false
   },
   "outputs": [],
   "source": [
    "sample['DayGap']=(sample.AnsCreationDate - sample.QuestCreationDate).astype(pd.Timedelta).apply(lambda x:x.days)"
   ]
  },
  {
   "cell_type": "code",
   "execution_count": 94,
   "metadata": {
    "collapsed": false
   },
   "outputs": [],
   "source": [
    "sample = sample.loc[sample.DayGap >= 0, :]"
   ]
  },
  {
   "cell_type": "code",
   "execution_count": 95,
   "metadata": {
    "collapsed": true
   },
   "outputs": [],
   "source": [
    "FirstWeekCount = sample[sample.DayGap <= 7].groupby('QuestionId').AnswerId.count().rename('FirstWeekAnsCount').reset_index()"
   ]
  },
  {
   "cell_type": "code",
   "execution_count": 96,
   "metadata": {
    "collapsed": true
   },
   "outputs": [],
   "source": [
    "FirstMonthCount = sample[(7 < sample.DayGap) & (sample.DayGap <= 31)].groupby('QuestionId').AnswerId.count().rename('FirstMonthAnsCount').reset_index()"
   ]
  },
  {
   "cell_type": "code",
   "execution_count": 97,
   "metadata": {
    "collapsed": true
   },
   "outputs": [],
   "source": [
    "SixMonthsCount = sample[(31 < sample.DayGap) & (sample.DayGap <= 186)].groupby('QuestionId').AnswerId.count().rename('SixMonthsAnsCount').reset_index()"
   ]
  },
  {
   "cell_type": "code",
   "execution_count": 98,
   "metadata": {
    "collapsed": true
   },
   "outputs": [],
   "source": [
    "MoreMonthsCount = sample[186 < sample.DayGap].groupby('QuestionId').AnswerId.count().rename('MoreMonthsAnsCount').reset_index()"
   ]
  },
  {
   "cell_type": "code",
   "execution_count": 99,
   "metadata": {
    "collapsed": true
   },
   "outputs": [],
   "source": [
    "#QuestionId is unique\n",
    "ansCount = pd.merge(FirstWeekCount, FirstMonthCount, on='QuestionId', how='outer')\n",
    "ansCount = pd.merge(ansCount, SixMonthsCount, on='QuestionId', how='outer')\n",
    "ansCount = pd.merge(ansCount, MoreMonthsCount, on='QuestionId', how='outer')"
   ]
  },
  {
   "cell_type": "code",
   "execution_count": 100,
   "metadata": {
    "collapsed": true
   },
   "outputs": [],
   "source": [
    "ansCount = ansCount.fillna(0)"
   ]
  },
  {
   "cell_type": "code",
   "execution_count": 101,
   "metadata": {
    "collapsed": false
   },
   "outputs": [],
   "source": [
    "tagcount = pd.DataFrame(stackQuestionsTags.QuestionId.value_counts()).reset_index()"
   ]
  },
  {
   "cell_type": "code",
   "execution_count": 102,
   "metadata": {
    "collapsed": false
   },
   "outputs": [],
   "source": [
    "tagcount.rename(columns={'index':'QuestionId', 'QuestionId':'TagCount'}, inplace=True)"
   ]
  },
  {
   "cell_type": "code",
   "execution_count": 103,
   "metadata": {
    "collapsed": false
   },
   "outputs": [],
   "source": [
    "ansCount = pd.merge(ansCount, tagcount, on='QuestionId').drop_duplicates('QuestionId')"
   ]
  },
  {
   "cell_type": "code",
   "execution_count": 104,
   "metadata": {
    "collapsed": true
   },
   "outputs": [],
   "source": [
    "import numpy as np\n",
    "ansCount['<= 7 Days'] = list(np.where(ansCount['FirstWeekAnsCount']>0, 1, 0))"
   ]
  },
  {
   "cell_type": "code",
   "execution_count": 105,
   "metadata": {
    "collapsed": true
   },
   "outputs": [],
   "source": [
    "ansCount['8 - 31 Days'] = list(np.where(ansCount['FirstMonthAnsCount']>0, 1, 0))"
   ]
  },
  {
   "cell_type": "code",
   "execution_count": 106,
   "metadata": {
    "collapsed": true
   },
   "outputs": [],
   "source": [
    "ansCount['32 - 186 Days'] = list(np.where(ansCount['SixMonthsAnsCount']>0, 1, 0))"
   ]
  },
  {
   "cell_type": "code",
   "execution_count": 107,
   "metadata": {
    "collapsed": true
   },
   "outputs": [],
   "source": [
    "ansCount['> 186 Days'] = list(np.where(ansCount['MoreMonthsAnsCount']>0, 1, 0))"
   ]
  },
  {
   "cell_type": "code",
   "execution_count": 108,
   "metadata": {
    "collapsed": true
   },
   "outputs": [],
   "source": [
    "ansCount['total'] = ansCount['<= 7 Days'] + ansCount['8 - 31 Days']+ansCount['32 - 186 Days']+ansCount['> 186 Days']"
   ]
  },
  {
   "cell_type": "code",
   "execution_count": 109,
   "metadata": {
    "collapsed": true
   },
   "outputs": [],
   "source": [
    "ansCount.loc[ansCount.TagCount == 1,'<= 7 Days (%)'] = ansCount[ansCount.TagCount == 1]['<= 7 Days']/ansCount[ansCount.TagCount == 1]['<= 7 Days'].count() * 100\n",
    "ansCount.loc[ansCount.TagCount == 2,'<= 7 Days (%)'] = ansCount[ansCount.TagCount == 2]['<= 7 Days']/ansCount[ansCount.TagCount == 2]['<= 7 Days'].count() * 100\n",
    "ansCount.loc[ansCount.TagCount == 3,'<= 7 Days (%)'] = ansCount[ansCount.TagCount == 3]['<= 7 Days']/ansCount[ansCount.TagCount == 3]['<= 7 Days'].count() * 100\n",
    "ansCount.loc[ansCount.TagCount == 4,'<= 7 Days (%)'] = ansCount[ansCount.TagCount == 4]['<= 7 Days']/ansCount[ansCount.TagCount == 4]['<= 7 Days'].count() * 100\n",
    "ansCount.loc[ansCount.TagCount == 5,'<= 7 Days (%)'] = ansCount[ansCount.TagCount == 5]['<= 7 Days']/ansCount[ansCount.TagCount == 5]['<= 7 Days'].count() * 100"
   ]
  },
  {
   "cell_type": "code",
   "execution_count": 110,
   "metadata": {
    "collapsed": true
   },
   "outputs": [],
   "source": [
    "ansCount.loc[ansCount.TagCount == 1,'8 - 31 Days (%)'] = ansCount[ansCount.TagCount == 1]['8 - 31 Days']/ansCount[ansCount.TagCount == 1]['8 - 31 Days'].count() * 100\n",
    "ansCount.loc[ansCount.TagCount == 2,'8 - 31 Days (%)'] = ansCount[ansCount.TagCount == 2]['8 - 31 Days']/ansCount[ansCount.TagCount == 2]['8 - 31 Days'].count() * 100\n",
    "ansCount.loc[ansCount.TagCount == 3,'8 - 31 Days (%)'] = ansCount[ansCount.TagCount == 3]['8 - 31 Days']/ansCount[ansCount.TagCount == 3]['8 - 31 Days'].count() * 100\n",
    "ansCount.loc[ansCount.TagCount == 4,'8 - 31 Days (%)'] = ansCount[ansCount.TagCount == 4]['8 - 31 Days']/ansCount[ansCount.TagCount == 4]['8 - 31 Days'].count() * 100\n",
    "ansCount.loc[ansCount.TagCount == 5,'8 - 31 Days (%)'] = ansCount[ansCount.TagCount == 5]['8 - 31 Days']/ansCount[ansCount.TagCount == 5]['8 - 31 Days'].count() * 100"
   ]
  },
  {
   "cell_type": "code",
   "execution_count": 111,
   "metadata": {
    "collapsed": true
   },
   "outputs": [],
   "source": [
    "ansCount.loc[ansCount.TagCount == 1,'32 - 186 Days (%)'] = ansCount[ansCount.TagCount == 1]['32 - 186 Days']/ansCount[ansCount.TagCount == 1]['32 - 186 Days'].count() * 100\n",
    "ansCount.loc[ansCount.TagCount == 2,'32 - 186 Days (%)'] = ansCount[ansCount.TagCount == 2]['32 - 186 Days']/ansCount[ansCount.TagCount == 2]['32 - 186 Days'].count() * 100\n",
    "ansCount.loc[ansCount.TagCount == 3,'32 - 186 Days (%)'] = ansCount[ansCount.TagCount == 3]['32 - 186 Days']/ansCount[ansCount.TagCount == 3]['32 - 186 Days'].count() * 100\n",
    "ansCount.loc[ansCount.TagCount == 4,'32 - 186 Days (%)'] = ansCount[ansCount.TagCount == 4]['32 - 186 Days']/ansCount[ansCount.TagCount == 4]['32 - 186 Days'].count() * 100\n",
    "ansCount.loc[ansCount.TagCount == 5,'32 - 186 Days (%)'] = ansCount[ansCount.TagCount == 5]['32 - 186 Days']/ansCount[ansCount.TagCount == 5]['32 - 186 Days'].count() * 100"
   ]
  },
  {
   "cell_type": "code",
   "execution_count": 112,
   "metadata": {
    "collapsed": true
   },
   "outputs": [],
   "source": [
    "ansCount.loc[ansCount.TagCount == 1,'> 186 Days (%)'] = ansCount[ansCount.TagCount == 1]['> 186 Days']/ansCount[ansCount.TagCount == 1]['> 186 Days'].count() * 100\n",
    "ansCount.loc[ansCount.TagCount == 2,'> 186 Days (%)'] = ansCount[ansCount.TagCount == 2]['> 186 Days']/ansCount[ansCount.TagCount == 2]['> 186 Days'].count() * 100\n",
    "ansCount.loc[ansCount.TagCount == 3,'> 186 Days (%)'] = ansCount[ansCount.TagCount == 3]['> 186 Days']/ansCount[ansCount.TagCount == 3]['> 186 Days'].count() * 100\n",
    "ansCount.loc[ansCount.TagCount == 4,'> 186 Days (%)'] = ansCount[ansCount.TagCount == 4]['> 186 Days']/ansCount[ansCount.TagCount == 4]['> 186 Days'].count() * 100\n",
    "ansCount.loc[ansCount.TagCount == 5,'> 186 Days (%)'] = ansCount[ansCount.TagCount == 5]['> 186 Days']/ansCount[ansCount.TagCount == 5]['> 186 Days'].count() * 100"
   ]
  },
  {
   "cell_type": "code",
   "execution_count": 113,
   "metadata": {
    "collapsed": false
   },
   "outputs": [
    {
     "data": {
      "text/html": [
       "<div>\n",
       "<table border=\"1\" class=\"dataframe\">\n",
       "  <thead>\n",
       "    <tr style=\"text-align: right;\">\n",
       "      <th></th>\n",
       "      <th>QuestionId</th>\n",
       "      <th>FirstWeekAnsCount</th>\n",
       "      <th>FirstMonthAnsCount</th>\n",
       "      <th>SixMonthsAnsCount</th>\n",
       "      <th>MoreMonthsAnsCount</th>\n",
       "      <th>TagCount</th>\n",
       "      <th>&lt;= 7 Days</th>\n",
       "      <th>8 - 31 Days</th>\n",
       "      <th>32 - 186 Days</th>\n",
       "      <th>&gt; 186 Days</th>\n",
       "      <th>total</th>\n",
       "      <th>&lt;= 7 Days (%)</th>\n",
       "      <th>8 - 31 Days (%)</th>\n",
       "      <th>32 - 186 Days (%)</th>\n",
       "      <th>&gt; 186 Days (%)</th>\n",
       "    </tr>\n",
       "  </thead>\n",
       "  <tbody>\n",
       "    <tr>\n",
       "      <th>0</th>\n",
       "      <td>203340.0</td>\n",
       "      <td>4.0</td>\n",
       "      <td>0.0</td>\n",
       "      <td>5.0</td>\n",
       "      <td>2.0</td>\n",
       "      <td>1</td>\n",
       "      <td>1</td>\n",
       "      <td>0</td>\n",
       "      <td>1</td>\n",
       "      <td>1</td>\n",
       "      <td>3</td>\n",
       "      <td>0.000810</td>\n",
       "      <td>0.0</td>\n",
       "      <td>0.00081</td>\n",
       "      <td>0.00081</td>\n",
       "    </tr>\n",
       "    <tr>\n",
       "      <th>1</th>\n",
       "      <td>203520.0</td>\n",
       "      <td>2.0</td>\n",
       "      <td>0.0</td>\n",
       "      <td>0.0</td>\n",
       "      <td>0.0</td>\n",
       "      <td>3</td>\n",
       "      <td>1</td>\n",
       "      <td>0</td>\n",
       "      <td>0</td>\n",
       "      <td>0</td>\n",
       "      <td>1</td>\n",
       "      <td>0.000327</td>\n",
       "      <td>0.0</td>\n",
       "      <td>0.00000</td>\n",
       "      <td>0.00000</td>\n",
       "    </tr>\n",
       "    <tr>\n",
       "      <th>2</th>\n",
       "      <td>203590.0</td>\n",
       "      <td>2.0</td>\n",
       "      <td>0.0</td>\n",
       "      <td>0.0</td>\n",
       "      <td>0.0</td>\n",
       "      <td>2</td>\n",
       "      <td>1</td>\n",
       "      <td>0</td>\n",
       "      <td>0</td>\n",
       "      <td>0</td>\n",
       "      <td>1</td>\n",
       "      <td>0.000367</td>\n",
       "      <td>0.0</td>\n",
       "      <td>0.00000</td>\n",
       "      <td>0.00000</td>\n",
       "    </tr>\n",
       "    <tr>\n",
       "      <th>3</th>\n",
       "      <td>203620.0</td>\n",
       "      <td>3.0</td>\n",
       "      <td>0.0</td>\n",
       "      <td>0.0</td>\n",
       "      <td>0.0</td>\n",
       "      <td>2</td>\n",
       "      <td>1</td>\n",
       "      <td>0</td>\n",
       "      <td>0</td>\n",
       "      <td>0</td>\n",
       "      <td>1</td>\n",
       "      <td>0.000367</td>\n",
       "      <td>0.0</td>\n",
       "      <td>0.00000</td>\n",
       "      <td>0.00000</td>\n",
       "    </tr>\n",
       "    <tr>\n",
       "      <th>4</th>\n",
       "      <td>203780.0</td>\n",
       "      <td>3.0</td>\n",
       "      <td>0.0</td>\n",
       "      <td>0.0</td>\n",
       "      <td>0.0</td>\n",
       "      <td>2</td>\n",
       "      <td>1</td>\n",
       "      <td>0</td>\n",
       "      <td>0</td>\n",
       "      <td>0</td>\n",
       "      <td>1</td>\n",
       "      <td>0.000367</td>\n",
       "      <td>0.0</td>\n",
       "      <td>0.00000</td>\n",
       "      <td>0.00000</td>\n",
       "    </tr>\n",
       "  </tbody>\n",
       "</table>\n",
       "</div>"
      ],
      "text/plain": [
       "   QuestionId  FirstWeekAnsCount  FirstMonthAnsCount  SixMonthsAnsCount  \\\n",
       "0    203340.0                4.0                 0.0                5.0   \n",
       "1    203520.0                2.0                 0.0                0.0   \n",
       "2    203590.0                2.0                 0.0                0.0   \n",
       "3    203620.0                3.0                 0.0                0.0   \n",
       "4    203780.0                3.0                 0.0                0.0   \n",
       "\n",
       "   MoreMonthsAnsCount  TagCount  <= 7 Days  8 - 31 Days  32 - 186 Days  \\\n",
       "0                 2.0         1          1            0              1   \n",
       "1                 0.0         3          1            0              0   \n",
       "2                 0.0         2          1            0              0   \n",
       "3                 0.0         2          1            0              0   \n",
       "4                 0.0         2          1            0              0   \n",
       "\n",
       "   > 186 Days  total  <= 7 Days (%)  8 - 31 Days (%)  32 - 186 Days (%)  \\\n",
       "0           1      3       0.000810              0.0            0.00081   \n",
       "1           0      1       0.000327              0.0            0.00000   \n",
       "2           0      1       0.000367              0.0            0.00000   \n",
       "3           0      1       0.000367              0.0            0.00000   \n",
       "4           0      1       0.000367              0.0            0.00000   \n",
       "\n",
       "   > 186 Days (%)  \n",
       "0         0.00081  \n",
       "1         0.00000  \n",
       "2         0.00000  \n",
       "3         0.00000  \n",
       "4         0.00000  "
      ]
     },
     "execution_count": 113,
     "metadata": {},
     "output_type": "execute_result"
    }
   ],
   "source": [
    "ansCount.head()"
   ]
  },
  {
   "cell_type": "code",
   "execution_count": 114,
   "metadata": {
    "collapsed": false
   },
   "outputs": [
    {
     "data": {
      "text/html": [
       "\n",
       "    <div class=\"bk-root\">\n",
       "        <a href=\"http://bokeh.pydata.org\" target=\"_blank\" class=\"bk-logo bk-logo-small bk-logo-notebook\"></a>\n",
       "        <span id=\"3908b68b-1cff-4b9d-9e82-aca73e7f8f43\">Loading BokehJS ...</span>\n",
       "    </div>"
      ]
     },
     "metadata": {},
     "output_type": "display_data"
    },
    {
     "data": {
      "application/javascript": [
       "\n",
       "(function(global) {\n",
       "  function now() {\n",
       "    return new Date();\n",
       "  }\n",
       "\n",
       "  var force = \"1\";\n",
       "\n",
       "  if (typeof (window._bokeh_onload_callbacks) === \"undefined\" || force !== \"\") {\n",
       "    window._bokeh_onload_callbacks = [];\n",
       "    window._bokeh_is_loading = undefined;\n",
       "  }\n",
       "\n",
       "\n",
       "  \n",
       "  if (typeof (window._bokeh_timeout) === \"undefined\" || force !== \"\") {\n",
       "    window._bokeh_timeout = Date.now() + 5000;\n",
       "    window._bokeh_failed_load = false;\n",
       "  }\n",
       "\n",
       "  var NB_LOAD_WARNING = {'data': {'text/html':\n",
       "     \"<div style='background-color: #fdd'>\\n\"+\n",
       "     \"<p>\\n\"+\n",
       "     \"BokehJS does not appear to have successfully loaded. If loading BokehJS from CDN, this \\n\"+\n",
       "     \"may be due to a slow or bad network connection. Possible fixes:\\n\"+\n",
       "     \"</p>\\n\"+\n",
       "     \"<ul>\\n\"+\n",
       "     \"<li>re-rerun `output_notebook()` to attempt to load from CDN again, or</li>\\n\"+\n",
       "     \"<li>use INLINE resources instead, as so:</li>\\n\"+\n",
       "     \"</ul>\\n\"+\n",
       "     \"<code>\\n\"+\n",
       "     \"from bokeh.resources import INLINE\\n\"+\n",
       "     \"output_notebook(resources=INLINE)\\n\"+\n",
       "     \"</code>\\n\"+\n",
       "     \"</div>\"}};\n",
       "\n",
       "  function display_loaded() {\n",
       "    if (window.Bokeh !== undefined) {\n",
       "      Bokeh.$(\"#3908b68b-1cff-4b9d-9e82-aca73e7f8f43\").text(\"BokehJS successfully loaded.\");\n",
       "    } else if (Date.now() < window._bokeh_timeout) {\n",
       "      setTimeout(display_loaded, 100)\n",
       "    }\n",
       "  }\n",
       "\n",
       "  function run_callbacks() {\n",
       "    window._bokeh_onload_callbacks.forEach(function(callback) { callback() });\n",
       "    delete window._bokeh_onload_callbacks\n",
       "    console.info(\"Bokeh: all callbacks have finished\");\n",
       "  }\n",
       "\n",
       "  function load_libs(js_urls, callback) {\n",
       "    window._bokeh_onload_callbacks.push(callback);\n",
       "    if (window._bokeh_is_loading > 0) {\n",
       "      console.log(\"Bokeh: BokehJS is being loaded, scheduling callback at\", now());\n",
       "      return null;\n",
       "    }\n",
       "    if (js_urls == null || js_urls.length === 0) {\n",
       "      run_callbacks();\n",
       "      return null;\n",
       "    }\n",
       "    console.log(\"Bokeh: BokehJS not loaded, scheduling load and callback at\", now());\n",
       "    window._bokeh_is_loading = js_urls.length;\n",
       "    for (var i = 0; i < js_urls.length; i++) {\n",
       "      var url = js_urls[i];\n",
       "      var s = document.createElement('script');\n",
       "      s.src = url;\n",
       "      s.async = false;\n",
       "      s.onreadystatechange = s.onload = function() {\n",
       "        window._bokeh_is_loading--;\n",
       "        if (window._bokeh_is_loading === 0) {\n",
       "          console.log(\"Bokeh: all BokehJS libraries loaded\");\n",
       "          run_callbacks()\n",
       "        }\n",
       "      };\n",
       "      s.onerror = function() {\n",
       "        console.warn(\"failed to load library \" + url);\n",
       "      };\n",
       "      console.log(\"Bokeh: injecting script tag for BokehJS library: \", url);\n",
       "      document.getElementsByTagName(\"head\")[0].appendChild(s);\n",
       "    }\n",
       "  };var element = document.getElementById(\"3908b68b-1cff-4b9d-9e82-aca73e7f8f43\");\n",
       "  if (element == null) {\n",
       "    console.log(\"Bokeh: ERROR: autoload.js configured with elementid '3908b68b-1cff-4b9d-9e82-aca73e7f8f43' but no matching script tag was found. \")\n",
       "    return false;\n",
       "  }\n",
       "\n",
       "  var js_urls = ['https://cdn.pydata.org/bokeh/release/bokeh-0.12.2.min.js', 'https://cdn.pydata.org/bokeh/release/bokeh-widgets-0.12.2.min.js', 'https://cdn.pydata.org/bokeh/release/bokeh-compiler-0.12.2.min.js'];\n",
       "\n",
       "  var inline_js = [\n",
       "    function(Bokeh) {\n",
       "      Bokeh.set_log_level(\"info\");\n",
       "    },\n",
       "    \n",
       "    function(Bokeh) {\n",
       "      \n",
       "      Bokeh.$(\"#3908b68b-1cff-4b9d-9e82-aca73e7f8f43\").text(\"BokehJS is loading...\");\n",
       "    },\n",
       "    function(Bokeh) {\n",
       "      console.log(\"Bokeh: injecting CSS: https://cdn.pydata.org/bokeh/release/bokeh-0.12.2.min.css\");\n",
       "      Bokeh.embed.inject_css(\"https://cdn.pydata.org/bokeh/release/bokeh-0.12.2.min.css\");\n",
       "      console.log(\"Bokeh: injecting CSS: https://cdn.pydata.org/bokeh/release/bokeh-widgets-0.12.2.min.css\");\n",
       "      Bokeh.embed.inject_css(\"https://cdn.pydata.org/bokeh/release/bokeh-widgets-0.12.2.min.css\");\n",
       "    }\n",
       "  ];\n",
       "\n",
       "  function run_inline_js() {\n",
       "    \n",
       "    if ((window.Bokeh !== undefined) || (force === \"1\")) {\n",
       "      for (var i = 0; i < inline_js.length; i++) {\n",
       "        inline_js[i](window.Bokeh);\n",
       "      }if (force === \"1\") {\n",
       "        display_loaded();\n",
       "      }} else if (Date.now() < window._bokeh_timeout) {\n",
       "      setTimeout(run_inline_js, 100);\n",
       "    } else if (!window._bokeh_failed_load) {\n",
       "      console.log(\"Bokeh: BokehJS failed to load within specified timeout.\");\n",
       "      window._bokeh_failed_load = true;\n",
       "    } else if (!force) {\n",
       "      var cell = $(\"#3908b68b-1cff-4b9d-9e82-aca73e7f8f43\").parents('.cell').data().cell;\n",
       "      cell.output_area.append_execute_result(NB_LOAD_WARNING)\n",
       "    }\n",
       "\n",
       "  }\n",
       "\n",
       "  if (window._bokeh_is_loading === 0) {\n",
       "    console.log(\"Bokeh: BokehJS loaded, going straight to plotting\");\n",
       "    run_inline_js();\n",
       "  } else {\n",
       "    load_libs(js_urls, function() {\n",
       "      console.log(\"Bokeh: BokehJS plotting callback run at\", now());\n",
       "      run_inline_js();\n",
       "    });\n",
       "  }\n",
       "}(this));"
      ]
     },
     "metadata": {},
     "output_type": "display_data"
    },
    {
     "data": {
      "text/html": [
       "\n",
       "\n",
       "    <div class=\"bk-root\">\n",
       "        <div class=\"plotdiv\" id=\"34dd1404-9850-4582-834c-d1b7180faf4b\"></div>\n",
       "    </div>\n",
       "<script type=\"text/javascript\">\n",
       "  \n",
       "  (function(global) {\n",
       "    function now() {\n",
       "      return new Date();\n",
       "    }\n",
       "  \n",
       "    var force = \"\";\n",
       "  \n",
       "    if (typeof (window._bokeh_onload_callbacks) === \"undefined\" || force !== \"\") {\n",
       "      window._bokeh_onload_callbacks = [];\n",
       "      window._bokeh_is_loading = undefined;\n",
       "    }\n",
       "  \n",
       "  \n",
       "    \n",
       "    if (typeof (window._bokeh_timeout) === \"undefined\" || force !== \"\") {\n",
       "      window._bokeh_timeout = Date.now() + 0;\n",
       "      window._bokeh_failed_load = false;\n",
       "    }\n",
       "  \n",
       "    var NB_LOAD_WARNING = {'data': {'text/html':\n",
       "       \"<div style='background-color: #fdd'>\\n\"+\n",
       "       \"<p>\\n\"+\n",
       "       \"BokehJS does not appear to have successfully loaded. If loading BokehJS from CDN, this \\n\"+\n",
       "       \"may be due to a slow or bad network connection. Possible fixes:\\n\"+\n",
       "       \"</p>\\n\"+\n",
       "       \"<ul>\\n\"+\n",
       "       \"<li>re-rerun `output_notebook()` to attempt to load from CDN again, or</li>\\n\"+\n",
       "       \"<li>use INLINE resources instead, as so:</li>\\n\"+\n",
       "       \"</ul>\\n\"+\n",
       "       \"<code>\\n\"+\n",
       "       \"from bokeh.resources import INLINE\\n\"+\n",
       "       \"output_notebook(resources=INLINE)\\n\"+\n",
       "       \"</code>\\n\"+\n",
       "       \"</div>\"}};\n",
       "  \n",
       "    function display_loaded() {\n",
       "      if (window.Bokeh !== undefined) {\n",
       "        Bokeh.$(\"#34dd1404-9850-4582-834c-d1b7180faf4b\").text(\"BokehJS successfully loaded.\");\n",
       "      } else if (Date.now() < window._bokeh_timeout) {\n",
       "        setTimeout(display_loaded, 100)\n",
       "      }\n",
       "    }\n",
       "  \n",
       "    function run_callbacks() {\n",
       "      window._bokeh_onload_callbacks.forEach(function(callback) { callback() });\n",
       "      delete window._bokeh_onload_callbacks\n",
       "      console.info(\"Bokeh: all callbacks have finished\");\n",
       "    }\n",
       "  \n",
       "    function load_libs(js_urls, callback) {\n",
       "      window._bokeh_onload_callbacks.push(callback);\n",
       "      if (window._bokeh_is_loading > 0) {\n",
       "        console.log(\"Bokeh: BokehJS is being loaded, scheduling callback at\", now());\n",
       "        return null;\n",
       "      }\n",
       "      if (js_urls == null || js_urls.length === 0) {\n",
       "        run_callbacks();\n",
       "        return null;\n",
       "      }\n",
       "      console.log(\"Bokeh: BokehJS not loaded, scheduling load and callback at\", now());\n",
       "      window._bokeh_is_loading = js_urls.length;\n",
       "      for (var i = 0; i < js_urls.length; i++) {\n",
       "        var url = js_urls[i];\n",
       "        var s = document.createElement('script');\n",
       "        s.src = url;\n",
       "        s.async = false;\n",
       "        s.onreadystatechange = s.onload = function() {\n",
       "          window._bokeh_is_loading--;\n",
       "          if (window._bokeh_is_loading === 0) {\n",
       "            console.log(\"Bokeh: all BokehJS libraries loaded\");\n",
       "            run_callbacks()\n",
       "          }\n",
       "        };\n",
       "        s.onerror = function() {\n",
       "          console.warn(\"failed to load library \" + url);\n",
       "        };\n",
       "        console.log(\"Bokeh: injecting script tag for BokehJS library: \", url);\n",
       "        document.getElementsByTagName(\"head\")[0].appendChild(s);\n",
       "      }\n",
       "    };var element = document.getElementById(\"34dd1404-9850-4582-834c-d1b7180faf4b\");\n",
       "    if (element == null) {\n",
       "      console.log(\"Bokeh: ERROR: autoload.js configured with elementid '34dd1404-9850-4582-834c-d1b7180faf4b' but no matching script tag was found. \")\n",
       "      return false;\n",
       "    }\n",
       "  \n",
       "    var js_urls = [];\n",
       "  \n",
       "    var inline_js = [\n",
       "      function(Bokeh) {\n",
       "        Bokeh.$(function() {\n",
       "            var docs_json = {\"1c4c75d5-3ca8-4c48-8cc2-cde0aa55758a\":{\"roots\":{\"references\":[{\"attributes\":{},\"id\":\"4d57b7f1-490b-4964-aa23-f9057137868e\",\"type\":\"ToolEvents\"},{\"attributes\":{\"callback\":null,\"column_names\":[\"height\",\"fill_alpha\",\"width\",\"color\",\"line_color\",\"line_alpha\",\"y\",\"x\",\"label\"],\"data\":{\"TagCount\":[5],\"anscount\":[\"8 - 31 Days (%)\"],\"chart_index\":[{\"TagCount\":5,\"anscount\":\"8 - 31 Days (%)\"}],\"color\":[\"DarkSalmon\"],\"fill_alpha\":[0.8],\"height\":[5.750549110367049],\"label\":[{\"TagCount\":5,\"anscount\":\"8 - 31 Days (%)\"}],\"line_alpha\":[1.0],\"line_color\":[\"white\"],\"width\":[0.2],\"x\":[\"5:0.4\"],\"y\":[2.8752745551835246]}},\"id\":\"b60a1147-022e-4776-9f8e-2cd7670f3987\",\"type\":\"ColumnDataSource\"},{\"attributes\":{\"callback\":null,\"factors\":[\"1\",\"2\",\"3\",\"4\",\"5\"]},\"id\":\"2411e5be-9a18-4939-bc4d-8dc769dd644e\",\"type\":\"FactorRange\"},{\"attributes\":{\"plot\":{\"id\":\"5e435c80-0fe5-4357-8c23-07c86f0ce870\",\"subtype\":\"Chart\",\"type\":\"Plot\"}},\"id\":\"91140f22-77bd-46f2-a8e1-a712c18eaa9b\",\"type\":\"PanTool\"},{\"attributes\":{\"data_source\":{\"id\":\"9bce2709-51fe-4d05-84c1-3925334115b2\",\"type\":\"ColumnDataSource\"},\"glyph\":{\"id\":\"5a9e6904-8f4c-498d-8ba6-5230c71d1abd\",\"type\":\"Rect\"},\"hover_glyph\":null,\"nonselection_glyph\":null,\"selection_glyph\":null},\"id\":\"0a1ebd1a-e5e7-4b77-bf2d-19d362eaa693\",\"type\":\"GlyphRenderer\"},{\"attributes\":{\"fill_alpha\":{\"field\":\"fill_alpha\"},\"fill_color\":{\"field\":\"color\"},\"height\":{\"field\":\"height\",\"units\":\"data\"},\"line_color\":{\"field\":\"line_color\"},\"width\":{\"field\":\"width\",\"units\":\"data\"},\"x\":{\"field\":\"x\"},\"y\":{\"field\":\"y\"}},\"id\":\"ef2fdfd4-5fe7-410b-ac9b-10a0f2573190\",\"type\":\"Rect\"},{\"attributes\":{\"fill_alpha\":{\"field\":\"fill_alpha\"},\"fill_color\":{\"field\":\"color\"},\"height\":{\"field\":\"height\",\"units\":\"data\"},\"line_color\":{\"field\":\"line_color\"},\"width\":{\"field\":\"width\",\"units\":\"data\"},\"x\":{\"field\":\"x\"},\"y\":{\"field\":\"y\"}},\"id\":\"cda23f99-c7a1-47b4-912f-cdc9960a8f01\",\"type\":\"Rect\"},{\"attributes\":{\"fill_alpha\":{\"field\":\"fill_alpha\"},\"fill_color\":{\"field\":\"color\"},\"height\":{\"field\":\"height\",\"units\":\"data\"},\"line_color\":{\"field\":\"line_color\"},\"width\":{\"field\":\"width\",\"units\":\"data\"},\"x\":{\"field\":\"x\"},\"y\":{\"field\":\"y\"}},\"id\":\"f6ab6871-8ebf-43e2-b53e-3b1b75f5c8d2\",\"type\":\"Rect\"},{\"attributes\":{\"data_source\":{\"id\":\"d4987fed-5e8f-459c-9436-a3ac39478dfc\",\"type\":\"ColumnDataSource\"},\"glyph\":{\"id\":\"c9097e2a-82ad-4b0c-8631-3fc348391507\",\"type\":\"Rect\"},\"hover_glyph\":null,\"nonselection_glyph\":null,\"selection_glyph\":null},\"id\":\"34788e87-4413-440f-b462-438b0042ef60\",\"type\":\"GlyphRenderer\"},{\"attributes\":{\"fill_alpha\":{\"field\":\"fill_alpha\"},\"fill_color\":{\"field\":\"color\"},\"height\":{\"field\":\"height\",\"units\":\"data\"},\"line_color\":{\"field\":\"line_color\"},\"width\":{\"field\":\"width\",\"units\":\"data\"},\"x\":{\"field\":\"x\"},\"y\":{\"field\":\"y\"}},\"id\":\"0d82a765-b5e7-4923-b378-effef2622a1d\",\"type\":\"Rect\"},{\"attributes\":{\"data_source\":{\"id\":\"41fec97d-168f-4014-a9a6-975b03bcfe62\",\"type\":\"ColumnDataSource\"},\"glyph\":{\"id\":\"216ccecf-fba9-4198-8586-1a31819acc94\",\"type\":\"Rect\"},\"hover_glyph\":null,\"nonselection_glyph\":null,\"selection_glyph\":null},\"id\":\"025719ae-89ad-4dc2-9c6f-bb59b3346eb3\",\"type\":\"GlyphRenderer\"},{\"attributes\":{\"data_source\":{\"id\":\"32ca3f2b-2c8d-44bf-9e4e-d4bf6c6f9570\",\"type\":\"ColumnDataSource\"},\"glyph\":{\"id\":\"55e18173-c6c0-48c5-94aa-f1e1aec08c64\",\"type\":\"Rect\"},\"hover_glyph\":null,\"nonselection_glyph\":null,\"selection_glyph\":null},\"id\":\"58d95894-f05e-4961-a648-2c292291cd8f\",\"type\":\"GlyphRenderer\"},{\"attributes\":{\"data_source\":{\"id\":\"fa916623-a678-4fa3-aa9d-41219f6fe343\",\"type\":\"ColumnDataSource\"},\"glyph\":{\"id\":\"ef2fdfd4-5fe7-410b-ac9b-10a0f2573190\",\"type\":\"Rect\"},\"hover_glyph\":null,\"nonselection_glyph\":null,\"selection_glyph\":null},\"id\":\"0adcc128-65b0-400b-b363-506765dbc841\",\"type\":\"GlyphRenderer\"},{\"attributes\":{\"data_source\":{\"id\":\"76ad7b5f-5dae-416a-842b-126f350aa087\",\"type\":\"ColumnDataSource\"},\"glyph\":{\"id\":\"4999ebdd-ab2a-48be-8578-3d155c441973\",\"type\":\"Rect\"},\"hover_glyph\":null,\"nonselection_glyph\":null,\"selection_glyph\":null},\"id\":\"a14cc0c9-06fc-4936-98fd-52fbb22d454c\",\"type\":\"GlyphRenderer\"},{\"attributes\":{\"below\":[{\"id\":\"7eeaf3d8-dbd2-4097-82c0-9acddd26f1b5\",\"type\":\"CategoricalAxis\"}],\"left\":[{\"id\":\"cccfc84b-e4a6-4d37-b772-ef1551d22d6d\",\"type\":\"LinearAxis\"}],\"renderers\":[{\"id\":\"657e3297-2c76-44b5-a81e-a560f043d84f\",\"type\":\"BoxAnnotation\"},{\"id\":\"3e189ec1-1ea2-455b-91a7-a3c1a0473fab\",\"type\":\"GlyphRenderer\"},{\"id\":\"a868d857-71b1-4701-b0ed-6309cbc0c463\",\"type\":\"GlyphRenderer\"},{\"id\":\"a14cc0c9-06fc-4936-98fd-52fbb22d454c\",\"type\":\"GlyphRenderer\"},{\"id\":\"568a0263-df61-4d51-bf42-cfcf24026d59\",\"type\":\"GlyphRenderer\"},{\"id\":\"9640e7e5-0f88-4f69-a740-9f4d1bb42b64\",\"type\":\"GlyphRenderer\"},{\"id\":\"025719ae-89ad-4dc2-9c6f-bb59b3346eb3\",\"type\":\"GlyphRenderer\"},{\"id\":\"ec157a2f-78ba-43ea-8fb7-c5df9c745bf2\",\"type\":\"GlyphRenderer\"},{\"id\":\"604240d0-0a58-4699-aeb8-44826d337efc\",\"type\":\"GlyphRenderer\"},{\"id\":\"0a1ebd1a-e5e7-4b77-bf2d-19d362eaa693\",\"type\":\"GlyphRenderer\"},{\"id\":\"94352168-d2bb-429d-9025-0ab04825cafb\",\"type\":\"GlyphRenderer\"},{\"id\":\"421b8ec7-c794-4ec3-9017-200dcd225725\",\"type\":\"GlyphRenderer\"},{\"id\":\"5876043f-9c8f-410a-ae00-934b6da8b6ce\",\"type\":\"GlyphRenderer\"},{\"id\":\"8c7914f0-d9a9-4cd8-93e3-da7258b94f65\",\"type\":\"GlyphRenderer\"},{\"id\":\"34788e87-4413-440f-b462-438b0042ef60\",\"type\":\"GlyphRenderer\"},{\"id\":\"214336cb-9410-4bcd-a8b3-4b0a718a5afa\",\"type\":\"GlyphRenderer\"},{\"id\":\"9173973d-8794-4aaa-bc27-a5e244a28740\",\"type\":\"GlyphRenderer\"},{\"id\":\"0adcc128-65b0-400b-b363-506765dbc841\",\"type\":\"GlyphRenderer\"},{\"id\":\"58d95894-f05e-4961-a648-2c292291cd8f\",\"type\":\"GlyphRenderer\"},{\"id\":\"33dee32a-7103-481c-85b0-aca8013988f2\",\"type\":\"GlyphRenderer\"},{\"id\":\"10e31497-7f24-40ad-8c1c-a91bf8befa2b\",\"type\":\"GlyphRenderer\"},{\"id\":\"ed03aa1e-7c9f-4451-8c8a-59d053e069e9\",\"type\":\"Legend\"},{\"id\":\"7eeaf3d8-dbd2-4097-82c0-9acddd26f1b5\",\"type\":\"CategoricalAxis\"},{\"id\":\"cccfc84b-e4a6-4d37-b772-ef1551d22d6d\",\"type\":\"LinearAxis\"},{\"id\":\"56096c67-0752-4fa6-ac72-66b9e438df56\",\"type\":\"Grid\"}],\"title\":{\"id\":\"6203884c-8fbb-4d50-b376-be874696bc39\",\"type\":\"Title\"},\"tool_events\":{\"id\":\"4d57b7f1-490b-4964-aa23-f9057137868e\",\"type\":\"ToolEvents\"},\"toolbar\":{\"id\":\"130c0f6b-e643-453e-ab77-1fc95b0a2906\",\"type\":\"Toolbar\"},\"x_mapper_type\":\"auto\",\"x_range\":{\"id\":\"2411e5be-9a18-4939-bc4d-8dc769dd644e\",\"type\":\"FactorRange\"},\"y_mapper_type\":\"auto\",\"y_range\":{\"id\":\"cc6ff134-e18c-4dfe-addd-7cf6c9bda1b4\",\"type\":\"Range1d\"}},\"id\":\"5e435c80-0fe5-4357-8c23-07c86f0ce870\",\"subtype\":\"Chart\",\"type\":\"Plot\"},{\"attributes\":{\"callback\":null,\"column_names\":[\"height\",\"fill_alpha\",\"width\",\"color\",\"line_color\",\"line_alpha\",\"y\",\"x\",\"label\"],\"data\":{\"TagCount\":[3],\"anscount\":[\"8 - 31 Days (%)\"],\"chart_index\":[{\"TagCount\":3,\"anscount\":\"8 - 31 Days (%)\"}],\"color\":[\"DarkSalmon\"],\"fill_alpha\":[0.8],\"height\":[4.282853885827089],\"label\":[{\"TagCount\":3,\"anscount\":\"8 - 31 Days (%)\"}],\"line_alpha\":[1.0],\"line_color\":[\"white\"],\"width\":[0.2],\"x\":[\"3:0.4\"],\"y\":[2.1414269429135446]}},\"id\":\"6c08af75-4334-40c0-ab1b-349252eba314\",\"type\":\"ColumnDataSource\"},{\"attributes\":{\"callback\":null,\"column_names\":[\"height\",\"fill_alpha\",\"width\",\"color\",\"line_color\",\"line_alpha\",\"y\",\"x\",\"label\"],\"data\":{\"TagCount\":[4],\"anscount\":[\"8 - 31 Days (%)\"],\"chart_index\":[{\"TagCount\":4,\"anscount\":\"8 - 31 Days (%)\"}],\"color\":[\"DarkSalmon\"],\"fill_alpha\":[0.8],\"height\":[4.826164459343768],\"label\":[{\"TagCount\":4,\"anscount\":\"8 - 31 Days (%)\"}],\"line_alpha\":[1.0],\"line_color\":[\"white\"],\"width\":[0.2],\"x\":[\"4:0.4\"],\"y\":[2.413082229671884]}},\"id\":\"9bce2709-51fe-4d05-84c1-3925334115b2\",\"type\":\"ColumnDataSource\"},{\"attributes\":{\"callback\":null,\"column_names\":[\"height\",\"fill_alpha\",\"width\",\"color\",\"line_color\",\"line_alpha\",\"y\",\"x\",\"label\"],\"data\":{\"TagCount\":[4],\"anscount\":[\"> 186 Days (%)\"],\"chart_index\":[{\"TagCount\":4,\"anscount\":\"> 186 Days (%)\"}],\"color\":[\"Gold\"],\"fill_alpha\":[0.8],\"height\":[10.356371132854685],\"label\":[{\"TagCount\":4,\"anscount\":\"> 186 Days (%)\"}],\"line_alpha\":[1.0],\"line_color\":[\"white\"],\"width\":[0.2],\"x\":[\"4:0.8\"],\"y\":[5.178185566427342]}},\"id\":\"78cc9d79-7115-4506-aaa1-ef7284245766\",\"type\":\"ColumnDataSource\"},{\"attributes\":{\"axis_label\":\"No. of Tags Used in Questions\",\"formatter\":{\"id\":\"8a5abb18-33ad-4598-9249-8e2da9d6c0de\",\"type\":\"CategoricalTickFormatter\"},\"major_label_orientation\":0.7853981633974483,\"plot\":{\"id\":\"5e435c80-0fe5-4357-8c23-07c86f0ce870\",\"subtype\":\"Chart\",\"type\":\"Plot\"},\"ticker\":{\"id\":\"f644bc16-c248-4d5c-8595-7058091bdefd\",\"type\":\"CategoricalTicker\"}},\"id\":\"7eeaf3d8-dbd2-4097-82c0-9acddd26f1b5\",\"type\":\"CategoricalAxis\"},{\"attributes\":{\"callback\":null,\"plot\":{\"id\":\"5e435c80-0fe5-4357-8c23-07c86f0ce870\",\"subtype\":\"Chart\",\"type\":\"Plot\"},\"tooltips\":[[\"No. of Tags Used\",\"@TagCount\"],[\"Percentage of Questions Answered\",\"@height{1.11}%\"]]},\"id\":\"84145e23-97a5-49af-b4aa-0219c65c45e8\",\"type\":\"HoverTool\"},{\"attributes\":{\"data_source\":{\"id\":\"e4bc7a6c-559f-4222-96e9-c48a2941810a\",\"type\":\"ColumnDataSource\"},\"glyph\":{\"id\":\"72e4cc57-8b94-4169-94ec-425f44354fa7\",\"type\":\"Rect\"},\"hover_glyph\":null,\"nonselection_glyph\":null,\"selection_glyph\":null},\"id\":\"3e189ec1-1ea2-455b-91a7-a3c1a0473fab\",\"type\":\"GlyphRenderer\"},{\"attributes\":{\"axis_label\":\"Percentage of Questions Answered within 1st Week/Month of Posting\",\"formatter\":{\"id\":\"41af535f-a907-4032-959a-3c030fd06e9c\",\"type\":\"BasicTickFormatter\"},\"plot\":{\"id\":\"5e435c80-0fe5-4357-8c23-07c86f0ce870\",\"subtype\":\"Chart\",\"type\":\"Plot\"},\"ticker\":{\"id\":\"aa460148-8dc5-44f8-b613-d0bc8e744471\",\"type\":\"BasicTicker\"}},\"id\":\"cccfc84b-e4a6-4d37-b772-ef1551d22d6d\",\"type\":\"LinearAxis\"},{\"attributes\":{\"callback\":null,\"column_names\":[\"height\",\"fill_alpha\",\"width\",\"color\",\"line_color\",\"line_alpha\",\"y\",\"x\",\"label\"],\"data\":{\"TagCount\":[1],\"anscount\":[\"32 - 186 Days (%)\"],\"chart_index\":[{\"TagCount\":1,\"anscount\":\"32 - 186 Days (%)\"}],\"color\":[\"Plum\"],\"fill_alpha\":[0.8],\"height\":[4.630881721822979],\"label\":[{\"TagCount\":1,\"anscount\":\"32 - 186 Days (%)\"}],\"line_alpha\":[1.0],\"line_color\":[\"white\"],\"width\":[0.2],\"x\":[\"1:0.6\"],\"y\":[2.3154408609114894]}},\"id\":\"4002ffaa-ae6f-4737-b60d-344bfd44c667\",\"type\":\"ColumnDataSource\"},{\"attributes\":{\"fill_alpha\":{\"field\":\"fill_alpha\"},\"fill_color\":{\"field\":\"color\"},\"height\":{\"field\":\"height\",\"units\":\"data\"},\"line_color\":{\"field\":\"line_color\"},\"width\":{\"field\":\"width\",\"units\":\"data\"},\"x\":{\"field\":\"x\"},\"y\":{\"field\":\"y\"}},\"id\":\"384df305-2b8a-4c65-b22c-befc3c33d0b6\",\"type\":\"Rect\"},{\"attributes\":{\"callback\":null,\"column_names\":[\"height\",\"fill_alpha\",\"width\",\"color\",\"line_color\",\"line_alpha\",\"y\",\"x\",\"label\"],\"data\":{\"TagCount\":[2],\"anscount\":[\"<= 7 Days (%)\"],\"chart_index\":[{\"TagCount\":2,\"anscount\":\"<= 7 Days (%)\"}],\"color\":[\"Turquoise\"],\"fill_alpha\":[0.8],\"height\":[93.58686752631311],\"label\":[{\"TagCount\":2,\"anscount\":\"<= 7 Days (%)\"}],\"line_alpha\":[1.0],\"line_color\":[\"white\"],\"width\":[0.2],\"x\":[\"2:0.2\"],\"y\":[46.79343376315656]}},\"id\":\"c42491e3-34d5-4b59-8d05-984909fef812\",\"type\":\"ColumnDataSource\"},{\"attributes\":{\"callback\":null,\"column_names\":[\"height\",\"fill_alpha\",\"width\",\"color\",\"line_color\",\"line_alpha\",\"y\",\"x\",\"label\"],\"data\":{\"TagCount\":[3],\"anscount\":[\"> 186 Days (%)\"],\"chart_index\":[{\"TagCount\":3,\"anscount\":\"> 186 Days (%)\"}],\"color\":[\"Gold\"],\"fill_alpha\":[0.8],\"height\":[9.675617587398468],\"label\":[{\"TagCount\":3,\"anscount\":\"> 186 Days (%)\"}],\"line_alpha\":[1.0],\"line_color\":[\"white\"],\"width\":[0.2],\"x\":[\"3:0.8\"],\"y\":[4.837808793699234]}},\"id\":\"32ca3f2b-2c8d-44bf-9e4e-d4bf6c6f9570\",\"type\":\"ColumnDataSource\"},{\"attributes\":{\"callback\":null,\"column_names\":[\"height\",\"fill_alpha\",\"width\",\"color\",\"line_color\",\"line_alpha\",\"y\",\"x\",\"label\"],\"data\":{\"TagCount\":[5],\"anscount\":[\"32 - 186 Days (%)\"],\"chart_index\":[{\"TagCount\":5,\"anscount\":\"32 - 186 Days (%)\"}],\"color\":[\"Plum\"],\"fill_alpha\":[0.8],\"height\":[7.038931556524218],\"label\":[{\"TagCount\":5,\"anscount\":\"32 - 186 Days (%)\"}],\"line_alpha\":[1.0],\"line_color\":[\"white\"],\"width\":[0.2],\"x\":[\"5:0.6\"],\"y\":[3.519465778262109]}},\"id\":\"833c659a-d0da-415b-87e0-5ca511b37414\",\"type\":\"ColumnDataSource\"},{\"attributes\":{\"data_source\":{\"id\":\"c42491e3-34d5-4b59-8d05-984909fef812\",\"type\":\"ColumnDataSource\"},\"glyph\":{\"id\":\"139f0418-6b4a-4f6b-a83a-949d7af7f766\",\"type\":\"Rect\"},\"hover_glyph\":null,\"nonselection_glyph\":null,\"selection_glyph\":null},\"id\":\"a868d857-71b1-4701-b0ed-6309cbc0c463\",\"type\":\"GlyphRenderer\"},{\"attributes\":{\"plot\":{\"id\":\"5e435c80-0fe5-4357-8c23-07c86f0ce870\",\"subtype\":\"Chart\",\"type\":\"Plot\"}},\"id\":\"1ecc0601-1204-49c4-b537-b4ff8ac90d3b\",\"type\":\"HelpTool\"},{\"attributes\":{\"callback\":null,\"column_names\":[\"height\",\"fill_alpha\",\"width\",\"color\",\"line_color\",\"line_alpha\",\"y\",\"x\",\"label\"],\"data\":{\"TagCount\":[5],\"anscount\":[\"> 186 Days (%)\"],\"chart_index\":[{\"TagCount\":5,\"anscount\":\"> 186 Days (%)\"}],\"color\":[\"Gold\"],\"fill_alpha\":[0.8],\"height\":[10.2222975662253],\"label\":[{\"TagCount\":5,\"anscount\":\"> 186 Days (%)\"}],\"line_alpha\":[1.0],\"line_color\":[\"white\"],\"width\":[0.2],\"x\":[\"5:0.8\"],\"y\":[5.11114878311265]}},\"id\":\"85339a44-ef27-4e68-b609-8b5ef15f7a81\",\"type\":\"ColumnDataSource\"},{\"attributes\":{\"fill_alpha\":{\"field\":\"fill_alpha\"},\"fill_color\":{\"field\":\"color\"},\"height\":{\"field\":\"height\",\"units\":\"data\"},\"line_color\":{\"field\":\"line_color\"},\"width\":{\"field\":\"width\",\"units\":\"data\"},\"x\":{\"field\":\"x\"},\"y\":{\"field\":\"y\"}},\"id\":\"4999ebdd-ab2a-48be-8578-3d155c441973\",\"type\":\"Rect\"},{\"attributes\":{\"callback\":null,\"end\":98.43202668876354},\"id\":\"cc6ff134-e18c-4dfe-addd-7cf6c9bda1b4\",\"type\":\"Range1d\"},{\"attributes\":{\"plot\":{\"id\":\"5e435c80-0fe5-4357-8c23-07c86f0ce870\",\"subtype\":\"Chart\",\"type\":\"Plot\"}},\"id\":\"3120885e-a46d-4fc9-b23f-5f21002b3f78\",\"type\":\"WheelZoomTool\"},{\"attributes\":{\"data_source\":{\"id\":\"4002ffaa-ae6f-4737-b60d-344bfd44c667\",\"type\":\"ColumnDataSource\"},\"glyph\":{\"id\":\"f6ab6871-8ebf-43e2-b53e-3b1b75f5c8d2\",\"type\":\"Rect\"},\"hover_glyph\":null,\"nonselection_glyph\":null,\"selection_glyph\":null},\"id\":\"421b8ec7-c794-4ec3-9017-200dcd225725\",\"type\":\"GlyphRenderer\"},{\"attributes\":{\"callback\":null,\"column_names\":[\"height\",\"fill_alpha\",\"width\",\"color\",\"line_color\",\"line_alpha\",\"y\",\"x\",\"label\"],\"data\":{\"TagCount\":[2],\"anscount\":[\"> 186 Days (%)\"],\"chart_index\":[{\"TagCount\":2,\"anscount\":\"> 186 Days (%)\"}],\"color\":[\"Gold\"],\"fill_alpha\":[0.8],\"height\":[9.25970120758093],\"label\":[{\"TagCount\":2,\"anscount\":\"> 186 Days (%)\"}],\"line_alpha\":[1.0],\"line_color\":[\"white\"],\"width\":[0.2],\"x\":[\"2:0.8\"],\"y\":[4.629850603790465]}},\"id\":\"fa916623-a678-4fa3-aa9d-41219f6fe343\",\"type\":\"ColumnDataSource\"},{\"attributes\":{\"fill_alpha\":{\"field\":\"fill_alpha\"},\"fill_color\":{\"field\":\"color\"},\"height\":{\"field\":\"height\",\"units\":\"data\"},\"line_color\":{\"field\":\"line_color\"},\"width\":{\"field\":\"width\",\"units\":\"data\"},\"x\":{\"field\":\"x\"},\"y\":{\"field\":\"y\"}},\"id\":\"216ccecf-fba9-4198-8586-1a31819acc94\",\"type\":\"Rect\"},{\"attributes\":{\"callback\":null,\"column_names\":[\"height\",\"fill_alpha\",\"width\",\"color\",\"line_color\",\"line_alpha\",\"y\",\"x\",\"label\"],\"data\":{\"TagCount\":[1],\"anscount\":[\"8 - 31 Days (%)\"],\"chart_index\":[{\"TagCount\":1,\"anscount\":\"8 - 31 Days (%)\"}],\"color\":[\"DarkSalmon\"],\"fill_alpha\":[0.8],\"height\":[3.241374284395656],\"label\":[{\"TagCount\":1,\"anscount\":\"8 - 31 Days (%)\"}],\"line_alpha\":[1.0],\"line_color\":[\"white\"],\"width\":[0.2],\"x\":[\"1:0.4\"],\"y\":[1.620687142197828]}},\"id\":\"41fec97d-168f-4014-a9a6-975b03bcfe62\",\"type\":\"ColumnDataSource\"},{\"attributes\":{\"callback\":null,\"column_names\":[\"height\",\"fill_alpha\",\"width\",\"color\",\"line_color\",\"line_alpha\",\"y\",\"x\",\"label\"],\"data\":{\"TagCount\":[2],\"anscount\":[\"32 - 186 Days (%)\"],\"chart_index\":[{\"TagCount\":2,\"anscount\":\"32 - 186 Days (%)\"}],\"color\":[\"Plum\"],\"fill_alpha\":[0.8],\"height\":[5.084758208714462],\"label\":[{\"TagCount\":2,\"anscount\":\"32 - 186 Days (%)\"}],\"line_alpha\":[1.0],\"line_color\":[\"white\"],\"width\":[0.2],\"x\":[\"2:0.6\"],\"y\":[2.542379104357231]}},\"id\":\"c2e3789a-d503-4eb5-8e5d-6df638320fa2\",\"type\":\"ColumnDataSource\"},{\"attributes\":{\"fill_alpha\":{\"field\":\"fill_alpha\"},\"fill_color\":{\"field\":\"color\"},\"height\":{\"field\":\"height\",\"units\":\"data\"},\"line_color\":{\"field\":\"line_color\"},\"width\":{\"field\":\"width\",\"units\":\"data\"},\"x\":{\"field\":\"x\"},\"y\":{\"field\":\"y\"}},\"id\":\"55e18173-c6c0-48c5-94aa-f1e1aec08c64\",\"type\":\"Rect\"},{\"attributes\":{\"fill_alpha\":{\"field\":\"fill_alpha\"},\"fill_color\":{\"field\":\"color\"},\"height\":{\"field\":\"height\",\"units\":\"data\"},\"line_color\":{\"field\":\"line_color\"},\"width\":{\"field\":\"width\",\"units\":\"data\"},\"x\":{\"field\":\"x\"},\"y\":{\"field\":\"y\"}},\"id\":\"c9097e2a-82ad-4b0c-8631-3fc348391507\",\"type\":\"Rect\"},{\"attributes\":{\"callback\":null,\"column_names\":[\"height\",\"fill_alpha\",\"width\",\"color\",\"line_color\",\"line_alpha\",\"y\",\"x\",\"label\"],\"data\":{\"TagCount\":[2],\"anscount\":[\"8 - 31 Days (%)\"],\"chart_index\":[{\"TagCount\":2,\"anscount\":\"8 - 31 Days (%)\"}],\"color\":[\"DarkSalmon\"],\"fill_alpha\":[0.8],\"height\":[3.550041672326423],\"label\":[{\"TagCount\":2,\"anscount\":\"8 - 31 Days (%)\"}],\"line_alpha\":[1.0],\"line_color\":[\"white\"],\"width\":[0.2],\"x\":[\"2:0.4\"],\"y\":[1.7750208361632116]}},\"id\":\"ab5541f1-2d04-4ec4-ad75-e910262b67f6\",\"type\":\"ColumnDataSource\"},{\"attributes\":{\"active_drag\":\"auto\",\"active_scroll\":\"auto\",\"active_tap\":\"auto\",\"tools\":[{\"id\":\"91140f22-77bd-46f2-a8e1-a712c18eaa9b\",\"type\":\"PanTool\"},{\"id\":\"3120885e-a46d-4fc9-b23f-5f21002b3f78\",\"type\":\"WheelZoomTool\"},{\"id\":\"93375ab4-2fbd-48a9-8cd3-a4d273817ca0\",\"type\":\"BoxZoomTool\"},{\"id\":\"eb3108e2-736d-4600-93e9-a8f5d2a543b5\",\"type\":\"SaveTool\"},{\"id\":\"dcc357ee-21ec-42fa-9f70-6e58e87fcdbd\",\"type\":\"ResetTool\"},{\"id\":\"1ecc0601-1204-49c4-b537-b4ff8ac90d3b\",\"type\":\"HelpTool\"},{\"id\":\"84145e23-97a5-49af-b4aa-0219c65c45e8\",\"type\":\"HoverTool\"}]},\"id\":\"130c0f6b-e643-453e-ab77-1fc95b0a2906\",\"type\":\"Toolbar\"},{\"attributes\":{\"callback\":null,\"column_names\":[\"height\",\"fill_alpha\",\"width\",\"color\",\"line_color\",\"line_alpha\",\"y\",\"x\",\"label\"],\"data\":{\"TagCount\":[3],\"anscount\":[\"32 - 186 Days (%)\"],\"chart_index\":[{\"TagCount\":3,\"anscount\":\"32 - 186 Days (%)\"}],\"color\":[\"Plum\"],\"fill_alpha\":[0.8],\"height\":[5.695555461193305],\"label\":[{\"TagCount\":3,\"anscount\":\"32 - 186 Days (%)\"}],\"line_alpha\":[1.0],\"line_color\":[\"white\"],\"width\":[0.2],\"x\":[\"3:0.6\"],\"y\":[2.8477777305966523]}},\"id\":\"29ad27b7-1903-4f8f-9f21-0d33eefe1866\",\"type\":\"ColumnDataSource\"},{\"attributes\":{\"fill_alpha\":{\"field\":\"fill_alpha\"},\"fill_color\":{\"field\":\"color\"},\"height\":{\"field\":\"height\",\"units\":\"data\"},\"line_color\":{\"field\":\"line_color\"},\"width\":{\"field\":\"width\",\"units\":\"data\"},\"x\":{\"field\":\"x\"},\"y\":{\"field\":\"y\"}},\"id\":\"c7b26d20-4d01-44bc-b002-ca98378af8bf\",\"type\":\"Rect\"},{\"attributes\":{\"data_source\":{\"id\":\"29ad27b7-1903-4f8f-9f21-0d33eefe1866\",\"type\":\"ColumnDataSource\"},\"glyph\":{\"id\":\"30f242e7-9d24-4de3-a8d2-59c03e568c23\",\"type\":\"Rect\"},\"hover_glyph\":null,\"nonselection_glyph\":null,\"selection_glyph\":null},\"id\":\"8c7914f0-d9a9-4cd8-93e3-da7258b94f65\",\"type\":\"GlyphRenderer\"},{\"attributes\":{\"fill_alpha\":{\"field\":\"fill_alpha\"},\"fill_color\":{\"field\":\"color\"},\"height\":{\"field\":\"height\",\"units\":\"data\"},\"line_color\":{\"field\":\"line_color\"},\"width\":{\"field\":\"width\",\"units\":\"data\"},\"x\":{\"field\":\"x\"},\"y\":{\"field\":\"y\"}},\"id\":\"59bfbd3d-8c98-49d1-a815-5c60e17f73bb\",\"type\":\"Rect\"},{\"attributes\":{\"fill_alpha\":{\"field\":\"fill_alpha\"},\"fill_color\":{\"field\":\"color\"},\"height\":{\"field\":\"height\",\"units\":\"data\"},\"line_color\":{\"field\":\"line_color\"},\"width\":{\"field\":\"width\",\"units\":\"data\"},\"x\":{\"field\":\"x\"},\"y\":{\"field\":\"y\"}},\"id\":\"30f242e7-9d24-4de3-a8d2-59c03e568c23\",\"type\":\"Rect\"},{\"attributes\":{\"fill_alpha\":{\"field\":\"fill_alpha\"},\"fill_color\":{\"field\":\"color\"},\"height\":{\"field\":\"height\",\"units\":\"data\"},\"line_color\":{\"field\":\"line_color\"},\"width\":{\"field\":\"width\",\"units\":\"data\"},\"x\":{\"field\":\"x\"},\"y\":{\"field\":\"y\"}},\"id\":\"5a9e6904-8f4c-498d-8ba6-5230c71d1abd\",\"type\":\"Rect\"},{\"attributes\":{\"data_source\":{\"id\":\"6c08af75-4334-40c0-ab1b-349252eba314\",\"type\":\"ColumnDataSource\"},\"glyph\":{\"id\":\"0d82a765-b5e7-4923-b378-effef2622a1d\",\"type\":\"Rect\"},\"hover_glyph\":null,\"nonselection_glyph\":null,\"selection_glyph\":null},\"id\":\"604240d0-0a58-4699-aeb8-44826d337efc\",\"type\":\"GlyphRenderer\"},{\"attributes\":{\"legends\":[[\"<= 7 Days (%)\",[{\"id\":\"3e189ec1-1ea2-455b-91a7-a3c1a0473fab\",\"type\":\"GlyphRenderer\"}]],[\"8 - 31 Days (%)\",[{\"id\":\"025719ae-89ad-4dc2-9c6f-bb59b3346eb3\",\"type\":\"GlyphRenderer\"}]],[\"32 - 186 Days (%)\",[{\"id\":\"421b8ec7-c794-4ec3-9017-200dcd225725\",\"type\":\"GlyphRenderer\"}]],[\"> 186 Days (%)\",[{\"id\":\"9173973d-8794-4aaa-bc27-a5e244a28740\",\"type\":\"GlyphRenderer\"}]]],\"plot\":{\"id\":\"5e435c80-0fe5-4357-8c23-07c86f0ce870\",\"subtype\":\"Chart\",\"type\":\"Plot\"}},\"id\":\"ed03aa1e-7c9f-4451-8c8a-59d053e069e9\",\"type\":\"Legend\"},{\"attributes\":{\"fill_alpha\":{\"field\":\"fill_alpha\"},\"fill_color\":{\"field\":\"color\"},\"height\":{\"field\":\"height\",\"units\":\"data\"},\"line_color\":{\"field\":\"line_color\"},\"width\":{\"field\":\"width\",\"units\":\"data\"},\"x\":{\"field\":\"x\"},\"y\":{\"field\":\"y\"}},\"id\":\"cd5bcdf4-4cb7-43b0-8c7b-986e1cc5234d\",\"type\":\"Rect\"},{\"attributes\":{\"overlay\":{\"id\":\"657e3297-2c76-44b5-a81e-a560f043d84f\",\"type\":\"BoxAnnotation\"},\"plot\":{\"id\":\"5e435c80-0fe5-4357-8c23-07c86f0ce870\",\"subtype\":\"Chart\",\"type\":\"Plot\"}},\"id\":\"93375ab4-2fbd-48a9-8cd3-a4d273817ca0\",\"type\":\"BoxZoomTool\"},{\"attributes\":{\"data_source\":{\"id\":\"ab5541f1-2d04-4ec4-ad75-e910262b67f6\",\"type\":\"ColumnDataSource\"},\"glyph\":{\"id\":\"74c07131-ac7a-4ece-b225-3263c69f72e0\",\"type\":\"Rect\"},\"hover_glyph\":null,\"nonselection_glyph\":null,\"selection_glyph\":null},\"id\":\"ec157a2f-78ba-43ea-8fb7-c5df9c745bf2\",\"type\":\"GlyphRenderer\"},{\"attributes\":{\"dimension\":1,\"plot\":{\"id\":\"5e435c80-0fe5-4357-8c23-07c86f0ce870\",\"subtype\":\"Chart\",\"type\":\"Plot\"},\"ticker\":{\"id\":\"aa460148-8dc5-44f8-b613-d0bc8e744471\",\"type\":\"BasicTicker\"}},\"id\":\"56096c67-0752-4fa6-ac72-66b9e438df56\",\"type\":\"Grid\"},{\"attributes\":{\"callback\":null,\"column_names\":[\"height\",\"fill_alpha\",\"width\",\"color\",\"line_color\",\"line_alpha\",\"y\",\"x\",\"label\"],\"data\":{\"TagCount\":[4],\"anscount\":[\"<= 7 Days (%)\"],\"chart_index\":[{\"TagCount\":4,\"anscount\":\"<= 7 Days (%)\"}],\"color\":[\"Turquoise\"],\"fill_alpha\":[0.8],\"height\":[92.01533856873719],\"label\":[{\"TagCount\":4,\"anscount\":\"<= 7 Days (%)\"}],\"line_alpha\":[1.0],\"line_color\":[\"white\"],\"width\":[0.2],\"x\":[\"4:0.2\"],\"y\":[46.007669284368596]}},\"id\":\"79e31fe4-f62e-48bc-bd6e-0ed6dda452b5\",\"type\":\"ColumnDataSource\"},{\"attributes\":{\"callback\":null,\"column_names\":[\"height\",\"fill_alpha\",\"width\",\"color\",\"line_color\",\"line_alpha\",\"y\",\"x\",\"label\"],\"data\":{\"TagCount\":[4],\"anscount\":[\"32 - 186 Days (%)\"],\"chart_index\":[{\"TagCount\":4,\"anscount\":\"32 - 186 Days (%)\"}],\"color\":[\"Plum\"],\"fill_alpha\":[0.8],\"height\":[6.406831431774257],\"label\":[{\"TagCount\":4,\"anscount\":\"32 - 186 Days (%)\"}],\"line_alpha\":[1.0],\"line_color\":[\"white\"],\"width\":[0.2],\"x\":[\"4:0.6\"],\"y\":[3.2034157158871284]}},\"id\":\"d4987fed-5e8f-459c-9436-a3ac39478dfc\",\"type\":\"ColumnDataSource\"},{\"attributes\":{\"fill_alpha\":{\"field\":\"fill_alpha\"},\"fill_color\":{\"field\":\"color\"},\"height\":{\"field\":\"height\",\"units\":\"data\"},\"line_color\":{\"field\":\"line_color\"},\"width\":{\"field\":\"width\",\"units\":\"data\"},\"x\":{\"field\":\"x\"},\"y\":{\"field\":\"y\"}},\"id\":\"34c17ddc-8437-44c8-bc27-c5c2705d42aa\",\"type\":\"Rect\"},{\"attributes\":{\"fill_alpha\":{\"field\":\"fill_alpha\"},\"fill_color\":{\"field\":\"color\"},\"height\":{\"field\":\"height\",\"units\":\"data\"},\"line_color\":{\"field\":\"line_color\"},\"width\":{\"field\":\"width\",\"units\":\"data\"},\"x\":{\"field\":\"x\"},\"y\":{\"field\":\"y\"}},\"id\":\"74c07131-ac7a-4ece-b225-3263c69f72e0\",\"type\":\"Rect\"},{\"attributes\":{\"data_source\":{\"id\":\"c2e3789a-d503-4eb5-8e5d-6df638320fa2\",\"type\":\"ColumnDataSource\"},\"glyph\":{\"id\":\"cd5bcdf4-4cb7-43b0-8c7b-986e1cc5234d\",\"type\":\"Rect\"},\"hover_glyph\":null,\"nonselection_glyph\":null,\"selection_glyph\":null},\"id\":\"5876043f-9c8f-410a-ae00-934b6da8b6ce\",\"type\":\"GlyphRenderer\"},{\"attributes\":{\"plot\":{\"id\":\"5e435c80-0fe5-4357-8c23-07c86f0ce870\",\"subtype\":\"Chart\",\"type\":\"Plot\"}},\"id\":\"eb3108e2-736d-4600-93e9-a8f5d2a543b5\",\"type\":\"SaveTool\"},{\"attributes\":{\"data_source\":{\"id\":\"85339a44-ef27-4e68-b609-8b5ef15f7a81\",\"type\":\"ColumnDataSource\"},\"glyph\":{\"id\":\"7033a458-a1db-47f4-96f5-da221f0671b0\",\"type\":\"Rect\"},\"hover_glyph\":null,\"nonselection_glyph\":null,\"selection_glyph\":null},\"id\":\"10e31497-7f24-40ad-8c1c-a91bf8befa2b\",\"type\":\"GlyphRenderer\"},{\"attributes\":{},\"id\":\"8a5abb18-33ad-4598-9249-8e2da9d6c0de\",\"type\":\"CategoricalTickFormatter\"},{\"attributes\":{\"fill_alpha\":{\"field\":\"fill_alpha\"},\"fill_color\":{\"field\":\"color\"},\"height\":{\"field\":\"height\",\"units\":\"data\"},\"line_color\":{\"field\":\"line_color\"},\"width\":{\"field\":\"width\",\"units\":\"data\"},\"x\":{\"field\":\"x\"},\"y\":{\"field\":\"y\"}},\"id\":\"72e4cc57-8b94-4169-94ec-425f44354fa7\",\"type\":\"Rect\"},{\"attributes\":{\"fill_alpha\":{\"field\":\"fill_alpha\"},\"fill_color\":{\"field\":\"color\"},\"height\":{\"field\":\"height\",\"units\":\"data\"},\"line_color\":{\"field\":\"line_color\"},\"width\":{\"field\":\"width\",\"units\":\"data\"},\"x\":{\"field\":\"x\"},\"y\":{\"field\":\"y\"}},\"id\":\"139f0418-6b4a-4f6b-a83a-949d7af7f766\",\"type\":\"Rect\"},{\"attributes\":{\"bottom_units\":\"screen\",\"fill_alpha\":{\"value\":0.5},\"fill_color\":{\"value\":\"lightgrey\"},\"left_units\":\"screen\",\"level\":\"overlay\",\"line_alpha\":{\"value\":1.0},\"line_color\":{\"value\":\"black\"},\"line_dash\":[4,4],\"line_width\":{\"value\":2},\"plot\":null,\"render_mode\":\"css\",\"right_units\":\"screen\",\"top_units\":\"screen\"},\"id\":\"657e3297-2c76-44b5-a81e-a560f043d84f\",\"type\":\"BoxAnnotation\"},{\"attributes\":{\"data_source\":{\"id\":\"b8de551f-4717-4555-9302-4fc9dcfbf9c9\",\"type\":\"ColumnDataSource\"},\"glyph\":{\"id\":\"384df305-2b8a-4c65-b22c-befc3c33d0b6\",\"type\":\"Rect\"},\"hover_glyph\":null,\"nonselection_glyph\":null,\"selection_glyph\":null},\"id\":\"9640e7e5-0f88-4f69-a740-9f4d1bb42b64\",\"type\":\"GlyphRenderer\"},{\"attributes\":{\"fill_alpha\":{\"field\":\"fill_alpha\"},\"fill_color\":{\"field\":\"color\"},\"height\":{\"field\":\"height\",\"units\":\"data\"},\"line_color\":{\"field\":\"line_color\"},\"width\":{\"field\":\"width\",\"units\":\"data\"},\"x\":{\"field\":\"x\"},\"y\":{\"field\":\"y\"}},\"id\":\"299d4c81-bf2a-4d8a-bcd8-4bc15326bb10\",\"type\":\"Rect\"},{\"attributes\":{\"data_source\":{\"id\":\"b60a1147-022e-4776-9f8e-2cd7670f3987\",\"type\":\"ColumnDataSource\"},\"glyph\":{\"id\":\"59bfbd3d-8c98-49d1-a815-5c60e17f73bb\",\"type\":\"Rect\"},\"hover_glyph\":null,\"nonselection_glyph\":null,\"selection_glyph\":null},\"id\":\"94352168-d2bb-429d-9025-0ab04825cafb\",\"type\":\"GlyphRenderer\"},{\"attributes\":{\"plot\":null,\"text\":\"Percentage of Questions Answered vs No. of Tags Used\"},\"id\":\"6203884c-8fbb-4d50-b376-be874696bc39\",\"type\":\"Title\"},{\"attributes\":{},\"id\":\"f644bc16-c248-4d5c-8595-7058091bdefd\",\"type\":\"CategoricalTicker\"},{\"attributes\":{\"data_source\":{\"id\":\"e5aa446d-40ed-4229-853c-de8c80b58d01\",\"type\":\"ColumnDataSource\"},\"glyph\":{\"id\":\"cda23f99-c7a1-47b4-912f-cdc9960a8f01\",\"type\":\"Rect\"},\"hover_glyph\":null,\"nonselection_glyph\":null,\"selection_glyph\":null},\"id\":\"9173973d-8794-4aaa-bc27-a5e244a28740\",\"type\":\"GlyphRenderer\"},{\"attributes\":{\"callback\":null,\"column_names\":[\"height\",\"fill_alpha\",\"width\",\"color\",\"line_color\",\"line_alpha\",\"y\",\"x\",\"label\"],\"data\":{\"TagCount\":[1],\"anscount\":[\"> 186 Days (%)\"],\"chart_index\":[{\"TagCount\":1,\"anscount\":\"> 186 Days (%)\"}],\"color\":[\"Gold\"],\"fill_alpha\":[0.8],\"height\":[8.816408495750533],\"label\":[{\"TagCount\":1,\"anscount\":\"> 186 Days (%)\"}],\"line_alpha\":[1.0],\"line_color\":[\"white\"],\"width\":[0.2],\"x\":[\"1:0.8\"],\"y\":[4.4082042478752665]}},\"id\":\"e5aa446d-40ed-4229-853c-de8c80b58d01\",\"type\":\"ColumnDataSource\"},{\"attributes\":{\"callback\":null,\"column_names\":[\"height\",\"fill_alpha\",\"width\",\"color\",\"line_color\",\"line_alpha\",\"y\",\"x\",\"label\"],\"data\":{\"TagCount\":[1],\"anscount\":[\"<= 7 Days (%)\"],\"chart_index\":[{\"TagCount\":1,\"anscount\":\"<= 7 Days (%)\"}],\"color\":[\"Turquoise\"],\"fill_alpha\":[0.8],\"height\":[93.74478732263195],\"label\":[{\"TagCount\":1,\"anscount\":\"<= 7 Days (%)\"}],\"line_alpha\":[1.0],\"line_color\":[\"white\"],\"width\":[0.2],\"x\":[\"1:0.2\"],\"y\":[46.872393661315975]}},\"id\":\"e4bc7a6c-559f-4222-96e9-c48a2941810a\",\"type\":\"ColumnDataSource\"},{\"attributes\":{\"data_source\":{\"id\":\"833c659a-d0da-415b-87e0-5ca511b37414\",\"type\":\"ColumnDataSource\"},\"glyph\":{\"id\":\"299d4c81-bf2a-4d8a-bcd8-4bc15326bb10\",\"type\":\"Rect\"},\"hover_glyph\":null,\"nonselection_glyph\":null,\"selection_glyph\":null},\"id\":\"214336cb-9410-4bcd-a8b3-4b0a718a5afa\",\"type\":\"GlyphRenderer\"},{\"attributes\":{\"plot\":{\"id\":\"5e435c80-0fe5-4357-8c23-07c86f0ce870\",\"subtype\":\"Chart\",\"type\":\"Plot\"}},\"id\":\"dcc357ee-21ec-42fa-9f70-6e58e87fcdbd\",\"type\":\"ResetTool\"},{\"attributes\":{},\"id\":\"41af535f-a907-4032-959a-3c030fd06e9c\",\"type\":\"BasicTickFormatter\"},{\"attributes\":{},\"id\":\"aa460148-8dc5-44f8-b613-d0bc8e744471\",\"type\":\"BasicTicker\"},{\"attributes\":{\"fill_alpha\":{\"field\":\"fill_alpha\"},\"fill_color\":{\"field\":\"color\"},\"height\":{\"field\":\"height\",\"units\":\"data\"},\"line_color\":{\"field\":\"line_color\"},\"width\":{\"field\":\"width\",\"units\":\"data\"},\"x\":{\"field\":\"x\"},\"y\":{\"field\":\"y\"}},\"id\":\"7033a458-a1db-47f4-96f5-da221f0671b0\",\"type\":\"Rect\"},{\"attributes\":{\"callback\":null,\"column_names\":[\"height\",\"fill_alpha\",\"width\",\"color\",\"line_color\",\"line_alpha\",\"y\",\"x\",\"label\"],\"data\":{\"TagCount\":[5],\"anscount\":[\"<= 7 Days (%)\"],\"chart_index\":[{\"TagCount\":5,\"anscount\":\"<= 7 Days (%)\"}],\"color\":[\"Turquoise\"],\"fill_alpha\":[0.8],\"height\":[90.80663944461504],\"label\":[{\"TagCount\":5,\"anscount\":\"<= 7 Days (%)\"}],\"line_alpha\":[1.0],\"line_color\":[\"white\"],\"width\":[0.2],\"x\":[\"5:0.2\"],\"y\":[45.40331972230752]}},\"id\":\"b8de551f-4717-4555-9302-4fc9dcfbf9c9\",\"type\":\"ColumnDataSource\"},{\"attributes\":{\"data_source\":{\"id\":\"79e31fe4-f62e-48bc-bd6e-0ed6dda452b5\",\"type\":\"ColumnDataSource\"},\"glyph\":{\"id\":\"c7b26d20-4d01-44bc-b002-ca98378af8bf\",\"type\":\"Rect\"},\"hover_glyph\":null,\"nonselection_glyph\":null,\"selection_glyph\":null},\"id\":\"568a0263-df61-4d51-bf42-cfcf24026d59\",\"type\":\"GlyphRenderer\"},{\"attributes\":{\"callback\":null,\"column_names\":[\"height\",\"fill_alpha\",\"width\",\"color\",\"line_color\",\"line_alpha\",\"y\",\"x\",\"label\"],\"data\":{\"TagCount\":[3],\"anscount\":[\"<= 7 Days (%)\"],\"chart_index\":[{\"TagCount\":3,\"anscount\":\"<= 7 Days (%)\"}],\"color\":[\"Turquoise\"],\"fill_alpha\":[0.8],\"height\":[92.73855058488502],\"label\":[{\"TagCount\":3,\"anscount\":\"<= 7 Days (%)\"}],\"line_alpha\":[1.0],\"line_color\":[\"white\"],\"width\":[0.2],\"x\":[\"3:0.2\"],\"y\":[46.36927529244251]}},\"id\":\"76ad7b5f-5dae-416a-842b-126f350aa087\",\"type\":\"ColumnDataSource\"},{\"attributes\":{\"data_source\":{\"id\":\"78cc9d79-7115-4506-aaa1-ef7284245766\",\"type\":\"ColumnDataSource\"},\"glyph\":{\"id\":\"34c17ddc-8437-44c8-bc27-c5c2705d42aa\",\"type\":\"Rect\"},\"hover_glyph\":null,\"nonselection_glyph\":null,\"selection_glyph\":null},\"id\":\"33dee32a-7103-481c-85b0-aca8013988f2\",\"type\":\"GlyphRenderer\"}],\"root_ids\":[\"5e435c80-0fe5-4357-8c23-07c86f0ce870\"]},\"title\":\"Bokeh Application\",\"version\":\"0.12.2\"}};\n",
       "            var render_items = [{\"docid\":\"1c4c75d5-3ca8-4c48-8cc2-cde0aa55758a\",\"elementid\":\"34dd1404-9850-4582-834c-d1b7180faf4b\",\"modelid\":\"5e435c80-0fe5-4357-8c23-07c86f0ce870\"}];\n",
       "            \n",
       "            Bokeh.embed.embed_items(docs_json, render_items);\n",
       "        });\n",
       "      },\n",
       "      function(Bokeh) {\n",
       "      }\n",
       "    ];\n",
       "  \n",
       "    function run_inline_js() {\n",
       "      \n",
       "      if ((window.Bokeh !== undefined) || (force === \"1\")) {\n",
       "        for (var i = 0; i < inline_js.length; i++) {\n",
       "          inline_js[i](window.Bokeh);\n",
       "        }if (force === \"1\") {\n",
       "          display_loaded();\n",
       "        }} else if (Date.now() < window._bokeh_timeout) {\n",
       "        setTimeout(run_inline_js, 100);\n",
       "      } else if (!window._bokeh_failed_load) {\n",
       "        console.log(\"Bokeh: BokehJS failed to load within specified timeout.\");\n",
       "        window._bokeh_failed_load = true;\n",
       "      } else if (!force) {\n",
       "        var cell = $(\"#34dd1404-9850-4582-834c-d1b7180faf4b\").parents('.cell').data().cell;\n",
       "        cell.output_area.append_execute_result(NB_LOAD_WARNING)\n",
       "      }\n",
       "  \n",
       "    }\n",
       "  \n",
       "    if (window._bokeh_is_loading === 0) {\n",
       "      console.log(\"Bokeh: BokehJS loaded, going straight to plotting\");\n",
       "      run_inline_js();\n",
       "    } else {\n",
       "      load_libs(js_urls, function() {\n",
       "        console.log(\"Bokeh: BokehJS plotting callback run at\", now());\n",
       "        run_inline_js();\n",
       "      });\n",
       "    }\n",
       "  }(this));\n",
       "</script>"
      ]
     },
     "metadata": {},
     "output_type": "display_data"
    }
   ],
   "source": [
    "%matplotlib inline\n",
    "from bokeh.charts import Bar, output_notebook, show\n",
    "from bokeh.charts.attributes import cat, color\n",
    "from bokeh.charts.operations import blend\n",
    "\n",
    "ansCount = ansCount[ansCount['total'] > 0]\n",
    "ansCount = ansCount.sort_values('TagCount', ascending=True)\n",
    "\n",
    "bar9 = Bar(ansCount,\n",
    "          values=blend('<= 7 Days (%)', '8 - 31 Days (%)', '32 - 186 Days (%)', '> 186 Days (%)', name='anscounts', labels_name='anscount'),\n",
    "          label=cat(columns='TagCount', sort=False),\n",
    "          group=cat(columns='anscount', sort=False),\n",
    "          color=color(columns='anscount', palette=['Turquoise','DarkSalmon','Plum','Gold'],\n",
    "                      sort=False),\n",
    "          legend='top_right',\n",
    "          title=\"Percentage of Questions Answered vs No. of Tags Used\",\n",
    "          tooltips=[('No. of Tags Used', '@TagCount'), \n",
    "                    ('Percentage of Questions Answered', '@height{1.11}%')\n",
    "                   ])\n",
    "\n",
    "bar9.xaxis.axis_label = 'No. of Tags Used in Questions'\n",
    "bar9.yaxis.axis_label = 'Percentage of Questions Answered within 1st Week/Month of Posting'\n",
    "\n",
    "output_notebook()\n",
    "\n",
    "show(bar9)"
   ]
  },
  {
   "cell_type": "code",
   "execution_count": 115,
   "metadata": {
    "collapsed": false
   },
   "outputs": [
    {
     "data": {
      "text/html": [
       "\n",
       "    <div class=\"bk-root\">\n",
       "        <a href=\"http://bokeh.pydata.org\" target=\"_blank\" class=\"bk-logo bk-logo-small bk-logo-notebook\"></a>\n",
       "        <span id=\"e283fc86-f2cc-4a39-9eae-fad211f1a4ed\">Loading BokehJS ...</span>\n",
       "    </div>"
      ]
     },
     "metadata": {},
     "output_type": "display_data"
    },
    {
     "data": {
      "application/javascript": [
       "\n",
       "(function(global) {\n",
       "  function now() {\n",
       "    return new Date();\n",
       "  }\n",
       "\n",
       "  var force = \"1\";\n",
       "\n",
       "  if (typeof (window._bokeh_onload_callbacks) === \"undefined\" || force !== \"\") {\n",
       "    window._bokeh_onload_callbacks = [];\n",
       "    window._bokeh_is_loading = undefined;\n",
       "  }\n",
       "\n",
       "\n",
       "  \n",
       "  if (typeof (window._bokeh_timeout) === \"undefined\" || force !== \"\") {\n",
       "    window._bokeh_timeout = Date.now() + 5000;\n",
       "    window._bokeh_failed_load = false;\n",
       "  }\n",
       "\n",
       "  var NB_LOAD_WARNING = {'data': {'text/html':\n",
       "     \"<div style='background-color: #fdd'>\\n\"+\n",
       "     \"<p>\\n\"+\n",
       "     \"BokehJS does not appear to have successfully loaded. If loading BokehJS from CDN, this \\n\"+\n",
       "     \"may be due to a slow or bad network connection. Possible fixes:\\n\"+\n",
       "     \"</p>\\n\"+\n",
       "     \"<ul>\\n\"+\n",
       "     \"<li>re-rerun `output_notebook()` to attempt to load from CDN again, or</li>\\n\"+\n",
       "     \"<li>use INLINE resources instead, as so:</li>\\n\"+\n",
       "     \"</ul>\\n\"+\n",
       "     \"<code>\\n\"+\n",
       "     \"from bokeh.resources import INLINE\\n\"+\n",
       "     \"output_notebook(resources=INLINE)\\n\"+\n",
       "     \"</code>\\n\"+\n",
       "     \"</div>\"}};\n",
       "\n",
       "  function display_loaded() {\n",
       "    if (window.Bokeh !== undefined) {\n",
       "      Bokeh.$(\"#e283fc86-f2cc-4a39-9eae-fad211f1a4ed\").text(\"BokehJS successfully loaded.\");\n",
       "    } else if (Date.now() < window._bokeh_timeout) {\n",
       "      setTimeout(display_loaded, 100)\n",
       "    }\n",
       "  }\n",
       "\n",
       "  function run_callbacks() {\n",
       "    window._bokeh_onload_callbacks.forEach(function(callback) { callback() });\n",
       "    delete window._bokeh_onload_callbacks\n",
       "    console.info(\"Bokeh: all callbacks have finished\");\n",
       "  }\n",
       "\n",
       "  function load_libs(js_urls, callback) {\n",
       "    window._bokeh_onload_callbacks.push(callback);\n",
       "    if (window._bokeh_is_loading > 0) {\n",
       "      console.log(\"Bokeh: BokehJS is being loaded, scheduling callback at\", now());\n",
       "      return null;\n",
       "    }\n",
       "    if (js_urls == null || js_urls.length === 0) {\n",
       "      run_callbacks();\n",
       "      return null;\n",
       "    }\n",
       "    console.log(\"Bokeh: BokehJS not loaded, scheduling load and callback at\", now());\n",
       "    window._bokeh_is_loading = js_urls.length;\n",
       "    for (var i = 0; i < js_urls.length; i++) {\n",
       "      var url = js_urls[i];\n",
       "      var s = document.createElement('script');\n",
       "      s.src = url;\n",
       "      s.async = false;\n",
       "      s.onreadystatechange = s.onload = function() {\n",
       "        window._bokeh_is_loading--;\n",
       "        if (window._bokeh_is_loading === 0) {\n",
       "          console.log(\"Bokeh: all BokehJS libraries loaded\");\n",
       "          run_callbacks()\n",
       "        }\n",
       "      };\n",
       "      s.onerror = function() {\n",
       "        console.warn(\"failed to load library \" + url);\n",
       "      };\n",
       "      console.log(\"Bokeh: injecting script tag for BokehJS library: \", url);\n",
       "      document.getElementsByTagName(\"head\")[0].appendChild(s);\n",
       "    }\n",
       "  };var element = document.getElementById(\"e283fc86-f2cc-4a39-9eae-fad211f1a4ed\");\n",
       "  if (element == null) {\n",
       "    console.log(\"Bokeh: ERROR: autoload.js configured with elementid 'e283fc86-f2cc-4a39-9eae-fad211f1a4ed' but no matching script tag was found. \")\n",
       "    return false;\n",
       "  }\n",
       "\n",
       "  var js_urls = ['https://cdn.pydata.org/bokeh/release/bokeh-0.12.2.min.js', 'https://cdn.pydata.org/bokeh/release/bokeh-widgets-0.12.2.min.js', 'https://cdn.pydata.org/bokeh/release/bokeh-compiler-0.12.2.min.js'];\n",
       "\n",
       "  var inline_js = [\n",
       "    function(Bokeh) {\n",
       "      Bokeh.set_log_level(\"info\");\n",
       "    },\n",
       "    \n",
       "    function(Bokeh) {\n",
       "      \n",
       "      Bokeh.$(\"#e283fc86-f2cc-4a39-9eae-fad211f1a4ed\").text(\"BokehJS is loading...\");\n",
       "    },\n",
       "    function(Bokeh) {\n",
       "      console.log(\"Bokeh: injecting CSS: https://cdn.pydata.org/bokeh/release/bokeh-0.12.2.min.css\");\n",
       "      Bokeh.embed.inject_css(\"https://cdn.pydata.org/bokeh/release/bokeh-0.12.2.min.css\");\n",
       "      console.log(\"Bokeh: injecting CSS: https://cdn.pydata.org/bokeh/release/bokeh-widgets-0.12.2.min.css\");\n",
       "      Bokeh.embed.inject_css(\"https://cdn.pydata.org/bokeh/release/bokeh-widgets-0.12.2.min.css\");\n",
       "    }\n",
       "  ];\n",
       "\n",
       "  function run_inline_js() {\n",
       "    \n",
       "    if ((window.Bokeh !== undefined) || (force === \"1\")) {\n",
       "      for (var i = 0; i < inline_js.length; i++) {\n",
       "        inline_js[i](window.Bokeh);\n",
       "      }if (force === \"1\") {\n",
       "        display_loaded();\n",
       "      }} else if (Date.now() < window._bokeh_timeout) {\n",
       "      setTimeout(run_inline_js, 100);\n",
       "    } else if (!window._bokeh_failed_load) {\n",
       "      console.log(\"Bokeh: BokehJS failed to load within specified timeout.\");\n",
       "      window._bokeh_failed_load = true;\n",
       "    } else if (!force) {\n",
       "      var cell = $(\"#e283fc86-f2cc-4a39-9eae-fad211f1a4ed\").parents('.cell').data().cell;\n",
       "      cell.output_area.append_execute_result(NB_LOAD_WARNING)\n",
       "    }\n",
       "\n",
       "  }\n",
       "\n",
       "  if (window._bokeh_is_loading === 0) {\n",
       "    console.log(\"Bokeh: BokehJS loaded, going straight to plotting\");\n",
       "    run_inline_js();\n",
       "  } else {\n",
       "    load_libs(js_urls, function() {\n",
       "      console.log(\"Bokeh: BokehJS plotting callback run at\", now());\n",
       "      run_inline_js();\n",
       "    });\n",
       "  }\n",
       "}(this));"
      ]
     },
     "metadata": {},
     "output_type": "display_data"
    },
    {
     "data": {
      "text/html": [
       "\n",
       "\n",
       "    <div class=\"bk-root\">\n",
       "        <div class=\"plotdiv\" id=\"a284d3ef-8688-4026-a2e0-b58604dbfdce\"></div>\n",
       "    </div>\n",
       "<script type=\"text/javascript\">\n",
       "  \n",
       "  (function(global) {\n",
       "    function now() {\n",
       "      return new Date();\n",
       "    }\n",
       "  \n",
       "    var force = \"\";\n",
       "  \n",
       "    if (typeof (window._bokeh_onload_callbacks) === \"undefined\" || force !== \"\") {\n",
       "      window._bokeh_onload_callbacks = [];\n",
       "      window._bokeh_is_loading = undefined;\n",
       "    }\n",
       "  \n",
       "  \n",
       "    \n",
       "    if (typeof (window._bokeh_timeout) === \"undefined\" || force !== \"\") {\n",
       "      window._bokeh_timeout = Date.now() + 0;\n",
       "      window._bokeh_failed_load = false;\n",
       "    }\n",
       "  \n",
       "    var NB_LOAD_WARNING = {'data': {'text/html':\n",
       "       \"<div style='background-color: #fdd'>\\n\"+\n",
       "       \"<p>\\n\"+\n",
       "       \"BokehJS does not appear to have successfully loaded. If loading BokehJS from CDN, this \\n\"+\n",
       "       \"may be due to a slow or bad network connection. Possible fixes:\\n\"+\n",
       "       \"</p>\\n\"+\n",
       "       \"<ul>\\n\"+\n",
       "       \"<li>re-rerun `output_notebook()` to attempt to load from CDN again, or</li>\\n\"+\n",
       "       \"<li>use INLINE resources instead, as so:</li>\\n\"+\n",
       "       \"</ul>\\n\"+\n",
       "       \"<code>\\n\"+\n",
       "       \"from bokeh.resources import INLINE\\n\"+\n",
       "       \"output_notebook(resources=INLINE)\\n\"+\n",
       "       \"</code>\\n\"+\n",
       "       \"</div>\"}};\n",
       "  \n",
       "    function display_loaded() {\n",
       "      if (window.Bokeh !== undefined) {\n",
       "        Bokeh.$(\"#a284d3ef-8688-4026-a2e0-b58604dbfdce\").text(\"BokehJS successfully loaded.\");\n",
       "      } else if (Date.now() < window._bokeh_timeout) {\n",
       "        setTimeout(display_loaded, 100)\n",
       "      }\n",
       "    }\n",
       "  \n",
       "    function run_callbacks() {\n",
       "      window._bokeh_onload_callbacks.forEach(function(callback) { callback() });\n",
       "      delete window._bokeh_onload_callbacks\n",
       "      console.info(\"Bokeh: all callbacks have finished\");\n",
       "    }\n",
       "  \n",
       "    function load_libs(js_urls, callback) {\n",
       "      window._bokeh_onload_callbacks.push(callback);\n",
       "      if (window._bokeh_is_loading > 0) {\n",
       "        console.log(\"Bokeh: BokehJS is being loaded, scheduling callback at\", now());\n",
       "        return null;\n",
       "      }\n",
       "      if (js_urls == null || js_urls.length === 0) {\n",
       "        run_callbacks();\n",
       "        return null;\n",
       "      }\n",
       "      console.log(\"Bokeh: BokehJS not loaded, scheduling load and callback at\", now());\n",
       "      window._bokeh_is_loading = js_urls.length;\n",
       "      for (var i = 0; i < js_urls.length; i++) {\n",
       "        var url = js_urls[i];\n",
       "        var s = document.createElement('script');\n",
       "        s.src = url;\n",
       "        s.async = false;\n",
       "        s.onreadystatechange = s.onload = function() {\n",
       "          window._bokeh_is_loading--;\n",
       "          if (window._bokeh_is_loading === 0) {\n",
       "            console.log(\"Bokeh: all BokehJS libraries loaded\");\n",
       "            run_callbacks()\n",
       "          }\n",
       "        };\n",
       "        s.onerror = function() {\n",
       "          console.warn(\"failed to load library \" + url);\n",
       "        };\n",
       "        console.log(\"Bokeh: injecting script tag for BokehJS library: \", url);\n",
       "        document.getElementsByTagName(\"head\")[0].appendChild(s);\n",
       "      }\n",
       "    };var element = document.getElementById(\"a284d3ef-8688-4026-a2e0-b58604dbfdce\");\n",
       "    if (element == null) {\n",
       "      console.log(\"Bokeh: ERROR: autoload.js configured with elementid 'a284d3ef-8688-4026-a2e0-b58604dbfdce' but no matching script tag was found. \")\n",
       "      return false;\n",
       "    }\n",
       "  \n",
       "    var js_urls = [];\n",
       "  \n",
       "    var inline_js = [\n",
       "      function(Bokeh) {\n",
       "        Bokeh.$(function() {\n",
       "            var docs_json = {\"d7168d7a-096b-4c28-a397-f01a1168ea6c\":{\"roots\":{\"references\":[{\"attributes\":{\"callback\":null,\"plot\":{\"id\":\"801334dc-2761-4c83-b38a-f8b5f48e47cd\",\"subtype\":\"Chart\",\"type\":\"Plot\"},\"tooltips\":[[\"No. of Tags Used\",\"@TagCount\"],[\"No. of Answers Received\",\"@height\"]]},\"id\":\"e4350952-c045-426c-9313-c2c74da617bd\",\"type\":\"HoverTool\"},{\"attributes\":{\"fill_alpha\":{\"field\":\"fill_alpha\"},\"fill_color\":{\"field\":\"color\"},\"height\":{\"field\":\"height\",\"units\":\"data\"},\"line_color\":{\"field\":\"line_color\"},\"width\":{\"field\":\"width\",\"units\":\"data\"},\"x\":{\"field\":\"x\"},\"y\":{\"field\":\"y\"}},\"id\":\"b982eae0-6bf2-410e-984f-2f0885436f3e\",\"type\":\"Rect\"},{\"attributes\":{\"fill_alpha\":{\"field\":\"fill_alpha\"},\"fill_color\":{\"field\":\"color\"},\"height\":{\"field\":\"height\",\"units\":\"data\"},\"line_color\":{\"field\":\"line_color\"},\"width\":{\"field\":\"width\",\"units\":\"data\"},\"x\":{\"field\":\"x\"},\"y\":{\"field\":\"y\"}},\"id\":\"95e3e49b-505f-4b44-9341-1f333d5be5c1\",\"type\":\"Rect\"},{\"attributes\":{\"callback\":null,\"column_names\":[\"height\",\"fill_alpha\",\"width\",\"color\",\"line_color\",\"line_alpha\",\"y\",\"x\",\"label\"],\"data\":{\"TagCount\":[2],\"anscount\":[\"MoreMonthsAnsCount\"],\"chart_index\":[{\"TagCount\":2,\"anscount\":\"MoreMonthsAnsCount\"}],\"color\":[\"Gold\"],\"fill_alpha\":[0.8],\"height\":[39957.0],\"label\":[{\"TagCount\":2,\"anscount\":\"MoreMonthsAnsCount\"}],\"line_alpha\":[1.0],\"line_color\":[\"white\"],\"width\":[0.2],\"x\":[\"2:0.8\"],\"y\":[19978.5]}},\"id\":\"ce88cda5-b931-4330-b207-fe1de723b3d9\",\"type\":\"ColumnDataSource\"},{\"attributes\":{\"fill_alpha\":{\"field\":\"fill_alpha\"},\"fill_color\":{\"field\":\"color\"},\"height\":{\"field\":\"height\",\"units\":\"data\"},\"line_color\":{\"field\":\"line_color\"},\"width\":{\"field\":\"width\",\"units\":\"data\"},\"x\":{\"field\":\"x\"},\"y\":{\"field\":\"y\"}},\"id\":\"0ba52ee9-83f6-48ba-bf12-e7157479b964\",\"type\":\"Rect\"},{\"attributes\":{\"callback\":null,\"column_names\":[\"height\",\"fill_alpha\",\"width\",\"color\",\"line_color\",\"line_alpha\",\"y\",\"x\",\"label\"],\"data\":{\"TagCount\":[4],\"anscount\":[\"MoreMonthsAnsCount\"],\"chart_index\":[{\"TagCount\":4,\"anscount\":\"MoreMonthsAnsCount\"}],\"color\":[\"Gold\"],\"fill_alpha\":[0.8],\"height\":[33825.0],\"label\":[{\"TagCount\":4,\"anscount\":\"MoreMonthsAnsCount\"}],\"line_alpha\":[1.0],\"line_color\":[\"white\"],\"width\":[0.2],\"x\":[\"4:0.8\"],\"y\":[16912.5]}},\"id\":\"5c17f973-508a-46b1-9478-33c5173c8801\",\"type\":\"ColumnDataSource\"},{\"attributes\":{\"callback\":null,\"column_names\":[\"height\",\"fill_alpha\",\"width\",\"color\",\"line_color\",\"line_alpha\",\"y\",\"x\",\"label\"],\"data\":{\"TagCount\":[1],\"anscount\":[\"FirstWeekAnsCount\"],\"chart_index\":[{\"TagCount\":1,\"anscount\":\"FirstWeekAnsCount\"}],\"color\":[\"Turquoise\"],\"fill_alpha\":[0.8],\"height\":[200653.0],\"label\":[{\"TagCount\":1,\"anscount\":\"FirstWeekAnsCount\"}],\"line_alpha\":[1.0],\"line_color\":[\"white\"],\"width\":[0.2],\"x\":[\"1:0.2\"],\"y\":[100326.5]}},\"id\":\"0cbb7df8-b6d3-45c6-bde4-1ccb3477f818\",\"type\":\"ColumnDataSource\"},{\"attributes\":{\"data_source\":{\"id\":\"b78cc816-7cc5-48ae-83d6-e8ff1bb4e73a\",\"type\":\"ColumnDataSource\"},\"glyph\":{\"id\":\"85b16e18-6c1a-4012-88eb-5bc15cdacdfb\",\"type\":\"Rect\"},\"hover_glyph\":null,\"nonselection_glyph\":null,\"selection_glyph\":null},\"id\":\"23cf8d98-efae-4801-bd22-4ffb35782949\",\"type\":\"GlyphRenderer\"},{\"attributes\":{\"callback\":null,\"column_names\":[\"height\",\"fill_alpha\",\"width\",\"color\",\"line_color\",\"line_alpha\",\"y\",\"x\",\"label\"],\"data\":{\"TagCount\":[3],\"anscount\":[\"MoreMonthsAnsCount\"],\"chart_index\":[{\"TagCount\":3,\"anscount\":\"MoreMonthsAnsCount\"}],\"color\":[\"Gold\"],\"fill_alpha\":[0.8],\"height\":[46496.0],\"label\":[{\"TagCount\":3,\"anscount\":\"MoreMonthsAnsCount\"}],\"line_alpha\":[1.0],\"line_color\":[\"white\"],\"width\":[0.2],\"x\":[\"3:0.8\"],\"y\":[23248.0]}},\"id\":\"bf1e2af0-6dd7-4a4e-b038-77f55903b2b6\",\"type\":\"ColumnDataSource\"},{\"attributes\":{\"fill_alpha\":{\"field\":\"fill_alpha\"},\"fill_color\":{\"field\":\"color\"},\"height\":{\"field\":\"height\",\"units\":\"data\"},\"line_color\":{\"field\":\"line_color\"},\"width\":{\"field\":\"width\",\"units\":\"data\"},\"x\":{\"field\":\"x\"},\"y\":{\"field\":\"y\"}},\"id\":\"b6ee00c7-ccae-4398-ba59-6de0d326542f\",\"type\":\"Rect\"},{\"attributes\":{\"plot\":null,\"text\":\"No. of Answers Received vs No. of Tags Used\"},\"id\":\"f090b824-b271-4aec-8257-65449581bd14\",\"type\":\"Title\"},{\"attributes\":{\"callback\":null,\"column_names\":[\"height\",\"fill_alpha\",\"width\",\"color\",\"line_color\",\"line_alpha\",\"y\",\"x\",\"label\"],\"data\":{\"TagCount\":[3],\"anscount\":[\"SixMonthsAnsCount\"],\"chart_index\":[{\"TagCount\":3,\"anscount\":\"SixMonthsAnsCount\"}],\"color\":[\"Plum\"],\"fill_alpha\":[0.8],\"height\":[19904.0],\"label\":[{\"TagCount\":3,\"anscount\":\"SixMonthsAnsCount\"}],\"line_alpha\":[1.0],\"line_color\":[\"white\"],\"width\":[0.2],\"x\":[\"3:0.6\"],\"y\":[9952.0]}},\"id\":\"42446233-6a63-459f-8488-e449635de476\",\"type\":\"ColumnDataSource\"},{\"attributes\":{\"callback\":null,\"column_names\":[\"height\",\"fill_alpha\",\"width\",\"color\",\"line_color\",\"line_alpha\",\"y\",\"x\",\"label\"],\"data\":{\"TagCount\":[5],\"anscount\":[\"FirstMonthAnsCount\"],\"chart_index\":[{\"TagCount\":5,\"anscount\":\"FirstMonthAnsCount\"}],\"color\":[\"DarkSalmon\"],\"fill_alpha\":[0.8],\"height\":[9108.0],\"label\":[{\"TagCount\":5,\"anscount\":\"FirstMonthAnsCount\"}],\"line_alpha\":[1.0],\"line_color\":[\"white\"],\"width\":[0.2],\"x\":[\"5:0.4\"],\"y\":[4554.0]}},\"id\":\"61a22737-3951-4f03-8e96-5f9558b2ea4a\",\"type\":\"ColumnDataSource\"},{\"attributes\":{\"fill_alpha\":{\"field\":\"fill_alpha\"},\"fill_color\":{\"field\":\"color\"},\"height\":{\"field\":\"height\",\"units\":\"data\"},\"line_color\":{\"field\":\"line_color\"},\"width\":{\"field\":\"width\",\"units\":\"data\"},\"x\":{\"field\":\"x\"},\"y\":{\"field\":\"y\"}},\"id\":\"0f97f2a7-d715-454e-953d-11eab0f43a29\",\"type\":\"Rect\"},{\"attributes\":{\"fill_alpha\":{\"field\":\"fill_alpha\"},\"fill_color\":{\"field\":\"color\"},\"height\":{\"field\":\"height\",\"units\":\"data\"},\"line_color\":{\"field\":\"line_color\"},\"width\":{\"field\":\"width\",\"units\":\"data\"},\"x\":{\"field\":\"x\"},\"y\":{\"field\":\"y\"}},\"id\":\"33fcca51-a018-4b26-aed1-2f152eb807f3\",\"type\":\"Rect\"},{\"attributes\":{\"fill_alpha\":{\"field\":\"fill_alpha\"},\"fill_color\":{\"field\":\"color\"},\"height\":{\"field\":\"height\",\"units\":\"data\"},\"line_color\":{\"field\":\"line_color\"},\"width\":{\"field\":\"width\",\"units\":\"data\"},\"x\":{\"field\":\"x\"},\"y\":{\"field\":\"y\"}},\"id\":\"c94a1d28-0040-4ead-b649-66ada0de05c9\",\"type\":\"Rect\"},{\"attributes\":{\"fill_alpha\":{\"field\":\"fill_alpha\"},\"fill_color\":{\"field\":\"color\"},\"height\":{\"field\":\"height\",\"units\":\"data\"},\"line_color\":{\"field\":\"line_color\"},\"width\":{\"field\":\"width\",\"units\":\"data\"},\"x\":{\"field\":\"x\"},\"y\":{\"field\":\"y\"}},\"id\":\"7bd12ae8-6ec1-4b3f-a304-a789276b5538\",\"type\":\"Rect\"},{\"attributes\":{\"plot\":{\"id\":\"801334dc-2761-4c83-b38a-f8b5f48e47cd\",\"subtype\":\"Chart\",\"type\":\"Plot\"}},\"id\":\"cbd62b11-5773-4fbf-a677-21219bffdfbf\",\"type\":\"WheelZoomTool\"},{\"attributes\":{\"data_source\":{\"id\":\"6cce85a7-adbb-46ec-b7a1-79ff549498ee\",\"type\":\"ColumnDataSource\"},\"glyph\":{\"id\":\"65d88ee1-ac80-45a5-8927-59095ddf54bc\",\"type\":\"Rect\"},\"hover_glyph\":null,\"nonselection_glyph\":null,\"selection_glyph\":null},\"id\":\"4de8f2bf-02a4-4190-99f8-b3ea97a27c16\",\"type\":\"GlyphRenderer\"},{\"attributes\":{\"fill_alpha\":{\"field\":\"fill_alpha\"},\"fill_color\":{\"field\":\"color\"},\"height\":{\"field\":\"height\",\"units\":\"data\"},\"line_color\":{\"field\":\"line_color\"},\"width\":{\"field\":\"width\",\"units\":\"data\"},\"x\":{\"field\":\"x\"},\"y\":{\"field\":\"y\"}},\"id\":\"a17a9199-79e3-4889-8b0b-f7b0c99e854f\",\"type\":\"Rect\"},{\"attributes\":{\"callback\":null,\"column_names\":[\"height\",\"fill_alpha\",\"width\",\"color\",\"line_color\",\"line_alpha\",\"y\",\"x\",\"label\"],\"data\":{\"TagCount\":[2],\"anscount\":[\"SixMonthsAnsCount\"],\"chart_index\":[{\"TagCount\":2,\"anscount\":\"SixMonthsAnsCount\"}],\"color\":[\"Plum\"],\"fill_alpha\":[0.8],\"height\":[15670.0],\"label\":[{\"TagCount\":2,\"anscount\":\"SixMonthsAnsCount\"}],\"line_alpha\":[1.0],\"line_color\":[\"white\"],\"width\":[0.2],\"x\":[\"2:0.6\"],\"y\":[7835.0]}},\"id\":\"80664cbf-c681-466e-aeaf-b43197ac4434\",\"type\":\"ColumnDataSource\"},{\"attributes\":{\"fill_alpha\":{\"field\":\"fill_alpha\"},\"fill_color\":{\"field\":\"color\"},\"height\":{\"field\":\"height\",\"units\":\"data\"},\"line_color\":{\"field\":\"line_color\"},\"width\":{\"field\":\"width\",\"units\":\"data\"},\"x\":{\"field\":\"x\"},\"y\":{\"field\":\"y\"}},\"id\":\"65d88ee1-ac80-45a5-8927-59095ddf54bc\",\"type\":\"Rect\"},{\"attributes\":{\"callback\":null,\"column_names\":[\"height\",\"fill_alpha\",\"width\",\"color\",\"line_color\",\"line_alpha\",\"y\",\"x\",\"label\"],\"data\":{\"TagCount\":[1],\"anscount\":[\"MoreMonthsAnsCount\"],\"chart_index\":[{\"TagCount\":1,\"anscount\":\"MoreMonthsAnsCount\"}],\"color\":[\"Gold\"],\"fill_alpha\":[0.8],\"height\":[16706.0],\"label\":[{\"TagCount\":1,\"anscount\":\"MoreMonthsAnsCount\"}],\"line_alpha\":[1.0],\"line_color\":[\"white\"],\"width\":[0.2],\"x\":[\"1:0.8\"],\"y\":[8353.0]}},\"id\":\"6cce85a7-adbb-46ec-b7a1-79ff549498ee\",\"type\":\"ColumnDataSource\"},{\"attributes\":{\"data_source\":{\"id\":\"c9fd47e0-4a85-42a5-b076-341e0ef94fe1\",\"type\":\"ColumnDataSource\"},\"glyph\":{\"id\":\"7bd12ae8-6ec1-4b3f-a304-a789276b5538\",\"type\":\"Rect\"},\"hover_glyph\":null,\"nonselection_glyph\":null,\"selection_glyph\":null},\"id\":\"5e100380-72d7-4f97-b169-36b74b24351b\",\"type\":\"GlyphRenderer\"},{\"attributes\":{\"fill_alpha\":{\"field\":\"fill_alpha\"},\"fill_color\":{\"field\":\"color\"},\"height\":{\"field\":\"height\",\"units\":\"data\"},\"line_color\":{\"field\":\"line_color\"},\"width\":{\"field\":\"width\",\"units\":\"data\"},\"x\":{\"field\":\"x\"},\"y\":{\"field\":\"y\"}},\"id\":\"cbf8c0f6-cd6d-470f-b419-83badf067ab7\",\"type\":\"Rect\"},{\"attributes\":{\"below\":[{\"id\":\"af619d70-c641-4979-9d8e-e1d02ddb315c\",\"type\":\"CategoricalAxis\"}],\"left\":[{\"id\":\"10786b1a-9823-4fb4-b3ef-97d1f8abc854\",\"type\":\"LinearAxis\"}],\"renderers\":[{\"id\":\"aa88a083-b3b0-4430-ab85-1d2516e3607f\",\"type\":\"BoxAnnotation\"},{\"id\":\"e5314d73-a88e-4b97-bdf6-e4bba552da26\",\"type\":\"GlyphRenderer\"},{\"id\":\"d1965dd8-05e7-464c-90be-6a91083b845d\",\"type\":\"GlyphRenderer\"},{\"id\":\"5e100380-72d7-4f97-b169-36b74b24351b\",\"type\":\"GlyphRenderer\"},{\"id\":\"23cf8d98-efae-4801-bd22-4ffb35782949\",\"type\":\"GlyphRenderer\"},{\"id\":\"9e0dbefc-4a68-4f66-b58e-c6549349e7e2\",\"type\":\"GlyphRenderer\"},{\"id\":\"1e15861a-5ec3-41c4-9060-b6bf387a0b77\",\"type\":\"GlyphRenderer\"},{\"id\":\"d63a2ef2-60a6-4803-be08-574f76a73765\",\"type\":\"GlyphRenderer\"},{\"id\":\"280f9311-7c63-4e61-8e08-431b5fa505d4\",\"type\":\"GlyphRenderer\"},{\"id\":\"36a378e4-120b-4d21-a4c5-321aa3a13513\",\"type\":\"GlyphRenderer\"},{\"id\":\"3f8d1009-0a37-4eaa-a8f7-1476e3e41068\",\"type\":\"GlyphRenderer\"},{\"id\":\"9527e058-8e2b-4abd-afcb-fb7d7ca3f207\",\"type\":\"GlyphRenderer\"},{\"id\":\"1e50ff53-2a5c-403a-84f7-2ac7be42070b\",\"type\":\"GlyphRenderer\"},{\"id\":\"ef29dc46-e26a-4f2e-9860-21bc46ddca42\",\"type\":\"GlyphRenderer\"},{\"id\":\"5c230909-f4c9-4d1a-9221-be10f961d459\",\"type\":\"GlyphRenderer\"},{\"id\":\"77cb37c6-e58e-4763-902b-778ce6508b2e\",\"type\":\"GlyphRenderer\"},{\"id\":\"4de8f2bf-02a4-4190-99f8-b3ea97a27c16\",\"type\":\"GlyphRenderer\"},{\"id\":\"b8d3f323-574a-4d3b-9c46-edcdc44088fa\",\"type\":\"GlyphRenderer\"},{\"id\":\"ee83e013-73ca-465d-805a-8de61dbe6042\",\"type\":\"GlyphRenderer\"},{\"id\":\"720652e7-a8fe-4fcf-bb9d-d9f8010813ca\",\"type\":\"GlyphRenderer\"},{\"id\":\"cf0c7e2a-ac6f-4202-9ab4-62e3b1089093\",\"type\":\"GlyphRenderer\"},{\"id\":\"97c98828-4a21-4b5e-a2e0-046ed4d6abdf\",\"type\":\"Legend\"},{\"id\":\"af619d70-c641-4979-9d8e-e1d02ddb315c\",\"type\":\"CategoricalAxis\"},{\"id\":\"10786b1a-9823-4fb4-b3ef-97d1f8abc854\",\"type\":\"LinearAxis\"},{\"id\":\"105dfea9-7b24-4820-b658-d727a2b0107b\",\"type\":\"Grid\"}],\"title\":{\"id\":\"f090b824-b271-4aec-8257-65449581bd14\",\"type\":\"Title\"},\"tool_events\":{\"id\":\"87705228-114a-4e85-b5b0-2183a7c2711e\",\"type\":\"ToolEvents\"},\"toolbar\":{\"id\":\"86f7aefa-99b0-40b0-a446-9f83216c62de\",\"type\":\"Toolbar\"},\"x_mapper_type\":\"auto\",\"x_range\":{\"id\":\"5922a6e2-4c26-4237-a6e6-328cd1af2ef1\",\"type\":\"FactorRange\"},\"y_mapper_type\":\"auto\",\"y_range\":{\"id\":\"05152e49-dc0c-4335-9cff-d11c5a8ab98a\",\"type\":\"Range1d\"}},\"id\":\"801334dc-2761-4c83-b38a-f8b5f48e47cd\",\"subtype\":\"Chart\",\"type\":\"Plot\"},{\"attributes\":{\"active_drag\":\"auto\",\"active_scroll\":\"auto\",\"active_tap\":\"auto\",\"tools\":[{\"id\":\"9e67001d-8edd-445f-961b-071a7747517c\",\"type\":\"PanTool\"},{\"id\":\"cbd62b11-5773-4fbf-a677-21219bffdfbf\",\"type\":\"WheelZoomTool\"},{\"id\":\"6a37d6d7-75b9-42e7-8ef0-1c32fde5b626\",\"type\":\"BoxZoomTool\"},{\"id\":\"e9eacc49-3fc7-4b54-8f9b-a173389efd36\",\"type\":\"SaveTool\"},{\"id\":\"cd0a7a04-efc2-4fc4-aa0d-08f37c82a06d\",\"type\":\"ResetTool\"},{\"id\":\"86e9280c-3300-48f0-8cef-006c9b32df33\",\"type\":\"HelpTool\"},{\"id\":\"e4350952-c045-426c-9313-c2c74da617bd\",\"type\":\"HoverTool\"}]},\"id\":\"86f7aefa-99b0-40b0-a446-9f83216c62de\",\"type\":\"Toolbar\"},{\"attributes\":{\"fill_alpha\":{\"field\":\"fill_alpha\"},\"fill_color\":{\"field\":\"color\"},\"height\":{\"field\":\"height\",\"units\":\"data\"},\"line_color\":{\"field\":\"line_color\"},\"width\":{\"field\":\"width\",\"units\":\"data\"},\"x\":{\"field\":\"x\"},\"y\":{\"field\":\"y\"}},\"id\":\"c2f52945-4b80-41df-bfed-5e100d1491fa\",\"type\":\"Rect\"},{\"attributes\":{\"callback\":null,\"column_names\":[\"height\",\"fill_alpha\",\"width\",\"color\",\"line_color\",\"line_alpha\",\"y\",\"x\",\"label\"],\"data\":{\"TagCount\":[4],\"anscount\":[\"SixMonthsAnsCount\"],\"chart_index\":[{\"TagCount\":4,\"anscount\":\"SixMonthsAnsCount\"}],\"color\":[\"Plum\"],\"fill_alpha\":[0.8],\"height\":[15550.0],\"label\":[{\"TagCount\":4,\"anscount\":\"SixMonthsAnsCount\"}],\"line_alpha\":[1.0],\"line_color\":[\"white\"],\"width\":[0.2],\"x\":[\"4:0.6\"],\"y\":[7775.0]}},\"id\":\"3c9e0edf-dc7c-48b7-92e3-4744169fbf79\",\"type\":\"ColumnDataSource\"},{\"attributes\":{\"plot\":{\"id\":\"801334dc-2761-4c83-b38a-f8b5f48e47cd\",\"subtype\":\"Chart\",\"type\":\"Plot\"}},\"id\":\"86e9280c-3300-48f0-8cef-006c9b32df33\",\"type\":\"HelpTool\"},{\"attributes\":{\"data_source\":{\"id\":\"775157f2-679b-416a-b58f-b502839a82e7\",\"type\":\"ColumnDataSource\"},\"glyph\":{\"id\":\"d4e5433d-92b5-4494-ad52-a8dedb364d43\",\"type\":\"Rect\"},\"hover_glyph\":null,\"nonselection_glyph\":null,\"selection_glyph\":null},\"id\":\"280f9311-7c63-4e61-8e08-431b5fa505d4\",\"type\":\"GlyphRenderer\"},{\"attributes\":{\"plot\":{\"id\":\"801334dc-2761-4c83-b38a-f8b5f48e47cd\",\"subtype\":\"Chart\",\"type\":\"Plot\"}},\"id\":\"9e67001d-8edd-445f-961b-071a7747517c\",\"type\":\"PanTool\"},{\"attributes\":{\"legends\":[[\"FirstWeekAnsCount\",[{\"id\":\"e5314d73-a88e-4b97-bdf6-e4bba552da26\",\"type\":\"GlyphRenderer\"}]],[\"FirstMonthAnsCount\",[{\"id\":\"1e15861a-5ec3-41c4-9060-b6bf387a0b77\",\"type\":\"GlyphRenderer\"}]],[\"SixMonthsAnsCount\",[{\"id\":\"9527e058-8e2b-4abd-afcb-fb7d7ca3f207\",\"type\":\"GlyphRenderer\"}]],[\"MoreMonthsAnsCount\",[{\"id\":\"4de8f2bf-02a4-4190-99f8-b3ea97a27c16\",\"type\":\"GlyphRenderer\"}]]],\"plot\":{\"id\":\"801334dc-2761-4c83-b38a-f8b5f48e47cd\",\"subtype\":\"Chart\",\"type\":\"Plot\"}},\"id\":\"97c98828-4a21-4b5e-a2e0-046ed4d6abdf\",\"type\":\"Legend\"},{\"attributes\":{\"data_source\":{\"id\":\"7c638042-e08f-4507-976a-a29d0f512bc6\",\"type\":\"ColumnDataSource\"},\"glyph\":{\"id\":\"95e3e49b-505f-4b44-9341-1f333d5be5c1\",\"type\":\"Rect\"},\"hover_glyph\":null,\"nonselection_glyph\":null,\"selection_glyph\":null},\"id\":\"d63a2ef2-60a6-4803-be08-574f76a73765\",\"type\":\"GlyphRenderer\"},{\"attributes\":{\"data_source\":{\"id\":\"b6673fee-6755-492c-a40d-400f7ccc8f5d\",\"type\":\"ColumnDataSource\"},\"glyph\":{\"id\":\"59bb7606-35a4-4eb0-ba6c-903ef1d86460\",\"type\":\"Rect\"},\"hover_glyph\":null,\"nonselection_glyph\":null,\"selection_glyph\":null},\"id\":\"9527e058-8e2b-4abd-afcb-fb7d7ca3f207\",\"type\":\"GlyphRenderer\"},{\"attributes\":{\"data_source\":{\"id\":\"0cbb7df8-b6d3-45c6-bde4-1ccb3477f818\",\"type\":\"ColumnDataSource\"},\"glyph\":{\"id\":\"dfdec004-0a02-4d3e-814b-c59653db7095\",\"type\":\"Rect\"},\"hover_glyph\":null,\"nonselection_glyph\":null,\"selection_glyph\":null},\"id\":\"e5314d73-a88e-4b97-bdf6-e4bba552da26\",\"type\":\"GlyphRenderer\"},{\"attributes\":{\"data_source\":{\"id\":\"f783fc12-61f7-4461-9d33-60024a0b36f6\",\"type\":\"ColumnDataSource\"},\"glyph\":{\"id\":\"5ea27e93-13a9-4805-864f-dfd73db62c2f\",\"type\":\"Rect\"},\"hover_glyph\":null,\"nonselection_glyph\":null,\"selection_glyph\":null},\"id\":\"1e15861a-5ec3-41c4-9060-b6bf387a0b77\",\"type\":\"GlyphRenderer\"},{\"attributes\":{\"fill_alpha\":{\"field\":\"fill_alpha\"},\"fill_color\":{\"field\":\"color\"},\"height\":{\"field\":\"height\",\"units\":\"data\"},\"line_color\":{\"field\":\"line_color\"},\"width\":{\"field\":\"width\",\"units\":\"data\"},\"x\":{\"field\":\"x\"},\"y\":{\"field\":\"y\"}},\"id\":\"59bb7606-35a4-4eb0-ba6c-903ef1d86460\",\"type\":\"Rect\"},{\"attributes\":{\"callback\":null,\"column_names\":[\"height\",\"fill_alpha\",\"width\",\"color\",\"line_color\",\"line_alpha\",\"y\",\"x\",\"label\"],\"data\":{\"TagCount\":[1],\"anscount\":[\"FirstMonthAnsCount\"],\"chart_index\":[{\"TagCount\":1,\"anscount\":\"FirstMonthAnsCount\"}],\"color\":[\"DarkSalmon\"],\"fill_alpha\":[0.8],\"height\":[4484.0],\"label\":[{\"TagCount\":1,\"anscount\":\"FirstMonthAnsCount\"}],\"line_alpha\":[1.0],\"line_color\":[\"white\"],\"width\":[0.2],\"x\":[\"1:0.4\"],\"y\":[2242.0]}},\"id\":\"f783fc12-61f7-4461-9d33-60024a0b36f6\",\"type\":\"ColumnDataSource\"},{\"attributes\":{\"callback\":null,\"column_names\":[\"height\",\"fill_alpha\",\"width\",\"color\",\"line_color\",\"line_alpha\",\"y\",\"x\",\"label\"],\"data\":{\"TagCount\":[1],\"anscount\":[\"SixMonthsAnsCount\"],\"chart_index\":[{\"TagCount\":1,\"anscount\":\"SixMonthsAnsCount\"}],\"color\":[\"Plum\"],\"fill_alpha\":[0.8],\"height\":[6391.0],\"label\":[{\"TagCount\":1,\"anscount\":\"SixMonthsAnsCount\"}],\"line_alpha\":[1.0],\"line_color\":[\"white\"],\"width\":[0.2],\"x\":[\"1:0.6\"],\"y\":[3195.5]}},\"id\":\"b6673fee-6755-492c-a40d-400f7ccc8f5d\",\"type\":\"ColumnDataSource\"},{\"attributes\":{\"callback\":null,\"column_names\":[\"height\",\"fill_alpha\",\"width\",\"color\",\"line_color\",\"line_alpha\",\"y\",\"x\",\"label\"],\"data\":{\"TagCount\":[2],\"anscount\":[\"FirstWeekAnsCount\"],\"chart_index\":[{\"TagCount\":2,\"anscount\":\"FirstWeekAnsCount\"}],\"color\":[\"Turquoise\"],\"fill_alpha\":[0.8],\"height\":[436141.0],\"label\":[{\"TagCount\":2,\"anscount\":\"FirstWeekAnsCount\"}],\"line_alpha\":[1.0],\"line_color\":[\"white\"],\"width\":[0.2],\"x\":[\"2:0.2\"],\"y\":[218070.5]}},\"id\":\"48a042b2-dd3d-4c69-b1a4-73bf49f23c92\",\"type\":\"ColumnDataSource\"},{\"attributes\":{\"fill_alpha\":{\"field\":\"fill_alpha\"},\"fill_color\":{\"field\":\"color\"},\"height\":{\"field\":\"height\",\"units\":\"data\"},\"line_color\":{\"field\":\"line_color\"},\"width\":{\"field\":\"width\",\"units\":\"data\"},\"x\":{\"field\":\"x\"},\"y\":{\"field\":\"y\"}},\"id\":\"7c0fcde5-2314-4c30-89de-c5dad492ea47\",\"type\":\"Rect\"},{\"attributes\":{\"data_source\":{\"id\":\"dc8e9312-5923-4791-a48a-71cff4a9a710\",\"type\":\"ColumnDataSource\"},\"glyph\":{\"id\":\"c2f52945-4b80-41df-bfed-5e100d1491fa\",\"type\":\"Rect\"},\"hover_glyph\":null,\"nonselection_glyph\":null,\"selection_glyph\":null},\"id\":\"36a378e4-120b-4d21-a4c5-321aa3a13513\",\"type\":\"GlyphRenderer\"},{\"attributes\":{\"bottom_units\":\"screen\",\"fill_alpha\":{\"value\":0.5},\"fill_color\":{\"value\":\"lightgrey\"},\"left_units\":\"screen\",\"level\":\"overlay\",\"line_alpha\":{\"value\":1.0},\"line_color\":{\"value\":\"black\"},\"line_dash\":[4,4],\"line_width\":{\"value\":2},\"plot\":null,\"render_mode\":\"css\",\"right_units\":\"screen\",\"top_units\":\"screen\"},\"id\":\"aa88a083-b3b0-4430-ab85-1d2516e3607f\",\"type\":\"BoxAnnotation\"},{\"attributes\":{\"callback\":null,\"column_names\":[\"height\",\"fill_alpha\",\"width\",\"color\",\"line_color\",\"line_alpha\",\"y\",\"x\",\"label\"],\"data\":{\"TagCount\":[4],\"anscount\":[\"FirstMonthAnsCount\"],\"chart_index\":[{\"TagCount\":4,\"anscount\":\"FirstMonthAnsCount\"}],\"color\":[\"DarkSalmon\"],\"fill_alpha\":[0.8],\"height\":[11668.0],\"label\":[{\"TagCount\":4,\"anscount\":\"FirstMonthAnsCount\"}],\"line_alpha\":[1.0],\"line_color\":[\"white\"],\"width\":[0.2],\"x\":[\"4:0.4\"],\"y\":[5834.0]}},\"id\":\"dc8e9312-5923-4791-a48a-71cff4a9a710\",\"type\":\"ColumnDataSource\"},{\"attributes\":{\"data_source\":{\"id\":\"42446233-6a63-459f-8488-e449635de476\",\"type\":\"ColumnDataSource\"},\"glyph\":{\"id\":\"45cc34fc-6d1b-4547-a645-2ddb5d646113\",\"type\":\"Rect\"},\"hover_glyph\":null,\"nonselection_glyph\":null,\"selection_glyph\":null},\"id\":\"ef29dc46-e26a-4f2e-9860-21bc46ddca42\",\"type\":\"GlyphRenderer\"},{\"attributes\":{\"callback\":null,\"factors\":[\"1\",\"2\",\"3\",\"4\",\"5\"]},\"id\":\"5922a6e2-4c26-4237-a6e6-328cd1af2ef1\",\"type\":\"FactorRange\"},{\"attributes\":{\"data_source\":{\"id\":\"bf1e2af0-6dd7-4a4e-b038-77f55903b2b6\",\"type\":\"ColumnDataSource\"},\"glyph\":{\"id\":\"0f97f2a7-d715-454e-953d-11eab0f43a29\",\"type\":\"Rect\"},\"hover_glyph\":null,\"nonselection_glyph\":null,\"selection_glyph\":null},\"id\":\"ee83e013-73ca-465d-805a-8de61dbe6042\",\"type\":\"GlyphRenderer\"},{\"attributes\":{\"data_source\":{\"id\":\"fc4febfa-12e5-4609-863c-5e9ac7b7ff94\",\"type\":\"ColumnDataSource\"},\"glyph\":{\"id\":\"cbf8c0f6-cd6d-470f-b419-83badf067ab7\",\"type\":\"Rect\"},\"hover_glyph\":null,\"nonselection_glyph\":null,\"selection_glyph\":null},\"id\":\"cf0c7e2a-ac6f-4202-9ab4-62e3b1089093\",\"type\":\"GlyphRenderer\"},{\"attributes\":{\"data_source\":{\"id\":\"b1cc3d3f-1c7d-47f8-b01d-a86985b73133\",\"type\":\"ColumnDataSource\"},\"glyph\":{\"id\":\"a17a9199-79e3-4889-8b0b-f7b0c99e854f\",\"type\":\"Rect\"},\"hover_glyph\":null,\"nonselection_glyph\":null,\"selection_glyph\":null},\"id\":\"77cb37c6-e58e-4763-902b-778ce6508b2e\",\"type\":\"GlyphRenderer\"},{\"attributes\":{},\"id\":\"43a52c65-3668-4661-8c63-4ff7a26de215\",\"type\":\"BasicTickFormatter\"},{\"attributes\":{\"data_source\":{\"id\":\"3bda58fb-2199-4255-b2f2-1e473616168a\",\"type\":\"ColumnDataSource\"},\"glyph\":{\"id\":\"c94a1d28-0040-4ead-b649-66ada0de05c9\",\"type\":\"Rect\"},\"hover_glyph\":null,\"nonselection_glyph\":null,\"selection_glyph\":null},\"id\":\"9e0dbefc-4a68-4f66-b58e-c6549349e7e2\",\"type\":\"GlyphRenderer\"},{\"attributes\":{\"data_source\":{\"id\":\"61a22737-3951-4f03-8e96-5f9558b2ea4a\",\"type\":\"ColumnDataSource\"},\"glyph\":{\"id\":\"33fcca51-a018-4b26-aed1-2f152eb807f3\",\"type\":\"Rect\"},\"hover_glyph\":null,\"nonselection_glyph\":null,\"selection_glyph\":null},\"id\":\"3f8d1009-0a37-4eaa-a8f7-1476e3e41068\",\"type\":\"GlyphRenderer\"},{\"attributes\":{\"fill_alpha\":{\"field\":\"fill_alpha\"},\"fill_color\":{\"field\":\"color\"},\"height\":{\"field\":\"height\",\"units\":\"data\"},\"line_color\":{\"field\":\"line_color\"},\"width\":{\"field\":\"width\",\"units\":\"data\"},\"x\":{\"field\":\"x\"},\"y\":{\"field\":\"y\"}},\"id\":\"5ea27e93-13a9-4805-864f-dfd73db62c2f\",\"type\":\"Rect\"},{\"attributes\":{\"callback\":null,\"column_names\":[\"height\",\"fill_alpha\",\"width\",\"color\",\"line_color\",\"line_alpha\",\"y\",\"x\",\"label\"],\"data\":{\"TagCount\":[5],\"anscount\":[\"SixMonthsAnsCount\"],\"chart_index\":[{\"TagCount\":5,\"anscount\":\"SixMonthsAnsCount\"}],\"color\":[\"Plum\"],\"fill_alpha\":[0.8],\"height\":[11019.0],\"label\":[{\"TagCount\":5,\"anscount\":\"SixMonthsAnsCount\"}],\"line_alpha\":[1.0],\"line_color\":[\"white\"],\"width\":[0.2],\"x\":[\"5:0.6\"],\"y\":[5509.5]}},\"id\":\"b1cc3d3f-1c7d-47f8-b01d-a86985b73133\",\"type\":\"ColumnDataSource\"},{\"attributes\":{},\"id\":\"7e2535f4-0ca7-4d15-b641-36a0e591c851\",\"type\":\"BasicTicker\"},{\"attributes\":{\"callback\":null,\"column_names\":[\"height\",\"fill_alpha\",\"width\",\"color\",\"line_color\",\"line_alpha\",\"y\",\"x\",\"label\"],\"data\":{\"TagCount\":[3],\"anscount\":[\"FirstMonthAnsCount\"],\"chart_index\":[{\"TagCount\":3,\"anscount\":\"FirstMonthAnsCount\"}],\"color\":[\"DarkSalmon\"],\"fill_alpha\":[0.8],\"height\":[14892.0],\"label\":[{\"TagCount\":3,\"anscount\":\"FirstMonthAnsCount\"}],\"line_alpha\":[1.0],\"line_color\":[\"white\"],\"width\":[0.2],\"x\":[\"3:0.4\"],\"y\":[7446.0]}},\"id\":\"775157f2-679b-416a-b58f-b502839a82e7\",\"type\":\"ColumnDataSource\"},{\"attributes\":{\"fill_alpha\":{\"field\":\"fill_alpha\"},\"fill_color\":{\"field\":\"color\"},\"height\":{\"field\":\"height\",\"units\":\"data\"},\"line_color\":{\"field\":\"line_color\"},\"width\":{\"field\":\"width\",\"units\":\"data\"},\"x\":{\"field\":\"x\"},\"y\":{\"field\":\"y\"}},\"id\":\"45cc34fc-6d1b-4547-a645-2ddb5d646113\",\"type\":\"Rect\"},{\"attributes\":{\"fill_alpha\":{\"field\":\"fill_alpha\"},\"fill_color\":{\"field\":\"color\"},\"height\":{\"field\":\"height\",\"units\":\"data\"},\"line_color\":{\"field\":\"line_color\"},\"width\":{\"field\":\"width\",\"units\":\"data\"},\"x\":{\"field\":\"x\"},\"y\":{\"field\":\"y\"}},\"id\":\"85b16e18-6c1a-4012-88eb-5bc15cdacdfb\",\"type\":\"Rect\"},{\"attributes\":{\"data_source\":{\"id\":\"3c9e0edf-dc7c-48b7-92e3-4744169fbf79\",\"type\":\"ColumnDataSource\"},\"glyph\":{\"id\":\"b6ee00c7-ccae-4398-ba59-6de0d326542f\",\"type\":\"Rect\"},\"hover_glyph\":null,\"nonselection_glyph\":null,\"selection_glyph\":null},\"id\":\"5c230909-f4c9-4d1a-9221-be10f961d459\",\"type\":\"GlyphRenderer\"},{\"attributes\":{\"callback\":null,\"column_names\":[\"height\",\"fill_alpha\",\"width\",\"color\",\"line_color\",\"line_alpha\",\"y\",\"x\",\"label\"],\"data\":{\"TagCount\":[5],\"anscount\":[\"MoreMonthsAnsCount\"],\"chart_index\":[{\"TagCount\":5,\"anscount\":\"MoreMonthsAnsCount\"}],\"color\":[\"Gold\"],\"fill_alpha\":[0.8],\"height\":[20928.0],\"label\":[{\"TagCount\":5,\"anscount\":\"MoreMonthsAnsCount\"}],\"line_alpha\":[1.0],\"line_color\":[\"white\"],\"width\":[0.2],\"x\":[\"5:0.8\"],\"y\":[10464.0]}},\"id\":\"fc4febfa-12e5-4609-863c-5e9ac7b7ff94\",\"type\":\"ColumnDataSource\"},{\"attributes\":{\"callback\":null,\"column_names\":[\"height\",\"fill_alpha\",\"width\",\"color\",\"line_color\",\"line_alpha\",\"y\",\"x\",\"label\"],\"data\":{\"TagCount\":[5],\"anscount\":[\"FirstWeekAnsCount\"],\"chart_index\":[{\"TagCount\":5,\"anscount\":\"FirstWeekAnsCount\"}],\"color\":[\"Turquoise\"],\"fill_alpha\":[0.8],\"height\":[193856.0],\"label\":[{\"TagCount\":5,\"anscount\":\"FirstWeekAnsCount\"}],\"line_alpha\":[1.0],\"line_color\":[\"white\"],\"width\":[0.2],\"x\":[\"5:0.2\"],\"y\":[96928.0]}},\"id\":\"3bda58fb-2199-4255-b2f2-1e473616168a\",\"type\":\"ColumnDataSource\"},{\"attributes\":{\"plot\":{\"id\":\"801334dc-2761-4c83-b38a-f8b5f48e47cd\",\"subtype\":\"Chart\",\"type\":\"Plot\"}},\"id\":\"cd0a7a04-efc2-4fc4-aa0d-08f37c82a06d\",\"type\":\"ResetTool\"},{\"attributes\":{\"axis_label\":\"No. of Answers Received within 1st Week/Month of Posting\",\"formatter\":{\"id\":\"43a52c65-3668-4661-8c63-4ff7a26de215\",\"type\":\"BasicTickFormatter\"},\"plot\":{\"id\":\"801334dc-2761-4c83-b38a-f8b5f48e47cd\",\"subtype\":\"Chart\",\"type\":\"Plot\"},\"ticker\":{\"id\":\"7e2535f4-0ca7-4d15-b641-36a0e591c851\",\"type\":\"BasicTicker\"}},\"id\":\"10786b1a-9823-4fb4-b3ef-97d1f8abc854\",\"type\":\"LinearAxis\"},{\"attributes\":{\"overlay\":{\"id\":\"aa88a083-b3b0-4430-ab85-1d2516e3607f\",\"type\":\"BoxAnnotation\"},\"plot\":{\"id\":\"801334dc-2761-4c83-b38a-f8b5f48e47cd\",\"subtype\":\"Chart\",\"type\":\"Plot\"}},\"id\":\"6a37d6d7-75b9-42e7-8ef0-1c32fde5b626\",\"type\":\"BoxZoomTool\"},{\"attributes\":{\"dimension\":1,\"plot\":{\"id\":\"801334dc-2761-4c83-b38a-f8b5f48e47cd\",\"subtype\":\"Chart\",\"type\":\"Plot\"},\"ticker\":{\"id\":\"7e2535f4-0ca7-4d15-b641-36a0e591c851\",\"type\":\"BasicTicker\"}},\"id\":\"105dfea9-7b24-4820-b658-d727a2b0107b\",\"type\":\"Grid\"},{\"attributes\":{\"fill_alpha\":{\"field\":\"fill_alpha\"},\"fill_color\":{\"field\":\"color\"},\"height\":{\"field\":\"height\",\"units\":\"data\"},\"line_color\":{\"field\":\"line_color\"},\"width\":{\"field\":\"width\",\"units\":\"data\"},\"x\":{\"field\":\"x\"},\"y\":{\"field\":\"y\"}},\"id\":\"d4e5433d-92b5-4494-ad52-a8dedb364d43\",\"type\":\"Rect\"},{\"attributes\":{\"callback\":null,\"column_names\":[\"height\",\"fill_alpha\",\"width\",\"color\",\"line_color\",\"line_alpha\",\"y\",\"x\",\"label\"],\"data\":{\"TagCount\":[3],\"anscount\":[\"FirstWeekAnsCount\"],\"chart_index\":[{\"TagCount\":3,\"anscount\":\"FirstWeekAnsCount\"}],\"color\":[\"Turquoise\"],\"fill_alpha\":[0.8],\"height\":[471743.0],\"label\":[{\"TagCount\":3,\"anscount\":\"FirstWeekAnsCount\"}],\"line_alpha\":[1.0],\"line_color\":[\"white\"],\"width\":[0.2],\"x\":[\"3:0.2\"],\"y\":[235871.5]}},\"id\":\"c9fd47e0-4a85-42a5-b076-341e0ef94fe1\",\"type\":\"ColumnDataSource\"},{\"attributes\":{\"fill_alpha\":{\"field\":\"fill_alpha\"},\"fill_color\":{\"field\":\"color\"},\"height\":{\"field\":\"height\",\"units\":\"data\"},\"line_color\":{\"field\":\"line_color\"},\"width\":{\"field\":\"width\",\"units\":\"data\"},\"x\":{\"field\":\"x\"},\"y\":{\"field\":\"y\"}},\"id\":\"dfdec004-0a02-4d3e-814b-c59653db7095\",\"type\":\"Rect\"},{\"attributes\":{\"plot\":{\"id\":\"801334dc-2761-4c83-b38a-f8b5f48e47cd\",\"subtype\":\"Chart\",\"type\":\"Plot\"}},\"id\":\"e9eacc49-3fc7-4b54-8f9b-a173389efd36\",\"type\":\"SaveTool\"},{\"attributes\":{\"data_source\":{\"id\":\"5c17f973-508a-46b1-9478-33c5173c8801\",\"type\":\"ColumnDataSource\"},\"glyph\":{\"id\":\"0ba52ee9-83f6-48ba-bf12-e7157479b964\",\"type\":\"Rect\"},\"hover_glyph\":null,\"nonselection_glyph\":null,\"selection_glyph\":null},\"id\":\"720652e7-a8fe-4fcf-bb9d-d9f8010813ca\",\"type\":\"GlyphRenderer\"},{\"attributes\":{\"callback\":null,\"column_names\":[\"height\",\"fill_alpha\",\"width\",\"color\",\"line_color\",\"line_alpha\",\"y\",\"x\",\"label\"],\"data\":{\"TagCount\":[4],\"anscount\":[\"FirstWeekAnsCount\"],\"chart_index\":[{\"TagCount\":4,\"anscount\":\"FirstWeekAnsCount\"}],\"color\":[\"Turquoise\"],\"fill_alpha\":[0.8],\"height\":[316804.0],\"label\":[{\"TagCount\":4,\"anscount\":\"FirstWeekAnsCount\"}],\"line_alpha\":[1.0],\"line_color\":[\"white\"],\"width\":[0.2],\"x\":[\"4:0.2\"],\"y\":[158402.0]}},\"id\":\"b78cc816-7cc5-48ae-83d6-e8ff1bb4e73a\",\"type\":\"ColumnDataSource\"},{\"attributes\":{\"callback\":null,\"column_names\":[\"height\",\"fill_alpha\",\"width\",\"color\",\"line_color\",\"line_alpha\",\"y\",\"x\",\"label\"],\"data\":{\"TagCount\":[2],\"anscount\":[\"FirstMonthAnsCount\"],\"chart_index\":[{\"TagCount\":2,\"anscount\":\"FirstMonthAnsCount\"}],\"color\":[\"DarkSalmon\"],\"fill_alpha\":[0.8],\"height\":[10806.0],\"label\":[{\"TagCount\":2,\"anscount\":\"FirstMonthAnsCount\"}],\"line_alpha\":[1.0],\"line_color\":[\"white\"],\"width\":[0.2],\"x\":[\"2:0.4\"],\"y\":[5403.0]}},\"id\":\"7c638042-e08f-4507-976a-a29d0f512bc6\",\"type\":\"ColumnDataSource\"},{\"attributes\":{},\"id\":\"87705228-114a-4e85-b5b0-2183a7c2711e\",\"type\":\"ToolEvents\"},{\"attributes\":{\"axis_label\":\"No. of Tags Used in Questions\",\"formatter\":{\"id\":\"09a57f37-062b-449d-a65b-fe4f013f8104\",\"type\":\"CategoricalTickFormatter\"},\"major_label_orientation\":0.7853981633974483,\"plot\":{\"id\":\"801334dc-2761-4c83-b38a-f8b5f48e47cd\",\"subtype\":\"Chart\",\"type\":\"Plot\"},\"ticker\":{\"id\":\"c4ddeb0b-0df4-4e94-bab5-33830a20e1f2\",\"type\":\"CategoricalTicker\"}},\"id\":\"af619d70-c641-4979-9d8e-e1d02ddb315c\",\"type\":\"CategoricalAxis\"},{\"attributes\":{},\"id\":\"c4ddeb0b-0df4-4e94-bab5-33830a20e1f2\",\"type\":\"CategoricalTicker\"},{\"attributes\":{},\"id\":\"09a57f37-062b-449d-a65b-fe4f013f8104\",\"type\":\"CategoricalTickFormatter\"},{\"attributes\":{\"fill_alpha\":{\"field\":\"fill_alpha\"},\"fill_color\":{\"field\":\"color\"},\"height\":{\"field\":\"height\",\"units\":\"data\"},\"line_color\":{\"field\":\"line_color\"},\"width\":{\"field\":\"width\",\"units\":\"data\"},\"x\":{\"field\":\"x\"},\"y\":{\"field\":\"y\"}},\"id\":\"91d941e0-fd58-4ec6-a950-67bcd41627cb\",\"type\":\"Rect\"},{\"attributes\":{\"callback\":null,\"end\":495330.15},\"id\":\"05152e49-dc0c-4335-9cff-d11c5a8ab98a\",\"type\":\"Range1d\"},{\"attributes\":{\"data_source\":{\"id\":\"48a042b2-dd3d-4c69-b1a4-73bf49f23c92\",\"type\":\"ColumnDataSource\"},\"glyph\":{\"id\":\"b982eae0-6bf2-410e-984f-2f0885436f3e\",\"type\":\"Rect\"},\"hover_glyph\":null,\"nonselection_glyph\":null,\"selection_glyph\":null},\"id\":\"d1965dd8-05e7-464c-90be-6a91083b845d\",\"type\":\"GlyphRenderer\"},{\"attributes\":{\"data_source\":{\"id\":\"80664cbf-c681-466e-aeaf-b43197ac4434\",\"type\":\"ColumnDataSource\"},\"glyph\":{\"id\":\"7c0fcde5-2314-4c30-89de-c5dad492ea47\",\"type\":\"Rect\"},\"hover_glyph\":null,\"nonselection_glyph\":null,\"selection_glyph\":null},\"id\":\"1e50ff53-2a5c-403a-84f7-2ac7be42070b\",\"type\":\"GlyphRenderer\"},{\"attributes\":{\"data_source\":{\"id\":\"ce88cda5-b931-4330-b207-fe1de723b3d9\",\"type\":\"ColumnDataSource\"},\"glyph\":{\"id\":\"91d941e0-fd58-4ec6-a950-67bcd41627cb\",\"type\":\"Rect\"},\"hover_glyph\":null,\"nonselection_glyph\":null,\"selection_glyph\":null},\"id\":\"b8d3f323-574a-4d3b-9c46-edcdc44088fa\",\"type\":\"GlyphRenderer\"}],\"root_ids\":[\"801334dc-2761-4c83-b38a-f8b5f48e47cd\"]},\"title\":\"Bokeh Application\",\"version\":\"0.12.2\"}};\n",
       "            var render_items = [{\"docid\":\"d7168d7a-096b-4c28-a397-f01a1168ea6c\",\"elementid\":\"a284d3ef-8688-4026-a2e0-b58604dbfdce\",\"modelid\":\"801334dc-2761-4c83-b38a-f8b5f48e47cd\"}];\n",
       "            \n",
       "            Bokeh.embed.embed_items(docs_json, render_items);\n",
       "        });\n",
       "      },\n",
       "      function(Bokeh) {\n",
       "      }\n",
       "    ];\n",
       "  \n",
       "    function run_inline_js() {\n",
       "      \n",
       "      if ((window.Bokeh !== undefined) || (force === \"1\")) {\n",
       "        for (var i = 0; i < inline_js.length; i++) {\n",
       "          inline_js[i](window.Bokeh);\n",
       "        }if (force === \"1\") {\n",
       "          display_loaded();\n",
       "        }} else if (Date.now() < window._bokeh_timeout) {\n",
       "        setTimeout(run_inline_js, 100);\n",
       "      } else if (!window._bokeh_failed_load) {\n",
       "        console.log(\"Bokeh: BokehJS failed to load within specified timeout.\");\n",
       "        window._bokeh_failed_load = true;\n",
       "      } else if (!force) {\n",
       "        var cell = $(\"#a284d3ef-8688-4026-a2e0-b58604dbfdce\").parents('.cell').data().cell;\n",
       "        cell.output_area.append_execute_result(NB_LOAD_WARNING)\n",
       "      }\n",
       "  \n",
       "    }\n",
       "  \n",
       "    if (window._bokeh_is_loading === 0) {\n",
       "      console.log(\"Bokeh: BokehJS loaded, going straight to plotting\");\n",
       "      run_inline_js();\n",
       "    } else {\n",
       "      load_libs(js_urls, function() {\n",
       "        console.log(\"Bokeh: BokehJS plotting callback run at\", now());\n",
       "        run_inline_js();\n",
       "      });\n",
       "    }\n",
       "  }(this));\n",
       "</script>"
      ]
     },
     "metadata": {},
     "output_type": "display_data"
    }
   ],
   "source": [
    "%matplotlib inline\n",
    "from bokeh.charts import Bar, output_notebook, show\n",
    "from bokeh.charts.attributes import cat, color\n",
    "from bokeh.charts.operations import blend\n",
    "\n",
    "ansCount = ansCount[ansCount['total'] > 0]\n",
    "ansCount = ansCount.sort_values('TagCount', ascending=True)\n",
    "\n",
    "bar10 = Bar(ansCount,\n",
    "          values=blend('FirstWeekAnsCount', 'FirstMonthAnsCount', 'SixMonthsAnsCount', 'MoreMonthsAnsCount', name='anscounts', labels_name='anscount'),\n",
    "          label=cat(columns='TagCount', sort=False),\n",
    "          group=cat(columns='anscount', sort=False),\n",
    "          color=color(columns='anscount', palette=['Turquoise','DarkSalmon','Plum','Gold'],\n",
    "                      sort=False),\n",
    "          legend='top_right',\n",
    "          title=\"No. of Answers Received vs No. of Tags Used\",\n",
    "          tooltips=[('No. of Tags Used', '@TagCount'), \n",
    "                    ('No. of Answers Received', '@height')\n",
    "                   ])\n",
    "\n",
    "bar10.xaxis.axis_label = 'No. of Tags Used in Questions'\n",
    "bar10.yaxis.axis_label = 'No. of Answers Received within 1st Week/Month of Posting'\n",
    "        \n",
    "output_notebook()\n",
    "\n",
    "show(bar10)"
   ]
  },
  {
   "cell_type": "code",
   "execution_count": null,
   "metadata": {
    "collapsed": true
   },
   "outputs": [],
   "source": []
  }
 ],
 "metadata": {
  "anaconda-cloud": {},
  "kernelspec": {
   "display_name": "Python [default]",
   "language": "python",
   "name": "python3"
  },
  "language_info": {
   "codemirror_mode": {
    "name": "ipython",
    "version": 3
   },
   "file_extension": ".py",
   "mimetype": "text/x-python",
   "name": "python",
   "nbconvert_exporter": "python",
   "pygments_lexer": "ipython3",
   "version": "3.5.2"
  }
 },
 "nbformat": 4,
 "nbformat_minor": 1
}
